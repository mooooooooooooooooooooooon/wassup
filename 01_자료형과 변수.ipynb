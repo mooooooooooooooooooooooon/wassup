{
 "cells": [
  {
   "cell_type": "markdown",
   "id": "720e3514",
   "metadata": {},
   "source": [
    "# 숫자형"
   ]
  },
  {
   "cell_type": "markdown",
   "id": "17b5a342",
   "metadata": {},
   "source": [
    "## 정수형"
   ]
  },
  {
   "cell_type": "code",
   "execution_count": 5,
   "id": "d6a909c2",
   "metadata": {
    "ExecuteTime": {
     "end_time": "2023-11-23T02:19:06.252839Z",
     "start_time": "2023-11-23T02:19:06.248865Z"
    }
   },
   "outputs": [],
   "source": [
    "a = 123"
   ]
  },
  {
   "cell_type": "code",
   "execution_count": 6,
   "id": "855707f4",
   "metadata": {
    "ExecuteTime": {
     "end_time": "2023-11-23T02:19:08.351153Z",
     "start_time": "2023-11-23T02:19:08.344569Z"
    }
   },
   "outputs": [
    {
     "data": {
      "text/plain": [
       "123"
      ]
     },
     "execution_count": 6,
     "metadata": {},
     "output_type": "execute_result"
    }
   ],
   "source": [
    "a"
   ]
  },
  {
   "cell_type": "code",
   "execution_count": 7,
   "id": "c4f3169f",
   "metadata": {
    "ExecuteTime": {
     "end_time": "2023-11-23T02:20:54.103219Z",
     "start_time": "2023-11-23T02:20:54.097172Z"
    }
   },
   "outputs": [
    {
     "data": {
      "text/plain": [
       "-1654"
      ]
     },
     "execution_count": 7,
     "metadata": {},
     "output_type": "execute_result"
    }
   ],
   "source": [
    "a = -1654\n",
    "a"
   ]
  },
  {
   "cell_type": "code",
   "execution_count": 8,
   "id": "d139eb64",
   "metadata": {
    "ExecuteTime": {
     "end_time": "2023-11-23T02:20:56.838968Z",
     "start_time": "2023-11-23T02:20:56.832200Z"
    }
   },
   "outputs": [
    {
     "data": {
      "text/plain": [
       "0"
      ]
     },
     "execution_count": 8,
     "metadata": {},
     "output_type": "execute_result"
    }
   ],
   "source": [
    "a = 0\n",
    "a"
   ]
  },
  {
   "cell_type": "markdown",
   "id": "c0be74b4",
   "metadata": {},
   "source": [
    "## 실수형"
   ]
  },
  {
   "cell_type": "code",
   "execution_count": 9,
   "id": "10769c29",
   "metadata": {
    "ExecuteTime": {
     "end_time": "2023-11-23T02:21:22.718863Z",
     "start_time": "2023-11-23T02:21:22.712961Z"
    }
   },
   "outputs": [
    {
     "data": {
      "text/plain": [
       "1.2"
      ]
     },
     "execution_count": 9,
     "metadata": {},
     "output_type": "execute_result"
    }
   ],
   "source": [
    "a = 1.2\n",
    "a"
   ]
  },
  {
   "cell_type": "code",
   "execution_count": 10,
   "id": "e74c2661",
   "metadata": {
    "ExecuteTime": {
     "end_time": "2023-11-23T02:21:28.766674Z",
     "start_time": "2023-11-23T02:21:28.760793Z"
    }
   },
   "outputs": [
    {
     "data": {
      "text/plain": [
       "-3.14"
      ]
     },
     "execution_count": 10,
     "metadata": {},
     "output_type": "execute_result"
    }
   ],
   "source": [
    "a = -3.14\n",
    "a"
   ]
  },
  {
   "cell_type": "code",
   "execution_count": 1,
   "id": "2f015444",
   "metadata": {
    "ExecuteTime": {
     "end_time": "2023-11-23T08:06:21.737162Z",
     "start_time": "2023-11-23T08:06:21.727658Z"
    }
   },
   "outputs": [
    {
     "data": {
      "text/plain": [
       "42400000000.0"
      ]
     },
     "execution_count": 1,
     "metadata": {},
     "output_type": "execute_result"
    }
   ],
   "source": [
    "a = 4.24E10 # 4.24 * 10^10\n",
    "a"
   ]
  },
  {
   "cell_type": "code",
   "execution_count": 2,
   "id": "f569689d",
   "metadata": {
    "ExecuteTime": {
     "end_time": "2023-11-23T08:06:31.850054Z",
     "start_time": "2023-11-23T08:06:31.843762Z"
    }
   },
   "outputs": [
    {
     "data": {
      "text/plain": [
       "4.24e-10"
      ]
     },
     "execution_count": 2,
     "metadata": {},
     "output_type": "execute_result"
    }
   ],
   "source": [
    "a = 4.24E-10\n",
    "a"
   ]
  },
  {
   "cell_type": "code",
   "execution_count": 3,
   "id": "65f873be",
   "metadata": {
    "ExecuteTime": {
     "end_time": "2023-11-23T08:06:47.354490Z",
     "start_time": "2023-11-23T08:06:47.348640Z"
    }
   },
   "outputs": [
    {
     "data": {
      "text/plain": [
       "float"
      ]
     },
     "execution_count": 3,
     "metadata": {},
     "output_type": "execute_result"
    }
   ],
   "source": [
    "type(a)"
   ]
  },
  {
   "cell_type": "code",
   "execution_count": 15,
   "id": "89a8f63f",
   "metadata": {
    "ExecuteTime": {
     "end_time": "2023-11-23T02:23:25.687505Z",
     "start_time": "2023-11-23T02:23:25.680961Z"
    }
   },
   "outputs": [
    {
     "data": {
      "text/plain": [
       "127"
      ]
     },
     "execution_count": 15,
     "metadata": {},
     "output_type": "execute_result"
    }
   ],
   "source": [
    "a = 0o177\n",
    "a"
   ]
  },
  {
   "cell_type": "code",
   "execution_count": 16,
   "id": "e6b731d7",
   "metadata": {
    "ExecuteTime": {
     "end_time": "2023-11-23T02:23:30.935554Z",
     "start_time": "2023-11-23T02:23:30.929586Z"
    }
   },
   "outputs": [
    {
     "data": {
      "text/plain": [
       "int"
      ]
     },
     "execution_count": 16,
     "metadata": {},
     "output_type": "execute_result"
    }
   ],
   "source": [
    "type(a)"
   ]
  },
  {
   "cell_type": "code",
   "execution_count": 17,
   "id": "6927516f",
   "metadata": {
    "ExecuteTime": {
     "end_time": "2023-11-23T02:24:03.752374Z",
     "start_time": "2023-11-23T02:24:03.746419Z"
    }
   },
   "outputs": [
    {
     "data": {
      "text/plain": [
       "2303"
      ]
     },
     "execution_count": 17,
     "metadata": {},
     "output_type": "execute_result"
    }
   ],
   "source": [
    "a = 0x8ff\n",
    "a"
   ]
  },
  {
   "cell_type": "markdown",
   "id": "38b82808",
   "metadata": {},
   "source": [
    "## 사칙연산"
   ]
  },
  {
   "cell_type": "code",
   "execution_count": 18,
   "id": "5c3795fa",
   "metadata": {
    "ExecuteTime": {
     "end_time": "2023-11-23T02:24:19.600844Z",
     "start_time": "2023-11-23T02:24:19.594912Z"
    }
   },
   "outputs": [
    {
     "data": {
      "text/plain": [
       "7"
      ]
     },
     "execution_count": 18,
     "metadata": {},
     "output_type": "execute_result"
    }
   ],
   "source": [
    "a = 3\n",
    "b = 4\n",
    "a+b"
   ]
  },
  {
   "cell_type": "code",
   "execution_count": 19,
   "id": "650bd3b0",
   "metadata": {
    "ExecuteTime": {
     "end_time": "2023-11-23T02:25:02.439534Z",
     "start_time": "2023-11-23T02:25:02.434158Z"
    }
   },
   "outputs": [
    {
     "data": {
      "text/plain": [
       "12"
      ]
     },
     "execution_count": 19,
     "metadata": {},
     "output_type": "execute_result"
    }
   ],
   "source": [
    "a * b"
   ]
  },
  {
   "cell_type": "code",
   "execution_count": 20,
   "id": "30351891",
   "metadata": {
    "ExecuteTime": {
     "end_time": "2023-11-23T02:25:46.840049Z",
     "start_time": "2023-11-23T02:25:46.834415Z"
    }
   },
   "outputs": [
    {
     "data": {
      "text/plain": [
       "0.75"
      ]
     },
     "execution_count": 20,
     "metadata": {},
     "output_type": "execute_result"
    }
   ],
   "source": [
    "a / b"
   ]
  },
  {
   "cell_type": "code",
   "execution_count": 22,
   "id": "2af87a52",
   "metadata": {
    "ExecuteTime": {
     "end_time": "2023-11-23T02:27:42.649083Z",
     "start_time": "2023-11-23T02:27:42.641851Z"
    }
   },
   "outputs": [
    {
     "data": {
      "text/plain": [
       "81"
      ]
     },
     "execution_count": 22,
     "metadata": {},
     "output_type": "execute_result"
    }
   ],
   "source": [
    "# x 의 y 제곱\n",
    "a ** b"
   ]
  },
  {
   "cell_type": "code",
   "execution_count": 2,
   "id": "b29464f3",
   "metadata": {
    "ExecuteTime": {
     "end_time": "2023-11-25T02:47:18.821947Z",
     "start_time": "2023-11-25T02:47:18.810164Z"
    }
   },
   "outputs": [
    {
     "data": {
      "text/plain": [
       "1"
      ]
     },
     "execution_count": 2,
     "metadata": {},
     "output_type": "execute_result"
    }
   ],
   "source": [
    "# 나눗셈 나머지 반환 %\n",
    "7 % 3"
   ]
  },
  {
   "cell_type": "code",
   "execution_count": 3,
   "id": "6ad2f374",
   "metadata": {
    "ExecuteTime": {
     "end_time": "2023-11-25T02:47:25.304940Z",
     "start_time": "2023-11-25T02:47:25.299213Z"
    }
   },
   "outputs": [
    {
     "data": {
      "text/plain": [
       "3"
      ]
     },
     "execution_count": 3,
     "metadata": {},
     "output_type": "execute_result"
    }
   ],
   "source": [
    "3 % 7"
   ]
  },
  {
   "cell_type": "code",
   "execution_count": 4,
   "id": "7b0da6f8",
   "metadata": {
    "ExecuteTime": {
     "end_time": "2023-11-25T02:47:36.904363Z",
     "start_time": "2023-11-25T02:47:36.899149Z"
    }
   },
   "outputs": [
    {
     "data": {
      "text/plain": [
       "1.75"
      ]
     },
     "execution_count": 4,
     "metadata": {},
     "output_type": "execute_result"
    }
   ],
   "source": [
    "7 /4"
   ]
  },
  {
   "cell_type": "code",
   "execution_count": 28,
   "id": "9c97c9d8",
   "metadata": {
    "ExecuteTime": {
     "end_time": "2023-11-23T02:30:10.186574Z",
     "start_time": "2023-11-23T02:30:10.181426Z"
    }
   },
   "outputs": [
    {
     "data": {
      "text/plain": [
       "1"
      ]
     },
     "execution_count": 28,
     "metadata": {},
     "output_type": "execute_result"
    }
   ],
   "source": [
    "# 나눗셈의 몫을 반환\n",
    "7 // 4"
   ]
  },
  {
   "cell_type": "code",
   "execution_count": 27,
   "id": "f75cbd89",
   "metadata": {
    "ExecuteTime": {
     "end_time": "2023-11-23T02:30:01.096557Z",
     "start_time": "2023-11-23T02:30:01.091094Z"
    }
   },
   "outputs": [
    {
     "data": {
      "text/plain": [
       "3"
      ]
     },
     "execution_count": 27,
     "metadata": {},
     "output_type": "execute_result"
    }
   ],
   "source": [
    "# % 나머지를 반환\n",
    "7 % 4"
   ]
  },
  {
   "cell_type": "markdown",
   "id": "db41ad6a",
   "metadata": {},
   "source": [
    "# 문자열"
   ]
  },
  {
   "cell_type": "code",
   "execution_count": 30,
   "id": "cf9ff728",
   "metadata": {
    "ExecuteTime": {
     "end_time": "2023-11-23T02:32:48.650457Z",
     "start_time": "2023-11-23T02:32:48.644945Z"
    }
   },
   "outputs": [
    {
     "data": {
      "text/plain": [
       "'Hello World'"
      ]
     },
     "execution_count": 30,
     "metadata": {},
     "output_type": "execute_result"
    }
   ],
   "source": [
    "\"Hello World\""
   ]
  },
  {
   "cell_type": "code",
   "execution_count": 6,
   "id": "4f901e78",
   "metadata": {
    "ExecuteTime": {
     "end_time": "2023-11-25T02:48:40.729082Z",
     "start_time": "2023-11-25T02:48:40.723026Z"
    }
   },
   "outputs": [
    {
     "data": {
      "text/plain": [
       "'Hello World'"
      ]
     },
     "execution_count": 6,
     "metadata": {},
     "output_type": "execute_result"
    }
   ],
   "source": [
    "'Hello World'"
   ]
  },
  {
   "cell_type": "code",
   "execution_count": 37,
   "id": "353addc8",
   "metadata": {
    "ExecuteTime": {
     "end_time": "2023-11-23T02:33:55.426115Z",
     "start_time": "2023-11-23T02:33:55.420690Z"
    }
   },
   "outputs": [
    {
     "data": {
      "text/plain": [
       "'Life is too short,\\n\\nYou need Python'"
      ]
     },
     "execution_count": 37,
     "metadata": {},
     "output_type": "execute_result"
    }
   ],
   "source": [
    "'''Life is too short,\n",
    "\n",
    "You need Python'''"
   ]
  },
  {
   "cell_type": "code",
   "execution_count": 5,
   "id": "1da675b2",
   "metadata": {
    "ExecuteTime": {
     "end_time": "2023-11-25T02:48:32.211234Z",
     "start_time": "2023-11-25T02:48:32.205029Z"
    }
   },
   "outputs": [
    {
     "data": {
      "text/plain": [
       "'Life is too short, You need python'"
      ]
     },
     "execution_count": 5,
     "metadata": {},
     "output_type": "execute_result"
    }
   ],
   "source": [
    "'''Life is too short, You need python'''"
   ]
  },
  {
   "cell_type": "code",
   "execution_count": 38,
   "id": "30a7473d",
   "metadata": {
    "ExecuteTime": {
     "end_time": "2023-11-23T02:34:07.553456Z",
     "start_time": "2023-11-23T02:34:07.547915Z"
    }
   },
   "outputs": [
    {
     "data": {
      "text/plain": [
       "'Life is too short, You need python'"
      ]
     },
     "execution_count": 38,
     "metadata": {},
     "output_type": "execute_result"
    }
   ],
   "source": [
    "\"Life is too short, You need python\""
   ]
  },
  {
   "cell_type": "code",
   "execution_count": 42,
   "id": "0c835315",
   "metadata": {
    "ExecuteTime": {
     "end_time": "2023-11-23T02:35:41.213357Z",
     "start_time": "2023-11-23T02:35:41.207165Z"
    }
   },
   "outputs": [
    {
     "data": {
      "text/plain": [
       "\"Python's favorite food is perl\""
      ]
     },
     "execution_count": 42,
     "metadata": {},
     "output_type": "execute_result"
    }
   ],
   "source": [
    "\"Python's favorite food is perl\" # 쌍따옴표와 홑따옴표를 구분하기 위함"
   ]
  },
  {
   "cell_type": "code",
   "execution_count": 43,
   "id": "da3b6552",
   "metadata": {
    "ExecuteTime": {
     "end_time": "2023-11-23T02:35:44.667238Z",
     "start_time": "2023-11-23T02:35:44.660330Z"
    }
   },
   "outputs": [
    {
     "data": {
      "text/plain": [
       "'Pyrhon\"s favorite food is perl'"
      ]
     },
     "execution_count": 43,
     "metadata": {},
     "output_type": "execute_result"
    }
   ],
   "source": [
    "'Pyrhon\"s favorite food is perl'"
   ]
  },
  {
   "cell_type": "code",
   "execution_count": 46,
   "id": "8be41ce6",
   "metadata": {
    "ExecuteTime": {
     "end_time": "2023-11-23T02:36:48.995080Z",
     "start_time": "2023-11-23T02:36:48.989111Z"
    }
   },
   "outputs": [
    {
     "data": {
      "text/plain": [
       "\"Pyrhon's favorite food is perl\""
      ]
     },
     "execution_count": 46,
     "metadata": {},
     "output_type": "execute_result"
    }
   ],
   "source": [
    "food = \"Pyrhon's favorite food is perl\"\n",
    "food"
   ]
  },
  {
   "cell_type": "code",
   "execution_count": 48,
   "id": "b9115d96",
   "metadata": {
    "ExecuteTime": {
     "end_time": "2023-11-23T02:37:52.507320Z",
     "start_time": "2023-11-23T02:37:52.501567Z"
    }
   },
   "outputs": [
    {
     "data": {
      "text/plain": [
       "'\"Python is very ease.\" he says'"
      ]
     },
     "execution_count": 48,
     "metadata": {},
     "output_type": "execute_result"
    }
   ],
   "source": [
    "'\"Python is very ease.\" he says'"
   ]
  },
  {
   "cell_type": "code",
   "execution_count": 49,
   "id": "fe8bc693",
   "metadata": {
    "ExecuteTime": {
     "end_time": "2023-11-23T02:40:17.348142Z",
     "start_time": "2023-11-23T02:40:17.342504Z"
    }
   },
   "outputs": [
    {
     "data": {
      "text/plain": [
       "\"Pyrhon's favorite food is perl\""
      ]
     },
     "execution_count": 49,
     "metadata": {},
     "output_type": "execute_result"
    }
   ],
   "source": [
    "# 백슬래시(\\)를 사용해서 따옴표를 문자열에 포함 가능\n",
    "\n",
    "'Pyrhon\\'s favorite food is perl'"
   ]
  },
  {
   "cell_type": "code",
   "execution_count": 9,
   "id": "9cbaf9e5",
   "metadata": {
    "ExecuteTime": {
     "end_time": "2023-11-25T02:50:41.825227Z",
     "start_time": "2023-11-25T02:50:41.819225Z"
    }
   },
   "outputs": [
    {
     "data": {
      "text/plain": [
       "(\"Pyrhon's favorite food is perl\", '\"Python is very ease.\" he says.')"
      ]
     },
     "execution_count": 9,
     "metadata": {},
     "output_type": "execute_result"
    }
   ],
   "source": [
    "food = 'Pyrhon\\'s favorite food is perl'\n",
    "\n",
    "say = \"\\\"Python is very ease.\\\" he says.\"\n",
    "\n",
    "food, say"
   ]
  },
  {
   "cell_type": "markdown",
   "id": "376fac9c",
   "metadata": {},
   "source": [
    "### 여러 줄인 문자열을 변수에 대입하고 싶을때"
   ]
  },
  {
   "cell_type": "code",
   "execution_count": 57,
   "id": "b622253d",
   "metadata": {
    "ExecuteTime": {
     "end_time": "2023-11-23T02:44:02.934300Z",
     "start_time": "2023-11-23T02:44:02.927328Z"
    }
   },
   "outputs": [
    {
     "data": {
      "text/plain": [
       "'Life is too short\\n You need python'"
      ]
     },
     "execution_count": 57,
     "metadata": {},
     "output_type": "execute_result"
    }
   ],
   "source": [
    "# 줄을 바꾸는 이스케이프코드 \\n\n",
    "\n",
    "multiline = \"Life is too short\\n You need python\"\n",
    "multiline # notebook 편의기능"
   ]
  },
  {
   "cell_type": "code",
   "execution_count": 58,
   "id": "253c4310",
   "metadata": {
    "ExecuteTime": {
     "end_time": "2023-11-23T02:44:10.156597Z",
     "start_time": "2023-11-23T02:44:10.151596Z"
    }
   },
   "outputs": [
    {
     "name": "stdout",
     "output_type": "stream",
     "text": [
      "Life is too short\n",
      " You need python\n"
     ]
    }
   ],
   "source": [
    "print(multiline) # python 내장함수"
   ]
  },
  {
   "cell_type": "markdown",
   "id": "9a3f2b17",
   "metadata": {},
   "source": [
    "## 연속된 따옴표 사용하기"
   ]
  },
  {
   "cell_type": "code",
   "execution_count": 59,
   "id": "1ce022e2",
   "metadata": {
    "ExecuteTime": {
     "end_time": "2023-11-23T02:46:26.853797Z",
     "start_time": "2023-11-23T02:46:26.847738Z"
    }
   },
   "outputs": [
    {
     "data": {
      "text/plain": [
       "'Life is too short,\\nYou need python'"
      ]
     },
     "execution_count": 59,
     "metadata": {},
     "output_type": "execute_result"
    }
   ],
   "source": [
    "multiline = \"\"\"Life is too short,\n",
    "You need python\"\"\"\n",
    "multiline"
   ]
  },
  {
   "cell_type": "code",
   "execution_count": 60,
   "id": "ee480566",
   "metadata": {
    "ExecuteTime": {
     "end_time": "2023-11-23T02:46:34.236836Z",
     "start_time": "2023-11-23T02:46:34.231419Z"
    }
   },
   "outputs": [
    {
     "name": "stdout",
     "output_type": "stream",
     "text": [
      "Life is too short,\n",
      "You need python\n"
     ]
    }
   ],
   "source": [
    "print(multiline)"
   ]
  },
  {
   "cell_type": "markdown",
   "id": "958bf885",
   "metadata": {},
   "source": [
    "## 문자열 연산하기"
   ]
  },
  {
   "cell_type": "code",
   "execution_count": 1,
   "id": "b7314e2e",
   "metadata": {
    "ExecuteTime": {
     "end_time": "2023-11-24T00:35:20.384853Z",
     "start_time": "2023-11-24T00:35:20.376186Z"
    }
   },
   "outputs": [
    {
     "data": {
      "text/plain": [
       "'Python is fun'"
      ]
     },
     "execution_count": 1,
     "metadata": {},
     "output_type": "execute_result"
    }
   ],
   "source": [
    "head = \"Python\"\n",
    "tail = \" is fun\"\n",
    "head + tail"
   ]
  },
  {
   "cell_type": "code",
   "execution_count": 2,
   "id": "921ba00b",
   "metadata": {
    "ExecuteTime": {
     "end_time": "2023-11-24T00:35:41.523763Z",
     "start_time": "2023-11-24T00:35:41.517275Z"
    }
   },
   "outputs": [
    {
     "data": {
      "text/plain": [
       "'PythonPython'"
      ]
     },
     "execution_count": 2,
     "metadata": {},
     "output_type": "execute_result"
    }
   ],
   "source": [
    "a = 'Python'\n",
    "a*2"
   ]
  },
  {
   "cell_type": "code",
   "execution_count": 3,
   "id": "33c73fbf",
   "metadata": {
    "ExecuteTime": {
     "end_time": "2023-11-24T00:35:48.834735Z",
     "start_time": "2023-11-24T00:35:48.829700Z"
    }
   },
   "outputs": [
    {
     "name": "stdout",
     "output_type": "stream",
     "text": [
      "==================================================\n"
     ]
    }
   ],
   "source": [
    "print('='*50)"
   ]
  },
  {
   "cell_type": "code",
   "execution_count": 5,
   "id": "014a3826",
   "metadata": {
    "ExecuteTime": {
     "end_time": "2023-11-24T00:36:14.452693Z",
     "start_time": "2023-11-24T00:36:14.447337Z"
    }
   },
   "outputs": [
    {
     "data": {
      "text/plain": [
       "17"
      ]
     },
     "execution_count": 5,
     "metadata": {},
     "output_type": "execute_result"
    }
   ],
   "source": [
    "a = 'Life is too short'\n",
    "len(a)"
   ]
  },
  {
   "cell_type": "markdown",
   "id": "54ea5733",
   "metadata": {},
   "source": [
    "# 문자열 인덱싱과 슬라이싱"
   ]
  },
  {
   "cell_type": "markdown",
   "id": "c64f5b4b",
   "metadata": {
    "ExecuteTime": {
     "end_time": "2023-11-25T02:55:59.239907Z",
     "start_time": "2023-11-25T02:55:59.236990Z"
    }
   },
   "source": [
    "## 인덱싱"
   ]
  },
  {
   "cell_type": "code",
   "execution_count": 11,
   "id": "b993fc76",
   "metadata": {
    "ExecuteTime": {
     "end_time": "2023-11-25T02:56:21.944522Z",
     "start_time": "2023-11-25T02:56:21.938888Z"
    }
   },
   "outputs": [
    {
     "data": {
      "text/plain": [
       "'Life is too shor. You need python'"
      ]
     },
     "execution_count": 11,
     "metadata": {},
     "output_type": "execute_result"
    }
   ],
   "source": [
    "a = \"Life is too shor. You need python\"\n",
    "a"
   ]
  },
  {
   "cell_type": "code",
   "execution_count": 12,
   "id": "6459b60a",
   "metadata": {
    "ExecuteTime": {
     "end_time": "2023-11-25T02:56:24.887343Z",
     "start_time": "2023-11-25T02:56:24.878346Z"
    }
   },
   "outputs": [
    {
     "data": {
      "text/plain": [
       "'e'"
      ]
     },
     "execution_count": 12,
     "metadata": {},
     "output_type": "execute_result"
    }
   ],
   "source": [
    "a[3]"
   ]
  },
  {
   "cell_type": "code",
   "execution_count": 13,
   "id": "6d2c3f25",
   "metadata": {
    "ExecuteTime": {
     "end_time": "2023-11-25T02:56:31.727209Z",
     "start_time": "2023-11-25T02:56:31.721848Z"
    }
   },
   "outputs": [
    {
     "data": {
      "text/plain": [
       "'L'"
      ]
     },
     "execution_count": 13,
     "metadata": {},
     "output_type": "execute_result"
    }
   ],
   "source": [
    "a[0]"
   ]
  },
  {
   "cell_type": "code",
   "execution_count": 14,
   "id": "ed00a3ce",
   "metadata": {
    "ExecuteTime": {
     "end_time": "2023-11-25T02:56:38.151306Z",
     "start_time": "2023-11-25T02:56:38.142706Z"
    }
   },
   "outputs": [
    {
     "data": {
      "text/plain": [
       "'s'"
      ]
     },
     "execution_count": 14,
     "metadata": {},
     "output_type": "execute_result"
    }
   ],
   "source": [
    "a[12]"
   ]
  },
  {
   "cell_type": "code",
   "execution_count": 15,
   "id": "dda5daa9",
   "metadata": {
    "ExecuteTime": {
     "end_time": "2023-11-25T02:56:43.078921Z",
     "start_time": "2023-11-25T02:56:43.073703Z"
    }
   },
   "outputs": [
    {
     "data": {
      "text/plain": [
       "'n'"
      ]
     },
     "execution_count": 15,
     "metadata": {},
     "output_type": "execute_result"
    }
   ],
   "source": [
    "a[-1]"
   ]
  },
  {
   "cell_type": "code",
   "execution_count": 16,
   "id": "56995c38",
   "metadata": {
    "ExecuteTime": {
     "end_time": "2023-11-25T02:56:46.255764Z",
     "start_time": "2023-11-25T02:56:46.250765Z"
    }
   },
   "outputs": [
    {
     "data": {
      "text/plain": [
       "'L'"
      ]
     },
     "execution_count": 16,
     "metadata": {},
     "output_type": "execute_result"
    }
   ],
   "source": [
    "a[-0]"
   ]
  },
  {
   "cell_type": "code",
   "execution_count": 17,
   "id": "04a0c375",
   "metadata": {
    "ExecuteTime": {
     "end_time": "2023-11-25T02:56:58.006836Z",
     "start_time": "2023-11-25T02:56:58.001708Z"
    }
   },
   "outputs": [
    {
     "data": {
      "text/plain": [
       "'o'"
      ]
     },
     "execution_count": 17,
     "metadata": {},
     "output_type": "execute_result"
    }
   ],
   "source": [
    "a[-2]"
   ]
  },
  {
   "cell_type": "code",
   "execution_count": 18,
   "id": "61c31eef",
   "metadata": {
    "ExecuteTime": {
     "end_time": "2023-11-25T02:57:03.018102Z",
     "start_time": "2023-11-25T02:57:03.008794Z"
    }
   },
   "outputs": [
    {
     "data": {
      "text/plain": [
       "'y'"
      ]
     },
     "execution_count": 18,
     "metadata": {},
     "output_type": "execute_result"
    }
   ],
   "source": [
    "a[-5]"
   ]
  },
  {
   "cell_type": "markdown",
   "id": "cfede9b7",
   "metadata": {
    "ExecuteTime": {
     "end_time": "2023-11-24T00:44:50.605173Z",
     "start_time": "2023-11-24T00:44:50.601306Z"
    }
   },
   "source": [
    "## 슬라이싱\n",
    "- 범위 [start index : endindex+1]"
   ]
  },
  {
   "cell_type": "code",
   "execution_count": 19,
   "id": "c582e316",
   "metadata": {
    "ExecuteTime": {
     "end_time": "2023-11-25T02:57:33.543032Z",
     "start_time": "2023-11-25T02:57:33.537679Z"
    }
   },
   "outputs": [
    {
     "data": {
      "text/plain": [
       "'Life is too shor. You need python'"
      ]
     },
     "execution_count": 19,
     "metadata": {},
     "output_type": "execute_result"
    }
   ],
   "source": [
    "a"
   ]
  },
  {
   "cell_type": "code",
   "execution_count": 20,
   "id": "3e8fa06a",
   "metadata": {
    "ExecuteTime": {
     "end_time": "2023-11-25T02:58:08.321396Z",
     "start_time": "2023-11-25T02:58:08.315553Z"
    }
   },
   "outputs": [
    {
     "data": {
      "text/plain": [
       "'Life'"
      ]
     },
     "execution_count": 20,
     "metadata": {},
     "output_type": "execute_result"
    }
   ],
   "source": [
    "# life 요소를 잘라내기\n",
    "b = a[0] + a[1] + a[2] + a[3]\n",
    "b"
   ]
  },
  {
   "cell_type": "code",
   "execution_count": 21,
   "id": "cf61570b",
   "metadata": {
    "ExecuteTime": {
     "end_time": "2023-11-25T02:58:21.682373Z",
     "start_time": "2023-11-25T02:58:21.675541Z"
    }
   },
   "outputs": [
    {
     "data": {
      "text/plain": [
       "'Life'"
      ]
     },
     "execution_count": 21,
     "metadata": {},
     "output_type": "execute_result"
    }
   ],
   "source": [
    "a[0:4]"
   ]
  },
  {
   "cell_type": "code",
   "execution_count": 22,
   "id": "b858ee6d",
   "metadata": {
    "ExecuteTime": {
     "end_time": "2023-11-25T02:58:27.998936Z",
     "start_time": "2023-11-25T02:58:27.990568Z"
    }
   },
   "outputs": [
    {
     "data": {
      "text/plain": [
       "'Lif'"
      ]
     },
     "execution_count": 22,
     "metadata": {},
     "output_type": "execute_result"
    }
   ],
   "source": [
    "a[0:3]"
   ]
  },
  {
   "cell_type": "code",
   "execution_count": 23,
   "id": "15e52a4d",
   "metadata": {
    "ExecuteTime": {
     "end_time": "2023-11-25T02:58:33.769779Z",
     "start_time": "2023-11-25T02:58:33.764568Z"
    }
   },
   "outputs": [
    {
     "data": {
      "text/plain": [
       "'Life'"
      ]
     },
     "execution_count": 23,
     "metadata": {},
     "output_type": "execute_result"
    }
   ],
   "source": [
    "a[:4]"
   ]
  },
  {
   "cell_type": "code",
   "execution_count": 24,
   "id": "02552e3d",
   "metadata": {
    "ExecuteTime": {
     "end_time": "2023-11-25T02:58:38.327231Z",
     "start_time": "2023-11-25T02:58:38.321408Z"
    }
   },
   "outputs": [
    {
     "data": {
      "text/plain": [
       "'Life '"
      ]
     },
     "execution_count": 24,
     "metadata": {},
     "output_type": "execute_result"
    }
   ],
   "source": [
    "a[:5]"
   ]
  },
  {
   "cell_type": "code",
   "execution_count": 25,
   "id": "6ee006cc",
   "metadata": {
    "ExecuteTime": {
     "end_time": "2023-11-25T02:58:50.760366Z",
     "start_time": "2023-11-25T02:58:50.754378Z"
    }
   },
   "outputs": [
    {
     "data": {
      "text/plain": [
       "'is'"
      ]
     },
     "execution_count": 25,
     "metadata": {},
     "output_type": "execute_result"
    }
   ],
   "source": [
    "a[5:7]"
   ]
  },
  {
   "cell_type": "code",
   "execution_count": 26,
   "id": "996c31a1",
   "metadata": {
    "ExecuteTime": {
     "end_time": "2023-11-25T02:58:55.400985Z",
     "start_time": "2023-11-25T02:58:55.391453Z"
    }
   },
   "outputs": [
    {
     "data": {
      "text/plain": [
       "'shor.'"
      ]
     },
     "execution_count": 26,
     "metadata": {},
     "output_type": "execute_result"
    }
   ],
   "source": [
    "a[12:17]"
   ]
  },
  {
   "cell_type": "code",
   "execution_count": 27,
   "id": "cad4112e",
   "metadata": {
    "ExecuteTime": {
     "end_time": "2023-11-25T02:59:02.067097Z",
     "start_time": "2023-11-25T02:59:02.058409Z"
    }
   },
   "outputs": [
    {
     "data": {
      "text/plain": [
       "'ou need python'"
      ]
     },
     "execution_count": 27,
     "metadata": {},
     "output_type": "execute_result"
    }
   ],
   "source": [
    "a[19:]"
   ]
  },
  {
   "cell_type": "code",
   "execution_count": 12,
   "id": "4ff01cf3",
   "metadata": {
    "ExecuteTime": {
     "end_time": "2023-11-24T00:46:22.974692Z",
     "start_time": "2023-11-24T00:46:22.967736Z"
    },
    "scrolled": false
   },
   "outputs": [
    {
     "data": {
      "text/plain": [
       "'life is too short. You need Python'"
      ]
     },
     "execution_count": 12,
     "metadata": {},
     "output_type": "execute_result"
    }
   ],
   "source": [
    "a[:]"
   ]
  },
  {
   "cell_type": "code",
   "execution_count": 13,
   "id": "b83cf761",
   "metadata": {
    "ExecuteTime": {
     "end_time": "2023-11-24T00:46:23.790392Z",
     "start_time": "2023-11-24T00:46:23.784276Z"
    }
   },
   "outputs": [
    {
     "data": {
      "text/plain": [
       "'s'"
      ]
     },
     "execution_count": 13,
     "metadata": {},
     "output_type": "execute_result"
    }
   ],
   "source": [
    "a[19-7]"
   ]
  },
  {
   "cell_type": "code",
   "execution_count": 14,
   "id": "c8f2732e",
   "metadata": {
    "ExecuteTime": {
     "end_time": "2023-11-24T00:46:24.389945Z",
     "start_time": "2023-11-24T00:46:24.383387Z"
    }
   },
   "outputs": [
    {
     "data": {
      "text/plain": [
       "'You need'"
      ]
     },
     "execution_count": 14,
     "metadata": {},
     "output_type": "execute_result"
    }
   ],
   "source": [
    "a[19:27]"
   ]
  },
  {
   "cell_type": "markdown",
   "id": "e76b4dfc",
   "metadata": {},
   "source": [
    "## 슬라이싱으로 문자열 나누기"
   ]
  },
  {
   "cell_type": "code",
   "execution_count": 22,
   "id": "b61bea1e",
   "metadata": {
    "ExecuteTime": {
     "end_time": "2023-11-24T00:47:54.636894Z",
     "start_time": "2023-11-24T00:47:54.631734Z"
    }
   },
   "outputs": [
    {
     "name": "stdout",
     "output_type": "stream",
     "text": [
      "20231124\n",
      "Sunny\n"
     ]
    }
   ],
   "source": [
    "a = '20231124Sunny'\n",
    "date = a[:8]\n",
    "weather = a[8:]\n",
    "\n",
    "print(date)\n",
    "print(weather)"
   ]
  },
  {
   "cell_type": "code",
   "execution_count": 24,
   "id": "61cb87dc",
   "metadata": {
    "ExecuteTime": {
     "end_time": "2023-11-24T00:49:13.333797Z",
     "start_time": "2023-11-24T00:49:13.329209Z"
    }
   },
   "outputs": [
    {
     "name": "stdout",
     "output_type": "stream",
     "text": [
      "2023\n",
      "24\n"
     ]
    }
   ],
   "source": [
    "year = a[:4]\n",
    "day = a[6:8]\n",
    "\n",
    "print(year)\n",
    "print(day)"
   ]
  },
  {
   "cell_type": "markdown",
   "id": "8ca7cde6",
   "metadata": {},
   "source": [
    "## 문자열 요소 바꾸기"
   ]
  },
  {
   "cell_type": "code",
   "execution_count": 25,
   "id": "4bd01822",
   "metadata": {
    "ExecuteTime": {
     "end_time": "2023-11-24T01:00:44.330898Z",
     "start_time": "2023-11-24T01:00:44.323765Z"
    }
   },
   "outputs": [
    {
     "data": {
      "text/plain": [
       "'i'"
      ]
     },
     "execution_count": 25,
     "metadata": {},
     "output_type": "execute_result"
    }
   ],
   "source": [
    "a = 'pithon'\n",
    "a[1]"
   ]
  },
  {
   "cell_type": "code",
   "execution_count": 27,
   "id": "28aad0d8",
   "metadata": {
    "ExecuteTime": {
     "end_time": "2023-11-24T01:01:31.415735Z",
     "start_time": "2023-11-24T01:01:31.395043Z"
    }
   },
   "outputs": [
    {
     "ename": "TypeError",
     "evalue": "'str' object does not support item assignment",
     "output_type": "error",
     "traceback": [
      "\u001b[1;31m---------------------------------------------------------------------------\u001b[0m",
      "\u001b[1;31mTypeError\u001b[0m                                 Traceback (most recent call last)",
      "Cell \u001b[1;32mIn[27], line 1\u001b[0m\n\u001b[1;32m----> 1\u001b[0m a[\u001b[38;5;241m1\u001b[39m] \u001b[38;5;241m=\u001b[39m \u001b[38;5;124m'\u001b[39m\u001b[38;5;124my\u001b[39m\u001b[38;5;124m'\u001b[39m\n\u001b[0;32m      2\u001b[0m a\n",
      "\u001b[1;31mTypeError\u001b[0m: 'str' object does not support item assignment"
     ]
    }
   ],
   "source": [
    "a[1] = 'y'\n",
    "a"
   ]
  },
  {
   "cell_type": "code",
   "execution_count": 28,
   "id": "211ade70",
   "metadata": {
    "ExecuteTime": {
     "end_time": "2023-11-24T01:02:10.402325Z",
     "start_time": "2023-11-24T01:02:10.396124Z"
    }
   },
   "outputs": [
    {
     "data": {
      "text/plain": [
       "'python'"
      ]
     },
     "execution_count": 28,
     "metadata": {},
     "output_type": "execute_result"
    }
   ],
   "source": [
    "a[0] +'y' + a[2:]"
   ]
  },
  {
   "cell_type": "markdown",
   "id": "e444d598",
   "metadata": {},
   "source": [
    "## 문자열 포매팅\n",
    "- 현재 온도는 20도 입니다.\n",
    "- 현재 온도는 -3도 입니다."
   ]
  },
  {
   "cell_type": "code",
   "execution_count": 33,
   "id": "dd62bf1d",
   "metadata": {
    "ExecuteTime": {
     "end_time": "2023-11-24T01:10:34.379465Z",
     "start_time": "2023-11-24T01:10:34.373325Z"
    }
   },
   "outputs": [
    {
     "data": {
      "text/plain": [
       "'I eat 3 apples'"
      ]
     },
     "execution_count": 33,
     "metadata": {},
     "output_type": "execute_result"
    }
   ],
   "source": [
    "# 숫자 바로 대입하기 \\\n",
    "'I eat %d apples'%3\n"
   ]
  },
  {
   "cell_type": "code",
   "execution_count": 32,
   "id": "a1238b25",
   "metadata": {
    "ExecuteTime": {
     "end_time": "2023-11-24T01:10:32.915306Z",
     "start_time": "2023-11-24T01:10:32.909638Z"
    }
   },
   "outputs": [
    {
     "data": {
      "text/plain": [
       "'I eat five apples'"
      ]
     },
     "execution_count": 32,
     "metadata": {},
     "output_type": "execute_result"
    }
   ],
   "source": [
    "'I eat %s apples'%'five'"
   ]
  },
  {
   "cell_type": "code",
   "execution_count": 34,
   "id": "31e3b01f",
   "metadata": {
    "ExecuteTime": {
     "end_time": "2023-11-24T01:10:52.413265Z",
     "start_time": "2023-11-24T01:10:52.406801Z"
    }
   },
   "outputs": [
    {
     "data": {
      "text/plain": [
       "'I eat 3 apples'"
      ]
     },
     "execution_count": 34,
     "metadata": {},
     "output_type": "execute_result"
    }
   ],
   "source": [
    "# 변수로 대입하기\n",
    "number = 3\n",
    "'I eat %d apples'%number"
   ]
  },
  {
   "cell_type": "code",
   "execution_count": 36,
   "id": "909fafa6",
   "metadata": {
    "ExecuteTime": {
     "end_time": "2023-11-24T01:12:23.741749Z",
     "start_time": "2023-11-24T01:12:23.734163Z"
    }
   },
   "outputs": [
    {
     "data": {
      "text/plain": [
       "'I eat 3 apples. so i was sick for three days'"
      ]
     },
     "execution_count": 36,
     "metadata": {},
     "output_type": "execute_result"
    }
   ],
   "source": [
    "# 2개 이상 값 넣기\n",
    "number = 3\n",
    "day = 'three'\n",
    "'I eat %d apples. so i was sick for %s days'%(number, day)"
   ]
  },
  {
   "cell_type": "markdown",
   "id": "a0bb01a3",
   "metadata": {},
   "source": [
    "## 정렬과 공백\n",
    "- 양수 : 우정렬\n",
    "- 음수 : 좌정렬"
   ]
  },
  {
   "cell_type": "code",
   "execution_count": 39,
   "id": "93824143",
   "metadata": {
    "ExecuteTime": {
     "end_time": "2023-11-24T01:14:27.428081Z",
     "start_time": "2023-11-24T01:14:27.422877Z"
    }
   },
   "outputs": [
    {
     "data": {
      "text/plain": [
       "'        hi'"
      ]
     },
     "execution_count": 39,
     "metadata": {},
     "output_type": "execute_result"
    }
   ],
   "source": [
    "# 10개의 문자열 공간을 만들되, 치환되는 문자열을 우측 정렬하고 빈 곳은 공백으로 채울것\n",
    "\n",
    "\"%10s\"%\"hi\""
   ]
  },
  {
   "cell_type": "code",
   "execution_count": 43,
   "id": "2a70dfa5",
   "metadata": {
    "ExecuteTime": {
     "end_time": "2023-11-24T01:15:08.252740Z",
     "start_time": "2023-11-24T01:15:08.247413Z"
    }
   },
   "outputs": [
    {
     "data": {
      "text/plain": [
       "'3.4323'"
      ]
     },
     "execution_count": 43,
     "metadata": {},
     "output_type": "execute_result"
    }
   ],
   "source": [
    "## 소수점 표현하기\n",
    "\"%0.4f\"%3.432345235"
   ]
  },
  {
   "cell_type": "markdown",
   "id": "f8176118",
   "metadata": {},
   "source": [
    "## 포맷함수로를 사용한 포매팅"
   ]
  },
  {
   "cell_type": "code",
   "execution_count": 44,
   "id": "b425b4aa",
   "metadata": {
    "ExecuteTime": {
     "end_time": "2023-11-24T01:16:15.838381Z",
     "start_time": "2023-11-24T01:16:15.831255Z"
    }
   },
   "outputs": [
    {
     "data": {
      "text/plain": [
       "'i eat 3 apples'"
      ]
     },
     "execution_count": 44,
     "metadata": {},
     "output_type": "execute_result"
    }
   ],
   "source": [
    "\"i eat {} apples\".format(3)"
   ]
  },
  {
   "cell_type": "code",
   "execution_count": 45,
   "id": "a1cadc82",
   "metadata": {
    "ExecuteTime": {
     "end_time": "2023-11-24T01:18:24.830888Z",
     "start_time": "2023-11-24T01:18:24.823811Z"
    }
   },
   "outputs": [
    {
     "data": {
      "text/plain": [
       "'i eat 3 apples'"
      ]
     },
     "execution_count": 45,
     "metadata": {},
     "output_type": "execute_result"
    }
   ],
   "source": [
    "number = 3\n",
    "\"i eat {} apples\".format(number)"
   ]
  },
  {
   "cell_type": "code",
   "execution_count": 46,
   "id": "4f5ef74d",
   "metadata": {
    "ExecuteTime": {
     "end_time": "2023-11-24T01:19:00.878946Z",
     "start_time": "2023-11-24T01:19:00.872464Z"
    }
   },
   "outputs": [
    {
     "data": {
      "text/plain": [
       "' i eat 3 apples. so i was sick for three days'"
      ]
     },
     "execution_count": 46,
     "metadata": {},
     "output_type": "execute_result"
    }
   ],
   "source": [
    "# 2개 이상 값 넣기\n",
    "number = 3\n",
    "day = 'three'\n",
    "' i eat {} apples. so i was sick for {} days'.format(number, day)"
   ]
  },
  {
   "cell_type": "code",
   "execution_count": 47,
   "id": "3ed27112",
   "metadata": {
    "ExecuteTime": {
     "end_time": "2023-11-24T01:20:47.487273Z",
     "start_time": "2023-11-24T01:20:47.480995Z"
    }
   },
   "outputs": [
    {
     "data": {
      "text/plain": [
       "' i eat 10 apples. so i was sick for 3 days'"
      ]
     },
     "execution_count": 47,
     "metadata": {},
     "output_type": "execute_result"
    }
   ],
   "source": [
    "# 변수 이름으로 넣기\n",
    "' i eat {number} apples. so i was sick for {day} days'.format(day = 3, number = 10)"
   ]
  },
  {
   "cell_type": "code",
   "execution_count": 49,
   "id": "6f97b3b6",
   "metadata": {
    "ExecuteTime": {
     "end_time": "2023-11-24T01:21:08.782365Z",
     "start_time": "2023-11-24T01:21:08.760794Z"
    }
   },
   "outputs": [
    {
     "ename": "IndexError",
     "evalue": "Replacement index 0 out of range for positional args tuple",
     "output_type": "error",
     "traceback": [
      "\u001b[1;31m---------------------------------------------------------------------------\u001b[0m",
      "\u001b[1;31mIndexError\u001b[0m                                Traceback (most recent call last)",
      "Cell \u001b[1;32mIn[49], line 1\u001b[0m\n\u001b[1;32m----> 1\u001b[0m \u001b[38;5;124m'\u001b[39m\u001b[38;5;124m i eat \u001b[39m\u001b[38;5;132;01m{}\u001b[39;00m\u001b[38;5;124m apples. so i was sick for \u001b[39m\u001b[38;5;132;01m{}\u001b[39;00m\u001b[38;5;124m days\u001b[39m\u001b[38;5;124m'\u001b[39m\u001b[38;5;241m.\u001b[39mformat(day \u001b[38;5;241m=\u001b[39m \u001b[38;5;241m3\u001b[39m, number \u001b[38;5;241m=\u001b[39m \u001b[38;5;241m10\u001b[39m)\n",
      "\u001b[1;31mIndexError\u001b[0m: Replacement index 0 out of range for positional args tuple"
     ]
    }
   ],
   "source": [
    "' i eat {} apples. so i was sick for {} days'.format(day = 3, number = 10)"
   ]
  },
  {
   "cell_type": "code",
   "execution_count": 50,
   "id": "fb013db2",
   "metadata": {
    "ExecuteTime": {
     "end_time": "2023-11-24T01:21:38.103244Z",
     "start_time": "2023-11-24T01:21:38.097075Z"
    }
   },
   "outputs": [
    {
     "data": {
      "text/plain": [
       "' i eat 10 apples. so i was sick for 3 days'"
      ]
     },
     "execution_count": 50,
     "metadata": {},
     "output_type": "execute_result"
    }
   ],
   "source": [
    "' i eat {number} apples. so i was sick for {} days'.format(3, number = 10)"
   ]
  },
  {
   "cell_type": "markdown",
   "id": "7990394e",
   "metadata": {
    "ExecuteTime": {
     "end_time": "2023-11-24T01:21:59.839751Z",
     "start_time": "2023-11-24T01:21:59.835668Z"
    }
   },
   "source": [
    "## 3.9 f문자열 포매팅"
   ]
  },
  {
   "cell_type": "code",
   "execution_count": 53,
   "id": "4d809e7a",
   "metadata": {
    "ExecuteTime": {
     "end_time": "2023-11-24T01:24:03.537429Z",
     "start_time": "2023-11-24T01:24:03.530875Z"
    }
   },
   "outputs": [
    {
     "data": {
      "text/plain": [
       "'나의 이름은 홍길동 입니다. 나이는 30 입니다.'"
      ]
     },
     "execution_count": 53,
     "metadata": {},
     "output_type": "execute_result"
    }
   ],
   "source": [
    "# python 3.6\n",
    "name = '홍길동'\n",
    "age = 30\n",
    "f\"나의 이름은 {name} 입니다. 나이는 {age} 입니다.\""
   ]
  },
  {
   "cell_type": "code",
   "execution_count": 55,
   "id": "b35cd7db",
   "metadata": {
    "ExecuteTime": {
     "end_time": "2023-11-24T01:24:17.566840Z",
     "start_time": "2023-11-24T01:24:17.560710Z"
    }
   },
   "outputs": [
    {
     "data": {
      "text/plain": [
       "'나는 내년이면 31 살이 됩니다.'"
      ]
     },
     "execution_count": 55,
     "metadata": {},
     "output_type": "execute_result"
    }
   ],
   "source": [
    "f\"나는 내년이면 {age + 1} 살이 됩니다.\""
   ]
  },
  {
   "cell_type": "code",
   "execution_count": 61,
   "id": "e42cb1bc",
   "metadata": {
    "ExecuteTime": {
     "end_time": "2023-11-24T01:28:04.273672Z",
     "start_time": "2023-11-24T01:28:04.267051Z"
    }
   },
   "outputs": [
    {
     "data": {
      "text/plain": [
       "'나의 이름은 홍길동입니다. 나이는 30입니다.'"
      ]
     },
     "execution_count": 61,
     "metadata": {},
     "output_type": "execute_result"
    }
   ],
   "source": [
    "d = {'name' : '홍길동', 'age' : 30}\n",
    "f\"나의 이름은 {d['name']}입니다. 나이는 {d['age']}입니다.\""
   ]
  },
  {
   "cell_type": "code",
   "execution_count": 65,
   "id": "dcc8d4c5",
   "metadata": {
    "ExecuteTime": {
     "end_time": "2023-11-24T01:29:04.624363Z",
     "start_time": "2023-11-24T01:29:04.618391Z"
    }
   },
   "outputs": [
    {
     "data": {
      "text/plain": [
       "' 3.4234'"
      ]
     },
     "execution_count": 65,
     "metadata": {},
     "output_type": "execute_result"
    }
   ],
   "source": [
    "y = 3.4234234\n",
    "f'{y : 0.4f}'"
   ]
  },
  {
   "cell_type": "markdown",
   "id": "807fa851",
   "metadata": {
    "ExecuteTime": {
     "end_time": "2023-11-24T01:29:12.455389Z",
     "start_time": "2023-11-24T01:29:12.451800Z"
    }
   },
   "source": [
    "## 문자열 관련 함수"
   ]
  },
  {
   "cell_type": "code",
   "execution_count": 67,
   "id": "5b220bed",
   "metadata": {
    "ExecuteTime": {
     "end_time": "2023-11-24T01:29:40.150802Z",
     "start_time": "2023-11-24T01:29:40.147110Z"
    }
   },
   "outputs": [],
   "source": [
    "# 문자열 개수 세기(count)\n",
    "a ='hobby' "
   ]
  },
  {
   "cell_type": "code",
   "execution_count": 68,
   "id": "3e484292",
   "metadata": {
    "ExecuteTime": {
     "end_time": "2023-11-24T01:32:10.097843Z",
     "start_time": "2023-11-24T01:32:10.091976Z"
    }
   },
   "outputs": [
    {
     "data": {
      "text/plain": [
       "2"
      ]
     },
     "execution_count": 68,
     "metadata": {},
     "output_type": "execute_result"
    }
   ],
   "source": [
    "a.count('b')"
   ]
  },
  {
   "cell_type": "code",
   "execution_count": 69,
   "id": "5d50427f",
   "metadata": {
    "ExecuteTime": {
     "end_time": "2023-11-24T01:32:22.376113Z",
     "start_time": "2023-11-24T01:32:22.371298Z"
    }
   },
   "outputs": [],
   "source": [
    "a.count?"
   ]
  },
  {
   "cell_type": "code",
   "execution_count": 70,
   "id": "773d8fb7",
   "metadata": {
    "ExecuteTime": {
     "end_time": "2023-11-24T01:32:53.456834Z",
     "start_time": "2023-11-24T01:32:53.451328Z"
    }
   },
   "outputs": [
    {
     "name": "stdout",
     "output_type": "stream",
     "text": [
      "Help on built-in function count:\n",
      "\n",
      "count(...) method of builtins.str instance\n",
      "    S.count(sub[, start[, end]]) -> int\n",
      "    \n",
      "    Return the number of non-overlapping occurrences of substring sub in\n",
      "    string S[start:end].  Optional arguments start and end are\n",
      "    interpreted as in slice notation.\n",
      "\n"
     ]
    }
   ],
   "source": [
    "help(a.count)"
   ]
  },
  {
   "cell_type": "code",
   "execution_count": 71,
   "id": "c02333fb",
   "metadata": {
    "ExecuteTime": {
     "end_time": "2023-11-24T01:35:31.995138Z",
     "start_time": "2023-11-24T01:35:31.988276Z"
    }
   },
   "outputs": [
    {
     "data": {
      "text/plain": [
       "14"
      ]
     },
     "execution_count": 71,
     "metadata": {},
     "output_type": "execute_result"
    }
   ],
   "source": [
    "a = 'python is the best choice'\n",
    "a.find('b')"
   ]
  },
  {
   "cell_type": "code",
   "execution_count": 72,
   "id": "14db03ca",
   "metadata": {
    "ExecuteTime": {
     "end_time": "2023-11-24T01:36:07.729650Z",
     "start_time": "2023-11-24T01:36:07.724899Z"
    }
   },
   "outputs": [
    {
     "data": {
      "text/plain": [
       "-1"
      ]
     },
     "execution_count": 72,
     "metadata": {},
     "output_type": "execute_result"
    }
   ],
   "source": [
    "a.find('k') # false = 0"
   ]
  },
  {
   "cell_type": "code",
   "execution_count": 73,
   "id": "d8c3ff6a",
   "metadata": {
    "ExecuteTime": {
     "end_time": "2023-11-24T01:36:26.209826Z",
     "start_time": "2023-11-24T01:36:26.204442Z"
    }
   },
   "outputs": [
    {
     "data": {
      "text/plain": [
       "2"
      ]
     },
     "execution_count": 73,
     "metadata": {},
     "output_type": "execute_result"
    }
   ],
   "source": [
    "a.index('t')"
   ]
  },
  {
   "cell_type": "code",
   "execution_count": 74,
   "id": "2a1c6175",
   "metadata": {
    "ExecuteTime": {
     "end_time": "2023-11-24T01:36:58.532967Z",
     "start_time": "2023-11-24T01:36:58.511453Z"
    }
   },
   "outputs": [
    {
     "ename": "ValueError",
     "evalue": "substring not found",
     "output_type": "error",
     "traceback": [
      "\u001b[1;31m---------------------------------------------------------------------------\u001b[0m",
      "\u001b[1;31mValueError\u001b[0m                                Traceback (most recent call last)",
      "Cell \u001b[1;32mIn[74], line 1\u001b[0m\n\u001b[1;32m----> 1\u001b[0m a\u001b[38;5;241m.\u001b[39mindex(\u001b[38;5;124m'\u001b[39m\u001b[38;5;124mk\u001b[39m\u001b[38;5;124m'\u001b[39m)\n",
      "\u001b[1;31mValueError\u001b[0m: substring not found"
     ]
    }
   ],
   "source": [
    "a.index('k') # 없는걸 입력하면 에러 남"
   ]
  },
  {
   "cell_type": "markdown",
   "id": "2f5d1621",
   "metadata": {},
   "source": [
    "## 문자열 삽입(join)"
   ]
  },
  {
   "cell_type": "code",
   "execution_count": 75,
   "id": "82bc1b99",
   "metadata": {
    "ExecuteTime": {
     "end_time": "2023-11-24T01:39:13.045143Z",
     "start_time": "2023-11-24T01:39:13.038530Z"
    }
   },
   "outputs": [
    {
     "data": {
      "text/plain": [
       "'a.b.c.d'"
      ]
     },
     "execution_count": 75,
     "metadata": {},
     "output_type": "execute_result"
    }
   ],
   "source": [
    "# a,b,c,d 문자열 사이에 , fmf tkqdlq\n",
    "\".\".join('abcd')"
   ]
  },
  {
   "cell_type": "code",
   "execution_count": 76,
   "id": "67a8d07a",
   "metadata": {
    "ExecuteTime": {
     "end_time": "2023-11-24T01:39:39.140660Z",
     "start_time": "2023-11-24T01:39:39.133222Z"
    }
   },
   "outputs": [
    {
     "data": {
      "text/plain": [
       "'a.b.c.d'"
      ]
     },
     "execution_count": 76,
     "metadata": {},
     "output_type": "execute_result"
    }
   ],
   "source": [
    "\".\".join(['a', 'b', 'c', 'd'])"
   ]
  },
  {
   "cell_type": "markdown",
   "id": "beca338f",
   "metadata": {
    "ExecuteTime": {
     "end_time": "2023-11-24T01:40:33.962201Z",
     "start_time": "2023-11-24T01:40:33.957924Z"
    }
   },
   "source": [
    "## 대소문자 변환(upper, lower)"
   ]
  },
  {
   "cell_type": "code",
   "execution_count": 79,
   "id": "da5eacba",
   "metadata": {
    "ExecuteTime": {
     "end_time": "2023-11-24T01:40:53.379382Z",
     "start_time": "2023-11-24T01:40:53.373106Z"
    }
   },
   "outputs": [
    {
     "data": {
      "text/plain": [
       "'HI'"
      ]
     },
     "execution_count": 79,
     "metadata": {},
     "output_type": "execute_result"
    }
   ],
   "source": [
    "# 소문자를 대문자로 바꾸기\n",
    "a = 'hi'\n",
    "a.upper()"
   ]
  },
  {
   "cell_type": "code",
   "execution_count": 81,
   "id": "c8b89068",
   "metadata": {
    "ExecuteTime": {
     "end_time": "2023-11-24T01:41:09.677649Z",
     "start_time": "2023-11-24T01:41:09.671083Z"
    }
   },
   "outputs": [
    {
     "data": {
      "text/plain": [
       "'HI'"
      ]
     },
     "execution_count": 81,
     "metadata": {},
     "output_type": "execute_result"
    }
   ],
   "source": [
    "'hi'.upper()"
   ]
  },
  {
   "cell_type": "code",
   "execution_count": 82,
   "id": "07fde4b3",
   "metadata": {
    "ExecuteTime": {
     "end_time": "2023-11-24T01:41:26.132733Z",
     "start_time": "2023-11-24T01:41:26.125156Z"
    }
   },
   "outputs": [
    {
     "data": {
      "text/plain": [
       "'hi'"
      ]
     },
     "execution_count": 82,
     "metadata": {},
     "output_type": "execute_result"
    }
   ],
   "source": [
    "# 대문자를 소문자로 바꾸기\n",
    "a = 'HI'\n",
    "a.lower()"
   ]
  },
  {
   "cell_type": "markdown",
   "id": "128e2886",
   "metadata": {
    "ExecuteTime": {
     "end_time": "2023-11-24T01:41:33.626238Z",
     "start_time": "2023-11-24T01:41:33.621460Z"
    }
   },
   "source": [
    "## 공백 지우기(strip)"
   ]
  },
  {
   "cell_type": "code",
   "execution_count": 84,
   "id": "fb19d180",
   "metadata": {
    "ExecuteTime": {
     "end_time": "2023-11-24T01:41:53.098438Z",
     "start_time": "2023-11-24T01:41:53.094257Z"
    }
   },
   "outputs": [],
   "source": [
    "# 왼쪽 공백 지우기\n",
    "a = '         hi                '"
   ]
  },
  {
   "cell_type": "code",
   "execution_count": 85,
   "id": "1bd747f0",
   "metadata": {
    "ExecuteTime": {
     "end_time": "2023-11-24T01:41:58.828595Z",
     "start_time": "2023-11-24T01:41:58.822692Z"
    }
   },
   "outputs": [
    {
     "data": {
      "text/plain": [
       "'hi                '"
      ]
     },
     "execution_count": 85,
     "metadata": {},
     "output_type": "execute_result"
    }
   ],
   "source": [
    "a.lstrip()"
   ]
  },
  {
   "cell_type": "code",
   "execution_count": 86,
   "id": "a5a55f93",
   "metadata": {
    "ExecuteTime": {
     "end_time": "2023-11-24T01:42:14.244736Z",
     "start_time": "2023-11-24T01:42:14.238554Z"
    }
   },
   "outputs": [
    {
     "data": {
      "text/plain": [
       "'         hi'"
      ]
     },
     "execution_count": 86,
     "metadata": {},
     "output_type": "execute_result"
    }
   ],
   "source": [
    "a.rstrip()"
   ]
  },
  {
   "cell_type": "code",
   "execution_count": 87,
   "id": "9309ffa2",
   "metadata": {
    "ExecuteTime": {
     "end_time": "2023-11-24T01:42:21.387675Z",
     "start_time": "2023-11-24T01:42:21.382319Z"
    }
   },
   "outputs": [
    {
     "data": {
      "text/plain": [
       "'hi'"
      ]
     },
     "execution_count": 87,
     "metadata": {},
     "output_type": "execute_result"
    }
   ],
   "source": [
    "a.strip()"
   ]
  },
  {
   "cell_type": "markdown",
   "id": "30d2b91e",
   "metadata": {},
   "source": [
    "## 문자열 바꾸기(replace)"
   ]
  },
  {
   "cell_type": "code",
   "execution_count": 88,
   "id": "28f23754",
   "metadata": {
    "ExecuteTime": {
     "end_time": "2023-11-24T01:44:54.381258Z",
     "start_time": "2023-11-24T01:44:54.374891Z"
    }
   },
   "outputs": [
    {
     "data": {
      "text/plain": [
       "'your leg is too shor'"
      ]
     },
     "execution_count": 88,
     "metadata": {},
     "output_type": "execute_result"
    }
   ],
   "source": [
    "a = 'Life is too shor'\n",
    "a.replace('Life', 'your leg')"
   ]
  },
  {
   "cell_type": "code",
   "execution_count": 89,
   "id": "de517c2b",
   "metadata": {
    "ExecuteTime": {
     "end_time": "2023-11-24T01:45:33.894937Z",
     "start_time": "2023-11-24T01:45:33.888470Z"
    }
   },
   "outputs": [],
   "source": [
    "a.replace?"
   ]
  },
  {
   "cell_type": "markdown",
   "id": "2b5b8542",
   "metadata": {
    "ExecuteTime": {
     "end_time": "2023-11-24T01:45:45.883313Z",
     "start_time": "2023-11-24T01:45:45.879877Z"
    }
   },
   "source": [
    "## 문자열 나누기(split)"
   ]
  },
  {
   "cell_type": "code",
   "execution_count": 91,
   "id": "baaa6e0e",
   "metadata": {
    "ExecuteTime": {
     "end_time": "2023-11-24T01:46:18.436307Z",
     "start_time": "2023-11-24T01:46:18.431207Z"
    }
   },
   "outputs": [
    {
     "data": {
      "text/plain": [
       "'Life is too shor'"
      ]
     },
     "execution_count": 91,
     "metadata": {},
     "output_type": "execute_result"
    }
   ],
   "source": [
    "a"
   ]
  },
  {
   "cell_type": "code",
   "execution_count": 92,
   "id": "50d54b0d",
   "metadata": {
    "ExecuteTime": {
     "end_time": "2023-11-24T01:46:23.253384Z",
     "start_time": "2023-11-24T01:46:23.247685Z"
    }
   },
   "outputs": [
    {
     "data": {
      "text/plain": [
       "['Life', 'is', 'too', 'shor']"
      ]
     },
     "execution_count": 92,
     "metadata": {},
     "output_type": "execute_result"
    }
   ],
   "source": [
    "a.split()"
   ]
  },
  {
   "cell_type": "code",
   "execution_count": 93,
   "id": "874371e9",
   "metadata": {
    "ExecuteTime": {
     "end_time": "2023-11-24T01:46:42.644027Z",
     "start_time": "2023-11-24T01:46:42.639625Z"
    }
   },
   "outputs": [],
   "source": [
    "b = 'a:b:c:d'"
   ]
  },
  {
   "cell_type": "code",
   "execution_count": 94,
   "id": "9afd2af4",
   "metadata": {
    "ExecuteTime": {
     "end_time": "2023-11-24T01:46:54.541925Z",
     "start_time": "2023-11-24T01:46:54.535108Z"
    }
   },
   "outputs": [
    {
     "data": {
      "text/plain": [
       "['a', 'b', 'c', 'd']"
      ]
     },
     "execution_count": 94,
     "metadata": {},
     "output_type": "execute_result"
    }
   ],
   "source": [
    "b.split(':')"
   ]
  },
  {
   "cell_type": "code",
   "execution_count": 95,
   "id": "32bd5e6f",
   "metadata": {
    "ExecuteTime": {
     "end_time": "2023-11-24T01:48:02.982290Z",
     "start_time": "2023-11-24T01:48:02.976513Z"
    }
   },
   "outputs": [
    {
     "data": {
      "text/plain": [
       "['Life', 'is', 'too', 'shor']"
      ]
     },
     "execution_count": 95,
     "metadata": {},
     "output_type": "execute_result"
    }
   ],
   "source": [
    "a1 = a.split()\n",
    "a1"
   ]
  },
  {
   "cell_type": "code",
   "execution_count": 96,
   "id": "5f47adcd",
   "metadata": {
    "ExecuteTime": {
     "end_time": "2023-11-24T01:49:01.397392Z",
     "start_time": "2023-11-24T01:49:01.391780Z"
    }
   },
   "outputs": [
    {
     "data": {
      "text/plain": [
       "'Life is too shor'"
      ]
     },
     "execution_count": 96,
     "metadata": {},
     "output_type": "execute_result"
    }
   ],
   "source": [
    "' '.join(a1)"
   ]
  },
  {
   "cell_type": "markdown",
   "id": "3dcdbd6b",
   "metadata": {},
   "source": [
    "## 리스트"
   ]
  },
  {
   "cell_type": "code",
   "execution_count": 100,
   "id": "e1978688",
   "metadata": {
    "ExecuteTime": {
     "end_time": "2023-11-24T02:03:09.705811Z",
     "start_time": "2023-11-24T02:03:09.699666Z"
    }
   },
   "outputs": [
    {
     "data": {
      "text/plain": [
       "([1, 3, 5, 7, 9], list)"
      ]
     },
     "execution_count": 100,
     "metadata": {},
     "output_type": "execute_result"
    }
   ],
   "source": [
    "odd = [1, 3, 5, 7, 9]\n",
    "odd, type(odd)"
   ]
  },
  {
   "cell_type": "code",
   "execution_count": 103,
   "id": "bf4ccb45",
   "metadata": {
    "ExecuteTime": {
     "end_time": "2023-11-24T02:05:29.284366Z",
     "start_time": "2023-11-24T02:05:29.277884Z"
    }
   },
   "outputs": [
    {
     "name": "stdout",
     "output_type": "stream",
     "text": [
      "[] [1, 2, 3] ['Life', 'is', 'too', 'short'] [1, 2, 'life', 'is'] [1, 2, ['life', 'is']]\n",
      "<class 'list'> <class 'list'> <class 'list'> <class 'list'> <class 'list'>\n"
     ]
    }
   ],
   "source": [
    "a = []\n",
    "b = [1, 2, 3]\n",
    "c = ['Life', 'is', 'too', 'short']\n",
    "d = [1, 2, 'life', 'is']\n",
    "e = [1, 2, ['life', 'is']]\n",
    "\n",
    "print(a, b, c, d, e)\n",
    "print(type(a), type(b), type(c), type(d), type(e))"
   ]
  },
  {
   "cell_type": "code",
   "execution_count": 104,
   "id": "fdb28604",
   "metadata": {
    "ExecuteTime": {
     "end_time": "2023-11-24T02:05:57.601698Z",
     "start_time": "2023-11-24T02:05:57.595678Z"
    }
   },
   "outputs": [
    {
     "data": {
      "text/plain": [
       "(4, 3)"
      ]
     },
     "execution_count": 104,
     "metadata": {},
     "output_type": "execute_result"
    }
   ],
   "source": [
    "len(d), len(e)"
   ]
  },
  {
   "cell_type": "code",
   "execution_count": 105,
   "id": "b9e093c4",
   "metadata": {
    "ExecuteTime": {
     "end_time": "2023-11-24T02:07:17.770029Z",
     "start_time": "2023-11-24T02:07:17.764225Z"
    }
   },
   "outputs": [
    {
     "data": {
      "text/plain": [
       "[1, 2, 3]"
      ]
     },
     "execution_count": 105,
     "metadata": {},
     "output_type": "execute_result"
    }
   ],
   "source": [
    "a = [1, 2, 3]\n",
    "a"
   ]
  },
  {
   "cell_type": "code",
   "execution_count": 106,
   "id": "2a0f896d",
   "metadata": {
    "ExecuteTime": {
     "end_time": "2023-11-24T02:07:20.370669Z",
     "start_time": "2023-11-24T02:07:20.364180Z"
    }
   },
   "outputs": [
    {
     "data": {
      "text/plain": [
       "1"
      ]
     },
     "execution_count": 106,
     "metadata": {},
     "output_type": "execute_result"
    }
   ],
   "source": [
    "a[0]"
   ]
  },
  {
   "cell_type": "code",
   "execution_count": 107,
   "id": "656bb851",
   "metadata": {
    "ExecuteTime": {
     "end_time": "2023-11-24T02:07:29.387196Z",
     "start_time": "2023-11-24T02:07:29.381269Z"
    }
   },
   "outputs": [
    {
     "data": {
      "text/plain": [
       "int"
      ]
     },
     "execution_count": 107,
     "metadata": {},
     "output_type": "execute_result"
    }
   ],
   "source": [
    "type(a[0])"
   ]
  },
  {
   "cell_type": "code",
   "execution_count": 108,
   "id": "401ca5dd",
   "metadata": {
    "ExecuteTime": {
     "end_time": "2023-11-24T02:07:47.410152Z",
     "start_time": "2023-11-24T02:07:47.403770Z"
    }
   },
   "outputs": [
    {
     "data": {
      "text/plain": [
       "2"
      ]
     },
     "execution_count": 108,
     "metadata": {},
     "output_type": "execute_result"
    }
   ],
   "source": [
    "a[0] * a[1]"
   ]
  },
  {
   "cell_type": "code",
   "execution_count": 109,
   "id": "fa40652c",
   "metadata": {
    "ExecuteTime": {
     "end_time": "2023-11-24T02:08:45.148368Z",
     "start_time": "2023-11-24T02:08:45.141948Z"
    }
   },
   "outputs": [
    {
     "data": {
      "text/plain": [
       "1"
      ]
     },
     "execution_count": 109,
     "metadata": {},
     "output_type": "execute_result"
    }
   ],
   "source": [
    "b = [1, 2, 3, ['a', 'b', 'c']]\n",
    "b[0]"
   ]
  },
  {
   "cell_type": "code",
   "execution_count": 110,
   "id": "49144417",
   "metadata": {
    "ExecuteTime": {
     "end_time": "2023-11-24T02:08:48.979224Z",
     "start_time": "2023-11-24T02:08:48.973445Z"
    }
   },
   "outputs": [
    {
     "data": {
      "text/plain": [
       "['a', 'b', 'c']"
      ]
     },
     "execution_count": 110,
     "metadata": {},
     "output_type": "execute_result"
    }
   ],
   "source": [
    "b[-1]"
   ]
  },
  {
   "cell_type": "code",
   "execution_count": 111,
   "id": "d06f8330",
   "metadata": {
    "ExecuteTime": {
     "end_time": "2023-11-24T02:08:52.899491Z",
     "start_time": "2023-11-24T02:08:52.893087Z"
    }
   },
   "outputs": [
    {
     "data": {
      "text/plain": [
       "['a', 'b', 'c']"
      ]
     },
     "execution_count": 111,
     "metadata": {},
     "output_type": "execute_result"
    }
   ],
   "source": [
    "b[3]"
   ]
  },
  {
   "cell_type": "code",
   "execution_count": 112,
   "id": "135f6552",
   "metadata": {
    "ExecuteTime": {
     "end_time": "2023-11-24T02:09:00.947939Z",
     "start_time": "2023-11-24T02:09:00.942290Z"
    }
   },
   "outputs": [
    {
     "data": {
      "text/plain": [
       "'a'"
      ]
     },
     "execution_count": 112,
     "metadata": {},
     "output_type": "execute_result"
    }
   ],
   "source": [
    "b[3][0]"
   ]
  },
  {
   "cell_type": "code",
   "execution_count": 113,
   "id": "683d3744",
   "metadata": {
    "ExecuteTime": {
     "end_time": "2023-11-24T02:09:24.275919Z",
     "start_time": "2023-11-24T02:09:24.269609Z"
    }
   },
   "outputs": [
    {
     "data": {
      "text/plain": [
       "'b'"
      ]
     },
     "execution_count": 113,
     "metadata": {},
     "output_type": "execute_result"
    }
   ],
   "source": [
    "b[-1][1]"
   ]
  },
  {
   "cell_type": "code",
   "execution_count": 115,
   "id": "ce4fe057",
   "metadata": {
    "ExecuteTime": {
     "end_time": "2023-11-24T02:10:01.997373Z",
     "start_time": "2023-11-24T02:10:01.990454Z"
    }
   },
   "outputs": [
    {
     "data": {
      "text/plain": [
       "[1, 2, ['a', 'b', ['Life', 'is']]]"
      ]
     },
     "execution_count": 115,
     "metadata": {},
     "output_type": "execute_result"
    }
   ],
   "source": [
    "c = [1, 2, ['a', 'b', ['Life', 'is']]]\n",
    "c"
   ]
  },
  {
   "cell_type": "code",
   "execution_count": 116,
   "id": "87551db3",
   "metadata": {
    "ExecuteTime": {
     "end_time": "2023-11-24T02:10:17.675596Z",
     "start_time": "2023-11-24T02:10:17.669788Z"
    }
   },
   "outputs": [
    {
     "data": {
      "text/plain": [
       "'Life'"
      ]
     },
     "execution_count": 116,
     "metadata": {},
     "output_type": "execute_result"
    }
   ],
   "source": [
    "c[2][2][0]"
   ]
  },
  {
   "cell_type": "code",
   "execution_count": 118,
   "id": "49ace18f",
   "metadata": {
    "ExecuteTime": {
     "end_time": "2023-11-24T02:10:55.883110Z",
     "start_time": "2023-11-24T02:10:55.877110Z"
    }
   },
   "outputs": [
    {
     "data": {
      "text/plain": [
       "'Life'"
      ]
     },
     "execution_count": 118,
     "metadata": {},
     "output_type": "execute_result"
    }
   ],
   "source": [
    "c[-1][-1][0]"
   ]
  },
  {
   "cell_type": "code",
   "execution_count": 119,
   "id": "a0e61f6c",
   "metadata": {
    "ExecuteTime": {
     "end_time": "2023-11-24T02:21:37.782637Z",
     "start_time": "2023-11-24T02:21:37.776476Z"
    }
   },
   "outputs": [
    {
     "data": {
      "text/plain": [
       "[1, 2, 3, 4, 5]"
      ]
     },
     "execution_count": 119,
     "metadata": {},
     "output_type": "execute_result"
    }
   ],
   "source": [
    "a = [1, 2, 3, 4, 5]\n",
    "a"
   ]
  },
  {
   "cell_type": "code",
   "execution_count": 120,
   "id": "6fae80c0",
   "metadata": {
    "ExecuteTime": {
     "end_time": "2023-11-24T02:21:48.990692Z",
     "start_time": "2023-11-24T02:21:48.984826Z"
    }
   },
   "outputs": [
    {
     "data": {
      "text/plain": [
       "[1, 2]"
      ]
     },
     "execution_count": 120,
     "metadata": {},
     "output_type": "execute_result"
    }
   ],
   "source": [
    "a[0:2]"
   ]
  },
  {
   "cell_type": "code",
   "execution_count": 121,
   "id": "b154b9ac",
   "metadata": {
    "ExecuteTime": {
     "end_time": "2023-11-24T02:22:02.078064Z",
     "start_time": "2023-11-24T02:22:02.072752Z"
    }
   },
   "outputs": [
    {
     "data": {
      "text/plain": [
       "'12'"
      ]
     },
     "execution_count": 121,
     "metadata": {},
     "output_type": "execute_result"
    }
   ],
   "source": [
    "a = '12345'\n",
    "a[0:2]"
   ]
  },
  {
   "cell_type": "code",
   "execution_count": 122,
   "id": "665c8e08",
   "metadata": {
    "ExecuteTime": {
     "end_time": "2023-11-24T02:22:29.774262Z",
     "start_time": "2023-11-24T02:22:29.768951Z"
    }
   },
   "outputs": [
    {
     "name": "stdout",
     "output_type": "stream",
     "text": [
      "[1, 2] [3, 4, 5]\n"
     ]
    }
   ],
   "source": [
    "a = [1, 2, 3, 4, 5]\n",
    "b = a[:2]\n",
    "c = a[2:]\n",
    "print(b, c)"
   ]
  },
  {
   "cell_type": "code",
   "execution_count": 123,
   "id": "4802892f",
   "metadata": {
    "ExecuteTime": {
     "end_time": "2023-11-24T02:23:51.247309Z",
     "start_time": "2023-11-24T02:23:51.241062Z"
    }
   },
   "outputs": [
    {
     "data": {
      "text/plain": [
       "[1, 2, 3, ['a', 'b', 'c'], 4, 5]"
      ]
     },
     "execution_count": 123,
     "metadata": {},
     "output_type": "execute_result"
    }
   ],
   "source": [
    "a = [1, 2, 3, ['a', 'b', 'c'], 4, 5]\n",
    "a"
   ]
  },
  {
   "cell_type": "code",
   "execution_count": 124,
   "id": "5fd9617d",
   "metadata": {
    "ExecuteTime": {
     "end_time": "2023-11-24T02:23:55.383395Z",
     "start_time": "2023-11-24T02:23:55.377328Z"
    }
   },
   "outputs": [
    {
     "data": {
      "text/plain": [
       "[3, ['a', 'b', 'c'], 4]"
      ]
     },
     "execution_count": 124,
     "metadata": {},
     "output_type": "execute_result"
    }
   ],
   "source": [
    "a[2:5]"
   ]
  },
  {
   "cell_type": "code",
   "execution_count": 125,
   "id": "4f94b80f",
   "metadata": {
    "ExecuteTime": {
     "end_time": "2023-11-24T02:23:59.664684Z",
     "start_time": "2023-11-24T02:23:59.658612Z"
    }
   },
   "outputs": [
    {
     "data": {
      "text/plain": [
       "['a', 'b']"
      ]
     },
     "execution_count": 125,
     "metadata": {},
     "output_type": "execute_result"
    }
   ],
   "source": [
    "a[3][:2]"
   ]
  },
  {
   "cell_type": "code",
   "execution_count": 126,
   "id": "c256d6bb",
   "metadata": {
    "ExecuteTime": {
     "end_time": "2023-11-24T02:24:24.951333Z",
     "start_time": "2023-11-24T02:24:24.944634Z"
    }
   },
   "outputs": [
    {
     "data": {
      "text/plain": [
       "[1, 2, 3, 4, 5, 6]"
      ]
     },
     "execution_count": 126,
     "metadata": {},
     "output_type": "execute_result"
    }
   ],
   "source": [
    "# 리스트 연산하기\n",
    "a = [1, 2, 3]\n",
    "b = [4, 5, 6]\n",
    "a + b"
   ]
  },
  {
   "cell_type": "code",
   "execution_count": 127,
   "id": "05d8e510",
   "metadata": {
    "ExecuteTime": {
     "end_time": "2023-11-24T02:25:03.432138Z",
     "start_time": "2023-11-24T02:25:03.426239Z"
    }
   },
   "outputs": [
    {
     "data": {
      "text/plain": [
       "[1, 2, 3, 1, 2, 3, 1, 2, 3]"
      ]
     },
     "execution_count": 127,
     "metadata": {},
     "output_type": "execute_result"
    }
   ],
   "source": [
    "# 리스트 반복하기\n",
    "a * 3"
   ]
  },
  {
   "cell_type": "code",
   "execution_count": 131,
   "id": "99000c80",
   "metadata": {
    "ExecuteTime": {
     "end_time": "2023-11-24T02:25:42.655732Z",
     "start_time": "2023-11-24T02:25:42.649233Z"
    }
   },
   "outputs": [
    {
     "data": {
      "text/plain": [
       "3"
      ]
     },
     "execution_count": 131,
     "metadata": {},
     "output_type": "execute_result"
    }
   ],
   "source": [
    "# 리스트의 길이 구하기\n",
    "\n",
    "len(a)"
   ]
  },
  {
   "cell_type": "markdown",
   "id": "4f332291",
   "metadata": {},
   "source": [
    "## 리스트 수정과 삭제"
   ]
  },
  {
   "cell_type": "code",
   "execution_count": 132,
   "id": "27cec788",
   "metadata": {
    "ExecuteTime": {
     "end_time": "2023-11-24T02:26:12.456298Z",
     "start_time": "2023-11-24T02:26:12.450309Z"
    }
   },
   "outputs": [
    {
     "data": {
      "text/plain": [
       "[1, 2, 4]"
      ]
     },
     "execution_count": 132,
     "metadata": {},
     "output_type": "execute_result"
    }
   ],
   "source": [
    "a = [1, 2, 3]\n",
    "a[2] = 4\n",
    "a"
   ]
  },
  {
   "cell_type": "code",
   "execution_count": 134,
   "id": "98c96638",
   "metadata": {
    "ExecuteTime": {
     "end_time": "2023-11-24T02:26:37.744081Z",
     "start_time": "2023-11-24T02:26:37.738067Z"
    }
   },
   "outputs": [
    {
     "data": {
      "text/plain": [
       "[1, 3]"
      ]
     },
     "execution_count": 134,
     "metadata": {},
     "output_type": "execute_result"
    }
   ],
   "source": [
    "# del 함수\n",
    "a = [1, 2, 3]\n",
    "del a[1]\n",
    "a"
   ]
  },
  {
   "cell_type": "code",
   "execution_count": 136,
   "id": "8216a5de",
   "metadata": {
    "ExecuteTime": {
     "end_time": "2023-11-24T02:26:58.704306Z",
     "start_time": "2023-11-24T02:26:58.697910Z"
    }
   },
   "outputs": [
    {
     "data": {
      "text/plain": [
       "[1, 2]"
      ]
     },
     "execution_count": 136,
     "metadata": {},
     "output_type": "execute_result"
    }
   ],
   "source": [
    "a = [1, 2, 3, 4, 5]\n",
    "del a[2:]\n",
    "a"
   ]
  },
  {
   "cell_type": "markdown",
   "id": "8ff998b2",
   "metadata": {
    "ExecuteTime": {
     "end_time": "2023-11-24T02:27:20.590726Z",
     "start_time": "2023-11-24T02:27:20.586009Z"
    }
   },
   "source": [
    "## 리스트 관련 함수\n",
    "- 요소 추가(append)"
   ]
  },
  {
   "cell_type": "code",
   "execution_count": 143,
   "id": "a6a0f709",
   "metadata": {
    "ExecuteTime": {
     "end_time": "2023-11-24T02:31:30.537214Z",
     "start_time": "2023-11-24T02:31:30.530762Z"
    }
   },
   "outputs": [
    {
     "data": {
      "text/plain": [
       "[1, 2, 3, 4, [5, 6]]"
      ]
     },
     "execution_count": 143,
     "metadata": {},
     "output_type": "execute_result"
    }
   ],
   "source": [
    "a = [1, 2, 3, 4]\n",
    "a.append([5, 6])\n",
    "a"
   ]
  },
  {
   "cell_type": "code",
   "execution_count": 144,
   "id": "7624cfc6",
   "metadata": {
    "ExecuteTime": {
     "end_time": "2023-11-24T02:31:40.737861Z",
     "start_time": "2023-11-24T02:31:40.731383Z"
    }
   },
   "outputs": [
    {
     "data": {
      "text/plain": [
       "[1, 2, 3, 4]"
      ]
     },
     "execution_count": 144,
     "metadata": {},
     "output_type": "execute_result"
    }
   ],
   "source": [
    "a = [1, 2, 3]\n",
    "a.append(4)\n",
    "a"
   ]
  },
  {
   "cell_type": "markdown",
   "id": "23ff3794",
   "metadata": {},
   "source": [
    "## 정렬(Sort)"
   ]
  },
  {
   "cell_type": "code",
   "execution_count": 138,
   "id": "3523b909",
   "metadata": {
    "ExecuteTime": {
     "end_time": "2023-11-24T02:29:56.569915Z",
     "start_time": "2023-11-24T02:29:56.563802Z"
    }
   },
   "outputs": [
    {
     "data": {
      "text/plain": [
       "[1, 2, 3, 4]"
      ]
     },
     "execution_count": 138,
     "metadata": {},
     "output_type": "execute_result"
    }
   ],
   "source": [
    "a = [1, 4, 3, 2]\n",
    "a.sort()\n",
    "a"
   ]
  },
  {
   "cell_type": "code",
   "execution_count": 146,
   "id": "800e0d24",
   "metadata": {
    "ExecuteTime": {
     "end_time": "2023-11-24T02:32:10.473405Z",
     "start_time": "2023-11-24T02:32:10.466290Z"
    }
   },
   "outputs": [
    {
     "data": {
      "text/plain": [
       "['a', 'b', 'c']"
      ]
     },
     "execution_count": 146,
     "metadata": {},
     "output_type": "execute_result"
    }
   ],
   "source": [
    "a = ['a', 'c', 'b']\n",
    "a.sort()\n",
    "a"
   ]
  },
  {
   "cell_type": "markdown",
   "id": "53e0f327",
   "metadata": {
    "ExecuteTime": {
     "end_time": "2023-11-24T02:31:12.695234Z",
     "start_time": "2023-11-24T02:31:12.691078Z"
    }
   },
   "source": [
    "## 리스트 뒤집기(reverse)"
   ]
  },
  {
   "cell_type": "code",
   "execution_count": 147,
   "id": "d08c1afe",
   "metadata": {
    "ExecuteTime": {
     "end_time": "2023-11-24T02:32:11.920358Z",
     "start_time": "2023-11-24T02:32:11.914130Z"
    }
   },
   "outputs": [
    {
     "data": {
      "text/plain": [
       "['c', 'b', 'a']"
      ]
     },
     "execution_count": 147,
     "metadata": {},
     "output_type": "execute_result"
    }
   ],
   "source": [
    "a.reverse()\n",
    "a"
   ]
  },
  {
   "cell_type": "markdown",
   "id": "d15c2887",
   "metadata": {},
   "source": [
    "## 위치 반환(index)"
   ]
  },
  {
   "cell_type": "code",
   "execution_count": 148,
   "id": "b6df07ec",
   "metadata": {
    "ExecuteTime": {
     "end_time": "2023-11-24T02:32:31.025367Z",
     "start_time": "2023-11-24T02:32:31.019253Z"
    }
   },
   "outputs": [
    {
     "data": {
      "text/plain": [
       "2"
      ]
     },
     "execution_count": 148,
     "metadata": {},
     "output_type": "execute_result"
    }
   ],
   "source": [
    "a = [1, 2, 3]\n",
    "a.index(3)"
   ]
  },
  {
   "cell_type": "code",
   "execution_count": 149,
   "id": "fca7d044",
   "metadata": {
    "ExecuteTime": {
     "end_time": "2023-11-24T02:32:39.088206Z",
     "start_time": "2023-11-24T02:32:39.066852Z"
    }
   },
   "outputs": [
    {
     "ename": "ValueError",
     "evalue": "5 is not in list",
     "output_type": "error",
     "traceback": [
      "\u001b[1;31m---------------------------------------------------------------------------\u001b[0m",
      "\u001b[1;31mValueError\u001b[0m                                Traceback (most recent call last)",
      "Cell \u001b[1;32mIn[149], line 1\u001b[0m\n\u001b[1;32m----> 1\u001b[0m a\u001b[38;5;241m.\u001b[39mindex(\u001b[38;5;241m5\u001b[39m)\n",
      "\u001b[1;31mValueError\u001b[0m: 5 is not in list"
     ]
    }
   ],
   "source": [
    "a.index(5)"
   ]
  },
  {
   "cell_type": "code",
   "execution_count": 150,
   "id": "09d67ddb",
   "metadata": {
    "ExecuteTime": {
     "end_time": "2023-11-24T02:33:54.162368Z",
     "start_time": "2023-11-24T02:33:54.156071Z"
    }
   },
   "outputs": [
    {
     "data": {
      "text/plain": [
       "2"
      ]
     },
     "execution_count": 150,
     "metadata": {},
     "output_type": "execute_result"
    }
   ],
   "source": [
    "a = [1, 2, 3, 3]\n",
    "a.index(3)"
   ]
  },
  {
   "cell_type": "markdown",
   "id": "eb3fb24e",
   "metadata": {
    "ExecuteTime": {
     "end_time": "2023-11-24T02:35:31.121225Z",
     "start_time": "2023-11-24T02:35:31.117845Z"
    }
   },
   "source": [
    "## 요소 삽입(insert)"
   ]
  },
  {
   "cell_type": "code",
   "execution_count": 159,
   "id": "26b065c9",
   "metadata": {
    "ExecuteTime": {
     "end_time": "2023-11-24T02:36:56.823699Z",
     "start_time": "2023-11-24T02:36:56.820455Z"
    }
   },
   "outputs": [],
   "source": [
    "a = [1, 2, 3]"
   ]
  },
  {
   "cell_type": "code",
   "execution_count": 154,
   "id": "c0c37f66",
   "metadata": {
    "ExecuteTime": {
     "end_time": "2023-11-24T02:35:58.272947Z",
     "start_time": "2023-11-24T02:35:58.267528Z"
    }
   },
   "outputs": [],
   "source": [
    "a.insert?"
   ]
  },
  {
   "cell_type": "code",
   "execution_count": 160,
   "id": "0f2aa32f",
   "metadata": {
    "ExecuteTime": {
     "end_time": "2023-11-24T02:36:57.633252Z",
     "start_time": "2023-11-24T02:36:57.627393Z"
    }
   },
   "outputs": [
    {
     "data": {
      "text/plain": [
       "[4, 1, 2, 3]"
      ]
     },
     "execution_count": 160,
     "metadata": {},
     "output_type": "execute_result"
    }
   ],
   "source": [
    "a.insert(0, 4)\n",
    "a"
   ]
  },
  {
   "cell_type": "code",
   "execution_count": 161,
   "id": "c0f4ec36",
   "metadata": {
    "ExecuteTime": {
     "end_time": "2023-11-24T02:36:58.618366Z",
     "start_time": "2023-11-24T02:36:58.611386Z"
    }
   },
   "outputs": [
    {
     "data": {
      "text/plain": [
       "[4, 1, 2, 5, 3]"
      ]
     },
     "execution_count": 161,
     "metadata": {},
     "output_type": "execute_result"
    }
   ],
   "source": [
    "a.insert(3,5)\n",
    "a"
   ]
  },
  {
   "cell_type": "markdown",
   "id": "93589b68",
   "metadata": {},
   "source": [
    "## 요소 제거(remove)"
   ]
  },
  {
   "cell_type": "code",
   "execution_count": 164,
   "id": "01925c96",
   "metadata": {
    "ExecuteTime": {
     "end_time": "2023-11-24T02:37:51.161795Z",
     "start_time": "2023-11-24T02:37:51.155349Z"
    }
   },
   "outputs": [
    {
     "data": {
      "text/plain": [
       "[1, 2, 3, 1, 2, 3]"
      ]
     },
     "execution_count": 164,
     "metadata": {},
     "output_type": "execute_result"
    }
   ],
   "source": [
    "a = [1, 2,3, 1, 2, 3]\n",
    "a"
   ]
  },
  {
   "cell_type": "code",
   "execution_count": 165,
   "id": "6a1f0b0e",
   "metadata": {
    "ExecuteTime": {
     "end_time": "2023-11-24T02:37:53.028054Z",
     "start_time": "2023-11-24T02:37:53.022228Z"
    }
   },
   "outputs": [
    {
     "data": {
      "text/plain": [
       "[1, 2, 1, 2, 3]"
      ]
     },
     "execution_count": 165,
     "metadata": {},
     "output_type": "execute_result"
    }
   ],
   "source": [
    "a.remove(3)\n",
    "a"
   ]
  },
  {
   "cell_type": "markdown",
   "id": "73064535",
   "metadata": {},
   "source": [
    "## 요소 추출(pop) - 인덱스 요소를 출력하고 삭제해줘"
   ]
  },
  {
   "cell_type": "code",
   "execution_count": 166,
   "id": "5ab70a79",
   "metadata": {
    "ExecuteTime": {
     "end_time": "2023-11-24T02:38:22.172404Z",
     "start_time": "2023-11-24T02:38:22.165698Z"
    }
   },
   "outputs": [
    {
     "data": {
      "text/plain": [
       "3"
      ]
     },
     "execution_count": 166,
     "metadata": {},
     "output_type": "execute_result"
    }
   ],
   "source": [
    "a = [1, 2, 3]\n",
    "a.pop()"
   ]
  },
  {
   "cell_type": "code",
   "execution_count": 167,
   "id": "5fff937a",
   "metadata": {
    "ExecuteTime": {
     "end_time": "2023-11-24T02:38:28.883629Z",
     "start_time": "2023-11-24T02:38:28.877382Z"
    }
   },
   "outputs": [
    {
     "data": {
      "text/plain": [
       "[1, 2]"
      ]
     },
     "execution_count": 167,
     "metadata": {},
     "output_type": "execute_result"
    }
   ],
   "source": [
    "a"
   ]
  },
  {
   "cell_type": "code",
   "execution_count": 168,
   "id": "7fd452fc",
   "metadata": {
    "ExecuteTime": {
     "end_time": "2023-11-24T02:39:08.708045Z",
     "start_time": "2023-11-24T02:39:08.701841Z"
    }
   },
   "outputs": [
    {
     "data": {
      "text/plain": [
       "2"
      ]
     },
     "execution_count": 168,
     "metadata": {},
     "output_type": "execute_result"
    }
   ],
   "source": [
    "a = [1, 2, 3]\n",
    "a.pop(1)"
   ]
  },
  {
   "cell_type": "code",
   "execution_count": 169,
   "id": "ba352e61",
   "metadata": {
    "ExecuteTime": {
     "end_time": "2023-11-24T02:39:11.571603Z",
     "start_time": "2023-11-24T02:39:11.565548Z"
    }
   },
   "outputs": [
    {
     "data": {
      "text/plain": [
       "[1, 3]"
      ]
     },
     "execution_count": 169,
     "metadata": {},
     "output_type": "execute_result"
    }
   ],
   "source": [
    "a"
   ]
  },
  {
   "cell_type": "markdown",
   "id": "1f6fd935",
   "metadata": {},
   "source": [
    "## 리스트 확장(extend)"
   ]
  },
  {
   "cell_type": "code",
   "execution_count": 171,
   "id": "a155e62e",
   "metadata": {
    "ExecuteTime": {
     "end_time": "2023-11-24T02:41:33.349430Z",
     "start_time": "2023-11-24T02:41:33.343550Z"
    }
   },
   "outputs": [
    {
     "data": {
      "text/plain": [
       "[1, 2, 3, 4, 5]"
      ]
     },
     "execution_count": 171,
     "metadata": {},
     "output_type": "execute_result"
    }
   ],
   "source": [
    "a = [1, 2, 3]\n",
    "a.extend([4, 5])\n",
    "a\n"
   ]
  },
  {
   "cell_type": "code",
   "execution_count": 172,
   "id": "29398195",
   "metadata": {
    "ExecuteTime": {
     "end_time": "2023-11-24T02:41:55.613023Z",
     "start_time": "2023-11-24T02:41:55.605526Z"
    }
   },
   "outputs": [
    {
     "data": {
      "text/plain": [
       "[1, 2, 3, 4, 5, 6, 7]"
      ]
     },
     "execution_count": 172,
     "metadata": {},
     "output_type": "execute_result"
    }
   ],
   "source": [
    "b = [6, 7]\n",
    "a.extend(b)\n",
    "a"
   ]
  },
  {
   "cell_type": "code",
   "execution_count": 174,
   "id": "0f72f250",
   "metadata": {
    "ExecuteTime": {
     "end_time": "2023-11-24T02:42:33.789568Z",
     "start_time": "2023-11-24T02:42:33.783219Z"
    }
   },
   "outputs": [
    {
     "data": {
      "text/plain": [
       "[1, 2, 3, 4, 5, 6, 7, 4, 5]"
      ]
     },
     "execution_count": 174,
     "metadata": {},
     "output_type": "execute_result"
    }
   ],
   "source": [
    "a += [4, 5]\n",
    "a"
   ]
  },
  {
   "cell_type": "markdown",
   "id": "d33e64cd",
   "metadata": {},
   "source": [
    "## 튜플(tuple)"
   ]
  },
  {
   "cell_type": "code",
   "execution_count": 176,
   "id": "55089e8a",
   "metadata": {
    "ExecuteTime": {
     "end_time": "2023-11-24T02:46:42.662006Z",
     "start_time": "2023-11-24T02:46:42.655108Z"
    }
   },
   "outputs": [
    {
     "name": "stdout",
     "output_type": "stream",
     "text": [
      "() (1,) (1, 2, 3) (1, 2, 3) ('a', 'b', ('ab', 'cd'))\n",
      "<class 'tuple'> <class 'tuple'> <class 'tuple'> <class 'tuple'> <class 'int'>\n"
     ]
    }
   ],
   "source": [
    "t1 = () # 빈 객체만 만들어진거\n",
    "t2 = (1, )\n",
    "t3 = (1, 2, 3)\n",
    "t4 = 1, 2, 3\n",
    "t5 = ('a', 'b', ('ab', 'cd'))\n",
    "\n",
    "print(t1, t2, t3, t4, t5)\n",
    "print(type(t1), type(t2), type(t3), type(t4), type(5))"
   ]
  },
  {
   "cell_type": "code",
   "execution_count": 177,
   "id": "0bc40b1c",
   "metadata": {
    "ExecuteTime": {
     "end_time": "2023-11-24T02:47:43.509825Z",
     "start_time": "2023-11-24T02:47:43.503711Z"
    }
   },
   "outputs": [
    {
     "data": {
      "text/plain": [
       "1"
      ]
     },
     "execution_count": 177,
     "metadata": {},
     "output_type": "execute_result"
    }
   ],
   "source": [
    "t6 = (1) # 값을 가지고 객체를 만드는 것\n",
    "t6"
   ]
  },
  {
   "cell_type": "code",
   "execution_count": 178,
   "id": "9916b282",
   "metadata": {
    "ExecuteTime": {
     "end_time": "2023-11-24T02:47:57.996620Z",
     "start_time": "2023-11-24T02:47:57.991644Z"
    }
   },
   "outputs": [
    {
     "name": "stdout",
     "output_type": "stream",
     "text": [
      "1 <class 'int'>\n"
     ]
    }
   ],
   "source": [
    "print(t6, type(t6)) # 튜플은 기본적으로 2개 이상"
   ]
  },
  {
   "cell_type": "code",
   "execution_count": 179,
   "id": "c54eb52c",
   "metadata": {
    "ExecuteTime": {
     "end_time": "2023-11-24T02:48:37.406440Z",
     "start_time": "2023-11-24T02:48:37.385403Z"
    }
   },
   "outputs": [
    {
     "ename": "TypeError",
     "evalue": "'tuple' object doesn't support item deletion",
     "output_type": "error",
     "traceback": [
      "\u001b[1;31m---------------------------------------------------------------------------\u001b[0m",
      "\u001b[1;31mTypeError\u001b[0m                                 Traceback (most recent call last)",
      "Cell \u001b[1;32mIn[179], line 2\u001b[0m\n\u001b[0;32m      1\u001b[0m t1 \u001b[38;5;241m=\u001b[39m (\u001b[38;5;241m1\u001b[39m, \u001b[38;5;241m2\u001b[39m, \u001b[38;5;124m'\u001b[39m\u001b[38;5;124ma\u001b[39m\u001b[38;5;124m'\u001b[39m, \u001b[38;5;124m'\u001b[39m\u001b[38;5;124mb\u001b[39m\u001b[38;5;124m'\u001b[39m)\n\u001b[1;32m----> 2\u001b[0m \u001b[38;5;28;01mdel\u001b[39;00m t1[\u001b[38;5;241m0\u001b[39m]\n",
      "\u001b[1;31mTypeError\u001b[0m: 'tuple' object doesn't support item deletion"
     ]
    }
   ],
   "source": [
    "t1 = (1, 2, 'a', 'b')\n",
    "del t1[0] # 삭제 못함"
   ]
  },
  {
   "cell_type": "code",
   "execution_count": 180,
   "id": "6b853676",
   "metadata": {
    "ExecuteTime": {
     "end_time": "2023-11-24T02:49:36.821883Z",
     "start_time": "2023-11-24T02:49:36.801852Z"
    }
   },
   "outputs": [
    {
     "ename": "TypeError",
     "evalue": "'tuple' object does not support item assignment",
     "output_type": "error",
     "traceback": [
      "\u001b[1;31m---------------------------------------------------------------------------\u001b[0m",
      "\u001b[1;31mTypeError\u001b[0m                                 Traceback (most recent call last)",
      "Cell \u001b[1;32mIn[180], line 2\u001b[0m\n\u001b[0;32m      1\u001b[0m t1 \u001b[38;5;241m=\u001b[39m (\u001b[38;5;241m1\u001b[39m, \u001b[38;5;241m2\u001b[39m, \u001b[38;5;124m'\u001b[39m\u001b[38;5;124ma\u001b[39m\u001b[38;5;124m'\u001b[39m, \u001b[38;5;124m'\u001b[39m\u001b[38;5;124mb\u001b[39m\u001b[38;5;124m'\u001b[39m)\n\u001b[1;32m----> 2\u001b[0m t1[\u001b[38;5;241m0\u001b[39m] \u001b[38;5;241m=\u001b[39m \u001b[38;5;124m'\u001b[39m\u001b[38;5;124mc\u001b[39m\u001b[38;5;124m'\u001b[39m\n",
      "\u001b[1;31mTypeError\u001b[0m: 'tuple' object does not support item assignment"
     ]
    }
   ],
   "source": [
    "t1 = (1, 2, 'a', 'b')\n",
    "t1[0] = 'c' # 수정 못함"
   ]
  },
  {
   "cell_type": "code",
   "execution_count": null,
   "id": "5d939a77",
   "metadata": {},
   "outputs": [],
   "source": []
  }
 ],
 "metadata": {
  "kernelspec": {
   "display_name": "Python 3 (ipykernel)",
   "language": "python",
   "name": "python3"
  },
  "language_info": {
   "codemirror_mode": {
    "name": "ipython",
    "version": 3
   },
   "file_extension": ".py",
   "mimetype": "text/x-python",
   "name": "python",
   "nbconvert_exporter": "python",
   "pygments_lexer": "ipython3",
   "version": "3.11.5"
  },
  "toc": {
   "base_numbering": 1,
   "nav_menu": {},
   "number_sections": true,
   "sideBar": true,
   "skip_h1_title": false,
   "title_cell": "Table of Contents",
   "title_sidebar": "Contents",
   "toc_cell": false,
   "toc_position": {},
   "toc_section_display": true,
   "toc_window_display": false
  }
 },
 "nbformat": 4,
 "nbformat_minor": 5
}
