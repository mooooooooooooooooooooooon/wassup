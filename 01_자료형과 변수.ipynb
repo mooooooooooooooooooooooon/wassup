{
 "cells": [
  {
   "cell_type": "markdown",
   "id": "720e3514",
   "metadata": {},
   "source": [
    "# 숫자형"
   ]
  },
  {
   "cell_type": "markdown",
   "id": "17b5a342",
   "metadata": {},
   "source": [
    "## 정수형"
   ]
  },
  {
   "cell_type": "code",
   "execution_count": 5,
   "id": "d6a909c2",
   "metadata": {
    "ExecuteTime": {
     "end_time": "2023-11-23T02:19:06.252839Z",
     "start_time": "2023-11-23T02:19:06.248865Z"
    }
   },
   "outputs": [],
   "source": [
    "a = 123"
   ]
  },
  {
   "cell_type": "code",
   "execution_count": 6,
   "id": "855707f4",
   "metadata": {
    "ExecuteTime": {
     "end_time": "2023-11-23T02:19:08.351153Z",
     "start_time": "2023-11-23T02:19:08.344569Z"
    }
   },
   "outputs": [
    {
     "data": {
      "text/plain": [
       "123"
      ]
     },
     "execution_count": 6,
     "metadata": {},
     "output_type": "execute_result"
    }
   ],
   "source": [
    "a"
   ]
  },
  {
   "cell_type": "code",
   "execution_count": 7,
   "id": "c4f3169f",
   "metadata": {
    "ExecuteTime": {
     "end_time": "2023-11-23T02:20:54.103219Z",
     "start_time": "2023-11-23T02:20:54.097172Z"
    }
   },
   "outputs": [
    {
     "data": {
      "text/plain": [
       "-1654"
      ]
     },
     "execution_count": 7,
     "metadata": {},
     "output_type": "execute_result"
    }
   ],
   "source": [
    "a = -1654\n",
    "a"
   ]
  },
  {
   "cell_type": "code",
   "execution_count": 8,
   "id": "d139eb64",
   "metadata": {
    "ExecuteTime": {
     "end_time": "2023-11-23T02:20:56.838968Z",
     "start_time": "2023-11-23T02:20:56.832200Z"
    }
   },
   "outputs": [
    {
     "data": {
      "text/plain": [
       "0"
      ]
     },
     "execution_count": 8,
     "metadata": {},
     "output_type": "execute_result"
    }
   ],
   "source": [
    "a = 0\n",
    "a"
   ]
  },
  {
   "cell_type": "markdown",
   "id": "c0be74b4",
   "metadata": {},
   "source": [
    "## 실수형"
   ]
  },
  {
   "cell_type": "code",
   "execution_count": 9,
   "id": "10769c29",
   "metadata": {
    "ExecuteTime": {
     "end_time": "2023-11-23T02:21:22.718863Z",
     "start_time": "2023-11-23T02:21:22.712961Z"
    }
   },
   "outputs": [
    {
     "data": {
      "text/plain": [
       "1.2"
      ]
     },
     "execution_count": 9,
     "metadata": {},
     "output_type": "execute_result"
    }
   ],
   "source": [
    "a = 1.2\n",
    "a"
   ]
  },
  {
   "cell_type": "code",
   "execution_count": 10,
   "id": "e74c2661",
   "metadata": {
    "ExecuteTime": {
     "end_time": "2023-11-23T02:21:28.766674Z",
     "start_time": "2023-11-23T02:21:28.760793Z"
    }
   },
   "outputs": [
    {
     "data": {
      "text/plain": [
       "-3.14"
      ]
     },
     "execution_count": 10,
     "metadata": {},
     "output_type": "execute_result"
    }
   ],
   "source": [
    "a = -3.14\n",
    "a"
   ]
  },
  {
   "cell_type": "markdown",
   "id": "3fd168c8",
   "metadata": {
    "ExecuteTime": {
     "end_time": "2023-11-23T02:21:42.063471Z",
     "start_time": "2023-11-23T02:21:42.059785Z"
    }
   },
   "source": [
    "# 컴퓨터식 지수 표현"
   ]
  },
  {
   "cell_type": "code",
   "execution_count": 13,
   "id": "2f015444",
   "metadata": {
    "ExecuteTime": {
     "end_time": "2023-11-23T02:22:28.119432Z",
     "start_time": "2023-11-23T02:22:28.112911Z"
    }
   },
   "outputs": [
    {
     "data": {
      "text/plain": [
       "42400000000.0"
      ]
     },
     "execution_count": 13,
     "metadata": {},
     "output_type": "execute_result"
    }
   ],
   "source": [
    "a = 4.24E10 # 4.24 * 10^10\n",
    "a"
   ]
  },
  {
   "cell_type": "markdown",
   "id": "dfcebdad",
   "metadata": {
    "ExecuteTime": {
     "end_time": "2023-11-23T02:22:41.639742Z",
     "start_time": "2023-11-23T02:22:41.636286Z"
    }
   },
   "source": [
    "## 8진수와 16진수"
   ]
  },
  {
   "cell_type": "code",
   "execution_count": 15,
   "id": "89a8f63f",
   "metadata": {
    "ExecuteTime": {
     "end_time": "2023-11-23T02:23:25.687505Z",
     "start_time": "2023-11-23T02:23:25.680961Z"
    }
   },
   "outputs": [
    {
     "data": {
      "text/plain": [
       "127"
      ]
     },
     "execution_count": 15,
     "metadata": {},
     "output_type": "execute_result"
    }
   ],
   "source": [
    "a = 0o177\n",
    "a"
   ]
  },
  {
   "cell_type": "code",
   "execution_count": 16,
   "id": "e6b731d7",
   "metadata": {
    "ExecuteTime": {
     "end_time": "2023-11-23T02:23:30.935554Z",
     "start_time": "2023-11-23T02:23:30.929586Z"
    }
   },
   "outputs": [
    {
     "data": {
      "text/plain": [
       "int"
      ]
     },
     "execution_count": 16,
     "metadata": {},
     "output_type": "execute_result"
    }
   ],
   "source": [
    "type(a)"
   ]
  },
  {
   "cell_type": "code",
   "execution_count": 17,
   "id": "6927516f",
   "metadata": {
    "ExecuteTime": {
     "end_time": "2023-11-23T02:24:03.752374Z",
     "start_time": "2023-11-23T02:24:03.746419Z"
    }
   },
   "outputs": [
    {
     "data": {
      "text/plain": [
       "2303"
      ]
     },
     "execution_count": 17,
     "metadata": {},
     "output_type": "execute_result"
    }
   ],
   "source": [
    "a = 0x8ff\n",
    "a"
   ]
  },
  {
   "cell_type": "markdown",
   "id": "38b82808",
   "metadata": {},
   "source": [
    "## 사칙연산"
   ]
  },
  {
   "cell_type": "code",
   "execution_count": 18,
   "id": "5c3795fa",
   "metadata": {
    "ExecuteTime": {
     "end_time": "2023-11-23T02:24:19.600844Z",
     "start_time": "2023-11-23T02:24:19.594912Z"
    }
   },
   "outputs": [
    {
     "data": {
      "text/plain": [
       "7"
      ]
     },
     "execution_count": 18,
     "metadata": {},
     "output_type": "execute_result"
    }
   ],
   "source": [
    "a = 3\n",
    "b = 4\n",
    "a+b"
   ]
  },
  {
   "cell_type": "code",
   "execution_count": 19,
   "id": "650bd3b0",
   "metadata": {
    "ExecuteTime": {
     "end_time": "2023-11-23T02:25:02.439534Z",
     "start_time": "2023-11-23T02:25:02.434158Z"
    }
   },
   "outputs": [
    {
     "data": {
      "text/plain": [
       "12"
      ]
     },
     "execution_count": 19,
     "metadata": {},
     "output_type": "execute_result"
    }
   ],
   "source": [
    "a * b"
   ]
  },
  {
   "cell_type": "code",
   "execution_count": 20,
   "id": "30351891",
   "metadata": {
    "ExecuteTime": {
     "end_time": "2023-11-23T02:25:46.840049Z",
     "start_time": "2023-11-23T02:25:46.834415Z"
    }
   },
   "outputs": [
    {
     "data": {
      "text/plain": [
       "0.75"
      ]
     },
     "execution_count": 20,
     "metadata": {},
     "output_type": "execute_result"
    }
   ],
   "source": [
    "a / b"
   ]
  },
  {
   "cell_type": "code",
   "execution_count": 22,
   "id": "2af87a52",
   "metadata": {
    "ExecuteTime": {
     "end_time": "2023-11-23T02:27:42.649083Z",
     "start_time": "2023-11-23T02:27:42.641851Z"
    }
   },
   "outputs": [
    {
     "data": {
      "text/plain": [
       "81"
      ]
     },
     "execution_count": 22,
     "metadata": {},
     "output_type": "execute_result"
    }
   ],
   "source": [
    "# x 의 y 제곱\n",
    "a ** b"
   ]
  },
  {
   "cell_type": "code",
   "execution_count": 29,
   "id": "ab9934ac",
   "metadata": {
    "ExecuteTime": {
     "end_time": "2023-11-23T02:30:14.577643Z",
     "start_time": "2023-11-23T02:30:14.571510Z"
    }
   },
   "outputs": [
    {
     "data": {
      "text/plain": [
       "1.75"
      ]
     },
     "execution_count": 29,
     "metadata": {},
     "output_type": "execute_result"
    }
   ],
   "source": [
    "\n",
    "7/4"
   ]
  },
  {
   "cell_type": "code",
   "execution_count": 28,
   "id": "9c97c9d8",
   "metadata": {
    "ExecuteTime": {
     "end_time": "2023-11-23T02:30:10.186574Z",
     "start_time": "2023-11-23T02:30:10.181426Z"
    }
   },
   "outputs": [
    {
     "data": {
      "text/plain": [
       "1"
      ]
     },
     "execution_count": 28,
     "metadata": {},
     "output_type": "execute_result"
    }
   ],
   "source": [
    "# 나눗셈의 몫을 반환\n",
    "7 // 4"
   ]
  },
  {
   "cell_type": "code",
   "execution_count": 27,
   "id": "f75cbd89",
   "metadata": {
    "ExecuteTime": {
     "end_time": "2023-11-23T02:30:01.096557Z",
     "start_time": "2023-11-23T02:30:01.091094Z"
    }
   },
   "outputs": [
    {
     "data": {
      "text/plain": [
       "3"
      ]
     },
     "execution_count": 27,
     "metadata": {},
     "output_type": "execute_result"
    }
   ],
   "source": [
    "# % 나머지를 반환\n",
    "7 % 4"
   ]
  },
  {
   "cell_type": "markdown",
   "id": "db41ad6a",
   "metadata": {},
   "source": [
    "# 문자열"
   ]
  },
  {
   "cell_type": "code",
   "execution_count": 30,
   "id": "cf9ff728",
   "metadata": {
    "ExecuteTime": {
     "end_time": "2023-11-23T02:32:48.650457Z",
     "start_time": "2023-11-23T02:32:48.644945Z"
    }
   },
   "outputs": [
    {
     "data": {
      "text/plain": [
       "'Hello World'"
      ]
     },
     "execution_count": 30,
     "metadata": {},
     "output_type": "execute_result"
    }
   ],
   "source": [
    "\"Hello World\""
   ]
  },
  {
   "cell_type": "code",
   "execution_count": 31,
   "id": "4f901e78",
   "metadata": {
    "ExecuteTime": {
     "end_time": "2023-11-23T02:32:54.105331Z",
     "start_time": "2023-11-23T02:32:54.099648Z"
    }
   },
   "outputs": [
    {
     "data": {
      "text/plain": [
       "'Hello World'"
      ]
     },
     "execution_count": 31,
     "metadata": {},
     "output_type": "execute_result"
    }
   ],
   "source": [
    "'Hello World'"
   ]
  },
  {
   "cell_type": "code",
   "execution_count": 37,
   "id": "353addc8",
   "metadata": {
    "ExecuteTime": {
     "end_time": "2023-11-23T02:33:55.426115Z",
     "start_time": "2023-11-23T02:33:55.420690Z"
    }
   },
   "outputs": [
    {
     "data": {
      "text/plain": [
       "'Life is too short,\\n\\nYou need Python'"
      ]
     },
     "execution_count": 37,
     "metadata": {},
     "output_type": "execute_result"
    }
   ],
   "source": [
    "'''Life is too short,\n",
    "\n",
    "You need Python'''"
   ]
  },
  {
   "cell_type": "code",
   "execution_count": 38,
   "id": "30a7473d",
   "metadata": {
    "ExecuteTime": {
     "end_time": "2023-11-23T02:34:07.553456Z",
     "start_time": "2023-11-23T02:34:07.547915Z"
    }
   },
   "outputs": [
    {
     "data": {
      "text/plain": [
       "'Life is too short, You need python'"
      ]
     },
     "execution_count": 38,
     "metadata": {},
     "output_type": "execute_result"
    }
   ],
   "source": [
    "\"Life is too short, You need python\""
   ]
  },
  {
   "cell_type": "code",
   "execution_count": 42,
   "id": "0c835315",
   "metadata": {
    "ExecuteTime": {
     "end_time": "2023-11-23T02:35:41.213357Z",
     "start_time": "2023-11-23T02:35:41.207165Z"
    }
   },
   "outputs": [
    {
     "data": {
      "text/plain": [
       "\"Python's favorite food is perl\""
      ]
     },
     "execution_count": 42,
     "metadata": {},
     "output_type": "execute_result"
    }
   ],
   "source": [
    "\"Python's favorite food is perl\" # 쌍따옴표와 홑따옴표를 구분하기 위함"
   ]
  },
  {
   "cell_type": "code",
   "execution_count": 43,
   "id": "da3b6552",
   "metadata": {
    "ExecuteTime": {
     "end_time": "2023-11-23T02:35:44.667238Z",
     "start_time": "2023-11-23T02:35:44.660330Z"
    }
   },
   "outputs": [
    {
     "data": {
      "text/plain": [
       "'Pyrhon\"s favorite food is perl'"
      ]
     },
     "execution_count": 43,
     "metadata": {},
     "output_type": "execute_result"
    }
   ],
   "source": [
    "'Pyrhon\"s favorite food is perl'"
   ]
  },
  {
   "cell_type": "code",
   "execution_count": 46,
   "id": "8be41ce6",
   "metadata": {
    "ExecuteTime": {
     "end_time": "2023-11-23T02:36:48.995080Z",
     "start_time": "2023-11-23T02:36:48.989111Z"
    }
   },
   "outputs": [
    {
     "data": {
      "text/plain": [
       "\"Pyrhon's favorite food is perl\""
      ]
     },
     "execution_count": 46,
     "metadata": {},
     "output_type": "execute_result"
    }
   ],
   "source": [
    "food = \"Pyrhon's favorite food is perl\"\n",
    "food"
   ]
  },
  {
   "cell_type": "code",
   "execution_count": 48,
   "id": "b9115d96",
   "metadata": {
    "ExecuteTime": {
     "end_time": "2023-11-23T02:37:52.507320Z",
     "start_time": "2023-11-23T02:37:52.501567Z"
    }
   },
   "outputs": [
    {
     "data": {
      "text/plain": [
       "'\"Python is very ease.\" he says'"
      ]
     },
     "execution_count": 48,
     "metadata": {},
     "output_type": "execute_result"
    }
   ],
   "source": [
    "'\"Python is very ease.\" he says'"
   ]
  },
  {
   "cell_type": "code",
   "execution_count": 49,
   "id": "fe8bc693",
   "metadata": {
    "ExecuteTime": {
     "end_time": "2023-11-23T02:40:17.348142Z",
     "start_time": "2023-11-23T02:40:17.342504Z"
    }
   },
   "outputs": [
    {
     "data": {
      "text/plain": [
       "\"Pyrhon's favorite food is perl\""
      ]
     },
     "execution_count": 49,
     "metadata": {},
     "output_type": "execute_result"
    }
   ],
   "source": [
    "# 백슬래시(\\)를 사용해서 따옴표를 문자열에 포함 가능\n",
    "\n",
    "'Pyrhon\\'s favorite food is perl'"
   ]
  },
  {
   "cell_type": "code",
   "execution_count": 54,
   "id": "9cbaf9e5",
   "metadata": {
    "ExecuteTime": {
     "end_time": "2023-11-23T02:41:53.421402Z",
     "start_time": "2023-11-23T02:41:53.414826Z"
    }
   },
   "outputs": [
    {
     "data": {
      "text/plain": [
       "(\"Pyrhon's favorite food is perl\", '\\'Python is very ease.\" he says.')"
      ]
     },
     "execution_count": 54,
     "metadata": {},
     "output_type": "execute_result"
    }
   ],
   "source": [
    "food = 'Pyrhon\\'s favorite food is perl'\n",
    "\n",
    "say = \"\\'Python is very ease.\\\" he says.\"\n",
    "\n",
    "food, say"
   ]
  },
  {
   "cell_type": "markdown",
   "id": "376fac9c",
   "metadata": {},
   "source": [
    "### 여러 줄인 문자열을 변수에 대입하고 싶을때"
   ]
  },
  {
   "cell_type": "code",
   "execution_count": 57,
   "id": "b622253d",
   "metadata": {
    "ExecuteTime": {
     "end_time": "2023-11-23T02:44:02.934300Z",
     "start_time": "2023-11-23T02:44:02.927328Z"
    }
   },
   "outputs": [
    {
     "data": {
      "text/plain": [
       "'Life is too short\\n You need python'"
      ]
     },
     "execution_count": 57,
     "metadata": {},
     "output_type": "execute_result"
    }
   ],
   "source": [
    "# 줄을 바꾸는 이스케이프코드 \\n\n",
    "\n",
    "multiline = \"Life is too short\\n You need python\"\n",
    "multiline # notebook 편의기능"
   ]
  },
  {
   "cell_type": "code",
   "execution_count": 58,
   "id": "253c4310",
   "metadata": {
    "ExecuteTime": {
     "end_time": "2023-11-23T02:44:10.156597Z",
     "start_time": "2023-11-23T02:44:10.151596Z"
    }
   },
   "outputs": [
    {
     "name": "stdout",
     "output_type": "stream",
     "text": [
      "Life is too short\n",
      " You need python\n"
     ]
    }
   ],
   "source": [
    "print(multiline) # python 내장함수"
   ]
  },
  {
   "cell_type": "markdown",
   "id": "9a3f2b17",
   "metadata": {},
   "source": [
    "## 연속된 따옴표 사용하기"
   ]
  },
  {
   "cell_type": "code",
   "execution_count": 59,
   "id": "1ce022e2",
   "metadata": {
    "ExecuteTime": {
     "end_time": "2023-11-23T02:46:26.853797Z",
     "start_time": "2023-11-23T02:46:26.847738Z"
    }
   },
   "outputs": [
    {
     "data": {
      "text/plain": [
       "'Life is too short,\\nYou need python'"
      ]
     },
     "execution_count": 59,
     "metadata": {},
     "output_type": "execute_result"
    }
   ],
   "source": [
    "multiline = \"\"\"Life is too short,\n",
    "You need python\"\"\"\n",
    "multiline"
   ]
  },
  {
   "cell_type": "code",
   "execution_count": 60,
   "id": "ee480566",
   "metadata": {
    "ExecuteTime": {
     "end_time": "2023-11-23T02:46:34.236836Z",
     "start_time": "2023-11-23T02:46:34.231419Z"
    }
   },
   "outputs": [
    {
     "name": "stdout",
     "output_type": "stream",
     "text": [
      "Life is too short,\n",
      "You need python\n"
     ]
    }
   ],
   "source": [
    "print(multiline)"
   ]
  },
  {
   "cell_type": "markdown",
   "id": "958bf885",
   "metadata": {},
   "source": [
    "## 문자열 연산하기"
   ]
  },
  {
   "cell_type": "code",
   "execution_count": null,
   "id": "b7314e2e",
   "metadata": {},
   "outputs": [],
   "source": []
  }
 ],
 "metadata": {
  "kernelspec": {
   "display_name": "Python 3 (ipykernel)",
   "language": "python",
   "name": "python3"
  },
  "language_info": {
   "codemirror_mode": {
    "name": "ipython",
    "version": 3
   },
   "file_extension": ".py",
   "mimetype": "text/x-python",
   "name": "python",
   "nbconvert_exporter": "python",
   "pygments_lexer": "ipython3",
   "version": "3.11.5"
  },
  "toc": {
   "base_numbering": 1,
   "nav_menu": {},
   "number_sections": true,
   "sideBar": true,
   "skip_h1_title": false,
   "title_cell": "Table of Contents",
   "title_sidebar": "Contents",
   "toc_cell": false,
   "toc_position": {},
   "toc_section_display": true,
   "toc_window_display": false
  }
 },
 "nbformat": 4,
 "nbformat_minor": 5
}
