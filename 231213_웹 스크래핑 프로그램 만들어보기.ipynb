{
 "cells": [
  {
   "cell_type": "markdown",
   "id": "b0524361",
   "metadata": {},
   "source": [
    "# 웹 스크래핑 프로그램 만들기"
   ]
  },
  {
   "cell_type": "code",
   "execution_count": 8,
   "id": "fe75d77c",
   "metadata": {
    "ExecuteTime": {
     "end_time": "2023-12-13T02:50:30.161432Z",
     "start_time": "2023-12-13T02:50:15.586994Z"
    }
   },
   "outputs": [
    {
     "name": "stdout",
     "output_type": "stream",
     "text": [
      "검색어를 입력해주세요.\n",
      "검색할 개수를 입력하세요 : 343\n",
      "페이지를 불러옵니다.\n",
      "더보기 버튼을 클릭합니다.\n",
      "현재 페이지: 1\n"
     ]
    },
    {
     "ename": "ElementNotInteractableException",
     "evalue": "Message: element not interactable\n  (Session info: chrome=120.0.6099.71)\nStacktrace:\n\tGetHandleVerifier [0x00007FF77D444D02+56194]\n\t(No symbol) [0x00007FF77D3B04B2]\n\t(No symbol) [0x00007FF77D2574C3]\n\t(No symbol) [0x00007FF77D2A2B99]\n\t(No symbol) [0x00007FF77D29687F]\n\t(No symbol) [0x00007FF77D2C5E7A]\n\t(No symbol) [0x00007FF77D296226]\n\t(No symbol) [0x00007FF77D2C6320]\n\t(No symbol) [0x00007FF77D2E2786]\n\t(No symbol) [0x00007FF77D2C5C23]\n\t(No symbol) [0x00007FF77D294A45]\n\t(No symbol) [0x00007FF77D295AD4]\n\tGetHandleVerifier [0x00007FF77D7BD5BB+3695675]\n\tGetHandleVerifier [0x00007FF77D816197+4059159]\n\tGetHandleVerifier [0x00007FF77D80DF63+4025827]\n\tGetHandleVerifier [0x00007FF77D4DF029+687785]\n\t(No symbol) [0x00007FF77D3BB508]\n\t(No symbol) [0x00007FF77D3B7564]\n\t(No symbol) [0x00007FF77D3B76E9]\n\t(No symbol) [0x00007FF77D3A8094]\n\tBaseThreadInitThunk [0x00007FF9E3417344+20]\n\tRtlUserThreadStart [0x00007FF9E52826B1+33]\n",
     "output_type": "error",
     "traceback": [
      "\u001b[1;31m---------------------------------------------------------------------------\u001b[0m",
      "\u001b[1;31mElementNotInteractableException\u001b[0m           Traceback (most recent call last)",
      "Cell \u001b[1;32mIn[8], line 41\u001b[0m\n\u001b[0;32m     33\u001b[0m         current_page \u001b[38;5;241m+\u001b[39m\u001b[38;5;241m=\u001b[39m \u001b[38;5;241m1\u001b[39m\n\u001b[0;32m     34\u001b[0m \u001b[38;5;124;03m'''\u001b[39;00m\n\u001b[0;32m     35\u001b[0m \u001b[38;5;124;03m        next_page_xpath = f'/html/body/div[3]/div/div[1]/div[15]/a[{current_page}]'\u001b[39;00m\n\u001b[0;32m     36\u001b[0m \u001b[38;5;124;03m        driver.find_element(By.XPATH, next_page_xpath).click()\u001b[39;00m\n\u001b[0;32m     37\u001b[0m \u001b[38;5;124;03m        current_page += 1\u001b[39;00m\n\u001b[0;32m     38\u001b[0m \u001b[38;5;124;03m        time.sleep(random.randint(1, 2))\u001b[39;00m\n\u001b[0;32m     39\u001b[0m \u001b[38;5;124;03m'''\u001b[39;00m                \n\u001b[1;32m---> 41\u001b[0m click_next_page(pages)\n",
      "Cell \u001b[1;32mIn[8], line 32\u001b[0m, in \u001b[0;36mclick_next_page\u001b[1;34m(num_pages)\u001b[0m\n\u001b[0;32m     30\u001b[0m \u001b[38;5;28;01mfor\u001b[39;00m i \u001b[38;5;129;01min\u001b[39;00m \u001b[38;5;28mrange\u001b[39m(\u001b[38;5;241m1\u001b[39m, num_pages):\n\u001b[0;32m     31\u001b[0m     \u001b[38;5;28mprint\u001b[39m(\u001b[38;5;124m'\u001b[39m\u001b[38;5;124m현재 페이지:\u001b[39m\u001b[38;5;124m'\u001b[39m, current_page)\n\u001b[1;32m---> 32\u001b[0m     driver\u001b[38;5;241m.\u001b[39mfind_element(By\u001b[38;5;241m.\u001b[39mID, \u001b[38;5;28mstr\u001b[39m(current_page))\u001b[38;5;241m.\u001b[39mclick()\n\u001b[0;32m     33\u001b[0m     current_page \u001b[38;5;241m+\u001b[39m\u001b[38;5;241m=\u001b[39m \u001b[38;5;241m1\u001b[39m\n",
      "File \u001b[1;32m~\\anaconda3\\Lib\\site-packages\\selenium\\webdriver\\remote\\webelement.py:94\u001b[0m, in \u001b[0;36mWebElement.click\u001b[1;34m(self)\u001b[0m\n\u001b[0;32m     92\u001b[0m \u001b[38;5;28;01mdef\u001b[39;00m \u001b[38;5;21mclick\u001b[39m(\u001b[38;5;28mself\u001b[39m) \u001b[38;5;241m-\u001b[39m\u001b[38;5;241m>\u001b[39m \u001b[38;5;28;01mNone\u001b[39;00m:\n\u001b[0;32m     93\u001b[0m \u001b[38;5;250m    \u001b[39m\u001b[38;5;124;03m\"\"\"Clicks the element.\"\"\"\u001b[39;00m\n\u001b[1;32m---> 94\u001b[0m     \u001b[38;5;28mself\u001b[39m\u001b[38;5;241m.\u001b[39m_execute(Command\u001b[38;5;241m.\u001b[39mCLICK_ELEMENT)\n",
      "File \u001b[1;32m~\\anaconda3\\Lib\\site-packages\\selenium\\webdriver\\remote\\webelement.py:395\u001b[0m, in \u001b[0;36mWebElement._execute\u001b[1;34m(self, command, params)\u001b[0m\n\u001b[0;32m    393\u001b[0m     params \u001b[38;5;241m=\u001b[39m {}\n\u001b[0;32m    394\u001b[0m params[\u001b[38;5;124m\"\u001b[39m\u001b[38;5;124mid\u001b[39m\u001b[38;5;124m\"\u001b[39m] \u001b[38;5;241m=\u001b[39m \u001b[38;5;28mself\u001b[39m\u001b[38;5;241m.\u001b[39m_id\n\u001b[1;32m--> 395\u001b[0m \u001b[38;5;28;01mreturn\u001b[39;00m \u001b[38;5;28mself\u001b[39m\u001b[38;5;241m.\u001b[39m_parent\u001b[38;5;241m.\u001b[39mexecute(command, params)\n",
      "File \u001b[1;32m~\\anaconda3\\Lib\\site-packages\\selenium\\webdriver\\remote\\webdriver.py:348\u001b[0m, in \u001b[0;36mWebDriver.execute\u001b[1;34m(self, driver_command, params)\u001b[0m\n\u001b[0;32m    346\u001b[0m response \u001b[38;5;241m=\u001b[39m \u001b[38;5;28mself\u001b[39m\u001b[38;5;241m.\u001b[39mcommand_executor\u001b[38;5;241m.\u001b[39mexecute(driver_command, params)\n\u001b[0;32m    347\u001b[0m \u001b[38;5;28;01mif\u001b[39;00m response:\n\u001b[1;32m--> 348\u001b[0m     \u001b[38;5;28mself\u001b[39m\u001b[38;5;241m.\u001b[39merror_handler\u001b[38;5;241m.\u001b[39mcheck_response(response)\n\u001b[0;32m    349\u001b[0m     response[\u001b[38;5;124m\"\u001b[39m\u001b[38;5;124mvalue\u001b[39m\u001b[38;5;124m\"\u001b[39m] \u001b[38;5;241m=\u001b[39m \u001b[38;5;28mself\u001b[39m\u001b[38;5;241m.\u001b[39m_unwrap_value(response\u001b[38;5;241m.\u001b[39mget(\u001b[38;5;124m\"\u001b[39m\u001b[38;5;124mvalue\u001b[39m\u001b[38;5;124m\"\u001b[39m, \u001b[38;5;28;01mNone\u001b[39;00m))\n\u001b[0;32m    350\u001b[0m     \u001b[38;5;28;01mreturn\u001b[39;00m response\n",
      "File \u001b[1;32m~\\anaconda3\\Lib\\site-packages\\selenium\\webdriver\\remote\\errorhandler.py:229\u001b[0m, in \u001b[0;36mErrorHandler.check_response\u001b[1;34m(self, response)\u001b[0m\n\u001b[0;32m    227\u001b[0m         alert_text \u001b[38;5;241m=\u001b[39m value[\u001b[38;5;124m\"\u001b[39m\u001b[38;5;124malert\u001b[39m\u001b[38;5;124m\"\u001b[39m]\u001b[38;5;241m.\u001b[39mget(\u001b[38;5;124m\"\u001b[39m\u001b[38;5;124mtext\u001b[39m\u001b[38;5;124m\"\u001b[39m)\n\u001b[0;32m    228\u001b[0m     \u001b[38;5;28;01mraise\u001b[39;00m exception_class(message, screen, stacktrace, alert_text)  \u001b[38;5;66;03m# type: ignore[call-arg]  # mypy is not smart enough here\u001b[39;00m\n\u001b[1;32m--> 229\u001b[0m \u001b[38;5;28;01mraise\u001b[39;00m exception_class(message, screen, stacktrace)\n",
      "\u001b[1;31mElementNotInteractableException\u001b[0m: Message: element not interactable\n  (Session info: chrome=120.0.6099.71)\nStacktrace:\n\tGetHandleVerifier [0x00007FF77D444D02+56194]\n\t(No symbol) [0x00007FF77D3B04B2]\n\t(No symbol) [0x00007FF77D2574C3]\n\t(No symbol) [0x00007FF77D2A2B99]\n\t(No symbol) [0x00007FF77D29687F]\n\t(No symbol) [0x00007FF77D2C5E7A]\n\t(No symbol) [0x00007FF77D296226]\n\t(No symbol) [0x00007FF77D2C6320]\n\t(No symbol) [0x00007FF77D2E2786]\n\t(No symbol) [0x00007FF77D2C5C23]\n\t(No symbol) [0x00007FF77D294A45]\n\t(No symbol) [0x00007FF77D295AD4]\n\tGetHandleVerifier [0x00007FF77D7BD5BB+3695675]\n\tGetHandleVerifier [0x00007FF77D816197+4059159]\n\tGetHandleVerifier [0x00007FF77D80DF63+4025827]\n\tGetHandleVerifier [0x00007FF77D4DF029+687785]\n\t(No symbol) [0x00007FF77D3BB508]\n\t(No symbol) [0x00007FF77D3B7564]\n\t(No symbol) [0x00007FF77D3B76E9]\n\t(No symbol) [0x00007FF77D3A8094]\n\tBaseThreadInitThunk [0x00007FF9E3417344+20]\n\tRtlUserThreadStart [0x00007FF9E52826B1+33]\n"
     ]
    }
   ],
   "source": [
    "from selenium import webdriver\n",
    "from selenium.webdriver.common.by import By\n",
    "from selenium.webdriver.chrome.options import Options\n",
    "import math, time\n",
    "import random\n",
    "\n",
    "options = Options()\n",
    "options.add_argument('--window-size=974,1047')\n",
    "options.add_argument('--window-position=953,0')\n",
    "options.add_experimental_option(\"detach\", True)\n",
    "\n",
    "search = input('검색어를 입력해주세요.')\n",
    "pages = int(input('검색할 개수를 입력하세요 : '))\n",
    "\n",
    "URL = 'https://korean.visitkorea.or.kr/search/search_list.do?keyword=' + search\n",
    "\n",
    "driver = webdriver.Chrome(options=options)\n",
    "driver.get(URL)\n",
    "print('페이지를 불러옵니다.')\n",
    "time.sleep(random.randint(2,3))\n",
    "    \n",
    "driver.find_element(By.XPATH, '/html/body/div[3]/div/div[1]/div[12]/div[1]/div[2]').click()\n",
    "print('더보기 버튼을 클릭합니다.')\n",
    "time.sleep(2)\n",
    "    \n",
    "def click_next_page(num_pages) :\n",
    "    \n",
    "    current_page = 1\n",
    "    \n",
    "    for i in range(1, num_pages):\n",
    "        print('현재 페이지:', current_page)\n",
    "        driver.find_element(By.ID, str(current_page)).click()\n",
    "        current_page += 1\n",
    "'''\n",
    "        next_page_xpath = f'/html/body/div[3]/div/div[1]/div[15]/a[{current_page}]'\n",
    "        driver.find_element(By.XPATH, next_page_xpath).click()\n",
    "        current_page += 1\n",
    "        time.sleep(random.randint(1, 2))\n",
    "'''                \n",
    "        \n",
    "click_next_page(pages)\n"
   ]
  },
  {
   "cell_type": "code",
   "execution_count": 6,
   "id": "172a57fa",
   "metadata": {
    "ExecuteTime": {
     "end_time": "2023-12-13T02:47:06.890884Z",
     "start_time": "2023-12-13T02:47:02.610406Z"
    }
   },
   "outputs": [
    {
     "name": "stdout",
     "output_type": "stream",
     "text": [
      "현재 페이지: 1\n",
      "현재 페이지: 2\n",
      "현재 페이지: 3\n"
     ]
    },
    {
     "ename": "ElementClickInterceptedException",
     "evalue": "Message: element click intercepted: Element <a href=\"javascript:\" id=\"...\">3</a> is not clickable at point (440, 14). Other element would receive the click: <svg id=\"pathicon1\" version=\"1.1\" xmlns=\"http://www.w3.org/2000/svg\" xmlns:xlink=\"http://www.w3.org/1999/xlink\" x=\"0px\" y=\"0px\" width=\"510px\" height=\"86px\" viewBox=\"0 0 510 86\" style=\"enable-background:new 0 0 510 86;\" xml:space=\"preserve\">...</svg>\n  (Session info: chrome=120.0.6099.71)\nStacktrace:\n\tGetHandleVerifier [0x00007FF77D444D02+56194]\n\t(No symbol) [0x00007FF77D3B04B2]\n\t(No symbol) [0x00007FF77D2576AA]\n\t(No symbol) [0x00007FF77D2A8763]\n\t(No symbol) [0x00007FF77D2A675D]\n\t(No symbol) [0x00007FF77D2A3F5C]\n\t(No symbol) [0x00007FF77D2A2D15]\n\t(No symbol) [0x00007FF77D29687F]\n\t(No symbol) [0x00007FF77D2C5E7A]\n\t(No symbol) [0x00007FF77D296226]\n\t(No symbol) [0x00007FF77D2C6320]\n\t(No symbol) [0x00007FF77D2E2786]\n\t(No symbol) [0x00007FF77D2C5C23]\n\t(No symbol) [0x00007FF77D294A45]\n\t(No symbol) [0x00007FF77D295AD4]\n\tGetHandleVerifier [0x00007FF77D7BD5BB+3695675]\n\tGetHandleVerifier [0x00007FF77D816197+4059159]\n\tGetHandleVerifier [0x00007FF77D80DF63+4025827]\n\tGetHandleVerifier [0x00007FF77D4DF029+687785]\n\t(No symbol) [0x00007FF77D3BB508]\n\t(No symbol) [0x00007FF77D3B7564]\n\t(No symbol) [0x00007FF77D3B76E9]\n\t(No symbol) [0x00007FF77D3A8094]\n\tBaseThreadInitThunk [0x00007FF9E3417344+20]\n\tRtlUserThreadStart [0x00007FF9E52826B1+33]\n",
     "output_type": "error",
     "traceback": [
      "\u001b[1;31m---------------------------------------------------------------------------\u001b[0m",
      "\u001b[1;31mElementClickInterceptedException\u001b[0m          Traceback (most recent call last)",
      "Cell \u001b[1;32mIn[6], line 1\u001b[0m\n\u001b[1;32m----> 1\u001b[0m click_next_page(pages)\n",
      "Cell \u001b[1;32mIn[5], line 34\u001b[0m, in \u001b[0;36mclick_next_page\u001b[1;34m(num_pages)\u001b[0m\n\u001b[0;32m     31\u001b[0m \u001b[38;5;28mprint\u001b[39m(\u001b[38;5;124m'\u001b[39m\u001b[38;5;124m현재 페이지:\u001b[39m\u001b[38;5;124m'\u001b[39m, current_page)\n\u001b[0;32m     33\u001b[0m next_page_xpath \u001b[38;5;241m=\u001b[39m \u001b[38;5;124mf\u001b[39m\u001b[38;5;124m'\u001b[39m\u001b[38;5;124m/html/body/div[3]/div/div[1]/div[15]/a[\u001b[39m\u001b[38;5;132;01m{\u001b[39;00mcurrent_page\u001b[38;5;132;01m}\u001b[39;00m\u001b[38;5;124m]\u001b[39m\u001b[38;5;124m'\u001b[39m\n\u001b[1;32m---> 34\u001b[0m driver\u001b[38;5;241m.\u001b[39mfind_element(By\u001b[38;5;241m.\u001b[39mXPATH, next_page_xpath)\u001b[38;5;241m.\u001b[39mclick()\n\u001b[0;32m     35\u001b[0m current_page \u001b[38;5;241m+\u001b[39m\u001b[38;5;241m=\u001b[39m \u001b[38;5;241m1\u001b[39m\n\u001b[0;32m     36\u001b[0m time\u001b[38;5;241m.\u001b[39msleep(random\u001b[38;5;241m.\u001b[39mrandint(\u001b[38;5;241m1\u001b[39m, \u001b[38;5;241m2\u001b[39m))\n",
      "File \u001b[1;32m~\\anaconda3\\Lib\\site-packages\\selenium\\webdriver\\remote\\webelement.py:94\u001b[0m, in \u001b[0;36mWebElement.click\u001b[1;34m(self)\u001b[0m\n\u001b[0;32m     92\u001b[0m \u001b[38;5;28;01mdef\u001b[39;00m \u001b[38;5;21mclick\u001b[39m(\u001b[38;5;28mself\u001b[39m) \u001b[38;5;241m-\u001b[39m\u001b[38;5;241m>\u001b[39m \u001b[38;5;28;01mNone\u001b[39;00m:\n\u001b[0;32m     93\u001b[0m \u001b[38;5;250m    \u001b[39m\u001b[38;5;124;03m\"\"\"Clicks the element.\"\"\"\u001b[39;00m\n\u001b[1;32m---> 94\u001b[0m     \u001b[38;5;28mself\u001b[39m\u001b[38;5;241m.\u001b[39m_execute(Command\u001b[38;5;241m.\u001b[39mCLICK_ELEMENT)\n",
      "File \u001b[1;32m~\\anaconda3\\Lib\\site-packages\\selenium\\webdriver\\remote\\webelement.py:395\u001b[0m, in \u001b[0;36mWebElement._execute\u001b[1;34m(self, command, params)\u001b[0m\n\u001b[0;32m    393\u001b[0m     params \u001b[38;5;241m=\u001b[39m {}\n\u001b[0;32m    394\u001b[0m params[\u001b[38;5;124m\"\u001b[39m\u001b[38;5;124mid\u001b[39m\u001b[38;5;124m\"\u001b[39m] \u001b[38;5;241m=\u001b[39m \u001b[38;5;28mself\u001b[39m\u001b[38;5;241m.\u001b[39m_id\n\u001b[1;32m--> 395\u001b[0m \u001b[38;5;28;01mreturn\u001b[39;00m \u001b[38;5;28mself\u001b[39m\u001b[38;5;241m.\u001b[39m_parent\u001b[38;5;241m.\u001b[39mexecute(command, params)\n",
      "File \u001b[1;32m~\\anaconda3\\Lib\\site-packages\\selenium\\webdriver\\remote\\webdriver.py:348\u001b[0m, in \u001b[0;36mWebDriver.execute\u001b[1;34m(self, driver_command, params)\u001b[0m\n\u001b[0;32m    346\u001b[0m response \u001b[38;5;241m=\u001b[39m \u001b[38;5;28mself\u001b[39m\u001b[38;5;241m.\u001b[39mcommand_executor\u001b[38;5;241m.\u001b[39mexecute(driver_command, params)\n\u001b[0;32m    347\u001b[0m \u001b[38;5;28;01mif\u001b[39;00m response:\n\u001b[1;32m--> 348\u001b[0m     \u001b[38;5;28mself\u001b[39m\u001b[38;5;241m.\u001b[39merror_handler\u001b[38;5;241m.\u001b[39mcheck_response(response)\n\u001b[0;32m    349\u001b[0m     response[\u001b[38;5;124m\"\u001b[39m\u001b[38;5;124mvalue\u001b[39m\u001b[38;5;124m\"\u001b[39m] \u001b[38;5;241m=\u001b[39m \u001b[38;5;28mself\u001b[39m\u001b[38;5;241m.\u001b[39m_unwrap_value(response\u001b[38;5;241m.\u001b[39mget(\u001b[38;5;124m\"\u001b[39m\u001b[38;5;124mvalue\u001b[39m\u001b[38;5;124m\"\u001b[39m, \u001b[38;5;28;01mNone\u001b[39;00m))\n\u001b[0;32m    350\u001b[0m     \u001b[38;5;28;01mreturn\u001b[39;00m response\n",
      "File \u001b[1;32m~\\anaconda3\\Lib\\site-packages\\selenium\\webdriver\\remote\\errorhandler.py:229\u001b[0m, in \u001b[0;36mErrorHandler.check_response\u001b[1;34m(self, response)\u001b[0m\n\u001b[0;32m    227\u001b[0m         alert_text \u001b[38;5;241m=\u001b[39m value[\u001b[38;5;124m\"\u001b[39m\u001b[38;5;124malert\u001b[39m\u001b[38;5;124m\"\u001b[39m]\u001b[38;5;241m.\u001b[39mget(\u001b[38;5;124m\"\u001b[39m\u001b[38;5;124mtext\u001b[39m\u001b[38;5;124m\"\u001b[39m)\n\u001b[0;32m    228\u001b[0m     \u001b[38;5;28;01mraise\u001b[39;00m exception_class(message, screen, stacktrace, alert_text)  \u001b[38;5;66;03m# type: ignore[call-arg]  # mypy is not smart enough here\u001b[39;00m\n\u001b[1;32m--> 229\u001b[0m \u001b[38;5;28;01mraise\u001b[39;00m exception_class(message, screen, stacktrace)\n",
      "\u001b[1;31mElementClickInterceptedException\u001b[0m: Message: element click intercepted: Element <a href=\"javascript:\" id=\"...\">3</a> is not clickable at point (440, 14). Other element would receive the click: <svg id=\"pathicon1\" version=\"1.1\" xmlns=\"http://www.w3.org/2000/svg\" xmlns:xlink=\"http://www.w3.org/1999/xlink\" x=\"0px\" y=\"0px\" width=\"510px\" height=\"86px\" viewBox=\"0 0 510 86\" style=\"enable-background:new 0 0 510 86;\" xml:space=\"preserve\">...</svg>\n  (Session info: chrome=120.0.6099.71)\nStacktrace:\n\tGetHandleVerifier [0x00007FF77D444D02+56194]\n\t(No symbol) [0x00007FF77D3B04B2]\n\t(No symbol) [0x00007FF77D2576AA]\n\t(No symbol) [0x00007FF77D2A8763]\n\t(No symbol) [0x00007FF77D2A675D]\n\t(No symbol) [0x00007FF77D2A3F5C]\n\t(No symbol) [0x00007FF77D2A2D15]\n\t(No symbol) [0x00007FF77D29687F]\n\t(No symbol) [0x00007FF77D2C5E7A]\n\t(No symbol) [0x00007FF77D296226]\n\t(No symbol) [0x00007FF77D2C6320]\n\t(No symbol) [0x00007FF77D2E2786]\n\t(No symbol) [0x00007FF77D2C5C23]\n\t(No symbol) [0x00007FF77D294A45]\n\t(No symbol) [0x00007FF77D295AD4]\n\tGetHandleVerifier [0x00007FF77D7BD5BB+3695675]\n\tGetHandleVerifier [0x00007FF77D816197+4059159]\n\tGetHandleVerifier [0x00007FF77D80DF63+4025827]\n\tGetHandleVerifier [0x00007FF77D4DF029+687785]\n\t(No symbol) [0x00007FF77D3BB508]\n\t(No symbol) [0x00007FF77D3B7564]\n\t(No symbol) [0x00007FF77D3B76E9]\n\t(No symbol) [0x00007FF77D3A8094]\n\tBaseThreadInitThunk [0x00007FF9E3417344+20]\n\tRtlUserThreadStart [0x00007FF9E52826B1+33]\n"
     ]
    }
   ],
   "source": [
    "click_next_page(pages)\n"
   ]
  },
  {
   "cell_type": "code",
   "execution_count": 1,
   "id": "91a88a8d",
   "metadata": {},
   "outputs": [
    {
     "name": "stdout",
     "output_type": "stream",
     "text": [
      "conda 23.11.0\n",
      "Note: you may need to restart the kernel to use updated packages.\n",
      "\n"
     ]
    }
   ],
   "source": [
    "conda --version"
   ]
  },
  {
   "cell_type": "code",
   "execution_count": 2,
   "id": "ff1c27ad-2d92-4fd6-8a50-c7069febaab6",
   "metadata": {},
   "outputs": [
    {
     "ename": "NameError",
     "evalue": "name 'pathlib' is not defined",
     "output_type": "error",
     "traceback": [
      "\u001b[1;31m---------------------------------------------------------------------------\u001b[0m",
      "\u001b[1;31mNameError\u001b[0m                                 Traceback (most recent call last)",
      "Cell \u001b[1;32mIn[2], line 1\u001b[0m\n\u001b[1;32m----> 1\u001b[0m pathlib \u001b[38;5;241m-\u001b[39m\u001b[38;5;241m-\u001b[39mversion\n",
      "\u001b[1;31mNameError\u001b[0m: name 'pathlib' is not defined"
     ]
    }
   ],
   "source": [
    "pathlib --version"
   ]
  },
  {
   "cell_type": "code",
   "execution_count": null,
   "id": "6da61977-1a04-4cfc-bdf9-cbef1f79e66f",
   "metadata": {},
   "outputs": [],
   "source": []
  }
 ],
 "metadata": {
  "kernelspec": {
   "display_name": "Python 3 (ipykernel)",
   "language": "python",
   "name": "python3"
  },
  "language_info": {
   "codemirror_mode": {
    "name": "ipython",
    "version": 3
   },
   "file_extension": ".py",
   "mimetype": "text/x-python",
   "name": "python",
   "nbconvert_exporter": "python",
   "pygments_lexer": "ipython3",
   "version": "3.11.5"
  },
  "toc": {
   "base_numbering": 1,
   "nav_menu": {},
   "number_sections": true,
   "sideBar": true,
   "skip_h1_title": false,
   "title_cell": "Table of Contents",
   "title_sidebar": "Contents",
   "toc_cell": false,
   "toc_position": {},
   "toc_section_display": true,
   "toc_window_display": false
  }
 },
 "nbformat": 4,
 "nbformat_minor": 5
}
