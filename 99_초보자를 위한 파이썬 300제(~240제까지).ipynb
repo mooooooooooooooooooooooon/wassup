{
 "cells": [
  {
   "cell_type": "markdown",
   "id": "b8604c64",
   "metadata": {},
   "source": [
    "# 파이썬 시작하기"
   ]
  },
  {
   "cell_type": "markdown",
   "id": "b7249421",
   "metadata": {},
   "source": [
    "001 print 기초\n",
    "화면에 Hello World 문자열을 출력하세요."
   ]
  },
  {
   "cell_type": "code",
   "execution_count": 1,
   "id": "1636ac0d",
   "metadata": {
    "ExecuteTime": {
     "end_time": "2023-11-24T08:06:32.305017Z",
     "start_time": "2023-11-24T08:06:32.295847Z"
    }
   },
   "outputs": [
    {
     "data": {
      "text/plain": [
       "'hello world'"
      ]
     },
     "execution_count": 1,
     "metadata": {},
     "output_type": "execute_result"
    }
   ],
   "source": [
    "'hello world'"
   ]
  },
  {
   "cell_type": "markdown",
   "id": "78dd7649",
   "metadata": {},
   "source": [
    "002 print 기초\n",
    "화면에 Mary's cosmetics을 출력하세요. (중간에 '가 있음에 주의하세요)"
   ]
  },
  {
   "cell_type": "code",
   "execution_count": 6,
   "id": "20f8a017",
   "metadata": {
    "ExecuteTime": {
     "end_time": "2023-11-24T08:07:16.001443Z",
     "start_time": "2023-11-24T08:07:15.995104Z"
    }
   },
   "outputs": [
    {
     "data": {
      "text/plain": [
       "\"Mary's cosmetics\""
      ]
     },
     "execution_count": 6,
     "metadata": {},
     "output_type": "execute_result"
    }
   ],
   "source": [
    "\"Mary's cosmetics\""
   ]
  },
  {
   "cell_type": "markdown",
   "id": "158402ae",
   "metadata": {
    "ExecuteTime": {
     "end_time": "2023-11-24T08:18:25.110679Z",
     "start_time": "2023-11-24T08:18:25.106164Z"
    }
   },
   "source": [
    "003 print 기초\n",
    "화면에 아래 문장을 출력하세요. (중간에 \"가 있음에 주의하세요.)"
   ]
  },
  {
   "cell_type": "code",
   "execution_count": 12,
   "id": "497d8943",
   "metadata": {
    "ExecuteTime": {
     "end_time": "2023-11-24T08:08:45.056997Z",
     "start_time": "2023-11-24T08:08:45.051971Z"
    }
   },
   "outputs": [
    {
     "name": "stdout",
     "output_type": "stream",
     "text": [
      "신씨가 소리질렀다. \"도둑이야\"\n"
     ]
    }
   ],
   "source": [
    "print('신씨가 소리질렀다. \"도둑이야\"')"
   ]
  },
  {
   "cell_type": "markdown",
   "id": "3e6d049a",
   "metadata": {},
   "source": [
    "004 print 기초\n",
    "화면에 C:\\Windows를 출력하세요."
   ]
  },
  {
   "cell_type": "code",
   "execution_count": 34,
   "id": "972c05d4",
   "metadata": {
    "ExecuteTime": {
     "end_time": "2023-11-24T08:35:51.013930Z",
     "start_time": "2023-11-24T08:35:51.007618Z"
    }
   },
   "outputs": [
    {
     "name": "stdout",
     "output_type": "stream",
     "text": [
      "C:\\Windows C:/windows\n"
     ]
    }
   ],
   "source": [
    "print('C:\\Windows', 'C:/windows') # / 도 됨"
   ]
  },
  {
   "cell_type": "markdown",
   "id": "62b18c3d",
   "metadata": {},
   "source": [
    "005 print 탭과 줄바꿈\n",
    "다음 코드를 실행해보고 \\t와 \\n의 역할을 설명해보세요."
   ]
  },
  {
   "cell_type": "code",
   "execution_count": 16,
   "id": "e4b344a7",
   "metadata": {
    "ExecuteTime": {
     "end_time": "2023-11-24T08:10:04.378752Z",
     "start_time": "2023-11-24T08:10:04.373753Z"
    }
   },
   "outputs": [
    {
     "name": "stdout",
     "output_type": "stream",
     "text": [
      "안녕하세요.\n",
      "만나서\t\t반갑습니다.\n"
     ]
    }
   ],
   "source": [
    "print(\"안녕하세요.\\n만나서\\t\\t반갑습니다.\")\n",
    "\n",
    "# \\n : 줄바꿈 \\t : 탭삽입"
   ]
  },
  {
   "cell_type": "markdown",
   "id": "96f41c18",
   "metadata": {},
   "source": [
    "006 print 여러 데이터 출력\n",
    "print 함수에 두 개의 단어를 입력한 예제입니다. 아래 코드의 출력 결과를 예상해봅시다."
   ]
  },
  {
   "cell_type": "code",
   "execution_count": 32,
   "id": "7cf165a4",
   "metadata": {
    "ExecuteTime": {
     "end_time": "2023-11-24T08:21:18.423510Z",
     "start_time": "2023-11-24T08:21:18.419526Z"
    }
   },
   "outputs": [
    {
     "name": "stdout",
     "output_type": "stream",
     "text": [
      "오늘은 일요일\n"
     ]
    }
   ],
   "source": [
    "print(\"오늘은\", \"일요일\")"
   ]
  },
  {
   "cell_type": "markdown",
   "id": "6f2de5f9",
   "metadata": {},
   "source": [
    "007 print 기초\n",
    "print() 함수를 사용하여 다음과 같이 출력하세요."
   ]
  },
  {
   "cell_type": "code",
   "execution_count": 39,
   "id": "9d039ab1",
   "metadata": {
    "ExecuteTime": {
     "end_time": "2023-11-24T10:42:30.677979Z",
     "start_time": "2023-11-24T10:42:30.670243Z"
    }
   },
   "outputs": [
    {
     "name": "stdout",
     "output_type": "stream",
     "text": [
      "naver;kakao;sk;samsung\n",
      "naver;kakao;sk;samsung\n"
     ]
    }
   ],
   "source": [
    "print('naver', 'kakao', 'sk', 'samsung', sep = ';')\n",
    "print(\";\".join(['naver', 'kakao', 'sk', 'samsung'])) # 조인도 됨"
   ]
  },
  {
   "cell_type": "markdown",
   "id": "cacee725",
   "metadata": {},
   "source": [
    "008 print 기초\n",
    "print() 함수를 사용하여 다음과 같이 출력하세요."
   ]
  },
  {
   "cell_type": "code",
   "execution_count": 25,
   "id": "25f8c00c",
   "metadata": {
    "ExecuteTime": {
     "end_time": "2023-11-24T08:15:38.695188Z",
     "start_time": "2023-11-24T08:15:38.690772Z"
    }
   },
   "outputs": [
    {
     "name": "stdout",
     "output_type": "stream",
     "text": [
      "naver/kakao/sk/samsung\n"
     ]
    }
   ],
   "source": [
    "print('naver', 'kakao', 'sk', 'samsung', sep = '/')"
   ]
  },
  {
   "cell_type": "markdown",
   "id": "20b55ffe",
   "metadata": {
    "ExecuteTime": {
     "end_time": "2023-11-24T08:23:02.064946Z",
     "start_time": "2023-11-24T08:23:02.058865Z"
    }
   },
   "source": [
    "009 print 줄바꿈\n",
    "다음 코드를 수정하여 줄바꿈이 없이 출력하세요. (힌트: end='') print 함수는 두 번 사용합니다. 세미콜론 (;)은 한줄에 여러 개의 명령을 작성하기 위해 사용합니다."
   ]
  },
  {
   "cell_type": "code",
   "execution_count": 43,
   "id": "fa40fc01",
   "metadata": {
    "ExecuteTime": {
     "end_time": "2023-11-24T10:45:55.826921Z",
     "start_time": "2023-11-24T10:45:55.818767Z"
    }
   },
   "outputs": [
    {
     "name": "stdout",
     "output_type": "stream",
     "text": [
      "fisrtsecond\n"
     ]
    }
   ],
   "source": [
    "print(\"fisrt\", end=\"\");print(\"second\")"
   ]
  },
  {
   "cell_type": "markdown",
   "id": "5f0081b4",
   "metadata": {
    "ExecuteTime": {
     "end_time": "2023-11-24T08:42:50.850643Z",
     "start_time": "2023-11-24T08:42:50.842171Z"
    }
   },
   "source": [
    "010 연산 결과 출력\n",
    "5/3의 결과를 화면에 출력하세요.\n"
   ]
  },
  {
   "cell_type": "code",
   "execution_count": 45,
   "id": "55848717",
   "metadata": {
    "ExecuteTime": {
     "end_time": "2023-11-24T10:49:11.849239Z",
     "start_time": "2023-11-24T10:49:11.844287Z"
    }
   },
   "outputs": [
    {
     "name": "stdout",
     "output_type": "stream",
     "text": [
      "1.6666666666666667\n"
     ]
    }
   ],
   "source": [
    "print(5/3)"
   ]
  },
  {
   "cell_type": "markdown",
   "id": "b92f89d4",
   "metadata": {},
   "source": [
    "011 변수 사용하기\n",
    "삼성전자라는 변수로 50,000원을 바인딩해보세요. 삼성전자 주식 10주를 보유하고 있을 때 총 평가금액을 출력하세요."
   ]
  },
  {
   "cell_type": "code",
   "execution_count": 47,
   "id": "dbc577f8",
   "metadata": {
    "ExecuteTime": {
     "end_time": "2023-11-24T10:49:56.983649Z",
     "start_time": "2023-11-24T10:49:56.979071Z"
    }
   },
   "outputs": [
    {
     "name": "stdout",
     "output_type": "stream",
     "text": [
      "500000\n"
     ]
    }
   ],
   "source": [
    "삼성전자 = 50000\n",
    "총평가금액 = 삼성전자 * 10\n",
    "print(총평가금액)"
   ]
  },
  {
   "cell_type": "markdown",
   "id": "4a5dab78",
   "metadata": {},
   "source": [
    "012 변수 사용하기\n",
    "다음 표는 삼성전자의 일부 투자정보입니다. 변수를 사용해서 시가총액, 현재가, PER 등을 바인딩해보세요.\n",
    "\n",
    "항목\t값\n",
    "시가총액\t298조\n",
    "현재가\t50,000원\n",
    "PER\t15.79\n",
    "\n",
    "교안에서는 이렇게 했음\n",
    "\n",
    "시가총액 = 298000000000000\n",
    "현재가 = 50000\n",
    "PER = 15.79\n",
    "print(시가총액, type(시가총액))\n",
    "print(현재가, type(현재가))\n",
    "print(PER, type(PER))\n",
    "\n",
    "* 바인딩이 변수랑 타입까지 출력하라는거인듯?"
   ]
  },
  {
   "cell_type": "code",
   "execution_count": 54,
   "id": "f1204031",
   "metadata": {
    "ExecuteTime": {
     "end_time": "2023-11-24T11:06:05.241548Z",
     "start_time": "2023-11-24T11:06:05.235885Z"
    }
   },
   "outputs": [
    {
     "name": "stdout",
     "output_type": "stream",
     "text": [
      "298조 <class 'str'>\n",
      "50,000원 <class 'str'>\n",
      "15.79 <class 'float'>\n"
     ]
    }
   ],
   "source": [
    "시가총액 = '298조'\n",
    "현재가 = '50,000원'\n",
    "PER = 15.79\n",
    "\n",
    "print(시가총액, type(시가총액))\n",
    "print(현재가, type(현재가))\n",
    "print(PER, type(PER))\n",
    "      "
   ]
  },
  {
   "cell_type": "markdown",
   "id": "1659f85b",
   "metadata": {},
   "source": [
    "013 문자열 출력\n",
    "변수 s와 t에는 각각 문자열이 바인딩 되어있습니다.\n",
    "\n",
    ">> s = \"hello\"\n",
    ">> t = \"python\"\n",
    "두 변수를 이용하여 아래와 같이 출력해보세요.\n",
    "\n",
    "실행 예:\n",
    "hello! python"
   ]
  },
  {
   "cell_type": "code",
   "execution_count": 63,
   "id": "4575837d",
   "metadata": {
    "ExecuteTime": {
     "end_time": "2023-11-24T11:06:05.241548Z",
     "start_time": "2023-11-24T11:06:05.235885Z"
    }
   },
   "outputs": [
    {
     "name": "stdout",
     "output_type": "stream",
     "text": [
      "hello! python\n"
     ]
    }
   ],
   "source": [
    "s = 'hello'\n",
    "t = 'python'\n",
    "\n",
    "print(s + '! ' + t)"
   ]
  },
  {
   "cell_type": "markdown",
   "id": "57d4c395",
   "metadata": {},
   "source": [
    "014 파이썬을 이용한 값 계산\n",
    "아래 코드의 실행 결과를 예상해보세요.\n",
    "\n",
    ">> 2 + 2 * 3 \n",
    "\n",
    "8"
   ]
  },
  {
   "cell_type": "code",
   "execution_count": 64,
   "id": "fe139092",
   "metadata": {
    "ExecuteTime": {
     "end_time": "2023-11-24T11:06:05.241548Z",
     "start_time": "2023-11-24T11:06:05.235885Z"
    }
   },
   "outputs": [
    {
     "data": {
      "text/plain": [
       "8"
      ]
     },
     "execution_count": 64,
     "metadata": {},
     "output_type": "execute_result"
    }
   ],
   "source": [
    "2 + 2 * 3 "
   ]
  },
  {
   "cell_type": "markdown",
   "id": "cce1ac4a",
   "metadata": {},
   "source": [
    "015 type 함수\n",
    "type() 함수는 데이터 타입을 판별합니다. 변수 a에는 128 숫자가 바인딩돼 있어 type 함수가 int (정수)형임을 알려줍니다.\n",
    "\n",
    ">> a = 128\n",
    ">> print (type(a))\n",
    "<class 'int'>\n",
    "아래 변수에 바인딩된 값의 타입을 판별해보세요.\n",
    "\n",
    ">> a = \"132\""
   ]
  },
  {
   "cell_type": "code",
   "execution_count": 2,
   "id": "14d36b97",
   "metadata": {
    "ExecuteTime": {
     "end_time": "2023-11-25T02:31:03.971097Z",
     "start_time": "2023-11-25T02:31:03.963226Z"
    }
   },
   "outputs": [
    {
     "name": "stdout",
     "output_type": "stream",
     "text": [
      "<class 'int'>\n",
      "<class 'str'>\n"
     ]
    }
   ],
   "source": [
    "a = 128\n",
    "print(type(a))\n",
    "\n",
    "a = \"132\"\n",
    "print(type(a))"
   ]
  },
  {
   "cell_type": "markdown",
   "id": "e98e6d21",
   "metadata": {},
   "source": [
    "016 문자열을 정수로 변환\n",
    "문자열 '720'를 정수형으로 변환해보세요.\n",
    "\n",
    ">> num_str = \"720\""
   ]
  },
  {
   "cell_type": "code",
   "execution_count": 10,
   "id": "43c92299",
   "metadata": {
    "ExecuteTime": {
     "end_time": "2023-11-25T02:33:45.212743Z",
     "start_time": "2023-11-25T02:33:45.208070Z"
    }
   },
   "outputs": [
    {
     "name": "stdout",
     "output_type": "stream",
     "text": [
      "<class 'int'>\n"
     ]
    }
   ],
   "source": [
    "num_str = '720'\n",
    "type(num_str)\n",
    "\n",
    "num_str = int(num_str)\n",
    "print(type(num_str))\n"
   ]
  },
  {
   "cell_type": "markdown",
   "id": "86c59baa",
   "metadata": {},
   "source": [
    "017 정수를 문자열 100으로 변환\n",
    "정수 100을 문자열 '100'으로 변환해보세요."
   ]
  },
  {
   "cell_type": "code",
   "execution_count": 12,
   "id": "717a24f2",
   "metadata": {
    "ExecuteTime": {
     "end_time": "2023-11-25T02:35:35.327664Z",
     "start_time": "2023-11-25T02:35:35.321664Z"
    }
   },
   "outputs": [
    {
     "name": "stdout",
     "output_type": "stream",
     "text": [
      "100 100 <class 'str'> <class 'int'>\n"
     ]
    }
   ],
   "source": [
    "num_int2str = 100\n",
    "num_str2int = '100'\n",
    "\n",
    "num_int2str = str(num_int2str)\n",
    "num_str2int = int(num_str2int)\n",
    "\n",
    "\n",
    "print(num_int2str, num_str2int, type(num_int2str), type(num_str2int))"
   ]
  },
  {
   "cell_type": "markdown",
   "id": "851a7f17",
   "metadata": {},
   "source": [
    "018 문자열을 실수로 변환\n",
    "문자열 \"15.79\"를 실수(float) 타입으로 변환해보세요."
   ]
  },
  {
   "cell_type": "code",
   "execution_count": 13,
   "id": "a3020212",
   "metadata": {
    "ExecuteTime": {
     "end_time": "2023-11-25T02:37:50.780574Z",
     "start_time": "2023-11-25T02:37:50.775508Z"
    }
   },
   "outputs": [
    {
     "name": "stdout",
     "output_type": "stream",
     "text": [
      "<class 'float'>\n"
     ]
    }
   ],
   "source": [
    "a = '15.79'\n",
    "result = float(a)\n",
    "print(type(result))"
   ]
  },
  {
   "cell_type": "markdown",
   "id": "d317e700",
   "metadata": {},
   "source": [
    "019 문자열을 정수로 변환\n",
    "year라는 변수가 문자열 타입의 연도를 바인딩하고 있습니다. 이를 정수로 변환한 후 최근 3년의 연도를 화면에 출력해보세요.\n",
    "\n",
    "year = \"2020\""
   ]
  },
  {
   "cell_type": "code",
   "execution_count": 14,
   "id": "8e92fbf9",
   "metadata": {
    "ExecuteTime": {
     "end_time": "2023-11-25T02:38:42.245645Z",
     "start_time": "2023-11-25T02:38:42.240381Z"
    }
   },
   "outputs": [
    {
     "name": "stdout",
     "output_type": "stream",
     "text": [
      "2020 2019 2018\n"
     ]
    }
   ],
   "source": [
    "year = '2020'\n",
    "result = int(year)\n",
    "print(result, result-1, result-2)"
   ]
  },
  {
   "cell_type": "markdown",
   "id": "a21d8039",
   "metadata": {},
   "source": [
    "020 파이썬 계산\n",
    "에이컨이 월 48,584원에 무이자 36개월의 조건으로 홈쇼핑에서 판매되고 있습니다. 총 금액은 계산한 후 이를 화면에 출력해보세요. (변수사용하기)"
   ]
  },
  {
   "cell_type": "code",
   "execution_count": 15,
   "id": "f51f0e92",
   "metadata": {
    "ExecuteTime": {
     "end_time": "2023-11-25T02:40:00.990584Z",
     "start_time": "2023-11-25T02:40:00.982212Z"
    }
   },
   "outputs": [
    {
     "name": "stdout",
     "output_type": "stream",
     "text": [
      "1749024\n"
     ]
    }
   ],
   "source": [
    "월요금 = 48584\n",
    "개월수 = 36\n",
    "\n",
    "총금액 = 월요금 * 개월수\n",
    "\n",
    "print(총금액)"
   ]
  },
  {
   "cell_type": "markdown",
   "id": "92d16ecf",
   "metadata": {},
   "source": [
    "021 문자열 인덱싱\n",
    "letters가 바인딩하는 문자열에서 첫번째와 세번째 문자를 출력하세요.\n",
    "\n",
    ">> letters = 'python'\n",
    "실행 예\n",
    "p t"
   ]
  },
  {
   "cell_type": "code",
   "execution_count": 18,
   "id": "a7a36f80",
   "metadata": {
    "ExecuteTime": {
     "end_time": "2023-11-25T03:00:35.037516Z",
     "start_time": "2023-11-25T03:00:35.032249Z"
    }
   },
   "outputs": [
    {
     "name": "stdout",
     "output_type": "stream",
     "text": [
      "p t\n"
     ]
    }
   ],
   "source": [
    "letters = 'python'\n",
    "\n",
    "print(letters[0], letters[2])"
   ]
  },
  {
   "cell_type": "markdown",
   "id": "d97419a0",
   "metadata": {},
   "source": [
    "022 문자열 슬라이싱\n",
    "자동차 번호가 다음과 같을 때 뒤에 4자리만 출력하세요.\n",
    "\n",
    ">> license_plate = \"24가 2210\"\n",
    "실행 예: 2210"
   ]
  },
  {
   "cell_type": "code",
   "execution_count": 22,
   "id": "24ccb66d",
   "metadata": {
    "ExecuteTime": {
     "end_time": "2023-11-25T03:01:29.760142Z",
     "start_time": "2023-11-25T03:01:29.754240Z"
    }
   },
   "outputs": [
    {
     "data": {
      "text/plain": [
       "'2210'"
      ]
     },
     "execution_count": 22,
     "metadata": {},
     "output_type": "execute_result"
    }
   ],
   "source": [
    "license_plate = '24가 2210'\n",
    "\n",
    "license_plate[-4:]"
   ]
  },
  {
   "cell_type": "markdown",
   "id": "4ac8587e",
   "metadata": {},
   "source": [
    "023 문자열 인덱싱\n",
    "아래의 문자열에서 '홀' 만 출력하세요.\n",
    "\n",
    ">> string = \"홀짝홀짝홀짝\"\n",
    "실행 예:\n",
    "홀홀홀"
   ]
  },
  {
   "cell_type": "code",
   "execution_count": 24,
   "id": "45f67aec",
   "metadata": {
    "ExecuteTime": {
     "end_time": "2023-11-25T03:02:43.438320Z",
     "start_time": "2023-11-25T03:02:43.432834Z"
    }
   },
   "outputs": [
    {
     "name": "stdout",
     "output_type": "stream",
     "text": [
      "홀 홀 홀\n"
     ]
    }
   ],
   "source": [
    "string = '홀짝홀짝홀짝'\n",
    "\n",
    "print(string[0], string[2], string[4])\n",
    "\n",
    "# 교안에서는 print(string[::2])"
   ]
  },
  {
   "cell_type": "markdown",
   "id": "52adafd3",
   "metadata": {},
   "source": [
    "024 문자열 슬라이싱\n",
    "문자열을 거꾸로 뒤집어 출력하세요.\n",
    "\n",
    ">> string = \"PYTHON\"\n",
    "실행 예:\n",
    "NOHTYP"
   ]
  },
  {
   "cell_type": "code",
   "execution_count": 31,
   "id": "f2a45b6a",
   "metadata": {
    "ExecuteTime": {
     "end_time": "2023-11-25T03:07:42.625310Z",
     "start_time": "2023-11-25T03:07:42.620300Z"
    }
   },
   "outputs": [
    {
     "name": "stdout",
     "output_type": "stream",
     "text": [
      "nohtyp\n"
     ]
    }
   ],
   "source": [
    "string = 'python'\n",
    "\n",
    "print(string[::-1])"
   ]
  },
  {
   "cell_type": "markdown",
   "id": "a596223e",
   "metadata": {},
   "source": [
    "025 문자열 치환\n",
    "아래의 전화번호에서 하이푼 ('-')을 제거하고 출력하세요.\n",
    "\n",
    ">> phone_number = \"010-1111-2222\"\n",
    "실행 예\n",
    "010 1111 2222"
   ]
  },
  {
   "cell_type": "code",
   "execution_count": 32,
   "id": "bc8ad168",
   "metadata": {
    "ExecuteTime": {
     "end_time": "2023-11-25T03:08:18.723447Z",
     "start_time": "2023-11-25T03:08:18.717388Z"
    }
   },
   "outputs": [
    {
     "data": {
      "text/plain": [
       "'010 1111 2222'"
      ]
     },
     "execution_count": 32,
     "metadata": {},
     "output_type": "execute_result"
    }
   ],
   "source": [
    "phone_number = '010-1111-2222'\n",
    "\n",
    "phone_number.replace('-',' ')"
   ]
  },
  {
   "cell_type": "markdown",
   "id": "8fb386a6",
   "metadata": {},
   "source": [
    "026 문자열 다루기\n",
    "25번 문제의 전화번호를 아래와 같이 모두 붙여 출력하세요.\n",
    "\n",
    "실행 예\n",
    "01011112222"
   ]
  },
  {
   "cell_type": "code",
   "execution_count": 34,
   "id": "faf4fb01",
   "metadata": {
    "ExecuteTime": {
     "end_time": "2023-11-25T03:09:03.884409Z",
     "start_time": "2023-11-25T03:09:03.876409Z"
    }
   },
   "outputs": [
    {
     "data": {
      "text/plain": [
       "'01011112222'"
      ]
     },
     "execution_count": 34,
     "metadata": {},
     "output_type": "execute_result"
    }
   ],
   "source": [
    "phone_number.replace('-','')"
   ]
  },
  {
   "cell_type": "markdown",
   "id": "b16c2876",
   "metadata": {},
   "source": [
    "027 문자열 다루기\n",
    "url 에 저장된 웹 페이지 주소에서 도메인을 출력하세요.\n",
    "\n",
    ">> url = \"http://sharebook.kr\"\n",
    "실행 예:\n",
    "kr"
   ]
  },
  {
   "cell_type": "code",
   "execution_count": 36,
   "id": "8b3c5225",
   "metadata": {
    "ExecuteTime": {
     "end_time": "2023-11-25T03:10:29.670582Z",
     "start_time": "2023-11-25T03:10:29.663585Z"
    }
   },
   "outputs": [
    {
     "data": {
      "text/plain": [
       "'kr'"
      ]
     },
     "execution_count": 36,
     "metadata": {},
     "output_type": "execute_result"
    }
   ],
   "source": [
    "url = \"http://sharebook.kr\"\n",
    "url[-2:]\n",
    "\n",
    "# 교안\n",
    "# url_split = url.split('.')\n",
    "# print(url_split[-1])"
   ]
  },
  {
   "cell_type": "markdown",
   "id": "9154b8e2",
   "metadata": {},
   "source": [
    "028 문자열은 immutable\n",
    "아래 코드의 실행 결과를 예상해보세요.\n",
    "\n",
    ">> lang = 'python'\n",
    ">> lang[0] = 'P'\n",
    ">> print(lang)"
   ]
  },
  {
   "cell_type": "code",
   "execution_count": null,
   "id": "34b94781",
   "metadata": {
    "ExecuteTime": {
     "end_time": "2023-11-24T11:06:05.241548Z",
     "start_time": "2023-11-24T11:06:05.235885Z"
    }
   },
   "outputs": [],
   "source": [
    "2번행에서 오류 발생"
   ]
  },
  {
   "cell_type": "markdown",
   "id": "134f0c58",
   "metadata": {},
   "source": [
    "029 replace 메서드\n",
    "아래 문자열에서 소문자 'a'를 대문자 'A'로 변경하세요.\n",
    "\n",
    ">> string = 'abcdfe2a354a32a'\n",
    "실행 예:\n",
    "Abcdfe2A354A32A"
   ]
  },
  {
   "cell_type": "code",
   "execution_count": 37,
   "id": "ac490b61",
   "metadata": {
    "ExecuteTime": {
     "end_time": "2023-11-25T03:11:54.218866Z",
     "start_time": "2023-11-25T03:11:54.210635Z"
    }
   },
   "outputs": [
    {
     "data": {
      "text/plain": [
       "'Abcdfe2A354A32A'"
      ]
     },
     "execution_count": 37,
     "metadata": {},
     "output_type": "execute_result"
    }
   ],
   "source": [
    "string = 'abcdfe2a354a32a'\n",
    "\n",
    "string.replace('a', 'A')"
   ]
  },
  {
   "cell_type": "markdown",
   "id": "7caf25d0",
   "metadata": {},
   "source": [
    "030 replace 메서드\n",
    "아래 코드의 실행 결과를 예상해보세요.\n",
    "\n",
    ">> string = 'abcd'\n",
    ">> string.replace('b', 'B')\n",
    ">> print(string)"
   ]
  },
  {
   "cell_type": "code",
   "execution_count": null,
   "id": "0cc53ec5",
   "metadata": {
    "ExecuteTime": {
     "end_time": "2023-11-24T11:06:05.241548Z",
     "start_time": "2023-11-24T11:06:05.235885Z"
    }
   },
   "outputs": [],
   "source": [
    "abcd"
   ]
  },
  {
   "cell_type": "markdown",
   "id": "53cdf96e",
   "metadata": {},
   "source": [
    "031 문자열 합치기\n",
    "아래 코드의 실행 결과를 예상해보세요.\n",
    "\n",
    ">> a = \"3\"\n",
    ">> b = \"4\"\n",
    ">> print(a + b)"
   ]
  },
  {
   "cell_type": "code",
   "execution_count": null,
   "id": "20fff9f5",
   "metadata": {
    "ExecuteTime": {
     "end_time": "2023-11-24T11:06:05.241548Z",
     "start_time": "2023-11-24T11:06:05.235885Z"
    }
   },
   "outputs": [],
   "source": [
    "34"
   ]
  },
  {
   "cell_type": "markdown",
   "id": "91cc6043",
   "metadata": {},
   "source": [
    "032 문자열 곱하기\n",
    "아래 코드의 실행 결과를 예상해보세요.\n",
    "\n",
    ">> print(\"Hi\" * 3)"
   ]
  },
  {
   "cell_type": "code",
   "execution_count": null,
   "id": "98a08450",
   "metadata": {
    "ExecuteTime": {
     "end_time": "2023-11-24T11:06:05.241548Z",
     "start_time": "2023-11-24T11:06:05.235885Z"
    }
   },
   "outputs": [],
   "source": [
    "HiHiHi"
   ]
  },
  {
   "cell_type": "markdown",
   "id": "447a6735",
   "metadata": {},
   "source": [
    "033 문자열 곱하기\n",
    "화면에 '-'를 80개 출력하세요.\n",
    "\n",
    "실행 예:\n",
    "--------------------------------------------------------------------------------"
   ]
  },
  {
   "cell_type": "code",
   "execution_count": 38,
   "id": "fa06b020",
   "metadata": {
    "ExecuteTime": {
     "end_time": "2023-11-25T03:40:27.389622Z",
     "start_time": "2023-11-25T03:40:27.384069Z"
    }
   },
   "outputs": [
    {
     "name": "stdout",
     "output_type": "stream",
     "text": [
      "--------------------------------------------------------------------------------\n"
     ]
    }
   ],
   "source": [
    "print('-'*80)"
   ]
  },
  {
   "cell_type": "markdown",
   "id": "dcca1f15",
   "metadata": {},
   "source": [
    "034 문자열 곱하기\n",
    "변수에 다음과 같은 문자열이 바인딩되어 있습니다.\n",
    "\n",
    ">>> t1 = 'python'\n",
    ">>> t2 = 'java'\n",
    "변수에 문자열 더하기와 문자열 곱하기를 사용해서 아래와 같이 출력해보세요.\n",
    "\n",
    "실행 예:\n",
    "python java python java python java python java"
   ]
  },
  {
   "cell_type": "code",
   "execution_count": 40,
   "id": "39a37372",
   "metadata": {
    "ExecuteTime": {
     "end_time": "2023-11-25T03:41:18.918885Z",
     "start_time": "2023-11-25T03:41:18.913889Z"
    }
   },
   "outputs": [
    {
     "name": "stdout",
     "output_type": "stream",
     "text": [
      "python javapython javapython javapython java\n"
     ]
    }
   ],
   "source": [
    "t1 = 'python'\n",
    "t2 = 'java'\n",
    "\n",
    "print((t1+' '+t2)*4)"
   ]
  },
  {
   "cell_type": "markdown",
   "id": "70286eef",
   "metadata": {},
   "source": [
    "035 문자열 출력\n",
    "변수에 다음과 같이 문자열과 정수가 바인딩되어 있을 때 % formatting을 사용해서 다음과 같이 출력해보세요.\n",
    "\n",
    "name1 = \"김민수\" \n",
    "age1 = 10\n",
    "name2 = \"이철희\"\n",
    "age2 = 13\n",
    "이름: 김민수 나이: 10\n",
    "이름: 이철희 나이: 13"
   ]
  },
  {
   "cell_type": "code",
   "execution_count": 48,
   "id": "8d03653c",
   "metadata": {
    "ExecuteTime": {
     "end_time": "2023-11-25T03:49:01.683847Z",
     "start_time": "2023-11-25T03:49:01.678817Z"
    }
   },
   "outputs": [
    {
     "name": "stdout",
     "output_type": "stream",
     "text": [
      "이름: 김민수, 나이: 10\n",
      "이름: 이철희, 나이: 13\n"
     ]
    }
   ],
   "source": [
    "name1 = '김민수'\n",
    "age1 = 10\n",
    "name2 = '이철희'\n",
    "age2 = 13\n",
    "\n",
    "print('이름: {}, 나이: {}'.format(name1, age1))\n",
    "print('이름: {}, 나이: {}'.format(name2, age2))\n",
    "\n",
    "#교안에선 이렇게 풀었음\n",
    "#print(\"이름: %s 나이: %d\" % (name1, age1))\n",
    "#print(\"이름: %s 나이: %d\" % (name2, age2))\n"
   ]
  },
  {
   "cell_type": "markdown",
   "id": "93b7d3da",
   "metadata": {},
   "source": [
    "036 문자열 출력\n",
    "문자열의 format( ) 메서드를 사용해서 035번 문제를 다시 풀어보세요."
   ]
  },
  {
   "cell_type": "code",
   "execution_count": null,
   "id": "6230ef93",
   "metadata": {
    "ExecuteTime": {
     "end_time": "2023-11-24T11:06:05.241548Z",
     "start_time": "2023-11-24T11:06:05.235885Z"
    }
   },
   "outputs": [],
   "source": [
    "# 위에서가 %s %d 로 하고 여기서 {}로 풀라는거 같음"
   ]
  },
  {
   "cell_type": "markdown",
   "id": "1c4b763c",
   "metadata": {},
   "source": [
    "037 문자열 출력\n",
    "파이썬 3.6부터 지원하는 f-string을 사용해서 035번 문제를 다시 풀어보세요."
   ]
  },
  {
   "cell_type": "code",
   "execution_count": 51,
   "id": "ce46a59d",
   "metadata": {
    "ExecuteTime": {
     "end_time": "2023-11-25T03:51:00.949442Z",
     "start_time": "2023-11-25T03:51:00.944424Z"
    }
   },
   "outputs": [
    {
     "name": "stdout",
     "output_type": "stream",
     "text": [
      "이름: 김민수, 나이: 10\n",
      "이름: 이철희, 나이: 13\n"
     ]
    }
   ],
   "source": [
    "print(f'이름: {name1}, 나이: {age1}')\n",
    "print(f'이름: {name2}, 나이: {age2}')"
   ]
  },
  {
   "cell_type": "markdown",
   "id": "f10f0615",
   "metadata": {},
   "source": [
    "038 컴마 제거하기\n",
    "삼성전자의 상장주식수가 다음과 같습니다. 컴마를 제거한 후 이를 정수 타입으로 변환해보세요.\n",
    "\n",
    "상장주식수 = \"5,969,782,550\""
   ]
  },
  {
   "cell_type": "code",
   "execution_count": 61,
   "id": "64d158d5",
   "metadata": {
    "ExecuteTime": {
     "end_time": "2023-11-25T03:56:19.149846Z",
     "start_time": "2023-11-25T03:56:19.142792Z"
    }
   },
   "outputs": [
    {
     "name": "stdout",
     "output_type": "stream",
     "text": [
      "5969782550 <class 'int'>\n"
     ]
    }
   ],
   "source": [
    "상장주식수 = \"5,969,782,550\"\n",
    "\n",
    "상장주식수 = 상장주식수.replace(\",\",\"\")\n",
    "상장주식수 = int(상장주식수)\n",
    "print(상장주식수, type(상장주식수))"
   ]
  },
  {
   "cell_type": "markdown",
   "id": "5c8b284f",
   "metadata": {},
   "source": [
    "039 문자열 슬라이싱\n",
    "다음과 같은 문자열에서 '2020/03'만 출력하세요.\n",
    "\n",
    "분기 = \"2020/03(E) (IFRS연결)\""
   ]
  },
  {
   "cell_type": "code",
   "execution_count": 64,
   "id": "3d945495",
   "metadata": {
    "ExecuteTime": {
     "end_time": "2023-11-25T03:57:09.366670Z",
     "start_time": "2023-11-25T03:57:09.360670Z"
    }
   },
   "outputs": [
    {
     "data": {
      "text/plain": [
       "'2020/03'"
      ]
     },
     "execution_count": 64,
     "metadata": {},
     "output_type": "execute_result"
    }
   ],
   "source": [
    "분기 = \"2020/03(E) (IFRS연결)\"\n",
    "분기[0:7]"
   ]
  },
  {
   "cell_type": "markdown",
   "id": "e5900aa2",
   "metadata": {},
   "source": [
    "040 strip 메서드\n",
    "문자열의 좌우의 공백이 있을 때 이를 제거해보세요.\n",
    "\n",
    "data = \"   삼성전자    \""
   ]
  },
  {
   "cell_type": "code",
   "execution_count": 70,
   "id": "ed3d165e",
   "metadata": {
    "ExecuteTime": {
     "end_time": "2023-11-25T03:58:46.249878Z",
     "start_time": "2023-11-25T03:58:46.244453Z"
    }
   },
   "outputs": [
    {
     "data": {
      "text/plain": [
       "'삼성전자'"
      ]
     },
     "execution_count": 70,
     "metadata": {},
     "output_type": "execute_result"
    }
   ],
   "source": [
    "data = \"   삼성전자    \"\n",
    "result = data.strip()\n",
    "result"
   ]
  },
  {
   "cell_type": "markdown",
   "id": "d0697098",
   "metadata": {},
   "source": [
    "041 upper 메서드\n",
    "다음과 같은 문자열이 있을 때 이를 대문자 BTC_KRW로 변경하세요.\n",
    "\n",
    "ticker = \"btc_krw\""
   ]
  },
  {
   "cell_type": "code",
   "execution_count": 72,
   "id": "d3ed562d",
   "metadata": {
    "ExecuteTime": {
     "end_time": "2023-11-25T03:59:27.834584Z",
     "start_time": "2023-11-25T03:59:27.828350Z"
    }
   },
   "outputs": [
    {
     "data": {
      "text/plain": [
       "'BTC_KRW'"
      ]
     },
     "execution_count": 72,
     "metadata": {},
     "output_type": "execute_result"
    }
   ],
   "source": [
    "ticker = \"btc_krw\"\n",
    "result = ticker.upper()\n",
    "result"
   ]
  },
  {
   "cell_type": "markdown",
   "id": "b4a4c2d3",
   "metadata": {},
   "source": [
    "042 lower 메서드\n",
    "다음과 같은 문자열이 있을 때 이를 소문자 btc_krw로 변경하세요.\n",
    "\n",
    "ticker = \"BTC_KRW\""
   ]
  },
  {
   "cell_type": "code",
   "execution_count": 74,
   "id": "1f9083b3",
   "metadata": {
    "ExecuteTime": {
     "end_time": "2023-11-25T03:59:52.922988Z",
     "start_time": "2023-11-25T03:59:52.917289Z"
    }
   },
   "outputs": [
    {
     "data": {
      "text/plain": [
       "'btc_krw'"
      ]
     },
     "execution_count": 74,
     "metadata": {},
     "output_type": "execute_result"
    }
   ],
   "source": [
    "result2 = ticker.lower()\n",
    "result2"
   ]
  },
  {
   "cell_type": "markdown",
   "id": "ae9744ef",
   "metadata": {},
   "source": [
    "043 capitalize 메서드\n",
    "문자열 'hello'가 있을 때 이를 'Hello'로 변경해보세요."
   ]
  },
  {
   "cell_type": "code",
   "execution_count": 76,
   "id": "544e56fb",
   "metadata": {
    "ExecuteTime": {
     "end_time": "2023-11-25T04:00:45.933525Z",
     "start_time": "2023-11-25T04:00:45.928181Z"
    }
   },
   "outputs": [
    {
     "data": {
      "text/plain": [
       "'Hello'"
      ]
     },
     "execution_count": 76,
     "metadata": {},
     "output_type": "execute_result"
    }
   ],
   "source": [
    "a = 'hello'\n",
    "result = a.capitalize()\n",
    "result"
   ]
  },
  {
   "cell_type": "markdown",
   "id": "e1d6e1b5",
   "metadata": {},
   "source": [
    "044 endswith 메서드\n",
    "파일 이름이 문자열로 저장되어 있을 때 endswith 메서드를 사용해서 파일 이름이 'xlsx'로 끝나는지 확인해보세요.\n",
    "\n",
    "file_name = \"보고서.xlsx\""
   ]
  },
  {
   "cell_type": "code",
   "execution_count": 79,
   "id": "890a180a",
   "metadata": {
    "ExecuteTime": {
     "end_time": "2023-11-25T04:02:12.047027Z",
     "start_time": "2023-11-25T04:02:12.038873Z"
    }
   },
   "outputs": [
    {
     "data": {
      "text/plain": [
       "True"
      ]
     },
     "execution_count": 79,
     "metadata": {},
     "output_type": "execute_result"
    }
   ],
   "source": [
    "file_name = \"보고서.xlsx\"\n",
    "\n",
    "file_name.endswith('xlsx')"
   ]
  },
  {
   "cell_type": "markdown",
   "id": "787cc97b",
   "metadata": {},
   "source": []
  },
  {
   "cell_type": "code",
   "execution_count": null,
   "id": "a0a33037",
   "metadata": {
    "ExecuteTime": {
     "end_time": "2023-11-24T11:06:05.241548Z",
     "start_time": "2023-11-24T11:06:05.235885Z"
    }
   },
   "outputs": [],
   "source": [
    "046 startswith 메서드\n",
    "파일 이름이 문자열로 저장되어 있을 때 startswith 메서드를 사용해서 파일 이름이 '2020'로 시작하는지 확인해보세요.\n",
    "\n",
    "file_name = \"2020_보고서.xlsx\""
   ]
  },
  {
   "cell_type": "markdown",
   "id": "39665c1b",
   "metadata": {},
   "source": []
  },
  {
   "cell_type": "code",
   "execution_count": 80,
   "id": "bbba0f8a",
   "metadata": {
    "ExecuteTime": {
     "end_time": "2023-11-25T04:02:48.509524Z",
     "start_time": "2023-11-25T04:02:48.501347Z"
    }
   },
   "outputs": [
    {
     "data": {
      "text/plain": [
       "True"
      ]
     },
     "execution_count": 80,
     "metadata": {},
     "output_type": "execute_result"
    }
   ],
   "source": [
    "file_name = \"2020_보고서.xlsx\"\n",
    "file_name.startswith('2020')"
   ]
  },
  {
   "cell_type": "markdown",
   "id": "9d39a934",
   "metadata": {},
   "source": [
    "047 split 메서드\n",
    "다음과 같은 문자열이 있을 때 공백을 기준으로 문자열을 나눠보세요.\n",
    "\n",
    "a = \"hello world\""
   ]
  },
  {
   "cell_type": "code",
   "execution_count": 84,
   "id": "d7180986",
   "metadata": {
    "ExecuteTime": {
     "end_time": "2023-11-25T04:03:37.780151Z",
     "start_time": "2023-11-25T04:03:37.774804Z"
    }
   },
   "outputs": [
    {
     "data": {
      "text/plain": [
       "['hello', 'world']"
      ]
     },
     "execution_count": 84,
     "metadata": {},
     "output_type": "execute_result"
    }
   ],
   "source": [
    "a = \"hello world\"\n",
    "a.split()"
   ]
  },
  {
   "cell_type": "markdown",
   "id": "cc295d9c",
   "metadata": {},
   "source": [
    "048 split 메서드\n",
    "다음과 같이 문자열이 있을 때 btc와 krw로 나눠보세요.\n",
    "\n",
    "ticker = \"btc_krw\""
   ]
  },
  {
   "cell_type": "code",
   "execution_count": 85,
   "id": "6d64b57a",
   "metadata": {
    "ExecuteTime": {
     "end_time": "2023-11-25T04:04:17.889741Z",
     "start_time": "2023-11-25T04:04:17.880655Z"
    }
   },
   "outputs": [
    {
     "data": {
      "text/plain": [
       "['btc', 'krw']"
      ]
     },
     "execution_count": 85,
     "metadata": {},
     "output_type": "execute_result"
    }
   ],
   "source": [
    "ticker = \"btc_krw\"\n",
    "\n",
    "ticker.split('_')"
   ]
  },
  {
   "cell_type": "markdown",
   "id": "bf3bff25",
   "metadata": {},
   "source": [
    "049 split 메서드\n",
    "다음과 같이 날짜를 표현하는 문자열이 있을 때 연도, 월, 일로 나눠보세요.\n",
    "\n",
    "date = \"2020-05-01\""
   ]
  },
  {
   "cell_type": "code",
   "execution_count": 86,
   "id": "11df19b6",
   "metadata": {
    "ExecuteTime": {
     "end_time": "2023-11-25T05:10:23.952140Z",
     "start_time": "2023-11-25T05:10:23.945079Z"
    }
   },
   "outputs": [
    {
     "data": {
      "text/plain": [
       "['2020', '05', '01']"
      ]
     },
     "execution_count": 86,
     "metadata": {},
     "output_type": "execute_result"
    }
   ],
   "source": [
    "date = \"2020-05-01\"\n",
    "date.split('-')"
   ]
  },
  {
   "cell_type": "markdown",
   "id": "ff47e5a2",
   "metadata": {},
   "source": [
    "050 rstrip 메서드\n",
    "문자열의 오른쪽에 공백이 있을 때 이를 제거해보세요.\n",
    "\n",
    "data = \"039490     \""
   ]
  },
  {
   "cell_type": "code",
   "execution_count": 87,
   "id": "173d9bfe",
   "metadata": {
    "ExecuteTime": {
     "end_time": "2023-11-25T05:10:17.788097Z",
     "start_time": "2023-11-25T05:10:17.781900Z"
    }
   },
   "outputs": [
    {
     "data": {
      "text/plain": [
       "'039490'"
      ]
     },
     "execution_count": 87,
     "metadata": {},
     "output_type": "execute_result"
    }
   ],
   "source": [
    "data = \"039490     \"\n",
    "data.rstrip()\n"
   ]
  },
  {
   "cell_type": "markdown",
   "id": "a91ad5c3",
   "metadata": {},
   "source": [
    "051 리스트 생성\n",
    "2016년 11월 영화 예매 순위 기준 top3는 다음과 같습니다. 영화 제목을 movie_rank 이름의 리스트에 저장해보세요. (순위 정보는 저장하지 않습니다.)\n",
    "\n",
    "순위\t영화\n",
    "1\t닥터 스트레인지\n",
    "2\t스플릿\n",
    "3\t럭키"
   ]
  },
  {
   "cell_type": "code",
   "execution_count": 90,
   "id": "4a5c9638",
   "metadata": {
    "ExecuteTime": {
     "end_time": "2023-11-25T05:11:14.501204Z",
     "start_time": "2023-11-25T05:11:14.496140Z"
    }
   },
   "outputs": [
    {
     "data": {
      "text/plain": [
       "['닥터 스트레인지', '스플릿', '럭키']"
      ]
     },
     "execution_count": 90,
     "metadata": {},
     "output_type": "execute_result"
    }
   ],
   "source": [
    "movie_rank = ['닥터 스트레인지', '스플릿', '럭키']\n",
    "movie_rank"
   ]
  },
  {
   "cell_type": "markdown",
   "id": "8e6d5d92",
   "metadata": {},
   "source": [
    "052 리스트에 원소 추가\n",
    "051의 movie_rank 리스트에 \"배트맨\"을 추가하라."
   ]
  },
  {
   "cell_type": "code",
   "execution_count": 92,
   "id": "2199640c",
   "metadata": {
    "ExecuteTime": {
     "end_time": "2023-11-25T05:14:39.705442Z",
     "start_time": "2023-11-25T05:14:39.697572Z"
    }
   },
   "outputs": [
    {
     "data": {
      "text/plain": [
       "['닥터 스트레인지', '스플릿', '럭키', '배트맨']"
      ]
     },
     "execution_count": 92,
     "metadata": {},
     "output_type": "execute_result"
    }
   ],
   "source": [
    "movie_rank = movie_rank + ['배트맨']\n",
    "movie_rank\n",
    "\n",
    "# 교안에선 이렇게 풀었음\n",
    "# movie_rank = [\"닥터 스트레인지\", \"스플릿\", \"럭키\"]\n",
    "# movie_rank.append(\"배트맨\")\n",
    "# print(movie_rank)"
   ]
  },
  {
   "cell_type": "markdown",
   "id": "5e7019ee",
   "metadata": {},
   "source": [
    "053\n",
    "movie_rank 리스트에는 아래와 같이 네 개의 영화 제목이 바인딩되어 있다. \"슈퍼맨\"을 \"닥터 스트레인지\"와 \"스플릿\" 사이에 추가하라.\n",
    "\n",
    "movie_rank = ['닥터 스트레인지', '스플릿', '럭키', '배트맨']"
   ]
  },
  {
   "cell_type": "code",
   "execution_count": 94,
   "id": "d3b10eb0",
   "metadata": {
    "ExecuteTime": {
     "end_time": "2023-11-25T04:09:56.717844Z",
     "start_time": "2023-11-25T04:09:56.711613Z"
    }
   },
   "outputs": [
    {
     "data": {
      "text/plain": [
       "['닥터 스트레인지', '슈퍼맨', '스플릿', '럭키', '배트맨']"
      ]
     },
     "execution_count": 94,
     "metadata": {},
     "output_type": "execute_result"
    }
   ],
   "source": [
    "movie_rank = ['닥터 스트레인지', '스플릿', '럭키', '배트맨']\n",
    "movie_rank.insert(1, '슈퍼맨')\n",
    "movie_rank"
   ]
  },
  {
   "cell_type": "markdown",
   "id": "096afd4b",
   "metadata": {},
   "source": [
    "054\n",
    "movie_rank 리스트에서 '럭키'를 삭제하라.\n",
    "\n",
    "movie_rank = ['닥터 스트레인지', '슈퍼맨', '스플릿', '럭키', '배트맨']"
   ]
  },
  {
   "cell_type": "code",
   "execution_count": 98,
   "id": "0a3ed504",
   "metadata": {
    "ExecuteTime": {
     "end_time": "2023-11-25T04:11:14.658713Z",
     "start_time": "2023-11-25T04:11:14.649873Z"
    }
   },
   "outputs": [
    {
     "data": {
      "text/plain": [
       "['닥터 스트레인지', '슈퍼맨', '스플릿', '배트맨']"
      ]
     },
     "execution_count": 98,
     "metadata": {},
     "output_type": "execute_result"
    }
   ],
   "source": [
    "movie_rank = ['닥터 스트레인지', '슈퍼맨', '스플릿', '럭키', '배트맨']\n",
    "movie_rank.remove('럭키')\n",
    "movie_rank\n",
    "\n",
    "\n",
    "# movie_rank = ['닥터 스트레인지', '슈퍼맨', '스플릿', '럭키', '배트맨']\n",
    "# del movie_rank[3]\n",
    "# print(movie_rank)"
   ]
  },
  {
   "cell_type": "markdown",
   "id": "dd3f8377",
   "metadata": {},
   "source": [
    "055\n",
    "movie_rank 리스트에서 '스플릿' 과 '배트맨'을 를 삭제하라.\n",
    "\n",
    "movie_rank = ['닥터 스트레인지', '슈퍼맨', '스플릿', '배트맨']"
   ]
  },
  {
   "cell_type": "code",
   "execution_count": 103,
   "id": "2dd28b2b",
   "metadata": {
    "ExecuteTime": {
     "end_time": "2023-11-25T04:14:18.741297Z",
     "start_time": "2023-11-25T04:14:18.732273Z"
    }
   },
   "outputs": [
    {
     "data": {
      "text/plain": [
       "['닥터 스트레인지', '슈퍼맨']"
      ]
     },
     "execution_count": 103,
     "metadata": {},
     "output_type": "execute_result"
    }
   ],
   "source": [
    "movie_rank = ['닥터 스트레인지', '슈퍼맨', '스플릿', '배트맨']\n",
    "movie_rank.remove('스플릿')\n",
    "movie_rank.remove('배트맨')\n",
    "movie_rank\n",
    "\n",
    "#movie_rank = ['닥터 스트레인지', '슈퍼맨', '스플릿', '배트맨']\n",
    "#del movie_rank[2]\n",
    "#del movie_rank[2]\n",
    "#print(movie_rank)"
   ]
  },
  {
   "cell_type": "markdown",
   "id": "c2afac90",
   "metadata": {},
   "source": [
    "056\n",
    "lang1과 lang2 리스트가 있을 때 lang1과 lang2의 원소를 모두 갖고 있는 langs 리스트를 만들어라.\n",
    "\n",
    ">> lang1 = [\"C\", \"C++\", \"JAVA\"]\n",
    ">> lang2 = [\"Python\", \"Go\", \"C#\"]\n",
    "실행 예:\n",
    ">> langs\n",
    "['C', 'C++', 'JAVA', 'Python', 'Go', 'C#']"
   ]
  },
  {
   "cell_type": "code",
   "execution_count": 104,
   "id": "82faafa3",
   "metadata": {
    "ExecuteTime": {
     "end_time": "2023-11-25T04:15:35.114355Z",
     "start_time": "2023-11-25T04:15:35.107117Z"
    }
   },
   "outputs": [
    {
     "data": {
      "text/plain": [
       "['C', 'C++', 'JAVA', 'Python', 'Go', 'C#']"
      ]
     },
     "execution_count": 104,
     "metadata": {},
     "output_type": "execute_result"
    }
   ],
   "source": [
    "lang1 = [\"C\", \"C++\", \"JAVA\"]\n",
    "lang2 = [\"Python\", \"Go\", \"C#\"]\n",
    "\n",
    "langs = lang1 + lang2\n",
    "langs"
   ]
  },
  {
   "cell_type": "markdown",
   "id": "cd948cec",
   "metadata": {},
   "source": [
    "057\n",
    "다음 리스트에서 최댓값과 최솟값을 출력하라. (힌트: min(), max() 함수 사용)\n",
    "\n",
    "nums = [1, 2, 3, 4, 5, 6, 7]\n",
    "실행 예:\n",
    "max:  7\n",
    "min:  1"
   ]
  },
  {
   "cell_type": "code",
   "execution_count": 116,
   "id": "f91cef27",
   "metadata": {
    "ExecuteTime": {
     "end_time": "2023-11-25T04:19:37.895075Z",
     "start_time": "2023-11-25T04:19:37.890174Z"
    }
   },
   "outputs": [
    {
     "name": "stdout",
     "output_type": "stream",
     "text": [
      "max:  7\n",
      "min:  1\n"
     ]
    }
   ],
   "source": [
    "nums = [1, 2, 3, 4, 5, 6, 7]\n",
    "\n",
    "print('max: ', max(nums))\n",
    "print('min: ', min(nums))"
   ]
  },
  {
   "cell_type": "markdown",
   "id": "b2d5a2ce",
   "metadata": {},
   "source": [
    "058\n",
    "다음 리스트의 합을 출력하라.\n",
    "\n",
    "nums = [1, 2, 3, 4, 5]\n",
    "실행 예:\n",
    "15"
   ]
  },
  {
   "cell_type": "code",
   "execution_count": 118,
   "id": "5cbb74fc",
   "metadata": {
    "ExecuteTime": {
     "end_time": "2023-11-25T04:19:56.386169Z",
     "start_time": "2023-11-25T04:19:56.378450Z"
    }
   },
   "outputs": [
    {
     "data": {
      "text/plain": [
       "15"
      ]
     },
     "execution_count": 118,
     "metadata": {},
     "output_type": "execute_result"
    }
   ],
   "source": [
    "nums = [1, 2, 3, 4, 5]\n",
    "sum(nums)"
   ]
  },
  {
   "cell_type": "markdown",
   "id": "2e079798",
   "metadata": {},
   "source": [
    "059\n",
    "다음 리스트에 저장된 데이터의 개수를 화면에 구하하라.\n",
    "\n",
    "cook = [\"피자\", \"김밥\", \"만두\", \"양념치킨\", \"족발\", \"피자\", \"김치만두\", \"쫄면\", \"소시지\", \"라면\", \"팥빙수\", \"김치전\"]"
   ]
  },
  {
   "cell_type": "code",
   "execution_count": 124,
   "id": "7a50a8e8",
   "metadata": {
    "ExecuteTime": {
     "end_time": "2023-11-25T04:22:56.215623Z",
     "start_time": "2023-11-25T04:22:56.208784Z"
    }
   },
   "outputs": [
    {
     "data": {
      "text/plain": [
       "12"
      ]
     },
     "execution_count": 124,
     "metadata": {},
     "output_type": "execute_result"
    }
   ],
   "source": [
    "cook = [\"피자\", \"김밥\", \"만두\", \"양념치킨\", \"족발\", \"피자\", \"김치만두\", \"쫄면\", \"소시지\", \"라면\", \"팥빙수\", \"김치전\"]\n",
    "\n",
    "len(cook)"
   ]
  },
  {
   "cell_type": "markdown",
   "id": "9198545b",
   "metadata": {},
   "source": [
    "060\n",
    "다음 리스트의 평균을 출력하라.\n",
    "\n",
    "nums = [1, 2, 3, 4, 5]\n",
    "실행 예:\n",
    "3.0"
   ]
  },
  {
   "cell_type": "code",
   "execution_count": 130,
   "id": "9d242585",
   "metadata": {
    "ExecuteTime": {
     "end_time": "2023-11-25T04:24:37.025224Z",
     "start_time": "2023-11-25T04:24:37.018011Z"
    }
   },
   "outputs": [
    {
     "data": {
      "text/plain": [
       "3.0"
      ]
     },
     "execution_count": 130,
     "metadata": {},
     "output_type": "execute_result"
    }
   ],
   "source": [
    "nums = [1, 2, 3, 4, 5]\n",
    "\n",
    "sum(nums) / len(nums)"
   ]
  },
  {
   "cell_type": "markdown",
   "id": "24c69e94",
   "metadata": {},
   "source": [
    "061\n",
    "price 변수에는 날짜와 종가 정보가 저장돼 있다. 날짜 정보를 제외하고 가격 정보만을 출력하라. (힌트 : 슬라이싱)\n",
    "\n",
    "price = ['20180728', 100, 130, 140, 150, 160, 170]\n",
    "출력 예시:\n",
    "[100, 130, 140, 150, 160, 170]"
   ]
  },
  {
   "cell_type": "code",
   "execution_count": 132,
   "id": "e754a639",
   "metadata": {
    "ExecuteTime": {
     "end_time": "2023-11-25T04:45:40.778766Z",
     "start_time": "2023-11-25T04:45:40.772592Z"
    }
   },
   "outputs": [
    {
     "data": {
      "text/plain": [
       "[100, 130, 140, 150, 160, 170]"
      ]
     },
     "execution_count": 132,
     "metadata": {},
     "output_type": "execute_result"
    }
   ],
   "source": [
    "price = ['20180728', 100, 130, 140, 150, 160, 170]\n",
    "\n",
    "price[1:]"
   ]
  },
  {
   "cell_type": "markdown",
   "id": "984744b1",
   "metadata": {},
   "source": [
    "062\n",
    "슬라이싱을 사용해서 홀수만 출력하라.\n",
    "\n",
    "nums = [1, 2, 3, 4, 5, 6, 7, 8, 9, 10]\n",
    "실행 예:\n",
    "[1, 3, 5, 7, 9]"
   ]
  },
  {
   "cell_type": "code",
   "execution_count": 138,
   "id": "880f2394",
   "metadata": {
    "ExecuteTime": {
     "end_time": "2023-11-25T04:47:17.023291Z",
     "start_time": "2023-11-25T04:47:17.014295Z"
    }
   },
   "outputs": [
    {
     "data": {
      "text/plain": [
       "[1, 3, 5, 7, 9]"
      ]
     },
     "execution_count": 138,
     "metadata": {},
     "output_type": "execute_result"
    }
   ],
   "source": [
    "nums = [1, 2, 3, 4, 5, 6, 7, 8, 9, 10]\n",
    "nums[::2]"
   ]
  },
  {
   "cell_type": "markdown",
   "id": "1def18a7",
   "metadata": {},
   "source": [
    "슬라이싱을 사용해서 짝수만 출력하라.\n",
    "\n",
    "nums = [1, 2, 3, 4, 5, 6, 7, 8, 9, 10]\n",
    "실행 예:\n",
    "[2, 4, 6, 8, 10]"
   ]
  },
  {
   "cell_type": "code",
   "execution_count": 141,
   "id": "81b03646",
   "metadata": {
    "ExecuteTime": {
     "end_time": "2023-11-25T04:48:45.388461Z",
     "start_time": "2023-11-25T04:48:45.380184Z"
    }
   },
   "outputs": [
    {
     "data": {
      "text/plain": [
       "[2, 4, 6, 8, 10]"
      ]
     },
     "execution_count": 141,
     "metadata": {},
     "output_type": "execute_result"
    }
   ],
   "source": [
    "nums[1::2]"
   ]
  },
  {
   "cell_type": "markdown",
   "id": "8e608886",
   "metadata": {},
   "source": [
    "064\n",
    "슬라이싱을 사용해서 리스트의 숫자를 역 방향으로 출력하라.\n",
    "\n",
    "nums = [1, 2, 3, 4, 5]\n",
    "실행 예:\n",
    "[5, 4, 3, 2, 1]"
   ]
  },
  {
   "cell_type": "code",
   "execution_count": 144,
   "id": "8d762a81",
   "metadata": {
    "ExecuteTime": {
     "end_time": "2023-11-25T04:49:20.561572Z",
     "start_time": "2023-11-25T04:49:20.556113Z"
    }
   },
   "outputs": [
    {
     "data": {
      "text/plain": [
       "[5, 4, 3, 2, 1]"
      ]
     },
     "execution_count": 144,
     "metadata": {},
     "output_type": "execute_result"
    }
   ],
   "source": [
    "nums = [1, 2, 3, 4, 5]\n",
    "\n",
    "nums[::-1]"
   ]
  },
  {
   "cell_type": "markdown",
   "id": "a4574001",
   "metadata": {},
   "source": [
    "065\n",
    "interest 리스트에는 아래의 데이터가 바인딩되어 있다.\n",
    "\n",
    "interest = ['삼성전자', 'LG전자', 'Naver']\n",
    "interest 리스트를 사용하여 아래와 같이 화면에 출력하라.\n",
    "\n",
    "출력 예시:\n",
    "삼성전자 Naver"
   ]
  },
  {
   "cell_type": "code",
   "execution_count": 145,
   "id": "78c7732d",
   "metadata": {
    "ExecuteTime": {
     "end_time": "2023-11-25T04:52:32.959990Z",
     "start_time": "2023-11-25T04:52:32.954015Z"
    }
   },
   "outputs": [
    {
     "data": {
      "text/plain": [
       "['삼성전자', 'Naver']"
      ]
     },
     "execution_count": 145,
     "metadata": {},
     "output_type": "execute_result"
    }
   ],
   "source": [
    "interest = ['삼성전자', 'LG전자', 'Naver']\n",
    "interest[::2]\n",
    "\n",
    "#print(interest[0], interest[2])"
   ]
  },
  {
   "cell_type": "markdown",
   "id": "b0c57834",
   "metadata": {},
   "source": [
    "066 join 메서드\n",
    "interest 리스트에는 아래의 데이터가 바인딩되어 있다.\n",
    "\n",
    "interest = ['삼성전자', 'LG전자', 'Naver', 'SK하이닉스', '미래에셋대우']\n",
    "interest 리스트를 사용하여 아래와 같이 화면에 출력하라.\n",
    "\n",
    "출력 예시:\n",
    "삼성전자 LG전자 Naver SK하이닉스 미래에셋대우"
   ]
  },
  {
   "cell_type": "code",
   "execution_count": 147,
   "id": "5e43d37d",
   "metadata": {
    "ExecuteTime": {
     "end_time": "2023-11-25T04:55:40.422096Z",
     "start_time": "2023-11-25T04:55:40.414112Z"
    }
   },
   "outputs": [
    {
     "data": {
      "text/plain": [
       "'삼성전자 LG전자 Naver SK하이닉스 미래에셋대우'"
      ]
     },
     "execution_count": 147,
     "metadata": {},
     "output_type": "execute_result"
    }
   ],
   "source": [
    "interest = ['삼성전자', 'LG전자', 'Naver', 'SK하이닉스', '미래에셋대우']\n",
    "\" \".join(interest)"
   ]
  },
  {
   "cell_type": "markdown",
   "id": "54abb881",
   "metadata": {},
   "source": [
    "067 join 메서드\n",
    "interest 리스트에는 아래의 데이터가 바인딩되어 있다.\n",
    "\n",
    "interest = ['삼성전자', 'LG전자', 'Naver', 'SK하이닉스', '미래에셋대우']\n",
    "interest 리스트를 사용하여 아래와 같이 화면에 출력하라.\n",
    "\n",
    "출력 예시:\n",
    "삼성전자/LG전자/Naver/SK하이닉스/미래에셋대우"
   ]
  },
  {
   "cell_type": "code",
   "execution_count": 148,
   "id": "236f6865",
   "metadata": {
    "ExecuteTime": {
     "end_time": "2023-11-25T04:56:21.792366Z",
     "start_time": "2023-11-25T04:56:21.786757Z"
    }
   },
   "outputs": [
    {
     "data": {
      "text/plain": [
       "'삼성전자/LG전자/Naver/SK하이닉스/미래에셋대우'"
      ]
     },
     "execution_count": 148,
     "metadata": {},
     "output_type": "execute_result"
    }
   ],
   "source": [
    "\"/\".join(interest)"
   ]
  },
  {
   "cell_type": "markdown",
   "id": "f2aefd51",
   "metadata": {},
   "source": [
    "068 join 메서드\n",
    "interest 리스트에는 아래의 데이터가 바인딩되어 있다.\n",
    "\n",
    "interest = ['삼성전자', 'LG전자', 'Naver', 'SK하이닉스', '미래에셋대우']\n",
    "join() 메서드를 사용해서 interest 리스트를 아래와 같이 화면에 출력하라.\n",
    "\n",
    "출력 예시:\n",
    "삼성전자\n",
    "LG전자\n",
    "Naver\n",
    "SK하이닉스\n",
    "미래에셋대우"
   ]
  },
  {
   "cell_type": "code",
   "execution_count": 153,
   "id": "89a82007",
   "metadata": {
    "ExecuteTime": {
     "end_time": "2023-11-25T04:58:00.879615Z",
     "start_time": "2023-11-25T04:58:00.873854Z"
    }
   },
   "outputs": [
    {
     "name": "stdout",
     "output_type": "stream",
     "text": [
      "삼성전자\n",
      "LG전자\n",
      "Naver\n",
      "SK하이닉스\n",
      "미래에셋대우\n"
     ]
    }
   ],
   "source": [
    "print('\\n'.join(interest))"
   ]
  },
  {
   "cell_type": "markdown",
   "id": "8b956430",
   "metadata": {},
   "source": [
    "069 문자열 split 메서드\n",
    "회사 이름이 슬래시 ('/')로 구분되어 하나의 문자열로 저장되어 있다.\n",
    "\n",
    "string = \"삼성전자/LG전자/Naver\"\n",
    "이를 interest 이름의 리스트로 분리 저장하라.\n",
    "\n",
    "실행 예시\n",
    ">> print(interest)\n",
    "['삼성전자', 'LG전자', 'Naver']"
   ]
  },
  {
   "cell_type": "code",
   "execution_count": 158,
   "id": "43da35a0",
   "metadata": {
    "ExecuteTime": {
     "end_time": "2023-11-25T04:59:40.760994Z",
     "start_time": "2023-11-25T04:59:40.755991Z"
    }
   },
   "outputs": [
    {
     "name": "stdout",
     "output_type": "stream",
     "text": [
      "['삼성전자', 'LG전자', 'Naver']\n"
     ]
    }
   ],
   "source": [
    "string = \"삼성전자/LG전자/Naver\"\n",
    "\n",
    "interest = string.split('/')\n",
    "print(interest)"
   ]
  },
  {
   "cell_type": "markdown",
   "id": "f3b25172",
   "metadata": {},
   "source": [
    "070 리스트 정렬\n",
    "리스트에 있는 값을 오름차순으로 정렬하세요.\n",
    "\n",
    "data = [2, 4, 3, 1, 5, 10, 9]"
   ]
  },
  {
   "cell_type": "code",
   "execution_count": 166,
   "id": "96e6a3fc",
   "metadata": {
    "ExecuteTime": {
     "end_time": "2023-11-25T05:01:28.449585Z",
     "start_time": "2023-11-25T05:01:28.441228Z"
    }
   },
   "outputs": [
    {
     "data": {
      "text/plain": [
       "[1, 2, 3, 4, 5, 9, 10]"
      ]
     },
     "execution_count": 166,
     "metadata": {},
     "output_type": "execute_result"
    }
   ],
   "source": [
    "data = [2, 4, 3, 1, 5, 10, 9]\n",
    "data.sort()\n",
    "data"
   ]
  },
  {
   "cell_type": "markdown",
   "id": "ccf7ef75",
   "metadata": {},
   "source": [
    "071\n",
    "my_variable 이름의 비어있는 튜플을 만들라."
   ]
  },
  {
   "cell_type": "code",
   "execution_count": 171,
   "id": "cf9a420f",
   "metadata": {
    "ExecuteTime": {
     "end_time": "2023-11-25T05:03:24.987677Z",
     "start_time": "2023-11-25T05:03:24.984123Z"
    }
   },
   "outputs": [
    {
     "name": "stdout",
     "output_type": "stream",
     "text": [
      "() <class 'tuple'>\n"
     ]
    }
   ],
   "source": [
    "my_variable = ()\n",
    "print(my_variable, type(my_variable))\n"
   ]
  },
  {
   "cell_type": "markdown",
   "id": "d8982dd0",
   "metadata": {},
   "source": [
    "072\n",
    "2016년 11월 영화 예매 순위 기준 top3는 다음과 같다. 영화 제목을 movie_rank 이름의 튜플에 저장하라. (순위 정보는 저장하지 않는다.)\n",
    "\n",
    "순위\t영화\n",
    "1\t닥터 스트레인지\n",
    "2\t스플릿\n",
    "3\t럭키"
   ]
  },
  {
   "cell_type": "code",
   "execution_count": 172,
   "id": "140bd35f",
   "metadata": {
    "ExecuteTime": {
     "end_time": "2023-11-25T05:03:52.040094Z",
     "start_time": "2023-11-25T05:03:52.034093Z"
    }
   },
   "outputs": [
    {
     "data": {
      "text/plain": [
       "('닥터 스트레인지', '스플릿', '럭키')"
      ]
     },
     "execution_count": 172,
     "metadata": {},
     "output_type": "execute_result"
    }
   ],
   "source": [
    "movie_rank = ('닥터 스트레인지', '스플릿', '럭키')\n",
    "movie_rank"
   ]
  },
  {
   "cell_type": "markdown",
   "id": "49645b63",
   "metadata": {},
   "source": [
    "073\n",
    "숫자 1 이 저장된 튜플을 생성하라."
   ]
  },
  {
   "cell_type": "code",
   "execution_count": 175,
   "id": "6a662456",
   "metadata": {
    "ExecuteTime": {
     "end_time": "2023-11-25T05:05:08.684065Z",
     "start_time": "2023-11-25T05:05:08.677425Z"
    }
   },
   "outputs": [
    {
     "name": "stdout",
     "output_type": "stream",
     "text": [
      "1 <class 'int'> (1,) <class 'tuple'>\n"
     ]
    }
   ],
   "source": [
    "a = (1)\n",
    "b = (1, )\n",
    "print(a, type(a), b, type(b))"
   ]
  },
  {
   "cell_type": "markdown",
   "id": "757a1734",
   "metadata": {},
   "source": [
    "074\n",
    "다음 코드를 실행해보고 오류가 발생하는 원인을 설명하라.\n",
    "\n",
    ">> t = (1, 2, 3)\n",
    ">> t[0] = 'a'\n",
    "Traceback (most recent call last):\n",
    "  File \"<pyshell#46>\", line 1, in <module>\n",
    "    t[0] = 'a'\n",
    "TypeError: 'tuple' object does not support item assignment"
   ]
  },
  {
   "cell_type": "code",
   "execution_count": 179,
   "id": "92e976b7",
   "metadata": {
    "ExecuteTime": {
     "end_time": "2023-11-25T05:06:25.184871Z",
     "start_time": "2023-11-25T05:06:25.181512Z"
    }
   },
   "outputs": [],
   "source": [
    "# 튜플은 수정이 안됨"
   ]
  },
  {
   "cell_type": "markdown",
   "id": "37ff5420",
   "metadata": {},
   "source": [
    "075\n",
    "아래와 같이 t에는 1, 2, 3, 4 데이터가 바인딩되어 있다. t가 바인딩하는 데이터 타입은 무엇인가?\n",
    "\n",
    "t = 1, 2, 3, 4"
   ]
  },
  {
   "cell_type": "code",
   "execution_count": 180,
   "id": "336bf873",
   "metadata": {
    "ExecuteTime": {
     "end_time": "2023-11-25T05:07:16.714575Z",
     "start_time": "2023-11-25T05:07:16.705983Z"
    }
   },
   "outputs": [
    {
     "data": {
      "text/plain": [
       "tuple"
      ]
     },
     "execution_count": 180,
     "metadata": {},
     "output_type": "execute_result"
    }
   ],
   "source": [
    "t = 1, 2, 3, 4\n",
    "\n",
    "type(t)\n",
    "\n",
    "# 괄호가 없어도 튜플로 동작함"
   ]
  },
  {
   "cell_type": "markdown",
   "id": "86af4af2",
   "metadata": {},
   "source": [
    "076\n",
    "변수 t에는 아래와 같은 값이 저장되어 있다. 변수 t가 ('A', 'b', 'c') 튜플을 가리키도록 수정 하라.\n",
    "\n",
    "t = ('a', 'b', 'c')"
   ]
  },
  {
   "cell_type": "code",
   "execution_count": 183,
   "id": "3530f61c",
   "metadata": {
    "ExecuteTime": {
     "end_time": "2023-11-25T05:08:53.897617Z",
     "start_time": "2023-11-25T05:08:53.891498Z"
    }
   },
   "outputs": [],
   "source": [
    "t = ('a', 'b', 'c')\n",
    "t = ('A', 'b', 'c')\n",
    "# 튜플은 새로 만들어야 한다"
   ]
  },
  {
   "cell_type": "markdown",
   "id": "1da50398",
   "metadata": {},
   "source": [
    "077\n",
    "다음 튜플을 리스트로 변환하라.\n",
    "\n",
    "interest = ('삼성전자', 'LG전자', 'SK Hynix')"
   ]
  },
  {
   "cell_type": "code",
   "execution_count": 188,
   "id": "4019a0ea",
   "metadata": {
    "ExecuteTime": {
     "end_time": "2023-11-25T05:10:23.952140Z",
     "start_time": "2023-11-25T05:10:23.945079Z"
    }
   },
   "outputs": [
    {
     "data": {
      "text/plain": [
       "['삼성전자', 'LG전자', 'SK Hynix']"
      ]
     },
     "execution_count": 188,
     "metadata": {},
     "output_type": "execute_result"
    }
   ],
   "source": [
    "interest = ('삼성전자', 'LG전자', 'SK Hynix')\n",
    "interest = ['삼성전자', 'LG전자', 'SK Hynix']\n",
    "interest\n",
    "\n",
    "# data = list(interest)\n",
    "# data"
   ]
  },
  {
   "cell_type": "markdown",
   "id": "86b5543e",
   "metadata": {},
   "source": [
    "078\n",
    "다음 리스트를 튜플로 변경하라.\n",
    "\n",
    "interest = ['삼성전자', 'LG전자', 'SK Hynix']"
   ]
  },
  {
   "cell_type": "code",
   "execution_count": 187,
   "id": "064a0386",
   "metadata": {
    "ExecuteTime": {
     "end_time": "2023-11-25T05:10:17.788097Z",
     "start_time": "2023-11-25T05:10:17.781900Z"
    }
   },
   "outputs": [
    {
     "data": {
      "text/plain": [
       "('삼성전자', 'LG전자', 'SK Hynix')"
      ]
     },
     "execution_count": 187,
     "metadata": {},
     "output_type": "execute_result"
    }
   ],
   "source": [
    "interest = ['삼성전자', 'LG전자', 'SK Hynix']\n",
    "data = tuple(interest)\n",
    "data"
   ]
  },
  {
   "cell_type": "markdown",
   "id": "11956344",
   "metadata": {},
   "source": [
    "079 튜플 언팩킹\n",
    "다음 코드의 실행 결과를 예상하라.\n",
    "\n",
    "temp = ('apple', 'banana', 'cake')\n",
    "a, b, c = temp\n",
    "print(a, b, c)"
   ]
  },
  {
   "cell_type": "code",
   "execution_count": 191,
   "id": "3d7650d6",
   "metadata": {
    "ExecuteTime": {
     "end_time": "2023-11-25T05:11:14.501204Z",
     "start_time": "2023-11-25T05:11:14.496140Z"
    }
   },
   "outputs": [
    {
     "name": "stdout",
     "output_type": "stream",
     "text": [
      "apple banana cake\n"
     ]
    }
   ],
   "source": [
    "temp = ('apple', 'banana', 'cake')\n",
    "a, b, c = temp\n",
    "print(a, b, c)\n",
    "\n",
    "# apple banana cake"
   ]
  },
  {
   "cell_type": "markdown",
   "id": "d12003c5",
   "metadata": {},
   "source": [
    "080 range 함수\n",
    "1 부터 99까지의 정수 중 짝수만 저장된 튜플을 생성하라.\n",
    "\n",
    "(2, 4, 6, 8 ... 98)"
   ]
  },
  {
   "cell_type": "code",
   "execution_count": 204,
   "id": "d361ccd2",
   "metadata": {
    "ExecuteTime": {
     "end_time": "2023-11-25T05:14:39.705442Z",
     "start_time": "2023-11-25T05:14:39.697572Z"
    }
   },
   "outputs": [
    {
     "data": {
      "text/plain": [
       "(2,\n",
       " 4,\n",
       " 6,\n",
       " 8,\n",
       " 10,\n",
       " 12,\n",
       " 14,\n",
       " 16,\n",
       " 18,\n",
       " 20,\n",
       " 22,\n",
       " 24,\n",
       " 26,\n",
       " 28,\n",
       " 30,\n",
       " 32,\n",
       " 34,\n",
       " 36,\n",
       " 38,\n",
       " 40,\n",
       " 42,\n",
       " 44,\n",
       " 46,\n",
       " 48,\n",
       " 50,\n",
       " 52,\n",
       " 54,\n",
       " 56,\n",
       " 58,\n",
       " 60,\n",
       " 62,\n",
       " 64,\n",
       " 66,\n",
       " 68,\n",
       " 70,\n",
       " 72,\n",
       " 74,\n",
       " 76,\n",
       " 78,\n",
       " 80,\n",
       " 82,\n",
       " 84,\n",
       " 86,\n",
       " 88,\n",
       " 90,\n",
       " 92,\n",
       " 94,\n",
       " 96,\n",
       " 98)"
      ]
     },
     "execution_count": 204,
     "metadata": {},
     "output_type": "execute_result"
    }
   ],
   "source": [
    "data = tuple(range(2, 99, 2))\n",
    "data"
   ]
  },
  {
   "cell_type": "markdown",
   "id": "cfc1b77e",
   "metadata": {},
   "source": []
  },
  {
   "cell_type": "code",
   "execution_count": null,
   "id": "09fe60f8",
   "metadata": {
    "ExecuteTime": {
     "end_time": "2023-11-25T04:09:56.717844Z",
     "start_time": "2023-11-25T04:09:56.711613Z"
    }
   },
   "outputs": [],
   "source": [
    "081 별 표현식\n",
    "기본적으로 데이터 언패킹은 좌변의 변수와 우변 데이터 개수가 같아야 합니다. 하지만 star expression을 사용하면 변수의 개수가 달라도 데이터 언패킹을 할 수 있습니다. 튜플에 저장된 데이터 중에서 앞에 있는 두 개의 데이터만 필요할 경우 나머지 데이터의 언패킹 코드를 작성할 필요가 없습니다.\n",
    "\n",
    ">> a, b, *c = (0, 1, 2, 3, 4, 5)\n",
    ">> a\n",
    "0\n",
    ">> b\n",
    "1\n",
    ">> c\n",
    "[2, 3, 4, 5]\n",
    "다음과 같이 10개의 값이 저장된 scores 리스트가 있을 때, start expression을 사용하여 좌측 8개의 값을 valid_score 변수에 바인딩하여라.\n",
    "\n",
    "scores = [8.8, 8.9, 8.7, 9.2, 9.3, 9.7, 9.9, 9.5, 7.8, 9.4]"
   ]
  },
  {
   "cell_type": "markdown",
   "id": "a89f0625",
   "metadata": {},
   "source": []
  },
  {
   "cell_type": "code",
   "execution_count": 1,
   "id": "9120ac42",
   "metadata": {
    "ExecuteTime": {
     "end_time": "2023-11-27T10:52:27.607501Z",
     "start_time": "2023-11-27T10:52:27.596540Z"
    }
   },
   "outputs": [
    {
     "data": {
      "text/plain": [
       "0"
      ]
     },
     "execution_count": 1,
     "metadata": {},
     "output_type": "execute_result"
    }
   ],
   "source": [
    "a, b, *c = (0, 1, 2, 3, 4, 5)\n",
    "a"
   ]
  },
  {
   "cell_type": "markdown",
   "id": "6079867a",
   "metadata": {},
   "source": []
  },
  {
   "cell_type": "code",
   "execution_count": 2,
   "id": "bd3fc573",
   "metadata": {
    "ExecuteTime": {
     "end_time": "2023-11-27T10:52:35.382232Z",
     "start_time": "2023-11-27T10:52:35.376218Z"
    }
   },
   "outputs": [
    {
     "data": {
      "text/plain": [
       "1"
      ]
     },
     "execution_count": 2,
     "metadata": {},
     "output_type": "execute_result"
    }
   ],
   "source": [
    "b"
   ]
  },
  {
   "cell_type": "code",
   "execution_count": 3,
   "id": "784f4c78",
   "metadata": {
    "ExecuteTime": {
     "end_time": "2023-11-27T10:52:38.933205Z",
     "start_time": "2023-11-27T10:52:38.927370Z"
    }
   },
   "outputs": [
    {
     "data": {
      "text/plain": [
       "[2, 3, 4, 5]"
      ]
     },
     "execution_count": 3,
     "metadata": {},
     "output_type": "execute_result"
    }
   ],
   "source": [
    "c"
   ]
  },
  {
   "cell_type": "markdown",
   "id": "2dc305bd",
   "metadata": {},
   "source": []
  },
  {
   "cell_type": "code",
   "execution_count": 48,
   "id": "cdc66b5a",
   "metadata": {
    "ExecuteTime": {
     "end_time": "2023-11-27T11:14:19.699871Z",
     "start_time": "2023-11-27T11:14:19.693524Z"
    }
   },
   "outputs": [
    {
     "name": "stdout",
     "output_type": "stream",
     "text": [
      "[8.8, 8.9, 8.7, 9.2, 9.3, 9.7, 9.9, 9.5]\n",
      "9.4\n",
      "7.8\n"
     ]
    }
   ],
   "source": [
    "scores = [8.8, 8.9, 8.7, 9.2, 9.3, 9.7, 9.9, 9.5, 7.8, 9.4]\n",
    "\n",
    "*valid_score, a, b = scores\n",
    "valid_score"
   ]
  },
  {
   "cell_type": "markdown",
   "id": "d7fe442d",
   "metadata": {},
   "source": [
    "082\n",
    "다음과 같이 10개의 값이 저장된 scores 리스트가 있을 때, start expression을 사용하여 우측 8개의 값을 valid_score 변수에 바인딩하여라.\n",
    "\n",
    "scores = [8.8, 8.9, 8.7, 9.2, 9.3, 9.7, 9.9, 9.5, 7.8, 9.4]"
   ]
  },
  {
   "cell_type": "code",
   "execution_count": 9,
   "id": "d1ef4e0b",
   "metadata": {
    "ExecuteTime": {
     "end_time": "2023-11-27T10:58:28.441771Z",
     "start_time": "2023-11-27T10:58:28.434717Z"
    }
   },
   "outputs": [
    {
     "data": {
      "text/plain": [
       "[8.7, 9.2, 9.3, 9.7, 9.9, 9.5, 7.8, 9.4]"
      ]
     },
     "execution_count": 9,
     "metadata": {},
     "output_type": "execute_result"
    }
   ],
   "source": [
    "scores = [8.8, 8.9, 8.7, 9.2, 9.3, 9.7, 9.9, 9.5, 7.8, 9.4]\n",
    "\n",
    "a, b, *valid_score = scores\n",
    "valid_score"
   ]
  },
  {
   "cell_type": "markdown",
   "id": "c4dca719",
   "metadata": {},
   "source": [
    "083\n",
    "다음과 같이 10개의 값이 저장된 scores 리스트가 있을 때, start expression을 사용하여 가운데 있는 8개의 값을 valid_score 변수에 바인딩하여라.\n",
    "\n",
    "scores = [8.8, 8.9, 8.7, 9.2, 9.3, 9.7, 9.9, 9.5, 7.8, 9.4]"
   ]
  },
  {
   "cell_type": "code",
   "execution_count": 10,
   "id": "a7e39e0e",
   "metadata": {
    "ExecuteTime": {
     "end_time": "2023-11-27T10:59:32.352080Z",
     "start_time": "2023-11-27T10:59:32.344606Z"
    }
   },
   "outputs": [
    {
     "data": {
      "text/plain": [
       "[8.9, 8.7, 9.2, 9.3, 9.7, 9.9, 9.5, 7.8]"
      ]
     },
     "execution_count": 10,
     "metadata": {},
     "output_type": "execute_result"
    }
   ],
   "source": [
    "scores = [8.8, 8.9, 8.7, 9.2, 9.3, 9.7, 9.9, 9.5, 7.8, 9.4]\n",
    "\n",
    "a, *valid_score, b = scores\n",
    "valid_score"
   ]
  },
  {
   "cell_type": "markdown",
   "id": "3ab938ce",
   "metadata": {},
   "source": [
    "084 비어있는 딕셔너리\n",
    "temp 이름의 비어있는 딕셔너리를 만들라."
   ]
  },
  {
   "cell_type": "code",
   "execution_count": 13,
   "id": "1d057b35",
   "metadata": {
    "ExecuteTime": {
     "end_time": "2023-11-27T11:00:18.692715Z",
     "start_time": "2023-11-27T11:00:18.687096Z"
    }
   },
   "outputs": [
    {
     "data": {
      "text/plain": [
       "{}"
      ]
     },
     "execution_count": 13,
     "metadata": {},
     "output_type": "execute_result"
    }
   ],
   "source": [
    "temp = { }\n",
    "temp"
   ]
  },
  {
   "cell_type": "markdown",
   "id": "196607ac",
   "metadata": {},
   "source": [
    "085\n",
    "다음 아이스크림 이름과 희망 가격을 딕셔너리로 구성하라.\n",
    "\n",
    "이름\t희망 가격\n",
    "메로나\t1000\n",
    "폴라포\t1200\n",
    "빵빠레\t1800"
   ]
  },
  {
   "cell_type": "code",
   "execution_count": 24,
   "id": "0f3c7231",
   "metadata": {
    "ExecuteTime": {
     "end_time": "2023-11-27T11:04:49.782730Z",
     "start_time": "2023-11-27T11:04:49.775827Z"
    }
   },
   "outputs": [
    {
     "data": {
      "text/plain": [
       "{'메로나': 1000, '폴라포': 1200, '빵빠레': 1800}"
      ]
     },
     "execution_count": 24,
     "metadata": {},
     "output_type": "execute_result"
    }
   ],
   "source": [
    "dic = {'메로나' : 1000, '폴라포' : 1200, '빵빠레' : 1800}\n",
    "dic"
   ]
  },
  {
   "cell_type": "markdown",
   "id": "878c47f9",
   "metadata": {},
   "source": [
    "085 번의 딕셔너리에 아래 아이스크림 가격정보를 추가하라.\n",
    "\n",
    "이름\t희망 가격\n",
    "죠스바\t1200\n",
    "월드콘\t1500"
   ]
  },
  {
   "cell_type": "code",
   "execution_count": 26,
   "id": "eb3b57c7",
   "metadata": {
    "ExecuteTime": {
     "end_time": "2023-11-27T11:05:09.683810Z",
     "start_time": "2023-11-27T11:05:09.678413Z"
    }
   },
   "outputs": [
    {
     "name": "stdout",
     "output_type": "stream",
     "text": [
      "{'메로나': 1000, '폴라포': 1200, '빵빠레': 1800, '죠스바': 1200, '월드콘': 1500}\n"
     ]
    }
   ],
   "source": [
    "dic['죠스바'] = 1200\n",
    "dic['월드콘'] = 1500\n",
    "print(dic)"
   ]
  },
  {
   "cell_type": "markdown",
   "id": "89849318",
   "metadata": {},
   "source": [
    "087\n",
    "다음 딕셔너리를 사용하여 메로나 가격을 출력하라.\n",
    "\n",
    "ice = {'메로나': 1000,\n",
    "       '폴로포': 1200,\n",
    "       '빵빠레': 1800,\n",
    "       '죠스바': 1200,\n",
    "       '월드콘': 1500}\n",
    "실행 예:\n",
    "메로나 가격: 1000"
   ]
  },
  {
   "cell_type": "code",
   "execution_count": 40,
   "id": "3e3c2ef6",
   "metadata": {
    "ExecuteTime": {
     "end_time": "2023-11-27T11:07:38.882657Z",
     "start_time": "2023-11-27T11:07:38.877299Z"
    }
   },
   "outputs": [
    {
     "name": "stdout",
     "output_type": "stream",
     "text": [
      "메로나 가격: 1000\n"
     ]
    }
   ],
   "source": [
    "ice = {'메로나': 1000,\n",
    "       '폴로포': 1200,\n",
    "       '빵빠레': 1800,\n",
    "       '죠스바': 1200,\n",
    "       '월드콘': 1500}\n",
    "\n",
    "print('메로나 가격:', ice['메로나'])\n"
   ]
  },
  {
   "cell_type": "markdown",
   "id": "646dba47",
   "metadata": {},
   "source": [
    "088\n",
    "다음 딕셔너리에서 메로나의 가격을 1300으로 수정하라.\n",
    "\n",
    "ice = {'메로나': 1000,\n",
    "       '폴로포': 1200,\n",
    "       '빵빠레': 1800,\n",
    "       '죠스바': 1200,\n",
    "       '월드콘': 1500}"
   ]
  },
  {
   "cell_type": "code",
   "execution_count": 41,
   "id": "0ef3c09f",
   "metadata": {
    "ExecuteTime": {
     "end_time": "2023-11-27T11:08:03.029623Z",
     "start_time": "2023-11-27T11:08:03.023554Z"
    }
   },
   "outputs": [
    {
     "data": {
      "text/plain": [
       "{'메로나': 1300, '폴로포': 1200, '빵빠레': 1800, '죠스바': 1200, '월드콘': 1500}"
      ]
     },
     "execution_count": 41,
     "metadata": {},
     "output_type": "execute_result"
    }
   ],
   "source": [
    "ice['메로나'] = 1300\n",
    "ice"
   ]
  },
  {
   "cell_type": "markdown",
   "id": "8dae4824",
   "metadata": {},
   "source": [
    "089\n",
    "다음 딕셔너리에서 메로나를 삭제하라.\n",
    "\n",
    "ice = {'메로나': 1000,\n",
    "       '폴로포': 1200,\n",
    "       '빵빠레': 1800,\n",
    "       '죠스바': 1200,\n",
    "       '월드콘': 1500}"
   ]
  },
  {
   "cell_type": "code",
   "execution_count": 45,
   "id": "8084a58b",
   "metadata": {
    "ExecuteTime": {
     "end_time": "2023-11-27T11:09:35.832709Z",
     "start_time": "2023-11-27T11:09:35.826176Z"
    }
   },
   "outputs": [
    {
     "data": {
      "text/plain": [
       "{'폴로포': 1200, '빵빠레': 1800, '죠스바': 1200, '월드콘': 1500}"
      ]
     },
     "execution_count": 45,
     "metadata": {},
     "output_type": "execute_result"
    }
   ],
   "source": [
    "ice = {'메로나': 1000,\n",
    "       '폴로포': 1200,\n",
    "       '빵빠레': 1800,\n",
    "       '죠스바': 1200,\n",
    "       '월드콘': 1500}\n",
    "\n",
    "del ice['메로나']\n",
    "ice"
   ]
  },
  {
   "cell_type": "markdown",
   "id": "a9b7fd96",
   "metadata": {},
   "source": [
    "090\n",
    "다음 코드에서 에러가 발생한 원인을 설명하라.\n",
    "\n",
    ">> icecream = {'폴라포': 1200, '빵빠레': 1800, '월드콘': 1500, '메로나': 1000}\n",
    ">> icecream['누가바']\n",
    "Traceback (most recent call last):\n",
    "  File \"<pyshell#69>\", line 1, in <module>\n",
    "    icecream['누가바']\n",
    "KeyError: '누가바'"
   ]
  },
  {
   "cell_type": "code",
   "execution_count": null,
   "id": "69ecbd5b",
   "metadata": {
    "ExecuteTime": {
     "end_time": "2023-11-25T04:52:32.959990Z",
     "start_time": "2023-11-25T04:52:32.954015Z"
    }
   },
   "outputs": [],
   "source": [
    "icecream 딕셔너리에 누가바 키가 없음"
   ]
  },
  {
   "cell_type": "markdown",
   "id": "3b278ba4",
   "metadata": {},
   "source": [
    "091 딕셔너리 생성\n",
    "아래의 표에서, 아이스크림 이름을 키값으로, (가격, 재고) 리스트를 딕셔너리의 값으로 저장하라. 딕셔너리의 이름은 inventory로 한다.\n",
    "\n",
    "이름\t가격\t재고\n",
    "메로나\t300\t20\n",
    "비비빅\t400\t3\n",
    "죠스바\t250\t100"
   ]
  },
  {
   "cell_type": "code",
   "execution_count": 49,
   "id": "94ac7d05",
   "metadata": {
    "ExecuteTime": {
     "end_time": "2023-11-27T11:22:51.196398Z",
     "start_time": "2023-11-27T11:22:51.188880Z"
    }
   },
   "outputs": [
    {
     "data": {
      "text/plain": [
       "{'메로나': [300, 20], '비비빅': [400, 3], '죠스바': [250, 100]}"
      ]
     },
     "execution_count": 49,
     "metadata": {},
     "output_type": "execute_result"
    }
   ],
   "source": [
    "inventory = {'메로나' : [300, 20], '비비빅' : [400, 3], '죠스바' : [250, 100]}\n",
    "inventory"
   ]
  },
  {
   "cell_type": "markdown",
   "id": "f32b75ca",
   "metadata": {},
   "source": [
    "092 딕셔너리 인덱싱\n",
    "inventory 딕셔너리에서 메로나의 가격을 화면에 출력하라.\n",
    "\n",
    "inventory = {\"메로나\": [300, 20],\n",
    "              \"비비빅\": [400, 3],\n",
    "              \"죠스바\": [250, 100]}\n",
    "실행 예시:\n",
    "300 원"
   ]
  },
  {
   "cell_type": "code",
   "execution_count": 57,
   "id": "9c3a5ded",
   "metadata": {
    "ExecuteTime": {
     "end_time": "2023-11-27T11:25:35.352196Z",
     "start_time": "2023-11-27T11:25:35.347148Z"
    }
   },
   "outputs": [
    {
     "name": "stdout",
     "output_type": "stream",
     "text": [
      "300 원\n"
     ]
    }
   ],
   "source": [
    "inventory = {\"메로나\": [300, 20],\n",
    "              \"비비빅\": [400, 3],\n",
    "              \"죠스바\": [250, 100]}\n",
    "\n",
    "print(inventory[\"메로나\"][0], '원')"
   ]
  },
  {
   "cell_type": "markdown",
   "id": "c786aa7b",
   "metadata": {},
   "source": [
    "093 딕셔너리 인덱싱\n",
    "inventory 딕셔너리에서 메로나의 재고를 화면에 출력하라.\n",
    "\n",
    "inventory = {\"메로나\": [300, 20],\n",
    "              \"비비빅\": [400, 3],\n",
    "              \"죠스바\": [250, 100]}\n",
    "실행 예시:\n",
    "20 개"
   ]
  },
  {
   "cell_type": "code",
   "execution_count": 63,
   "id": "e9e74856",
   "metadata": {
    "ExecuteTime": {
     "end_time": "2023-11-27T11:27:00.418090Z",
     "start_time": "2023-11-27T11:27:00.412254Z"
    }
   },
   "outputs": [
    {
     "name": "stdout",
     "output_type": "stream",
     "text": [
      "300 개\n"
     ]
    }
   ],
   "source": [
    "inventory = {\"메로나\": [300, 20],\n",
    "              \"비비빅\": [400, 3],\n",
    "              \"죠스바\": [250, 100]}\n",
    "\n",
    "print(inventory[\"메로나\"][0], \"개\")"
   ]
  },
  {
   "cell_type": "markdown",
   "id": "6506c5d5",
   "metadata": {},
   "source": [
    "094 딕셔너리 추가\n",
    "inventory 딕셔너리에 아래 데이터를 추가하라.\n",
    "\n",
    "inventory = {\"메로나\": [300, 20],\n",
    "              \"비비빅\": [400, 3],\n",
    "              \"죠스바\": [250, 100]}\n",
    "이름\t가격\t재고\n",
    "월드콘\t500\t7\n",
    "실행 예시:\n",
    ">> print(inventory)\n",
    "{'메로나': [300, 20], '비비빅': [400, 3], '죠스바': [250, 100], '월드콘': [500, 7]}"
   ]
  },
  {
   "cell_type": "code",
   "execution_count": 68,
   "id": "329dce9f",
   "metadata": {
    "ExecuteTime": {
     "end_time": "2023-11-27T11:28:10.820875Z",
     "start_time": "2023-11-27T11:28:10.813365Z"
    }
   },
   "outputs": [
    {
     "data": {
      "text/plain": [
       "{'메로나': [300, 20], '비비빅': [400, 3], '죠스바': [250, 100], '월드콘': [500, 7]}"
      ]
     },
     "execution_count": 68,
     "metadata": {},
     "output_type": "execute_result"
    }
   ],
   "source": [
    "inventory = {\"메로나\": [300, 20],\n",
    "              \"비비빅\": [400, 3],\n",
    "              \"죠스바\": [250, 100]}\n",
    "inventory[\"월드콘\"] = [500, 7]\n",
    "inventory"
   ]
  },
  {
   "cell_type": "markdown",
   "id": "a16a0193",
   "metadata": {},
   "source": [
    "095 딕셔너리 keys() 메서드\n",
    "다음의 딕셔너리로부터 key 값으로만 구성된 리스트를 생성하라.\n",
    "\n",
    "icecream = {'탱크보이': 1200, '폴라포': 1200, '빵빠레': 1800, '월드콘': 1500, '메로나': 1000}"
   ]
  },
  {
   "cell_type": "code",
   "execution_count": 73,
   "id": "7e623c8f",
   "metadata": {
    "ExecuteTime": {
     "end_time": "2023-11-27T11:30:10.193988Z",
     "start_time": "2023-11-27T11:30:10.186632Z"
    }
   },
   "outputs": [
    {
     "data": {
      "text/plain": [
       "['탱크보이', '폴라포', '빵빠레', '월드콘', '메로나']"
      ]
     },
     "execution_count": 73,
     "metadata": {},
     "output_type": "execute_result"
    }
   ],
   "source": [
    "icecream = {'탱크보이': 1200, '폴라포': 1200, '빵빠레': 1800, '월드콘': 1500, '메로나': 1000}\n",
    "\n",
    "list(icecream.keys())"
   ]
  },
  {
   "cell_type": "markdown",
   "id": "04536906",
   "metadata": {},
   "source": [
    "097 딕셔너리 values() 메서드\n",
    "icecream 딕셔너리에서 아이스크림 판매 금액의 총합을 출력하라.\n",
    "\n",
    "icecream = {'탱크보이': 1200, '폴라포': 1200, '빵빠레': 1800, '월드콘': 1500, '메로나': 1000}\n",
    "출력 예시:\n",
    "6700"
   ]
  },
  {
   "cell_type": "code",
   "execution_count": 72,
   "id": "9195a16c",
   "metadata": {
    "ExecuteTime": {
     "end_time": "2023-11-27T11:29:54.657706Z",
     "start_time": "2023-11-27T11:29:54.651527Z"
    }
   },
   "outputs": [
    {
     "data": {
      "text/plain": [
       "6700"
      ]
     },
     "execution_count": 72,
     "metadata": {},
     "output_type": "execute_result"
    }
   ],
   "source": [
    "sum(icecream.values())"
   ]
  },
  {
   "cell_type": "markdown",
   "id": "7e8f9f85",
   "metadata": {},
   "source": [
    "098 딕셔너리 update 메서드\n",
    "아래의 new_product 딕셔너리를 다음 icecream 딕셔너리에 추가하라.\n",
    "\n",
    "icecream = {'탱크보이': 1200, '폴라포': 1200, '빵빠레': 1800, '월드콘': 1500, '메로나': 1000}\n",
    "new_product = {'팥빙수':2700, '아맛나':1000}\n",
    "실행 예시:\n",
    ">> print(icecream)\n",
    "{'탱크보이': 1200,  '폴라포': 1200,  '빵빠레': 1800,  '월드콘': 1500,  '메로나': 1000,  '팥빙수':2700, '아맛나':1000}"
   ]
  },
  {
   "cell_type": "code",
   "execution_count": null,
   "id": "3d6c707c",
   "metadata": {
    "ExecuteTime": {
     "end_time": "2023-11-25T05:03:52.040094Z",
     "start_time": "2023-11-25T05:03:52.034093Z"
    }
   },
   "outputs": [],
   "source": [
    "icecream = {'탱크보이': 1200, '폴라포': 1200, '빵빠레': 1800, '월드콘': 1500, '메로나': 1000}\n",
    "new_product = {'팥빙수':2700, '아맛나':1000}\n",
    "    \n",
    "    "
   ]
  },
  {
   "cell_type": "markdown",
   "id": "ed5dfe0f",
   "metadata": {},
   "source": [
    "099 zip과 dict\n",
    "아래 두 개의 튜플을 하나의 딕셔너리로 변환하라. keys를 키로, vals를 값으로 result 이름의 딕셔너리로 저장한다.\n",
    "\n",
    "keys = (\"apple\", \"pear\", \"peach\")\n",
    "vals = (300, 250, 400)\n",
    "실행 예시:\n",
    ">> print(result)\n",
    "{'apple': 300, 'pear': 250, 'peach': 400}"
   ]
  },
  {
   "cell_type": "code",
   "execution_count": 83,
   "id": "501a6e67",
   "metadata": {
    "ExecuteTime": {
     "end_time": "2023-11-27T11:36:21.642947Z",
     "start_time": "2023-11-27T11:36:21.635046Z"
    }
   },
   "outputs": [
    {
     "data": {
      "text/plain": [
       "{'apple': 300, 'pear': 250, 'peach': 400}"
      ]
     },
     "execution_count": 83,
     "metadata": {},
     "output_type": "execute_result"
    }
   ],
   "source": [
    "keys = (\"apple\", \"pear\", \"peach\")\n",
    "vals = (300, 250, 400)\n",
    "\n",
    "result = dict(zip(keys, vals))\n",
    "result"
   ]
  },
  {
   "cell_type": "markdown",
   "id": "00e14c85",
   "metadata": {},
   "source": [
    "100 zip과 dict\n",
    "date와 close_price 두 개의 리스트를 close_table 이름의 딕셔너리로 생성하라.\n",
    "\n",
    "date = ['09/05', '09/06', '09/07', '09/08', '09/09']\n",
    "close_price = [10500, 10300, 10100, 10800, 11000]\n",
    "실행 예시:\n",
    ">> print(close_table)\n",
    "{'09/05': 10500, '09/06': 10300, '09/07': 10100, '09/08': 10800, '09/09': 11000}"
   ]
  },
  {
   "cell_type": "code",
   "execution_count": 85,
   "id": "0fdbfd54",
   "metadata": {
    "ExecuteTime": {
     "end_time": "2023-11-27T11:37:56.504835Z",
     "start_time": "2023-11-27T11:37:56.497798Z"
    }
   },
   "outputs": [
    {
     "data": {
      "text/plain": [
       "{'09/05': 10500,\n",
       " '09/06': 10300,\n",
       " '09/07': 10100,\n",
       " '09/08': 10800,\n",
       " '09/09': 11000}"
      ]
     },
     "execution_count": 85,
     "metadata": {},
     "output_type": "execute_result"
    }
   ],
   "source": [
    "date = ['09/05', '09/06', '09/07', '09/08', '09/09']\n",
    "close_price = [10500, 10300, 10100, 10800, 11000]\n",
    "close_table = dict(zip(date, close_price))\n",
    "close_table"
   ]
  },
  {
   "cell_type": "markdown",
   "id": "19748988",
   "metadata": {},
   "source": [
    "101\n",
    "파이썬에서 True 혹은 False를 갖는 데이터 타입은 무엇인가?"
   ]
  },
  {
   "cell_type": "code",
   "execution_count": null,
   "id": "8a0ff9a8",
   "metadata": {
    "ExecuteTime": {
     "end_time": "2023-11-25T05:07:16.714575Z",
     "start_time": "2023-11-25T05:07:16.705983Z"
    }
   },
   "outputs": [],
   "source": [
    "bool 타입"
   ]
  },
  {
   "cell_type": "markdown",
   "id": "036e593f",
   "metadata": {},
   "source": [
    "102\n",
    "아래 코드의 출력 결과를 예상하라\n",
    "\n",
    "print(3 == 5)"
   ]
  },
  {
   "cell_type": "code",
   "execution_count": null,
   "id": "c727c6b6",
   "metadata": {
    "ExecuteTime": {
     "end_time": "2023-11-25T05:08:53.897617Z",
     "start_time": "2023-11-25T05:08:53.891498Z"
    }
   },
   "outputs": [],
   "source": [
    "False"
   ]
  },
  {
   "cell_type": "markdown",
   "id": "b8ce7a60",
   "metadata": {},
   "source": [
    "103\n",
    "아래 코드의 출력 결과를 예상하라\n",
    "\n",
    "print(3 < 5)"
   ]
  },
  {
   "cell_type": "code",
   "execution_count": null,
   "id": "3e6bd22d",
   "metadata": {
    "ExecuteTime": {
     "end_time": "2023-11-25T05:10:23.952140Z",
     "start_time": "2023-11-25T05:10:23.945079Z"
    }
   },
   "outputs": [],
   "source": [
    "True"
   ]
  },
  {
   "cell_type": "markdown",
   "id": "55b05928",
   "metadata": {},
   "source": [
    "104\n",
    "아래 코드의 결과를 예상하라.\n",
    "\n",
    "x = 4\n",
    "print(1 < x < 5)"
   ]
  },
  {
   "cell_type": "code",
   "execution_count": null,
   "id": "982d97e0",
   "metadata": {
    "ExecuteTime": {
     "end_time": "2023-11-25T05:10:17.788097Z",
     "start_time": "2023-11-25T05:10:17.781900Z"
    }
   },
   "outputs": [],
   "source": [
    "True"
   ]
  },
  {
   "cell_type": "markdown",
   "id": "c09c3801",
   "metadata": {},
   "source": [
    "105\n",
    "아래 코드의 결과를 예상하라.\n",
    "\n",
    "print ((3 == 3) and (4 != 3))"
   ]
  },
  {
   "cell_type": "code",
   "execution_count": null,
   "id": "fc8792a7",
   "metadata": {
    "ExecuteTime": {
     "end_time": "2023-11-25T05:11:14.501204Z",
     "start_time": "2023-11-25T05:11:14.496140Z"
    }
   },
   "outputs": [],
   "source": [
    "# true and true\n",
    "\n",
    "True"
   ]
  },
  {
   "cell_type": "markdown",
   "id": "4207331e",
   "metadata": {},
   "source": [
    "106\n",
    "아래 코드에서 에러가 발생하는 원인에 대해 설명하라.\n",
    "\n",
    "print(3 => 4)"
   ]
  },
  {
   "cell_type": "code",
   "execution_count": null,
   "id": "dfc89dea",
   "metadata": {
    "ExecuteTime": {
     "end_time": "2023-11-25T05:14:39.705442Z",
     "start_time": "2023-11-25T05:14:39.697572Z"
    }
   },
   "outputs": [],
   "source": [
    "부등호 순서가 잘못됨"
   ]
  },
  {
   "cell_type": "markdown",
   "id": "9727e68c",
   "metadata": {},
   "source": [
    "107\n",
    "아래 코드의 출력 결과를 예상하라\n",
    "\n",
    "if 4 < 3:\n",
    "    print(\"Hello World\")"
   ]
  },
  {
   "cell_type": "code",
   "execution_count": null,
   "id": "42467711",
   "metadata": {
    "ExecuteTime": {
     "end_time": "2023-11-25T04:09:56.717844Z",
     "start_time": "2023-11-25T04:09:56.711613Z"
    }
   },
   "outputs": [],
   "source": [
    "조건문이 false 여서 출력이 안됨"
   ]
  },
  {
   "cell_type": "markdown",
   "id": "209eda95",
   "metadata": {},
   "source": [
    "108\n",
    "아래 코드의 출력 결과를 예상하라\n",
    "\n",
    "if 4 < 3:\n",
    "    print(\"Hello World.\")\n",
    "else:\n",
    "    print(\"Hi, there.\")"
   ]
  },
  {
   "cell_type": "code",
   "execution_count": null,
   "id": "5dbb4a65",
   "metadata": {
    "ExecuteTime": {
     "end_time": "2023-11-25T04:11:14.658713Z",
     "start_time": "2023-11-25T04:11:14.649873Z"
    }
   },
   "outputs": [],
   "source": [
    "조건문이 false여서 Hi, there 가 출력됨"
   ]
  },
  {
   "cell_type": "markdown",
   "id": "4e46373e",
   "metadata": {},
   "source": [
    "109\n",
    "아래 코드의 출력 결과를 예상하라\n",
    "\n",
    "if True :\n",
    "    print (\"1\")\n",
    "    print (\"2\")\n",
    "else :\n",
    "    print(\"3\")\n",
    "print(\"4\")"
   ]
  },
  {
   "cell_type": "code",
   "execution_count": null,
   "id": "1bde730c",
   "metadata": {
    "ExecuteTime": {
     "end_time": "2023-11-25T04:14:18.741297Z",
     "start_time": "2023-11-25T04:14:18.732273Z"
    }
   },
   "outputs": [],
   "source": [
    "조건문이 true 이고 조건문 밖에 print('4')가 있기 때문에\n",
    "\n",
    "1\n",
    "2\n",
    "4\n",
    "\n",
    "가 출력 됨"
   ]
  },
  {
   "cell_type": "markdown",
   "id": "8b5e7e7a",
   "metadata": {},
   "source": [
    "110\n",
    "아래 코드의 출력 결과를 예상하라\n",
    "\n",
    "if True :\n",
    "    if False:\n",
    "        print(\"1\")\n",
    "        print(\"2\")\n",
    "    else:\n",
    "        print(\"3\")\n",
    "else :\n",
    "    print(\"4\")\n",
    "print(\"5\")"
   ]
  },
  {
   "cell_type": "code",
   "execution_count": 1,
   "id": "79ae0089",
   "metadata": {
    "ExecuteTime": {
     "end_time": "2023-11-28T07:47:52.957507Z",
     "start_time": "2023-11-28T07:47:52.948332Z"
    }
   },
   "outputs": [
    {
     "data": {
      "text/plain": [
       "5"
      ]
     },
     "execution_count": 1,
     "metadata": {},
     "output_type": "execute_result"
    }
   ],
   "source": [
    "# 외부 if 문에서 True 이고 내부 if문에서 조건이 false 이기 때문에\n",
    "# else로 넘어가서 '3'이 프린트 되고 외부 if문을 벗어나서 '5'가 추가로 출력됨\n",
    "\n",
    "3\n",
    "5"
   ]
  },
  {
   "cell_type": "markdown",
   "id": "b247499d",
   "metadata": {},
   "source": [
    "111\n",
    "사용자로부터 입력받은 문자열을 두 번 출력하라. 아래는 사용자가 \"안녕하세요\"를 입력한 경우의 출력 결과이다.\n",
    "\n",
    ">> 안녕하세요\n",
    "안녕하세요안녕하세요"
   ]
  },
  {
   "cell_type": "code",
   "execution_count": 3,
   "id": "213c8f11",
   "metadata": {
    "ExecuteTime": {
     "end_time": "2023-11-28T07:50:43.036693Z",
     "start_time": "2023-11-28T07:50:40.119340Z"
    }
   },
   "outputs": [
    {
     "name": "stdout",
     "output_type": "stream",
     "text": [
      "안녕하세요\n",
      "안녕하세요안녕하세요\n"
     ]
    }
   ],
   "source": [
    "txt = input()\n",
    "print(txt * 2)"
   ]
  },
  {
   "cell_type": "markdown",
   "id": "307a4e79",
   "metadata": {},
   "source": [
    "112\n",
    "사용자로부터 하나의 숫자를 입력받고, 입력 받은 숫자에 10을 더해 출력하라.\n",
    "\n",
    ">> 숫자를 입력하세요: 30\n",
    "40"
   ]
  },
  {
   "cell_type": "code",
   "execution_count": 3,
   "id": "c266ab0d",
   "metadata": {
    "ExecuteTime": {
     "end_time": "2023-11-28T12:10:34.637337Z",
     "start_time": "2023-11-28T12:10:33.301115Z"
    }
   },
   "outputs": [
    {
     "name": "stdout",
     "output_type": "stream",
     "text": [
      "30\n",
      "40\n"
     ]
    }
   ],
   "source": [
    "num = input()\n",
    "result = int(num) + 10\n",
    "print(result)"
   ]
  },
  {
   "cell_type": "markdown",
   "id": "85ebf23b",
   "metadata": {},
   "source": [
    "113\n",
    "사용자로부터 하나의 숫자를 입력 받고 짝수/홀수를 판별하라.\n",
    "\n",
    ">> 30\n",
    "짝수"
   ]
  },
  {
   "cell_type": "code",
   "execution_count": 10,
   "id": "0195a550",
   "metadata": {
    "ExecuteTime": {
     "end_time": "2023-11-28T12:13:41.059417Z",
     "start_time": "2023-11-28T12:13:40.128637Z"
    }
   },
   "outputs": [
    {
     "name": "stdout",
     "output_type": "stream",
     "text": [
      "2\n",
      "짝수\n"
     ]
    }
   ],
   "source": [
    "num = input()\n",
    "if int(num) % 2 == 0 :\n",
    "    print('짝수')\n",
    "else :\n",
    "    print('홀수')"
   ]
  },
  {
   "cell_type": "markdown",
   "id": "5c0e800a",
   "metadata": {},
   "source": [
    "114\n",
    "사용자로부터 값을 입력받은 후 해당 값에 20을 더한 값을 출력하라. 단 사용자가 입력한 값과 20을 더한 계산 값이 255를 초과하는 경우 255를 출력해야 한다.\n",
    "\n",
    ">> 입력값: 200\n",
    "출력값: 220\n",
    ">> 입력값: 240\n",
    "출력값: 255"
   ]
  },
  {
   "cell_type": "code",
   "execution_count": 21,
   "id": "b7958d98",
   "metadata": {
    "ExecuteTime": {
     "end_time": "2023-11-28T12:17:25.935811Z",
     "start_time": "2023-11-28T12:17:24.104062Z"
    }
   },
   "outputs": [
    {
     "name": "stdout",
     "output_type": "stream",
     "text": [
      "245\n",
      "255\n"
     ]
    }
   ],
   "source": [
    "num = input()\n",
    "num = int(num) + 20\n",
    "if num > 255 :\n",
    "    print(255)\n",
    "else :\n",
    "    print(num)\n"
   ]
  },
  {
   "cell_type": "markdown",
   "id": "90bb2df7",
   "metadata": {},
   "source": [
    "115\n",
    "사용자로부터 하나의 값을 입력받은 후 해당 값에 20을 뺀 값을 출력하라. 단 출력 값의 범위는 0~255이다. 예를 들어 결괏값이 0보다 작은 값이되는 경우 0을 출력하고 255보다 큰 값이 되는 경우 255를 출력해야 한다.\n",
    "\n",
    ">> 입력값: 200\n",
    "출력값: 180\n",
    ">> 입력값: 15\n",
    "출력값: 0"
   ]
  },
  {
   "cell_type": "code",
   "execution_count": 39,
   "id": "2773d35c",
   "metadata": {
    "ExecuteTime": {
     "end_time": "2023-11-28T12:24:56.174256Z",
     "start_time": "2023-11-28T12:24:54.486193Z"
    },
    "scrolled": true
   },
   "outputs": [
    {
     "name": "stdout",
     "output_type": "stream",
     "text": [
      "19\n",
      "0\n"
     ]
    }
   ],
   "source": [
    "num = input()\n",
    "num = int(num) - 20\n",
    "if num < 0 :\n",
    "    print(0)\n",
    "elif num > 255 :\n",
    "    print(255)\n",
    "else :\n",
    "    print(int(num))"
   ]
  },
  {
   "cell_type": "code",
   "execution_count": 41,
   "id": "4a1cfa0a",
   "metadata": {
    "ExecuteTime": {
     "end_time": "2023-11-28T12:25:53.653846Z",
     "start_time": "2023-11-28T12:25:51.666388Z"
    }
   },
   "outputs": [
    {
     "name": "stdout",
     "output_type": "stream",
     "text": [
      "286\n",
      "255\n"
     ]
    }
   ],
   "source": [
    "num = input()\n",
    "num = int(num) - 20\n",
    "if num < 0 :\n",
    "    print(0)\n",
    "elif num > 255 :\n",
    "    print(255)\n",
    "else :\n",
    "    print(int(num))"
   ]
  },
  {
   "cell_type": "code",
   "execution_count": 42,
   "id": "ab8b7848",
   "metadata": {
    "ExecuteTime": {
     "end_time": "2023-11-28T12:25:53.653846Z",
     "start_time": "2023-11-28T12:25:51.666388Z"
    },
    "scrolled": true
   },
   "outputs": [
    {
     "name": "stdout",
     "output_type": "stream",
     "text": [
      "12\n",
      "0\n"
     ]
    }
   ],
   "source": [
    "num = input()\n",
    "num = int(num) - 20\n",
    "if num < 0 :\n",
    "    print(0)\n",
    "elif num > 255 :\n",
    "    print(255)\n",
    "else :\n",
    "    print(int(num))"
   ]
  },
  {
   "cell_type": "markdown",
   "id": "79cfc811",
   "metadata": {},
   "source": [
    "116\n",
    "사용자로부터 입력 받은 시간이 정각인지 판별하라.\n",
    "\n",
    ">> 현재시간:02:00\n",
    "정각 입니다.\n",
    ">> 현재시간:03:10\n",
    "정각이 아닙니다"
   ]
  },
  {
   "cell_type": "code",
   "execution_count": 60,
   "id": "c4a6a3ca",
   "metadata": {
    "ExecuteTime": {
     "end_time": "2023-11-28T12:35:42.098171Z",
     "start_time": "2023-11-28T12:35:39.566154Z"
    }
   },
   "outputs": [
    {
     "name": "stdout",
     "output_type": "stream",
     "text": [
      "시간을 입력해주세요\n",
      "23\n",
      "분을 입력해주세요\n",
      "0\n",
      "정각 입니다.\n"
     ]
    }
   ],
   "source": [
    "print('시간을 입력해주세요')\n",
    "hour = input()\n",
    "print('분을 입력해주세요')\n",
    "minute = int(input())\n",
    "if minute > 0 :\n",
    "    print('정각이 아닙니다.')\n",
    "else : \n",
    "    print('정각 입니다.')"
   ]
  },
  {
   "cell_type": "code",
   "execution_count": 87,
   "id": "c5490547",
   "metadata": {
    "ExecuteTime": {
     "end_time": "2023-11-28T12:46:32.498814Z",
     "start_time": "2023-11-28T12:46:30.954003Z"
    }
   },
   "outputs": [
    {
     "name": "stdout",
     "output_type": "stream",
     "text": [
      "시간을 형식에 맞춰 입력해주세요(hh:mm)\n",
      "23:00\n",
      "정각 입니다.\n"
     ]
    }
   ],
   "source": [
    "print('시간을 형식에 맞춰 입력해주세요(hh:mm)')\n",
    "time = input()\n",
    "if int(time[-2:]) > 0 :\n",
    "    print('정각이 아닙니다.')\n",
    "else :\n",
    "    print('정각 입니다.')"
   ]
  },
  {
   "cell_type": "code",
   "execution_count": 88,
   "id": "925b3df4",
   "metadata": {
    "ExecuteTime": {
     "end_time": "2023-11-28T12:47:30.304827Z",
     "start_time": "2023-11-28T12:47:29.012816Z"
    }
   },
   "outputs": [
    {
     "name": "stdout",
     "output_type": "stream",
     "text": [
      "33\n"
     ]
    },
    {
     "data": {
      "text/plain": [
       "str"
      ]
     },
     "execution_count": 88,
     "metadata": {},
     "output_type": "execute_result"
    }
   ],
   "source": [
    "time = input()\n",
    "type(time) # 숫자 입력 했을때"
   ]
  },
  {
   "cell_type": "markdown",
   "id": "32d99db7",
   "metadata": {},
   "source": [
    "117\n",
    "사용자로 입력받은 단어가 아래 fruit 리스트에 포함되어 있는지를 확인하라. 포함되었다면 \"정답입니다\"를 아닐 경우 \"오답입니다\" 출력하라.\n",
    "\n",
    "fruit = [\"사과\", \"포도\", \"홍시\"]\n",
    ">> 좋아하는 과일은? 사과\n",
    "정답입니다."
   ]
  },
  {
   "cell_type": "code",
   "execution_count": 93,
   "id": "89c588ab",
   "metadata": {
    "ExecuteTime": {
     "end_time": "2023-11-28T12:50:45.354340Z",
     "start_time": "2023-11-28T12:50:42.792947Z"
    }
   },
   "outputs": [
    {
     "name": "stdout",
     "output_type": "stream",
     "text": [
      "좋아하는 과일은?\n",
      "바나나\n",
      "오답입니다.\n"
     ]
    }
   ],
   "source": [
    "fruit = [\"사과\", \"포도\", \"홍시\"]\n",
    "print('좋아하는 과일은?')\n",
    "fav = input()\n",
    "if fav in fruit :\n",
    "    print('정답입니다.')\n",
    "else :\n",
    "    print('오답입니다.')"
   ]
  },
  {
   "cell_type": "markdown",
   "id": "62456493",
   "metadata": {},
   "source": [
    "119\n",
    "아래와 같이 fruit 딕셔너리가 정의되어 있다. 사용자가 입력한 값이 딕셔너리 키 (key) 값에 포함되었다면 \"정답입니다\"를 아닐 경우 \"오답입니다\" 출력하라.\n",
    "\n",
    "fruit = {\"봄\" : \"딸기\", \"여름\" : \"토마토\", \"가을\" : \"사과\"}\n",
    ">> 제가좋아하는계절은: 봄\n",
    "정답입니다."
   ]
  },
  {
   "cell_type": "code",
   "execution_count": 104,
   "id": "b74c6509",
   "metadata": {
    "ExecuteTime": {
     "end_time": "2023-11-28T12:56:00.947668Z",
     "start_time": "2023-11-28T12:55:59.118559Z"
    }
   },
   "outputs": [
    {
     "name": "stdout",
     "output_type": "stream",
     "text": [
      "제가좋아하는계절은:\n",
      "겨울\n",
      "오답입니다.\n"
     ]
    }
   ],
   "source": [
    "fruit = {\"봄\" : \"딸기\", \"여름\" : \"토마토\", \"가을\" : \"사과\"}\n",
    "\n",
    "print('제가좋아하는계절은:')\n",
    "fav = input()\n",
    "if fav in fruit.keys() :\n",
    "    print('정답입니다.')\n",
    "else :\n",
    "    print('오답입니다.')"
   ]
  },
  {
   "cell_type": "markdown",
   "id": "73259109",
   "metadata": {},
   "source": [
    "120\n",
    "아래와 같이 fruit 딕셔너리가 정의되어 있다. 사용자가 입력한 값이 딕셔너리 값 (value)에 포함되었다면 \"정답입니다\"를 아닐 경우 \"오답입니다\" 출력하라.\n",
    "\n",
    "fruit = {\"봄\" : \"딸기\", \"여름\" : \"토마토\", \"가을\" : \"사과\"}\n",
    ">> 좋아하는과일은? 한라봉\n",
    "오답입니다."
   ]
  },
  {
   "cell_type": "code",
   "execution_count": 107,
   "id": "b83ac397",
   "metadata": {
    "ExecuteTime": {
     "end_time": "2023-11-28T12:57:12.301480Z",
     "start_time": "2023-11-28T12:57:11.368283Z"
    }
   },
   "outputs": [
    {
     "name": "stdout",
     "output_type": "stream",
     "text": [
      "제가좋아하는과일은:\n",
      "사과\n",
      "정답입니다.\n"
     ]
    }
   ],
   "source": [
    "fruit = {\"봄\" : \"딸기\", \"여름\" : \"토마토\", \"가을\" : \"사과\"}\n",
    "\n",
    "print('제가좋아하는과일은:')\n",
    "fav = input()\n",
    "if fav in fruit.values() :\n",
    "    print('정답입니다.')\n",
    "else :\n",
    "    print('오답입니다.')"
   ]
  },
  {
   "cell_type": "markdown",
   "id": "dce07f37",
   "metadata": {},
   "source": [
    "121\n",
    "사용자로부터 문자 한 개를 입력 받고, 소문자일 경우 대문자로, 대문자 일 경우, 소문자로 변경해서 출력하라.\n",
    "\n",
    ">> a\n",
    "A\n",
    "힌트-1 : islower() 함수는 문자의 소문자 여부를 판별합니다. 만약 소문자일 경우 True, 대문자일 경우 False를 반환합니다. 힌트-2 : upper() 함수는 대문자로, lower() 함수는 소문자로 변경합니다."
   ]
  },
  {
   "cell_type": "code",
   "execution_count": 111,
   "id": "3d214abc",
   "metadata": {
    "ExecuteTime": {
     "end_time": "2023-11-28T13:24:54.715063Z",
     "start_time": "2023-11-28T13:24:50.075133Z"
    }
   },
   "outputs": [
    {
     "name": "stdout",
     "output_type": "stream",
     "text": [
      "대, 소문자 중 아무거나 문자열 1개를 입력해주세요. \n",
      "입력하신 값이 소문자일 경우 대문자로, 대문자일 경우, \n",
      "소문자로 변경해서 출력해드립니다.\n",
      "B\n",
      "b\n"
     ]
    }
   ],
   "source": [
    "print('대, 소문자 중 아무거나 문자열 1개를 입력해주세요. \\n입력하신 값이 소문자일 경우 대문자로, 대문자일 경우, \\n소문자로 변경해서 출력해드립니다.')\n",
    "str = input()\n",
    "if str.islower() :\n",
    "    print(str.upper())\n",
    "else :\n",
    "    print(str.lower())"
   ]
  },
  {
   "cell_type": "markdown",
   "id": "88e46c71",
   "metadata": {},
   "source": [
    "122\n",
    "점수 구간에 해당하는 학점이 아래와 같이 정의되어 있다. 사용자로부터 score를 입력받아 학점을 출력하라.\n",
    "\n",
    "점수\t학점\n",
    "81~100\tA\n",
    "61~80\tB\n",
    "41~60\tC\n",
    "21~40\tD\n",
    "0~20\tE\n",
    ">> score: 83\n",
    "grade is A"
   ]
  },
  {
   "cell_type": "code",
   "execution_count": 117,
   "id": "ff43889e",
   "metadata": {
    "ExecuteTime": {
     "end_time": "2023-11-28T13:32:41.034459Z",
     "start_time": "2023-11-28T13:32:39.843502Z"
    }
   },
   "outputs": [
    {
     "name": "stdout",
     "output_type": "stream",
     "text": [
      "점수를 입력해주세요\n",
      "43\n",
      "grade is C\n"
     ]
    }
   ],
   "source": [
    "print('점수를 입력해주세요')\n",
    "score = int(input())\n",
    "if score > 80 :\n",
    "    print('grade is A')\n",
    "elif score > 60 :\n",
    "    print('grade is B')\n",
    "elif score > 40 :\n",
    "    print('grade is C')\n",
    "elif score > 20 :\n",
    "    print('grade is D')\n",
    "else :\n",
    "    print('grade is E')"
   ]
  },
  {
   "cell_type": "markdown",
   "id": "1597391a",
   "metadata": {},
   "source": [
    "123\n",
    "사용자로부터 달러, 엔, 유로, 또는 위안 금액을 입력받은 후 이를 원으로 변환하는 프로그램을 작성하라. 각 통화별 환율은 다음과 같다. 사용자는 100 달러, 1000 엔, 13 유로, 100 위안과 같이 금액과 통화명 사이에 공백을 넣어 입력한다고 가정한다.\n",
    "\n",
    "통화명\t환율\n",
    "달러\t1167\n",
    "엔\t1.096\n",
    "유로\t1268\n",
    "위안\t171"
   ]
  },
  {
   "cell_type": "code",
   "execution_count": 140,
   "id": "6af7446d",
   "metadata": {
    "ExecuteTime": {
     "end_time": "2023-11-28T13:46:40.710268Z",
     "start_time": "2023-11-28T13:46:37.350351Z"
    }
   },
   "outputs": [
    {
     "name": "stdout",
     "output_type": "stream",
     "text": [
      "환전할 종류를 입력해주세요 - 달러, 엔, 유로, 위안 중에 입력해주세요\n",
      "달러\n",
      "환전할 금액을 입력해주세요\n",
      "134\n",
      "156378 원으로 환전해드리겠습니다.\n"
     ]
    }
   ],
   "source": [
    "환율 = {'달러' : 1167, '엔' : 1.096, '유로' : 1268, '위안' : 171}\n",
    "print('환전할 종류를 입력해주세요 - 달러, 엔, 유로, 위안 중에 입력해주세요')\n",
    "a = input()\n",
    "print('환전할 금액을 입력해주세요')\n",
    "b = int(input())\n",
    "print(환율[a]*b, '원으로 환전해드리겠습니다.')"
   ]
  },
  {
   "cell_type": "markdown",
   "id": "6795edba",
   "metadata": {},
   "source": [
    "124\n",
    "사용자로부터 세 개의 숫자를 입력 받은 후 가장 큰 숫자를 출력하라.\n",
    "\n",
    ">> input number1: 10\n",
    ">> input number2: 9\n",
    ">> input number3: 20\n",
    "20"
   ]
  },
  {
   "cell_type": "code",
   "execution_count": 146,
   "id": "4960efa5",
   "metadata": {
    "ExecuteTime": {
     "end_time": "2023-11-28T13:51:27.562540Z",
     "start_time": "2023-11-28T13:51:27.557722Z"
    }
   },
   "outputs": [],
   "source": [
    "max?"
   ]
  },
  {
   "cell_type": "code",
   "execution_count": 152,
   "id": "361c5cd7",
   "metadata": {
    "ExecuteTime": {
     "end_time": "2023-11-28T13:53:48.477078Z",
     "start_time": "2023-11-28T13:53:47.669581Z"
    }
   },
   "outputs": [
    {
     "name": "stdout",
     "output_type": "stream",
     "text": [
      "첫번째 숫자를 입력해주세요\n",
      "4\n",
      "두번째 숫자를 입력해주세요\n",
      "3\n",
      "세번째 숫자를 입력해주세요\n",
      "2\n",
      "입력하신 값 중 가장 큰 값은 4 입니다.\n"
     ]
    }
   ],
   "source": [
    "print('첫번째 숫자를 입력해주세요')\n",
    "num1 = input()\n",
    "print('두번째 숫자를 입력해주세요')\n",
    "num2 = input()\n",
    "print('세번째 숫자를 입력해주세요')\n",
    "num3 = input()\n",
    "\n",
    "list1 = [num1, num2, num3]\n",
    "\n",
    "\n",
    "print('입력하신 값 중 가장 큰 값은', max(list1), '입니다.')\n",
    "\n",
    "#num1 = input(\"input number1: \")\n",
    "#num2 = input(\"input number2: \")\n",
    "#num3 = input(\"input number3: \")\n",
    "#num1 = int(num1)\n",
    "#num2 = int(num2)\n",
    "#num3 = int(num3)\n",
    "\n",
    "#if num1 >= num2 and num1 >= num3:\n",
    "#    print(num1)\n",
    "#elif num2 >= num1 and num2 >= num3:\n",
    "#    print(num2)\n",
    "#else:\n",
    "#    print(num3)\n",
    "#    ###"
   ]
  },
  {
   "cell_type": "markdown",
   "id": "a38e22f7",
   "metadata": {
    "ExecuteTime": {
     "end_time": "2023-11-28T13:44:19.287456Z",
     "start_time": "2023-11-28T13:44:19.279454Z"
    }
   },
   "source": [
    "125\n",
    "휴대폰 번호 앞자리에 따라 통신사는 아래와 같이 구분된다. 사용자로부터 휴대전화 번호를 입력 받고, 통신사를 출력하는 프로그램을 작성하라.\n",
    "\n",
    "번호\t통신사\n",
    "011\tSKT\n",
    "016\tKT\n",
    "019\tLGU\n",
    "010\t알수없음"
   ]
  },
  {
   "cell_type": "code",
   "execution_count": 165,
   "id": "72124a13",
   "metadata": {
    "ExecuteTime": {
     "end_time": "2023-11-28T14:15:58.557393Z",
     "start_time": "2023-11-28T14:15:54.643507Z"
    }
   },
   "outputs": [
    {
     "name": "stdout",
     "output_type": "stream",
     "text": [
      "010-2582-1613\n",
      "사용하시는 통신사를 알 수 없습니다.\n"
     ]
    }
   ],
   "source": [
    "'휴대폰 번호를 \"000-0000-0000\" 형식으로 입력해주세요'\n",
    "phone = input()\n",
    "list1 = phone.split('-')\n",
    "list1\n",
    "\n",
    "if list1[0] == '011' :\n",
    "    print('사용하시는 통신사는 SKT 입니다.')\n",
    "elif list[0] == '016' :\n",
    "    print('사용하시는 통신사는 KT 입니다.')\n",
    "elif list[0] == '019' :\n",
    "    print('사용하시는 통신사는 LGU 입니다.')\n",
    "else :\n",
    "    print('사용하시는 통신사를 알 수 없습니다.')"
   ]
  },
  {
   "cell_type": "markdown",
   "id": "92a46f28",
   "metadata": {},
   "source": [
    "126\n",
    "우편번호는 5자리로 구성되는데, 앞의 세자리는 구를 나타낸다. 예를들어, 강북구의 경우 010, 011, 012 세 자리로 시작한다.\n",
    "\n",
    "-\t0\t1\t2\t3\t4\t5\t6\t7\t8\t9\n",
    "01\t강북구\t강북구\t강북구\t도봉구\t도봉구\t도봉구\t노원구\t노원구\t노원구\t노원구\n",
    "사용자로 부터 5자리 우편번호를 입력받고 구를 판별하라\n",
    "\n",
    ">> 우편번호: 01400\n",
    "도봉구"
   ]
  },
  {
   "cell_type": "code",
   "execution_count": 174,
   "id": "5639b958",
   "metadata": {
    "ExecuteTime": {
     "end_time": "2023-11-28T14:21:46.353526Z",
     "start_time": "2023-11-28T14:21:44.542037Z"
    }
   },
   "outputs": [
    {
     "name": "stdout",
     "output_type": "stream",
     "text": [
      "우편번호 5자리를 입력해주세요\n",
      "01256\n",
      "강북구\n"
     ]
    }
   ],
   "source": [
    "print('우편번호 5자리를 입력해주세요')\n",
    "\n",
    "addr = int(input())\n",
    "if addr < 1300 :\n",
    "    print('강북구')\n",
    "elif addr < 1600 :\n",
    "    print('도봉구')\n",
    "else :\n",
    "    print('노원구')\n",
    "    \n",
    "    \n",
    "#우편번호 = input(\"우편번호: \")\n",
    "#우편번호 = 우편번호[:3]\n",
    "#if 우편번호 in [\"010\", \"011\", \"012\"]:\n",
    "#    print(\"강북구\")\n",
    "#elif 우편번호 in [\"014\", \"015\", \"016\"]:\n",
    "#    print(\"도봉구\")\n",
    "#else:\n",
    "#    print(\"노원구\")"
   ]
  },
  {
   "cell_type": "markdown",
   "id": "1a1531dc",
   "metadata": {},
   "source": [
    "127\n",
    "주민등록번호 뒷 자리 7자리 중 첫째 자리는 성별을 나타내는데, 1, 3은 남자 2, 4는 여자를 의미한다. 사용자로부터 13자리의 주민등록번호를 입력 받은 후 성별 (남자, 여자)를 출력하는 프로그램을 작성하라.\n",
    "\n",
    ">> 주민등록번호: 821010-1635210\n",
    "남자"
   ]
  },
  {
   "cell_type": "code",
   "execution_count": 183,
   "id": "130c537d",
   "metadata": {
    "ExecuteTime": {
     "end_time": "2023-11-28T14:27:15.376724Z",
     "start_time": "2023-11-28T14:27:04.950245Z"
    }
   },
   "outputs": [
    {
     "name": "stdout",
     "output_type": "stream",
     "text": [
      "주민등록번호를 000000-0000000 형태로 입력해주세요\n",
      "123456-2345678\n",
      "여자\n"
     ]
    }
   ],
   "source": [
    "print('주민등록번호를 000000-0000000 형태로 입력해주세요')\n",
    "a = input()\n",
    "if a[7] == '1' or a[7] == '3' :\n",
    "    print('남자')\n",
    "else :\n",
    "    print('여자')"
   ]
  },
  {
   "cell_type": "markdown",
   "id": "cf6afca9",
   "metadata": {},
   "source": [
    "128\n",
    "주민등록번호의 뒷 자리 7자리 중 두번째와 세번째는 지역코드를 의미한다. 주민 등록 번호를 입력 받은 후 출생지가 서울인지 아닌지 판단하는 코드를 작성하라\n",
    "\n",
    "지역코드\t출생지\n",
    "00 ~ 08\t서울\n",
    "09 ~ 12\t부산\n",
    ">> 주민등록번호: 821010-1635210\n",
    "서울이 아닙니다.\n",
    ">> 주민등록번호: 861010-1015210\n",
    "서울 입니다."
   ]
  },
  {
   "cell_type": "code",
   "execution_count": 192,
   "id": "7ad33368",
   "metadata": {
    "ExecuteTime": {
     "end_time": "2023-11-28T14:31:54.773424Z",
     "start_time": "2023-11-28T14:31:47.042438Z"
    }
   },
   "outputs": [
    {
     "name": "stdout",
     "output_type": "stream",
     "text": [
      "주민등록번호를 000000-0000000 형태로 입력해주세요\n",
      "123456-1234567\n",
      "서울이 아닙니다.\n"
     ]
    }
   ],
   "source": [
    "print('주민등록번호를 000000-0000000 형태로 입력해주세요')\n",
    "a = input()\n",
    "if int(a[8:10]) < 9 :\n",
    "    print('서울입니다.')\n",
    "else :\n",
    "    print('서울이 아닙니다.')"
   ]
  },
  {
   "cell_type": "markdown",
   "id": "89394557",
   "metadata": {},
   "source": [
    "129\n",
    "주민등록번호는 13자리로 구성되는데 마지막 자리수는 주민등록번호의 유효성을 체크하는데 사용된다. 먼저 앞에서부터 12자리의 숫자에 2, 3, 4, 5, 6, 7, 8, 9, 2, 3, 4, 5를 차례로 곱한 뒤 그 값을 전부 더한다. 연산 결과 값을 11로 나누면 나머지가 나오는데 11에서 나머지를 뺀 값이 주민등록번호의 마지막 번호가 된다.\n",
    "\n",
    "  8 2 1 0 1 0 - 1 6 3 5 2 1 0\n",
    "x 2 3 4 5 6 7   8 9 2 3 4 5 \n",
    "-----------------------------\n",
    "1차 계산: (8*2 + 2*3 + 1*4 + 0*5 + 1*6 + 0*7 + 1*8 + 6*9 + 3*2 + 5*3 + 2*4 + 1*5) = (128 % 11) = 7\n",
    "2차 계산: 11 -7 = 4\n",
    "위와 같이 821010-1635210에 대해서 계산을 해보면 마지막 자리는 4가 되어야 함을 알 수 있다. 즉, 821010-1635210은 유효하지 않은 주민등록번호임을 알 수 있다.\n",
    "\n",
    "다음과 같이 사용자로부터 주민등록번호를 입력받은 후 주민등록번호가 유효한지를 출력하는 프로그램을 작성하라.\n",
    "\n",
    ">> 주민등록번호: 821010-1635210\n",
    "유효하지 않은 주민등록번호입니다. "
   ]
  },
  {
   "cell_type": "code",
   "execution_count": 247,
   "id": "7f94c961",
   "metadata": {
    "ExecuteTime": {
     "end_time": "2023-11-28T14:52:59.631467Z",
     "start_time": "2023-11-28T14:52:56.129484Z"
    }
   },
   "outputs": [
    {
     "name": "stdout",
     "output_type": "stream",
     "text": [
      "주민등록번호를 000000-0000000 형태로 입력해주세요 : 123456-1234567\n",
      "유효하지 않은 주민등록번호 입니다.\n"
     ]
    }
   ],
   "source": [
    "a = input('주민등록번호를 000000-0000000 형태로 입력해주세요 : ')\n",
    "# b = [2, 3, 4, 5, 6, 7, 0, 8, 9, 2, 3, 4, 5]\n",
    "c = int(a[0]) * 2 + int(a[1]) * 3 + int(a[2]) * 4 + int(a[3]) * 5 + int(a[4]) * 6 + int(a[5]) * 7 + int(a[7]) * 8 + int(a[8]) * 9 + int(a[9]) * 2 + int(a[10]) * 3 + int(a[11]) * 4 + int(a[12]) * 5 \n",
    "d = c % 11\n",
    "e = 11 - d\n",
    "\n",
    "if a[:-1] == e :\n",
    "    print('유효한 주민등록번호 입니다.')\n",
    "else :\n",
    "    print('유효하지 않은 주민등록번호 입니다.')"
   ]
  },
  {
   "cell_type": "markdown",
   "id": "8715a5f0",
   "metadata": {},
   "source": [
    "130\n",
    "아래 코드는 비트코인의 가격 정보를 딕셔너리로 가져오는 코드이다.\n",
    "\n",
    "import requests\n",
    "btc = requests.get(\"https://api.bithumb.com/public/ticker/\").json()['data']\n",
    "btc 딕셔너리 안에는 시가, 종가, 최고가, 최저가 등이 저장되어 있다. 최고가와 최저가의 차이를 변동폭으로 정의할 때 (시가 + 변동폭)이 최고가 보다 높을 경우 \"상승장\", 그렇지 않은 경우 \"하락장\" 문자열을 출력하라.\n",
    "\n",
    "Key Name\tDescription\n",
    "opening_price\t최근 24시간 내 시작 거래금액\n",
    "closing_price\t최근 24시간 내 마지막 거래금액\n",
    "min_price\t최근 24시간 내 최저 거래금액\n",
    "max_price\t최근 24시간 내 최고 거래금액"
   ]
  },
  {
   "cell_type": "code",
   "execution_count": 248,
   "id": "fe166f9f",
   "metadata": {
    "ExecuteTime": {
     "end_time": "2023-11-28T14:53:36.183056Z",
     "start_time": "2023-11-28T14:53:35.196258Z"
    }
   },
   "outputs": [
    {
     "data": {
      "text/plain": [
       "{'opening_price': '49547000',\n",
       " 'closing_price': '50127000',\n",
       " 'min_price': '49500000',\n",
       " 'max_price': '50330000',\n",
       " 'units_traded': '3825.90937961',\n",
       " 'acc_trade_value': '190822958948.1412',\n",
       " 'prev_closing_price': '49536000',\n",
       " 'units_traded_24H': '3837.9357942',\n",
       " 'acc_trade_value_24H': '191418370993.513',\n",
       " 'fluctate_24H': '634000',\n",
       " 'fluctate_rate_24H': '1.28',\n",
       " 'date': '1701183217210'}"
      ]
     },
     "execution_count": 248,
     "metadata": {},
     "output_type": "execute_result"
    }
   ],
   "source": [
    "import requests\n",
    "btc = requests.get(\"https://api.bithumb.com/public/ticker/\").json()['data']\n",
    "btc"
   ]
  },
  {
   "cell_type": "code",
   "execution_count": 259,
   "id": "bb0c3691",
   "metadata": {
    "ExecuteTime": {
     "end_time": "2023-11-28T14:58:15.461010Z",
     "start_time": "2023-11-28T14:58:15.454571Z"
    }
   },
   "outputs": [
    {
     "name": "stdout",
     "output_type": "stream",
     "text": [
      "상승장\n"
     ]
    }
   ],
   "source": [
    "최고가 = int(btc['max_price'])\n",
    "최고가\n",
    "최저가 = int(btc['min_price'])\n",
    "최저가\n",
    "시가 = int(btc['opening_price'])\n",
    "시가\n",
    "변동폭 = 최고가 - 최저가\n",
    "변동폭\n",
    "\n",
    "if (시가 + 변동폭) > 최고가 :\n",
    "    print('상승장')\n",
    "else :\n",
    "    print('하락장')"
   ]
  },
  {
   "cell_type": "markdown",
   "id": "c83fdafe",
   "metadata": {},
   "source": [
    "131\n",
    "for문의 실행결과를 예측하라.\n",
    "\n",
    "과일 = [\"사과\", \"귤\", \"수박\"]\n",
    "for 변수 in 과일:\n",
    "    print(변수)"
   ]
  },
  {
   "cell_type": "code",
   "execution_count": null,
   "id": "689b85a0",
   "metadata": {
    "ExecuteTime": {
     "end_time": "2023-11-25T05:10:23.952140Z",
     "start_time": "2023-11-25T05:10:23.945079Z"
    }
   },
   "outputs": [],
   "source": [
    "사과\n",
    "귤\n",
    "수박\n"
   ]
  },
  {
   "cell_type": "markdown",
   "id": "dfd34c62",
   "metadata": {},
   "source": [
    "132\n",
    "for문의 실행결과를 예측하라.\n",
    "\n",
    "과일 = [\"사과\", \"귤\", \"수박\"]\n",
    "for 변수 in 과일:\n",
    "  print(\"#####\")"
   ]
  },
  {
   "cell_type": "code",
   "execution_count": null,
   "id": "8b2bb462",
   "metadata": {
    "ExecuteTime": {
     "end_time": "2023-11-25T05:10:17.788097Z",
     "start_time": "2023-11-25T05:10:17.781900Z"
    }
   },
   "outputs": [],
   "source": [
    "#####\n",
    "#####\n",
    "#####"
   ]
  },
  {
   "cell_type": "markdown",
   "id": "0643d332",
   "metadata": {},
   "source": [
    "133\n",
    "다음 for 문과 동일한 기능을 수행하는 코드를 작성하세요.\n",
    "\n",
    "for 변수 in [\"A\", \"B\", \"C\"]:\n",
    "  print(변수)"
   ]
  },
  {
   "cell_type": "code",
   "execution_count": 3,
   "id": "a72379af",
   "metadata": {
    "ExecuteTime": {
     "end_time": "2023-11-29T00:20:20.414234Z",
     "start_time": "2023-11-29T00:20:20.409444Z"
    }
   },
   "outputs": [
    {
     "name": "stdout",
     "output_type": "stream",
     "text": [
      "a\n",
      "b\n",
      "c\n"
     ]
    }
   ],
   "source": [
    "a = ['A', 'B', 'C']\n",
    "\n",
    "for i in a:\n",
    "    print(i)\n",
    "    \n",
    "# print('A')\n",
    "# print('B')\n",
    "# print('C')"
   ]
  },
  {
   "cell_type": "markdown",
   "id": "ffbe2826",
   "metadata": {},
   "source": [
    "134\n",
    "for문을 풀어서 동일한 동작을하는 코드를 작성하라.\n",
    "\n",
    "for 변수 in [\"A\", \"B\", \"C\"]:\n",
    "  print(\"출력:\", 변수)"
   ]
  },
  {
   "cell_type": "code",
   "execution_count": null,
   "id": "e2d25d43",
   "metadata": {
    "ExecuteTime": {
     "end_time": "2023-11-25T05:14:39.705442Z",
     "start_time": "2023-11-25T05:14:39.697572Z"
    }
   },
   "outputs": [],
   "source": [
    "print(\"출력:\", 'A')\n",
    "print(\"출력:\", 'B')\n",
    "print(\"출력:\", 'C')"
   ]
  },
  {
   "cell_type": "markdown",
   "id": "ebb45225",
   "metadata": {},
   "source": [
    "135\n",
    "for문을 풀어서 동일한 동작을 하는 코드를 작성하라.\n",
    "\n",
    "for 변수 in [\"A\", \"B\", \"C\"]:\n",
    "  b = 변수.lower()\n",
    "  print(\"변환:\", b)"
   ]
  },
  {
   "cell_type": "code",
   "execution_count": null,
   "id": "f8662264",
   "metadata": {
    "ExecuteTime": {
     "end_time": "2023-11-25T04:09:56.717844Z",
     "start_time": "2023-11-25T04:09:56.711613Z"
    }
   },
   "outputs": [],
   "source": [
    "print(\"변환:\", 'a')\n",
    "print(\"변환:\", 'b')\n",
    "print(\"변환:\", 'c')"
   ]
  },
  {
   "cell_type": "markdown",
   "id": "ffed89c7",
   "metadata": {},
   "source": [
    "136\n",
    "다음 코드를 for문으로 작성하라.\n",
    "\n",
    "변수 = 10\n",
    "print(변수)\n",
    "변수 = 20\n",
    "print(변수)\n",
    "변수 = 30\n",
    "print(변수)"
   ]
  },
  {
   "cell_type": "code",
   "execution_count": 5,
   "id": "451b8cdf",
   "metadata": {
    "ExecuteTime": {
     "end_time": "2023-11-29T00:23:08.325036Z",
     "start_time": "2023-11-29T00:23:08.319413Z"
    }
   },
   "outputs": [
    {
     "name": "stdout",
     "output_type": "stream",
     "text": [
      "10\n",
      "20\n",
      "30\n"
     ]
    }
   ],
   "source": [
    "for i in [10, 20, 30] :\n",
    "    print(i)"
   ]
  },
  {
   "cell_type": "markdown",
   "id": "bcd4c399",
   "metadata": {},
   "source": [
    "137\n",
    "다음 코드를 for문으로 작성하라.\n",
    "\n",
    "print(10)\n",
    "print(20)\n",
    "print(30)"
   ]
  },
  {
   "cell_type": "code",
   "execution_count": null,
   "id": "4cf4f612",
   "metadata": {
    "ExecuteTime": {
     "end_time": "2023-11-25T04:14:18.741297Z",
     "start_time": "2023-11-25T04:14:18.732273Z"
    }
   },
   "outputs": [],
   "source": [
    "for i in [10, 20, 30] :\n",
    "    print(i)"
   ]
  },
  {
   "cell_type": "markdown",
   "id": "04dcdde3",
   "metadata": {},
   "source": [
    "138\n",
    "다음 코드를 for문으로 작성하라.\n",
    "\n",
    "print(10)\n",
    "print(\"-------\")\n",
    "print(20)\n",
    "print(\"-------\")\n",
    "print(30)\n",
    "print(\"-------\")"
   ]
  },
  {
   "cell_type": "code",
   "execution_count": 6,
   "id": "1b976644",
   "metadata": {
    "ExecuteTime": {
     "end_time": "2023-11-29T00:23:46.356998Z",
     "start_time": "2023-11-29T00:23:46.352274Z"
    }
   },
   "outputs": [
    {
     "name": "stdout",
     "output_type": "stream",
     "text": [
      "10\n",
      "-------\n",
      "20\n",
      "-------\n",
      "30\n",
      "-------\n"
     ]
    }
   ],
   "source": [
    "for i in [10, 20, 30] :\n",
    "    print(i)\n",
    "    print(\"-------\")"
   ]
  },
  {
   "cell_type": "markdown",
   "id": "a264c2b0",
   "metadata": {},
   "source": [
    "139\n",
    "다음 코드를 for문으로 작성하라.\n",
    "\n",
    "print(\"++++\")\n",
    "print(10)\n",
    "print(20)\n",
    "print(30)"
   ]
  },
  {
   "cell_type": "code",
   "execution_count": 7,
   "id": "6ec21519",
   "metadata": {
    "ExecuteTime": {
     "end_time": "2023-11-29T00:24:34.821401Z",
     "start_time": "2023-11-29T00:24:34.815855Z"
    }
   },
   "outputs": [
    {
     "name": "stdout",
     "output_type": "stream",
     "text": [
      "++++\n",
      "10\n",
      "20\n",
      "30\n"
     ]
    }
   ],
   "source": [
    "print(\"++++\")\n",
    "for i in [10, 20, 30] :\n",
    "    print(i)"
   ]
  },
  {
   "cell_type": "markdown",
   "id": "923aabcd",
   "metadata": {},
   "source": [
    "140\n",
    "다음 코드를 for문으로 작성하라.\n",
    "\n",
    "print(\"-------\")\n",
    "print(\"-------\")\n",
    "print(\"-------\")\n",
    "print(\"-------\")"
   ]
  },
  {
   "cell_type": "code",
   "execution_count": 8,
   "id": "322d0efa",
   "metadata": {
    "ExecuteTime": {
     "end_time": "2023-11-29T00:25:01.269076Z",
     "start_time": "2023-11-29T00:25:01.264397Z"
    }
   },
   "outputs": [
    {
     "name": "stdout",
     "output_type": "stream",
     "text": [
      "-------\n",
      "-------\n",
      "-------\n",
      "-------\n"
     ]
    }
   ],
   "source": [
    "for i in [1, 2, 3, 4] :\n",
    "    print(\"-------\")"
   ]
  },
  {
   "cell_type": "markdown",
   "id": "a7a1ae9b",
   "metadata": {},
   "source": [
    "141\n",
    "다음과 같이 판매가가 저장된 리스트가 있을 때 부가세가 포함된 가격을 for 문을 사용해서 화면에 출력하라. 단 부가세는 10원으로 가정한다.\n",
    "\n",
    "리스트 = [100, 200, 300]\n",
    "110\n",
    "210\n",
    "310"
   ]
  },
  {
   "cell_type": "code",
   "execution_count": 9,
   "id": "3e17fb50",
   "metadata": {
    "ExecuteTime": {
     "end_time": "2023-11-29T00:26:20.753023Z",
     "start_time": "2023-11-29T00:26:20.747661Z"
    }
   },
   "outputs": [
    {
     "name": "stdout",
     "output_type": "stream",
     "text": [
      "110\n",
      "210\n",
      "310\n"
     ]
    }
   ],
   "source": [
    "리스트 = [100, 200, 300]\n",
    "for i in 리스트 :\n",
    "    print(i + 10 )"
   ]
  },
  {
   "cell_type": "markdown",
   "id": "0b14e662",
   "metadata": {},
   "source": [
    "142\n",
    "for 문을 사용해서 리스트에 저장된 값을 다음과 같이 출력하라.\n",
    "\n",
    "리스트 = [\"김밥\", \"라면\", \"튀김\"]\n",
    "오늘의 메뉴: 김밥\n",
    "오늘의 메뉴: 라면\n",
    "오늘의 메뉴: 튀김"
   ]
  },
  {
   "cell_type": "code",
   "execution_count": 10,
   "id": "dd49d76f",
   "metadata": {
    "ExecuteTime": {
     "end_time": "2023-11-29T00:27:09.061931Z",
     "start_time": "2023-11-29T00:27:09.056160Z"
    }
   },
   "outputs": [
    {
     "name": "stdout",
     "output_type": "stream",
     "text": [
      "오늘의 메뉴: 김밥\n",
      "오늘의 메뉴: 라면\n",
      "오늘의 메뉴: 튀김\n"
     ]
    }
   ],
   "source": [
    "리스트 = ['김밥', '라면', '튀김']\n",
    "for i in 리스트 :\n",
    "    print('오늘의 메뉴:', i)"
   ]
  },
  {
   "cell_type": "markdown",
   "id": "e4e36567",
   "metadata": {},
   "source": [
    "143\n",
    "리스트에 주식 종목이름이 저장돼 있다.\n",
    "\n",
    "리스트 = [\"SK하이닉스\", \"삼성전자\", \"LG전자\"]\n",
    "저장된 문자열의 길이를 다음과 같이 출력하라.\n",
    "\n",
    "6\n",
    "4\n",
    "4"
   ]
  },
  {
   "cell_type": "code",
   "execution_count": 26,
   "id": "5d9a6441",
   "metadata": {
    "ExecuteTime": {
     "end_time": "2023-11-29T00:31:14.842786Z",
     "start_time": "2023-11-29T00:31:14.837855Z"
    }
   },
   "outputs": [
    {
     "name": "stdout",
     "output_type": "stream",
     "text": [
      "6\n",
      "4\n",
      "4\n"
     ]
    }
   ],
   "source": [
    "리스트 = [\"SK하이닉스\", \"삼성전자\", \"LG전자\"]\n",
    "\n",
    "for i in 리스트 :\n",
    "    j = len(i)\n",
    "    print(j)"
   ]
  },
  {
   "cell_type": "markdown",
   "id": "e4f5c48e",
   "metadata": {},
   "source": [
    "144\n",
    "리스트에는 동물이름이 문자열로 저장돼 있다.\n",
    "\n",
    "리스트 = ['dog', 'cat', 'parrot']\n",
    "동물 이름과 글자수를 다음과 같이 출력하라.\n",
    "\n",
    "dog 3\n",
    "cat 3\n",
    "parrot 6"
   ]
  },
  {
   "cell_type": "code",
   "execution_count": 27,
   "id": "d3447d03",
   "metadata": {
    "ExecuteTime": {
     "end_time": "2023-11-29T00:31:52.173605Z",
     "start_time": "2023-11-29T00:31:52.167471Z"
    }
   },
   "outputs": [
    {
     "name": "stdout",
     "output_type": "stream",
     "text": [
      "dog 3\n",
      "cat 3\n",
      "parrot 6\n"
     ]
    }
   ],
   "source": [
    "리스트 = ['dog', 'cat', 'parrot']\n",
    "\n",
    "for i in 리스트 :\n",
    "    j = len(i)\n",
    "    print(i, j)"
   ]
  },
  {
   "cell_type": "markdown",
   "id": "136aa70d",
   "metadata": {},
   "source": [
    "145\n",
    "리스트에 동물 이름 저장돼 있다.\n",
    "\n",
    "리스트 = ['dog', 'cat', 'parrot']\n",
    "for문을 사용해서 동물 이름의 첫 글자만 출력하라.\n",
    "\n",
    "d\n",
    "c\n",
    "p"
   ]
  },
  {
   "cell_type": "code",
   "execution_count": 57,
   "id": "bab019bb",
   "metadata": {
    "ExecuteTime": {
     "end_time": "2023-11-29T01:05:27.327355Z",
     "start_time": "2023-11-29T01:05:27.322288Z"
    }
   },
   "outputs": [
    {
     "name": "stdout",
     "output_type": "stream",
     "text": [
      "d\n",
      "c\n",
      "p\n"
     ]
    }
   ],
   "source": [
    "리스트 = ['dog', 'cat', 'parrot']\n",
    "\n",
    "for i in 리스트 :\n",
    " #   j = 리스트[i]\n",
    "    print(i[0])"
   ]
  },
  {
   "cell_type": "markdown",
   "id": "524a656f",
   "metadata": {},
   "source": [
    "146\n",
    "리스트에는 세 개의 숫자가 바인딩돼 있다.\n",
    "\n",
    "리스트 = [1, 2, 3]\n",
    "for문을 사용해서 다음과 같이 출력하라.\n",
    "\n",
    "3 x 1\n",
    "3 x 2\n",
    "3 x 3"
   ]
  },
  {
   "cell_type": "code",
   "execution_count": 40,
   "id": "f244e66b",
   "metadata": {
    "ExecuteTime": {
     "end_time": "2023-11-29T00:46:51.674582Z",
     "start_time": "2023-11-29T00:46:51.669303Z"
    }
   },
   "outputs": [
    {
     "name": "stdout",
     "output_type": "stream",
     "text": [
      "3 x 1\n",
      "3 x 2\n",
      "3 x 3\n"
     ]
    }
   ],
   "source": [
    "리스트 = [1, 2, 3]\n",
    "\n",
    "for i in 리스트 :\n",
    "    print('3 x', i)"
   ]
  },
  {
   "cell_type": "markdown",
   "id": "f5513ae9",
   "metadata": {},
   "source": [
    "147\n",
    "리스트에는 세 개의 숫자가 바인딩돼 있다.\n",
    "\n",
    "리스트 = [1, 2, 3]\n",
    "for문을 사용해서 다음과 같이 출력하라.\n",
    "\n",
    "3 x 1 = 3\n",
    "3 x 2 = 6\n",
    "3 x 3 = 9"
   ]
  },
  {
   "cell_type": "code",
   "execution_count": 48,
   "id": "012909b3",
   "metadata": {
    "ExecuteTime": {
     "end_time": "2023-11-29T00:49:19.730583Z",
     "start_time": "2023-11-29T00:49:19.724279Z"
    }
   },
   "outputs": [
    {
     "data": {
      "text/plain": [
       "(3, 'x', 3)"
      ]
     },
     "execution_count": 48,
     "metadata": {},
     "output_type": "execute_result"
    }
   ],
   "source": [
    "리스트 = [1, 2, 3]\n",
    "\n",
    "for i in 리스트 :\n",
    "    j = (3, 'x', i)\n",
    "j\n",
    "    "
   ]
  },
  {
   "cell_type": "markdown",
   "id": "439de81a",
   "metadata": {},
   "source": [
    "148\n",
    "리스트에는 네 개의 문자열이 바인딩돼 있다.\n",
    "\n",
    "리스트 = [\"가\", \"나\", \"다\", \"라\"]\n",
    "for문을 사용해서 다음과 같이 출력하라.\n",
    "\n",
    "나\n",
    "다\n",
    "라"
   ]
  },
  {
   "cell_type": "code",
   "execution_count": 69,
   "id": "525504b2",
   "metadata": {
    "ExecuteTime": {
     "end_time": "2023-11-29T01:08:40.687106Z",
     "start_time": "2023-11-29T01:08:40.681706Z"
    }
   },
   "outputs": [
    {
     "name": "stdout",
     "output_type": "stream",
     "text": [
      "나\n",
      "다\n",
      "라\n"
     ]
    }
   ],
   "source": [
    "리스트 = [\"가\", \"나\", \"다\", \"라\"]\n",
    "리스트 = 리스트[1:]\n",
    "for i in 리스트 :\n",
    "    print(i)"
   ]
  },
  {
   "cell_type": "markdown",
   "id": "2815810f",
   "metadata": {},
   "source": [
    "150\n",
    "리스트에는 네 개의 문자열이 바인딩돼 있다.\n",
    "\n",
    "리스트 = [\"가\", \"나\", \"다\", \"라\"]\n",
    "for문을 사용해서 다음과 같이 출력하라.\n",
    "\n",
    "라\n",
    "다\n",
    "나\n",
    "가"
   ]
  },
  {
   "cell_type": "code",
   "execution_count": 78,
   "id": "c371a019",
   "metadata": {
    "ExecuteTime": {
     "end_time": "2023-11-29T01:09:55.648103Z",
     "start_time": "2023-11-29T01:09:55.642519Z"
    }
   },
   "outputs": [
    {
     "name": "stdout",
     "output_type": "stream",
     "text": [
      "라\n",
      "다\n",
      "나\n",
      "가\n"
     ]
    }
   ],
   "source": [
    "리스트 = [\"가\", \"나\", \"다\", \"라\"]\n",
    "리스트.reverse()\n",
    "리스트\n",
    "\n",
    "for i in 리스트 :\n",
    "    print(i)\n",
    "    \n",
    "##"
   ]
  },
  {
   "cell_type": "markdown",
   "id": "74085037",
   "metadata": {},
   "source": [
    "151\n",
    "리스트에는 네 개의 정수가 저장돼 있다.\n",
    "\n",
    "리스트 = [3, -20, -3, 44]\n",
    "for문을 사용해서 리스트의 음수를 출력하라.\n",
    "\n",
    "-20\n",
    "-3"
   ]
  },
  {
   "cell_type": "code",
   "execution_count": 80,
   "id": "4673a339",
   "metadata": {
    "ExecuteTime": {
     "end_time": "2023-11-29T02:27:08.693183Z",
     "start_time": "2023-11-29T02:27:08.687119Z"
    }
   },
   "outputs": [
    {
     "name": "stdout",
     "output_type": "stream",
     "text": [
      "-20\n",
      "-3\n"
     ]
    }
   ],
   "source": [
    "리스트 = [3, -20, -3, 44]\n",
    "result = [i for i in 리스트 if i < 0]\n",
    "result\n",
    "\n",
    "\n",
    "for i in 리스트 :\n",
    "    if i < 0 :\n",
    "        print(i)\n",
    "    "
   ]
  },
  {
   "cell_type": "markdown",
   "id": "6b307d4d",
   "metadata": {},
   "source": [
    "152\n",
    "for문을 사용해서 3의 배수만을 출력하라.\n",
    "\n",
    "리스트 = [3, 100, 23, 44]\n",
    "3"
   ]
  },
  {
   "cell_type": "code",
   "execution_count": 82,
   "id": "3923d9e3",
   "metadata": {
    "ExecuteTime": {
     "end_time": "2023-11-29T02:28:21.099851Z",
     "start_time": "2023-11-29T02:28:21.094400Z"
    }
   },
   "outputs": [
    {
     "name": "stdout",
     "output_type": "stream",
     "text": [
      "3\n"
     ]
    }
   ],
   "source": [
    "리스트 = [3, 100, 23, 44]\n",
    "\n",
    "for i in 리스트 :\n",
    "    if i % 3 == 0 :\n",
    "        print(i)"
   ]
  },
  {
   "cell_type": "markdown",
   "id": "3be4151a",
   "metadata": {},
   "source": [
    "153\n",
    "리스트에서 20 보다 작은 3의 배수를 출력하라\n",
    "\n",
    "리스트 = [13, 21, 12, 14, 30, 18]\n",
    "12\n",
    "18"
   ]
  },
  {
   "cell_type": "code",
   "execution_count": 84,
   "id": "c525ae75",
   "metadata": {
    "ExecuteTime": {
     "end_time": "2023-11-29T02:29:08.427413Z",
     "start_time": "2023-11-29T02:29:08.422248Z"
    }
   },
   "outputs": [
    {
     "name": "stdout",
     "output_type": "stream",
     "text": [
      "12\n",
      "18\n"
     ]
    }
   ],
   "source": [
    "리스트 = [13, 21, 12, 14, 30, 18]\n",
    "for i in 리스트 :\n",
    "    if i < 20 and i % 3 == 0 :\n",
    "        print(i)"
   ]
  },
  {
   "cell_type": "markdown",
   "id": "a2e2bd79",
   "metadata": {},
   "source": [
    "154\n",
    "리스트에서 세 글자 이상의 문자를 화면에 출력하라\n",
    "\n",
    "리스트 = [\"I\", \"study\", \"python\", \"language\", \"!\"]\n",
    "study\n",
    "python\n",
    "language"
   ]
  },
  {
   "cell_type": "code",
   "execution_count": 88,
   "id": "c9e415fb",
   "metadata": {
    "ExecuteTime": {
     "end_time": "2023-11-29T02:31:15.090282Z",
     "start_time": "2023-11-29T02:31:15.085379Z"
    }
   },
   "outputs": [
    {
     "name": "stdout",
     "output_type": "stream",
     "text": [
      "study\n",
      "python\n",
      "language\n"
     ]
    }
   ],
   "source": [
    "리스트 = [\"I\", \"study\", \"python\", \"language\", \"!\"]\n",
    "\n",
    "for i in 리스트 :\n",
    "    j = len(i)\n",
    "    if j >= 3 :\n",
    "        print(i)\n",
    "    "
   ]
  },
  {
   "cell_type": "markdown",
   "id": "925c20f2",
   "metadata": {},
   "source": [
    "155\n",
    "리스트에서 대문자만 화면에 출력하라.\n",
    "\n",
    "리스트 = [\"A\", \"b\", \"c\", \"D\"]\n",
    "A\n",
    "D"
   ]
  },
  {
   "cell_type": "code",
   "execution_count": 90,
   "id": "a9d961d8",
   "metadata": {
    "ExecuteTime": {
     "end_time": "2023-11-29T02:33:01.779077Z",
     "start_time": "2023-11-29T02:33:01.773472Z"
    }
   },
   "outputs": [
    {
     "name": "stdout",
     "output_type": "stream",
     "text": [
      "A\n",
      "D\n"
     ]
    }
   ],
   "source": [
    "리스트 = [\"A\", \"b\", \"c\", \"D\"]\n",
    "\n",
    "for i in 리스트 :\n",
    "    if i.isupper() :\n",
    "        print(i)"
   ]
  },
  {
   "cell_type": "markdown",
   "id": "d7e3a7fe",
   "metadata": {},
   "source": [
    "156\n",
    "리스트에서 소문자만 화면에 출력하라.\n",
    "\n",
    "리스트 = [\"A\", \"b\", \"c\", \"D\"]\n",
    "b\n",
    "c"
   ]
  },
  {
   "cell_type": "code",
   "execution_count": 91,
   "id": "5a72ea9e",
   "metadata": {
    "ExecuteTime": {
     "end_time": "2023-11-29T02:33:26.691621Z",
     "start_time": "2023-11-29T02:33:26.685860Z"
    }
   },
   "outputs": [
    {
     "name": "stdout",
     "output_type": "stream",
     "text": [
      "b\n",
      "c\n"
     ]
    }
   ],
   "source": [
    "리스트 = [\"A\", \"b\", \"c\", \"D\"]\n",
    "\n",
    "for i in 리스트 :\n",
    "    if i.islower() :\n",
    "        print(i)"
   ]
  },
  {
   "cell_type": "markdown",
   "id": "196a7695",
   "metadata": {},
   "source": [
    "157\n",
    "이름의 첫 글자를 대문자로 변경해서 출력하라.\n",
    "\n",
    "리스트 = ['dog', 'cat', 'parrot']\n",
    "Dog\n",
    "Cat\n",
    "Parrot"
   ]
  },
  {
   "cell_type": "code",
   "execution_count": 95,
   "id": "a7f943d0",
   "metadata": {
    "ExecuteTime": {
     "end_time": "2023-11-29T02:34:44.516184Z",
     "start_time": "2023-11-29T02:34:44.510109Z"
    }
   },
   "outputs": [
    {
     "name": "stdout",
     "output_type": "stream",
     "text": [
      "Dog\n",
      "Cat\n",
      "Parrot\n"
     ]
    }
   ],
   "source": [
    "리스트 = ['dog', 'cat', 'parrot']\n",
    "\n",
    "for i in 리스트 :\n",
    "    j = i[0]\n",
    "    j = j.upper()\n",
    "    print(j + i[1:])"
   ]
  },
  {
   "cell_type": "markdown",
   "id": "bffeb59e",
   "metadata": {},
   "source": [
    "158\n",
    "파일 이름이 저장된 리스트에서 확장자를 제거하고 파일 이름만 화면에 출력하라. (힌트: split() 메서드)\n",
    "\n",
    "리스트 = ['hello.py', 'ex01.py', 'intro.hwp']\n",
    "hello\n",
    "ex01\n",
    "intro"
   ]
  },
  {
   "cell_type": "code",
   "execution_count": 122,
   "id": "6c123d0a",
   "metadata": {
    "ExecuteTime": {
     "end_time": "2023-11-29T02:44:50.889647Z",
     "start_time": "2023-11-29T02:44:50.884318Z"
    }
   },
   "outputs": [
    {
     "name": "stdout",
     "output_type": "stream",
     "text": [
      "hello\n",
      "ex01\n",
      "intro\n"
     ]
    }
   ],
   "source": [
    "리스트 = ['hello.py', 'ex01.py', 'intro.hwp']\n",
    "\n",
    "for i in 리스트 :\n",
    "    j = i.split('.')\n",
    "    k = j[0]\n",
    "    print(k)\n"
   ]
  },
  {
   "cell_type": "markdown",
   "id": "04a3d3ea",
   "metadata": {},
   "source": [
    "159\n",
    "파일 이름이 저장된 리스트에서 확장자가 .h인 파일 이름을 출력하라.\n",
    "\n",
    "리스트 = ['intra.h', 'intra.c', 'define.h', 'run.py']\n",
    "intra.h\n",
    "define.h"
   ]
  },
  {
   "cell_type": "code",
   "execution_count": 129,
   "id": "bb9e2a39",
   "metadata": {
    "ExecuteTime": {
     "end_time": "2023-11-29T02:46:49.401721Z",
     "start_time": "2023-11-29T02:46:49.395668Z"
    }
   },
   "outputs": [
    {
     "name": "stdout",
     "output_type": "stream",
     "text": [
      "intra.h\n",
      "define.h\n"
     ]
    }
   ],
   "source": [
    "리스트 = ['intra.h', 'intra.c', 'define.h', 'run.py']\n",
    "\n",
    "\n",
    "for i in 리스트 :\n",
    "    j = i.split('.')\n",
    "    k = j[1]\n",
    "    if k == 'h' :\n",
    "        print(i)"
   ]
  },
  {
   "cell_type": "markdown",
   "id": "340a9548",
   "metadata": {},
   "source": [
    "160\n",
    "파일 이름이 저장된 리스트에서 확장자가 .h나 .c인 파일을 화면에 출력하라.\n",
    "\n",
    "리스트 = ['intra.h', 'intra.c', 'define.h', 'run.py']\n",
    "intra.h\n",
    "intra.c\n",
    "define.h"
   ]
  },
  {
   "cell_type": "code",
   "execution_count": 130,
   "id": "4bc1d9da",
   "metadata": {
    "ExecuteTime": {
     "end_time": "2023-11-29T02:47:52.962478Z",
     "start_time": "2023-11-29T02:47:52.956341Z"
    }
   },
   "outputs": [
    {
     "name": "stdout",
     "output_type": "stream",
     "text": [
      "intra.h\n",
      "intra.c\n",
      "define.h\n"
     ]
    }
   ],
   "source": [
    "리스트 = ['intra.h', 'intra.c', 'define.h', 'run.py']\n",
    "\n",
    "for i in 리스트 :\n",
    "    j = i.split('.')\n",
    "    k = j[1]\n",
    "    if k == 'h' or k == 'c' :\n",
    "        print(i)"
   ]
  },
  {
   "cell_type": "markdown",
   "id": "35a71ad5",
   "metadata": {},
   "source": [
    "161\n",
    "for문과 range 구문을 사용해서 0~99까지 한 라인에 하나씩 순차적으로 출력하는 프로그램을 작성하라."
   ]
  },
  {
   "cell_type": "code",
   "execution_count": 137,
   "id": "e37fe03b",
   "metadata": {
    "ExecuteTime": {
     "end_time": "2023-11-29T03:36:08.114061Z",
     "start_time": "2023-11-29T03:36:08.106390Z"
    }
   },
   "outputs": [
    {
     "name": "stdout",
     "output_type": "stream",
     "text": [
      "0\n",
      "1\n",
      "2\n",
      "3\n",
      "4\n",
      "5\n",
      "6\n",
      "7\n",
      "8\n",
      "9\n",
      "10\n",
      "11\n",
      "12\n",
      "13\n",
      "14\n",
      "15\n",
      "16\n",
      "17\n",
      "18\n",
      "19\n",
      "20\n",
      "21\n",
      "22\n",
      "23\n",
      "24\n",
      "25\n",
      "26\n",
      "27\n",
      "28\n",
      "29\n",
      "30\n",
      "31\n",
      "32\n",
      "33\n",
      "34\n",
      "35\n",
      "36\n",
      "37\n",
      "38\n",
      "39\n",
      "40\n",
      "41\n",
      "42\n",
      "43\n",
      "44\n",
      "45\n",
      "46\n",
      "47\n",
      "48\n",
      "49\n",
      "50\n",
      "51\n",
      "52\n",
      "53\n",
      "54\n",
      "55\n",
      "56\n",
      "57\n",
      "58\n",
      "59\n",
      "60\n",
      "61\n",
      "62\n",
      "63\n",
      "64\n",
      "65\n",
      "66\n",
      "67\n",
      "68\n",
      "69\n",
      "70\n",
      "71\n",
      "72\n",
      "73\n",
      "74\n",
      "75\n",
      "76\n",
      "77\n",
      "78\n",
      "79\n",
      "80\n",
      "81\n",
      "82\n",
      "83\n",
      "84\n",
      "85\n",
      "86\n",
      "87\n",
      "88\n",
      "89\n",
      "90\n",
      "91\n",
      "92\n",
      "93\n",
      "94\n",
      "95\n",
      "96\n",
      "97\n",
      "98\n",
      "99\n"
     ]
    }
   ],
   "source": [
    "for i in range(100) :\n",
    "    print(i)"
   ]
  },
  {
   "cell_type": "markdown",
   "id": "df3a5194",
   "metadata": {},
   "source": [
    "162\n",
    "월드컵은 4년에 한 번 개최된다. range()를 사용하여 2002~2050년까지 중 월드컵이 개최되는 연도를 출력하라.\n",
    "\n",
    "2002\n",
    "2006\n",
    "2010\n",
    "...\n",
    "2042\n",
    "2046\n",
    "2050"
   ]
  },
  {
   "cell_type": "code",
   "execution_count": 147,
   "id": "fe887a60",
   "metadata": {
    "ExecuteTime": {
     "end_time": "2023-11-29T03:38:27.616590Z",
     "start_time": "2023-11-29T03:38:27.611557Z"
    }
   },
   "outputs": [
    {
     "name": "stdout",
     "output_type": "stream",
     "text": [
      "2002\n",
      "2006\n",
      "2010\n",
      "2014\n",
      "2018\n",
      "2022\n",
      "2026\n",
      "2030\n",
      "2034\n",
      "2038\n",
      "2042\n",
      "2046\n",
      "2050\n"
     ]
    }
   ],
   "source": [
    "for i in range(2002, 2051) : \n",
    "    if i % 4 == 2 :\n",
    "        print(i)\n",
    "        \n",
    "        \n",
    "# for x in range(2022, 2051, 4) :\n",
    "#   print(x)"
   ]
  },
  {
   "cell_type": "markdown",
   "id": "90c0c4ef",
   "metadata": {},
   "source": [
    "163\n",
    "1부터 30까지의 숫자 중 3의 배수를 출력하라.\n",
    "\n",
    "3 \n",
    "6 \n",
    "9 \n",
    "12 \n",
    "15 \n",
    "18 \n",
    "21 \n",
    "24 \n",
    "27 \n",
    "30"
   ]
  },
  {
   "cell_type": "code",
   "execution_count": 148,
   "id": "a85f4179",
   "metadata": {
    "ExecuteTime": {
     "end_time": "2023-11-29T03:39:26.203921Z",
     "start_time": "2023-11-29T03:39:26.198393Z"
    }
   },
   "outputs": [
    {
     "name": "stdout",
     "output_type": "stream",
     "text": [
      "3\n",
      "6\n",
      "9\n",
      "12\n",
      "15\n",
      "18\n",
      "21\n",
      "24\n",
      "27\n",
      "30\n"
     ]
    }
   ],
   "source": [
    "for i in range(3, 31, 3) :\n",
    "    print(i)"
   ]
  },
  {
   "cell_type": "markdown",
   "id": "e0fa32ee",
   "metadata": {},
   "source": [
    "164\n",
    "99부터 0까지 1씩 감소하는 숫자들을, 한 라인에 하나씩 출력하라."
   ]
  },
  {
   "cell_type": "code",
   "execution_count": 153,
   "id": "a158c7ac",
   "metadata": {
    "ExecuteTime": {
     "end_time": "2023-11-29T03:41:30.714704Z",
     "start_time": "2023-11-29T03:41:30.709682Z"
    }
   },
   "outputs": [
    {
     "name": "stdout",
     "output_type": "stream",
     "text": [
      "99\n",
      "98\n",
      "97\n",
      "96\n",
      "95\n",
      "94\n",
      "93\n",
      "92\n",
      "91\n",
      "90\n",
      "89\n",
      "88\n",
      "87\n",
      "86\n",
      "85\n",
      "84\n",
      "83\n",
      "82\n",
      "81\n",
      "80\n",
      "79\n",
      "78\n",
      "77\n",
      "76\n",
      "75\n",
      "74\n",
      "73\n",
      "72\n",
      "71\n",
      "70\n",
      "69\n",
      "68\n",
      "67\n",
      "66\n",
      "65\n",
      "64\n",
      "63\n",
      "62\n",
      "61\n",
      "60\n",
      "59\n",
      "58\n",
      "57\n",
      "56\n",
      "55\n",
      "54\n",
      "53\n",
      "52\n",
      "51\n",
      "50\n",
      "49\n",
      "48\n",
      "47\n",
      "46\n",
      "45\n",
      "44\n",
      "43\n",
      "42\n",
      "41\n",
      "40\n",
      "39\n",
      "38\n",
      "37\n",
      "36\n",
      "35\n",
      "34\n",
      "33\n",
      "32\n",
      "31\n",
      "30\n",
      "29\n",
      "28\n",
      "27\n",
      "26\n",
      "25\n",
      "24\n",
      "23\n",
      "22\n",
      "21\n",
      "20\n",
      "19\n",
      "18\n",
      "17\n",
      "16\n",
      "15\n",
      "14\n",
      "13\n",
      "12\n",
      "11\n",
      "10\n",
      "9\n",
      "8\n",
      "7\n",
      "6\n",
      "5\n",
      "4\n",
      "3\n",
      "2\n",
      "1\n",
      "0\n"
     ]
    }
   ],
   "source": [
    "for i in range(100) :\n",
    "    print(99-i)"
   ]
  },
  {
   "cell_type": "markdown",
   "id": "43855c9d",
   "metadata": {},
   "source": [
    "165\n",
    "for문을 사용해서 아래와 같이 출력하라.\n",
    "\n",
    "0.0\n",
    "0.1\n",
    "0.2\n",
    "0.3\n",
    "0.4\n",
    "0.5\n",
    "...\n",
    "0.9\n"
   ]
  },
  {
   "cell_type": "code",
   "execution_count": 163,
   "id": "9d606f14",
   "metadata": {
    "ExecuteTime": {
     "end_time": "2023-11-29T03:43:29.966338Z",
     "start_time": "2023-11-29T03:43:29.961078Z"
    }
   },
   "outputs": [
    {
     "name": "stdout",
     "output_type": "stream",
     "text": [
      "0.0\n",
      "0.1\n",
      "0.2\n",
      "0.3\n",
      "0.4\n",
      "0.5\n",
      "0.6\n",
      "0.7\n",
      "0.8\n",
      "0.9\n"
     ]
    }
   ],
   "source": [
    "for i in range(10) :\n",
    "    print(round(0.1 * i, 1))\n",
    "    \n",
    "    \n",
    "# for num in range(10) : \n",
    "#    print(num / 10)"
   ]
  },
  {
   "cell_type": "markdown",
   "id": "6af7e303",
   "metadata": {},
   "source": [
    "166\n",
    "구구단 3단을 출력하라.\n",
    "\n",
    "3x1 = 3\n",
    "3x2 = 6\n",
    "3x3 = 9\n",
    "3x4 = 12\n",
    "3x5 = 15\n",
    "3x6 = 18\n",
    "3x7 = 21\n",
    "3x8 = 24\n",
    "3x9 = 27"
   ]
  },
  {
   "cell_type": "code",
   "execution_count": 173,
   "id": "eca1311d",
   "metadata": {
    "ExecuteTime": {
     "end_time": "2023-11-29T03:46:55.552924Z",
     "start_time": "2023-11-29T03:46:55.547985Z"
    }
   },
   "outputs": [
    {
     "name": "stdout",
     "output_type": "stream",
     "text": [
      "3x1 = 3\n",
      "3x2 = 6\n",
      "3x3 = 9\n",
      "3x4 = 12\n",
      "3x5 = 15\n",
      "3x6 = 18\n",
      "3x7 = 21\n",
      "3x8 = 24\n",
      "3x9 = 27\n"
     ]
    }
   ],
   "source": [
    "for i in range(1,10) :\n",
    "    print(f'3x{i} =', 3*i)"
   ]
  },
  {
   "cell_type": "markdown",
   "id": "c83019e8",
   "metadata": {},
   "source": [
    "167\n",
    "구구단 3단을 출력하라. 단 홀수 번째만 출력한다.\n",
    "\n",
    "3x1 = 3\n",
    "3x3 = 9\n",
    "3x5 = 15\n",
    "3x7 = 21\n",
    "3x9 = 27"
   ]
  },
  {
   "cell_type": "code",
   "execution_count": 172,
   "id": "ca99d543",
   "metadata": {
    "ExecuteTime": {
     "end_time": "2023-11-29T03:46:46.397470Z",
     "start_time": "2023-11-29T03:46:46.392009Z"
    }
   },
   "outputs": [
    {
     "name": "stdout",
     "output_type": "stream",
     "text": [
      "3x1 = 3\n",
      "3x3 = 9\n",
      "3x5 = 15\n",
      "3x7 = 21\n",
      "3x9 = 27\n"
     ]
    }
   ],
   "source": [
    "for i in range(10) :\n",
    "    if i % 2 == 1 :\n",
    "        print(f'3x{i} =', 3*i)"
   ]
  },
  {
   "cell_type": "markdown",
   "id": "065291c9",
   "metadata": {},
   "source": [
    "168\n",
    "1~10까지의 숫자에 대해 모두 더한 값을 출력하는 프로그램을 for 문을 사용하여 작성하라.\n",
    "\n",
    "합 : 55"
   ]
  },
  {
   "cell_type": "code",
   "execution_count": 176,
   "id": "fefb67e0",
   "metadata": {
    "ExecuteTime": {
     "end_time": "2023-11-29T03:47:45.058456Z",
     "start_time": "2023-11-29T03:47:45.053556Z"
    }
   },
   "outputs": [
    {
     "name": "stdout",
     "output_type": "stream",
     "text": [
      "합 : 55\n"
     ]
    }
   ],
   "source": [
    "합 = 0\n",
    "for i in range(1, 11) :\n",
    "    합 = 합 + i\n",
    "print('합 :', 합)"
   ]
  },
  {
   "cell_type": "markdown",
   "id": "e00e8ace",
   "metadata": {},
   "source": [
    "169\n",
    "1~10까지의 숫자 중 모든 홀수의 합을 출력하는 프로그램을 for 문을 사용하여 작성하라.\n",
    "\n",
    "합: 25"
   ]
  },
  {
   "cell_type": "code",
   "execution_count": 180,
   "id": "91300e74",
   "metadata": {
    "ExecuteTime": {
     "end_time": "2023-11-29T03:48:52.898924Z",
     "start_time": "2023-11-29T03:48:52.893849Z"
    }
   },
   "outputs": [
    {
     "name": "stdout",
     "output_type": "stream",
     "text": [
      "합 = 25\n"
     ]
    }
   ],
   "source": [
    "합 = 0\n",
    "for i in range(1, 11) :\n",
    "    if i % 2 == 1 :\n",
    "        합 = 합 + i\n",
    "print('합 =', 합)"
   ]
  },
  {
   "cell_type": "markdown",
   "id": "dea26bc5",
   "metadata": {},
   "source": [
    "170\n",
    "1~10까지의 숫자를 모두 곱한 값을 출력하는 프로그램을 for 문을 사용하여 작성하라."
   ]
  },
  {
   "cell_type": "code",
   "execution_count": 183,
   "id": "8db33bab",
   "metadata": {
    "ExecuteTime": {
     "end_time": "2023-11-29T03:50:10.359242Z",
     "start_time": "2023-11-29T03:50:10.354577Z"
    }
   },
   "outputs": [
    {
     "name": "stdout",
     "output_type": "stream",
     "text": [
      "곱 = 3628800\n"
     ]
    }
   ],
   "source": [
    "곱 = 1\n",
    "    \n",
    "for i in range(1, 11) :\n",
    "    곱 = 곱 * i\n",
    "print('곱 =', 곱)"
   ]
  },
  {
   "cell_type": "markdown",
   "id": "f46c06dd",
   "metadata": {},
   "source": [
    "171\n",
    "아래와 같이 리스트의 데이터를 출력하라. 단, for문과 range문을 사용하라.\n",
    "\n",
    "price_list = [32100, 32150, 32000, 32500]\n",
    "32100\n",
    "32150\n",
    "32000\n",
    "32500"
   ]
  },
  {
   "cell_type": "code",
   "execution_count": 192,
   "id": "9ec05229",
   "metadata": {
    "ExecuteTime": {
     "end_time": "2023-11-29T04:01:38.656037Z",
     "start_time": "2023-11-29T04:01:38.651093Z"
    }
   },
   "outputs": [
    {
     "name": "stdout",
     "output_type": "stream",
     "text": [
      "32100\n",
      "32150\n",
      "32000\n",
      "32500\n"
     ]
    }
   ],
   "source": [
    "price_list = [32100, 32150, 32000, 32500]\n",
    "\n",
    "for i in price_list :\n",
    "    print(i)"
   ]
  },
  {
   "cell_type": "markdown",
   "id": "b45bce39",
   "metadata": {},
   "source": [
    "172\n",
    "아래와 같이 리스트의 데이터를 출력하라. 단, for문과 range문을 사용하라.\n",
    "\n",
    "price_list = [32100, 32150, 32000, 32500]\n",
    "0 32100\n",
    "1 32150\n",
    "2 32000\n",
    "3 32500"
   ]
  },
  {
   "cell_type": "code",
   "execution_count": 193,
   "id": "40fb1458",
   "metadata": {
    "ExecuteTime": {
     "end_time": "2023-11-29T04:01:48.982792Z",
     "start_time": "2023-11-29T04:01:48.977532Z"
    }
   },
   "outputs": [
    {
     "name": "stdout",
     "output_type": "stream",
     "text": [
      "0 32100\n",
      "1 32150\n",
      "2 32000\n",
      "3 32500\n"
     ]
    }
   ],
   "source": [
    "price_list = [32100, 32150, 32000, 32500]\n",
    "\n",
    "for i, j in enumerate(price_list) :\n",
    "    print(i, j)\n",
    "    \n",
    "    \n",
    "    ### 이게 ragne 인가?"
   ]
  },
  {
   "cell_type": "markdown",
   "id": "009f8a39",
   "metadata": {},
   "source": [
    "173\n",
    "아래와 같이 리스트의 데이터를 출력하라. 단, for문과 range문을 사용하라.\n",
    "\n",
    "price_list = [32100, 32150, 32000, 32500]\n",
    "3 32100\n",
    "2 32150\n",
    "1 32000\n",
    "0 32500"
   ]
  },
  {
   "cell_type": "code",
   "execution_count": 202,
   "id": "cab89b07",
   "metadata": {
    "ExecuteTime": {
     "end_time": "2023-11-29T04:10:19.654884Z",
     "start_time": "2023-11-29T04:10:19.648680Z"
    }
   },
   "outputs": [
    {
     "name": "stdout",
     "output_type": "stream",
     "text": [
      "3 32100\n",
      "2 32150\n",
      "1 32000\n",
      "0 32500\n"
     ]
    }
   ],
   "source": [
    "price_list = [32100, 32150, 32000, 32500]\n",
    "\n",
    "for i, j in enumerate(price_list) :\n",
    "    print(3-i, j)\n",
    "    \n",
    "# for i in range(len(price_list)) :\n",
    "#    print(3, -i, price_list[i])\n",
    "\n",
    "# for i in range(len(price_list)) :\n",
    "#    print((len(price_list) - 1) - i, price_list[i])"
   ]
  },
  {
   "cell_type": "markdown",
   "id": "e56f3ff3",
   "metadata": {},
   "source": [
    "174\n",
    "아래와 같이 리스트의 데이터를 출력하라. 단, for문과 range문을 사용하라.\n",
    "\n",
    "price_list = [32100, 32150, 32000, 32500]\n",
    "100 32150\n",
    "110 32000\n",
    "120 32500"
   ]
  },
  {
   "cell_type": "code",
   "execution_count": 209,
   "id": "be1ee1b9",
   "metadata": {
    "ExecuteTime": {
     "end_time": "2023-11-29T04:12:23.853804Z",
     "start_time": "2023-11-29T04:12:23.847592Z"
    }
   },
   "outputs": [
    {
     "name": "stdout",
     "output_type": "stream",
     "text": [
      "110 32150\n",
      "120 32000\n",
      "130 32500\n"
     ]
    }
   ],
   "source": [
    "price_list = [32100, 32150, 32000, 32500]\n",
    "\n",
    "for i in range(1, len(price_list)) :\n",
    "    print(100 + i*10, price_list[i])"
   ]
  },
  {
   "cell_type": "markdown",
   "id": "efbe15a1",
   "metadata": {},
   "source": [
    "175\n",
    "my_list를 아래와 같이 출력하라.\n",
    "\n",
    "my_list = [\"가\", \"나\", \"다\", \"라\"]\n",
    "가 나\n",
    "나 다\n",
    "다 라"
   ]
  },
  {
   "cell_type": "code",
   "execution_count": 215,
   "id": "b39d0d48",
   "metadata": {
    "ExecuteTime": {
     "end_time": "2023-11-29T04:15:03.428708Z",
     "start_time": "2023-11-29T04:15:03.422917Z"
    }
   },
   "outputs": [
    {
     "name": "stdout",
     "output_type": "stream",
     "text": [
      "가 나\n",
      "나 다\n",
      "다 라\n"
     ]
    }
   ],
   "source": [
    "my_list = [\"가\", \"나\", \"다\", \"라\"]\n",
    "\n",
    "for i in range(len(my_list)-1) :\n",
    "    print(my_list[i], my_list[i+1])"
   ]
  },
  {
   "cell_type": "markdown",
   "id": "07ba4027",
   "metadata": {},
   "source": [
    "176\n",
    "리스트를 아래와 같이 출력하라.\n",
    "\n",
    "my_list = [\"가\", \"나\", \"다\", \"라\", \"마\"]\n",
    "가 나 다\n",
    "나 다 라\n",
    "다 라 마"
   ]
  },
  {
   "cell_type": "code",
   "execution_count": 219,
   "id": "dba2e1cd",
   "metadata": {
    "ExecuteTime": {
     "end_time": "2023-11-29T04:15:56.949729Z",
     "start_time": "2023-11-29T04:15:56.944235Z"
    }
   },
   "outputs": [
    {
     "name": "stdout",
     "output_type": "stream",
     "text": [
      "가 나 다\n",
      "나 다 라\n",
      "다 라 마\n"
     ]
    }
   ],
   "source": [
    "my_list = [\"가\", \"나\", \"다\", \"라\", \"마\"]\n",
    "\n",
    "for i in range(len(my_list)-2) :\n",
    "    print(my_list[i], my_list[i+1], my_list[i+2])"
   ]
  },
  {
   "cell_type": "markdown",
   "id": "5c847e91",
   "metadata": {},
   "source": [
    "177\n",
    "반복문과 range 함수를 사용해서 my_list를 아래와 같이 출력하라.\n",
    "\n",
    "my_list = [\"가\", \"나\", \"다\", \"라\"]\n",
    "라 다\n",
    "다 나\n",
    "나 가"
   ]
  },
  {
   "cell_type": "code",
   "execution_count": 228,
   "id": "d9dda25e",
   "metadata": {
    "ExecuteTime": {
     "end_time": "2023-11-29T04:19:24.692154Z",
     "start_time": "2023-11-29T04:19:24.686024Z"
    }
   },
   "outputs": [
    {
     "name": "stdout",
     "output_type": "stream",
     "text": [
      "라 다\n",
      "다 나\n",
      "나 가\n"
     ]
    }
   ],
   "source": [
    "my_list = [\"가\", \"나\", \"다\", \"라\"]\n",
    "\n",
    "for i in range(len(my_list)-1) :\n",
    "    print(my_list[len(my_list) -1 -i], my_list[len(my_list) -2 -i])"
   ]
  },
  {
   "cell_type": "markdown",
   "id": "f524e6b0",
   "metadata": {},
   "source": [
    "178\n",
    "리스트에는 네 개의 정수가 저장되어 있다. 각각의 데이터에 대해서 자신과 우측값과의 차분값을 화면에 출력하라.\n",
    "\n",
    "my_list = [100, 200, 400, 800]\n",
    "예를들어 100을 기준으로 우측에 위치한 200과의 차분 값를 화면에 출력하고, 200을 기준으로 우측에 위치한 400과의 차분값을 화면에 출력한다. 이어서 400을 기준으로 우측에 위치한 800과의 차분값을 화면에 출력한다.\n",
    "\n",
    "100\n",
    "200\n",
    "400"
   ]
  },
  {
   "cell_type": "code",
   "execution_count": 230,
   "id": "881c843a",
   "metadata": {
    "ExecuteTime": {
     "end_time": "2023-11-29T04:22:05.532188Z",
     "start_time": "2023-11-29T04:22:05.526365Z"
    }
   },
   "outputs": [
    {
     "name": "stdout",
     "output_type": "stream",
     "text": [
      "100\n",
      "200\n",
      "400\n"
     ]
    }
   ],
   "source": [
    "my_list = [100, 200, 400, 800]\n",
    "\n",
    "for i in range(len(my_list) -1) :\n",
    "    print(my_list[i+1] - my_list[i])"
   ]
  },
  {
   "cell_type": "markdown",
   "id": "11f6adb1",
   "metadata": {},
   "source": [
    "179\n",
    "리스트에는 6일 간의 종가 데이터가 저장되어 있다. 종가 데이터의 3일 이동 평균을 계산하고 이를 화면에 출력하라.\n",
    "\n",
    "my_list = [100, 200, 400, 800, 1000, 1300]\n",
    "첫 번째 줄에는 100, 200, 400의 평균값이 출력된다. 두 번째 줄에는 200, 400, 800의 평균값이 출력된다. 같은 방식으로 나머지 데이터의 평균을 출력한다.\n",
    "\n",
    "233.33333333333334\n",
    "466.6666666666667\n",
    "733.3333333333334\n",
    "1033.3333333333333"
   ]
  },
  {
   "cell_type": "code",
   "execution_count": 262,
   "id": "098b6cfa",
   "metadata": {
    "ExecuteTime": {
     "end_time": "2023-11-29T04:41:32.786332Z",
     "start_time": "2023-11-29T04:41:32.781070Z"
    }
   },
   "outputs": [
    {
     "name": "stdout",
     "output_type": "stream",
     "text": [
      "233.33333333333334\n",
      "466.6666666666667\n",
      "733.3333333333334\n",
      "1033.3333333333333\n"
     ]
    }
   ],
   "source": [
    "my_list = [100, 200, 400, 800, 1000, 1300]\n",
    "sum = 0\n",
    "\n",
    "for i in range(1, len(my_list) -1) :\n",
    "    print((my_list[i-1] + my_list[i] + my_list[i+1]) / 3)"
   ]
  },
  {
   "cell_type": "markdown",
   "id": "a253d8ed",
   "metadata": {},
   "source": [
    "180\n",
    "리스트에 5일간의 저가, 고가 정보가 저장돼 있다. 고가와 저가의 차를 변동폭이라고 정의할 때, low, high 두 개의 리스트를 사용해서 5일간의 변동폭을 volatility 리스트에 저장하라.\n",
    "\n",
    "low_prices  = [100, 200, 400, 800, 1000]\n",
    "high_prices = [150, 300, 430, 880, 1000]"
   ]
  },
  {
   "cell_type": "code",
   "execution_count": 265,
   "id": "9dd288ba",
   "metadata": {
    "ExecuteTime": {
     "end_time": "2023-11-29T04:48:36.042835Z",
     "start_time": "2023-11-29T04:48:36.036742Z"
    }
   },
   "outputs": [
    {
     "name": "stdout",
     "output_type": "stream",
     "text": [
      "[50, 100, 30, 80, 0]\n"
     ]
    }
   ],
   "source": [
    "low_prices  = [100, 200, 400, 800, 1000]\n",
    "high_prices = [150, 300, 430, 880, 1000]\n",
    "volatility = []\n",
    "\n",
    "for i in range(len(low_prices)) :\n",
    "    low = low_prices[i]\n",
    "    high = high_prices[i]\n",
    "    volatility.append(high - low)\n",
    "print(volatility)\n",
    "        \n",
    "    \n",
    "## for i in range(len(low_prices)) :\n",
    "##    volatility.append(hight_price[i] - low_price[i])"
   ]
  },
  {
   "cell_type": "markdown",
   "id": "ea02e00c",
   "metadata": {},
   "source": [
    "181\n",
    "아래 표에서 하나의 행을 하나의 리스트로, 총 3개의 리스트를 갖는 이차원 리스트 apart를 정의하라.\n",
    "\n",
    "101호\t102호\n",
    "201호\t202호\n",
    "301호\t302호"
   ]
  },
  {
   "cell_type": "code",
   "execution_count": 266,
   "id": "e40edb2c",
   "metadata": {
    "ExecuteTime": {
     "end_time": "2023-11-29T05:02:00.234099Z",
     "start_time": "2023-11-29T05:02:00.226185Z"
    }
   },
   "outputs": [
    {
     "data": {
      "text/plain": [
       "[['101호', '102호'], ['201호', '202호'], ['301호', '302호']]"
      ]
     },
     "execution_count": 266,
     "metadata": {},
     "output_type": "execute_result"
    }
   ],
   "source": [
    "apart = [['101호', '102호'], ['201호', '202호'], ['301호', '302호']]\n",
    "apart"
   ]
  },
  {
   "cell_type": "markdown",
   "id": "0e8160a3",
   "metadata": {},
   "source": [
    "182\n",
    "아래 표에서 하나의 열을 하나의 리스트로, 총 2개의 리스트를 갖는 이차원 리스트 stock을 정의하라.\n",
    "\n",
    "시가\t종가\n",
    "100\t80\n",
    "200\t210\n",
    "300\t330"
   ]
  },
  {
   "cell_type": "code",
   "execution_count": 268,
   "id": "69c381b3",
   "metadata": {
    "ExecuteTime": {
     "end_time": "2023-11-29T05:05:35.088168Z",
     "start_time": "2023-11-29T05:05:35.081313Z"
    }
   },
   "outputs": [
    {
     "data": {
      "text/plain": [
       "[['시가', 100, 200, 300], ['종가', 80, 210, 330]]"
      ]
     },
     "execution_count": 268,
     "metadata": {},
     "output_type": "execute_result"
    }
   ],
   "source": [
    "stock = [['시가', 100, 200, 300], ['종가', 80, 210, 330]]\n",
    "stock"
   ]
  },
  {
   "cell_type": "markdown",
   "id": "3cfafe33",
   "metadata": {},
   "source": [
    "183\n",
    "아래 표를 stock 이름의 딕셔너리로 표현하라.시가를 key로 저장하고, 나머지 같은 열의 데이터를 리스트로 저장해서 value로 저장한다. 종가 역시 key로 저장하고 나머지 같은 열의 데이터를 리스트로 저장해서 value로 저장한다.\n",
    "\n",
    "시가\t종가\n",
    "100\t80\n",
    "200\t210\n",
    "300\t330"
   ]
  },
  {
   "cell_type": "code",
   "execution_count": 269,
   "id": "473c9b9d",
   "metadata": {
    "ExecuteTime": {
     "end_time": "2023-11-29T05:06:05.881086Z",
     "start_time": "2023-11-29T05:06:05.873595Z"
    }
   },
   "outputs": [
    {
     "data": {
      "text/plain": [
       "{'시가': [100, 200, 300], '종가': [80, 210, 330]}"
      ]
     },
     "execution_count": 269,
     "metadata": {},
     "output_type": "execute_result"
    }
   ],
   "source": [
    "stock = {'시가' : [100, 200, 300], '종가' : [80, 210, 330]}\n",
    "stock"
   ]
  },
  {
   "cell_type": "markdown",
   "id": "972b2907",
   "metadata": {},
   "source": [
    "184\n",
    "아래 표를 stock 이라는 이름의 딕셔너리로 표현하라. 날짜를 key로 저장하고, 나머지 같은 행의 데이터를 리스트로 저장해서 value로 저장한다. 첫 열이 날짜이다.\n",
    "\n",
    "10/10\t80\t110\t70\t90\n",
    "10/11\t210\t230\t190\t200"
   ]
  },
  {
   "cell_type": "code",
   "execution_count": 270,
   "id": "1d0acfc7",
   "metadata": {
    "ExecuteTime": {
     "end_time": "2023-11-29T05:08:21.127913Z",
     "start_time": "2023-11-29T05:08:21.121524Z"
    }
   },
   "outputs": [
    {
     "data": {
      "text/plain": [
       "{'10/10': [80, 110, 70, 90], '10/11': [210, 230, 190, 200]}"
      ]
     },
     "execution_count": 270,
     "metadata": {},
     "output_type": "execute_result"
    }
   ],
   "source": [
    "stock = {'10/10' : [80, 110, 70, 90], '10/11' : [210, 230, 190, 200]}\n",
    "stock"
   ]
  },
  {
   "cell_type": "markdown",
   "id": "4b4fd402",
   "metadata": {},
   "source": [
    "185\n",
    "리스트에 저장된 데이터를 아래와 같이 출력하라.\n",
    "\n",
    "apart = [ [101, 102], [201, 202], [301, 302] ]\n",
    "101 호\n",
    "102 호\n",
    "201 호\n",
    "202 호\n",
    "301 호\n",
    "302 호"
   ]
  },
  {
   "cell_type": "code",
   "execution_count": 274,
   "id": "e2110a96",
   "metadata": {
    "ExecuteTime": {
     "end_time": "2023-11-29T05:11:20.174216Z",
     "start_time": "2023-11-29T05:11:20.167980Z"
    }
   },
   "outputs": [
    {
     "name": "stdout",
     "output_type": "stream",
     "text": [
      "101 호\n",
      "102 호\n",
      "201 호\n",
      "202 호\n",
      "301 호\n",
      "302 호\n"
     ]
    }
   ],
   "source": [
    "apart = [ [101, 102], [201, 202], [301, 302] ]\n",
    "\n",
    "for i in apart :\n",
    "    for j in i :\n",
    "        print(j, '호')"
   ]
  },
  {
   "cell_type": "markdown",
   "id": "0bad2e6d",
   "metadata": {},
   "source": [
    "186\n",
    "리스트에 저장된 데이터를 아래와 같이 출력하라.\n",
    "\n",
    "apart = [ [101, 102], [201, 202], [301, 302] ]\n",
    "301 호\n",
    "302 호\n",
    "201 호\n",
    "202 호\n",
    "101 호\n",
    "102 호"
   ]
  },
  {
   "cell_type": "code",
   "execution_count": 291,
   "id": "855c6138",
   "metadata": {
    "ExecuteTime": {
     "end_time": "2023-11-29T05:16:21.237039Z",
     "start_time": "2023-11-29T05:16:21.231338Z"
    }
   },
   "outputs": [
    {
     "name": "stdout",
     "output_type": "stream",
     "text": [
      "301 호\n",
      "302 호\n",
      "201 호\n",
      "202 호\n",
      "101 호\n",
      "102 호\n"
     ]
    }
   ],
   "source": [
    "apart = [ [101, 102], [201, 202], [301, 302] ]\n",
    "apart.reverse()\n",
    "for i in apart :\n",
    "    for j in i :\n",
    "        print(j, '호')\n",
    "        \n",
    "#for row in apart[::-1]:\n",
    "#    for col in row:\n",
    "#        print(col, \"호\")"
   ]
  },
  {
   "cell_type": "markdown",
   "id": "dc1b7f2a",
   "metadata": {},
   "source": [
    "187\n",
    "리스트에 저장된 데이터를 아래와 같이 출력하라.\n",
    "\n",
    "apart = [ [101, 102], [201, 202], [301, 302] ]\n",
    "302 호\n",
    "301 호\n",
    "202 호\n",
    "201 호\n",
    "102 호\n",
    "101 호"
   ]
  },
  {
   "cell_type": "code",
   "execution_count": 292,
   "id": "d1639415",
   "metadata": {
    "ExecuteTime": {
     "end_time": "2023-11-29T05:19:58.583385Z",
     "start_time": "2023-11-29T05:19:58.576779Z"
    }
   },
   "outputs": [
    {
     "name": "stdout",
     "output_type": "stream",
     "text": [
      "302 호\n",
      "301 호\n",
      "202 호\n",
      "201 호\n",
      "102 호\n",
      "101 호\n"
     ]
    }
   ],
   "source": [
    "apart = [ [101, 102], [201, 202], [301, 302] ]\n",
    "\n",
    "for i in apart[::-1] :\n",
    "    for j in i[::-1] :\n",
    "        print(j, '호')"
   ]
  },
  {
   "cell_type": "markdown",
   "id": "ac550c29",
   "metadata": {},
   "source": [
    "188\n",
    "리스트에 저장된 데이터를 아래와 같이 출력하라.\n",
    "\n",
    "apart = [ [101, 102], [201, 202], [301, 302] ]\n",
    "101 호\n",
    "-----\n",
    "102 호\n",
    "-----\n",
    "201 호\n",
    "-----\n",
    "202 호\n",
    "-----\n",
    "301 호\n",
    "-----\n",
    "302 호\n",
    "-----"
   ]
  },
  {
   "cell_type": "code",
   "execution_count": 294,
   "id": "bfebc3ca",
   "metadata": {
    "ExecuteTime": {
     "end_time": "2023-11-29T05:25:16.876358Z",
     "start_time": "2023-11-29T05:25:16.870204Z"
    }
   },
   "outputs": [
    {
     "name": "stdout",
     "output_type": "stream",
     "text": [
      "101 호\n",
      "-----\n",
      "102 호\n",
      "-----\n",
      "201 호\n",
      "-----\n",
      "202 호\n",
      "-----\n",
      "301 호\n",
      "-----\n",
      "302 호\n",
      "-----\n"
     ]
    }
   ],
   "source": [
    "apart = [ [101, 102], [201, 202], [301, 302] ]\n",
    "\n",
    "for i in apart :\n",
    "    for j in i :\n",
    "        print(j, '호')\n",
    "        print('-----')\n",
    "        \n",
    "        \n",
    "        # print('-' * 5)"
   ]
  },
  {
   "cell_type": "markdown",
   "id": "9aa567ac",
   "metadata": {},
   "source": [
    "189\n",
    "리스트에 저장된 데이터를 아래와 같이 출력하라.\n",
    "\n",
    "apart = [ [101, 102], [201, 202], [301, 302] ]\n",
    "101 호\n",
    "102 호\n",
    "-----\n",
    "201 호\n",
    "202 호\n",
    "-----\n",
    "301 호\n",
    "302 호\n",
    "-----\n"
   ]
  },
  {
   "cell_type": "code",
   "execution_count": 295,
   "id": "22846dbb",
   "metadata": {
    "ExecuteTime": {
     "end_time": "2023-11-29T05:25:57.117925Z",
     "start_time": "2023-11-29T05:25:57.111697Z"
    }
   },
   "outputs": [
    {
     "name": "stdout",
     "output_type": "stream",
     "text": [
      "101 호\n",
      "102 호\n",
      "-----\n",
      "201 호\n",
      "202 호\n",
      "-----\n",
      "301 호\n",
      "302 호\n",
      "-----\n"
     ]
    }
   ],
   "source": [
    "apart = [ [101, 102], [201, 202], [301, 302] ]\n",
    "\n",
    "for i in apart :\n",
    "    for j in i :\n",
    "        print(j, '호')\n",
    "    print('-' * 5)"
   ]
  },
  {
   "cell_type": "markdown",
   "id": "a90a374c",
   "metadata": {},
   "source": [
    "190\n",
    "리스트에 저장된 데이터를 아래와 같이 출력하라.\n",
    "\n",
    "apart = [ [101, 102], [201, 202], [301, 302] ]\n",
    "101 호\n",
    "102 호\n",
    "201 호\n",
    "202 호\n",
    "301 호\n",
    "302 호\n",
    "-----"
   ]
  },
  {
   "cell_type": "code",
   "execution_count": 296,
   "id": "0ffc895d",
   "metadata": {
    "ExecuteTime": {
     "end_time": "2023-11-29T05:26:17.323932Z",
     "start_time": "2023-11-29T05:26:17.318217Z"
    }
   },
   "outputs": [
    {
     "name": "stdout",
     "output_type": "stream",
     "text": [
      "101 호\n",
      "102 호\n",
      "201 호\n",
      "202 호\n",
      "301 호\n",
      "302 호\n",
      "-----\n"
     ]
    }
   ],
   "source": [
    "apart = [ [101, 102], [201, 202], [301, 302] ]\n",
    "\n",
    "for i in apart :\n",
    "    for j in i :\n",
    "        print(j, '호')\n",
    "print('-' * 5)"
   ]
  },
  {
   "cell_type": "markdown",
   "id": "26827e44",
   "metadata": {},
   "source": [
    "191\n",
    "data에는 매수한 종목들의 OHLC (open/high/low/close) 가격 정보가 바인딩 되어있다.\n",
    "\n",
    "data = [\n",
    "    [ 2000,  3050,  2050,  1980],\n",
    "    [ 7500,  2050,  2050,  1980],\n",
    "    [15450, 15050, 15550, 14900]\n",
    "]\n",
    "\n",
    "수수료를 0.014 %로 가정할 때, 각 가격에 수수료를 포함한 가격을 한라인에 하나씩 출력하라.\n",
    "\n",
    "2000.28\n",
    "3050.427\n",
    "2050.2870000000003\n",
    "..."
   ]
  },
  {
   "cell_type": "code",
   "execution_count": 316,
   "id": "dfc4813a",
   "metadata": {
    "ExecuteTime": {
     "end_time": "2023-11-29T05:37:01.915372Z",
     "start_time": "2023-11-29T05:37:01.908799Z"
    }
   },
   "outputs": [
    {
     "name": "stdout",
     "output_type": "stream",
     "text": [
      "2000.28\n",
      "3050.427\n",
      "2050.287\n",
      "1980.2772\n",
      "7501.05\n",
      "2050.287\n",
      "2050.287\n",
      "1980.2772\n",
      "15452.163\n",
      "15052.107\n",
      "15552.177\n",
      "14902.086\n"
     ]
    }
   ],
   "source": [
    "data = [\n",
    "    [ 2000,  3050,  2050,  1980],\n",
    "    [ 7500,  2050,  2050,  1980],\n",
    "    [15450, 15050, 15550, 14900]\n",
    "]\n",
    "\n",
    "수수료 = 0.00014\n",
    "\n",
    "for i in data : \n",
    "    for j in i :\n",
    "        value = j + j * 수수료\n",
    "        print(value)"
   ]
  },
  {
   "cell_type": "markdown",
   "id": "e4e5e9c8",
   "metadata": {},
   "source": [
    "192\n",
    "191번의 출력 결과에 행단위로 \"----\" 구분자를 추가하라.\n",
    "\n",
    "2000.28\n",
    "3050.427\n",
    "2050.2870000000003\n",
    "1980.2772\n",
    "----\n",
    "7501.05\n",
    "2050.2870000000003\n",
    "2050.2870000000003\n",
    "1980.2772\n",
    "----\n",
    "15452.163\n",
    "15052.107\n",
    "15552.177\n",
    "14902.086000000001\n",
    "----"
   ]
  },
  {
   "cell_type": "code",
   "execution_count": 317,
   "id": "aafa8ed1",
   "metadata": {
    "ExecuteTime": {
     "end_time": "2023-11-29T05:38:02.603893Z",
     "start_time": "2023-11-29T05:38:02.598038Z"
    }
   },
   "outputs": [
    {
     "name": "stdout",
     "output_type": "stream",
     "text": [
      "2000.28\n",
      "3050.427\n",
      "2050.287\n",
      "1980.2772\n",
      "----\n",
      "7501.05\n",
      "2050.287\n",
      "2050.287\n",
      "1980.2772\n",
      "----\n",
      "15452.163\n",
      "15052.107\n",
      "15552.177\n",
      "14902.086\n",
      "----\n"
     ]
    }
   ],
   "source": [
    "data = [\n",
    "    [ 2000,  3050,  2050,  1980],\n",
    "    [ 7500,  2050,  2050,  1980],\n",
    "    [15450, 15050, 15550, 14900]\n",
    "]\n",
    "\n",
    "수수료 = 0.00014\n",
    "\n",
    "for i in data : \n",
    "    for j in i :\n",
    "        value = j + j * 수수료\n",
    "        print(value)\n",
    "    print('-'*4)"
   ]
  },
  {
   "cell_type": "markdown",
   "id": "a7af55db",
   "metadata": {},
   "source": [
    "193\n",
    "192 번 문제의 결괏값을 result 이름의 리스트에 1차원 배열로 저장하라.\n",
    "\n",
    ">> print(result)\n",
    "[2000.28, 3050.427, 2050.2870000000003, 1980.2772, 7501.05, 2050.2870000000003, 2050.2870000000003, ...]"
   ]
  },
  {
   "cell_type": "code",
   "execution_count": 320,
   "id": "d5aab6fd",
   "metadata": {
    "ExecuteTime": {
     "end_time": "2023-11-29T05:39:38.692408Z",
     "start_time": "2023-11-29T05:39:38.686345Z"
    }
   },
   "outputs": [
    {
     "name": "stdout",
     "output_type": "stream",
     "text": [
      "[2000.28, 3050.427, 2050.287, 1980.2772, 7501.05, 2050.287, 2050.287, 1980.2772, 15452.163, 15052.107, 15552.177, 14902.086]\n"
     ]
    }
   ],
   "source": [
    "data = [\n",
    "    [ 2000,  3050,  2050,  1980],\n",
    "    [ 7500,  2050,  2050,  1980],\n",
    "    [15450, 15050, 15550, 14900]\n",
    "]\n",
    "\n",
    "result = []\n",
    "\n",
    "수수료 = 0.00014\n",
    "\n",
    "for i in data : \n",
    "    for j in i :\n",
    "        value = j + j * 수수료\n",
    "        result.append(value)\n",
    "print(result) "
   ]
  },
  {
   "cell_type": "markdown",
   "id": "aaf5ba51",
   "metadata": {},
   "source": [
    "194\n",
    "191번 문제의 결괏값을 result 이름의 리스트에 2차원 배열로 저장하라. 저장 포맷은 아래와 같다. 각 행에 대한 데이터끼리 리스트에 저장되어야 한다.\n",
    "\n",
    ">> print(result)\n",
    "[\n",
    " [2000.28, 3050.427, 2050.2870000000003, 1980.2772],\n",
    " [7501.05, 2050.2870000000003, 2050.2870000000003, 1980.2772],\n",
    " [15452.163, 15052.107, 15552.177, 14902.086000000001]\n",
    "]"
   ]
  },
  {
   "cell_type": "code",
   "execution_count": 327,
   "id": "b412fca0",
   "metadata": {
    "ExecuteTime": {
     "end_time": "2023-11-29T05:50:18.145991Z",
     "start_time": "2023-11-29T05:50:18.138412Z"
    }
   },
   "outputs": [
    {
     "name": "stdout",
     "output_type": "stream",
     "text": [
      "[[2000.28, 3050.427, 2050.287, 1980.2772], [7501.05, 2050.287, 2050.287, 1980.2772], [15452.163, 15052.107, 15552.177, 14902.086]]\n"
     ]
    }
   ],
   "source": [
    "data = [\n",
    "    [ 2000,  3050,  2050,  1980],\n",
    "    [ 7500,  2050,  2050,  1980],\n",
    "    [15450, 15050, 15550, 14900]\n",
    "]\n",
    "\n",
    "result = []\n",
    "수수료 = 0.00014\n",
    "\n",
    "for i in data : \n",
    "    list1 = []\n",
    "    for j in i :\n",
    "        value = j + j * 수수료\n",
    "        list1.append(value)\n",
    "    result.append(list1)\n",
    "print(result) "
   ]
  },
  {
   "cell_type": "markdown",
   "id": "b07c4778",
   "metadata": {},
   "source": [
    "195\n",
    "ohlc 리스트에는 시가(open), 고가 (high), 저가 (low) , 종가(close)가 날짜별로 저장돼 있다. 화면에 종가데이터를 출력하라.\n",
    "\n",
    "ohlc = [[\"open\", \"high\", \"low\", \"close\"],\n",
    "        [100, 110, 70, 100],\n",
    "        [200, 210, 180, 190],\n",
    "        [300, 310, 300, 310]]\n",
    "100\n",
    "190\n",
    "310"
   ]
  },
  {
   "cell_type": "code",
   "execution_count": 360,
   "id": "6df55215",
   "metadata": {
    "ExecuteTime": {
     "end_time": "2023-11-29T06:09:25.311699Z",
     "start_time": "2023-11-29T06:09:25.303657Z"
    }
   },
   "outputs": [
    {
     "name": "stdout",
     "output_type": "stream",
     "text": [
      "100\n",
      "190\n",
      "310\n",
      "100\n",
      "190\n",
      "310\n"
     ]
    }
   ],
   "source": [
    "ohlc = [[\"open\", \"high\", \"low\", \"close\"],\n",
    "        [100, 110, 70, 100],\n",
    "        [200, 210, 180, 190],\n",
    "        [300, 310, 300, 310]]\n",
    "\n",
    "\n",
    "\n",
    "for i in ohlc[1:] :\n",
    "    count = 0\n",
    "    for j in i :\n",
    "        count += 1\n",
    "        if count == 4 :\n",
    "            print(j)\n",
    "            \n",
    "            \n",
    "#for row in ohlc[1:] :\n",
    "#    print(row[3])"
   ]
  },
  {
   "cell_type": "markdown",
   "id": "a054e17a",
   "metadata": {},
   "source": [
    "196\n",
    "ohlc 리스트에는 시가(open), 고가 (high), 저가 (low) , 종가(close)가 날짜별로 저장돼 있다. 종가가 150원보다 큰경우에만 종가를 출력하라.\n",
    "\n",
    "ohlc = [[\"open\", \"high\", \"low\", \"close\"],\n",
    "        [100, 110, 70, 100],\n",
    "        [200, 210, 180, 190],\n",
    "        [300, 310, 300, 310]]\n",
    "190\n",
    "310"
   ]
  },
  {
   "cell_type": "code",
   "execution_count": 361,
   "id": "fa3d68de",
   "metadata": {
    "ExecuteTime": {
     "end_time": "2023-11-29T06:10:35.967607Z",
     "start_time": "2023-11-29T06:10:35.960589Z"
    }
   },
   "outputs": [
    {
     "name": "stdout",
     "output_type": "stream",
     "text": [
      "190\n",
      "310\n"
     ]
    }
   ],
   "source": [
    "ohlc = [[\"open\", \"high\", \"low\", \"close\"],\n",
    "        [100, 110, 70, 100],\n",
    "        [200, 210, 180, 190],\n",
    "        [300, 310, 300, 310]]\n",
    "         \n",
    "           \n",
    "for row in ohlc[1:] :\n",
    "    if row[3] > 150 :\n",
    "        print(row[3])"
   ]
  },
  {
   "cell_type": "markdown",
   "id": "a970cce1",
   "metadata": {},
   "source": [
    "197\n",
    "ohlc 리스트에는 시가(open), 고가 (high), 저가 (low) , 종가(close)가 날짜별로 저장돼 있다. 종가가 시가 보다 크거나 같은 경우에만 종가를 출력하라.\n",
    "\n",
    "ohlc = [[\"open\", \"high\", \"low\", \"close\"],\n",
    "        [100, 110, 70, 100],\n",
    "        [200, 210, 180, 190],\n",
    "        [300, 310, 300, 310]]\n",
    "100\n",
    "310"
   ]
  },
  {
   "cell_type": "code",
   "execution_count": 362,
   "id": "2b54e0d2",
   "metadata": {
    "ExecuteTime": {
     "end_time": "2023-11-29T06:12:28.111148Z",
     "start_time": "2023-11-29T06:12:28.104620Z"
    }
   },
   "outputs": [
    {
     "name": "stdout",
     "output_type": "stream",
     "text": [
      "100\n",
      "310\n"
     ]
    }
   ],
   "source": [
    "ohlc = [[\"open\", \"high\", \"low\", \"close\"],\n",
    "        [100, 110, 70, 100],\n",
    "        [200, 210, 180, 190],\n",
    "        [300, 310, 300, 310]]\n",
    "         \n",
    "           \n",
    "for row in ohlc[1:] :\n",
    "    if row[3] >= row[0] :\n",
    "        print(row[3])"
   ]
  },
  {
   "cell_type": "markdown",
   "id": "a9bcf4c4",
   "metadata": {},
   "source": [
    "198\n",
    "ohlc 리스트에는 시가(open), 고가 (high), 저가 (low) , 종가(close)가 날짜별로 저장돼 있다. 고가와 저가의 차이를 변동폭으로 정의할 때 변동폭을 volatility 이름의 리스트에 저장하라.\n",
    "\n",
    "ohlc = [[\"open\", \"high\", \"low\", \"close\"],\n",
    "        [100, 110, 70, 100],\n",
    "        [200, 210, 180, 190],\n",
    "        [300, 310, 300, 310]]\n",
    ">> print(volatility)\n",
    "[40, 30, 10]"
   ]
  },
  {
   "cell_type": "code",
   "execution_count": 366,
   "id": "0e9b440a",
   "metadata": {
    "ExecuteTime": {
     "end_time": "2023-11-29T06:14:43.789300Z",
     "start_time": "2023-11-29T06:14:43.782354Z"
    }
   },
   "outputs": [
    {
     "name": "stdout",
     "output_type": "stream",
     "text": [
      "[40, 30, 10]\n"
     ]
    }
   ],
   "source": [
    "ohlc = [[\"open\", \"high\", \"low\", \"close\"],\n",
    "        [100, 110, 70, 100],\n",
    "        [200, 210, 180, 190],\n",
    "        [300, 310, 300, 310]]\n",
    "         \n",
    "volatility = []           \n",
    "for row in ohlc[1:] :\n",
    "    volatility.append(row[1] - row[2])\n",
    "print(volatility)"
   ]
  },
  {
   "cell_type": "markdown",
   "id": "fde4c9f2",
   "metadata": {},
   "source": [
    "199\n",
    "리스트에는 3일 간의 ohlc 데이터가 저장돼 있다. 종가가 시가보다 높은 날의 변동성 (고가 - 저가)을 화면에 출력하라.\n",
    "\n",
    "ohlc = [[\"open\", \"high\", \"low\", \"close\"],\n",
    "        [100, 110, 70, 100],\n",
    "        [200, 210, 180, 190],\n",
    "        [300, 310, 300, 310]]\n",
    "종가가 시가보다 높은 거래일의 OHLC는 [300, 310, 300, 310] 이다. 따라서 이 거래일의 변동성은 10 (310 - 300)이다.\n",
    "\n",
    "10"
   ]
  },
  {
   "cell_type": "code",
   "execution_count": 369,
   "id": "a2ba76ac",
   "metadata": {
    "ExecuteTime": {
     "end_time": "2023-11-29T06:18:56.452687Z",
     "start_time": "2023-11-29T06:18:56.446210Z"
    }
   },
   "outputs": [
    {
     "name": "stdout",
     "output_type": "stream",
     "text": [
      "10\n"
     ]
    }
   ],
   "source": [
    "ohlc = [[\"open\", \"high\", \"low\", \"close\"],\n",
    "        [100, 110, 70, 100],\n",
    "        [200, 210, 180, 190],\n",
    "        [300, 310, 300, 310]]\n",
    "         \n",
    "for row in ohlc[1:] :\n",
    "    if row[3] > row[0] :\n",
    "        volatility = row[1] - row[2]\n",
    "        print(volatility)\n",
    "        \n",
    "#for row in ohlc[1:]:\n",
    "#    if row[3] > row[0]:\n",
    "#        print(row[1]-row[2])\n"
   ]
  },
  {
   "cell_type": "markdown",
   "id": "642816d0",
   "metadata": {},
   "source": [
    "200\n",
    "리스트에는 3일 간의 ohlc 데이터가 저장돼 있다. 시가에 매수해서 종가에 매도 했을 경우 총 수익금을 계산하라.\n",
    "\n",
    "ohlc = [[\"open\", \"high\", \"low\", \"close\"],\n",
    "        [100, 110, 70, 100],\n",
    "        [200, 210, 180, 190],\n",
    "        [300, 310, 300, 310]]\n",
    "1일차 수익 0원 (100 - 100), 2일차 수익 -10원 (190 - 200), 3일차 수익 10원 (310 - 300) 이다.\n",
    "\n",
    "0"
   ]
  },
  {
   "cell_type": "code",
   "execution_count": 378,
   "id": "edd183bb",
   "metadata": {
    "ExecuteTime": {
     "end_time": "2023-11-29T06:23:48.373016Z",
     "start_time": "2023-11-29T06:23:48.365724Z"
    },
    "scrolled": true
   },
   "outputs": [
    {
     "name": "stdout",
     "output_type": "stream",
     "text": [
      "1일차 수익 0원 (100 - 100)\n",
      "2일차 수익 -10원 (190 - 200)\n",
      "3일차 수익 10원 (310 - 300)\n"
     ]
    }
   ],
   "source": [
    "ohlc = [[\"open\", \"high\", \"low\", \"close\"],\n",
    "        [100, 110, 70, 100],\n",
    "        [200, 210, 180, 190],\n",
    "        [300, 310, 300, 310]]\n",
    "         \n",
    "일차 = 0\n",
    "\n",
    "for row in ohlc[1:] :\n",
    "    일차 += 1\n",
    "    시가 = row[0]\n",
    "    종가 = row[3]\n",
    "    수익 = row[3] - row[0]\n",
    "    print(f'{일차}일차 수익 {수익}원 ({종가} - {시가})')"
   ]
  },
  {
   "cell_type": "code",
   "execution_count": 382,
   "id": "86200d9f",
   "metadata": {
    "ExecuteTime": {
     "end_time": "2023-11-29T06:28:15.141442Z",
     "start_time": "2023-11-29T06:28:15.134156Z"
    }
   },
   "outputs": [
    {
     "name": "stdout",
     "output_type": "stream",
     "text": [
      "0\n"
     ]
    }
   ],
   "source": [
    "ohlc = [[\"open\", \"high\", \"low\", \"close\"],\n",
    "        [100, 110, 70, 100],\n",
    "        [200, 210, 180, 190],\n",
    "        [300, 310, 300, 310]]\n",
    "수익 = 0   \n",
    "총수익 = 0\n",
    "for row in ohlc[1:] :\n",
    "    시가 = row[0]\n",
    "    종가 = row[3]\n",
    "    수익 = row[3] - row[0]\n",
    "    총수익 = 총수익 + 수익\n",
    "print(총수익)\n",
    "\n",
    "\n",
    "# profit = 0\n",
    "# for row in ohlc[1:] :\n",
    "#    profit += (row[3] - row[0])"
   ]
  },
  {
   "cell_type": "markdown",
   "id": "6ce95c86",
   "metadata": {},
   "source": [
    "201\n",
    "\"비트코인\" 문자열을 화면에 출력하는 print_coin() 함수를 정의하라."
   ]
  },
  {
   "cell_type": "code",
   "execution_count": 15,
   "id": "14274066",
   "metadata": {
    "ExecuteTime": {
     "end_time": "2023-11-30T11:25:24.810352Z",
     "start_time": "2023-11-30T11:25:24.802351Z"
    }
   },
   "outputs": [],
   "source": [
    "def print_coin() :\n",
    "    print('비트코인')"
   ]
  },
  {
   "cell_type": "markdown",
   "id": "28f90093",
   "metadata": {},
   "source": [
    "202\n",
    "201번에서 정의한 함수를 호출하라."
   ]
  },
  {
   "cell_type": "code",
   "execution_count": 16,
   "id": "113fa5d2",
   "metadata": {
    "ExecuteTime": {
     "end_time": "2023-11-30T11:27:16.196591Z",
     "start_time": "2023-11-30T11:27:16.193217Z"
    }
   },
   "outputs": [
    {
     "name": "stdout",
     "output_type": "stream",
     "text": [
      "비트코인\n"
     ]
    }
   ],
   "source": [
    "print_coin()"
   ]
  },
  {
   "cell_type": "markdown",
   "id": "2c44e88b",
   "metadata": {},
   "source": [
    "203\n",
    "201번에서 정의한 print_coin 함수를 100번호출하라."
   ]
  },
  {
   "cell_type": "code",
   "execution_count": 17,
   "id": "a36a23f8",
   "metadata": {
    "ExecuteTime": {
     "end_time": "2023-11-30T11:27:16.196591Z",
     "start_time": "2023-11-30T11:27:16.193217Z"
    }
   },
   "outputs": [
    {
     "name": "stdout",
     "output_type": "stream",
     "text": [
      "비트코인\n",
      "비트코인\n",
      "비트코인\n",
      "비트코인\n",
      "비트코인\n",
      "비트코인\n",
      "비트코인\n",
      "비트코인\n",
      "비트코인\n",
      "비트코인\n",
      "비트코인\n",
      "비트코인\n",
      "비트코인\n",
      "비트코인\n",
      "비트코인\n",
      "비트코인\n",
      "비트코인\n",
      "비트코인\n",
      "비트코인\n",
      "비트코인\n",
      "비트코인\n",
      "비트코인\n",
      "비트코인\n",
      "비트코인\n",
      "비트코인\n",
      "비트코인\n",
      "비트코인\n",
      "비트코인\n",
      "비트코인\n",
      "비트코인\n",
      "비트코인\n",
      "비트코인\n",
      "비트코인\n",
      "비트코인\n",
      "비트코인\n",
      "비트코인\n",
      "비트코인\n",
      "비트코인\n",
      "비트코인\n",
      "비트코인\n",
      "비트코인\n",
      "비트코인\n",
      "비트코인\n",
      "비트코인\n",
      "비트코인\n",
      "비트코인\n",
      "비트코인\n",
      "비트코인\n",
      "비트코인\n",
      "비트코인\n",
      "비트코인\n",
      "비트코인\n",
      "비트코인\n",
      "비트코인\n",
      "비트코인\n",
      "비트코인\n",
      "비트코인\n",
      "비트코인\n",
      "비트코인\n",
      "비트코인\n",
      "비트코인\n",
      "비트코인\n",
      "비트코인\n",
      "비트코인\n",
      "비트코인\n",
      "비트코인\n",
      "비트코인\n",
      "비트코인\n",
      "비트코인\n",
      "비트코인\n",
      "비트코인\n",
      "비트코인\n",
      "비트코인\n",
      "비트코인\n",
      "비트코인\n",
      "비트코인\n",
      "비트코인\n",
      "비트코인\n",
      "비트코인\n",
      "비트코인\n",
      "비트코인\n",
      "비트코인\n",
      "비트코인\n",
      "비트코인\n",
      "비트코인\n",
      "비트코인\n",
      "비트코인\n",
      "비트코인\n",
      "비트코인\n",
      "비트코인\n",
      "비트코인\n",
      "비트코인\n",
      "비트코인\n",
      "비트코인\n",
      "비트코인\n",
      "비트코인\n",
      "비트코인\n",
      "비트코인\n",
      "비트코인\n",
      "비트코인\n"
     ]
    }
   ],
   "source": [
    "for i in range(100) :\n",
    "    print_coin()"
   ]
  },
  {
   "cell_type": "markdown",
   "id": "b62a0221",
   "metadata": {},
   "source": [
    "204\n",
    "\"비트코인\" 문자열을 100번 화면에 출력하는 print_coins() 함수를 정의하라."
   ]
  },
  {
   "cell_type": "code",
   "execution_count": 18,
   "id": "18eedfc2",
   "metadata": {
    "ExecuteTime": {
     "end_time": "2023-11-30T11:27:16.196591Z",
     "start_time": "2023-11-30T11:27:16.193217Z"
    }
   },
   "outputs": [],
   "source": [
    "def print_coin() :\n",
    "    for i in range(100) :\n",
    "        print('비트코인')"
   ]
  },
  {
   "cell_type": "markdown",
   "id": "d3ab061e",
   "metadata": {},
   "source": [
    "205\n",
    "아래의 에러가 발생하는 이유에 대해 설명하라.\n",
    "\n",
    "hello()\n",
    "def hello():\n",
    "    print(\"Hi\")\n",
    "실행 예\n",
    "\n",
    "NameError: name 'hello' is not defined"
   ]
  },
  {
   "cell_type": "code",
   "execution_count": null,
   "id": "ed4a18f3",
   "metadata": {
    "ExecuteTime": {
     "end_time": "2023-11-30T11:27:16.196591Z",
     "start_time": "2023-11-30T11:27:16.193217Z"
    }
   },
   "outputs": [],
   "source": [
    "hello 함수가 정의 되기전에 호출하여서 에러가 발생함"
   ]
  },
  {
   "cell_type": "markdown",
   "id": "2d0cd865",
   "metadata": {},
   "source": [
    "206\n",
    "아래 코드의 실행 결과를 예측하라.\n",
    "\n",
    "def message() :\n",
    "    print(\"A\")\n",
    "    print(\"B\")\n",
    "\n",
    "message()\n",
    "print(\"C\")\n",
    "message()"
   ]
  },
  {
   "cell_type": "code",
   "execution_count": null,
   "id": "d65e13f2",
   "metadata": {
    "ExecuteTime": {
     "end_time": "2023-11-30T11:27:16.196591Z",
     "start_time": "2023-11-30T11:27:16.193217Z"
    }
   },
   "outputs": [],
   "source": [
    "A\n",
    "B\n",
    "C\n",
    "A\n",
    "B"
   ]
  },
  {
   "cell_type": "markdown",
   "id": "f09c4f2d",
   "metadata": {},
   "source": [
    "207\n",
    "아래 코드의 실행 결과를 예측하라. (읽기 어려운 코드의 예입니다.)\n",
    "\n",
    "print(\"A\")\n",
    "\n",
    "def message() :\n",
    "    print(\"B\")\n",
    "\n",
    "print(\"C\")\n",
    "message()"
   ]
  },
  {
   "cell_type": "code",
   "execution_count": null,
   "id": "96735e2d",
   "metadata": {
    "ExecuteTime": {
     "end_time": "2023-11-30T11:27:16.196591Z",
     "start_time": "2023-11-30T11:27:16.193217Z"
    }
   },
   "outputs": [],
   "source": [
    "A\n",
    "C\n",
    "B\n"
   ]
  },
  {
   "cell_type": "markdown",
   "id": "2979ab64",
   "metadata": {},
   "source": [
    "208\n",
    "아래 코드의 실행 결과를 예측하라. (읽기 어려운 코드의 예입니다.)\n",
    "\n",
    "print(\"A\")\n",
    "def message1() :\n",
    "    print(\"B\")\n",
    "print(\"C\")\n",
    "def message2() :\n",
    "    print(\"D\")\n",
    "message1()\n",
    "print(\"E\")\n",
    "message2()"
   ]
  },
  {
   "cell_type": "code",
   "execution_count": null,
   "id": "aa24b685",
   "metadata": {
    "ExecuteTime": {
     "end_time": "2023-11-30T11:27:16.196591Z",
     "start_time": "2023-11-30T11:27:16.193217Z"
    }
   },
   "outputs": [],
   "source": [
    "A\n",
    "C\n",
    "B\n",
    "E\n",
    "D\n"
   ]
  },
  {
   "cell_type": "markdown",
   "id": "a4614a4b",
   "metadata": {},
   "source": [
    "209\n",
    "아래 코드의 실행 결과를 예측하라.\n",
    "\n",
    "def message1():\n",
    "    print(\"A\")\n",
    "\n",
    "def message2():\n",
    "    print(\"B\")\n",
    "    message1()\n",
    "\n",
    "message2()"
   ]
  },
  {
   "cell_type": "code",
   "execution_count": null,
   "id": "96183a8a",
   "metadata": {
    "ExecuteTime": {
     "end_time": "2023-11-30T11:27:16.196591Z",
     "start_time": "2023-11-30T11:27:16.193217Z"
    }
   },
   "outputs": [],
   "source": [
    "B\n",
    "A"
   ]
  },
  {
   "cell_type": "markdown",
   "id": "10343235",
   "metadata": {},
   "source": [
    "210\n",
    "아래 코드의 실행 결과를 예측하라.\n",
    "\n",
    "def message1():\n",
    "    print(\"A\")\n",
    "\n",
    "def message2():\n",
    "    print(\"B\")\n",
    "\n",
    "def message3():\n",
    "    for i in range (3) :\n",
    "        message2()\n",
    "        print(\"C\")\n",
    "    message1()\n",
    "\n",
    "message3()"
   ]
  },
  {
   "cell_type": "code",
   "execution_count": null,
   "id": "14dbc7fe",
   "metadata": {
    "ExecuteTime": {
     "end_time": "2023-11-30T12:29:30.671615Z",
     "start_time": "2023-11-30T12:29:30.663388Z"
    }
   },
   "outputs": [],
   "source": [
    "B\n",
    "C\n",
    "B\n",
    "C\n",
    "B\n",
    "C\n",
    "A"
   ]
  },
  {
   "cell_type": "markdown",
   "id": "4dd68a6c",
   "metadata": {},
   "source": [
    "211\n",
    "함수의 호출 결과를 예측하라.\n",
    "\n",
    "def 함수(문자열) :\n",
    "    print(문자열)\n",
    "\n",
    "함수(\"안녕\")\n",
    "함수(\"Hi\")"
   ]
  },
  {
   "cell_type": "code",
   "execution_count": null,
   "id": "89a11f55",
   "metadata": {
    "ExecuteTime": {
     "end_time": "2023-11-30T12:29:30.671615Z",
     "start_time": "2023-11-30T12:29:30.663388Z"
    }
   },
   "outputs": [],
   "source": [
    "안녕\n",
    "Hi"
   ]
  },
  {
   "cell_type": "markdown",
   "id": "eb6126f7",
   "metadata": {},
   "source": [
    "212\n",
    "함수의 호출 결과를 예측하라.\n",
    "\n",
    "def 함수(a, b) :\n",
    "    print(a + b)\n",
    "\n",
    "함수(3, 4)\n",
    "함수(7, 8)"
   ]
  },
  {
   "cell_type": "code",
   "execution_count": null,
   "id": "0f8675ca",
   "metadata": {
    "ExecuteTime": {
     "end_time": "2023-11-30T12:29:30.671615Z",
     "start_time": "2023-11-30T12:29:30.663388Z"
    }
   },
   "outputs": [],
   "source": [
    "7\n",
    "15\n"
   ]
  },
  {
   "cell_type": "markdown",
   "id": "052cff38",
   "metadata": {},
   "source": [
    "213\n",
    "아래와 같은 에러가 발생하는 원인을 설명하라.\n",
    "\n",
    "def 함수(문자열) :\n",
    "    print(문자열)\n",
    "함수()\n",
    "TypeError: 함수() missing 1 required positional argument: '문자열'"
   ]
  },
  {
   "cell_type": "code",
   "execution_count": null,
   "id": "ff66070e",
   "metadata": {
    "ExecuteTime": {
     "end_time": "2023-11-30T12:29:30.671615Z",
     "start_time": "2023-11-30T12:29:30.663388Z"
    }
   },
   "outputs": [],
   "source": [
    "함수에 문자열 매개변수가 필요한데 인자값이 없어서 에러가 발생함"
   ]
  },
  {
   "cell_type": "markdown",
   "id": "99c48dde",
   "metadata": {},
   "source": [
    "214\n",
    "아래와 같은 에러가 발생하는 원인을 설명하라.\n",
    "\n",
    "def 함수(a, b) :\n",
    "    print(a + b)\n",
    "\n",
    "함수(\"안녕\", 3)\n",
    "TypeError: must be str, not int"
   ]
  },
  {
   "cell_type": "code",
   "execution_count": null,
   "id": "264acddd",
   "metadata": {
    "ExecuteTime": {
     "end_time": "2023-11-30T12:29:30.671615Z",
     "start_time": "2023-11-30T12:29:30.663388Z"
    }
   },
   "outputs": [],
   "source": [
    "str 타입인 '안녕' 과 int 타입인 3을 더할 수 없어서 에러가 발생함"
   ]
  },
  {
   "cell_type": "markdown",
   "id": "702a9f9e",
   "metadata": {},
   "source": [
    "215\n",
    "하나의 문자를 입력받아 문자열 끝에 \":D\" 스마일 문자열을 이어 붙여 출력하는 print_with_smile 함수를 정의하라."
   ]
  },
  {
   "cell_type": "code",
   "execution_count": 22,
   "id": "439aa8f2",
   "metadata": {
    "ExecuteTime": {
     "end_time": "2023-11-30T12:29:30.671615Z",
     "start_time": "2023-11-30T12:29:30.663388Z"
    }
   },
   "outputs": [
    {
     "data": {
      "text/plain": [
       "'Hi:D'"
      ]
     },
     "execution_count": 22,
     "metadata": {},
     "output_type": "execute_result"
    }
   ],
   "source": [
    "def print_with_smile(a) :\n",
    "    x = str(a) + ':D'\n",
    "    return x\n",
    "\n",
    "print_with_smile('Hi')\n",
    "\n",
    "\n",
    "# def print_with_smile (string) :\n",
    "#     print (string + \":D\")"
   ]
  },
  {
   "cell_type": "markdown",
   "id": "ac50ceaa",
   "metadata": {},
   "source": [
    "216\n",
    "215에서 정의한 함수를 호출하라. 파라미터는 \"안녕하세요\"로 입력하라."
   ]
  },
  {
   "cell_type": "code",
   "execution_count": 23,
   "id": "5ee40ad0",
   "metadata": {
    "ExecuteTime": {
     "end_time": "2023-11-30T12:29:30.671615Z",
     "start_time": "2023-11-30T12:29:30.663388Z"
    }
   },
   "outputs": [
    {
     "data": {
      "text/plain": [
       "'안녕하세요:D'"
      ]
     },
     "execution_count": 23,
     "metadata": {},
     "output_type": "execute_result"
    }
   ],
   "source": [
    "print_with_smile('안녕하세요')"
   ]
  },
  {
   "cell_type": "markdown",
   "id": "a05e1e75",
   "metadata": {},
   "source": [
    "217\n",
    "현재 가격을 입력 받아 상한가 (30%)를 출력하는 print_upper_price 함수를 정의하라."
   ]
  },
  {
   "cell_type": "code",
   "execution_count": 24,
   "id": "1969638d",
   "metadata": {
    "ExecuteTime": {
     "end_time": "2023-11-30T12:29:30.671615Z",
     "start_time": "2023-11-30T12:29:30.663388Z"
    }
   },
   "outputs": [],
   "source": [
    "def print_upper_price(a) :\n",
    "    x = a * 1.3\n",
    "    return x"
   ]
  },
  {
   "cell_type": "markdown",
   "id": "a3dce355",
   "metadata": {},
   "source": [
    "218\n",
    "두 개의 숫자를 입력받아 두 수의 합을 출력하는 print_sum 함수를 정의하라."
   ]
  },
  {
   "cell_type": "code",
   "execution_count": 25,
   "id": "f657b69e",
   "metadata": {
    "ExecuteTime": {
     "end_time": "2023-11-30T12:29:30.671615Z",
     "start_time": "2023-11-30T12:29:30.663388Z"
    }
   },
   "outputs": [],
   "source": [
    "def print_sum(a, b) :\n",
    "    x = a + b\n",
    "    return x"
   ]
  },
  {
   "cell_type": "markdown",
   "id": "122b1ab3",
   "metadata": {},
   "source": [
    "219\n",
    "두 개의 숫자를 입력받아 합/차/곱/나눗셈을 출력하는 print_arithmetic_operation 함수를 작성하라.\n",
    "\n",
    "print_arithmetic_operation(3, 4)\n",
    "3 + 4 = 7\n",
    "3 - 4 = -1\n",
    "3 * 4 = 12\n",
    "3 / 4 = 0.75"
   ]
  },
  {
   "cell_type": "code",
   "execution_count": 27,
   "id": "6caeefd1",
   "metadata": {
    "ExecuteTime": {
     "end_time": "2023-11-30T12:29:30.671615Z",
     "start_time": "2023-11-30T12:29:30.663388Z"
    }
   },
   "outputs": [],
   "source": [
    "def print_arithmetic_operation(a, b) :\n",
    "    print(a, '+', b, '=', a+b)\n",
    "    print(a, '-', b, '=', a-b)\n",
    "    print(a, '*', b, '=', a*b)\n",
    "    print(a, '/', b, '=', a/b)"
   ]
  },
  {
   "cell_type": "markdown",
   "id": "da88301d",
   "metadata": {},
   "source": [
    "220\n",
    "세 개의 숫자를 입력받아 가장 큰수를 출력하는 print_max 함수를 정의하라. 단 if 문을 사용해서 수를 비교하라."
   ]
  },
  {
   "cell_type": "code",
   "execution_count": 32,
   "id": "9a81274f",
   "metadata": {
    "ExecuteTime": {
     "end_time": "2023-11-30T12:29:30.671615Z",
     "start_time": "2023-11-30T12:29:30.663388Z"
    }
   },
   "outputs": [],
   "source": [
    "def print_max(a, b, c) :\n",
    "    if a >= b :\n",
    "        if a >= c :\n",
    "            print(a)\n",
    "        else :\n",
    "            print(c)\n",
    "    else :\n",
    "        if a < b :\n",
    "            if b >= c :\n",
    "                print(b)\n",
    "            else :\n",
    "                print(c) \n",
    "                \n",
    "                \n",
    "# def print_max(a, b, c) :\n",
    "#     max_val = 0\n",
    "#     if a > max_val :\n",
    "#         max_val = a\n",
    "#     if b > max_val :\n",
    "#         max_val = b\n",
    "#     if c > max_val :\n",
    "#         max_val = c\n",
    "#     print(max_val)"
   ]
  },
  {
   "cell_type": "markdown",
   "id": "f2344dae",
   "metadata": {},
   "source": [
    "221\n",
    "입력된 문자열을 역순으로 출력하는 print_reverse 함수를 정의하라.\n",
    "\n",
    "print_reverse(\"python\")\n",
    "nohtyp"
   ]
  },
  {
   "cell_type": "code",
   "execution_count": 42,
   "id": "eea51db0",
   "metadata": {
    "ExecuteTime": {
     "end_time": "2023-11-30T12:29:30.671615Z",
     "start_time": "2023-11-30T12:29:30.663388Z"
    }
   },
   "outputs": [],
   "source": [
    "def print_reverse(a) :\n",
    "    x = a[::-1]\n",
    "    return x"
   ]
  },
  {
   "cell_type": "markdown",
   "id": "ccc6b4c0",
   "metadata": {},
   "source": [
    "222\n",
    "성적 리스트를 입력 받아 평균을 출력하는 print_score 함수를 정의하라.\n",
    "\n",
    "print_score ([1, 2, 3])\n",
    "2.0"
   ]
  },
  {
   "cell_type": "code",
   "execution_count": 44,
   "id": "7635079d",
   "metadata": {
    "ExecuteTime": {
     "end_time": "2023-11-30T12:29:30.671615Z",
     "start_time": "2023-11-30T12:29:30.663388Z"
    }
   },
   "outputs": [],
   "source": [
    "def print_score(a) :\n",
    "    x = sum(a)/len(a)\n",
    "    return x"
   ]
  },
  {
   "cell_type": "markdown",
   "id": "661341b3",
   "metadata": {},
   "source": [
    "223\n",
    "하나의 리스트를 입력받아 짝수만 화면에 출력하는 print_even 함수를 정의하라.\n",
    "\n",
    "print_even ([1, 3, 2, 10, 12, 11, 15])\n",
    "2\n",
    "10\n",
    "12"
   ]
  },
  {
   "cell_type": "code",
   "execution_count": 69,
   "id": "4073b71a",
   "metadata": {
    "ExecuteTime": {
     "end_time": "2023-11-30T12:29:30.671615Z",
     "start_time": "2023-11-30T12:29:30.663388Z"
    }
   },
   "outputs": [],
   "source": [
    "def print_even(a) :\n",
    "    for i in a :\n",
    "        if i % 2 == 0 :\n",
    "            print(i)"
   ]
  },
  {
   "cell_type": "markdown",
   "id": "0e926fd8",
   "metadata": {},
   "source": [
    "224\n",
    "하나의 딕셔너리를 입력받아 딕셔너리의 key 값을 화면에 출력하는 print_keys 함수를 정의하라.\n",
    "\n",
    "print_keys ({\"이름\":\"김말똥\", \"나이\":30, \"성별\":0})\n",
    "이름\n",
    "나이\n",
    "성별"
   ]
  },
  {
   "cell_type": "code",
   "execution_count": 77,
   "id": "85e62c96",
   "metadata": {
    "ExecuteTime": {
     "end_time": "2023-11-30T12:43:55.439242Z",
     "start_time": "2023-11-30T12:43:55.430273Z"
    }
   },
   "outputs": [],
   "source": [
    "def print_keys(a) :\n",
    "    for i in a.keys() :\n",
    "        print(i)\n",
    "    "
   ]
  },
  {
   "cell_type": "markdown",
   "id": "f381192e",
   "metadata": {},
   "source": [
    "225\n",
    "my_dict에는 날짜를 키값으로 OHLC가 리스트로 저장돼 있다.\n",
    "\n",
    "my_dict = {\"10/26\" : [100, 130, 100, 100],\n",
    "           \"10/27\" : [10, 12, 10, 11]}\n",
    "my_dict와 날짜 키값을 입력받아 OHLC 리스트를 출력하는 print_value_by_key 함수를 정의하라.\n",
    "\n",
    "print_value_by_key  (my_dict, \"10/26\")\n",
    "[100, 130, 100, 100]"
   ]
  },
  {
   "cell_type": "code",
   "execution_count": 9,
   "id": "cab98608",
   "metadata": {
    "ExecuteTime": {
     "end_time": "2023-12-01T11:02:34.287006Z",
     "start_time": "2023-12-01T11:02:34.281476Z"
    }
   },
   "outputs": [],
   "source": [
    "my_dict = {\"10/26\" : [100, 130, 100, 100],\n",
    "           \"10/27\" : [10, 12, 10, 11]}\n",
    "\n",
    "def print_value_by_key(a, b) :\n",
    "    print(a[b])\n"
   ]
  },
  {
   "cell_type": "markdown",
   "id": "49f1d16f",
   "metadata": {},
   "source": [
    "226\n",
    "입력 문자열을 한 줄에 다섯글자씩 출력하는 print_5xn(string) 함수를 작성하라.\n",
    "\n",
    "print_5xn(\"아이엠어보이유알어걸\")\n",
    "아이엠어보\n",
    "이유알어걸"
   ]
  },
  {
   "cell_type": "code",
   "execution_count": 27,
   "id": "38e641f9",
   "metadata": {
    "ExecuteTime": {
     "end_time": "2023-12-01T11:12:03.729274Z",
     "start_time": "2023-12-01T11:12:03.722287Z"
    }
   },
   "outputs": [],
   "source": [
    "def print_5xn(a) :\n",
    "    x = int(len(a) / 5) # 인수가 5의 몇배수인지 계산해서 x 에 저장\n",
    "    for i in range(x + 1) : # \n",
    "        print(a[i * 5 : i * 5 + 5])"
   ]
  },
  {
   "cell_type": "markdown",
   "id": "23186585",
   "metadata": {},
   "source": [
    "227\n",
    "문자열과 한줄에 출력될 글자 수를 입력을 받아 한 줄에 입력된 글자 수만큼 출력하는 print_mxn(string) 함수를 작성하라.\n",
    "\n",
    "printmxn(\"아이엠어보이유알어걸\", 3)\n",
    "아이엠\n",
    "어보이\n",
    "유알어\n",
    "걸"
   ]
  },
  {
   "cell_type": "code",
   "execution_count": 32,
   "id": "b0dd09ff",
   "metadata": {
    "ExecuteTime": {
     "end_time": "2023-12-01T11:14:25.814719Z",
     "start_time": "2023-12-01T11:14:25.807404Z"
    }
   },
   "outputs": [],
   "source": [
    "def printmxn(a, b) :\n",
    "    x = int(len(a) / b) \n",
    "    for i in range(x + 1) : # \n",
    "        print(a[i * b : i * b + b])"
   ]
  },
  {
   "cell_type": "markdown",
   "id": "75d536f1",
   "metadata": {},
   "source": [
    "printmxn(\"아이엠어보이유알어걸\", 3)\n"
   ]
  },
  {
   "cell_type": "code",
   "execution_count": 33,
   "id": "8273ca64",
   "metadata": {
    "ExecuteTime": {
     "end_time": "2023-12-01T11:14:25.814719Z",
     "start_time": "2023-12-01T11:14:25.807404Z"
    }
   },
   "outputs": [
    {
     "name": "stdout",
     "output_type": "stream",
     "text": [
      "아이엠\n",
      "어보이\n",
      "유알어\n",
      "걸\n"
     ]
    }
   ],
   "source": [
    "printmxn(\"아이엠어보이유알어걸\", 3)\n"
   ]
  },
  {
   "cell_type": "markdown",
   "id": "a5a5e8a1",
   "metadata": {},
   "source": [
    "228\n",
    "연봉을 입력받아 월급을 계산하는 calc_monthly_salary(annual_salary) 함수를 정의하라. 회사는 연봉을 12개월로 나누어 분할 지급하며, 이 때 1원 미만은 버림한다.\n",
    "\n",
    "calc_monthly_salary(12000000)\n",
    "1000000"
   ]
  },
  {
   "cell_type": "code",
   "execution_count": 1,
   "id": "bee31b2e",
   "metadata": {
    "ExecuteTime": {
     "end_time": "2023-12-02T08:28:32.109077Z",
     "start_time": "2023-12-02T08:28:32.103840Z"
    }
   },
   "outputs": [],
   "source": [
    "def calc_monthly_salary(a) :\n",
    "    x = round(a / 12)\n",
    "    return x\n",
    "\n",
    "# x = int(a / 12)"
   ]
  },
  {
   "cell_type": "markdown",
   "id": "b0410486",
   "metadata": {},
   "source": [
    "229\n",
    "아래 코드의 실행 결과를 예측하라.\n",
    "\n",
    "def my_print (a, b) : #1 a, b라는 매개변수를 지닌 my_print 함수 선언\n",
    "    print(\"왼쪽:\", a) #3 '왼쪽:' 을 출력하고 입력받은 a 인수를 함께 출력\n",
    "    print(\"오른쪽:\", b) #4 '오른쪽:' 을 출력하고 입력받은 b 인수를 함께 출력\n",
    "\n",
    "my_print(a=100, b=200) #2 my_print 함수에 인수값 100, 200을 입력"
   ]
  },
  {
   "cell_type": "code",
   "execution_count": null,
   "id": "321a0388",
   "metadata": {
    "ExecuteTime": {
     "end_time": "2023-11-25T04:49:20.561572Z",
     "start_time": "2023-11-25T04:49:20.556113Z"
    }
   },
   "outputs": [],
   "source": [
    "# 왼쪽 : 100\n",
    "# 오른쪽 : 200\n",
    "\n"
   ]
  },
  {
   "cell_type": "markdown",
   "id": "5f421d9d",
   "metadata": {},
   "source": [
    "230\n",
    "아래 코드의 실행 결과를 예측하라.\n",
    "\n",
    "def my_print (a, b) :\n",
    "    print(\"왼쪽:\", a)\n",
    "    print(\"오른쪽:\", b)\n",
    "\n",
    "my_print(b=100, a=200)"
   ]
  },
  {
   "cell_type": "code",
   "execution_count": 4,
   "id": "0772636e",
   "metadata": {
    "ExecuteTime": {
     "end_time": "2023-12-02T08:30:15.397897Z",
     "start_time": "2023-12-02T08:30:15.394707Z"
    }
   },
   "outputs": [],
   "source": [
    "# 왼쪽 : 200\n",
    "# 오른쪽 : 100   "
   ]
  },
  {
   "cell_type": "markdown",
   "id": "ff2253c4",
   "metadata": {},
   "source": [
    "231\n",
    "아래 코드를 실행한 결과를 예상하라.\n",
    "\n",
    "def n_plus_1 (n) :\n",
    "    result = n + 1\n",
    "\n",
    "n_plus_1(3)\n",
    "print (result)"
   ]
  },
  {
   "cell_type": "code",
   "execution_count": 6,
   "id": "c22b668c",
   "metadata": {
    "ExecuteTime": {
     "end_time": "2023-12-02T08:31:03.950966Z",
     "start_time": "2023-12-02T08:31:03.945647Z"
    }
   },
   "outputs": [],
   "source": [
    "# n_plus_1 (3) 에서 지역변수 result 에 3 + 1 값을 넣어주지만 리턴되지 않아서 \n",
    "# 결과가 나오지 않고 마찬가지로 지역변수이기 때문에 선언되지 않은\n",
    "# result 를 출력할 수 없어 에러가 표시된다"
   ]
  },
  {
   "cell_type": "markdown",
   "id": "dee2632a",
   "metadata": {},
   "source": [
    "232\n",
    "문자열 하나를 입력받아 인터넷 주소를 반환하는 make_url 함수를 정의하라.\n",
    "\n",
    "make_url(\"naver\")\n",
    "www.naver.com"
   ]
  },
  {
   "cell_type": "code",
   "execution_count": 4,
   "id": "6a12abdf",
   "metadata": {
    "ExecuteTime": {
     "end_time": "2023-11-30T07:39:09.210953Z",
     "start_time": "2023-11-30T07:39:09.205733Z"
    }
   },
   "outputs": [
    {
     "name": "stdout",
     "output_type": "stream",
     "text": [
      "www.naver.com\n"
     ]
    }
   ],
   "source": [
    "def make_url(a) : #1 a라는 매개변수를 지닌 make_url 함수 선언\n",
    "    print('www.%s.com' % a) #3 'www.%s.com' 문자열을 출력하는데\n",
    "                            #   % 연산자를 사용해 입력받은 인수 a를 대입함\n",
    "    \n",
    "make_url('naver') #2 make_url 함수에 인수값 'naver'를 입력"
   ]
  },
  {
   "cell_type": "markdown",
   "id": "ea538a64",
   "metadata": {},
   "source": [
    "233\n",
    "문자열을 입력받아 각 문자들로 구성된 리스트로 반환하는 make_list 함수를 정의하라.\n",
    "\n",
    "make_list(\"abcd\")\n",
    "['a', 'b', 'c', 'd']"
   ]
  },
  {
   "cell_type": "code",
   "execution_count": 15,
   "id": "e2e687cc",
   "metadata": {
    "ExecuteTime": {
     "end_time": "2023-12-02T08:43:04.170671Z",
     "start_time": "2023-12-02T08:43:04.163703Z"
    }
   },
   "outputs": [],
   "source": [
    "def make_list(a) :\n",
    "    x = []\n",
    "    for i in range(len(a)) :\n",
    "        x.append(a[i])\n",
    "    return x\n",
    "\n",
    "\n",
    "#def make_list (string) :\n",
    "#    my_list = []\n",
    "#    for 변수 in string :\n",
    "#        my_list.append(변수)\n",
    "#    return my_list"
   ]
  },
  {
   "cell_type": "markdown",
   "id": "11424d67",
   "metadata": {},
   "source": [
    "234\n",
    "숫자로 구성된 하나의 리스트를 입력받아, 짝수들을 추출하여 리스트로 반환하는 pickup_even 함수를 구현하라.\n",
    "\n",
    "pickup_even([3, 4, 5, 6, 7, 8])\n",
    "[4, 6, 8]"
   ]
  },
  {
   "cell_type": "code",
   "execution_count": 24,
   "id": "0f9b54f3",
   "metadata": {
    "ExecuteTime": {
     "end_time": "2023-12-02T08:43:04.170671Z",
     "start_time": "2023-12-02T08:43:04.163703Z"
    },
    "scrolled": true
   },
   "outputs": [
    {
     "data": {
      "text/plain": [
       "[4, 6, 8]"
      ]
     },
     "execution_count": 24,
     "metadata": {},
     "output_type": "execute_result"
    }
   ],
   "source": [
    "def pickup_even(a) :\n",
    "    x = []\n",
    "    for a in a :\n",
    "        if a % 2 == 0 :\n",
    "            x.append(a)\n",
    "    return x\n",
    "\n",
    "pickup_even([3, 4, 5, 6, 7, 8])\n",
    "                   "
   ]
  },
  {
   "cell_type": "markdown",
   "id": "70aa14bc",
   "metadata": {},
   "source": [
    "235\n",
    "콤마가 포함된 문자열 숫자를 입력받아 정수로 변환하는 convert_int 함수를 정의하라.\n",
    "\n",
    "convert_int(\"1,234,567\")\n",
    "1234567"
   ]
  },
  {
   "cell_type": "code",
   "execution_count": 7,
   "id": "d7c26086",
   "metadata": {
    "ExecuteTime": {
     "end_time": "2023-11-30T07:43:14.933305Z",
     "start_time": "2023-11-30T07:43:14.927755Z"
    }
   },
   "outputs": [
    {
     "name": "stdout",
     "output_type": "stream",
     "text": [
      "1234567\n"
     ]
    }
   ],
   "source": [
    "def convert_int(a) : #1 a라는 매개변수를 지닌 convert_int 함수 선언\n",
    "    print(a.replace(',', '')) #3 replace 메소드를 사용해\n",
    "                              #  입력받은 인수 a에서 ','을 ''로 변환해줌\n",
    "\n",
    "convert_int('1,234,567') #2 convert_int 함수에 인수값 '1,234,567' 을 입력"
   ]
  },
  {
   "cell_type": "markdown",
   "id": "d5890408",
   "metadata": {},
   "source": [
    "236\n",
    "아래 코드의 실행 결과를 예측하라.\n",
    "\n",
    "def 함수(num) :\n",
    "    return num + 4\n",
    "\n",
    "a = 함수(10)\n",
    "b = 함수(a)\n",
    "c = 함수(b)\n",
    "print(c)"
   ]
  },
  {
   "cell_type": "code",
   "execution_count": null,
   "id": "2cab2ed5",
   "metadata": {
    "ExecuteTime": {
     "end_time": "2023-11-25T04:59:40.760994Z",
     "start_time": "2023-11-25T04:59:40.755991Z"
    }
   },
   "outputs": [],
   "source": [
    "# 22"
   ]
  },
  {
   "cell_type": "markdown",
   "id": "8d8c528e",
   "metadata": {},
   "source": [
    "237\n",
    "아래 코드의 실행 결과를 예측하라.\n",
    "\n",
    "def 함수(num) :\n",
    "    return num + 4\n",
    "\n",
    "c = 함수(함수(함수(10)))\n",
    "print(c)"
   ]
  },
  {
   "cell_type": "code",
   "execution_count": null,
   "id": "52c6d21b",
   "metadata": {
    "ExecuteTime": {
     "end_time": "2023-11-25T04:59:40.760994Z",
     "start_time": "2023-11-25T04:59:40.755991Z"
    }
   },
   "outputs": [],
   "source": [
    "# 22"
   ]
  },
  {
   "cell_type": "markdown",
   "id": "cfd0e911",
   "metadata": {},
   "source": [
    "238\n",
    "아래 코드의 실행 결과를 예측하라.\n",
    "\n",
    "def 함수1(num) : #1 num이라는 매개변수를 지닌 함수1을 선언\n",
    "    return num + 4 #4 입력 받은 인수값 10에 4를 더해서 리턴해줌\n",
    "\n",
    "def 함수2(num) : #2 num이라는 매개변수를 지닌 함수2를 선언\n",
    "    return num * 10 #6 입력 받은 인수값 14에 10을 곱해서 리턴해줌\n",
    "\n",
    "a = 함수1(10) #3 함수1에 인수값 10을 입력해서 리턴 받은 값을 a에 저장\n",
    "c = 함수2(a) #5 함수2에 인수값 a을 입력. 리턴받은 14(10 + 4)을 입력해서\n",
    "             #  리턴 받은 값을 c에 저장\n",
    "print(c) #7 변수 c에 저장된 값 140(14 * 10) 을 출력"
   ]
  },
  {
   "cell_type": "code",
   "execution_count": null,
   "id": "2ce80683",
   "metadata": {
    "ExecuteTime": {
     "end_time": "2023-11-25T04:56:21.792366Z",
     "start_time": "2023-11-25T04:56:21.786757Z"
    }
   },
   "outputs": [],
   "source": [
    "# 140"
   ]
  },
  {
   "cell_type": "markdown",
   "id": "427fc9d6",
   "metadata": {},
   "source": [
    "239\n",
    "아래 코드의 실행 결과를 예측하라.\n",
    "\n",
    "def 함수1(num) :\n",
    "    return num + 4\n",
    "\n",
    "def 함수2(num) :\n",
    "    num = num + 2\n",
    "    return 함수1(num)\n",
    "\n",
    "c = 함수2(10)\n",
    "print(c)"
   ]
  },
  {
   "cell_type": "code",
   "execution_count": null,
   "id": "97c1899a",
   "metadata": {
    "ExecuteTime": {
     "end_time": "2023-11-25T05:07:16.714575Z",
     "start_time": "2023-11-25T05:07:16.705983Z"
    }
   },
   "outputs": [],
   "source": [
    "# 16"
   ]
  },
  {
   "cell_type": "markdown",
   "id": "2d0dcb2a",
   "metadata": {},
   "source": [
    "240\n",
    "아래 코드의 실행 결과를 예측하라.\n",
    "\n",
    "def 함수0(num) :\n",
    "    return num * 2\n",
    "\n",
    "def 함수1(num) :\n",
    "    return 함수0(num + 2)\n",
    "\n",
    "def 함수2(num) :\n",
    "    num = num + 10\n",
    "    return 함수1(num)\n",
    "\n",
    "c = 함수2(2)\n",
    "print(c)"
   ]
  },
  {
   "cell_type": "code",
   "execution_count": null,
   "id": "84be7c3e",
   "metadata": {
    "ExecuteTime": {
     "end_time": "2023-11-25T05:08:53.897617Z",
     "start_time": "2023-11-25T05:08:53.891498Z"
    }
   },
   "outputs": [],
   "source": [
    "# 28"
   ]
  },
  {
   "cell_type": "markdown",
   "id": "3955fa40",
   "metadata": {},
   "source": []
  },
  {
   "cell_type": "code",
   "execution_count": null,
   "id": "e700ce79",
   "metadata": {
    "ExecuteTime": {
     "end_time": "2023-11-25T05:10:23.952140Z",
     "start_time": "2023-11-25T05:10:23.945079Z"
    }
   },
   "outputs": [],
   "source": []
  },
  {
   "cell_type": "markdown",
   "id": "3b1e8af8",
   "metadata": {},
   "source": []
  },
  {
   "cell_type": "code",
   "execution_count": null,
   "id": "805a2100",
   "metadata": {
    "ExecuteTime": {
     "end_time": "2023-11-25T05:10:17.788097Z",
     "start_time": "2023-11-25T05:10:17.781900Z"
    }
   },
   "outputs": [],
   "source": []
  },
  {
   "cell_type": "markdown",
   "id": "7ac204f1",
   "metadata": {},
   "source": []
  },
  {
   "cell_type": "code",
   "execution_count": null,
   "id": "c14073d2",
   "metadata": {
    "ExecuteTime": {
     "end_time": "2023-11-25T05:11:14.501204Z",
     "start_time": "2023-11-25T05:11:14.496140Z"
    }
   },
   "outputs": [],
   "source": []
  },
  {
   "cell_type": "markdown",
   "id": "6a24f301",
   "metadata": {},
   "source": []
  },
  {
   "cell_type": "code",
   "execution_count": null,
   "id": "635550dd",
   "metadata": {
    "ExecuteTime": {
     "end_time": "2023-11-25T05:14:39.705442Z",
     "start_time": "2023-11-25T05:14:39.697572Z"
    }
   },
   "outputs": [],
   "source": []
  },
  {
   "cell_type": "markdown",
   "id": "daf2f9c2",
   "metadata": {},
   "source": []
  },
  {
   "cell_type": "code",
   "execution_count": null,
   "id": "96a7b034",
   "metadata": {
    "ExecuteTime": {
     "end_time": "2023-11-25T04:09:56.717844Z",
     "start_time": "2023-11-25T04:09:56.711613Z"
    }
   },
   "outputs": [],
   "source": []
  },
  {
   "cell_type": "markdown",
   "id": "77d05786",
   "metadata": {},
   "source": []
  },
  {
   "cell_type": "code",
   "execution_count": null,
   "id": "b6e92a1a",
   "metadata": {
    "ExecuteTime": {
     "end_time": "2023-11-25T04:11:14.658713Z",
     "start_time": "2023-11-25T04:11:14.649873Z"
    }
   },
   "outputs": [],
   "source": []
  },
  {
   "cell_type": "markdown",
   "id": "af13343e",
   "metadata": {},
   "source": []
  },
  {
   "cell_type": "code",
   "execution_count": null,
   "id": "00d0beb7",
   "metadata": {
    "ExecuteTime": {
     "end_time": "2023-11-25T04:14:18.741297Z",
     "start_time": "2023-11-25T04:14:18.732273Z"
    }
   },
   "outputs": [],
   "source": []
  },
  {
   "cell_type": "markdown",
   "id": "ca784f45",
   "metadata": {},
   "source": []
  },
  {
   "cell_type": "code",
   "execution_count": null,
   "id": "60d39ab1",
   "metadata": {
    "ExecuteTime": {
     "end_time": "2023-11-25T04:15:35.114355Z",
     "start_time": "2023-11-25T04:15:35.107117Z"
    }
   },
   "outputs": [],
   "source": []
  },
  {
   "cell_type": "markdown",
   "id": "517d7dea",
   "metadata": {},
   "source": []
  },
  {
   "cell_type": "code",
   "execution_count": null,
   "id": "e65a4625",
   "metadata": {
    "ExecuteTime": {
     "end_time": "2023-11-25T04:19:37.895075Z",
     "start_time": "2023-11-25T04:19:37.890174Z"
    }
   },
   "outputs": [],
   "source": []
  },
  {
   "cell_type": "markdown",
   "id": "a848330b",
   "metadata": {},
   "source": []
  },
  {
   "cell_type": "code",
   "execution_count": null,
   "id": "678ac221",
   "metadata": {
    "ExecuteTime": {
     "end_time": "2023-11-25T04:19:56.386169Z",
     "start_time": "2023-11-25T04:19:56.378450Z"
    }
   },
   "outputs": [],
   "source": []
  },
  {
   "cell_type": "markdown",
   "id": "a193d27e",
   "metadata": {},
   "source": []
  },
  {
   "cell_type": "code",
   "execution_count": null,
   "id": "0a716e68",
   "metadata": {
    "ExecuteTime": {
     "end_time": "2023-11-25T04:22:56.215623Z",
     "start_time": "2023-11-25T04:22:56.208784Z"
    }
   },
   "outputs": [],
   "source": []
  },
  {
   "cell_type": "markdown",
   "id": "ed1fc066",
   "metadata": {},
   "source": []
  },
  {
   "cell_type": "code",
   "execution_count": null,
   "id": "becb4ebd",
   "metadata": {
    "ExecuteTime": {
     "end_time": "2023-11-25T04:24:37.025224Z",
     "start_time": "2023-11-25T04:24:37.018011Z"
    }
   },
   "outputs": [],
   "source": []
  },
  {
   "cell_type": "markdown",
   "id": "8b411a9e",
   "metadata": {},
   "source": []
  },
  {
   "cell_type": "code",
   "execution_count": null,
   "id": "0f1d4b10",
   "metadata": {
    "ExecuteTime": {
     "end_time": "2023-11-25T04:45:40.778766Z",
     "start_time": "2023-11-25T04:45:40.772592Z"
    }
   },
   "outputs": [],
   "source": []
  },
  {
   "cell_type": "markdown",
   "id": "8fbe0723",
   "metadata": {},
   "source": []
  },
  {
   "cell_type": "code",
   "execution_count": null,
   "id": "c353313a",
   "metadata": {
    "ExecuteTime": {
     "end_time": "2023-11-25T04:47:17.023291Z",
     "start_time": "2023-11-25T04:47:17.014295Z"
    }
   },
   "outputs": [],
   "source": []
  },
  {
   "cell_type": "markdown",
   "id": "bba7c70c",
   "metadata": {},
   "source": []
  },
  {
   "cell_type": "code",
   "execution_count": null,
   "id": "fb503945",
   "metadata": {
    "ExecuteTime": {
     "end_time": "2023-11-25T04:48:45.388461Z",
     "start_time": "2023-11-25T04:48:45.380184Z"
    }
   },
   "outputs": [],
   "source": []
  },
  {
   "cell_type": "markdown",
   "id": "2ab85139",
   "metadata": {},
   "source": []
  },
  {
   "cell_type": "code",
   "execution_count": null,
   "id": "a5bf3b50",
   "metadata": {
    "ExecuteTime": {
     "end_time": "2023-11-25T04:49:20.561572Z",
     "start_time": "2023-11-25T04:49:20.556113Z"
    }
   },
   "outputs": [],
   "source": []
  },
  {
   "cell_type": "markdown",
   "id": "199e4374",
   "metadata": {},
   "source": []
  },
  {
   "cell_type": "code",
   "execution_count": null,
   "id": "14a3bf61",
   "metadata": {
    "ExecuteTime": {
     "end_time": "2023-11-25T04:52:32.959990Z",
     "start_time": "2023-11-25T04:52:32.954015Z"
    }
   },
   "outputs": [],
   "source": []
  },
  {
   "cell_type": "markdown",
   "id": "b7bc2d90",
   "metadata": {},
   "source": []
  },
  {
   "cell_type": "code",
   "execution_count": null,
   "id": "dd9589b7",
   "metadata": {
    "ExecuteTime": {
     "end_time": "2023-11-25T04:55:40.422096Z",
     "start_time": "2023-11-25T04:55:40.414112Z"
    }
   },
   "outputs": [],
   "source": []
  },
  {
   "cell_type": "markdown",
   "id": "29ec185d",
   "metadata": {},
   "source": []
  },
  {
   "cell_type": "code",
   "execution_count": null,
   "id": "a55bc74b",
   "metadata": {
    "ExecuteTime": {
     "end_time": "2023-11-25T04:56:21.792366Z",
     "start_time": "2023-11-25T04:56:21.786757Z"
    }
   },
   "outputs": [],
   "source": []
  },
  {
   "cell_type": "markdown",
   "id": "e0a5f4ab",
   "metadata": {},
   "source": []
  },
  {
   "cell_type": "code",
   "execution_count": null,
   "id": "9eafec41",
   "metadata": {
    "ExecuteTime": {
     "end_time": "2023-11-25T04:58:00.879615Z",
     "start_time": "2023-11-25T04:58:00.873854Z"
    }
   },
   "outputs": [],
   "source": []
  },
  {
   "cell_type": "markdown",
   "id": "c90f75fc",
   "metadata": {},
   "source": []
  },
  {
   "cell_type": "code",
   "execution_count": null,
   "id": "ae47ebdf",
   "metadata": {
    "ExecuteTime": {
     "end_time": "2023-11-25T04:59:40.760994Z",
     "start_time": "2023-11-25T04:59:40.755991Z"
    }
   },
   "outputs": [],
   "source": []
  },
  {
   "cell_type": "markdown",
   "id": "153af1ff",
   "metadata": {},
   "source": []
  },
  {
   "cell_type": "code",
   "execution_count": null,
   "id": "7759ddf2",
   "metadata": {
    "ExecuteTime": {
     "end_time": "2023-11-25T05:01:28.449585Z",
     "start_time": "2023-11-25T05:01:28.441228Z"
    }
   },
   "outputs": [],
   "source": []
  },
  {
   "cell_type": "markdown",
   "id": "73e8a9c6",
   "metadata": {},
   "source": []
  },
  {
   "cell_type": "code",
   "execution_count": null,
   "id": "6e6ff2a3",
   "metadata": {
    "ExecuteTime": {
     "end_time": "2023-11-25T05:03:24.987677Z",
     "start_time": "2023-11-25T05:03:24.984123Z"
    }
   },
   "outputs": [],
   "source": []
  },
  {
   "cell_type": "markdown",
   "id": "eee8b9a5",
   "metadata": {},
   "source": []
  },
  {
   "cell_type": "code",
   "execution_count": null,
   "id": "0a929a31",
   "metadata": {
    "ExecuteTime": {
     "end_time": "2023-11-25T05:03:52.040094Z",
     "start_time": "2023-11-25T05:03:52.034093Z"
    }
   },
   "outputs": [],
   "source": []
  },
  {
   "cell_type": "markdown",
   "id": "3e60420f",
   "metadata": {},
   "source": []
  },
  {
   "cell_type": "code",
   "execution_count": null,
   "id": "22295c68",
   "metadata": {
    "ExecuteTime": {
     "end_time": "2023-11-25T05:05:08.684065Z",
     "start_time": "2023-11-25T05:05:08.677425Z"
    }
   },
   "outputs": [],
   "source": []
  },
  {
   "cell_type": "markdown",
   "id": "64a546c5",
   "metadata": {},
   "source": []
  },
  {
   "cell_type": "code",
   "execution_count": null,
   "id": "1516fbfd",
   "metadata": {
    "ExecuteTime": {
     "end_time": "2023-11-25T05:06:25.184871Z",
     "start_time": "2023-11-25T05:06:25.181512Z"
    }
   },
   "outputs": [],
   "source": []
  },
  {
   "cell_type": "markdown",
   "id": "eb72a946",
   "metadata": {},
   "source": []
  },
  {
   "cell_type": "code",
   "execution_count": null,
   "id": "6d0c5465",
   "metadata": {
    "ExecuteTime": {
     "end_time": "2023-11-25T05:07:16.714575Z",
     "start_time": "2023-11-25T05:07:16.705983Z"
    }
   },
   "outputs": [],
   "source": []
  },
  {
   "cell_type": "markdown",
   "id": "4052a56c",
   "metadata": {},
   "source": []
  },
  {
   "cell_type": "code",
   "execution_count": null,
   "id": "048246bb",
   "metadata": {},
   "outputs": [],
   "source": []
  },
  {
   "cell_type": "code",
   "execution_count": null,
   "id": "a9ad7226",
   "metadata": {},
   "outputs": [],
   "source": []
  },
  {
   "cell_type": "code",
   "execution_count": null,
   "id": "d5d68e20",
   "metadata": {},
   "outputs": [],
   "source": []
  },
  {
   "cell_type": "code",
   "execution_count": null,
   "id": "9dcf2041",
   "metadata": {},
   "outputs": [],
   "source": []
  },
  {
   "cell_type": "code",
   "execution_count": null,
   "id": "bc65aaa4",
   "metadata": {
    "ExecuteTime": {
     "end_time": "2023-11-25T05:08:53.897617Z",
     "start_time": "2023-11-25T05:08:53.891498Z"
    }
   },
   "outputs": [],
   "source": []
  },
  {
   "cell_type": "code",
   "execution_count": null,
   "id": "1ed86339",
   "metadata": {
    "ExecuteTime": {
     "end_time": "2023-11-25T05:08:53.897617Z",
     "start_time": "2023-11-25T05:08:53.891498Z"
    }
   },
   "outputs": [],
   "source": []
  }
 ],
 "metadata": {
  "kernelspec": {
   "display_name": "Python 3 (ipykernel)",
   "language": "python",
   "name": "python3"
  },
  "language_info": {
   "codemirror_mode": {
    "name": "ipython",
    "version": 3
   },
   "file_extension": ".py",
   "mimetype": "text/x-python",
   "name": "python",
   "nbconvert_exporter": "python",
   "pygments_lexer": "ipython3",
   "version": "3.11.5"
  },
  "toc": {
   "base_numbering": 1,
   "nav_menu": {},
   "number_sections": true,
   "sideBar": true,
   "skip_h1_title": false,
   "title_cell": "Table of Contents",
   "title_sidebar": "Contents",
   "toc_cell": false,
   "toc_position": {},
   "toc_section_display": true,
   "toc_window_display": false
  }
 },
 "nbformat": 4,
 "nbformat_minor": 5
}
