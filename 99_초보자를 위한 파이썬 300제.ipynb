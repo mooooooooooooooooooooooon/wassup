{
 "cells": [
  {
   "cell_type": "markdown",
   "id": "b8604c64",
   "metadata": {},
   "source": [
    "# 파이썬 시작하기"
   ]
  },
  {
   "cell_type": "markdown",
   "id": "b7249421",
   "metadata": {},
   "source": [
    "001 print 기초\n",
    "화면에 Hello World 문자열을 출력하세요."
   ]
  },
  {
   "cell_type": "code",
   "execution_count": 1,
   "id": "1636ac0d",
   "metadata": {
    "ExecuteTime": {
     "end_time": "2023-11-24T08:06:32.305017Z",
     "start_time": "2023-11-24T08:06:32.295847Z"
    }
   },
   "outputs": [
    {
     "data": {
      "text/plain": [
       "'hello world'"
      ]
     },
     "execution_count": 1,
     "metadata": {},
     "output_type": "execute_result"
    }
   ],
   "source": [
    "'hello world'"
   ]
  },
  {
   "cell_type": "markdown",
   "id": "78dd7649",
   "metadata": {},
   "source": [
    "002 print 기초\n",
    "화면에 Mary's cosmetics을 출력하세요. (중간에 '가 있음에 주의하세요)"
   ]
  },
  {
   "cell_type": "code",
   "execution_count": 6,
   "id": "20f8a017",
   "metadata": {
    "ExecuteTime": {
     "end_time": "2023-11-24T08:07:16.001443Z",
     "start_time": "2023-11-24T08:07:15.995104Z"
    }
   },
   "outputs": [
    {
     "data": {
      "text/plain": [
       "\"Mary's cosmetics\""
      ]
     },
     "execution_count": 6,
     "metadata": {},
     "output_type": "execute_result"
    }
   ],
   "source": [
    "\"Mary's cosmetics\""
   ]
  },
  {
   "cell_type": "markdown",
   "id": "158402ae",
   "metadata": {
    "ExecuteTime": {
     "end_time": "2023-11-24T08:18:25.110679Z",
     "start_time": "2023-11-24T08:18:25.106164Z"
    }
   },
   "source": [
    "003 print 기초\n",
    "화면에 아래 문장을 출력하세요. (중간에 \"가 있음에 주의하세요.)"
   ]
  },
  {
   "cell_type": "code",
   "execution_count": 12,
   "id": "497d8943",
   "metadata": {
    "ExecuteTime": {
     "end_time": "2023-11-24T08:08:45.056997Z",
     "start_time": "2023-11-24T08:08:45.051971Z"
    }
   },
   "outputs": [
    {
     "name": "stdout",
     "output_type": "stream",
     "text": [
      "신씨가 소리질렀다. \"도둑이야\"\n"
     ]
    }
   ],
   "source": [
    "print('신씨가 소리질렀다. \"도둑이야\"')"
   ]
  },
  {
   "cell_type": "markdown",
   "id": "3e6d049a",
   "metadata": {},
   "source": [
    "004 print 기초\n",
    "화면에 C:\\Windows를 출력하세요."
   ]
  },
  {
   "cell_type": "code",
   "execution_count": 34,
   "id": "972c05d4",
   "metadata": {
    "ExecuteTime": {
     "end_time": "2023-11-24T08:35:51.013930Z",
     "start_time": "2023-11-24T08:35:51.007618Z"
    }
   },
   "outputs": [
    {
     "name": "stdout",
     "output_type": "stream",
     "text": [
      "C:\\Windows C:/windows\n"
     ]
    }
   ],
   "source": [
    "print('C:\\Windows', 'C:/windows') # / 도 됨"
   ]
  },
  {
   "cell_type": "markdown",
   "id": "62b18c3d",
   "metadata": {},
   "source": [
    "005 print 탭과 줄바꿈\n",
    "다음 코드를 실행해보고 \\t와 \\n의 역할을 설명해보세요."
   ]
  },
  {
   "cell_type": "code",
   "execution_count": 16,
   "id": "e4b344a7",
   "metadata": {
    "ExecuteTime": {
     "end_time": "2023-11-24T08:10:04.378752Z",
     "start_time": "2023-11-24T08:10:04.373753Z"
    }
   },
   "outputs": [
    {
     "name": "stdout",
     "output_type": "stream",
     "text": [
      "안녕하세요.\n",
      "만나서\t\t반갑습니다.\n"
     ]
    }
   ],
   "source": [
    "print(\"안녕하세요.\\n만나서\\t\\t반갑습니다.\")\n",
    "\n",
    "# \\n : 줄바꿈 \\t : 탭삽입"
   ]
  },
  {
   "cell_type": "markdown",
   "id": "96f41c18",
   "metadata": {},
   "source": [
    "006 print 여러 데이터 출력\n",
    "print 함수에 두 개의 단어를 입력한 예제입니다. 아래 코드의 출력 결과를 예상해봅시다."
   ]
  },
  {
   "cell_type": "code",
   "execution_count": 32,
   "id": "7cf165a4",
   "metadata": {
    "ExecuteTime": {
     "end_time": "2023-11-24T08:21:18.423510Z",
     "start_time": "2023-11-24T08:21:18.419526Z"
    }
   },
   "outputs": [
    {
     "name": "stdout",
     "output_type": "stream",
     "text": [
      "오늘은 일요일\n"
     ]
    }
   ],
   "source": [
    "print(\"오늘은\", \"일요일\")"
   ]
  },
  {
   "cell_type": "markdown",
   "id": "6f2de5f9",
   "metadata": {},
   "source": [
    "007 print 기초\n",
    "print() 함수를 사용하여 다음과 같이 출력하세요."
   ]
  },
  {
   "cell_type": "code",
   "execution_count": 39,
   "id": "9d039ab1",
   "metadata": {
    "ExecuteTime": {
     "end_time": "2023-11-24T10:42:30.677979Z",
     "start_time": "2023-11-24T10:42:30.670243Z"
    }
   },
   "outputs": [
    {
     "name": "stdout",
     "output_type": "stream",
     "text": [
      "naver;kakao;sk;samsung\n",
      "naver;kakao;sk;samsung\n"
     ]
    }
   ],
   "source": [
    "print('naver', 'kakao', 'sk', 'samsung', sep = ';')\n",
    "print(\";\".join(['naver', 'kakao', 'sk', 'samsung'])) # 조인도 됨"
   ]
  },
  {
   "cell_type": "markdown",
   "id": "cacee725",
   "metadata": {},
   "source": [
    "008 print 기초\n",
    "print() 함수를 사용하여 다음과 같이 출력하세요."
   ]
  },
  {
   "cell_type": "code",
   "execution_count": 25,
   "id": "25f8c00c",
   "metadata": {
    "ExecuteTime": {
     "end_time": "2023-11-24T08:15:38.695188Z",
     "start_time": "2023-11-24T08:15:38.690772Z"
    }
   },
   "outputs": [
    {
     "name": "stdout",
     "output_type": "stream",
     "text": [
      "naver/kakao/sk/samsung\n"
     ]
    }
   ],
   "source": [
    "print('naver', 'kakao', 'sk', 'samsung', sep = '/')"
   ]
  },
  {
   "cell_type": "markdown",
   "id": "20b55ffe",
   "metadata": {
    "ExecuteTime": {
     "end_time": "2023-11-24T08:23:02.064946Z",
     "start_time": "2023-11-24T08:23:02.058865Z"
    }
   },
   "source": [
    "009 print 줄바꿈\n",
    "다음 코드를 수정하여 줄바꿈이 없이 출력하세요. (힌트: end='') print 함수는 두 번 사용합니다. 세미콜론 (;)은 한줄에 여러 개의 명령을 작성하기 위해 사용합니다."
   ]
  },
  {
   "cell_type": "code",
   "execution_count": 43,
   "id": "fa40fc01",
   "metadata": {
    "ExecuteTime": {
     "end_time": "2023-11-24T10:45:55.826921Z",
     "start_time": "2023-11-24T10:45:55.818767Z"
    }
   },
   "outputs": [
    {
     "name": "stdout",
     "output_type": "stream",
     "text": [
      "fisrtsecond\n"
     ]
    }
   ],
   "source": [
    "print(\"fisrt\", end=\"\");print(\"second\")"
   ]
  },
  {
   "cell_type": "markdown",
   "id": "5f0081b4",
   "metadata": {
    "ExecuteTime": {
     "end_time": "2023-11-24T08:42:50.850643Z",
     "start_time": "2023-11-24T08:42:50.842171Z"
    }
   },
   "source": [
    "010 연산 결과 출력\n",
    "5/3의 결과를 화면에 출력하세요.\n"
   ]
  },
  {
   "cell_type": "code",
   "execution_count": 45,
   "id": "55848717",
   "metadata": {
    "ExecuteTime": {
     "end_time": "2023-11-24T10:49:11.849239Z",
     "start_time": "2023-11-24T10:49:11.844287Z"
    }
   },
   "outputs": [
    {
     "name": "stdout",
     "output_type": "stream",
     "text": [
      "1.6666666666666667\n"
     ]
    }
   ],
   "source": [
    "print(5/3)"
   ]
  },
  {
   "cell_type": "markdown",
   "id": "b92f89d4",
   "metadata": {},
   "source": [
    "011 변수 사용하기\n",
    "삼성전자라는 변수로 50,000원을 바인딩해보세요. 삼성전자 주식 10주를 보유하고 있을 때 총 평가금액을 출력하세요."
   ]
  },
  {
   "cell_type": "code",
   "execution_count": 47,
   "id": "dbc577f8",
   "metadata": {
    "ExecuteTime": {
     "end_time": "2023-11-24T10:49:56.983649Z",
     "start_time": "2023-11-24T10:49:56.979071Z"
    }
   },
   "outputs": [
    {
     "name": "stdout",
     "output_type": "stream",
     "text": [
      "500000\n"
     ]
    }
   ],
   "source": [
    "삼성전자 = 50000\n",
    "총평가금액 = 삼성전자 * 10\n",
    "print(총평가금액)"
   ]
  },
  {
   "cell_type": "markdown",
   "id": "4a5dab78",
   "metadata": {},
   "source": [
    "012 변수 사용하기\n",
    "다음 표는 삼성전자의 일부 투자정보입니다. 변수를 사용해서 시가총액, 현재가, PER 등을 바인딩해보세요.\n",
    "\n",
    "항목\t값\n",
    "시가총액\t298조\n",
    "현재가\t50,000원\n",
    "PER\t15.79\n",
    "\n",
    "교안에서는 이렇게 했음\n",
    "\n",
    "시가총액 = 298000000000000\n",
    "현재가 = 50000\n",
    "PER = 15.79\n",
    "print(시가총액, type(시가총액))\n",
    "print(현재가, type(현재가))\n",
    "print(PER, type(PER))\n",
    "\n",
    "* 바인딩이 변수랑 타입까지 출력하라는거인듯?"
   ]
  },
  {
   "cell_type": "code",
   "execution_count": 54,
   "id": "f1204031",
   "metadata": {
    "ExecuteTime": {
     "end_time": "2023-11-24T11:06:05.241548Z",
     "start_time": "2023-11-24T11:06:05.235885Z"
    }
   },
   "outputs": [
    {
     "name": "stdout",
     "output_type": "stream",
     "text": [
      "298조 <class 'str'>\n",
      "50,000원 <class 'str'>\n",
      "15.79 <class 'float'>\n"
     ]
    }
   ],
   "source": [
    "시가총액 = '298조'\n",
    "현재가 = '50,000원'\n",
    "PER = 15.79\n",
    "\n",
    "print(시가총액, type(시가총액))\n",
    "print(현재가, type(현재가))\n",
    "print(PER, type(PER))\n",
    "      "
   ]
  },
  {
   "cell_type": "markdown",
   "id": "1659f85b",
   "metadata": {},
   "source": [
    "013 문자열 출력\n",
    "변수 s와 t에는 각각 문자열이 바인딩 되어있습니다.\n",
    "\n",
    ">> s = \"hello\"\n",
    ">> t = \"python\"\n",
    "두 변수를 이용하여 아래와 같이 출력해보세요.\n",
    "\n",
    "실행 예:\n",
    "hello! python"
   ]
  },
  {
   "cell_type": "code",
   "execution_count": 63,
   "id": "4575837d",
   "metadata": {
    "ExecuteTime": {
     "end_time": "2023-11-24T11:06:05.241548Z",
     "start_time": "2023-11-24T11:06:05.235885Z"
    }
   },
   "outputs": [
    {
     "name": "stdout",
     "output_type": "stream",
     "text": [
      "hello! python\n"
     ]
    }
   ],
   "source": [
    "s = 'hello'\n",
    "t = 'python'\n",
    "\n",
    "print(s + '! ' + t)"
   ]
  },
  {
   "cell_type": "markdown",
   "id": "57d4c395",
   "metadata": {},
   "source": [
    "014 파이썬을 이용한 값 계산\n",
    "아래 코드의 실행 결과를 예상해보세요.\n",
    "\n",
    ">> 2 + 2 * 3 \n",
    "\n",
    "8"
   ]
  },
  {
   "cell_type": "code",
   "execution_count": 64,
   "id": "fe139092",
   "metadata": {
    "ExecuteTime": {
     "end_time": "2023-11-24T11:06:05.241548Z",
     "start_time": "2023-11-24T11:06:05.235885Z"
    }
   },
   "outputs": [
    {
     "data": {
      "text/plain": [
       "8"
      ]
     },
     "execution_count": 64,
     "metadata": {},
     "output_type": "execute_result"
    }
   ],
   "source": [
    "2 + 2 * 3 "
   ]
  },
  {
   "cell_type": "markdown",
   "id": "cce1ac4a",
   "metadata": {},
   "source": [
    "015 type 함수\n",
    "type() 함수는 데이터 타입을 판별합니다. 변수 a에는 128 숫자가 바인딩돼 있어 type 함수가 int (정수)형임을 알려줍니다.\n",
    "\n",
    ">> a = 128\n",
    ">> print (type(a))\n",
    "<class 'int'>\n",
    "아래 변수에 바인딩된 값의 타입을 판별해보세요.\n",
    "\n",
    ">> a = \"132\""
   ]
  },
  {
   "cell_type": "code",
   "execution_count": 2,
   "id": "14d36b97",
   "metadata": {
    "ExecuteTime": {
     "end_time": "2023-11-25T02:31:03.971097Z",
     "start_time": "2023-11-25T02:31:03.963226Z"
    }
   },
   "outputs": [
    {
     "name": "stdout",
     "output_type": "stream",
     "text": [
      "<class 'int'>\n",
      "<class 'str'>\n"
     ]
    }
   ],
   "source": [
    "a = 128\n",
    "print(type(a))\n",
    "\n",
    "a = \"132\"\n",
    "print(type(a))"
   ]
  },
  {
   "cell_type": "markdown",
   "id": "e98e6d21",
   "metadata": {},
   "source": [
    "016 문자열을 정수로 변환\n",
    "문자열 '720'를 정수형으로 변환해보세요.\n",
    "\n",
    ">> num_str = \"720\""
   ]
  },
  {
   "cell_type": "code",
   "execution_count": 10,
   "id": "43c92299",
   "metadata": {
    "ExecuteTime": {
     "end_time": "2023-11-25T02:33:45.212743Z",
     "start_time": "2023-11-25T02:33:45.208070Z"
    }
   },
   "outputs": [
    {
     "name": "stdout",
     "output_type": "stream",
     "text": [
      "<class 'int'>\n"
     ]
    }
   ],
   "source": [
    "num_str = '720'\n",
    "type(num_str)\n",
    "\n",
    "num_str = int(num_str)\n",
    "print(type(num_str))\n"
   ]
  },
  {
   "cell_type": "markdown",
   "id": "86c59baa",
   "metadata": {},
   "source": [
    "017 정수를 문자열 100으로 변환\n",
    "정수 100을 문자열 '100'으로 변환해보세요."
   ]
  },
  {
   "cell_type": "code",
   "execution_count": 12,
   "id": "717a24f2",
   "metadata": {
    "ExecuteTime": {
     "end_time": "2023-11-25T02:35:35.327664Z",
     "start_time": "2023-11-25T02:35:35.321664Z"
    }
   },
   "outputs": [
    {
     "name": "stdout",
     "output_type": "stream",
     "text": [
      "100 100 <class 'str'> <class 'int'>\n"
     ]
    }
   ],
   "source": [
    "num_int2str = 100\n",
    "num_str2int = '100'\n",
    "\n",
    "num_int2str = str(num_int2str)\n",
    "num_str2int = int(num_str2int)\n",
    "\n",
    "\n",
    "print(num_int2str, num_str2int, type(num_int2str), type(num_str2int))"
   ]
  },
  {
   "cell_type": "markdown",
   "id": "851a7f17",
   "metadata": {},
   "source": [
    "018 문자열을 실수로 변환\n",
    "문자열 \"15.79\"를 실수(float) 타입으로 변환해보세요."
   ]
  },
  {
   "cell_type": "code",
   "execution_count": 13,
   "id": "a3020212",
   "metadata": {
    "ExecuteTime": {
     "end_time": "2023-11-25T02:37:50.780574Z",
     "start_time": "2023-11-25T02:37:50.775508Z"
    }
   },
   "outputs": [
    {
     "name": "stdout",
     "output_type": "stream",
     "text": [
      "<class 'float'>\n"
     ]
    }
   ],
   "source": [
    "a = '15.79'\n",
    "result = float(a)\n",
    "print(type(result))"
   ]
  },
  {
   "cell_type": "markdown",
   "id": "d317e700",
   "metadata": {},
   "source": [
    "019 문자열을 정수로 변환\n",
    "year라는 변수가 문자열 타입의 연도를 바인딩하고 있습니다. 이를 정수로 변환한 후 최근 3년의 연도를 화면에 출력해보세요.\n",
    "\n",
    "year = \"2020\""
   ]
  },
  {
   "cell_type": "code",
   "execution_count": 14,
   "id": "8e92fbf9",
   "metadata": {
    "ExecuteTime": {
     "end_time": "2023-11-25T02:38:42.245645Z",
     "start_time": "2023-11-25T02:38:42.240381Z"
    }
   },
   "outputs": [
    {
     "name": "stdout",
     "output_type": "stream",
     "text": [
      "2020 2019 2018\n"
     ]
    }
   ],
   "source": [
    "year = '2020'\n",
    "result = int(year)\n",
    "print(result, result-1, result-2)"
   ]
  },
  {
   "cell_type": "markdown",
   "id": "a21d8039",
   "metadata": {},
   "source": [
    "020 파이썬 계산\n",
    "에이컨이 월 48,584원에 무이자 36개월의 조건으로 홈쇼핑에서 판매되고 있습니다. 총 금액은 계산한 후 이를 화면에 출력해보세요. (변수사용하기)"
   ]
  },
  {
   "cell_type": "code",
   "execution_count": 15,
   "id": "f51f0e92",
   "metadata": {
    "ExecuteTime": {
     "end_time": "2023-11-25T02:40:00.990584Z",
     "start_time": "2023-11-25T02:40:00.982212Z"
    }
   },
   "outputs": [
    {
     "name": "stdout",
     "output_type": "stream",
     "text": [
      "1749024\n"
     ]
    }
   ],
   "source": [
    "월요금 = 48584\n",
    "개월수 = 36\n",
    "\n",
    "총금액 = 월요금 * 개월수\n",
    "\n",
    "print(총금액)"
   ]
  },
  {
   "cell_type": "markdown",
   "id": "92d16ecf",
   "metadata": {},
   "source": [
    "021 문자열 인덱싱\n",
    "letters가 바인딩하는 문자열에서 첫번째와 세번째 문자를 출력하세요.\n",
    "\n",
    ">> letters = 'python'\n",
    "실행 예\n",
    "p t"
   ]
  },
  {
   "cell_type": "code",
   "execution_count": 18,
   "id": "a7a36f80",
   "metadata": {
    "ExecuteTime": {
     "end_time": "2023-11-25T03:00:35.037516Z",
     "start_time": "2023-11-25T03:00:35.032249Z"
    }
   },
   "outputs": [
    {
     "name": "stdout",
     "output_type": "stream",
     "text": [
      "p t\n"
     ]
    }
   ],
   "source": [
    "letters = 'python'\n",
    "\n",
    "print(letters[0], letters[2])"
   ]
  },
  {
   "cell_type": "markdown",
   "id": "d97419a0",
   "metadata": {},
   "source": [
    "022 문자열 슬라이싱\n",
    "자동차 번호가 다음과 같을 때 뒤에 4자리만 출력하세요.\n",
    "\n",
    ">> license_plate = \"24가 2210\"\n",
    "실행 예: 2210"
   ]
  },
  {
   "cell_type": "code",
   "execution_count": 22,
   "id": "24ccb66d",
   "metadata": {
    "ExecuteTime": {
     "end_time": "2023-11-25T03:01:29.760142Z",
     "start_time": "2023-11-25T03:01:29.754240Z"
    }
   },
   "outputs": [
    {
     "data": {
      "text/plain": [
       "'2210'"
      ]
     },
     "execution_count": 22,
     "metadata": {},
     "output_type": "execute_result"
    }
   ],
   "source": [
    "license_plate = '24가 2210'\n",
    "\n",
    "license_plate[-4:]"
   ]
  },
  {
   "cell_type": "markdown",
   "id": "4ac8587e",
   "metadata": {},
   "source": [
    "023 문자열 인덱싱\n",
    "아래의 문자열에서 '홀' 만 출력하세요.\n",
    "\n",
    ">> string = \"홀짝홀짝홀짝\"\n",
    "실행 예:\n",
    "홀홀홀"
   ]
  },
  {
   "cell_type": "code",
   "execution_count": 24,
   "id": "45f67aec",
   "metadata": {
    "ExecuteTime": {
     "end_time": "2023-11-25T03:02:43.438320Z",
     "start_time": "2023-11-25T03:02:43.432834Z"
    }
   },
   "outputs": [
    {
     "name": "stdout",
     "output_type": "stream",
     "text": [
      "홀 홀 홀\n"
     ]
    }
   ],
   "source": [
    "string = '홀짝홀짝홀짝'\n",
    "\n",
    "print(string[0], string[2], string[4])\n",
    "\n",
    "# 교안에서는 print(string[::2])"
   ]
  },
  {
   "cell_type": "markdown",
   "id": "52adafd3",
   "metadata": {},
   "source": [
    "024 문자열 슬라이싱\n",
    "문자열을 거꾸로 뒤집어 출력하세요.\n",
    "\n",
    ">> string = \"PYTHON\"\n",
    "실행 예:\n",
    "NOHTYP"
   ]
  },
  {
   "cell_type": "code",
   "execution_count": 31,
   "id": "f2a45b6a",
   "metadata": {
    "ExecuteTime": {
     "end_time": "2023-11-25T03:07:42.625310Z",
     "start_time": "2023-11-25T03:07:42.620300Z"
    }
   },
   "outputs": [
    {
     "name": "stdout",
     "output_type": "stream",
     "text": [
      "nohtyp\n"
     ]
    }
   ],
   "source": [
    "string = 'python'\n",
    "\n",
    "print(string[::-1])"
   ]
  },
  {
   "cell_type": "markdown",
   "id": "a596223e",
   "metadata": {},
   "source": [
    "025 문자열 치환\n",
    "아래의 전화번호에서 하이푼 ('-')을 제거하고 출력하세요.\n",
    "\n",
    ">> phone_number = \"010-1111-2222\"\n",
    "실행 예\n",
    "010 1111 2222"
   ]
  },
  {
   "cell_type": "code",
   "execution_count": 32,
   "id": "bc8ad168",
   "metadata": {
    "ExecuteTime": {
     "end_time": "2023-11-25T03:08:18.723447Z",
     "start_time": "2023-11-25T03:08:18.717388Z"
    }
   },
   "outputs": [
    {
     "data": {
      "text/plain": [
       "'010 1111 2222'"
      ]
     },
     "execution_count": 32,
     "metadata": {},
     "output_type": "execute_result"
    }
   ],
   "source": [
    "phone_number = '010-1111-2222'\n",
    "\n",
    "phone_number.replace('-',' ')"
   ]
  },
  {
   "cell_type": "markdown",
   "id": "8fb386a6",
   "metadata": {},
   "source": [
    "026 문자열 다루기\n",
    "25번 문제의 전화번호를 아래와 같이 모두 붙여 출력하세요.\n",
    "\n",
    "실행 예\n",
    "01011112222"
   ]
  },
  {
   "cell_type": "code",
   "execution_count": 34,
   "id": "faf4fb01",
   "metadata": {
    "ExecuteTime": {
     "end_time": "2023-11-25T03:09:03.884409Z",
     "start_time": "2023-11-25T03:09:03.876409Z"
    }
   },
   "outputs": [
    {
     "data": {
      "text/plain": [
       "'01011112222'"
      ]
     },
     "execution_count": 34,
     "metadata": {},
     "output_type": "execute_result"
    }
   ],
   "source": [
    "phone_number.replace('-','')"
   ]
  },
  {
   "cell_type": "markdown",
   "id": "b16c2876",
   "metadata": {},
   "source": [
    "027 문자열 다루기\n",
    "url 에 저장된 웹 페이지 주소에서 도메인을 출력하세요.\n",
    "\n",
    ">> url = \"http://sharebook.kr\"\n",
    "실행 예:\n",
    "kr"
   ]
  },
  {
   "cell_type": "code",
   "execution_count": 36,
   "id": "8b3c5225",
   "metadata": {
    "ExecuteTime": {
     "end_time": "2023-11-25T03:10:29.670582Z",
     "start_time": "2023-11-25T03:10:29.663585Z"
    }
   },
   "outputs": [
    {
     "data": {
      "text/plain": [
       "'kr'"
      ]
     },
     "execution_count": 36,
     "metadata": {},
     "output_type": "execute_result"
    }
   ],
   "source": [
    "url = \"http://sharebook.kr\"\n",
    "url[-2:]\n",
    "\n",
    "# 교안\n",
    "# url_split = url.split('.')\n",
    "# print(url_split[-1])"
   ]
  },
  {
   "cell_type": "markdown",
   "id": "9154b8e2",
   "metadata": {},
   "source": [
    "028 문자열은 immutable\n",
    "아래 코드의 실행 결과를 예상해보세요.\n",
    "\n",
    ">> lang = 'python'\n",
    ">> lang[0] = 'P'\n",
    ">> print(lang)"
   ]
  },
  {
   "cell_type": "code",
   "execution_count": null,
   "id": "34b94781",
   "metadata": {
    "ExecuteTime": {
     "end_time": "2023-11-24T11:06:05.241548Z",
     "start_time": "2023-11-24T11:06:05.235885Z"
    }
   },
   "outputs": [],
   "source": [
    "2번행에서 오류 발생"
   ]
  },
  {
   "cell_type": "markdown",
   "id": "134f0c58",
   "metadata": {},
   "source": [
    "029 replace 메서드\n",
    "아래 문자열에서 소문자 'a'를 대문자 'A'로 변경하세요.\n",
    "\n",
    ">> string = 'abcdfe2a354a32a'\n",
    "실행 예:\n",
    "Abcdfe2A354A32A"
   ]
  },
  {
   "cell_type": "code",
   "execution_count": 37,
   "id": "ac490b61",
   "metadata": {
    "ExecuteTime": {
     "end_time": "2023-11-25T03:11:54.218866Z",
     "start_time": "2023-11-25T03:11:54.210635Z"
    }
   },
   "outputs": [
    {
     "data": {
      "text/plain": [
       "'Abcdfe2A354A32A'"
      ]
     },
     "execution_count": 37,
     "metadata": {},
     "output_type": "execute_result"
    }
   ],
   "source": [
    "string = 'abcdfe2a354a32a'\n",
    "\n",
    "string.replace('a', 'A')"
   ]
  },
  {
   "cell_type": "markdown",
   "id": "7caf25d0",
   "metadata": {},
   "source": [
    "030 replace 메서드\n",
    "아래 코드의 실행 결과를 예상해보세요.\n",
    "\n",
    ">> string = 'abcd'\n",
    ">> string.replace('b', 'B')\n",
    ">> print(string)"
   ]
  },
  {
   "cell_type": "code",
   "execution_count": null,
   "id": "0cc53ec5",
   "metadata": {
    "ExecuteTime": {
     "end_time": "2023-11-24T11:06:05.241548Z",
     "start_time": "2023-11-24T11:06:05.235885Z"
    }
   },
   "outputs": [],
   "source": [
    "abcd"
   ]
  },
  {
   "cell_type": "markdown",
   "id": "53cdf96e",
   "metadata": {},
   "source": [
    "031 문자열 합치기\n",
    "아래 코드의 실행 결과를 예상해보세요.\n",
    "\n",
    ">> a = \"3\"\n",
    ">> b = \"4\"\n",
    ">> print(a + b)"
   ]
  },
  {
   "cell_type": "code",
   "execution_count": null,
   "id": "20fff9f5",
   "metadata": {
    "ExecuteTime": {
     "end_time": "2023-11-24T11:06:05.241548Z",
     "start_time": "2023-11-24T11:06:05.235885Z"
    }
   },
   "outputs": [],
   "source": [
    "34"
   ]
  },
  {
   "cell_type": "markdown",
   "id": "91cc6043",
   "metadata": {},
   "source": [
    "032 문자열 곱하기\n",
    "아래 코드의 실행 결과를 예상해보세요.\n",
    "\n",
    ">> print(\"Hi\" * 3)"
   ]
  },
  {
   "cell_type": "code",
   "execution_count": null,
   "id": "98a08450",
   "metadata": {
    "ExecuteTime": {
     "end_time": "2023-11-24T11:06:05.241548Z",
     "start_time": "2023-11-24T11:06:05.235885Z"
    }
   },
   "outputs": [],
   "source": [
    "HiHiHi"
   ]
  },
  {
   "cell_type": "markdown",
   "id": "447a6735",
   "metadata": {},
   "source": [
    "033 문자열 곱하기\n",
    "화면에 '-'를 80개 출력하세요.\n",
    "\n",
    "실행 예:\n",
    "--------------------------------------------------------------------------------"
   ]
  },
  {
   "cell_type": "code",
   "execution_count": 38,
   "id": "fa06b020",
   "metadata": {
    "ExecuteTime": {
     "end_time": "2023-11-25T03:40:27.389622Z",
     "start_time": "2023-11-25T03:40:27.384069Z"
    }
   },
   "outputs": [
    {
     "name": "stdout",
     "output_type": "stream",
     "text": [
      "--------------------------------------------------------------------------------\n"
     ]
    }
   ],
   "source": [
    "print('-'*80)"
   ]
  },
  {
   "cell_type": "markdown",
   "id": "dcca1f15",
   "metadata": {},
   "source": [
    "034 문자열 곱하기\n",
    "변수에 다음과 같은 문자열이 바인딩되어 있습니다.\n",
    "\n",
    ">>> t1 = 'python'\n",
    ">>> t2 = 'java'\n",
    "변수에 문자열 더하기와 문자열 곱하기를 사용해서 아래와 같이 출력해보세요.\n",
    "\n",
    "실행 예:\n",
    "python java python java python java python java"
   ]
  },
  {
   "cell_type": "code",
   "execution_count": 40,
   "id": "39a37372",
   "metadata": {
    "ExecuteTime": {
     "end_time": "2023-11-25T03:41:18.918885Z",
     "start_time": "2023-11-25T03:41:18.913889Z"
    }
   },
   "outputs": [
    {
     "name": "stdout",
     "output_type": "stream",
     "text": [
      "python javapython javapython javapython java\n"
     ]
    }
   ],
   "source": [
    "t1 = 'python'\n",
    "t2 = 'java'\n",
    "\n",
    "print((t1+' '+t2)*4)"
   ]
  },
  {
   "cell_type": "markdown",
   "id": "70286eef",
   "metadata": {},
   "source": [
    "035 문자열 출력\n",
    "변수에 다음과 같이 문자열과 정수가 바인딩되어 있을 때 % formatting을 사용해서 다음과 같이 출력해보세요.\n",
    "\n",
    "name1 = \"김민수\" \n",
    "age1 = 10\n",
    "name2 = \"이철희\"\n",
    "age2 = 13\n",
    "이름: 김민수 나이: 10\n",
    "이름: 이철희 나이: 13"
   ]
  },
  {
   "cell_type": "code",
   "execution_count": 48,
   "id": "8d03653c",
   "metadata": {
    "ExecuteTime": {
     "end_time": "2023-11-25T03:49:01.683847Z",
     "start_time": "2023-11-25T03:49:01.678817Z"
    }
   },
   "outputs": [
    {
     "name": "stdout",
     "output_type": "stream",
     "text": [
      "이름: 김민수, 나이: 10\n",
      "이름: 이철희, 나이: 13\n"
     ]
    }
   ],
   "source": [
    "name1 = '김민수'\n",
    "age1 = 10\n",
    "name2 = '이철희'\n",
    "age2 = 13\n",
    "\n",
    "print('이름: {}, 나이: {}'.format(name1, age1))\n",
    "print('이름: {}, 나이: {}'.format(name2, age2))\n",
    "\n",
    "#교안에선 이렇게 풀었음\n",
    "#print(\"이름: %s 나이: %d\" % (name1, age1))\n",
    "#print(\"이름: %s 나이: %d\" % (name2, age2))\n"
   ]
  },
  {
   "cell_type": "markdown",
   "id": "93b7d3da",
   "metadata": {},
   "source": [
    "036 문자열 출력\n",
    "문자열의 format( ) 메서드를 사용해서 035번 문제를 다시 풀어보세요."
   ]
  },
  {
   "cell_type": "code",
   "execution_count": null,
   "id": "6230ef93",
   "metadata": {
    "ExecuteTime": {
     "end_time": "2023-11-24T11:06:05.241548Z",
     "start_time": "2023-11-24T11:06:05.235885Z"
    }
   },
   "outputs": [],
   "source": [
    "# 위에서가 %s %d 로 하고 여기서 {}로 풀라는거 같음"
   ]
  },
  {
   "cell_type": "markdown",
   "id": "1c4b763c",
   "metadata": {},
   "source": [
    "037 문자열 출력\n",
    "파이썬 3.6부터 지원하는 f-string을 사용해서 035번 문제를 다시 풀어보세요."
   ]
  },
  {
   "cell_type": "code",
   "execution_count": 51,
   "id": "ce46a59d",
   "metadata": {
    "ExecuteTime": {
     "end_time": "2023-11-25T03:51:00.949442Z",
     "start_time": "2023-11-25T03:51:00.944424Z"
    }
   },
   "outputs": [
    {
     "name": "stdout",
     "output_type": "stream",
     "text": [
      "이름: 김민수, 나이: 10\n",
      "이름: 이철희, 나이: 13\n"
     ]
    }
   ],
   "source": [
    "print(f'이름: {name1}, 나이: {age1}')\n",
    "print(f'이름: {name2}, 나이: {age2}')"
   ]
  },
  {
   "cell_type": "markdown",
   "id": "f10f0615",
   "metadata": {},
   "source": [
    "038 컴마 제거하기\n",
    "삼성전자의 상장주식수가 다음과 같습니다. 컴마를 제거한 후 이를 정수 타입으로 변환해보세요.\n",
    "\n",
    "상장주식수 = \"5,969,782,550\""
   ]
  },
  {
   "cell_type": "code",
   "execution_count": 61,
   "id": "64d158d5",
   "metadata": {
    "ExecuteTime": {
     "end_time": "2023-11-25T03:56:19.149846Z",
     "start_time": "2023-11-25T03:56:19.142792Z"
    }
   },
   "outputs": [
    {
     "name": "stdout",
     "output_type": "stream",
     "text": [
      "5969782550 <class 'int'>\n"
     ]
    }
   ],
   "source": [
    "상장주식수 = \"5,969,782,550\"\n",
    "\n",
    "상장주식수 = 상장주식수.replace(\",\",\"\")\n",
    "상장주식수 = int(상장주식수)\n",
    "print(상장주식수, type(상장주식수))"
   ]
  },
  {
   "cell_type": "markdown",
   "id": "5c8b284f",
   "metadata": {},
   "source": [
    "039 문자열 슬라이싱\n",
    "다음과 같은 문자열에서 '2020/03'만 출력하세요.\n",
    "\n",
    "분기 = \"2020/03(E) (IFRS연결)\""
   ]
  },
  {
   "cell_type": "code",
   "execution_count": 64,
   "id": "3d945495",
   "metadata": {
    "ExecuteTime": {
     "end_time": "2023-11-25T03:57:09.366670Z",
     "start_time": "2023-11-25T03:57:09.360670Z"
    }
   },
   "outputs": [
    {
     "data": {
      "text/plain": [
       "'2020/03'"
      ]
     },
     "execution_count": 64,
     "metadata": {},
     "output_type": "execute_result"
    }
   ],
   "source": [
    "분기 = \"2020/03(E) (IFRS연결)\"\n",
    "분기[0:7]"
   ]
  },
  {
   "cell_type": "markdown",
   "id": "e5900aa2",
   "metadata": {},
   "source": [
    "040 strip 메서드\n",
    "문자열의 좌우의 공백이 있을 때 이를 제거해보세요.\n",
    "\n",
    "data = \"   삼성전자    \""
   ]
  },
  {
   "cell_type": "code",
   "execution_count": 70,
   "id": "ed3d165e",
   "metadata": {
    "ExecuteTime": {
     "end_time": "2023-11-25T03:58:46.249878Z",
     "start_time": "2023-11-25T03:58:46.244453Z"
    }
   },
   "outputs": [
    {
     "data": {
      "text/plain": [
       "'삼성전자'"
      ]
     },
     "execution_count": 70,
     "metadata": {},
     "output_type": "execute_result"
    }
   ],
   "source": [
    "data = \"   삼성전자    \"\n",
    "result = data.strip()\n",
    "result"
   ]
  },
  {
   "cell_type": "markdown",
   "id": "d0697098",
   "metadata": {},
   "source": [
    "041 upper 메서드\n",
    "다음과 같은 문자열이 있을 때 이를 대문자 BTC_KRW로 변경하세요.\n",
    "\n",
    "ticker = \"btc_krw\""
   ]
  },
  {
   "cell_type": "code",
   "execution_count": 72,
   "id": "d3ed562d",
   "metadata": {
    "ExecuteTime": {
     "end_time": "2023-11-25T03:59:27.834584Z",
     "start_time": "2023-11-25T03:59:27.828350Z"
    }
   },
   "outputs": [
    {
     "data": {
      "text/plain": [
       "'BTC_KRW'"
      ]
     },
     "execution_count": 72,
     "metadata": {},
     "output_type": "execute_result"
    }
   ],
   "source": [
    "ticker = \"btc_krw\"\n",
    "result = ticker.upper()\n",
    "result"
   ]
  },
  {
   "cell_type": "markdown",
   "id": "b4a4c2d3",
   "metadata": {},
   "source": [
    "042 lower 메서드\n",
    "다음과 같은 문자열이 있을 때 이를 소문자 btc_krw로 변경하세요.\n",
    "\n",
    "ticker = \"BTC_KRW\""
   ]
  },
  {
   "cell_type": "code",
   "execution_count": 74,
   "id": "1f9083b3",
   "metadata": {
    "ExecuteTime": {
     "end_time": "2023-11-25T03:59:52.922988Z",
     "start_time": "2023-11-25T03:59:52.917289Z"
    }
   },
   "outputs": [
    {
     "data": {
      "text/plain": [
       "'btc_krw'"
      ]
     },
     "execution_count": 74,
     "metadata": {},
     "output_type": "execute_result"
    }
   ],
   "source": [
    "result2 = ticker.lower()\n",
    "result2"
   ]
  },
  {
   "cell_type": "markdown",
   "id": "ae9744ef",
   "metadata": {},
   "source": [
    "043 capitalize 메서드\n",
    "문자열 'hello'가 있을 때 이를 'Hello'로 변경해보세요."
   ]
  },
  {
   "cell_type": "code",
   "execution_count": 76,
   "id": "544e56fb",
   "metadata": {
    "ExecuteTime": {
     "end_time": "2023-11-25T04:00:45.933525Z",
     "start_time": "2023-11-25T04:00:45.928181Z"
    }
   },
   "outputs": [
    {
     "data": {
      "text/plain": [
       "'Hello'"
      ]
     },
     "execution_count": 76,
     "metadata": {},
     "output_type": "execute_result"
    }
   ],
   "source": [
    "a = 'hello'\n",
    "result = a.capitalize()\n",
    "result"
   ]
  },
  {
   "cell_type": "markdown",
   "id": "e1d6e1b5",
   "metadata": {},
   "source": [
    "044 endswith 메서드\n",
    "파일 이름이 문자열로 저장되어 있을 때 endswith 메서드를 사용해서 파일 이름이 'xlsx'로 끝나는지 확인해보세요.\n",
    "\n",
    "file_name = \"보고서.xlsx\""
   ]
  },
  {
   "cell_type": "code",
   "execution_count": 79,
   "id": "890a180a",
   "metadata": {
    "ExecuteTime": {
     "end_time": "2023-11-25T04:02:12.047027Z",
     "start_time": "2023-11-25T04:02:12.038873Z"
    }
   },
   "outputs": [
    {
     "data": {
      "text/plain": [
       "True"
      ]
     },
     "execution_count": 79,
     "metadata": {},
     "output_type": "execute_result"
    }
   ],
   "source": [
    "file_name = \"보고서.xlsx\"\n",
    "\n",
    "file_name.endswith('xlsx')"
   ]
  },
  {
   "cell_type": "markdown",
   "id": "787cc97b",
   "metadata": {},
   "source": []
  },
  {
   "cell_type": "code",
   "execution_count": null,
   "id": "a0a33037",
   "metadata": {
    "ExecuteTime": {
     "end_time": "2023-11-24T11:06:05.241548Z",
     "start_time": "2023-11-24T11:06:05.235885Z"
    }
   },
   "outputs": [],
   "source": [
    "046 startswith 메서드\n",
    "파일 이름이 문자열로 저장되어 있을 때 startswith 메서드를 사용해서 파일 이름이 '2020'로 시작하는지 확인해보세요.\n",
    "\n",
    "file_name = \"2020_보고서.xlsx\""
   ]
  },
  {
   "cell_type": "markdown",
   "id": "39665c1b",
   "metadata": {},
   "source": []
  },
  {
   "cell_type": "code",
   "execution_count": 80,
   "id": "bbba0f8a",
   "metadata": {
    "ExecuteTime": {
     "end_time": "2023-11-25T04:02:48.509524Z",
     "start_time": "2023-11-25T04:02:48.501347Z"
    }
   },
   "outputs": [
    {
     "data": {
      "text/plain": [
       "True"
      ]
     },
     "execution_count": 80,
     "metadata": {},
     "output_type": "execute_result"
    }
   ],
   "source": [
    "file_name = \"2020_보고서.xlsx\"\n",
    "file_name.startswith('2020')"
   ]
  },
  {
   "cell_type": "markdown",
   "id": "9d39a934",
   "metadata": {},
   "source": [
    "047 split 메서드\n",
    "다음과 같은 문자열이 있을 때 공백을 기준으로 문자열을 나눠보세요.\n",
    "\n",
    "a = \"hello world\""
   ]
  },
  {
   "cell_type": "code",
   "execution_count": 84,
   "id": "d7180986",
   "metadata": {
    "ExecuteTime": {
     "end_time": "2023-11-25T04:03:37.780151Z",
     "start_time": "2023-11-25T04:03:37.774804Z"
    }
   },
   "outputs": [
    {
     "data": {
      "text/plain": [
       "['hello', 'world']"
      ]
     },
     "execution_count": 84,
     "metadata": {},
     "output_type": "execute_result"
    }
   ],
   "source": [
    "a = \"hello world\"\n",
    "a.split()"
   ]
  },
  {
   "cell_type": "markdown",
   "id": "cc295d9c",
   "metadata": {},
   "source": [
    "048 split 메서드\n",
    "다음과 같이 문자열이 있을 때 btc와 krw로 나눠보세요.\n",
    "\n",
    "ticker = \"btc_krw\""
   ]
  },
  {
   "cell_type": "code",
   "execution_count": 85,
   "id": "6d64b57a",
   "metadata": {
    "ExecuteTime": {
     "end_time": "2023-11-25T04:04:17.889741Z",
     "start_time": "2023-11-25T04:04:17.880655Z"
    }
   },
   "outputs": [
    {
     "data": {
      "text/plain": [
       "['btc', 'krw']"
      ]
     },
     "execution_count": 85,
     "metadata": {},
     "output_type": "execute_result"
    }
   ],
   "source": [
    "ticker = \"btc_krw\"\n",
    "\n",
    "ticker.split('_')"
   ]
  },
  {
   "cell_type": "markdown",
   "id": "bf3bff25",
   "metadata": {},
   "source": [
    "049 split 메서드\n",
    "다음과 같이 날짜를 표현하는 문자열이 있을 때 연도, 월, 일로 나눠보세요.\n",
    "\n",
    "date = \"2020-05-01\""
   ]
  },
  {
   "cell_type": "code",
   "execution_count": 86,
   "id": "11df19b6",
   "metadata": {
    "ExecuteTime": {
     "end_time": "2023-11-25T05:10:23.952140Z",
     "start_time": "2023-11-25T05:10:23.945079Z"
    }
   },
   "outputs": [
    {
     "data": {
      "text/plain": [
       "['2020', '05', '01']"
      ]
     },
     "execution_count": 86,
     "metadata": {},
     "output_type": "execute_result"
    }
   ],
   "source": [
    "date = \"2020-05-01\"\n",
    "date.split('-')"
   ]
  },
  {
   "cell_type": "markdown",
   "id": "ff47e5a2",
   "metadata": {},
   "source": [
    "050 rstrip 메서드\n",
    "문자열의 오른쪽에 공백이 있을 때 이를 제거해보세요.\n",
    "\n",
    "data = \"039490     \""
   ]
  },
  {
   "cell_type": "code",
   "execution_count": 87,
   "id": "173d9bfe",
   "metadata": {
    "ExecuteTime": {
     "end_time": "2023-11-25T05:10:17.788097Z",
     "start_time": "2023-11-25T05:10:17.781900Z"
    }
   },
   "outputs": [
    {
     "data": {
      "text/plain": [
       "'039490'"
      ]
     },
     "execution_count": 87,
     "metadata": {},
     "output_type": "execute_result"
    }
   ],
   "source": [
    "data = \"039490     \"\n",
    "data.rstrip()\n"
   ]
  },
  {
   "cell_type": "markdown",
   "id": "a91ad5c3",
   "metadata": {},
   "source": [
    "051 리스트 생성\n",
    "2016년 11월 영화 예매 순위 기준 top3는 다음과 같습니다. 영화 제목을 movie_rank 이름의 리스트에 저장해보세요. (순위 정보는 저장하지 않습니다.)\n",
    "\n",
    "순위\t영화\n",
    "1\t닥터 스트레인지\n",
    "2\t스플릿\n",
    "3\t럭키"
   ]
  },
  {
   "cell_type": "code",
   "execution_count": 90,
   "id": "4a5c9638",
   "metadata": {
    "ExecuteTime": {
     "end_time": "2023-11-25T05:11:14.501204Z",
     "start_time": "2023-11-25T05:11:14.496140Z"
    }
   },
   "outputs": [
    {
     "data": {
      "text/plain": [
       "['닥터 스트레인지', '스플릿', '럭키']"
      ]
     },
     "execution_count": 90,
     "metadata": {},
     "output_type": "execute_result"
    }
   ],
   "source": [
    "movie_rank = ['닥터 스트레인지', '스플릿', '럭키']\n",
    "movie_rank"
   ]
  },
  {
   "cell_type": "markdown",
   "id": "8e6d5d92",
   "metadata": {},
   "source": [
    "052 리스트에 원소 추가\n",
    "051의 movie_rank 리스트에 \"배트맨\"을 추가하라."
   ]
  },
  {
   "cell_type": "code",
   "execution_count": 92,
   "id": "2199640c",
   "metadata": {
    "ExecuteTime": {
     "end_time": "2023-11-25T05:14:39.705442Z",
     "start_time": "2023-11-25T05:14:39.697572Z"
    }
   },
   "outputs": [
    {
     "data": {
      "text/plain": [
       "['닥터 스트레인지', '스플릿', '럭키', '배트맨']"
      ]
     },
     "execution_count": 92,
     "metadata": {},
     "output_type": "execute_result"
    }
   ],
   "source": [
    "movie_rank = movie_rank + ['배트맨']\n",
    "movie_rank\n",
    "\n",
    "# 교안에선 이렇게 풀었음\n",
    "# movie_rank = [\"닥터 스트레인지\", \"스플릿\", \"럭키\"]\n",
    "# movie_rank.append(\"배트맨\")\n",
    "# print(movie_rank)"
   ]
  },
  {
   "cell_type": "markdown",
   "id": "5e7019ee",
   "metadata": {},
   "source": [
    "053\n",
    "movie_rank 리스트에는 아래와 같이 네 개의 영화 제목이 바인딩되어 있다. \"슈퍼맨\"을 \"닥터 스트레인지\"와 \"스플릿\" 사이에 추가하라.\n",
    "\n",
    "movie_rank = ['닥터 스트레인지', '스플릿', '럭키', '배트맨']"
   ]
  },
  {
   "cell_type": "code",
   "execution_count": 94,
   "id": "d3b10eb0",
   "metadata": {
    "ExecuteTime": {
     "end_time": "2023-11-25T04:09:56.717844Z",
     "start_time": "2023-11-25T04:09:56.711613Z"
    }
   },
   "outputs": [
    {
     "data": {
      "text/plain": [
       "['닥터 스트레인지', '슈퍼맨', '스플릿', '럭키', '배트맨']"
      ]
     },
     "execution_count": 94,
     "metadata": {},
     "output_type": "execute_result"
    }
   ],
   "source": [
    "movie_rank = ['닥터 스트레인지', '스플릿', '럭키', '배트맨']\n",
    "movie_rank.insert(1, '슈퍼맨')\n",
    "movie_rank"
   ]
  },
  {
   "cell_type": "markdown",
   "id": "096afd4b",
   "metadata": {},
   "source": [
    "054\n",
    "movie_rank 리스트에서 '럭키'를 삭제하라.\n",
    "\n",
    "movie_rank = ['닥터 스트레인지', '슈퍼맨', '스플릿', '럭키', '배트맨']"
   ]
  },
  {
   "cell_type": "code",
   "execution_count": 98,
   "id": "0a3ed504",
   "metadata": {
    "ExecuteTime": {
     "end_time": "2023-11-25T04:11:14.658713Z",
     "start_time": "2023-11-25T04:11:14.649873Z"
    }
   },
   "outputs": [
    {
     "data": {
      "text/plain": [
       "['닥터 스트레인지', '슈퍼맨', '스플릿', '배트맨']"
      ]
     },
     "execution_count": 98,
     "metadata": {},
     "output_type": "execute_result"
    }
   ],
   "source": [
    "movie_rank = ['닥터 스트레인지', '슈퍼맨', '스플릿', '럭키', '배트맨']\n",
    "movie_rank.remove('럭키')\n",
    "movie_rank\n",
    "\n",
    "\n",
    "# movie_rank = ['닥터 스트레인지', '슈퍼맨', '스플릿', '럭키', '배트맨']\n",
    "# del movie_rank[3]\n",
    "# print(movie_rank)"
   ]
  },
  {
   "cell_type": "markdown",
   "id": "dd3f8377",
   "metadata": {},
   "source": [
    "055\n",
    "movie_rank 리스트에서 '스플릿' 과 '배트맨'을 를 삭제하라.\n",
    "\n",
    "movie_rank = ['닥터 스트레인지', '슈퍼맨', '스플릿', '배트맨']"
   ]
  },
  {
   "cell_type": "code",
   "execution_count": 103,
   "id": "2dd28b2b",
   "metadata": {
    "ExecuteTime": {
     "end_time": "2023-11-25T04:14:18.741297Z",
     "start_time": "2023-11-25T04:14:18.732273Z"
    }
   },
   "outputs": [
    {
     "data": {
      "text/plain": [
       "['닥터 스트레인지', '슈퍼맨']"
      ]
     },
     "execution_count": 103,
     "metadata": {},
     "output_type": "execute_result"
    }
   ],
   "source": [
    "movie_rank = ['닥터 스트레인지', '슈퍼맨', '스플릿', '배트맨']\n",
    "movie_rank.remove('스플릿')\n",
    "movie_rank.remove('배트맨')\n",
    "movie_rank\n",
    "\n",
    "#movie_rank = ['닥터 스트레인지', '슈퍼맨', '스플릿', '배트맨']\n",
    "#del movie_rank[2]\n",
    "#del movie_rank[2]\n",
    "#print(movie_rank)"
   ]
  },
  {
   "cell_type": "markdown",
   "id": "c2afac90",
   "metadata": {},
   "source": [
    "056\n",
    "lang1과 lang2 리스트가 있을 때 lang1과 lang2의 원소를 모두 갖고 있는 langs 리스트를 만들어라.\n",
    "\n",
    ">> lang1 = [\"C\", \"C++\", \"JAVA\"]\n",
    ">> lang2 = [\"Python\", \"Go\", \"C#\"]\n",
    "실행 예:\n",
    ">> langs\n",
    "['C', 'C++', 'JAVA', 'Python', 'Go', 'C#']"
   ]
  },
  {
   "cell_type": "code",
   "execution_count": 104,
   "id": "82faafa3",
   "metadata": {
    "ExecuteTime": {
     "end_time": "2023-11-25T04:15:35.114355Z",
     "start_time": "2023-11-25T04:15:35.107117Z"
    }
   },
   "outputs": [
    {
     "data": {
      "text/plain": [
       "['C', 'C++', 'JAVA', 'Python', 'Go', 'C#']"
      ]
     },
     "execution_count": 104,
     "metadata": {},
     "output_type": "execute_result"
    }
   ],
   "source": [
    "lang1 = [\"C\", \"C++\", \"JAVA\"]\n",
    "lang2 = [\"Python\", \"Go\", \"C#\"]\n",
    "\n",
    "langs = lang1 + lang2\n",
    "langs"
   ]
  },
  {
   "cell_type": "markdown",
   "id": "cd948cec",
   "metadata": {},
   "source": [
    "057\n",
    "다음 리스트에서 최댓값과 최솟값을 출력하라. (힌트: min(), max() 함수 사용)\n",
    "\n",
    "nums = [1, 2, 3, 4, 5, 6, 7]\n",
    "실행 예:\n",
    "max:  7\n",
    "min:  1"
   ]
  },
  {
   "cell_type": "code",
   "execution_count": 116,
   "id": "f91cef27",
   "metadata": {
    "ExecuteTime": {
     "end_time": "2023-11-25T04:19:37.895075Z",
     "start_time": "2023-11-25T04:19:37.890174Z"
    }
   },
   "outputs": [
    {
     "name": "stdout",
     "output_type": "stream",
     "text": [
      "max:  7\n",
      "min:  1\n"
     ]
    }
   ],
   "source": [
    "nums = [1, 2, 3, 4, 5, 6, 7]\n",
    "\n",
    "print('max: ', max(nums))\n",
    "print('min: ', min(nums))"
   ]
  },
  {
   "cell_type": "markdown",
   "id": "b2d5a2ce",
   "metadata": {},
   "source": [
    "058\n",
    "다음 리스트의 합을 출력하라.\n",
    "\n",
    "nums = [1, 2, 3, 4, 5]\n",
    "실행 예:\n",
    "15"
   ]
  },
  {
   "cell_type": "code",
   "execution_count": 118,
   "id": "5cbb74fc",
   "metadata": {
    "ExecuteTime": {
     "end_time": "2023-11-25T04:19:56.386169Z",
     "start_time": "2023-11-25T04:19:56.378450Z"
    }
   },
   "outputs": [
    {
     "data": {
      "text/plain": [
       "15"
      ]
     },
     "execution_count": 118,
     "metadata": {},
     "output_type": "execute_result"
    }
   ],
   "source": [
    "nums = [1, 2, 3, 4, 5]\n",
    "sum(nums)"
   ]
  },
  {
   "cell_type": "markdown",
   "id": "2e079798",
   "metadata": {},
   "source": [
    "059\n",
    "다음 리스트에 저장된 데이터의 개수를 화면에 구하하라.\n",
    "\n",
    "cook = [\"피자\", \"김밥\", \"만두\", \"양념치킨\", \"족발\", \"피자\", \"김치만두\", \"쫄면\", \"소시지\", \"라면\", \"팥빙수\", \"김치전\"]"
   ]
  },
  {
   "cell_type": "code",
   "execution_count": 124,
   "id": "7a50a8e8",
   "metadata": {
    "ExecuteTime": {
     "end_time": "2023-11-25T04:22:56.215623Z",
     "start_time": "2023-11-25T04:22:56.208784Z"
    }
   },
   "outputs": [
    {
     "data": {
      "text/plain": [
       "12"
      ]
     },
     "execution_count": 124,
     "metadata": {},
     "output_type": "execute_result"
    }
   ],
   "source": [
    "cook = [\"피자\", \"김밥\", \"만두\", \"양념치킨\", \"족발\", \"피자\", \"김치만두\", \"쫄면\", \"소시지\", \"라면\", \"팥빙수\", \"김치전\"]\n",
    "\n",
    "len(cook)"
   ]
  },
  {
   "cell_type": "markdown",
   "id": "9198545b",
   "metadata": {},
   "source": [
    "060\n",
    "다음 리스트의 평균을 출력하라.\n",
    "\n",
    "nums = [1, 2, 3, 4, 5]\n",
    "실행 예:\n",
    "3.0"
   ]
  },
  {
   "cell_type": "code",
   "execution_count": 130,
   "id": "9d242585",
   "metadata": {
    "ExecuteTime": {
     "end_time": "2023-11-25T04:24:37.025224Z",
     "start_time": "2023-11-25T04:24:37.018011Z"
    }
   },
   "outputs": [
    {
     "data": {
      "text/plain": [
       "3.0"
      ]
     },
     "execution_count": 130,
     "metadata": {},
     "output_type": "execute_result"
    }
   ],
   "source": [
    "nums = [1, 2, 3, 4, 5]\n",
    "\n",
    "sum(nums) / len(nums)"
   ]
  },
  {
   "cell_type": "markdown",
   "id": "24c69e94",
   "metadata": {},
   "source": [
    "061\n",
    "price 변수에는 날짜와 종가 정보가 저장돼 있다. 날짜 정보를 제외하고 가격 정보만을 출력하라. (힌트 : 슬라이싱)\n",
    "\n",
    "price = ['20180728', 100, 130, 140, 150, 160, 170]\n",
    "출력 예시:\n",
    "[100, 130, 140, 150, 160, 170]"
   ]
  },
  {
   "cell_type": "code",
   "execution_count": 132,
   "id": "e754a639",
   "metadata": {
    "ExecuteTime": {
     "end_time": "2023-11-25T04:45:40.778766Z",
     "start_time": "2023-11-25T04:45:40.772592Z"
    }
   },
   "outputs": [
    {
     "data": {
      "text/plain": [
       "[100, 130, 140, 150, 160, 170]"
      ]
     },
     "execution_count": 132,
     "metadata": {},
     "output_type": "execute_result"
    }
   ],
   "source": [
    "price = ['20180728', 100, 130, 140, 150, 160, 170]\n",
    "\n",
    "price[1:]"
   ]
  },
  {
   "cell_type": "markdown",
   "id": "984744b1",
   "metadata": {},
   "source": [
    "062\n",
    "슬라이싱을 사용해서 홀수만 출력하라.\n",
    "\n",
    "nums = [1, 2, 3, 4, 5, 6, 7, 8, 9, 10]\n",
    "실행 예:\n",
    "[1, 3, 5, 7, 9]"
   ]
  },
  {
   "cell_type": "code",
   "execution_count": 138,
   "id": "880f2394",
   "metadata": {
    "ExecuteTime": {
     "end_time": "2023-11-25T04:47:17.023291Z",
     "start_time": "2023-11-25T04:47:17.014295Z"
    }
   },
   "outputs": [
    {
     "data": {
      "text/plain": [
       "[1, 3, 5, 7, 9]"
      ]
     },
     "execution_count": 138,
     "metadata": {},
     "output_type": "execute_result"
    }
   ],
   "source": [
    "nums = [1, 2, 3, 4, 5, 6, 7, 8, 9, 10]\n",
    "nums[::2]"
   ]
  },
  {
   "cell_type": "markdown",
   "id": "1def18a7",
   "metadata": {},
   "source": [
    "슬라이싱을 사용해서 짝수만 출력하라.\n",
    "\n",
    "nums = [1, 2, 3, 4, 5, 6, 7, 8, 9, 10]\n",
    "실행 예:\n",
    "[2, 4, 6, 8, 10]"
   ]
  },
  {
   "cell_type": "code",
   "execution_count": 141,
   "id": "81b03646",
   "metadata": {
    "ExecuteTime": {
     "end_time": "2023-11-25T04:48:45.388461Z",
     "start_time": "2023-11-25T04:48:45.380184Z"
    }
   },
   "outputs": [
    {
     "data": {
      "text/plain": [
       "[2, 4, 6, 8, 10]"
      ]
     },
     "execution_count": 141,
     "metadata": {},
     "output_type": "execute_result"
    }
   ],
   "source": [
    "nums[1::2]"
   ]
  },
  {
   "cell_type": "markdown",
   "id": "8e608886",
   "metadata": {},
   "source": [
    "064\n",
    "슬라이싱을 사용해서 리스트의 숫자를 역 방향으로 출력하라.\n",
    "\n",
    "nums = [1, 2, 3, 4, 5]\n",
    "실행 예:\n",
    "[5, 4, 3, 2, 1]"
   ]
  },
  {
   "cell_type": "code",
   "execution_count": 144,
   "id": "8d762a81",
   "metadata": {
    "ExecuteTime": {
     "end_time": "2023-11-25T04:49:20.561572Z",
     "start_time": "2023-11-25T04:49:20.556113Z"
    }
   },
   "outputs": [
    {
     "data": {
      "text/plain": [
       "[5, 4, 3, 2, 1]"
      ]
     },
     "execution_count": 144,
     "metadata": {},
     "output_type": "execute_result"
    }
   ],
   "source": [
    "nums = [1, 2, 3, 4, 5]\n",
    "\n",
    "nums[::-1]"
   ]
  },
  {
   "cell_type": "markdown",
   "id": "a4574001",
   "metadata": {},
   "source": [
    "065\n",
    "interest 리스트에는 아래의 데이터가 바인딩되어 있다.\n",
    "\n",
    "interest = ['삼성전자', 'LG전자', 'Naver']\n",
    "interest 리스트를 사용하여 아래와 같이 화면에 출력하라.\n",
    "\n",
    "출력 예시:\n",
    "삼성전자 Naver"
   ]
  },
  {
   "cell_type": "code",
   "execution_count": 145,
   "id": "78c7732d",
   "metadata": {
    "ExecuteTime": {
     "end_time": "2023-11-25T04:52:32.959990Z",
     "start_time": "2023-11-25T04:52:32.954015Z"
    }
   },
   "outputs": [
    {
     "data": {
      "text/plain": [
       "['삼성전자', 'Naver']"
      ]
     },
     "execution_count": 145,
     "metadata": {},
     "output_type": "execute_result"
    }
   ],
   "source": [
    "interest = ['삼성전자', 'LG전자', 'Naver']\n",
    "interest[::2]\n",
    "\n",
    "#print(interest[0], interest[2])"
   ]
  },
  {
   "cell_type": "markdown",
   "id": "b0c57834",
   "metadata": {},
   "source": [
    "066 join 메서드\n",
    "interest 리스트에는 아래의 데이터가 바인딩되어 있다.\n",
    "\n",
    "interest = ['삼성전자', 'LG전자', 'Naver', 'SK하이닉스', '미래에셋대우']\n",
    "interest 리스트를 사용하여 아래와 같이 화면에 출력하라.\n",
    "\n",
    "출력 예시:\n",
    "삼성전자 LG전자 Naver SK하이닉스 미래에셋대우"
   ]
  },
  {
   "cell_type": "code",
   "execution_count": 147,
   "id": "5e43d37d",
   "metadata": {
    "ExecuteTime": {
     "end_time": "2023-11-25T04:55:40.422096Z",
     "start_time": "2023-11-25T04:55:40.414112Z"
    }
   },
   "outputs": [
    {
     "data": {
      "text/plain": [
       "'삼성전자 LG전자 Naver SK하이닉스 미래에셋대우'"
      ]
     },
     "execution_count": 147,
     "metadata": {},
     "output_type": "execute_result"
    }
   ],
   "source": [
    "interest = ['삼성전자', 'LG전자', 'Naver', 'SK하이닉스', '미래에셋대우']\n",
    "\" \".join(interest)"
   ]
  },
  {
   "cell_type": "markdown",
   "id": "54abb881",
   "metadata": {},
   "source": [
    "067 join 메서드\n",
    "interest 리스트에는 아래의 데이터가 바인딩되어 있다.\n",
    "\n",
    "interest = ['삼성전자', 'LG전자', 'Naver', 'SK하이닉스', '미래에셋대우']\n",
    "interest 리스트를 사용하여 아래와 같이 화면에 출력하라.\n",
    "\n",
    "출력 예시:\n",
    "삼성전자/LG전자/Naver/SK하이닉스/미래에셋대우"
   ]
  },
  {
   "cell_type": "code",
   "execution_count": 148,
   "id": "236f6865",
   "metadata": {
    "ExecuteTime": {
     "end_time": "2023-11-25T04:56:21.792366Z",
     "start_time": "2023-11-25T04:56:21.786757Z"
    }
   },
   "outputs": [
    {
     "data": {
      "text/plain": [
       "'삼성전자/LG전자/Naver/SK하이닉스/미래에셋대우'"
      ]
     },
     "execution_count": 148,
     "metadata": {},
     "output_type": "execute_result"
    }
   ],
   "source": [
    "\"/\".join(interest)"
   ]
  },
  {
   "cell_type": "markdown",
   "id": "f2aefd51",
   "metadata": {},
   "source": [
    "068 join 메서드\n",
    "interest 리스트에는 아래의 데이터가 바인딩되어 있다.\n",
    "\n",
    "interest = ['삼성전자', 'LG전자', 'Naver', 'SK하이닉스', '미래에셋대우']\n",
    "join() 메서드를 사용해서 interest 리스트를 아래와 같이 화면에 출력하라.\n",
    "\n",
    "출력 예시:\n",
    "삼성전자\n",
    "LG전자\n",
    "Naver\n",
    "SK하이닉스\n",
    "미래에셋대우"
   ]
  },
  {
   "cell_type": "code",
   "execution_count": 153,
   "id": "89a82007",
   "metadata": {
    "ExecuteTime": {
     "end_time": "2023-11-25T04:58:00.879615Z",
     "start_time": "2023-11-25T04:58:00.873854Z"
    }
   },
   "outputs": [
    {
     "name": "stdout",
     "output_type": "stream",
     "text": [
      "삼성전자\n",
      "LG전자\n",
      "Naver\n",
      "SK하이닉스\n",
      "미래에셋대우\n"
     ]
    }
   ],
   "source": [
    "print('\\n'.join(interest))"
   ]
  },
  {
   "cell_type": "markdown",
   "id": "8b956430",
   "metadata": {},
   "source": [
    "069 문자열 split 메서드\n",
    "회사 이름이 슬래시 ('/')로 구분되어 하나의 문자열로 저장되어 있다.\n",
    "\n",
    "string = \"삼성전자/LG전자/Naver\"\n",
    "이를 interest 이름의 리스트로 분리 저장하라.\n",
    "\n",
    "실행 예시\n",
    ">> print(interest)\n",
    "['삼성전자', 'LG전자', 'Naver']"
   ]
  },
  {
   "cell_type": "code",
   "execution_count": 158,
   "id": "43da35a0",
   "metadata": {
    "ExecuteTime": {
     "end_time": "2023-11-25T04:59:40.760994Z",
     "start_time": "2023-11-25T04:59:40.755991Z"
    }
   },
   "outputs": [
    {
     "name": "stdout",
     "output_type": "stream",
     "text": [
      "['삼성전자', 'LG전자', 'Naver']\n"
     ]
    }
   ],
   "source": [
    "string = \"삼성전자/LG전자/Naver\"\n",
    "\n",
    "interest = string.split('/')\n",
    "print(interest)"
   ]
  },
  {
   "cell_type": "markdown",
   "id": "f3b25172",
   "metadata": {},
   "source": [
    "070 리스트 정렬\n",
    "리스트에 있는 값을 오름차순으로 정렬하세요.\n",
    "\n",
    "data = [2, 4, 3, 1, 5, 10, 9]"
   ]
  },
  {
   "cell_type": "code",
   "execution_count": 166,
   "id": "96e6a3fc",
   "metadata": {
    "ExecuteTime": {
     "end_time": "2023-11-25T05:01:28.449585Z",
     "start_time": "2023-11-25T05:01:28.441228Z"
    }
   },
   "outputs": [
    {
     "data": {
      "text/plain": [
       "[1, 2, 3, 4, 5, 9, 10]"
      ]
     },
     "execution_count": 166,
     "metadata": {},
     "output_type": "execute_result"
    }
   ],
   "source": [
    "data = [2, 4, 3, 1, 5, 10, 9]\n",
    "data.sort()\n",
    "data"
   ]
  },
  {
   "cell_type": "markdown",
   "id": "ccf7ef75",
   "metadata": {},
   "source": [
    "071\n",
    "my_variable 이름의 비어있는 튜플을 만들라."
   ]
  },
  {
   "cell_type": "code",
   "execution_count": 171,
   "id": "cf9a420f",
   "metadata": {
    "ExecuteTime": {
     "end_time": "2023-11-25T05:03:24.987677Z",
     "start_time": "2023-11-25T05:03:24.984123Z"
    }
   },
   "outputs": [
    {
     "name": "stdout",
     "output_type": "stream",
     "text": [
      "() <class 'tuple'>\n"
     ]
    }
   ],
   "source": [
    "my_variable = ()\n",
    "print(my_variable, type(my_variable))\n"
   ]
  },
  {
   "cell_type": "markdown",
   "id": "d8982dd0",
   "metadata": {},
   "source": [
    "072\n",
    "2016년 11월 영화 예매 순위 기준 top3는 다음과 같다. 영화 제목을 movie_rank 이름의 튜플에 저장하라. (순위 정보는 저장하지 않는다.)\n",
    "\n",
    "순위\t영화\n",
    "1\t닥터 스트레인지\n",
    "2\t스플릿\n",
    "3\t럭키"
   ]
  },
  {
   "cell_type": "code",
   "execution_count": 172,
   "id": "140bd35f",
   "metadata": {
    "ExecuteTime": {
     "end_time": "2023-11-25T05:03:52.040094Z",
     "start_time": "2023-11-25T05:03:52.034093Z"
    }
   },
   "outputs": [
    {
     "data": {
      "text/plain": [
       "('닥터 스트레인지', '스플릿', '럭키')"
      ]
     },
     "execution_count": 172,
     "metadata": {},
     "output_type": "execute_result"
    }
   ],
   "source": [
    "movie_rank = ('닥터 스트레인지', '스플릿', '럭키')\n",
    "movie_rank"
   ]
  },
  {
   "cell_type": "markdown",
   "id": "49645b63",
   "metadata": {},
   "source": [
    "073\n",
    "숫자 1 이 저장된 튜플을 생성하라."
   ]
  },
  {
   "cell_type": "code",
   "execution_count": 175,
   "id": "6a662456",
   "metadata": {
    "ExecuteTime": {
     "end_time": "2023-11-25T05:05:08.684065Z",
     "start_time": "2023-11-25T05:05:08.677425Z"
    }
   },
   "outputs": [
    {
     "name": "stdout",
     "output_type": "stream",
     "text": [
      "1 <class 'int'> (1,) <class 'tuple'>\n"
     ]
    }
   ],
   "source": [
    "a = (1)\n",
    "b = (1, )\n",
    "print(a, type(a), b, type(b))"
   ]
  },
  {
   "cell_type": "markdown",
   "id": "757a1734",
   "metadata": {},
   "source": [
    "074\n",
    "다음 코드를 실행해보고 오류가 발생하는 원인을 설명하라.\n",
    "\n",
    ">> t = (1, 2, 3)\n",
    ">> t[0] = 'a'\n",
    "Traceback (most recent call last):\n",
    "  File \"<pyshell#46>\", line 1, in <module>\n",
    "    t[0] = 'a'\n",
    "TypeError: 'tuple' object does not support item assignment"
   ]
  },
  {
   "cell_type": "code",
   "execution_count": 179,
   "id": "92e976b7",
   "metadata": {
    "ExecuteTime": {
     "end_time": "2023-11-25T05:06:25.184871Z",
     "start_time": "2023-11-25T05:06:25.181512Z"
    }
   },
   "outputs": [],
   "source": [
    "# 튜플은 수정이 안됨"
   ]
  },
  {
   "cell_type": "markdown",
   "id": "37ff5420",
   "metadata": {},
   "source": [
    "075\n",
    "아래와 같이 t에는 1, 2, 3, 4 데이터가 바인딩되어 있다. t가 바인딩하는 데이터 타입은 무엇인가?\n",
    "\n",
    "t = 1, 2, 3, 4"
   ]
  },
  {
   "cell_type": "code",
   "execution_count": 180,
   "id": "336bf873",
   "metadata": {
    "ExecuteTime": {
     "end_time": "2023-11-25T05:07:16.714575Z",
     "start_time": "2023-11-25T05:07:16.705983Z"
    }
   },
   "outputs": [
    {
     "data": {
      "text/plain": [
       "tuple"
      ]
     },
     "execution_count": 180,
     "metadata": {},
     "output_type": "execute_result"
    }
   ],
   "source": [
    "t = 1, 2, 3, 4\n",
    "\n",
    "type(t)\n",
    "\n",
    "# 괄호가 없어도 튜플로 동작함"
   ]
  },
  {
   "cell_type": "markdown",
   "id": "86af4af2",
   "metadata": {},
   "source": [
    "076\n",
    "변수 t에는 아래와 같은 값이 저장되어 있다. 변수 t가 ('A', 'b', 'c') 튜플을 가리키도록 수정 하라.\n",
    "\n",
    "t = ('a', 'b', 'c')"
   ]
  },
  {
   "cell_type": "code",
   "execution_count": 183,
   "id": "3530f61c",
   "metadata": {
    "ExecuteTime": {
     "end_time": "2023-11-25T05:08:53.897617Z",
     "start_time": "2023-11-25T05:08:53.891498Z"
    }
   },
   "outputs": [],
   "source": [
    "t = ('a', 'b', 'c')\n",
    "t = ('A', 'b', 'c')\n",
    "# 튜플은 새로 만들어야 한다"
   ]
  },
  {
   "cell_type": "markdown",
   "id": "1da50398",
   "metadata": {},
   "source": [
    "077\n",
    "다음 튜플을 리스트로 변환하라.\n",
    "\n",
    "interest = ('삼성전자', 'LG전자', 'SK Hynix')"
   ]
  },
  {
   "cell_type": "code",
   "execution_count": 188,
   "id": "4019a0ea",
   "metadata": {
    "ExecuteTime": {
     "end_time": "2023-11-25T05:10:23.952140Z",
     "start_time": "2023-11-25T05:10:23.945079Z"
    }
   },
   "outputs": [
    {
     "data": {
      "text/plain": [
       "['삼성전자', 'LG전자', 'SK Hynix']"
      ]
     },
     "execution_count": 188,
     "metadata": {},
     "output_type": "execute_result"
    }
   ],
   "source": [
    "interest = ('삼성전자', 'LG전자', 'SK Hynix')\n",
    "interest = ['삼성전자', 'LG전자', 'SK Hynix']\n",
    "interest\n",
    "\n",
    "# data = list(interest)\n",
    "# data"
   ]
  },
  {
   "cell_type": "markdown",
   "id": "86b5543e",
   "metadata": {},
   "source": [
    "078\n",
    "다음 리스트를 튜플로 변경하라.\n",
    "\n",
    "interest = ['삼성전자', 'LG전자', 'SK Hynix']"
   ]
  },
  {
   "cell_type": "code",
   "execution_count": 187,
   "id": "064a0386",
   "metadata": {
    "ExecuteTime": {
     "end_time": "2023-11-25T05:10:17.788097Z",
     "start_time": "2023-11-25T05:10:17.781900Z"
    }
   },
   "outputs": [
    {
     "data": {
      "text/plain": [
       "('삼성전자', 'LG전자', 'SK Hynix')"
      ]
     },
     "execution_count": 187,
     "metadata": {},
     "output_type": "execute_result"
    }
   ],
   "source": [
    "interest = ['삼성전자', 'LG전자', 'SK Hynix']\n",
    "data = tuple(interest)\n",
    "data"
   ]
  },
  {
   "cell_type": "markdown",
   "id": "11956344",
   "metadata": {},
   "source": [
    "079 튜플 언팩킹\n",
    "다음 코드의 실행 결과를 예상하라.\n",
    "\n",
    "temp = ('apple', 'banana', 'cake')\n",
    "a, b, c = temp\n",
    "print(a, b, c)"
   ]
  },
  {
   "cell_type": "code",
   "execution_count": 191,
   "id": "3d7650d6",
   "metadata": {
    "ExecuteTime": {
     "end_time": "2023-11-25T05:11:14.501204Z",
     "start_time": "2023-11-25T05:11:14.496140Z"
    }
   },
   "outputs": [
    {
     "name": "stdout",
     "output_type": "stream",
     "text": [
      "apple banana cake\n"
     ]
    }
   ],
   "source": [
    "temp = ('apple', 'banana', 'cake')\n",
    "a, b, c = temp\n",
    "print(a, b, c)\n",
    "\n",
    "# apple banana cake"
   ]
  },
  {
   "cell_type": "markdown",
   "id": "d12003c5",
   "metadata": {},
   "source": [
    "080 range 함수\n",
    "1 부터 99까지의 정수 중 짝수만 저장된 튜플을 생성하라.\n",
    "\n",
    "(2, 4, 6, 8 ... 98)"
   ]
  },
  {
   "cell_type": "code",
   "execution_count": 204,
   "id": "d361ccd2",
   "metadata": {
    "ExecuteTime": {
     "end_time": "2023-11-25T05:14:39.705442Z",
     "start_time": "2023-11-25T05:14:39.697572Z"
    }
   },
   "outputs": [
    {
     "data": {
      "text/plain": [
       "(2,\n",
       " 4,\n",
       " 6,\n",
       " 8,\n",
       " 10,\n",
       " 12,\n",
       " 14,\n",
       " 16,\n",
       " 18,\n",
       " 20,\n",
       " 22,\n",
       " 24,\n",
       " 26,\n",
       " 28,\n",
       " 30,\n",
       " 32,\n",
       " 34,\n",
       " 36,\n",
       " 38,\n",
       " 40,\n",
       " 42,\n",
       " 44,\n",
       " 46,\n",
       " 48,\n",
       " 50,\n",
       " 52,\n",
       " 54,\n",
       " 56,\n",
       " 58,\n",
       " 60,\n",
       " 62,\n",
       " 64,\n",
       " 66,\n",
       " 68,\n",
       " 70,\n",
       " 72,\n",
       " 74,\n",
       " 76,\n",
       " 78,\n",
       " 80,\n",
       " 82,\n",
       " 84,\n",
       " 86,\n",
       " 88,\n",
       " 90,\n",
       " 92,\n",
       " 94,\n",
       " 96,\n",
       " 98)"
      ]
     },
     "execution_count": 204,
     "metadata": {},
     "output_type": "execute_result"
    }
   ],
   "source": [
    "data = tuple(range(2, 99, 2))\n",
    "data"
   ]
  },
  {
   "cell_type": "markdown",
   "id": "cfc1b77e",
   "metadata": {},
   "source": []
  },
  {
   "cell_type": "code",
   "execution_count": null,
   "id": "09fe60f8",
   "metadata": {
    "ExecuteTime": {
     "end_time": "2023-11-25T04:09:56.717844Z",
     "start_time": "2023-11-25T04:09:56.711613Z"
    }
   },
   "outputs": [],
   "source": [
    "081 별 표현식\n",
    "기본적으로 데이터 언패킹은 좌변의 변수와 우변 데이터 개수가 같아야 합니다. 하지만 star expression을 사용하면 변수의 개수가 달라도 데이터 언패킹을 할 수 있습니다. 튜플에 저장된 데이터 중에서 앞에 있는 두 개의 데이터만 필요할 경우 나머지 데이터의 언패킹 코드를 작성할 필요가 없습니다.\n",
    "\n",
    ">> a, b, *c = (0, 1, 2, 3, 4, 5)\n",
    ">> a\n",
    "0\n",
    ">> b\n",
    "1\n",
    ">> c\n",
    "[2, 3, 4, 5]\n",
    "다음과 같이 10개의 값이 저장된 scores 리스트가 있을 때, start expression을 사용하여 좌측 8개의 값을 valid_score 변수에 바인딩하여라.\n",
    "\n",
    "scores = [8.8, 8.9, 8.7, 9.2, 9.3, 9.7, 9.9, 9.5, 7.8, 9.4]"
   ]
  },
  {
   "cell_type": "markdown",
   "id": "a89f0625",
   "metadata": {},
   "source": []
  },
  {
   "cell_type": "code",
   "execution_count": 1,
   "id": "9120ac42",
   "metadata": {
    "ExecuteTime": {
     "end_time": "2023-11-27T10:52:27.607501Z",
     "start_time": "2023-11-27T10:52:27.596540Z"
    }
   },
   "outputs": [
    {
     "data": {
      "text/plain": [
       "0"
      ]
     },
     "execution_count": 1,
     "metadata": {},
     "output_type": "execute_result"
    }
   ],
   "source": [
    "a, b, *c = (0, 1, 2, 3, 4, 5)\n",
    "a"
   ]
  },
  {
   "cell_type": "markdown",
   "id": "6079867a",
   "metadata": {},
   "source": []
  },
  {
   "cell_type": "code",
   "execution_count": 2,
   "id": "bd3fc573",
   "metadata": {
    "ExecuteTime": {
     "end_time": "2023-11-27T10:52:35.382232Z",
     "start_time": "2023-11-27T10:52:35.376218Z"
    }
   },
   "outputs": [
    {
     "data": {
      "text/plain": [
       "1"
      ]
     },
     "execution_count": 2,
     "metadata": {},
     "output_type": "execute_result"
    }
   ],
   "source": [
    "b"
   ]
  },
  {
   "cell_type": "code",
   "execution_count": 3,
   "id": "784f4c78",
   "metadata": {
    "ExecuteTime": {
     "end_time": "2023-11-27T10:52:38.933205Z",
     "start_time": "2023-11-27T10:52:38.927370Z"
    }
   },
   "outputs": [
    {
     "data": {
      "text/plain": [
       "[2, 3, 4, 5]"
      ]
     },
     "execution_count": 3,
     "metadata": {},
     "output_type": "execute_result"
    }
   ],
   "source": [
    "c"
   ]
  },
  {
   "cell_type": "markdown",
   "id": "2dc305bd",
   "metadata": {},
   "source": []
  },
  {
   "cell_type": "code",
   "execution_count": 48,
   "id": "cdc66b5a",
   "metadata": {
    "ExecuteTime": {
     "end_time": "2023-11-27T11:14:19.699871Z",
     "start_time": "2023-11-27T11:14:19.693524Z"
    }
   },
   "outputs": [
    {
     "name": "stdout",
     "output_type": "stream",
     "text": [
      "[8.8, 8.9, 8.7, 9.2, 9.3, 9.7, 9.9, 9.5]\n",
      "9.4\n",
      "7.8\n"
     ]
    }
   ],
   "source": [
    "scores = [8.8, 8.9, 8.7, 9.2, 9.3, 9.7, 9.9, 9.5, 7.8, 9.4]\n",
    "\n",
    "*valid_score, a, b = scores\n",
    "valid_score"
   ]
  },
  {
   "cell_type": "markdown",
   "id": "d7fe442d",
   "metadata": {},
   "source": [
    "082\n",
    "다음과 같이 10개의 값이 저장된 scores 리스트가 있을 때, start expression을 사용하여 우측 8개의 값을 valid_score 변수에 바인딩하여라.\n",
    "\n",
    "scores = [8.8, 8.9, 8.7, 9.2, 9.3, 9.7, 9.9, 9.5, 7.8, 9.4]"
   ]
  },
  {
   "cell_type": "code",
   "execution_count": 9,
   "id": "d1ef4e0b",
   "metadata": {
    "ExecuteTime": {
     "end_time": "2023-11-27T10:58:28.441771Z",
     "start_time": "2023-11-27T10:58:28.434717Z"
    }
   },
   "outputs": [
    {
     "data": {
      "text/plain": [
       "[8.7, 9.2, 9.3, 9.7, 9.9, 9.5, 7.8, 9.4]"
      ]
     },
     "execution_count": 9,
     "metadata": {},
     "output_type": "execute_result"
    }
   ],
   "source": [
    "scores = [8.8, 8.9, 8.7, 9.2, 9.3, 9.7, 9.9, 9.5, 7.8, 9.4]\n",
    "\n",
    "a, b, *valid_score = scores\n",
    "valid_score"
   ]
  },
  {
   "cell_type": "markdown",
   "id": "c4dca719",
   "metadata": {},
   "source": [
    "083\n",
    "다음과 같이 10개의 값이 저장된 scores 리스트가 있을 때, start expression을 사용하여 가운데 있는 8개의 값을 valid_score 변수에 바인딩하여라.\n",
    "\n",
    "scores = [8.8, 8.9, 8.7, 9.2, 9.3, 9.7, 9.9, 9.5, 7.8, 9.4]"
   ]
  },
  {
   "cell_type": "code",
   "execution_count": 10,
   "id": "a7e39e0e",
   "metadata": {
    "ExecuteTime": {
     "end_time": "2023-11-27T10:59:32.352080Z",
     "start_time": "2023-11-27T10:59:32.344606Z"
    }
   },
   "outputs": [
    {
     "data": {
      "text/plain": [
       "[8.9, 8.7, 9.2, 9.3, 9.7, 9.9, 9.5, 7.8]"
      ]
     },
     "execution_count": 10,
     "metadata": {},
     "output_type": "execute_result"
    }
   ],
   "source": [
    "scores = [8.8, 8.9, 8.7, 9.2, 9.3, 9.7, 9.9, 9.5, 7.8, 9.4]\n",
    "\n",
    "a, *valid_score, b = scores\n",
    "valid_score"
   ]
  },
  {
   "cell_type": "markdown",
   "id": "3ab938ce",
   "metadata": {},
   "source": [
    "084 비어있는 딕셔너리\n",
    "temp 이름의 비어있는 딕셔너리를 만들라."
   ]
  },
  {
   "cell_type": "code",
   "execution_count": 13,
   "id": "1d057b35",
   "metadata": {
    "ExecuteTime": {
     "end_time": "2023-11-27T11:00:18.692715Z",
     "start_time": "2023-11-27T11:00:18.687096Z"
    }
   },
   "outputs": [
    {
     "data": {
      "text/plain": [
       "{}"
      ]
     },
     "execution_count": 13,
     "metadata": {},
     "output_type": "execute_result"
    }
   ],
   "source": [
    "temp = { }\n",
    "temp"
   ]
  },
  {
   "cell_type": "markdown",
   "id": "196607ac",
   "metadata": {},
   "source": [
    "085\n",
    "다음 아이스크림 이름과 희망 가격을 딕셔너리로 구성하라.\n",
    "\n",
    "이름\t희망 가격\n",
    "메로나\t1000\n",
    "폴라포\t1200\n",
    "빵빠레\t1800"
   ]
  },
  {
   "cell_type": "code",
   "execution_count": 24,
   "id": "0f3c7231",
   "metadata": {
    "ExecuteTime": {
     "end_time": "2023-11-27T11:04:49.782730Z",
     "start_time": "2023-11-27T11:04:49.775827Z"
    }
   },
   "outputs": [
    {
     "data": {
      "text/plain": [
       "{'메로나': 1000, '폴라포': 1200, '빵빠레': 1800}"
      ]
     },
     "execution_count": 24,
     "metadata": {},
     "output_type": "execute_result"
    }
   ],
   "source": [
    "dic = {'메로나' : 1000, '폴라포' : 1200, '빵빠레' : 1800}\n",
    "dic"
   ]
  },
  {
   "cell_type": "markdown",
   "id": "878c47f9",
   "metadata": {},
   "source": [
    "085 번의 딕셔너리에 아래 아이스크림 가격정보를 추가하라.\n",
    "\n",
    "이름\t희망 가격\n",
    "죠스바\t1200\n",
    "월드콘\t1500"
   ]
  },
  {
   "cell_type": "code",
   "execution_count": 26,
   "id": "eb3b57c7",
   "metadata": {
    "ExecuteTime": {
     "end_time": "2023-11-27T11:05:09.683810Z",
     "start_time": "2023-11-27T11:05:09.678413Z"
    }
   },
   "outputs": [
    {
     "name": "stdout",
     "output_type": "stream",
     "text": [
      "{'메로나': 1000, '폴라포': 1200, '빵빠레': 1800, '죠스바': 1200, '월드콘': 1500}\n"
     ]
    }
   ],
   "source": [
    "dic['죠스바'] = 1200\n",
    "dic['월드콘'] = 1500\n",
    "print(dic)"
   ]
  },
  {
   "cell_type": "markdown",
   "id": "89849318",
   "metadata": {},
   "source": [
    "087\n",
    "다음 딕셔너리를 사용하여 메로나 가격을 출력하라.\n",
    "\n",
    "ice = {'메로나': 1000,\n",
    "       '폴로포': 1200,\n",
    "       '빵빠레': 1800,\n",
    "       '죠스바': 1200,\n",
    "       '월드콘': 1500}\n",
    "실행 예:\n",
    "메로나 가격: 1000"
   ]
  },
  {
   "cell_type": "code",
   "execution_count": 40,
   "id": "3e3c2ef6",
   "metadata": {
    "ExecuteTime": {
     "end_time": "2023-11-27T11:07:38.882657Z",
     "start_time": "2023-11-27T11:07:38.877299Z"
    }
   },
   "outputs": [
    {
     "name": "stdout",
     "output_type": "stream",
     "text": [
      "메로나 가격: 1000\n"
     ]
    }
   ],
   "source": [
    "ice = {'메로나': 1000,\n",
    "       '폴로포': 1200,\n",
    "       '빵빠레': 1800,\n",
    "       '죠스바': 1200,\n",
    "       '월드콘': 1500}\n",
    "\n",
    "print('메로나 가격:', ice['메로나'])\n"
   ]
  },
  {
   "cell_type": "markdown",
   "id": "646dba47",
   "metadata": {},
   "source": [
    "088\n",
    "다음 딕셔너리에서 메로나의 가격을 1300으로 수정하라.\n",
    "\n",
    "ice = {'메로나': 1000,\n",
    "       '폴로포': 1200,\n",
    "       '빵빠레': 1800,\n",
    "       '죠스바': 1200,\n",
    "       '월드콘': 1500}"
   ]
  },
  {
   "cell_type": "code",
   "execution_count": 41,
   "id": "0ef3c09f",
   "metadata": {
    "ExecuteTime": {
     "end_time": "2023-11-27T11:08:03.029623Z",
     "start_time": "2023-11-27T11:08:03.023554Z"
    }
   },
   "outputs": [
    {
     "data": {
      "text/plain": [
       "{'메로나': 1300, '폴로포': 1200, '빵빠레': 1800, '죠스바': 1200, '월드콘': 1500}"
      ]
     },
     "execution_count": 41,
     "metadata": {},
     "output_type": "execute_result"
    }
   ],
   "source": [
    "ice['메로나'] = 1300\n",
    "ice"
   ]
  },
  {
   "cell_type": "markdown",
   "id": "8dae4824",
   "metadata": {},
   "source": [
    "089\n",
    "다음 딕셔너리에서 메로나를 삭제하라.\n",
    "\n",
    "ice = {'메로나': 1000,\n",
    "       '폴로포': 1200,\n",
    "       '빵빠레': 1800,\n",
    "       '죠스바': 1200,\n",
    "       '월드콘': 1500}"
   ]
  },
  {
   "cell_type": "code",
   "execution_count": 45,
   "id": "8084a58b",
   "metadata": {
    "ExecuteTime": {
     "end_time": "2023-11-27T11:09:35.832709Z",
     "start_time": "2023-11-27T11:09:35.826176Z"
    }
   },
   "outputs": [
    {
     "data": {
      "text/plain": [
       "{'폴로포': 1200, '빵빠레': 1800, '죠스바': 1200, '월드콘': 1500}"
      ]
     },
     "execution_count": 45,
     "metadata": {},
     "output_type": "execute_result"
    }
   ],
   "source": [
    "ice = {'메로나': 1000,\n",
    "       '폴로포': 1200,\n",
    "       '빵빠레': 1800,\n",
    "       '죠스바': 1200,\n",
    "       '월드콘': 1500}\n",
    "\n",
    "del ice['메로나']\n",
    "ice"
   ]
  },
  {
   "cell_type": "markdown",
   "id": "a9b7fd96",
   "metadata": {},
   "source": [
    "090\n",
    "다음 코드에서 에러가 발생한 원인을 설명하라.\n",
    "\n",
    ">> icecream = {'폴라포': 1200, '빵빠레': 1800, '월드콘': 1500, '메로나': 1000}\n",
    ">> icecream['누가바']\n",
    "Traceback (most recent call last):\n",
    "  File \"<pyshell#69>\", line 1, in <module>\n",
    "    icecream['누가바']\n",
    "KeyError: '누가바'"
   ]
  },
  {
   "cell_type": "code",
   "execution_count": null,
   "id": "69ecbd5b",
   "metadata": {
    "ExecuteTime": {
     "end_time": "2023-11-25T04:52:32.959990Z",
     "start_time": "2023-11-25T04:52:32.954015Z"
    }
   },
   "outputs": [],
   "source": [
    "icecream 딕셔너리에 누가바 키가 없음"
   ]
  },
  {
   "cell_type": "markdown",
   "id": "3b278ba4",
   "metadata": {},
   "source": [
    "091 딕셔너리 생성\n",
    "아래의 표에서, 아이스크림 이름을 키값으로, (가격, 재고) 리스트를 딕셔너리의 값으로 저장하라. 딕셔너리의 이름은 inventory로 한다.\n",
    "\n",
    "이름\t가격\t재고\n",
    "메로나\t300\t20\n",
    "비비빅\t400\t3\n",
    "죠스바\t250\t100"
   ]
  },
  {
   "cell_type": "code",
   "execution_count": 49,
   "id": "94ac7d05",
   "metadata": {
    "ExecuteTime": {
     "end_time": "2023-11-27T11:22:51.196398Z",
     "start_time": "2023-11-27T11:22:51.188880Z"
    }
   },
   "outputs": [
    {
     "data": {
      "text/plain": [
       "{'메로나': [300, 20], '비비빅': [400, 3], '죠스바': [250, 100]}"
      ]
     },
     "execution_count": 49,
     "metadata": {},
     "output_type": "execute_result"
    }
   ],
   "source": [
    "inventory = {'메로나' : [300, 20], '비비빅' : [400, 3], '죠스바' : [250, 100]}\n",
    "inventory"
   ]
  },
  {
   "cell_type": "markdown",
   "id": "f32b75ca",
   "metadata": {},
   "source": [
    "092 딕셔너리 인덱싱\n",
    "inventory 딕셔너리에서 메로나의 가격을 화면에 출력하라.\n",
    "\n",
    "inventory = {\"메로나\": [300, 20],\n",
    "              \"비비빅\": [400, 3],\n",
    "              \"죠스바\": [250, 100]}\n",
    "실행 예시:\n",
    "300 원"
   ]
  },
  {
   "cell_type": "code",
   "execution_count": 57,
   "id": "9c3a5ded",
   "metadata": {
    "ExecuteTime": {
     "end_time": "2023-11-27T11:25:35.352196Z",
     "start_time": "2023-11-27T11:25:35.347148Z"
    }
   },
   "outputs": [
    {
     "name": "stdout",
     "output_type": "stream",
     "text": [
      "300 원\n"
     ]
    }
   ],
   "source": [
    "inventory = {\"메로나\": [300, 20],\n",
    "              \"비비빅\": [400, 3],\n",
    "              \"죠스바\": [250, 100]}\n",
    "\n",
    "print(inventory[\"메로나\"][0], '원')"
   ]
  },
  {
   "cell_type": "markdown",
   "id": "c786aa7b",
   "metadata": {},
   "source": [
    "093 딕셔너리 인덱싱\n",
    "inventory 딕셔너리에서 메로나의 재고를 화면에 출력하라.\n",
    "\n",
    "inventory = {\"메로나\": [300, 20],\n",
    "              \"비비빅\": [400, 3],\n",
    "              \"죠스바\": [250, 100]}\n",
    "실행 예시:\n",
    "20 개"
   ]
  },
  {
   "cell_type": "code",
   "execution_count": 63,
   "id": "e9e74856",
   "metadata": {
    "ExecuteTime": {
     "end_time": "2023-11-27T11:27:00.418090Z",
     "start_time": "2023-11-27T11:27:00.412254Z"
    }
   },
   "outputs": [
    {
     "name": "stdout",
     "output_type": "stream",
     "text": [
      "300 개\n"
     ]
    }
   ],
   "source": [
    "inventory = {\"메로나\": [300, 20],\n",
    "              \"비비빅\": [400, 3],\n",
    "              \"죠스바\": [250, 100]}\n",
    "\n",
    "print(inventory[\"메로나\"][0], \"개\")"
   ]
  },
  {
   "cell_type": "markdown",
   "id": "6506c5d5",
   "metadata": {},
   "source": [
    "094 딕셔너리 추가\n",
    "inventory 딕셔너리에 아래 데이터를 추가하라.\n",
    "\n",
    "inventory = {\"메로나\": [300, 20],\n",
    "              \"비비빅\": [400, 3],\n",
    "              \"죠스바\": [250, 100]}\n",
    "이름\t가격\t재고\n",
    "월드콘\t500\t7\n",
    "실행 예시:\n",
    ">> print(inventory)\n",
    "{'메로나': [300, 20], '비비빅': [400, 3], '죠스바': [250, 100], '월드콘': [500, 7]}"
   ]
  },
  {
   "cell_type": "code",
   "execution_count": 68,
   "id": "329dce9f",
   "metadata": {
    "ExecuteTime": {
     "end_time": "2023-11-27T11:28:10.820875Z",
     "start_time": "2023-11-27T11:28:10.813365Z"
    }
   },
   "outputs": [
    {
     "data": {
      "text/plain": [
       "{'메로나': [300, 20], '비비빅': [400, 3], '죠스바': [250, 100], '월드콘': [500, 7]}"
      ]
     },
     "execution_count": 68,
     "metadata": {},
     "output_type": "execute_result"
    }
   ],
   "source": [
    "inventory = {\"메로나\": [300, 20],\n",
    "              \"비비빅\": [400, 3],\n",
    "              \"죠스바\": [250, 100]}\n",
    "inventory[\"월드콘\"] = [500, 7]\n",
    "inventory"
   ]
  },
  {
   "cell_type": "markdown",
   "id": "a16a0193",
   "metadata": {},
   "source": [
    "095 딕셔너리 keys() 메서드\n",
    "다음의 딕셔너리로부터 key 값으로만 구성된 리스트를 생성하라.\n",
    "\n",
    "icecream = {'탱크보이': 1200, '폴라포': 1200, '빵빠레': 1800, '월드콘': 1500, '메로나': 1000}"
   ]
  },
  {
   "cell_type": "code",
   "execution_count": 73,
   "id": "7e623c8f",
   "metadata": {
    "ExecuteTime": {
     "end_time": "2023-11-27T11:30:10.193988Z",
     "start_time": "2023-11-27T11:30:10.186632Z"
    }
   },
   "outputs": [
    {
     "data": {
      "text/plain": [
       "['탱크보이', '폴라포', '빵빠레', '월드콘', '메로나']"
      ]
     },
     "execution_count": 73,
     "metadata": {},
     "output_type": "execute_result"
    }
   ],
   "source": [
    "icecream = {'탱크보이': 1200, '폴라포': 1200, '빵빠레': 1800, '월드콘': 1500, '메로나': 1000}\n",
    "\n",
    "list(icecream.keys())"
   ]
  },
  {
   "cell_type": "markdown",
   "id": "04536906",
   "metadata": {},
   "source": [
    "097 딕셔너리 values() 메서드\n",
    "icecream 딕셔너리에서 아이스크림 판매 금액의 총합을 출력하라.\n",
    "\n",
    "icecream = {'탱크보이': 1200, '폴라포': 1200, '빵빠레': 1800, '월드콘': 1500, '메로나': 1000}\n",
    "출력 예시:\n",
    "6700"
   ]
  },
  {
   "cell_type": "code",
   "execution_count": 72,
   "id": "9195a16c",
   "metadata": {
    "ExecuteTime": {
     "end_time": "2023-11-27T11:29:54.657706Z",
     "start_time": "2023-11-27T11:29:54.651527Z"
    }
   },
   "outputs": [
    {
     "data": {
      "text/plain": [
       "6700"
      ]
     },
     "execution_count": 72,
     "metadata": {},
     "output_type": "execute_result"
    }
   ],
   "source": [
    "sum(icecream.values())"
   ]
  },
  {
   "cell_type": "markdown",
   "id": "7e8f9f85",
   "metadata": {},
   "source": [
    "098 딕셔너리 update 메서드\n",
    "아래의 new_product 딕셔너리를 다음 icecream 딕셔너리에 추가하라.\n",
    "\n",
    "icecream = {'탱크보이': 1200, '폴라포': 1200, '빵빠레': 1800, '월드콘': 1500, '메로나': 1000}\n",
    "new_product = {'팥빙수':2700, '아맛나':1000}\n",
    "실행 예시:\n",
    ">> print(icecream)\n",
    "{'탱크보이': 1200,  '폴라포': 1200,  '빵빠레': 1800,  '월드콘': 1500,  '메로나': 1000,  '팥빙수':2700, '아맛나':1000}"
   ]
  },
  {
   "cell_type": "code",
   "execution_count": null,
   "id": "3d6c707c",
   "metadata": {
    "ExecuteTime": {
     "end_time": "2023-11-25T05:03:52.040094Z",
     "start_time": "2023-11-25T05:03:52.034093Z"
    }
   },
   "outputs": [],
   "source": [
    "icecream = {'탱크보이': 1200, '폴라포': 1200, '빵빠레': 1800, '월드콘': 1500, '메로나': 1000}\n",
    "new_product = {'팥빙수':2700, '아맛나':1000}\n",
    "    \n",
    "    "
   ]
  },
  {
   "cell_type": "markdown",
   "id": "ed5dfe0f",
   "metadata": {},
   "source": [
    "099 zip과 dict\n",
    "아래 두 개의 튜플을 하나의 딕셔너리로 변환하라. keys를 키로, vals를 값으로 result 이름의 딕셔너리로 저장한다.\n",
    "\n",
    "keys = (\"apple\", \"pear\", \"peach\")\n",
    "vals = (300, 250, 400)\n",
    "실행 예시:\n",
    ">> print(result)\n",
    "{'apple': 300, 'pear': 250, 'peach': 400}"
   ]
  },
  {
   "cell_type": "code",
   "execution_count": 83,
   "id": "501a6e67",
   "metadata": {
    "ExecuteTime": {
     "end_time": "2023-11-27T11:36:21.642947Z",
     "start_time": "2023-11-27T11:36:21.635046Z"
    }
   },
   "outputs": [
    {
     "data": {
      "text/plain": [
       "{'apple': 300, 'pear': 250, 'peach': 400}"
      ]
     },
     "execution_count": 83,
     "metadata": {},
     "output_type": "execute_result"
    }
   ],
   "source": [
    "keys = (\"apple\", \"pear\", \"peach\")\n",
    "vals = (300, 250, 400)\n",
    "\n",
    "result = dict(zip(keys, vals))\n",
    "result"
   ]
  },
  {
   "cell_type": "markdown",
   "id": "00e14c85",
   "metadata": {},
   "source": [
    "100 zip과 dict\n",
    "date와 close_price 두 개의 리스트를 close_table 이름의 딕셔너리로 생성하라.\n",
    "\n",
    "date = ['09/05', '09/06', '09/07', '09/08', '09/09']\n",
    "close_price = [10500, 10300, 10100, 10800, 11000]\n",
    "실행 예시:\n",
    ">> print(close_table)\n",
    "{'09/05': 10500, '09/06': 10300, '09/07': 10100, '09/08': 10800, '09/09': 11000}"
   ]
  },
  {
   "cell_type": "code",
   "execution_count": 85,
   "id": "0fdbfd54",
   "metadata": {
    "ExecuteTime": {
     "end_time": "2023-11-27T11:37:56.504835Z",
     "start_time": "2023-11-27T11:37:56.497798Z"
    }
   },
   "outputs": [
    {
     "data": {
      "text/plain": [
       "{'09/05': 10500,\n",
       " '09/06': 10300,\n",
       " '09/07': 10100,\n",
       " '09/08': 10800,\n",
       " '09/09': 11000}"
      ]
     },
     "execution_count": 85,
     "metadata": {},
     "output_type": "execute_result"
    }
   ],
   "source": [
    "date = ['09/05', '09/06', '09/07', '09/08', '09/09']\n",
    "close_price = [10500, 10300, 10100, 10800, 11000]\n",
    "close_table = dict(zip(date, close_price))\n",
    "close_table"
   ]
  },
  {
   "cell_type": "markdown",
   "id": "19748988",
   "metadata": {},
   "source": [
    "101\n",
    "파이썬에서 True 혹은 False를 갖는 데이터 타입은 무엇인가?"
   ]
  },
  {
   "cell_type": "code",
   "execution_count": null,
   "id": "8a0ff9a8",
   "metadata": {
    "ExecuteTime": {
     "end_time": "2023-11-25T05:07:16.714575Z",
     "start_time": "2023-11-25T05:07:16.705983Z"
    }
   },
   "outputs": [],
   "source": [
    "bool 타입"
   ]
  },
  {
   "cell_type": "markdown",
   "id": "036e593f",
   "metadata": {},
   "source": [
    "102\n",
    "아래 코드의 출력 결과를 예상하라\n",
    "\n",
    "print(3 == 5)"
   ]
  },
  {
   "cell_type": "code",
   "execution_count": null,
   "id": "c727c6b6",
   "metadata": {
    "ExecuteTime": {
     "end_time": "2023-11-25T05:08:53.897617Z",
     "start_time": "2023-11-25T05:08:53.891498Z"
    }
   },
   "outputs": [],
   "source": [
    "False"
   ]
  },
  {
   "cell_type": "markdown",
   "id": "b8ce7a60",
   "metadata": {},
   "source": [
    "103\n",
    "아래 코드의 출력 결과를 예상하라\n",
    "\n",
    "print(3 < 5)"
   ]
  },
  {
   "cell_type": "code",
   "execution_count": null,
   "id": "3e6bd22d",
   "metadata": {
    "ExecuteTime": {
     "end_time": "2023-11-25T05:10:23.952140Z",
     "start_time": "2023-11-25T05:10:23.945079Z"
    }
   },
   "outputs": [],
   "source": [
    "True"
   ]
  },
  {
   "cell_type": "markdown",
   "id": "55b05928",
   "metadata": {},
   "source": [
    "104\n",
    "아래 코드의 결과를 예상하라.\n",
    "\n",
    "x = 4\n",
    "print(1 < x < 5)"
   ]
  },
  {
   "cell_type": "code",
   "execution_count": null,
   "id": "982d97e0",
   "metadata": {
    "ExecuteTime": {
     "end_time": "2023-11-25T05:10:17.788097Z",
     "start_time": "2023-11-25T05:10:17.781900Z"
    }
   },
   "outputs": [],
   "source": [
    "True"
   ]
  },
  {
   "cell_type": "markdown",
   "id": "c09c3801",
   "metadata": {},
   "source": [
    "105\n",
    "아래 코드의 결과를 예상하라.\n",
    "\n",
    "print ((3 == 3) and (4 != 3))"
   ]
  },
  {
   "cell_type": "code",
   "execution_count": null,
   "id": "fc8792a7",
   "metadata": {
    "ExecuteTime": {
     "end_time": "2023-11-25T05:11:14.501204Z",
     "start_time": "2023-11-25T05:11:14.496140Z"
    }
   },
   "outputs": [],
   "source": [
    "# true and true\n",
    "\n",
    "True"
   ]
  },
  {
   "cell_type": "markdown",
   "id": "4207331e",
   "metadata": {},
   "source": [
    "106\n",
    "아래 코드에서 에러가 발생하는 원인에 대해 설명하라.\n",
    "\n",
    "print(3 => 4)"
   ]
  },
  {
   "cell_type": "code",
   "execution_count": null,
   "id": "dfc89dea",
   "metadata": {
    "ExecuteTime": {
     "end_time": "2023-11-25T05:14:39.705442Z",
     "start_time": "2023-11-25T05:14:39.697572Z"
    }
   },
   "outputs": [],
   "source": [
    "부등호 순서가 잘못됨"
   ]
  },
  {
   "cell_type": "markdown",
   "id": "9727e68c",
   "metadata": {},
   "source": [
    "107\n",
    "아래 코드의 출력 결과를 예상하라\n",
    "\n",
    "if 4 < 3:\n",
    "    print(\"Hello World\")"
   ]
  },
  {
   "cell_type": "code",
   "execution_count": null,
   "id": "42467711",
   "metadata": {
    "ExecuteTime": {
     "end_time": "2023-11-25T04:09:56.717844Z",
     "start_time": "2023-11-25T04:09:56.711613Z"
    }
   },
   "outputs": [],
   "source": [
    "조건문이 false 여서 출력이 안됨"
   ]
  },
  {
   "cell_type": "markdown",
   "id": "209eda95",
   "metadata": {},
   "source": [
    "108\n",
    "아래 코드의 출력 결과를 예상하라\n",
    "\n",
    "if 4 < 3:\n",
    "    print(\"Hello World.\")\n",
    "else:\n",
    "    print(\"Hi, there.\")"
   ]
  },
  {
   "cell_type": "code",
   "execution_count": null,
   "id": "5dbb4a65",
   "metadata": {
    "ExecuteTime": {
     "end_time": "2023-11-25T04:11:14.658713Z",
     "start_time": "2023-11-25T04:11:14.649873Z"
    }
   },
   "outputs": [],
   "source": [
    "조건문이 false여서 Hi, there 가 출력됨"
   ]
  },
  {
   "cell_type": "markdown",
   "id": "4e46373e",
   "metadata": {},
   "source": [
    "109\n",
    "아래 코드의 출력 결과를 예상하라\n",
    "\n",
    "if True :\n",
    "    print (\"1\")\n",
    "    print (\"2\")\n",
    "else :\n",
    "    print(\"3\")\n",
    "print(\"4\")"
   ]
  },
  {
   "cell_type": "code",
   "execution_count": null,
   "id": "1bde730c",
   "metadata": {
    "ExecuteTime": {
     "end_time": "2023-11-25T04:14:18.741297Z",
     "start_time": "2023-11-25T04:14:18.732273Z"
    }
   },
   "outputs": [],
   "source": [
    "조건문이 true 이고 조건문 밖에 print('4')가 있기 때문에\n",
    "\n",
    "1\n",
    "2\n",
    "4\n",
    "\n",
    "가 출력 됨"
   ]
  },
  {
   "cell_type": "markdown",
   "id": "8b5e7e7a",
   "metadata": {},
   "source": [
    "110\n",
    "아래 코드의 출력 결과를 예상하라\n",
    "\n",
    "if True :\n",
    "    if False:\n",
    "        print(\"1\")\n",
    "        print(\"2\")\n",
    "    else:\n",
    "        print(\"3\")\n",
    "else :\n",
    "    print(\"4\")\n",
    "print(\"5\")"
   ]
  },
  {
   "cell_type": "code",
   "execution_count": 1,
   "id": "79ae0089",
   "metadata": {
    "ExecuteTime": {
     "end_time": "2023-11-28T07:47:52.957507Z",
     "start_time": "2023-11-28T07:47:52.948332Z"
    }
   },
   "outputs": [
    {
     "data": {
      "text/plain": [
       "5"
      ]
     },
     "execution_count": 1,
     "metadata": {},
     "output_type": "execute_result"
    }
   ],
   "source": [
    "# 외부 if 문에서 True 이고 내부 if문에서 조건이 false 이기 때문에\n",
    "# else로 넘어가서 '3'이 프린트 되고 외부 if문을 벗어나서 '5'가 추가로 출력됨\n",
    "\n",
    "3\n",
    "5"
   ]
  },
  {
   "cell_type": "markdown",
   "id": "b247499d",
   "metadata": {},
   "source": [
    "111\n",
    "사용자로부터 입력받은 문자열을 두 번 출력하라. 아래는 사용자가 \"안녕하세요\"를 입력한 경우의 출력 결과이다.\n",
    "\n",
    ">> 안녕하세요\n",
    "안녕하세요안녕하세요"
   ]
  },
  {
   "cell_type": "code",
   "execution_count": 3,
   "id": "213c8f11",
   "metadata": {
    "ExecuteTime": {
     "end_time": "2023-11-28T07:50:43.036693Z",
     "start_time": "2023-11-28T07:50:40.119340Z"
    }
   },
   "outputs": [
    {
     "name": "stdout",
     "output_type": "stream",
     "text": [
      "안녕하세요\n",
      "안녕하세요안녕하세요\n"
     ]
    }
   ],
   "source": [
    "txt = input()\n",
    "print(txt * 2)"
   ]
  },
  {
   "cell_type": "markdown",
   "id": "307a4e79",
   "metadata": {},
   "source": [
    "112\n",
    "사용자로부터 하나의 숫자를 입력받고, 입력 받은 숫자에 10을 더해 출력하라.\n",
    "\n",
    ">> 숫자를 입력하세요: 30\n",
    "40"
   ]
  },
  {
   "cell_type": "code",
   "execution_count": 3,
   "id": "c266ab0d",
   "metadata": {
    "ExecuteTime": {
     "end_time": "2023-11-28T12:10:34.637337Z",
     "start_time": "2023-11-28T12:10:33.301115Z"
    }
   },
   "outputs": [
    {
     "name": "stdout",
     "output_type": "stream",
     "text": [
      "30\n",
      "40\n"
     ]
    }
   ],
   "source": [
    "num = input()\n",
    "result = int(num) + 10\n",
    "print(result)"
   ]
  },
  {
   "cell_type": "markdown",
   "id": "85ebf23b",
   "metadata": {},
   "source": [
    "113\n",
    "사용자로부터 하나의 숫자를 입력 받고 짝수/홀수를 판별하라.\n",
    "\n",
    ">> 30\n",
    "짝수"
   ]
  },
  {
   "cell_type": "code",
   "execution_count": 10,
   "id": "0195a550",
   "metadata": {
    "ExecuteTime": {
     "end_time": "2023-11-28T12:13:41.059417Z",
     "start_time": "2023-11-28T12:13:40.128637Z"
    }
   },
   "outputs": [
    {
     "name": "stdout",
     "output_type": "stream",
     "text": [
      "2\n",
      "짝수\n"
     ]
    }
   ],
   "source": [
    "num = input()\n",
    "if int(num) % 2 == 0 :\n",
    "    print('짝수')\n",
    "else :\n",
    "    print('홀수')"
   ]
  },
  {
   "cell_type": "markdown",
   "id": "5c0e800a",
   "metadata": {},
   "source": [
    "114\n",
    "사용자로부터 값을 입력받은 후 해당 값에 20을 더한 값을 출력하라. 단 사용자가 입력한 값과 20을 더한 계산 값이 255를 초과하는 경우 255를 출력해야 한다.\n",
    "\n",
    ">> 입력값: 200\n",
    "출력값: 220\n",
    ">> 입력값: 240\n",
    "출력값: 255"
   ]
  },
  {
   "cell_type": "code",
   "execution_count": 21,
   "id": "b7958d98",
   "metadata": {
    "ExecuteTime": {
     "end_time": "2023-11-28T12:17:25.935811Z",
     "start_time": "2023-11-28T12:17:24.104062Z"
    }
   },
   "outputs": [
    {
     "name": "stdout",
     "output_type": "stream",
     "text": [
      "245\n",
      "255\n"
     ]
    }
   ],
   "source": [
    "num = input()\n",
    "num = int(num) + 20\n",
    "if num > 255 :\n",
    "    print(255)\n",
    "else :\n",
    "    print(num)\n"
   ]
  },
  {
   "cell_type": "markdown",
   "id": "90bb2df7",
   "metadata": {},
   "source": [
    "115\n",
    "사용자로부터 하나의 값을 입력받은 후 해당 값에 20을 뺀 값을 출력하라. 단 출력 값의 범위는 0~255이다. 예를 들어 결괏값이 0보다 작은 값이되는 경우 0을 출력하고 255보다 큰 값이 되는 경우 255를 출력해야 한다.\n",
    "\n",
    ">> 입력값: 200\n",
    "출력값: 180\n",
    ">> 입력값: 15\n",
    "출력값: 0"
   ]
  },
  {
   "cell_type": "code",
   "execution_count": 39,
   "id": "2773d35c",
   "metadata": {
    "ExecuteTime": {
     "end_time": "2023-11-28T12:24:56.174256Z",
     "start_time": "2023-11-28T12:24:54.486193Z"
    },
    "scrolled": true
   },
   "outputs": [
    {
     "name": "stdout",
     "output_type": "stream",
     "text": [
      "19\n",
      "0\n"
     ]
    }
   ],
   "source": [
    "num = input()\n",
    "num = int(num) - 20\n",
    "if num < 0 :\n",
    "    print(0)\n",
    "elif num > 255 :\n",
    "    print(255)\n",
    "else :\n",
    "    print(int(num))"
   ]
  },
  {
   "cell_type": "code",
   "execution_count": 41,
   "id": "4a1cfa0a",
   "metadata": {
    "ExecuteTime": {
     "end_time": "2023-11-28T12:25:53.653846Z",
     "start_time": "2023-11-28T12:25:51.666388Z"
    }
   },
   "outputs": [
    {
     "name": "stdout",
     "output_type": "stream",
     "text": [
      "286\n",
      "255\n"
     ]
    }
   ],
   "source": [
    "num = input()\n",
    "num = int(num) - 20\n",
    "if num < 0 :\n",
    "    print(0)\n",
    "elif num > 255 :\n",
    "    print(255)\n",
    "else :\n",
    "    print(int(num))"
   ]
  },
  {
   "cell_type": "code",
   "execution_count": 42,
   "id": "ab8b7848",
   "metadata": {
    "ExecuteTime": {
     "end_time": "2023-11-28T12:25:53.653846Z",
     "start_time": "2023-11-28T12:25:51.666388Z"
    },
    "scrolled": true
   },
   "outputs": [
    {
     "name": "stdout",
     "output_type": "stream",
     "text": [
      "12\n",
      "0\n"
     ]
    }
   ],
   "source": [
    "num = input()\n",
    "num = int(num) - 20\n",
    "if num < 0 :\n",
    "    print(0)\n",
    "elif num > 255 :\n",
    "    print(255)\n",
    "else :\n",
    "    print(int(num))"
   ]
  },
  {
   "cell_type": "markdown",
   "id": "79cfc811",
   "metadata": {},
   "source": [
    "116\n",
    "사용자로부터 입력 받은 시간이 정각인지 판별하라.\n",
    "\n",
    ">> 현재시간:02:00\n",
    "정각 입니다.\n",
    ">> 현재시간:03:10\n",
    "정각이 아닙니다"
   ]
  },
  {
   "cell_type": "code",
   "execution_count": 60,
   "id": "c4a6a3ca",
   "metadata": {
    "ExecuteTime": {
     "end_time": "2023-11-28T12:35:42.098171Z",
     "start_time": "2023-11-28T12:35:39.566154Z"
    }
   },
   "outputs": [
    {
     "name": "stdout",
     "output_type": "stream",
     "text": [
      "시간을 입력해주세요\n",
      "23\n",
      "분을 입력해주세요\n",
      "0\n",
      "정각 입니다.\n"
     ]
    }
   ],
   "source": [
    "print('시간을 입력해주세요')\n",
    "hour = input()\n",
    "print('분을 입력해주세요')\n",
    "minute = int(input())\n",
    "if minute > 0 :\n",
    "    print('정각이 아닙니다.')\n",
    "else : \n",
    "    print('정각 입니다.')"
   ]
  },
  {
   "cell_type": "code",
   "execution_count": 87,
   "id": "c5490547",
   "metadata": {
    "ExecuteTime": {
     "end_time": "2023-11-28T12:46:32.498814Z",
     "start_time": "2023-11-28T12:46:30.954003Z"
    }
   },
   "outputs": [
    {
     "name": "stdout",
     "output_type": "stream",
     "text": [
      "시간을 형식에 맞춰 입력해주세요(hh:mm)\n",
      "23:00\n",
      "정각 입니다.\n"
     ]
    }
   ],
   "source": [
    "print('시간을 형식에 맞춰 입력해주세요(hh:mm)')\n",
    "time = input()\n",
    "if int(time[-2:]) > 0 :\n",
    "    print('정각이 아닙니다.')\n",
    "else :\n",
    "    print('정각 입니다.')"
   ]
  },
  {
   "cell_type": "code",
   "execution_count": 88,
   "id": "925b3df4",
   "metadata": {
    "ExecuteTime": {
     "end_time": "2023-11-28T12:47:30.304827Z",
     "start_time": "2023-11-28T12:47:29.012816Z"
    }
   },
   "outputs": [
    {
     "name": "stdout",
     "output_type": "stream",
     "text": [
      "33\n"
     ]
    },
    {
     "data": {
      "text/plain": [
       "str"
      ]
     },
     "execution_count": 88,
     "metadata": {},
     "output_type": "execute_result"
    }
   ],
   "source": [
    "time = input()\n",
    "type(time) # 숫자 입력 했을때"
   ]
  },
  {
   "cell_type": "markdown",
   "id": "32d99db7",
   "metadata": {},
   "source": [
    "117\n",
    "사용자로 입력받은 단어가 아래 fruit 리스트에 포함되어 있는지를 확인하라. 포함되었다면 \"정답입니다\"를 아닐 경우 \"오답입니다\" 출력하라.\n",
    "\n",
    "fruit = [\"사과\", \"포도\", \"홍시\"]\n",
    ">> 좋아하는 과일은? 사과\n",
    "정답입니다."
   ]
  },
  {
   "cell_type": "code",
   "execution_count": 93,
   "id": "89c588ab",
   "metadata": {
    "ExecuteTime": {
     "end_time": "2023-11-28T12:50:45.354340Z",
     "start_time": "2023-11-28T12:50:42.792947Z"
    }
   },
   "outputs": [
    {
     "name": "stdout",
     "output_type": "stream",
     "text": [
      "좋아하는 과일은?\n",
      "바나나\n",
      "오답입니다.\n"
     ]
    }
   ],
   "source": [
    "fruit = [\"사과\", \"포도\", \"홍시\"]\n",
    "print('좋아하는 과일은?')\n",
    "fav = input()\n",
    "if fav in fruit :\n",
    "    print('정답입니다.')\n",
    "else :\n",
    "    print('오답입니다.')"
   ]
  },
  {
   "cell_type": "markdown",
   "id": "62456493",
   "metadata": {},
   "source": [
    "119\n",
    "아래와 같이 fruit 딕셔너리가 정의되어 있다. 사용자가 입력한 값이 딕셔너리 키 (key) 값에 포함되었다면 \"정답입니다\"를 아닐 경우 \"오답입니다\" 출력하라.\n",
    "\n",
    "fruit = {\"봄\" : \"딸기\", \"여름\" : \"토마토\", \"가을\" : \"사과\"}\n",
    ">> 제가좋아하는계절은: 봄\n",
    "정답입니다."
   ]
  },
  {
   "cell_type": "code",
   "execution_count": 104,
   "id": "b74c6509",
   "metadata": {
    "ExecuteTime": {
     "end_time": "2023-11-28T12:56:00.947668Z",
     "start_time": "2023-11-28T12:55:59.118559Z"
    }
   },
   "outputs": [
    {
     "name": "stdout",
     "output_type": "stream",
     "text": [
      "제가좋아하는계절은:\n",
      "겨울\n",
      "오답입니다.\n"
     ]
    }
   ],
   "source": [
    "fruit = {\"봄\" : \"딸기\", \"여름\" : \"토마토\", \"가을\" : \"사과\"}\n",
    "\n",
    "print('제가좋아하는계절은:')\n",
    "fav = input()\n",
    "if fav in fruit.keys() :\n",
    "    print('정답입니다.')\n",
    "else :\n",
    "    print('오답입니다.')"
   ]
  },
  {
   "cell_type": "markdown",
   "id": "73259109",
   "metadata": {},
   "source": [
    "120\n",
    "아래와 같이 fruit 딕셔너리가 정의되어 있다. 사용자가 입력한 값이 딕셔너리 값 (value)에 포함되었다면 \"정답입니다\"를 아닐 경우 \"오답입니다\" 출력하라.\n",
    "\n",
    "fruit = {\"봄\" : \"딸기\", \"여름\" : \"토마토\", \"가을\" : \"사과\"}\n",
    ">> 좋아하는과일은? 한라봉\n",
    "오답입니다."
   ]
  },
  {
   "cell_type": "code",
   "execution_count": 107,
   "id": "b83ac397",
   "metadata": {
    "ExecuteTime": {
     "end_time": "2023-11-28T12:57:12.301480Z",
     "start_time": "2023-11-28T12:57:11.368283Z"
    }
   },
   "outputs": [
    {
     "name": "stdout",
     "output_type": "stream",
     "text": [
      "제가좋아하는과일은:\n",
      "사과\n",
      "정답입니다.\n"
     ]
    }
   ],
   "source": [
    "fruit = {\"봄\" : \"딸기\", \"여름\" : \"토마토\", \"가을\" : \"사과\"}\n",
    "\n",
    "print('제가좋아하는과일은:')\n",
    "fav = input()\n",
    "if fav in fruit.values() :\n",
    "    print('정답입니다.')\n",
    "else :\n",
    "    print('오답입니다.')"
   ]
  },
  {
   "cell_type": "markdown",
   "id": "dce07f37",
   "metadata": {},
   "source": [
    "121\n",
    "사용자로부터 문자 한 개를 입력 받고, 소문자일 경우 대문자로, 대문자 일 경우, 소문자로 변경해서 출력하라.\n",
    "\n",
    ">> a\n",
    "A\n",
    "힌트-1 : islower() 함수는 문자의 소문자 여부를 판별합니다. 만약 소문자일 경우 True, 대문자일 경우 False를 반환합니다. 힌트-2 : upper() 함수는 대문자로, lower() 함수는 소문자로 변경합니다."
   ]
  },
  {
   "cell_type": "code",
   "execution_count": 111,
   "id": "3d214abc",
   "metadata": {
    "ExecuteTime": {
     "end_time": "2023-11-28T13:24:54.715063Z",
     "start_time": "2023-11-28T13:24:50.075133Z"
    }
   },
   "outputs": [
    {
     "name": "stdout",
     "output_type": "stream",
     "text": [
      "대, 소문자 중 아무거나 문자열 1개를 입력해주세요. \n",
      "입력하신 값이 소문자일 경우 대문자로, 대문자일 경우, \n",
      "소문자로 변경해서 출력해드립니다.\n",
      "B\n",
      "b\n"
     ]
    }
   ],
   "source": [
    "print('대, 소문자 중 아무거나 문자열 1개를 입력해주세요. \\n입력하신 값이 소문자일 경우 대문자로, 대문자일 경우, \\n소문자로 변경해서 출력해드립니다.')\n",
    "str = input()\n",
    "if str.islower() :\n",
    "    print(str.upper())\n",
    "else :\n",
    "    print(str.lower())"
   ]
  },
  {
   "cell_type": "markdown",
   "id": "88e46c71",
   "metadata": {},
   "source": [
    "122\n",
    "점수 구간에 해당하는 학점이 아래와 같이 정의되어 있다. 사용자로부터 score를 입력받아 학점을 출력하라.\n",
    "\n",
    "점수\t학점\n",
    "81~100\tA\n",
    "61~80\tB\n",
    "41~60\tC\n",
    "21~40\tD\n",
    "0~20\tE\n",
    ">> score: 83\n",
    "grade is A"
   ]
  },
  {
   "cell_type": "code",
   "execution_count": 117,
   "id": "ff43889e",
   "metadata": {
    "ExecuteTime": {
     "end_time": "2023-11-28T13:32:41.034459Z",
     "start_time": "2023-11-28T13:32:39.843502Z"
    }
   },
   "outputs": [
    {
     "name": "stdout",
     "output_type": "stream",
     "text": [
      "점수를 입력해주세요\n",
      "43\n",
      "grade is C\n"
     ]
    }
   ],
   "source": [
    "print('점수를 입력해주세요')\n",
    "score = int(input())\n",
    "if score > 80 :\n",
    "    print('grade is A')\n",
    "elif score > 60 :\n",
    "    print('grade is B')\n",
    "elif score > 40 :\n",
    "    print('grade is C')\n",
    "elif score > 20 :\n",
    "    print('grade is D')\n",
    "else :\n",
    "    print('grade is E')"
   ]
  },
  {
   "cell_type": "markdown",
   "id": "1597391a",
   "metadata": {},
   "source": [
    "123\n",
    "사용자로부터 달러, 엔, 유로, 또는 위안 금액을 입력받은 후 이를 원으로 변환하는 프로그램을 작성하라. 각 통화별 환율은 다음과 같다. 사용자는 100 달러, 1000 엔, 13 유로, 100 위안과 같이 금액과 통화명 사이에 공백을 넣어 입력한다고 가정한다.\n",
    "\n",
    "통화명\t환율\n",
    "달러\t1167\n",
    "엔\t1.096\n",
    "유로\t1268\n",
    "위안\t171"
   ]
  },
  {
   "cell_type": "code",
   "execution_count": 140,
   "id": "6af7446d",
   "metadata": {
    "ExecuteTime": {
     "end_time": "2023-11-28T13:46:40.710268Z",
     "start_time": "2023-11-28T13:46:37.350351Z"
    }
   },
   "outputs": [
    {
     "name": "stdout",
     "output_type": "stream",
     "text": [
      "환전할 종류를 입력해주세요 - 달러, 엔, 유로, 위안 중에 입력해주세요\n",
      "달러\n",
      "환전할 금액을 입력해주세요\n",
      "134\n",
      "156378 원으로 환전해드리겠습니다.\n"
     ]
    }
   ],
   "source": [
    "환율 = {'달러' : 1167, '엔' : 1.096, '유로' : 1268, '위안' : 171}\n",
    "print('환전할 종류를 입력해주세요 - 달러, 엔, 유로, 위안 중에 입력해주세요')\n",
    "a = input()\n",
    "print('환전할 금액을 입력해주세요')\n",
    "b = int(input())\n",
    "print(환율[a]*b, '원으로 환전해드리겠습니다.')"
   ]
  },
  {
   "cell_type": "markdown",
   "id": "6795edba",
   "metadata": {},
   "source": [
    "124\n",
    "사용자로부터 세 개의 숫자를 입력 받은 후 가장 큰 숫자를 출력하라.\n",
    "\n",
    ">> input number1: 10\n",
    ">> input number2: 9\n",
    ">> input number3: 20\n",
    "20"
   ]
  },
  {
   "cell_type": "code",
   "execution_count": 146,
   "id": "4960efa5",
   "metadata": {
    "ExecuteTime": {
     "end_time": "2023-11-28T13:51:27.562540Z",
     "start_time": "2023-11-28T13:51:27.557722Z"
    }
   },
   "outputs": [],
   "source": [
    "max?"
   ]
  },
  {
   "cell_type": "code",
   "execution_count": 152,
   "id": "361c5cd7",
   "metadata": {
    "ExecuteTime": {
     "end_time": "2023-11-28T13:53:48.477078Z",
     "start_time": "2023-11-28T13:53:47.669581Z"
    }
   },
   "outputs": [
    {
     "name": "stdout",
     "output_type": "stream",
     "text": [
      "첫번째 숫자를 입력해주세요\n",
      "4\n",
      "두번째 숫자를 입력해주세요\n",
      "3\n",
      "세번째 숫자를 입력해주세요\n",
      "2\n",
      "입력하신 값 중 가장 큰 값은 4 입니다.\n"
     ]
    }
   ],
   "source": [
    "print('첫번째 숫자를 입력해주세요')\n",
    "num1 = input()\n",
    "print('두번째 숫자를 입력해주세요')\n",
    "num2 = input()\n",
    "print('세번째 숫자를 입력해주세요')\n",
    "num3 = input()\n",
    "\n",
    "list1 = [num1, num2, num3]\n",
    "\n",
    "\n",
    "print('입력하신 값 중 가장 큰 값은', max(list1), '입니다.')\n",
    "\n",
    "#num1 = input(\"input number1: \")\n",
    "#num2 = input(\"input number2: \")\n",
    "#num3 = input(\"input number3: \")\n",
    "#num1 = int(num1)\n",
    "#num2 = int(num2)\n",
    "#num3 = int(num3)\n",
    "\n",
    "#if num1 >= num2 and num1 >= num3:\n",
    "#    print(num1)\n",
    "#elif num2 >= num1 and num2 >= num3:\n",
    "#    print(num2)\n",
    "#else:\n",
    "#    print(num3)\n",
    "#    ###"
   ]
  },
  {
   "cell_type": "markdown",
   "id": "a38e22f7",
   "metadata": {
    "ExecuteTime": {
     "end_time": "2023-11-28T13:44:19.287456Z",
     "start_time": "2023-11-28T13:44:19.279454Z"
    }
   },
   "source": [
    "125\n",
    "휴대폰 번호 앞자리에 따라 통신사는 아래와 같이 구분된다. 사용자로부터 휴대전화 번호를 입력 받고, 통신사를 출력하는 프로그램을 작성하라.\n",
    "\n",
    "번호\t통신사\n",
    "011\tSKT\n",
    "016\tKT\n",
    "019\tLGU\n",
    "010\t알수없음"
   ]
  },
  {
   "cell_type": "code",
   "execution_count": 165,
   "id": "72124a13",
   "metadata": {
    "ExecuteTime": {
     "end_time": "2023-11-28T14:15:58.557393Z",
     "start_time": "2023-11-28T14:15:54.643507Z"
    }
   },
   "outputs": [
    {
     "name": "stdout",
     "output_type": "stream",
     "text": [
      "010-2582-1613\n",
      "사용하시는 통신사를 알 수 없습니다.\n"
     ]
    }
   ],
   "source": [
    "'휴대폰 번호를 \"000-0000-0000\" 형식으로 입력해주세요'\n",
    "phone = input()\n",
    "list1 = phone.split('-')\n",
    "list1\n",
    "\n",
    "if list1[0] == '011' :\n",
    "    print('사용하시는 통신사는 SKT 입니다.')\n",
    "elif list[0] == '016' :\n",
    "    print('사용하시는 통신사는 KT 입니다.')\n",
    "elif list[0] == '019' :\n",
    "    print('사용하시는 통신사는 LGU 입니다.')\n",
    "else :\n",
    "    print('사용하시는 통신사를 알 수 없습니다.')"
   ]
  },
  {
   "cell_type": "markdown",
   "id": "92a46f28",
   "metadata": {},
   "source": [
    "126\n",
    "우편번호는 5자리로 구성되는데, 앞의 세자리는 구를 나타낸다. 예를들어, 강북구의 경우 010, 011, 012 세 자리로 시작한다.\n",
    "\n",
    "-\t0\t1\t2\t3\t4\t5\t6\t7\t8\t9\n",
    "01\t강북구\t강북구\t강북구\t도봉구\t도봉구\t도봉구\t노원구\t노원구\t노원구\t노원구\n",
    "사용자로 부터 5자리 우편번호를 입력받고 구를 판별하라\n",
    "\n",
    ">> 우편번호: 01400\n",
    "도봉구"
   ]
  },
  {
   "cell_type": "code",
   "execution_count": 174,
   "id": "5639b958",
   "metadata": {
    "ExecuteTime": {
     "end_time": "2023-11-28T14:21:46.353526Z",
     "start_time": "2023-11-28T14:21:44.542037Z"
    }
   },
   "outputs": [
    {
     "name": "stdout",
     "output_type": "stream",
     "text": [
      "우편번호 5자리를 입력해주세요\n",
      "01256\n",
      "강북구\n"
     ]
    }
   ],
   "source": [
    "print('우편번호 5자리를 입력해주세요')\n",
    "\n",
    "addr = int(input())\n",
    "if addr < 1300 :\n",
    "    print('강북구')\n",
    "elif addr < 1600 :\n",
    "    print('도봉구')\n",
    "else :\n",
    "    print('노원구')\n",
    "    \n",
    "    \n",
    "#우편번호 = input(\"우편번호: \")\n",
    "#우편번호 = 우편번호[:3]\n",
    "#if 우편번호 in [\"010\", \"011\", \"012\"]:\n",
    "#    print(\"강북구\")\n",
    "#elif 우편번호 in [\"014\", \"015\", \"016\"]:\n",
    "#    print(\"도봉구\")\n",
    "#else:\n",
    "#    print(\"노원구\")"
   ]
  },
  {
   "cell_type": "markdown",
   "id": "1a1531dc",
   "metadata": {},
   "source": [
    "127\n",
    "주민등록번호 뒷 자리 7자리 중 첫째 자리는 성별을 나타내는데, 1, 3은 남자 2, 4는 여자를 의미한다. 사용자로부터 13자리의 주민등록번호를 입력 받은 후 성별 (남자, 여자)를 출력하는 프로그램을 작성하라.\n",
    "\n",
    ">> 주민등록번호: 821010-1635210\n",
    "남자"
   ]
  },
  {
   "cell_type": "code",
   "execution_count": 183,
   "id": "130c537d",
   "metadata": {
    "ExecuteTime": {
     "end_time": "2023-11-28T14:27:15.376724Z",
     "start_time": "2023-11-28T14:27:04.950245Z"
    }
   },
   "outputs": [
    {
     "name": "stdout",
     "output_type": "stream",
     "text": [
      "주민등록번호를 000000-0000000 형태로 입력해주세요\n",
      "123456-2345678\n",
      "여자\n"
     ]
    }
   ],
   "source": [
    "print('주민등록번호를 000000-0000000 형태로 입력해주세요')\n",
    "a = input()\n",
    "if a[7] == '1' or a[7] == '3' :\n",
    "    print('남자')\n",
    "else :\n",
    "    print('여자')"
   ]
  },
  {
   "cell_type": "markdown",
   "id": "cf6afca9",
   "metadata": {},
   "source": [
    "128\n",
    "주민등록번호의 뒷 자리 7자리 중 두번째와 세번째는 지역코드를 의미한다. 주민 등록 번호를 입력 받은 후 출생지가 서울인지 아닌지 판단하는 코드를 작성하라\n",
    "\n",
    "지역코드\t출생지\n",
    "00 ~ 08\t서울\n",
    "09 ~ 12\t부산\n",
    ">> 주민등록번호: 821010-1635210\n",
    "서울이 아닙니다.\n",
    ">> 주민등록번호: 861010-1015210\n",
    "서울 입니다."
   ]
  },
  {
   "cell_type": "code",
   "execution_count": 192,
   "id": "7ad33368",
   "metadata": {
    "ExecuteTime": {
     "end_time": "2023-11-28T14:31:54.773424Z",
     "start_time": "2023-11-28T14:31:47.042438Z"
    }
   },
   "outputs": [
    {
     "name": "stdout",
     "output_type": "stream",
     "text": [
      "주민등록번호를 000000-0000000 형태로 입력해주세요\n",
      "123456-1234567\n",
      "서울이 아닙니다.\n"
     ]
    }
   ],
   "source": [
    "print('주민등록번호를 000000-0000000 형태로 입력해주세요')\n",
    "a = input()\n",
    "if int(a[8:10]) < 9 :\n",
    "    print('서울입니다.')\n",
    "else :\n",
    "    print('서울이 아닙니다.')"
   ]
  },
  {
   "cell_type": "markdown",
   "id": "89394557",
   "metadata": {},
   "source": [
    "129\n",
    "주민등록번호는 13자리로 구성되는데 마지막 자리수는 주민등록번호의 유효성을 체크하는데 사용된다. 먼저 앞에서부터 12자리의 숫자에 2, 3, 4, 5, 6, 7, 8, 9, 2, 3, 4, 5를 차례로 곱한 뒤 그 값을 전부 더한다. 연산 결과 값을 11로 나누면 나머지가 나오는데 11에서 나머지를 뺀 값이 주민등록번호의 마지막 번호가 된다.\n",
    "\n",
    "  8 2 1 0 1 0 - 1 6 3 5 2 1 0\n",
    "x 2 3 4 5 6 7   8 9 2 3 4 5 \n",
    "-----------------------------\n",
    "1차 계산: (8*2 + 2*3 + 1*4 + 0*5 + 1*6 + 0*7 + 1*8 + 6*9 + 3*2 + 5*3 + 2*4 + 1*5) = (128 % 11) = 7\n",
    "2차 계산: 11 -7 = 4\n",
    "위와 같이 821010-1635210에 대해서 계산을 해보면 마지막 자리는 4가 되어야 함을 알 수 있다. 즉, 821010-1635210은 유효하지 않은 주민등록번호임을 알 수 있다.\n",
    "\n",
    "다음과 같이 사용자로부터 주민등록번호를 입력받은 후 주민등록번호가 유효한지를 출력하는 프로그램을 작성하라.\n",
    "\n",
    ">> 주민등록번호: 821010-1635210\n",
    "유효하지 않은 주민등록번호입니다. "
   ]
  },
  {
   "cell_type": "code",
   "execution_count": 247,
   "id": "7f94c961",
   "metadata": {
    "ExecuteTime": {
     "end_time": "2023-11-28T14:52:59.631467Z",
     "start_time": "2023-11-28T14:52:56.129484Z"
    }
   },
   "outputs": [
    {
     "name": "stdout",
     "output_type": "stream",
     "text": [
      "주민등록번호를 000000-0000000 형태로 입력해주세요 : 123456-1234567\n",
      "유효하지 않은 주민등록번호 입니다.\n"
     ]
    }
   ],
   "source": [
    "a = input('주민등록번호를 000000-0000000 형태로 입력해주세요 : ')\n",
    "# b = [2, 3, 4, 5, 6, 7, 0, 8, 9, 2, 3, 4, 5]\n",
    "c = int(a[0]) * 2 + int(a[1]) * 3 + int(a[2]) * 4 + int(a[3]) * 5 + int(a[4]) * 6 + int(a[5]) * 7 + int(a[7]) * 8 + int(a[8]) * 9 + int(a[9]) * 2 + int(a[10]) * 3 + int(a[11]) * 4 + int(a[12]) * 5 \n",
    "d = c % 11\n",
    "e = 11 - d\n",
    "\n",
    "if a[:-1] == e :\n",
    "    print('유효한 주민등록번호 입니다.')\n",
    "else :\n",
    "    print('유효하지 않은 주민등록번호 입니다.')"
   ]
  },
  {
   "cell_type": "markdown",
   "id": "8715a5f0",
   "metadata": {},
   "source": [
    "130\n",
    "아래 코드는 비트코인의 가격 정보를 딕셔너리로 가져오는 코드이다.\n",
    "\n",
    "import requests\n",
    "btc = requests.get(\"https://api.bithumb.com/public/ticker/\").json()['data']\n",
    "btc 딕셔너리 안에는 시가, 종가, 최고가, 최저가 등이 저장되어 있다. 최고가와 최저가의 차이를 변동폭으로 정의할 때 (시가 + 변동폭)이 최고가 보다 높을 경우 \"상승장\", 그렇지 않은 경우 \"하락장\" 문자열을 출력하라.\n",
    "\n",
    "Key Name\tDescription\n",
    "opening_price\t최근 24시간 내 시작 거래금액\n",
    "closing_price\t최근 24시간 내 마지막 거래금액\n",
    "min_price\t최근 24시간 내 최저 거래금액\n",
    "max_price\t최근 24시간 내 최고 거래금액"
   ]
  },
  {
   "cell_type": "code",
   "execution_count": 248,
   "id": "fe166f9f",
   "metadata": {
    "ExecuteTime": {
     "end_time": "2023-11-28T14:53:36.183056Z",
     "start_time": "2023-11-28T14:53:35.196258Z"
    }
   },
   "outputs": [
    {
     "data": {
      "text/plain": [
       "{'opening_price': '49547000',\n",
       " 'closing_price': '50127000',\n",
       " 'min_price': '49500000',\n",
       " 'max_price': '50330000',\n",
       " 'units_traded': '3825.90937961',\n",
       " 'acc_trade_value': '190822958948.1412',\n",
       " 'prev_closing_price': '49536000',\n",
       " 'units_traded_24H': '3837.9357942',\n",
       " 'acc_trade_value_24H': '191418370993.513',\n",
       " 'fluctate_24H': '634000',\n",
       " 'fluctate_rate_24H': '1.28',\n",
       " 'date': '1701183217210'}"
      ]
     },
     "execution_count": 248,
     "metadata": {},
     "output_type": "execute_result"
    }
   ],
   "source": [
    "import requests\n",
    "btc = requests.get(\"https://api.bithumb.com/public/ticker/\").json()['data']\n",
    "btc"
   ]
  },
  {
   "cell_type": "code",
   "execution_count": 259,
   "id": "bb0c3691",
   "metadata": {
    "ExecuteTime": {
     "end_time": "2023-11-28T14:58:15.461010Z",
     "start_time": "2023-11-28T14:58:15.454571Z"
    }
   },
   "outputs": [
    {
     "name": "stdout",
     "output_type": "stream",
     "text": [
      "상승장\n"
     ]
    }
   ],
   "source": [
    "최고가 = int(btc['max_price'])\n",
    "최고가\n",
    "최저가 = int(btc['min_price'])\n",
    "최저가\n",
    "시가 = int(btc['opening_price'])\n",
    "시가\n",
    "변동폭 = 최고가 - 최저가\n",
    "변동폭\n",
    "\n",
    "if (시가 + 변동폭) > 최고가 :\n",
    "    print('상승장')\n",
    "else :\n",
    "    print('하락장')"
   ]
  },
  {
   "cell_type": "markdown",
   "id": "c83fdafe",
   "metadata": {},
   "source": []
  },
  {
   "cell_type": "code",
   "execution_count": null,
   "id": "689b85a0",
   "metadata": {
    "ExecuteTime": {
     "end_time": "2023-11-25T05:10:23.952140Z",
     "start_time": "2023-11-25T05:10:23.945079Z"
    }
   },
   "outputs": [],
   "source": []
  },
  {
   "cell_type": "markdown",
   "id": "dfd34c62",
   "metadata": {},
   "source": []
  },
  {
   "cell_type": "code",
   "execution_count": null,
   "id": "8b2bb462",
   "metadata": {
    "ExecuteTime": {
     "end_time": "2023-11-25T05:10:17.788097Z",
     "start_time": "2023-11-25T05:10:17.781900Z"
    }
   },
   "outputs": [],
   "source": []
  },
  {
   "cell_type": "markdown",
   "id": "0643d332",
   "metadata": {},
   "source": []
  },
  {
   "cell_type": "code",
   "execution_count": null,
   "id": "a72379af",
   "metadata": {
    "ExecuteTime": {
     "end_time": "2023-11-25T05:11:14.501204Z",
     "start_time": "2023-11-25T05:11:14.496140Z"
    }
   },
   "outputs": [],
   "source": []
  },
  {
   "cell_type": "markdown",
   "id": "ffbe2826",
   "metadata": {},
   "source": []
  },
  {
   "cell_type": "code",
   "execution_count": null,
   "id": "e2d25d43",
   "metadata": {
    "ExecuteTime": {
     "end_time": "2023-11-25T05:14:39.705442Z",
     "start_time": "2023-11-25T05:14:39.697572Z"
    }
   },
   "outputs": [],
   "source": []
  },
  {
   "cell_type": "markdown",
   "id": "ebb45225",
   "metadata": {},
   "source": []
  },
  {
   "cell_type": "code",
   "execution_count": null,
   "id": "f8662264",
   "metadata": {
    "ExecuteTime": {
     "end_time": "2023-11-25T04:09:56.717844Z",
     "start_time": "2023-11-25T04:09:56.711613Z"
    }
   },
   "outputs": [],
   "source": []
  },
  {
   "cell_type": "markdown",
   "id": "ffed89c7",
   "metadata": {},
   "source": []
  },
  {
   "cell_type": "code",
   "execution_count": null,
   "id": "451b8cdf",
   "metadata": {
    "ExecuteTime": {
     "end_time": "2023-11-25T04:11:14.658713Z",
     "start_time": "2023-11-25T04:11:14.649873Z"
    }
   },
   "outputs": [],
   "source": []
  },
  {
   "cell_type": "markdown",
   "id": "bcd4c399",
   "metadata": {},
   "source": []
  },
  {
   "cell_type": "code",
   "execution_count": null,
   "id": "4cf4f612",
   "metadata": {
    "ExecuteTime": {
     "end_time": "2023-11-25T04:14:18.741297Z",
     "start_time": "2023-11-25T04:14:18.732273Z"
    }
   },
   "outputs": [],
   "source": []
  },
  {
   "cell_type": "markdown",
   "id": "04dcdde3",
   "metadata": {},
   "source": []
  },
  {
   "cell_type": "code",
   "execution_count": null,
   "id": "1b976644",
   "metadata": {
    "ExecuteTime": {
     "end_time": "2023-11-25T04:15:35.114355Z",
     "start_time": "2023-11-25T04:15:35.107117Z"
    }
   },
   "outputs": [],
   "source": []
  },
  {
   "cell_type": "markdown",
   "id": "a264c2b0",
   "metadata": {},
   "source": []
  },
  {
   "cell_type": "code",
   "execution_count": null,
   "id": "6ec21519",
   "metadata": {
    "ExecuteTime": {
     "end_time": "2023-11-25T04:19:37.895075Z",
     "start_time": "2023-11-25T04:19:37.890174Z"
    }
   },
   "outputs": [],
   "source": []
  },
  {
   "cell_type": "markdown",
   "id": "923aabcd",
   "metadata": {},
   "source": []
  },
  {
   "cell_type": "code",
   "execution_count": null,
   "id": "322d0efa",
   "metadata": {
    "ExecuteTime": {
     "end_time": "2023-11-25T04:19:56.386169Z",
     "start_time": "2023-11-25T04:19:56.378450Z"
    }
   },
   "outputs": [],
   "source": []
  },
  {
   "cell_type": "markdown",
   "id": "a7a1ae9b",
   "metadata": {},
   "source": []
  },
  {
   "cell_type": "code",
   "execution_count": null,
   "id": "3e17fb50",
   "metadata": {
    "ExecuteTime": {
     "end_time": "2023-11-25T04:22:56.215623Z",
     "start_time": "2023-11-25T04:22:56.208784Z"
    }
   },
   "outputs": [],
   "source": []
  },
  {
   "cell_type": "markdown",
   "id": "0b14e662",
   "metadata": {},
   "source": []
  },
  {
   "cell_type": "code",
   "execution_count": null,
   "id": "dd49d76f",
   "metadata": {
    "ExecuteTime": {
     "end_time": "2023-11-25T04:24:37.025224Z",
     "start_time": "2023-11-25T04:24:37.018011Z"
    }
   },
   "outputs": [],
   "source": []
  },
  {
   "cell_type": "markdown",
   "id": "e4e36567",
   "metadata": {},
   "source": []
  },
  {
   "cell_type": "code",
   "execution_count": null,
   "id": "5d9a6441",
   "metadata": {
    "ExecuteTime": {
     "end_time": "2023-11-25T04:45:40.778766Z",
     "start_time": "2023-11-25T04:45:40.772592Z"
    }
   },
   "outputs": [],
   "source": []
  },
  {
   "cell_type": "markdown",
   "id": "e4f5c48e",
   "metadata": {},
   "source": []
  },
  {
   "cell_type": "code",
   "execution_count": null,
   "id": "d3447d03",
   "metadata": {
    "ExecuteTime": {
     "end_time": "2023-11-25T04:47:17.023291Z",
     "start_time": "2023-11-25T04:47:17.014295Z"
    }
   },
   "outputs": [],
   "source": []
  },
  {
   "cell_type": "markdown",
   "id": "136aa70d",
   "metadata": {},
   "source": []
  },
  {
   "cell_type": "code",
   "execution_count": null,
   "id": "bab019bb",
   "metadata": {
    "ExecuteTime": {
     "end_time": "2023-11-25T04:48:45.388461Z",
     "start_time": "2023-11-25T04:48:45.380184Z"
    }
   },
   "outputs": [],
   "source": []
  },
  {
   "cell_type": "markdown",
   "id": "524a656f",
   "metadata": {},
   "source": []
  },
  {
   "cell_type": "code",
   "execution_count": null,
   "id": "f244e66b",
   "metadata": {
    "ExecuteTime": {
     "end_time": "2023-11-25T04:49:20.561572Z",
     "start_time": "2023-11-25T04:49:20.556113Z"
    }
   },
   "outputs": [],
   "source": []
  },
  {
   "cell_type": "markdown",
   "id": "f5513ae9",
   "metadata": {},
   "source": []
  },
  {
   "cell_type": "code",
   "execution_count": null,
   "id": "012909b3",
   "metadata": {
    "ExecuteTime": {
     "end_time": "2023-11-25T04:52:32.959990Z",
     "start_time": "2023-11-25T04:52:32.954015Z"
    }
   },
   "outputs": [],
   "source": []
  },
  {
   "cell_type": "markdown",
   "id": "439de81a",
   "metadata": {},
   "source": []
  },
  {
   "cell_type": "code",
   "execution_count": null,
   "id": "525504b2",
   "metadata": {
    "ExecuteTime": {
     "end_time": "2023-11-25T04:55:40.422096Z",
     "start_time": "2023-11-25T04:55:40.414112Z"
    }
   },
   "outputs": [],
   "source": []
  },
  {
   "cell_type": "markdown",
   "id": "2815810f",
   "metadata": {},
   "source": []
  },
  {
   "cell_type": "code",
   "execution_count": null,
   "id": "c371a019",
   "metadata": {
    "ExecuteTime": {
     "end_time": "2023-11-25T04:56:21.792366Z",
     "start_time": "2023-11-25T04:56:21.786757Z"
    }
   },
   "outputs": [],
   "source": []
  },
  {
   "cell_type": "markdown",
   "id": "74085037",
   "metadata": {},
   "source": []
  },
  {
   "cell_type": "code",
   "execution_count": null,
   "id": "4673a339",
   "metadata": {
    "ExecuteTime": {
     "end_time": "2023-11-25T04:58:00.879615Z",
     "start_time": "2023-11-25T04:58:00.873854Z"
    }
   },
   "outputs": [],
   "source": []
  },
  {
   "cell_type": "markdown",
   "id": "6b307d4d",
   "metadata": {},
   "source": []
  },
  {
   "cell_type": "code",
   "execution_count": null,
   "id": "3923d9e3",
   "metadata": {
    "ExecuteTime": {
     "end_time": "2023-11-25T04:59:40.760994Z",
     "start_time": "2023-11-25T04:59:40.755991Z"
    }
   },
   "outputs": [],
   "source": []
  },
  {
   "cell_type": "markdown",
   "id": "3be4151a",
   "metadata": {},
   "source": []
  },
  {
   "cell_type": "code",
   "execution_count": null,
   "id": "c525ae75",
   "metadata": {
    "ExecuteTime": {
     "end_time": "2023-11-25T05:01:28.449585Z",
     "start_time": "2023-11-25T05:01:28.441228Z"
    }
   },
   "outputs": [],
   "source": []
  },
  {
   "cell_type": "markdown",
   "id": "a2e2bd79",
   "metadata": {},
   "source": []
  },
  {
   "cell_type": "code",
   "execution_count": null,
   "id": "c9e415fb",
   "metadata": {
    "ExecuteTime": {
     "end_time": "2023-11-25T05:03:24.987677Z",
     "start_time": "2023-11-25T05:03:24.984123Z"
    }
   },
   "outputs": [],
   "source": []
  },
  {
   "cell_type": "markdown",
   "id": "925c20f2",
   "metadata": {},
   "source": []
  },
  {
   "cell_type": "code",
   "execution_count": null,
   "id": "a9d961d8",
   "metadata": {
    "ExecuteTime": {
     "end_time": "2023-11-25T05:03:52.040094Z",
     "start_time": "2023-11-25T05:03:52.034093Z"
    }
   },
   "outputs": [],
   "source": []
  },
  {
   "cell_type": "markdown",
   "id": "d7e3a7fe",
   "metadata": {},
   "source": []
  },
  {
   "cell_type": "code",
   "execution_count": null,
   "id": "5a72ea9e",
   "metadata": {
    "ExecuteTime": {
     "end_time": "2023-11-25T05:05:08.684065Z",
     "start_time": "2023-11-25T05:05:08.677425Z"
    }
   },
   "outputs": [],
   "source": []
  },
  {
   "cell_type": "markdown",
   "id": "196a7695",
   "metadata": {},
   "source": []
  },
  {
   "cell_type": "code",
   "execution_count": null,
   "id": "a7f943d0",
   "metadata": {
    "ExecuteTime": {
     "end_time": "2023-11-25T05:06:25.184871Z",
     "start_time": "2023-11-25T05:06:25.181512Z"
    }
   },
   "outputs": [],
   "source": []
  },
  {
   "cell_type": "markdown",
   "id": "bffeb59e",
   "metadata": {},
   "source": []
  },
  {
   "cell_type": "code",
   "execution_count": null,
   "id": "6c123d0a",
   "metadata": {
    "ExecuteTime": {
     "end_time": "2023-11-25T05:07:16.714575Z",
     "start_time": "2023-11-25T05:07:16.705983Z"
    }
   },
   "outputs": [],
   "source": []
  },
  {
   "cell_type": "markdown",
   "id": "aa67b17a",
   "metadata": {},
   "source": []
  },
  {
   "cell_type": "markdown",
   "id": "04a3d3ea",
   "metadata": {},
   "source": []
  },
  {
   "cell_type": "code",
   "execution_count": null,
   "id": "bb9e2a39",
   "metadata": {
    "ExecuteTime": {
     "end_time": "2023-11-25T05:10:23.952140Z",
     "start_time": "2023-11-25T05:10:23.945079Z"
    }
   },
   "outputs": [],
   "source": []
  },
  {
   "cell_type": "markdown",
   "id": "340a9548",
   "metadata": {},
   "source": []
  },
  {
   "cell_type": "code",
   "execution_count": null,
   "id": "4bc1d9da",
   "metadata": {
    "ExecuteTime": {
     "end_time": "2023-11-25T05:10:17.788097Z",
     "start_time": "2023-11-25T05:10:17.781900Z"
    }
   },
   "outputs": [],
   "source": []
  },
  {
   "cell_type": "markdown",
   "id": "35a71ad5",
   "metadata": {},
   "source": []
  },
  {
   "cell_type": "code",
   "execution_count": null,
   "id": "e37fe03b",
   "metadata": {
    "ExecuteTime": {
     "end_time": "2023-11-25T05:11:14.501204Z",
     "start_time": "2023-11-25T05:11:14.496140Z"
    }
   },
   "outputs": [],
   "source": []
  },
  {
   "cell_type": "markdown",
   "id": "df3a5194",
   "metadata": {},
   "source": []
  },
  {
   "cell_type": "code",
   "execution_count": null,
   "id": "fe887a60",
   "metadata": {
    "ExecuteTime": {
     "end_time": "2023-11-25T05:14:39.705442Z",
     "start_time": "2023-11-25T05:14:39.697572Z"
    }
   },
   "outputs": [],
   "source": []
  },
  {
   "cell_type": "markdown",
   "id": "90c0c4ef",
   "metadata": {},
   "source": []
  },
  {
   "cell_type": "code",
   "execution_count": null,
   "id": "a85f4179",
   "metadata": {
    "ExecuteTime": {
     "end_time": "2023-11-25T04:09:56.717844Z",
     "start_time": "2023-11-25T04:09:56.711613Z"
    }
   },
   "outputs": [],
   "source": []
  },
  {
   "cell_type": "markdown",
   "id": "e0fa32ee",
   "metadata": {},
   "source": []
  },
  {
   "cell_type": "code",
   "execution_count": null,
   "id": "a158c7ac",
   "metadata": {
    "ExecuteTime": {
     "end_time": "2023-11-25T04:11:14.658713Z",
     "start_time": "2023-11-25T04:11:14.649873Z"
    }
   },
   "outputs": [],
   "source": []
  },
  {
   "cell_type": "markdown",
   "id": "43855c9d",
   "metadata": {},
   "source": []
  },
  {
   "cell_type": "code",
   "execution_count": null,
   "id": "9d606f14",
   "metadata": {
    "ExecuteTime": {
     "end_time": "2023-11-25T04:14:18.741297Z",
     "start_time": "2023-11-25T04:14:18.732273Z"
    }
   },
   "outputs": [],
   "source": []
  },
  {
   "cell_type": "markdown",
   "id": "6af7e303",
   "metadata": {},
   "source": []
  },
  {
   "cell_type": "code",
   "execution_count": null,
   "id": "eca1311d",
   "metadata": {
    "ExecuteTime": {
     "end_time": "2023-11-25T04:15:35.114355Z",
     "start_time": "2023-11-25T04:15:35.107117Z"
    }
   },
   "outputs": [],
   "source": []
  },
  {
   "cell_type": "markdown",
   "id": "c83019e8",
   "metadata": {},
   "source": []
  },
  {
   "cell_type": "code",
   "execution_count": null,
   "id": "ca99d543",
   "metadata": {
    "ExecuteTime": {
     "end_time": "2023-11-25T04:19:37.895075Z",
     "start_time": "2023-11-25T04:19:37.890174Z"
    }
   },
   "outputs": [],
   "source": []
  },
  {
   "cell_type": "markdown",
   "id": "065291c9",
   "metadata": {},
   "source": []
  },
  {
   "cell_type": "code",
   "execution_count": null,
   "id": "fefb67e0",
   "metadata": {
    "ExecuteTime": {
     "end_time": "2023-11-25T04:19:56.386169Z",
     "start_time": "2023-11-25T04:19:56.378450Z"
    }
   },
   "outputs": [],
   "source": []
  },
  {
   "cell_type": "markdown",
   "id": "e00e8ace",
   "metadata": {},
   "source": []
  },
  {
   "cell_type": "code",
   "execution_count": null,
   "id": "91300e74",
   "metadata": {
    "ExecuteTime": {
     "end_time": "2023-11-25T04:22:56.215623Z",
     "start_time": "2023-11-25T04:22:56.208784Z"
    }
   },
   "outputs": [],
   "source": []
  },
  {
   "cell_type": "markdown",
   "id": "dea26bc5",
   "metadata": {},
   "source": []
  },
  {
   "cell_type": "code",
   "execution_count": null,
   "id": "8db33bab",
   "metadata": {
    "ExecuteTime": {
     "end_time": "2023-11-25T04:24:37.025224Z",
     "start_time": "2023-11-25T04:24:37.018011Z"
    }
   },
   "outputs": [],
   "source": []
  },
  {
   "cell_type": "markdown",
   "id": "f46c06dd",
   "metadata": {},
   "source": []
  },
  {
   "cell_type": "code",
   "execution_count": null,
   "id": "9ec05229",
   "metadata": {
    "ExecuteTime": {
     "end_time": "2023-11-25T04:45:40.778766Z",
     "start_time": "2023-11-25T04:45:40.772592Z"
    }
   },
   "outputs": [],
   "source": []
  },
  {
   "cell_type": "markdown",
   "id": "b45bce39",
   "metadata": {},
   "source": []
  },
  {
   "cell_type": "code",
   "execution_count": null,
   "id": "40fb1458",
   "metadata": {
    "ExecuteTime": {
     "end_time": "2023-11-25T04:47:17.023291Z",
     "start_time": "2023-11-25T04:47:17.014295Z"
    }
   },
   "outputs": [],
   "source": []
  },
  {
   "cell_type": "markdown",
   "id": "009f8a39",
   "metadata": {},
   "source": []
  },
  {
   "cell_type": "code",
   "execution_count": null,
   "id": "cab89b07",
   "metadata": {
    "ExecuteTime": {
     "end_time": "2023-11-25T04:48:45.388461Z",
     "start_time": "2023-11-25T04:48:45.380184Z"
    }
   },
   "outputs": [],
   "source": []
  },
  {
   "cell_type": "markdown",
   "id": "e56f3ff3",
   "metadata": {},
   "source": []
  },
  {
   "cell_type": "code",
   "execution_count": null,
   "id": "be1ee1b9",
   "metadata": {
    "ExecuteTime": {
     "end_time": "2023-11-25T04:49:20.561572Z",
     "start_time": "2023-11-25T04:49:20.556113Z"
    }
   },
   "outputs": [],
   "source": []
  },
  {
   "cell_type": "markdown",
   "id": "efbe15a1",
   "metadata": {},
   "source": []
  },
  {
   "cell_type": "code",
   "execution_count": null,
   "id": "b39d0d48",
   "metadata": {
    "ExecuteTime": {
     "end_time": "2023-11-25T04:52:32.959990Z",
     "start_time": "2023-11-25T04:52:32.954015Z"
    }
   },
   "outputs": [],
   "source": []
  },
  {
   "cell_type": "markdown",
   "id": "07ba4027",
   "metadata": {},
   "source": []
  },
  {
   "cell_type": "code",
   "execution_count": null,
   "id": "dba2e1cd",
   "metadata": {
    "ExecuteTime": {
     "end_time": "2023-11-25T04:55:40.422096Z",
     "start_time": "2023-11-25T04:55:40.414112Z"
    }
   },
   "outputs": [],
   "source": []
  },
  {
   "cell_type": "markdown",
   "id": "5c847e91",
   "metadata": {},
   "source": []
  },
  {
   "cell_type": "code",
   "execution_count": null,
   "id": "d9dda25e",
   "metadata": {
    "ExecuteTime": {
     "end_time": "2023-11-25T04:56:21.792366Z",
     "start_time": "2023-11-25T04:56:21.786757Z"
    }
   },
   "outputs": [],
   "source": []
  },
  {
   "cell_type": "markdown",
   "id": "f524e6b0",
   "metadata": {},
   "source": []
  },
  {
   "cell_type": "code",
   "execution_count": null,
   "id": "881c843a",
   "metadata": {
    "ExecuteTime": {
     "end_time": "2023-11-25T04:58:00.879615Z",
     "start_time": "2023-11-25T04:58:00.873854Z"
    }
   },
   "outputs": [],
   "source": []
  },
  {
   "cell_type": "markdown",
   "id": "11f6adb1",
   "metadata": {},
   "source": []
  },
  {
   "cell_type": "code",
   "execution_count": null,
   "id": "098b6cfa",
   "metadata": {
    "ExecuteTime": {
     "end_time": "2023-11-25T04:59:40.760994Z",
     "start_time": "2023-11-25T04:59:40.755991Z"
    }
   },
   "outputs": [],
   "source": []
  },
  {
   "cell_type": "markdown",
   "id": "a253d8ed",
   "metadata": {},
   "source": []
  },
  {
   "cell_type": "code",
   "execution_count": null,
   "id": "9dd288ba",
   "metadata": {
    "ExecuteTime": {
     "end_time": "2023-11-25T05:01:28.449585Z",
     "start_time": "2023-11-25T05:01:28.441228Z"
    }
   },
   "outputs": [],
   "source": []
  },
  {
   "cell_type": "markdown",
   "id": "ea02e00c",
   "metadata": {},
   "source": []
  },
  {
   "cell_type": "code",
   "execution_count": null,
   "id": "e40edb2c",
   "metadata": {
    "ExecuteTime": {
     "end_time": "2023-11-25T05:03:24.987677Z",
     "start_time": "2023-11-25T05:03:24.984123Z"
    }
   },
   "outputs": [],
   "source": []
  },
  {
   "cell_type": "markdown",
   "id": "0e8160a3",
   "metadata": {},
   "source": []
  },
  {
   "cell_type": "code",
   "execution_count": null,
   "id": "69c381b3",
   "metadata": {
    "ExecuteTime": {
     "end_time": "2023-11-25T05:03:52.040094Z",
     "start_time": "2023-11-25T05:03:52.034093Z"
    }
   },
   "outputs": [],
   "source": []
  },
  {
   "cell_type": "markdown",
   "id": "3cfafe33",
   "metadata": {},
   "source": []
  },
  {
   "cell_type": "code",
   "execution_count": null,
   "id": "473c9b9d",
   "metadata": {
    "ExecuteTime": {
     "end_time": "2023-11-25T05:05:08.684065Z",
     "start_time": "2023-11-25T05:05:08.677425Z"
    }
   },
   "outputs": [],
   "source": []
  },
  {
   "cell_type": "markdown",
   "id": "972b2907",
   "metadata": {},
   "source": []
  },
  {
   "cell_type": "code",
   "execution_count": null,
   "id": "1d0acfc7",
   "metadata": {
    "ExecuteTime": {
     "end_time": "2023-11-25T05:06:25.184871Z",
     "start_time": "2023-11-25T05:06:25.181512Z"
    }
   },
   "outputs": [],
   "source": []
  },
  {
   "cell_type": "markdown",
   "id": "4b4fd402",
   "metadata": {},
   "source": []
  },
  {
   "cell_type": "code",
   "execution_count": null,
   "id": "e2110a96",
   "metadata": {
    "ExecuteTime": {
     "end_time": "2023-11-25T05:07:16.714575Z",
     "start_time": "2023-11-25T05:07:16.705983Z"
    }
   },
   "outputs": [],
   "source": []
  },
  {
   "cell_type": "markdown",
   "id": "0bad2e6d",
   "metadata": {},
   "source": []
  },
  {
   "cell_type": "code",
   "execution_count": null,
   "id": "855c6138",
   "metadata": {
    "ExecuteTime": {
     "end_time": "2023-11-25T05:08:53.897617Z",
     "start_time": "2023-11-25T05:08:53.891498Z"
    }
   },
   "outputs": [],
   "source": []
  },
  {
   "cell_type": "markdown",
   "id": "dc1b7f2a",
   "metadata": {},
   "source": []
  },
  {
   "cell_type": "code",
   "execution_count": null,
   "id": "d1639415",
   "metadata": {
    "ExecuteTime": {
     "end_time": "2023-11-25T05:10:23.952140Z",
     "start_time": "2023-11-25T05:10:23.945079Z"
    }
   },
   "outputs": [],
   "source": []
  },
  {
   "cell_type": "markdown",
   "id": "ac550c29",
   "metadata": {},
   "source": []
  },
  {
   "cell_type": "code",
   "execution_count": null,
   "id": "bfebc3ca",
   "metadata": {
    "ExecuteTime": {
     "end_time": "2023-11-25T05:10:17.788097Z",
     "start_time": "2023-11-25T05:10:17.781900Z"
    }
   },
   "outputs": [],
   "source": []
  },
  {
   "cell_type": "markdown",
   "id": "9aa567ac",
   "metadata": {},
   "source": []
  },
  {
   "cell_type": "code",
   "execution_count": null,
   "id": "22846dbb",
   "metadata": {
    "ExecuteTime": {
     "end_time": "2023-11-25T05:11:14.501204Z",
     "start_time": "2023-11-25T05:11:14.496140Z"
    }
   },
   "outputs": [],
   "source": []
  },
  {
   "cell_type": "markdown",
   "id": "a90a374c",
   "metadata": {},
   "source": []
  },
  {
   "cell_type": "code",
   "execution_count": null,
   "id": "0ffc895d",
   "metadata": {
    "ExecuteTime": {
     "end_time": "2023-11-25T05:14:39.705442Z",
     "start_time": "2023-11-25T05:14:39.697572Z"
    }
   },
   "outputs": [],
   "source": []
  },
  {
   "cell_type": "markdown",
   "id": "26827e44",
   "metadata": {},
   "source": []
  },
  {
   "cell_type": "code",
   "execution_count": null,
   "id": "dfc4813a",
   "metadata": {
    "ExecuteTime": {
     "end_time": "2023-11-25T04:09:56.717844Z",
     "start_time": "2023-11-25T04:09:56.711613Z"
    }
   },
   "outputs": [],
   "source": []
  },
  {
   "cell_type": "markdown",
   "id": "e4e5e9c8",
   "metadata": {},
   "source": []
  },
  {
   "cell_type": "code",
   "execution_count": null,
   "id": "aafa8ed1",
   "metadata": {
    "ExecuteTime": {
     "end_time": "2023-11-25T04:11:14.658713Z",
     "start_time": "2023-11-25T04:11:14.649873Z"
    }
   },
   "outputs": [],
   "source": []
  },
  {
   "cell_type": "markdown",
   "id": "a7af55db",
   "metadata": {},
   "source": []
  },
  {
   "cell_type": "code",
   "execution_count": null,
   "id": "d5aab6fd",
   "metadata": {
    "ExecuteTime": {
     "end_time": "2023-11-25T04:14:18.741297Z",
     "start_time": "2023-11-25T04:14:18.732273Z"
    }
   },
   "outputs": [],
   "source": []
  },
  {
   "cell_type": "markdown",
   "id": "aaf5ba51",
   "metadata": {},
   "source": []
  },
  {
   "cell_type": "code",
   "execution_count": null,
   "id": "b412fca0",
   "metadata": {
    "ExecuteTime": {
     "end_time": "2023-11-25T04:15:35.114355Z",
     "start_time": "2023-11-25T04:15:35.107117Z"
    }
   },
   "outputs": [],
   "source": []
  },
  {
   "cell_type": "markdown",
   "id": "b07c4778",
   "metadata": {},
   "source": []
  },
  {
   "cell_type": "code",
   "execution_count": null,
   "id": "6df55215",
   "metadata": {
    "ExecuteTime": {
     "end_time": "2023-11-25T04:19:37.895075Z",
     "start_time": "2023-11-25T04:19:37.890174Z"
    }
   },
   "outputs": [],
   "source": []
  },
  {
   "cell_type": "markdown",
   "id": "a054e17a",
   "metadata": {},
   "source": []
  },
  {
   "cell_type": "code",
   "execution_count": null,
   "id": "fa3d68de",
   "metadata": {
    "ExecuteTime": {
     "end_time": "2023-11-25T04:19:56.386169Z",
     "start_time": "2023-11-25T04:19:56.378450Z"
    }
   },
   "outputs": [],
   "source": []
  },
  {
   "cell_type": "markdown",
   "id": "a970cce1",
   "metadata": {},
   "source": []
  },
  {
   "cell_type": "code",
   "execution_count": null,
   "id": "2b54e0d2",
   "metadata": {
    "ExecuteTime": {
     "end_time": "2023-11-25T04:22:56.215623Z",
     "start_time": "2023-11-25T04:22:56.208784Z"
    }
   },
   "outputs": [],
   "source": []
  },
  {
   "cell_type": "markdown",
   "id": "a9bcf4c4",
   "metadata": {},
   "source": []
  },
  {
   "cell_type": "code",
   "execution_count": null,
   "id": "0e9b440a",
   "metadata": {
    "ExecuteTime": {
     "end_time": "2023-11-25T04:24:37.025224Z",
     "start_time": "2023-11-25T04:24:37.018011Z"
    }
   },
   "outputs": [],
   "source": []
  },
  {
   "cell_type": "markdown",
   "id": "fde4c9f2",
   "metadata": {},
   "source": []
  },
  {
   "cell_type": "code",
   "execution_count": null,
   "id": "a2ba76ac",
   "metadata": {
    "ExecuteTime": {
     "end_time": "2023-11-25T04:45:40.778766Z",
     "start_time": "2023-11-25T04:45:40.772592Z"
    }
   },
   "outputs": [],
   "source": []
  },
  {
   "cell_type": "markdown",
   "id": "642816d0",
   "metadata": {},
   "source": []
  },
  {
   "cell_type": "code",
   "execution_count": null,
   "id": "edd183bb",
   "metadata": {
    "ExecuteTime": {
     "end_time": "2023-11-25T04:47:17.023291Z",
     "start_time": "2023-11-25T04:47:17.014295Z"
    }
   },
   "outputs": [],
   "source": []
  },
  {
   "cell_type": "markdown",
   "id": "6ce95c86",
   "metadata": {},
   "source": []
  },
  {
   "cell_type": "code",
   "execution_count": null,
   "id": "14274066",
   "metadata": {
    "ExecuteTime": {
     "end_time": "2023-11-25T04:48:45.388461Z",
     "start_time": "2023-11-25T04:48:45.380184Z"
    }
   },
   "outputs": [],
   "source": []
  },
  {
   "cell_type": "markdown",
   "id": "621207ae",
   "metadata": {},
   "source": []
  },
  {
   "cell_type": "code",
   "execution_count": null,
   "id": "321a0388",
   "metadata": {
    "ExecuteTime": {
     "end_time": "2023-11-25T04:49:20.561572Z",
     "start_time": "2023-11-25T04:49:20.556113Z"
    }
   },
   "outputs": [],
   "source": []
  },
  {
   "cell_type": "markdown",
   "id": "ed62b192",
   "metadata": {},
   "source": []
  },
  {
   "cell_type": "code",
   "execution_count": null,
   "id": "6a12abdf",
   "metadata": {
    "ExecuteTime": {
     "end_time": "2023-11-25T04:52:32.959990Z",
     "start_time": "2023-11-25T04:52:32.954015Z"
    }
   },
   "outputs": [],
   "source": []
  },
  {
   "cell_type": "markdown",
   "id": "70aa14bc",
   "metadata": {},
   "source": []
  },
  {
   "cell_type": "code",
   "execution_count": null,
   "id": "d7c26086",
   "metadata": {
    "ExecuteTime": {
     "end_time": "2023-11-25T04:55:40.422096Z",
     "start_time": "2023-11-25T04:55:40.414112Z"
    }
   },
   "outputs": [],
   "source": []
  },
  {
   "cell_type": "markdown",
   "id": "cfd0e911",
   "metadata": {},
   "source": []
  },
  {
   "cell_type": "code",
   "execution_count": null,
   "id": "2ce80683",
   "metadata": {
    "ExecuteTime": {
     "end_time": "2023-11-25T04:56:21.792366Z",
     "start_time": "2023-11-25T04:56:21.786757Z"
    }
   },
   "outputs": [],
   "source": []
  },
  {
   "cell_type": "markdown",
   "id": "198e5ced",
   "metadata": {},
   "source": []
  },
  {
   "cell_type": "code",
   "execution_count": null,
   "id": "594c3370",
   "metadata": {
    "ExecuteTime": {
     "end_time": "2023-11-25T04:58:00.879615Z",
     "start_time": "2023-11-25T04:58:00.873854Z"
    }
   },
   "outputs": [],
   "source": []
  },
  {
   "cell_type": "markdown",
   "id": "bd0e632e",
   "metadata": {},
   "source": []
  },
  {
   "cell_type": "code",
   "execution_count": null,
   "id": "433d284e",
   "metadata": {
    "ExecuteTime": {
     "end_time": "2023-11-25T04:59:40.760994Z",
     "start_time": "2023-11-25T04:59:40.755991Z"
    }
   },
   "outputs": [],
   "source": []
  },
  {
   "cell_type": "markdown",
   "id": "427fc9d6",
   "metadata": {},
   "source": []
  },
  {
   "cell_type": "code",
   "execution_count": null,
   "id": "96d1f28d",
   "metadata": {
    "ExecuteTime": {
     "end_time": "2023-11-25T05:01:28.449585Z",
     "start_time": "2023-11-25T05:01:28.441228Z"
    }
   },
   "outputs": [],
   "source": []
  },
  {
   "cell_type": "markdown",
   "id": "1000f74e",
   "metadata": {},
   "source": []
  },
  {
   "cell_type": "code",
   "execution_count": null,
   "id": "c8181852",
   "metadata": {
    "ExecuteTime": {
     "end_time": "2023-11-25T05:03:24.987677Z",
     "start_time": "2023-11-25T05:03:24.984123Z"
    }
   },
   "outputs": [],
   "source": []
  },
  {
   "cell_type": "markdown",
   "id": "94924f72",
   "metadata": {},
   "source": []
  },
  {
   "cell_type": "code",
   "execution_count": null,
   "id": "3dc2e281",
   "metadata": {
    "ExecuteTime": {
     "end_time": "2023-11-25T05:03:52.040094Z",
     "start_time": "2023-11-25T05:03:52.034093Z"
    }
   },
   "outputs": [],
   "source": []
  },
  {
   "cell_type": "markdown",
   "id": "621ef38a",
   "metadata": {},
   "source": []
  },
  {
   "cell_type": "code",
   "execution_count": null,
   "id": "409677fd",
   "metadata": {
    "ExecuteTime": {
     "end_time": "2023-11-25T05:05:08.684065Z",
     "start_time": "2023-11-25T05:05:08.677425Z"
    }
   },
   "outputs": [],
   "source": []
  },
  {
   "cell_type": "markdown",
   "id": "f8f5473c",
   "metadata": {},
   "source": []
  },
  {
   "cell_type": "code",
   "execution_count": null,
   "id": "daca7547",
   "metadata": {
    "ExecuteTime": {
     "end_time": "2023-11-25T05:06:25.184871Z",
     "start_time": "2023-11-25T05:06:25.181512Z"
    }
   },
   "outputs": [],
   "source": []
  },
  {
   "cell_type": "markdown",
   "id": "40eb221c",
   "metadata": {},
   "source": []
  },
  {
   "cell_type": "code",
   "execution_count": null,
   "id": "97c1899a",
   "metadata": {
    "ExecuteTime": {
     "end_time": "2023-11-25T05:07:16.714575Z",
     "start_time": "2023-11-25T05:07:16.705983Z"
    }
   },
   "outputs": [],
   "source": []
  },
  {
   "cell_type": "markdown",
   "id": "2d0dcb2a",
   "metadata": {},
   "source": []
  },
  {
   "cell_type": "code",
   "execution_count": null,
   "id": "84be7c3e",
   "metadata": {
    "ExecuteTime": {
     "end_time": "2023-11-25T05:08:53.897617Z",
     "start_time": "2023-11-25T05:08:53.891498Z"
    }
   },
   "outputs": [],
   "source": []
  },
  {
   "cell_type": "markdown",
   "id": "3955fa40",
   "metadata": {},
   "source": []
  },
  {
   "cell_type": "code",
   "execution_count": null,
   "id": "e700ce79",
   "metadata": {
    "ExecuteTime": {
     "end_time": "2023-11-25T05:10:23.952140Z",
     "start_time": "2023-11-25T05:10:23.945079Z"
    }
   },
   "outputs": [],
   "source": []
  },
  {
   "cell_type": "markdown",
   "id": "3b1e8af8",
   "metadata": {},
   "source": []
  },
  {
   "cell_type": "code",
   "execution_count": null,
   "id": "805a2100",
   "metadata": {
    "ExecuteTime": {
     "end_time": "2023-11-25T05:10:17.788097Z",
     "start_time": "2023-11-25T05:10:17.781900Z"
    }
   },
   "outputs": [],
   "source": []
  },
  {
   "cell_type": "markdown",
   "id": "7ac204f1",
   "metadata": {},
   "source": []
  },
  {
   "cell_type": "code",
   "execution_count": null,
   "id": "c14073d2",
   "metadata": {
    "ExecuteTime": {
     "end_time": "2023-11-25T05:11:14.501204Z",
     "start_time": "2023-11-25T05:11:14.496140Z"
    }
   },
   "outputs": [],
   "source": []
  },
  {
   "cell_type": "markdown",
   "id": "6a24f301",
   "metadata": {},
   "source": []
  },
  {
   "cell_type": "code",
   "execution_count": null,
   "id": "635550dd",
   "metadata": {
    "ExecuteTime": {
     "end_time": "2023-11-25T05:14:39.705442Z",
     "start_time": "2023-11-25T05:14:39.697572Z"
    }
   },
   "outputs": [],
   "source": []
  },
  {
   "cell_type": "markdown",
   "id": "daf2f9c2",
   "metadata": {},
   "source": []
  },
  {
   "cell_type": "code",
   "execution_count": null,
   "id": "96a7b034",
   "metadata": {
    "ExecuteTime": {
     "end_time": "2023-11-25T04:09:56.717844Z",
     "start_time": "2023-11-25T04:09:56.711613Z"
    }
   },
   "outputs": [],
   "source": []
  },
  {
   "cell_type": "markdown",
   "id": "77d05786",
   "metadata": {},
   "source": []
  },
  {
   "cell_type": "code",
   "execution_count": null,
   "id": "b6e92a1a",
   "metadata": {
    "ExecuteTime": {
     "end_time": "2023-11-25T04:11:14.658713Z",
     "start_time": "2023-11-25T04:11:14.649873Z"
    }
   },
   "outputs": [],
   "source": []
  },
  {
   "cell_type": "markdown",
   "id": "af13343e",
   "metadata": {},
   "source": []
  },
  {
   "cell_type": "code",
   "execution_count": null,
   "id": "00d0beb7",
   "metadata": {
    "ExecuteTime": {
     "end_time": "2023-11-25T04:14:18.741297Z",
     "start_time": "2023-11-25T04:14:18.732273Z"
    }
   },
   "outputs": [],
   "source": []
  },
  {
   "cell_type": "markdown",
   "id": "ca784f45",
   "metadata": {},
   "source": []
  },
  {
   "cell_type": "code",
   "execution_count": null,
   "id": "60d39ab1",
   "metadata": {
    "ExecuteTime": {
     "end_time": "2023-11-25T04:15:35.114355Z",
     "start_time": "2023-11-25T04:15:35.107117Z"
    }
   },
   "outputs": [],
   "source": []
  },
  {
   "cell_type": "markdown",
   "id": "517d7dea",
   "metadata": {},
   "source": []
  },
  {
   "cell_type": "code",
   "execution_count": null,
   "id": "e65a4625",
   "metadata": {
    "ExecuteTime": {
     "end_time": "2023-11-25T04:19:37.895075Z",
     "start_time": "2023-11-25T04:19:37.890174Z"
    }
   },
   "outputs": [],
   "source": []
  },
  {
   "cell_type": "markdown",
   "id": "a848330b",
   "metadata": {},
   "source": []
  },
  {
   "cell_type": "code",
   "execution_count": null,
   "id": "678ac221",
   "metadata": {
    "ExecuteTime": {
     "end_time": "2023-11-25T04:19:56.386169Z",
     "start_time": "2023-11-25T04:19:56.378450Z"
    }
   },
   "outputs": [],
   "source": []
  },
  {
   "cell_type": "markdown",
   "id": "a193d27e",
   "metadata": {},
   "source": []
  },
  {
   "cell_type": "code",
   "execution_count": null,
   "id": "0a716e68",
   "metadata": {
    "ExecuteTime": {
     "end_time": "2023-11-25T04:22:56.215623Z",
     "start_time": "2023-11-25T04:22:56.208784Z"
    }
   },
   "outputs": [],
   "source": []
  },
  {
   "cell_type": "markdown",
   "id": "ed1fc066",
   "metadata": {},
   "source": []
  },
  {
   "cell_type": "code",
   "execution_count": null,
   "id": "becb4ebd",
   "metadata": {
    "ExecuteTime": {
     "end_time": "2023-11-25T04:24:37.025224Z",
     "start_time": "2023-11-25T04:24:37.018011Z"
    }
   },
   "outputs": [],
   "source": []
  },
  {
   "cell_type": "markdown",
   "id": "8b411a9e",
   "metadata": {},
   "source": []
  },
  {
   "cell_type": "code",
   "execution_count": null,
   "id": "0f1d4b10",
   "metadata": {
    "ExecuteTime": {
     "end_time": "2023-11-25T04:45:40.778766Z",
     "start_time": "2023-11-25T04:45:40.772592Z"
    }
   },
   "outputs": [],
   "source": []
  },
  {
   "cell_type": "markdown",
   "id": "8fbe0723",
   "metadata": {},
   "source": []
  },
  {
   "cell_type": "code",
   "execution_count": null,
   "id": "c353313a",
   "metadata": {
    "ExecuteTime": {
     "end_time": "2023-11-25T04:47:17.023291Z",
     "start_time": "2023-11-25T04:47:17.014295Z"
    }
   },
   "outputs": [],
   "source": []
  },
  {
   "cell_type": "markdown",
   "id": "bba7c70c",
   "metadata": {},
   "source": []
  },
  {
   "cell_type": "code",
   "execution_count": null,
   "id": "fb503945",
   "metadata": {
    "ExecuteTime": {
     "end_time": "2023-11-25T04:48:45.388461Z",
     "start_time": "2023-11-25T04:48:45.380184Z"
    }
   },
   "outputs": [],
   "source": []
  },
  {
   "cell_type": "markdown",
   "id": "2ab85139",
   "metadata": {},
   "source": []
  },
  {
   "cell_type": "code",
   "execution_count": null,
   "id": "a5bf3b50",
   "metadata": {
    "ExecuteTime": {
     "end_time": "2023-11-25T04:49:20.561572Z",
     "start_time": "2023-11-25T04:49:20.556113Z"
    }
   },
   "outputs": [],
   "source": []
  },
  {
   "cell_type": "markdown",
   "id": "199e4374",
   "metadata": {},
   "source": []
  },
  {
   "cell_type": "code",
   "execution_count": null,
   "id": "14a3bf61",
   "metadata": {
    "ExecuteTime": {
     "end_time": "2023-11-25T04:52:32.959990Z",
     "start_time": "2023-11-25T04:52:32.954015Z"
    }
   },
   "outputs": [],
   "source": []
  },
  {
   "cell_type": "markdown",
   "id": "b7bc2d90",
   "metadata": {},
   "source": []
  },
  {
   "cell_type": "code",
   "execution_count": null,
   "id": "dd9589b7",
   "metadata": {
    "ExecuteTime": {
     "end_time": "2023-11-25T04:55:40.422096Z",
     "start_time": "2023-11-25T04:55:40.414112Z"
    }
   },
   "outputs": [],
   "source": []
  },
  {
   "cell_type": "markdown",
   "id": "29ec185d",
   "metadata": {},
   "source": []
  },
  {
   "cell_type": "code",
   "execution_count": null,
   "id": "a55bc74b",
   "metadata": {
    "ExecuteTime": {
     "end_time": "2023-11-25T04:56:21.792366Z",
     "start_time": "2023-11-25T04:56:21.786757Z"
    }
   },
   "outputs": [],
   "source": []
  },
  {
   "cell_type": "markdown",
   "id": "e0a5f4ab",
   "metadata": {},
   "source": []
  },
  {
   "cell_type": "code",
   "execution_count": null,
   "id": "9eafec41",
   "metadata": {
    "ExecuteTime": {
     "end_time": "2023-11-25T04:58:00.879615Z",
     "start_time": "2023-11-25T04:58:00.873854Z"
    }
   },
   "outputs": [],
   "source": []
  },
  {
   "cell_type": "markdown",
   "id": "c90f75fc",
   "metadata": {},
   "source": []
  },
  {
   "cell_type": "code",
   "execution_count": null,
   "id": "ae47ebdf",
   "metadata": {
    "ExecuteTime": {
     "end_time": "2023-11-25T04:59:40.760994Z",
     "start_time": "2023-11-25T04:59:40.755991Z"
    }
   },
   "outputs": [],
   "source": []
  },
  {
   "cell_type": "markdown",
   "id": "153af1ff",
   "metadata": {},
   "source": []
  },
  {
   "cell_type": "code",
   "execution_count": null,
   "id": "7759ddf2",
   "metadata": {
    "ExecuteTime": {
     "end_time": "2023-11-25T05:01:28.449585Z",
     "start_time": "2023-11-25T05:01:28.441228Z"
    }
   },
   "outputs": [],
   "source": []
  },
  {
   "cell_type": "markdown",
   "id": "73e8a9c6",
   "metadata": {},
   "source": []
  },
  {
   "cell_type": "code",
   "execution_count": null,
   "id": "6e6ff2a3",
   "metadata": {
    "ExecuteTime": {
     "end_time": "2023-11-25T05:03:24.987677Z",
     "start_time": "2023-11-25T05:03:24.984123Z"
    }
   },
   "outputs": [],
   "source": []
  },
  {
   "cell_type": "markdown",
   "id": "eee8b9a5",
   "metadata": {},
   "source": []
  },
  {
   "cell_type": "code",
   "execution_count": null,
   "id": "0a929a31",
   "metadata": {
    "ExecuteTime": {
     "end_time": "2023-11-25T05:03:52.040094Z",
     "start_time": "2023-11-25T05:03:52.034093Z"
    }
   },
   "outputs": [],
   "source": []
  },
  {
   "cell_type": "markdown",
   "id": "3e60420f",
   "metadata": {},
   "source": []
  },
  {
   "cell_type": "code",
   "execution_count": null,
   "id": "22295c68",
   "metadata": {
    "ExecuteTime": {
     "end_time": "2023-11-25T05:05:08.684065Z",
     "start_time": "2023-11-25T05:05:08.677425Z"
    }
   },
   "outputs": [],
   "source": []
  },
  {
   "cell_type": "markdown",
   "id": "64a546c5",
   "metadata": {},
   "source": []
  },
  {
   "cell_type": "code",
   "execution_count": null,
   "id": "1516fbfd",
   "metadata": {
    "ExecuteTime": {
     "end_time": "2023-11-25T05:06:25.184871Z",
     "start_time": "2023-11-25T05:06:25.181512Z"
    }
   },
   "outputs": [],
   "source": []
  },
  {
   "cell_type": "markdown",
   "id": "eb72a946",
   "metadata": {},
   "source": []
  },
  {
   "cell_type": "code",
   "execution_count": null,
   "id": "6d0c5465",
   "metadata": {
    "ExecuteTime": {
     "end_time": "2023-11-25T05:07:16.714575Z",
     "start_time": "2023-11-25T05:07:16.705983Z"
    }
   },
   "outputs": [],
   "source": []
  },
  {
   "cell_type": "markdown",
   "id": "4052a56c",
   "metadata": {},
   "source": []
  },
  {
   "cell_type": "code",
   "execution_count": null,
   "id": "048246bb",
   "metadata": {},
   "outputs": [],
   "source": []
  },
  {
   "cell_type": "code",
   "execution_count": null,
   "id": "a9ad7226",
   "metadata": {},
   "outputs": [],
   "source": []
  },
  {
   "cell_type": "code",
   "execution_count": null,
   "id": "d5d68e20",
   "metadata": {},
   "outputs": [],
   "source": []
  },
  {
   "cell_type": "code",
   "execution_count": null,
   "id": "9dcf2041",
   "metadata": {},
   "outputs": [],
   "source": []
  },
  {
   "cell_type": "code",
   "execution_count": null,
   "id": "bc65aaa4",
   "metadata": {
    "ExecuteTime": {
     "end_time": "2023-11-25T05:08:53.897617Z",
     "start_time": "2023-11-25T05:08:53.891498Z"
    }
   },
   "outputs": [],
   "source": []
  },
  {
   "cell_type": "code",
   "execution_count": null,
   "id": "1ed86339",
   "metadata": {
    "ExecuteTime": {
     "end_time": "2023-11-25T05:08:53.897617Z",
     "start_time": "2023-11-25T05:08:53.891498Z"
    }
   },
   "outputs": [],
   "source": []
  }
 ],
 "metadata": {
  "kernelspec": {
   "display_name": "Python 3 (ipykernel)",
   "language": "python",
   "name": "python3"
  },
  "language_info": {
   "codemirror_mode": {
    "name": "ipython",
    "version": 3
   },
   "file_extension": ".py",
   "mimetype": "text/x-python",
   "name": "python",
   "nbconvert_exporter": "python",
   "pygments_lexer": "ipython3",
   "version": "3.11.5"
  },
  "toc": {
   "base_numbering": 1,
   "nav_menu": {},
   "number_sections": true,
   "sideBar": true,
   "skip_h1_title": false,
   "title_cell": "Table of Contents",
   "title_sidebar": "Contents",
   "toc_cell": false,
   "toc_position": {},
   "toc_section_display": true,
   "toc_window_display": false
  }
 },
 "nbformat": 4,
 "nbformat_minor": 5
}
