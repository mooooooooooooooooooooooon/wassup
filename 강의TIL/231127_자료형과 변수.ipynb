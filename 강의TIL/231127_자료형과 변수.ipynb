{
 "cells": [
  {
   "cell_type": "markdown",
   "id": "76f8f298",
   "metadata": {},
   "source": [
    "# 딕셔너리 자료형"
   ]
  },
  {
   "cell_type": "markdown",
   "id": "dcb39558",
   "metadata": {},
   "source": [
    "## 딕셔너리 쌍 추가"
   ]
  },
  {
   "cell_type": "code",
   "execution_count": 1,
   "id": "0a557f9d",
   "metadata": {
    "ExecuteTime": {
     "end_time": "2023-11-27T01:29:16.241253Z",
     "start_time": "2023-11-27T01:29:16.231363Z"
    }
   },
   "outputs": [
    {
     "data": {
      "text/plain": [
       "{1: 'a', 2: 'b'}"
      ]
     },
     "execution_count": 1,
     "metadata": {},
     "output_type": "execute_result"
    }
   ],
   "source": [
    "a = {1: 'a'}\n",
    "a[2] = 'b'\n",
    "a"
   ]
  },
  {
   "cell_type": "code",
   "execution_count": 2,
   "id": "120499de",
   "metadata": {
    "ExecuteTime": {
     "end_time": "2023-11-27T01:29:31.497730Z",
     "start_time": "2023-11-27T01:29:31.491163Z"
    }
   },
   "outputs": [
    {
     "data": {
      "text/plain": [
       "{1: 'a', 2: 'b', 'name': 'pey'}"
      ]
     },
     "execution_count": 2,
     "metadata": {},
     "output_type": "execute_result"
    }
   ],
   "source": [
    "a['name'] = 'pey'\n",
    "a"
   ]
  },
  {
   "cell_type": "code",
   "execution_count": 3,
   "id": "04587cc8",
   "metadata": {
    "ExecuteTime": {
     "end_time": "2023-11-27T01:29:57.298517Z",
     "start_time": "2023-11-27T01:29:57.291376Z"
    }
   },
   "outputs": [
    {
     "data": {
      "text/plain": [
       "{1: 'a', 2: 'b', 'name': 'pey', 3: [1, 2, 3]}"
      ]
     },
     "execution_count": 3,
     "metadata": {},
     "output_type": "execute_result"
    }
   ],
   "source": [
    "a[3] = [1, 2, 3]\n",
    "a"
   ]
  },
  {
   "cell_type": "markdown",
   "id": "0cb8ee5d",
   "metadata": {},
   "source": [
    "## 딕셔너리 요소 삭제하기\n"
   ]
  },
  {
   "cell_type": "code",
   "execution_count": 4,
   "id": "d47cb9bd",
   "metadata": {
    "ExecuteTime": {
     "end_time": "2023-11-27T01:30:42.536639Z",
     "start_time": "2023-11-27T01:30:42.531382Z"
    }
   },
   "outputs": [
    {
     "data": {
      "text/plain": [
       "{2: 'b', 'name': 'pey', 3: [1, 2, 3]}"
      ]
     },
     "execution_count": 4,
     "metadata": {},
     "output_type": "execute_result"
    }
   ],
   "source": [
    "del a[1]\n",
    "a"
   ]
  },
  {
   "cell_type": "markdown",
   "id": "cce49f8c",
   "metadata": {},
   "source": [
    "## 딕셔너리에서 Key를 사용해 Value 얻기\n"
   ]
  },
  {
   "cell_type": "code",
   "execution_count": 5,
   "id": "4eefa6ba",
   "metadata": {
    "ExecuteTime": {
     "end_time": "2023-11-27T01:31:12.465651Z",
     "start_time": "2023-11-27T01:31:12.459250Z"
    }
   },
   "outputs": [
    {
     "data": {
      "text/plain": [
       "10"
      ]
     },
     "execution_count": 5,
     "metadata": {},
     "output_type": "execute_result"
    }
   ],
   "source": [
    "grade = {'pey' : 10, 'julliert' : 99}\n",
    "grade['pey']"
   ]
  },
  {
   "cell_type": "code",
   "execution_count": 7,
   "id": "c08e7730",
   "metadata": {
    "ExecuteTime": {
     "end_time": "2023-11-27T01:31:35.304508Z",
     "start_time": "2023-11-27T01:31:35.298120Z"
    }
   },
   "outputs": [
    {
     "data": {
      "text/plain": [
       "99"
      ]
     },
     "execution_count": 7,
     "metadata": {},
     "output_type": "execute_result"
    }
   ],
   "source": [
    "grade['julliert']"
   ]
  },
  {
   "cell_type": "code",
   "execution_count": 8,
   "id": "da9cfb11",
   "metadata": {
    "ExecuteTime": {
     "end_time": "2023-11-27T01:31:49.305867Z",
     "start_time": "2023-11-27T01:31:49.298242Z"
    }
   },
   "outputs": [
    {
     "data": {
      "text/plain": [
       "'a'"
      ]
     },
     "execution_count": 8,
     "metadata": {},
     "output_type": "execute_result"
    }
   ],
   "source": [
    "a = {1:'a', 2:'b'}\n",
    "a[1]"
   ]
  },
  {
   "cell_type": "code",
   "execution_count": 9,
   "id": "0e83a367",
   "metadata": {
    "ExecuteTime": {
     "end_time": "2023-11-27T01:31:51.497133Z",
     "start_time": "2023-11-27T01:31:51.491328Z"
    }
   },
   "outputs": [
    {
     "data": {
      "text/plain": [
       "'b'"
      ]
     },
     "execution_count": 9,
     "metadata": {},
     "output_type": "execute_result"
    }
   ],
   "source": [
    "a[2]"
   ]
  },
  {
   "cell_type": "code",
   "execution_count": 10,
   "id": "8d65d15e",
   "metadata": {
    "ExecuteTime": {
     "end_time": "2023-11-27T01:32:26.097281Z",
     "start_time": "2023-11-27T01:32:26.090913Z"
    }
   },
   "outputs": [
    {
     "data": {
      "text/plain": [
       "1"
      ]
     },
     "execution_count": 10,
     "metadata": {},
     "output_type": "execute_result"
    }
   ],
   "source": [
    "a = {'a' : 1, 'b' : 2}\n",
    "a['a']"
   ]
  },
  {
   "cell_type": "code",
   "execution_count": 11,
   "id": "39ef8794",
   "metadata": {
    "ExecuteTime": {
     "end_time": "2023-11-27T01:32:29.073412Z",
     "start_time": "2023-11-27T01:32:29.067282Z"
    }
   },
   "outputs": [
    {
     "data": {
      "text/plain": [
       "2"
      ]
     },
     "execution_count": 11,
     "metadata": {},
     "output_type": "execute_result"
    }
   ],
   "source": [
    "a['b']"
   ]
  },
  {
   "cell_type": "code",
   "execution_count": 12,
   "id": "6e5a16a9",
   "metadata": {
    "ExecuteTime": {
     "end_time": "2023-11-27T01:33:25.784885Z",
     "start_time": "2023-11-27T01:33:25.778782Z"
    }
   },
   "outputs": [
    {
     "data": {
      "text/plain": [
       "'pey'"
      ]
     },
     "execution_count": 12,
     "metadata": {},
     "output_type": "execute_result"
    }
   ],
   "source": [
    "dic = {'name' : 'pey', 'phone' : '010-9999-1234', 'birth' : '1118'}\n",
    "dic['name']"
   ]
  },
  {
   "cell_type": "code",
   "execution_count": 14,
   "id": "2fb103c2",
   "metadata": {
    "ExecuteTime": {
     "end_time": "2023-11-27T01:33:40.392711Z",
     "start_time": "2023-11-27T01:33:40.387123Z"
    }
   },
   "outputs": [
    {
     "data": {
      "text/plain": [
       "'010-9999-1234'"
      ]
     },
     "execution_count": 14,
     "metadata": {},
     "output_type": "execute_result"
    }
   ],
   "source": [
    "dic['phone']\n"
   ]
  },
  {
   "cell_type": "code",
   "execution_count": 15,
   "id": "658af512",
   "metadata": {
    "ExecuteTime": {
     "end_time": "2023-11-27T01:33:42.192903Z",
     "start_time": "2023-11-27T01:33:42.186766Z"
    }
   },
   "outputs": [
    {
     "data": {
      "text/plain": [
       "'1118'"
      ]
     },
     "execution_count": 15,
     "metadata": {},
     "output_type": "execute_result"
    }
   ],
   "source": [
    "dic['birth']"
   ]
  },
  {
   "cell_type": "markdown",
   "id": "42713208",
   "metadata": {},
   "source": [
    "## 딕셔너리 관련 함수"
   ]
  },
  {
   "cell_type": "code",
   "execution_count": 16,
   "id": "77943805",
   "metadata": {
    "ExecuteTime": {
     "end_time": "2023-11-27T01:35:54.887894Z",
     "start_time": "2023-11-27T01:35:54.882466Z"
    }
   },
   "outputs": [
    {
     "data": {
      "text/plain": [
       "dict_keys(['name', 'phone', 'birth'])"
      ]
     },
     "execution_count": 16,
     "metadata": {},
     "output_type": "execute_result"
    }
   ],
   "source": [
    "a = {'name' : 'pey', 'phone' : '010-9999-1234', 'birth' : '1118'}\n",
    "a.keys()"
   ]
  },
  {
   "cell_type": "code",
   "execution_count": 19,
   "id": "b8abfe1e",
   "metadata": {
    "ExecuteTime": {
     "end_time": "2023-11-27T01:38:37.145242Z",
     "start_time": "2023-11-27T01:38:37.138084Z"
    }
   },
   "outputs": [
    {
     "data": {
      "text/plain": [
       "dict_values(['pey', '010-9999-1234', '1118'])"
      ]
     },
     "execution_count": 19,
     "metadata": {},
     "output_type": "execute_result"
    }
   ],
   "source": [
    "a.values()"
   ]
  },
  {
   "cell_type": "code",
   "execution_count": 20,
   "id": "08f34085",
   "metadata": {
    "ExecuteTime": {
     "end_time": "2023-11-27T01:38:41.994790Z",
     "start_time": "2023-11-27T01:38:41.987052Z"
    }
   },
   "outputs": [
    {
     "data": {
      "text/plain": [
       "dict_items([('name', 'pey'), ('phone', '010-9999-1234'), ('birth', '1118')])"
      ]
     },
     "execution_count": 20,
     "metadata": {},
     "output_type": "execute_result"
    }
   ],
   "source": [
    "a.items()"
   ]
  },
  {
   "cell_type": "code",
   "execution_count": 22,
   "id": "b7a1a67b",
   "metadata": {
    "ExecuteTime": {
     "end_time": "2023-11-27T01:38:50.303322Z",
     "start_time": "2023-11-27T01:38:50.297644Z"
    }
   },
   "outputs": [
    {
     "data": {
      "text/plain": [
       "{}"
      ]
     },
     "execution_count": 22,
     "metadata": {},
     "output_type": "execute_result"
    }
   ],
   "source": [
    "a.clear()\n",
    "a"
   ]
  },
  {
   "cell_type": "code",
   "execution_count": 23,
   "id": "0cae1436",
   "metadata": {
    "ExecuteTime": {
     "end_time": "2023-11-27T01:39:22.072746Z",
     "start_time": "2023-11-27T01:39:22.066360Z"
    }
   },
   "outputs": [
    {
     "data": {
      "text/plain": [
       "'pey'"
      ]
     },
     "execution_count": 23,
     "metadata": {},
     "output_type": "execute_result"
    }
   ],
   "source": [
    "a = {'name' : 'pey', 'phone' : '010-9999-1234', 'birth' : '1118'}\n",
    "a.get('name')"
   ]
  },
  {
   "cell_type": "code",
   "execution_count": 25,
   "id": "d987377b",
   "metadata": {
    "ExecuteTime": {
     "end_time": "2023-11-27T01:39:33.072627Z",
     "start_time": "2023-11-27T01:39:33.066773Z"
    }
   },
   "outputs": [
    {
     "data": {
      "text/plain": [
       "'010-9999-1234'"
      ]
     },
     "execution_count": 25,
     "metadata": {},
     "output_type": "execute_result"
    }
   ],
   "source": [
    "a.get('phone')"
   ]
  },
  {
   "cell_type": "code",
   "execution_count": 27,
   "id": "f176f36d",
   "metadata": {
    "ExecuteTime": {
     "end_time": "2023-11-27T01:41:53.335873Z",
     "start_time": "2023-11-27T01:41:53.329781Z"
    }
   },
   "outputs": [
    {
     "data": {
      "text/plain": [
       "True"
      ]
     },
     "execution_count": 27,
     "metadata": {},
     "output_type": "execute_result"
    }
   ],
   "source": [
    "a = {'name' : 'pey', 'phone' : '010-9999-1234', 'birth' : '1118'}\n",
    "'name' in a"
   ]
  },
  {
   "cell_type": "code",
   "execution_count": 28,
   "id": "bd10773c",
   "metadata": {
    "ExecuteTime": {
     "end_time": "2023-11-27T01:41:59.032386Z",
     "start_time": "2023-11-27T01:41:59.026599Z"
    }
   },
   "outputs": [
    {
     "data": {
      "text/plain": [
       "False"
      ]
     },
     "execution_count": 28,
     "metadata": {},
     "output_type": "execute_result"
    }
   ],
   "source": [
    "'email' in a"
   ]
  },
  {
   "cell_type": "code",
   "execution_count": 29,
   "id": "299a9b63",
   "metadata": {
    "ExecuteTime": {
     "end_time": "2023-11-27T01:42:02.952424Z",
     "start_time": "2023-11-27T01:42:02.946732Z"
    }
   },
   "outputs": [
    {
     "data": {
      "text/plain": [
       "False"
      ]
     },
     "execution_count": 29,
     "metadata": {},
     "output_type": "execute_result"
    }
   ],
   "source": [
    "'pey' in a"
   ]
  },
  {
   "cell_type": "markdown",
   "id": "c6ce6744",
   "metadata": {},
   "source": [
    "# 집합 자료형"
   ]
  },
  {
   "cell_type": "markdown",
   "id": "cdc1462d",
   "metadata": {},
   "source": [
    "## 만들기"
   ]
  },
  {
   "cell_type": "code",
   "execution_count": 30,
   "id": "36a40397",
   "metadata": {
    "ExecuteTime": {
     "end_time": "2023-11-27T01:43:32.913180Z",
     "start_time": "2023-11-27T01:43:32.906384Z"
    }
   },
   "outputs": [
    {
     "data": {
      "text/plain": [
       "{1, 2, 3}"
      ]
     },
     "execution_count": 30,
     "metadata": {},
     "output_type": "execute_result"
    }
   ],
   "source": [
    "s1 = set([1, 2, 3])\n",
    "s1"
   ]
  },
  {
   "cell_type": "code",
   "execution_count": 32,
   "id": "f82bf892",
   "metadata": {
    "ExecuteTime": {
     "end_time": "2023-11-27T01:43:56.167783Z",
     "start_time": "2023-11-27T01:43:56.161331Z"
    }
   },
   "outputs": [
    {
     "data": {
      "text/plain": [
       "set"
      ]
     },
     "execution_count": 32,
     "metadata": {},
     "output_type": "execute_result"
    }
   ],
   "source": [
    "type(s1)"
   ]
  },
  {
   "cell_type": "code",
   "execution_count": 31,
   "id": "e4ec4b97",
   "metadata": {
    "ExecuteTime": {
     "end_time": "2023-11-27T01:43:43.552073Z",
     "start_time": "2023-11-27T01:43:43.545642Z"
    }
   },
   "outputs": [
    {
     "data": {
      "text/plain": [
       "{'e', 'h', 'l', 'o'}"
      ]
     },
     "execution_count": 31,
     "metadata": {},
     "output_type": "execute_result"
    }
   ],
   "source": [
    "s2 = set('hello')\n",
    "s2"
   ]
  },
  {
   "cell_type": "code",
   "execution_count": 33,
   "id": "c75a7859",
   "metadata": {
    "ExecuteTime": {
     "end_time": "2023-11-27T01:44:00.840967Z",
     "start_time": "2023-11-27T01:44:00.833868Z"
    }
   },
   "outputs": [
    {
     "data": {
      "text/plain": [
       "set"
      ]
     },
     "execution_count": 33,
     "metadata": {},
     "output_type": "execute_result"
    }
   ],
   "source": [
    "type(s2)"
   ]
  },
  {
   "cell_type": "markdown",
   "id": "f55f0f4c",
   "metadata": {},
   "source": [
    "## 특징\n",
    "- 중복을 허용하지 않는다.\n",
    "- 순서가 없다(Unordered)"
   ]
  },
  {
   "cell_type": "code",
   "execution_count": 34,
   "id": "2f6ba9a5",
   "metadata": {
    "ExecuteTime": {
     "end_time": "2023-11-27T01:44:56.936513Z",
     "start_time": "2023-11-27T01:44:56.929189Z"
    }
   },
   "outputs": [
    {
     "data": {
      "text/plain": [
       "[1, 2, 3]"
      ]
     },
     "execution_count": 34,
     "metadata": {},
     "output_type": "execute_result"
    }
   ],
   "source": [
    "s1 = set([1, 2, 3])\n",
    "l1 = list(s1)\n",
    "l1"
   ]
  },
  {
   "cell_type": "code",
   "execution_count": 35,
   "id": "8a901623",
   "metadata": {
    "ExecuteTime": {
     "end_time": "2023-11-27T01:45:02.464164Z",
     "start_time": "2023-11-27T01:45:02.458463Z"
    }
   },
   "outputs": [
    {
     "data": {
      "text/plain": [
       "{1, 2, 3}"
      ]
     },
     "execution_count": 35,
     "metadata": {},
     "output_type": "execute_result"
    }
   ],
   "source": [
    "s1"
   ]
  },
  {
   "cell_type": "code",
   "execution_count": 36,
   "id": "8bdaf82a",
   "metadata": {
    "ExecuteTime": {
     "end_time": "2023-11-27T01:45:07.327222Z",
     "start_time": "2023-11-27T01:45:07.320888Z"
    }
   },
   "outputs": [
    {
     "data": {
      "text/plain": [
       "1"
      ]
     },
     "execution_count": 36,
     "metadata": {},
     "output_type": "execute_result"
    }
   ],
   "source": [
    "l1[0]"
   ]
  },
  {
   "cell_type": "code",
   "execution_count": 38,
   "id": "9448ece1",
   "metadata": {
    "ExecuteTime": {
     "end_time": "2023-11-27T01:45:15.696545Z",
     "start_time": "2023-11-27T01:45:15.690499Z"
    }
   },
   "outputs": [
    {
     "data": {
      "text/plain": [
       "(1, 2, 3)"
      ]
     },
     "execution_count": 38,
     "metadata": {},
     "output_type": "execute_result"
    }
   ],
   "source": [
    "t1 = tuple(s1)\n",
    "t1"
   ]
  },
  {
   "cell_type": "code",
   "execution_count": 39,
   "id": "35ca0ee1",
   "metadata": {
    "ExecuteTime": {
     "end_time": "2023-11-27T01:45:22.344236Z",
     "start_time": "2023-11-27T01:45:22.337621Z"
    }
   },
   "outputs": [
    {
     "data": {
      "text/plain": [
       "1"
      ]
     },
     "execution_count": 39,
     "metadata": {},
     "output_type": "execute_result"
    }
   ],
   "source": [
    "t1[0] "
   ]
  },
  {
   "cell_type": "markdown",
   "id": "fdb044df",
   "metadata": {},
   "source": [
    "## 교집합, 합집합, 차집합 구하기"
   ]
  },
  {
   "cell_type": "markdown",
   "id": "366aea83",
   "metadata": {},
   "source": [
    "### 교집합 구하기"
   ]
  },
  {
   "cell_type": "code",
   "execution_count": 40,
   "id": "e783be95",
   "metadata": {
    "ExecuteTime": {
     "end_time": "2023-11-27T01:46:01.399213Z",
     "start_time": "2023-11-27T01:46:01.394335Z"
    }
   },
   "outputs": [],
   "source": [
    "s1 = set([1, 2, 3, 4, 5, 6])\n",
    "s2 = set([4, 5, 6, 7, 8, 9])"
   ]
  },
  {
   "cell_type": "code",
   "execution_count": 41,
   "id": "9dadfa28",
   "metadata": {
    "ExecuteTime": {
     "end_time": "2023-11-27T01:46:13.112633Z",
     "start_time": "2023-11-27T01:46:13.105471Z"
    }
   },
   "outputs": [
    {
     "data": {
      "text/plain": [
       "{4, 5, 6}"
      ]
     },
     "execution_count": 41,
     "metadata": {},
     "output_type": "execute_result"
    }
   ],
   "source": [
    "s1 & s2"
   ]
  },
  {
   "cell_type": "code",
   "execution_count": 42,
   "id": "58e3dfcf",
   "metadata": {
    "ExecuteTime": {
     "end_time": "2023-11-27T01:46:21.423724Z",
     "start_time": "2023-11-27T01:46:21.417995Z"
    }
   },
   "outputs": [
    {
     "data": {
      "text/plain": [
       "{4, 5, 6}"
      ]
     },
     "execution_count": 42,
     "metadata": {},
     "output_type": "execute_result"
    }
   ],
   "source": [
    "s1.intersection(s2)"
   ]
  },
  {
   "cell_type": "markdown",
   "id": "e62d8f47",
   "metadata": {},
   "source": [
    "### 합집합 구하기"
   ]
  },
  {
   "cell_type": "code",
   "execution_count": 43,
   "id": "5c55a7cf",
   "metadata": {
    "ExecuteTime": {
     "end_time": "2023-11-27T01:46:41.040542Z",
     "start_time": "2023-11-27T01:46:41.033193Z"
    }
   },
   "outputs": [
    {
     "data": {
      "text/plain": [
       "{1, 2, 3, 4, 5, 6, 7, 8, 9}"
      ]
     },
     "execution_count": 43,
     "metadata": {},
     "output_type": "execute_result"
    }
   ],
   "source": [
    "s1 | s2"
   ]
  },
  {
   "cell_type": "code",
   "execution_count": 44,
   "id": "cd6cbc73",
   "metadata": {
    "ExecuteTime": {
     "end_time": "2023-11-27T01:46:46.072074Z",
     "start_time": "2023-11-27T01:46:46.066548Z"
    }
   },
   "outputs": [
    {
     "data": {
      "text/plain": [
       "{1, 2, 3, 4, 5, 6, 7, 8, 9}"
      ]
     },
     "execution_count": 44,
     "metadata": {},
     "output_type": "execute_result"
    }
   ],
   "source": [
    "s1.union(s2)"
   ]
  },
  {
   "cell_type": "code",
   "execution_count": 49,
   "id": "7618d6d6",
   "metadata": {
    "ExecuteTime": {
     "end_time": "2023-11-27T01:48:55.661162Z",
     "start_time": "2023-11-27T01:48:55.641240Z"
    }
   },
   "outputs": [
    {
     "ename": "TypeError",
     "evalue": "unsupported operand type(s) for +: 'set' and 'set'",
     "output_type": "error",
     "traceback": [
      "\u001b[1;31m---------------------------------------------------------------------------\u001b[0m",
      "\u001b[1;31mTypeError\u001b[0m                                 Traceback (most recent call last)",
      "Cell \u001b[1;32mIn[49], line 1\u001b[0m\n\u001b[1;32m----> 1\u001b[0m s1 \u001b[38;5;241m+\u001b[39m s2\n",
      "\u001b[1;31mTypeError\u001b[0m: unsupported operand type(s) for +: 'set' and 'set'"
     ]
    }
   ],
   "source": [
    "s1 + s2"
   ]
  },
  {
   "cell_type": "markdown",
   "id": "82bac36e",
   "metadata": {},
   "source": [
    "### 차집합 구하기"
   ]
  },
  {
   "cell_type": "code",
   "execution_count": 45,
   "id": "32e83e2c",
   "metadata": {
    "ExecuteTime": {
     "end_time": "2023-11-27T01:46:57.192347Z",
     "start_time": "2023-11-27T01:46:57.186184Z"
    }
   },
   "outputs": [
    {
     "data": {
      "text/plain": [
       "{1, 2, 3}"
      ]
     },
     "execution_count": 45,
     "metadata": {},
     "output_type": "execute_result"
    }
   ],
   "source": [
    "s1 - s2"
   ]
  },
  {
   "cell_type": "code",
   "execution_count": 46,
   "id": "700bab70",
   "metadata": {
    "ExecuteTime": {
     "end_time": "2023-11-27T01:47:03.295817Z",
     "start_time": "2023-11-27T01:47:03.290260Z"
    }
   },
   "outputs": [
    {
     "data": {
      "text/plain": [
       "{7, 8, 9}"
      ]
     },
     "execution_count": 46,
     "metadata": {},
     "output_type": "execute_result"
    }
   ],
   "source": [
    "s2 - s1"
   ]
  },
  {
   "cell_type": "code",
   "execution_count": 47,
   "id": "3fbf7212",
   "metadata": {
    "ExecuteTime": {
     "end_time": "2023-11-27T01:47:11.465069Z",
     "start_time": "2023-11-27T01:47:11.457614Z"
    }
   },
   "outputs": [
    {
     "data": {
      "text/plain": [
       "{1, 2, 3}"
      ]
     },
     "execution_count": 47,
     "metadata": {},
     "output_type": "execute_result"
    }
   ],
   "source": [
    "s1.difference(s2)"
   ]
  },
  {
   "cell_type": "code",
   "execution_count": 48,
   "id": "99b50ac9",
   "metadata": {
    "ExecuteTime": {
     "end_time": "2023-11-27T01:47:18.567862Z",
     "start_time": "2023-11-27T01:47:18.561221Z"
    }
   },
   "outputs": [
    {
     "data": {
      "text/plain": [
       "{7, 8, 9}"
      ]
     },
     "execution_count": 48,
     "metadata": {},
     "output_type": "execute_result"
    }
   ],
   "source": [
    "s2.difference(s1)"
   ]
  },
  {
   "cell_type": "markdown",
   "id": "aa1c0066",
   "metadata": {},
   "source": [
    "## 집합 자료형 관련 함수"
   ]
  },
  {
   "cell_type": "code",
   "execution_count": 50,
   "id": "3f1f8ce9",
   "metadata": {
    "ExecuteTime": {
     "end_time": "2023-11-27T01:49:28.361004Z",
     "start_time": "2023-11-27T01:49:28.354452Z"
    }
   },
   "outputs": [
    {
     "data": {
      "text/plain": [
       "{1, 2, 3, 4}"
      ]
     },
     "execution_count": 50,
     "metadata": {},
     "output_type": "execute_result"
    }
   ],
   "source": [
    "s1 = set([1, 2, 3])\n",
    "s1.add(4)\n",
    "s1"
   ]
  },
  {
   "cell_type": "code",
   "execution_count": 53,
   "id": "774c8758",
   "metadata": {
    "ExecuteTime": {
     "end_time": "2023-11-27T01:49:45.200128Z",
     "start_time": "2023-11-27T01:49:45.194278Z"
    }
   },
   "outputs": [
    {
     "data": {
      "text/plain": [
       "{1, 2, 3, 4, 5, 6}"
      ]
     },
     "execution_count": 53,
     "metadata": {},
     "output_type": "execute_result"
    }
   ],
   "source": [
    "s1 = set([1, 2, 3])\n",
    "s1.update([4, 5, 6])\n",
    "s1"
   ]
  },
  {
   "cell_type": "code",
   "execution_count": 54,
   "id": "ff43420a",
   "metadata": {
    "ExecuteTime": {
     "end_time": "2023-11-27T01:49:58.935913Z",
     "start_time": "2023-11-27T01:49:58.929882Z"
    }
   },
   "outputs": [
    {
     "data": {
      "text/plain": [
       "{1, 3}"
      ]
     },
     "execution_count": 54,
     "metadata": {},
     "output_type": "execute_result"
    }
   ],
   "source": [
    "s1 = set([1, 2, 3])\n",
    "s1.remove(2)\n",
    "s1"
   ]
  },
  {
   "cell_type": "markdown",
   "id": "3d9f820a",
   "metadata": {},
   "source": [
    "# 불 자료형"
   ]
  },
  {
   "cell_type": "markdown",
   "id": "17671b4f",
   "metadata": {},
   "source": [
    "## 불 자료형은 어떻게 사용할까"
   ]
  },
  {
   "cell_type": "code",
   "execution_count": 56,
   "id": "8eb0e959",
   "metadata": {
    "ExecuteTime": {
     "end_time": "2023-11-27T02:03:23.092543Z",
     "start_time": "2023-11-27T02:03:23.088231Z"
    }
   },
   "outputs": [],
   "source": [
    "a = True\n",
    "b = False"
   ]
  },
  {
   "cell_type": "code",
   "execution_count": 57,
   "id": "d9574447",
   "metadata": {
    "ExecuteTime": {
     "end_time": "2023-11-27T02:03:31.334669Z",
     "start_time": "2023-11-27T02:03:31.328270Z"
    }
   },
   "outputs": [
    {
     "data": {
      "text/plain": [
       "bool"
      ]
     },
     "execution_count": 57,
     "metadata": {},
     "output_type": "execute_result"
    }
   ],
   "source": [
    "type(a)"
   ]
  },
  {
   "cell_type": "code",
   "execution_count": 58,
   "id": "ef92db92",
   "metadata": {
    "ExecuteTime": {
     "end_time": "2023-11-27T02:03:33.469844Z",
     "start_time": "2023-11-27T02:03:33.463194Z"
    }
   },
   "outputs": [
    {
     "data": {
      "text/plain": [
       "bool"
      ]
     },
     "execution_count": 58,
     "metadata": {},
     "output_type": "execute_result"
    }
   ],
   "source": [
    "type(b)"
   ]
  },
  {
   "cell_type": "code",
   "execution_count": 59,
   "id": "7559e574",
   "metadata": {
    "ExecuteTime": {
     "end_time": "2023-11-27T02:03:38.133785Z",
     "start_time": "2023-11-27T02:03:38.127624Z"
    }
   },
   "outputs": [
    {
     "data": {
      "text/plain": [
       "True"
      ]
     },
     "execution_count": 59,
     "metadata": {},
     "output_type": "execute_result"
    }
   ],
   "source": [
    "1 == 1"
   ]
  },
  {
   "cell_type": "code",
   "execution_count": 60,
   "id": "9dde2f0e",
   "metadata": {
    "ExecuteTime": {
     "end_time": "2023-11-27T02:04:09.998622Z",
     "start_time": "2023-11-27T02:04:09.992498Z"
    }
   },
   "outputs": [
    {
     "data": {
      "text/plain": [
       "True"
      ]
     },
     "execution_count": 60,
     "metadata": {},
     "output_type": "execute_result"
    }
   ],
   "source": [
    "2 > 1"
   ]
  },
  {
   "cell_type": "code",
   "execution_count": 61,
   "id": "a452fc9d",
   "metadata": {
    "ExecuteTime": {
     "end_time": "2023-11-27T02:04:12.621396Z",
     "start_time": "2023-11-27T02:04:12.615786Z"
    }
   },
   "outputs": [
    {
     "data": {
      "text/plain": [
       "False"
      ]
     },
     "execution_count": 61,
     "metadata": {},
     "output_type": "execute_result"
    }
   ],
   "source": [
    "2 < 1"
   ]
  },
  {
   "cell_type": "markdown",
   "id": "369595f9",
   "metadata": {},
   "source": [
    "## 자료형과 참과 거짓"
   ]
  },
  {
   "cell_type": "code",
   "execution_count": 62,
   "id": "b24eb788",
   "metadata": {
    "ExecuteTime": {
     "end_time": "2023-11-27T02:13:58.620579Z",
     "start_time": "2023-11-27T02:13:58.615391Z"
    }
   },
   "outputs": [
    {
     "name": "stdout",
     "output_type": "stream",
     "text": [
      "4\n",
      "3\n",
      "2\n",
      "1\n"
     ]
    }
   ],
   "source": [
    "a = [1, 2, 3, 4]\n",
    "while a :\n",
    "    print(a.pop())"
   ]
  },
  {
   "cell_type": "code",
   "execution_count": 95,
   "id": "ae7fbabf",
   "metadata": {
    "ExecuteTime": {
     "end_time": "2023-11-27T02:26:22.690740Z",
     "start_time": "2023-11-27T02:26:22.685455Z"
    }
   },
   "outputs": [
    {
     "name": "stdout",
     "output_type": "stream",
     "text": [
      "거짓\n"
     ]
    }
   ],
   "source": [
    "if []:\n",
    "     print(\"참\")\n",
    "else:\n",
    "     print(\"거짓\")\n",
    "\n"
   ]
  },
  {
   "cell_type": "code",
   "execution_count": 96,
   "id": "395ebdab",
   "metadata": {
    "ExecuteTime": {
     "end_time": "2023-11-27T02:26:52.843171Z",
     "start_time": "2023-11-27T02:26:52.837616Z"
    }
   },
   "outputs": [
    {
     "name": "stdout",
     "output_type": "stream",
     "text": [
      "참\n"
     ]
    }
   ],
   "source": [
    "if [1, 2, 3] :\n",
    "    print('참')\n",
    "else :\n",
    "    print('거짓')"
   ]
  },
  {
   "cell_type": "markdown",
   "id": "a51649c3",
   "metadata": {},
   "source": [
    "## 불 연산"
   ]
  },
  {
   "cell_type": "code",
   "execution_count": 83,
   "id": "81ab5c5f",
   "metadata": {
    "ExecuteTime": {
     "end_time": "2023-11-27T02:22:42.435900Z",
     "start_time": "2023-11-27T02:22:42.430001Z"
    }
   },
   "outputs": [
    {
     "data": {
      "text/plain": [
       "True"
      ]
     },
     "execution_count": 83,
     "metadata": {},
     "output_type": "execute_result"
    }
   ],
   "source": [
    "bool('python')"
   ]
  },
  {
   "cell_type": "code",
   "execution_count": 84,
   "id": "df79de33",
   "metadata": {
    "ExecuteTime": {
     "end_time": "2023-11-27T02:23:06.844542Z",
     "start_time": "2023-11-27T02:23:06.837993Z"
    }
   },
   "outputs": [
    {
     "data": {
      "text/plain": [
       "False"
      ]
     },
     "execution_count": 84,
     "metadata": {},
     "output_type": "execute_result"
    }
   ],
   "source": [
    "bool('')"
   ]
  },
  {
   "cell_type": "code",
   "execution_count": 85,
   "id": "ba1d6e33",
   "metadata": {
    "ExecuteTime": {
     "end_time": "2023-11-27T02:23:12.443513Z",
     "start_time": "2023-11-27T02:23:12.437986Z"
    }
   },
   "outputs": [
    {
     "data": {
      "text/plain": [
       "True"
      ]
     },
     "execution_count": 85,
     "metadata": {},
     "output_type": "execute_result"
    }
   ],
   "source": [
    "bool([1, 2, 3])"
   ]
  },
  {
   "cell_type": "code",
   "execution_count": 86,
   "id": "b5210146",
   "metadata": {
    "ExecuteTime": {
     "end_time": "2023-11-27T02:23:15.964638Z",
     "start_time": "2023-11-27T02:23:15.958234Z"
    }
   },
   "outputs": [
    {
     "data": {
      "text/plain": [
       "False"
      ]
     },
     "execution_count": 86,
     "metadata": {},
     "output_type": "execute_result"
    }
   ],
   "source": [
    "bool([])"
   ]
  },
  {
   "cell_type": "code",
   "execution_count": 87,
   "id": "26c32fb3",
   "metadata": {
    "ExecuteTime": {
     "end_time": "2023-11-27T02:23:19.571037Z",
     "start_time": "2023-11-27T02:23:19.565232Z"
    }
   },
   "outputs": [
    {
     "data": {
      "text/plain": [
       "False"
      ]
     },
     "execution_count": 87,
     "metadata": {},
     "output_type": "execute_result"
    }
   ],
   "source": [
    "bool(0)"
   ]
  },
  {
   "cell_type": "code",
   "execution_count": 88,
   "id": "7fb77665",
   "metadata": {
    "ExecuteTime": {
     "end_time": "2023-11-27T02:23:22.227472Z",
     "start_time": "2023-11-27T02:23:22.220711Z"
    }
   },
   "outputs": [
    {
     "data": {
      "text/plain": [
       "True"
      ]
     },
     "execution_count": 88,
     "metadata": {},
     "output_type": "execute_result"
    }
   ],
   "source": [
    "bool(3)"
   ]
  },
  {
   "cell_type": "markdown",
   "id": "b760f45b",
   "metadata": {},
   "source": [
    "# 자료형의 값을 저장하는 공간, 변수"
   ]
  },
  {
   "cell_type": "code",
   "execution_count": 116,
   "id": "261de974",
   "metadata": {
    "ExecuteTime": {
     "end_time": "2023-11-27T02:31:48.618119Z",
     "start_time": "2023-11-27T02:31:48.612661Z"
    }
   },
   "outputs": [
    {
     "data": {
      "text/plain": [
       "2317726985024"
      ]
     },
     "execution_count": 116,
     "metadata": {},
     "output_type": "execute_result"
    }
   ],
   "source": [
    "a = [1, 2, 3]\n",
    "id(a)"
   ]
  },
  {
   "cell_type": "code",
   "execution_count": 117,
   "id": "70a346d2",
   "metadata": {
    "ExecuteTime": {
     "end_time": "2023-11-27T02:31:50.527868Z",
     "start_time": "2023-11-27T02:31:50.523724Z"
    }
   },
   "outputs": [],
   "source": [
    "b = a"
   ]
  },
  {
   "cell_type": "code",
   "execution_count": 118,
   "id": "9fd0a341",
   "metadata": {
    "ExecuteTime": {
     "end_time": "2023-11-27T02:31:50.969848Z",
     "start_time": "2023-11-27T02:31:50.963713Z"
    }
   },
   "outputs": [
    {
     "data": {
      "text/plain": [
       "2317726985024"
      ]
     },
     "execution_count": 118,
     "metadata": {},
     "output_type": "execute_result"
    }
   ],
   "source": [
    "id(a)"
   ]
  },
  {
   "cell_type": "code",
   "execution_count": 119,
   "id": "fdf9390d",
   "metadata": {
    "ExecuteTime": {
     "end_time": "2023-11-27T02:31:51.441633Z",
     "start_time": "2023-11-27T02:31:51.435920Z"
    }
   },
   "outputs": [
    {
     "data": {
      "text/plain": [
       "2317726985024"
      ]
     },
     "execution_count": 119,
     "metadata": {},
     "output_type": "execute_result"
    }
   ],
   "source": [
    "id(b)"
   ]
  },
  {
   "cell_type": "code",
   "execution_count": 120,
   "id": "657cf764",
   "metadata": {
    "ExecuteTime": {
     "end_time": "2023-11-27T02:31:53.761685Z",
     "start_time": "2023-11-27T02:31:53.755875Z"
    }
   },
   "outputs": [
    {
     "data": {
      "text/plain": [
       "True"
      ]
     },
     "execution_count": 120,
     "metadata": {},
     "output_type": "execute_result"
    }
   ],
   "source": [
    "a is b"
   ]
  },
  {
   "cell_type": "code",
   "execution_count": 121,
   "id": "8e9ebdcb",
   "metadata": {
    "ExecuteTime": {
     "end_time": "2023-11-27T02:31:54.651164Z",
     "start_time": "2023-11-27T02:31:54.644948Z"
    }
   },
   "outputs": [
    {
     "data": {
      "text/plain": [
       "[1, 4, 3]"
      ]
     },
     "execution_count": 121,
     "metadata": {},
     "output_type": "execute_result"
    }
   ],
   "source": [
    "a[1] = 4\n",
    "a"
   ]
  },
  {
   "cell_type": "code",
   "execution_count": 122,
   "id": "00fba635",
   "metadata": {
    "ExecuteTime": {
     "end_time": "2023-11-27T02:31:55.762844Z",
     "start_time": "2023-11-27T02:31:55.756773Z"
    }
   },
   "outputs": [
    {
     "data": {
      "text/plain": [
       "[1, 4, 3]"
      ]
     },
     "execution_count": 122,
     "metadata": {},
     "output_type": "execute_result"
    }
   ],
   "source": [
    "b"
   ]
  },
  {
   "cell_type": "markdown",
   "id": "6e7da215",
   "metadata": {},
   "source": [
    "## [:] 이용하기"
   ]
  },
  {
   "cell_type": "code",
   "execution_count": 123,
   "id": "0a8fb8c6",
   "metadata": {
    "ExecuteTime": {
     "end_time": "2023-11-27T02:32:02.938468Z",
     "start_time": "2023-11-27T02:32:02.931625Z"
    }
   },
   "outputs": [
    {
     "data": {
      "text/plain": [
       "[1, 4, 3]"
      ]
     },
     "execution_count": 123,
     "metadata": {},
     "output_type": "execute_result"
    }
   ],
   "source": [
    "a = [1, 2, 3]\n",
    "b = a[:]\n",
    "a[1] = 4\n",
    "a"
   ]
  },
  {
   "cell_type": "code",
   "execution_count": 124,
   "id": "766e0c30",
   "metadata": {
    "ExecuteTime": {
     "end_time": "2023-11-27T02:32:03.267919Z",
     "start_time": "2023-11-27T02:32:03.261456Z"
    }
   },
   "outputs": [
    {
     "data": {
      "text/plain": [
       "[1, 2, 3]"
      ]
     },
     "execution_count": 124,
     "metadata": {},
     "output_type": "execute_result"
    }
   ],
   "source": [
    "b"
   ]
  },
  {
   "cell_type": "markdown",
   "id": "70c04c4d",
   "metadata": {},
   "source": [
    "## copy 모듈 이용하기"
   ]
  },
  {
   "cell_type": "code",
   "execution_count": 125,
   "id": "6e95dced",
   "metadata": {
    "ExecuteTime": {
     "end_time": "2023-11-27T02:32:48.202156Z",
     "start_time": "2023-11-27T02:32:48.198416Z"
    }
   },
   "outputs": [],
   "source": [
    "from copy import copy\n",
    "a = [1, 2, 3]\n",
    "b = copy(a)"
   ]
  },
  {
   "cell_type": "code",
   "execution_count": 126,
   "id": "72e41114",
   "metadata": {
    "ExecuteTime": {
     "end_time": "2023-11-27T02:32:53.754651Z",
     "start_time": "2023-11-27T02:32:53.748545Z"
    }
   },
   "outputs": [
    {
     "data": {
      "text/plain": [
       "False"
      ]
     },
     "execution_count": 126,
     "metadata": {},
     "output_type": "execute_result"
    }
   ],
   "source": [
    "b is a"
   ]
  },
  {
   "cell_type": "code",
   "execution_count": 129,
   "id": "5d9c93d4",
   "metadata": {
    "ExecuteTime": {
     "end_time": "2023-11-27T02:33:50.214231Z",
     "start_time": "2023-11-27T02:33:50.208593Z"
    }
   },
   "outputs": [
    {
     "data": {
      "text/plain": [
       "False"
      ]
     },
     "execution_count": 129,
     "metadata": {},
     "output_type": "execute_result"
    }
   ],
   "source": [
    "a = [1, 2, 3]\n",
    "b = a.copy()\n",
    "b is a # 객체를 비교, ID 가 다르다"
   ]
  },
  {
   "cell_type": "code",
   "execution_count": 130,
   "id": "c5b02d90",
   "metadata": {
    "ExecuteTime": {
     "end_time": "2023-11-27T02:33:54.781368Z",
     "start_time": "2023-11-27T02:33:54.774855Z"
    }
   },
   "outputs": [
    {
     "data": {
      "text/plain": [
       "True"
      ]
     },
     "execution_count": 130,
     "metadata": {},
     "output_type": "execute_result"
    }
   ],
   "source": [
    "a == b # 요소를 비교"
   ]
  },
  {
   "cell_type": "code",
   "execution_count": 131,
   "id": "155d64a5",
   "metadata": {
    "ExecuteTime": {
     "end_time": "2023-11-27T02:34:23.979038Z",
     "start_time": "2023-11-27T02:34:23.973137Z"
    }
   },
   "outputs": [
    {
     "data": {
      "text/plain": [
       "(2317726836288, 2317726603136)"
      ]
     },
     "execution_count": 131,
     "metadata": {},
     "output_type": "execute_result"
    }
   ],
   "source": [
    "id(a), id(b)"
   ]
  },
  {
   "cell_type": "markdown",
   "id": "a8271247",
   "metadata": {},
   "source": [
    "## 변수를 만드는 여러 가지 방법"
   ]
  },
  {
   "cell_type": "code",
   "execution_count": 140,
   "id": "6a9bb460",
   "metadata": {
    "ExecuteTime": {
     "end_time": "2023-11-27T02:38:27.900086Z",
     "start_time": "2023-11-27T02:38:27.892861Z"
    }
   },
   "outputs": [
    {
     "name": "stdout",
     "output_type": "stream",
     "text": [
      "python\n",
      "life\n"
     ]
    },
    {
     "data": {
      "text/plain": [
       "str"
      ]
     },
     "execution_count": 140,
     "metadata": {},
     "output_type": "execute_result"
    }
   ],
   "source": [
    "a,  b = ('python', 'life')\n",
    "print(a)\n",
    "print(b)\n",
    "type(a)\n",
    "type(b)"
   ]
  },
  {
   "cell_type": "code",
   "execution_count": 141,
   "id": "f72408d1",
   "metadata": {
    "ExecuteTime": {
     "end_time": "2023-11-27T02:38:32.979614Z",
     "start_time": "2023-11-27T02:38:32.972719Z"
    }
   },
   "outputs": [
    {
     "name": "stdout",
     "output_type": "stream",
     "text": [
      "python\n",
      "life\n"
     ]
    },
    {
     "data": {
      "text/plain": [
       "str"
      ]
     },
     "execution_count": 141,
     "metadata": {},
     "output_type": "execute_result"
    }
   ],
   "source": [
    "(a, b) = 'python', 'life'\n",
    "print(a)\n",
    "print(b)\n",
    "type(a)\n",
    "type(b)"
   ]
  },
  {
   "cell_type": "code",
   "execution_count": 146,
   "id": "4cfa301e",
   "metadata": {
    "ExecuteTime": {
     "end_time": "2023-11-27T02:40:21.492842Z",
     "start_time": "2023-11-27T02:40:21.484587Z"
    }
   },
   "outputs": [
    {
     "name": "stdout",
     "output_type": "stream",
     "text": [
      "python\n",
      "life\n"
     ]
    },
    {
     "data": {
      "text/plain": [
       "2317726828800"
      ]
     },
     "execution_count": 146,
     "metadata": {},
     "output_type": "execute_result"
    }
   ],
   "source": [
    "[a, b] = ['python', 'life']\n",
    "print(a)\n",
    "print(b)\n",
    "type(a)\n",
    "type(b)\n",
    "id([a, b])"
   ]
  },
  {
   "cell_type": "code",
   "execution_count": 148,
   "id": "b59343df",
   "metadata": {
    "ExecuteTime": {
     "end_time": "2023-11-27T02:40:43.459291Z",
     "start_time": "2023-11-27T02:40:43.452326Z"
    },
    "scrolled": true
   },
   "outputs": [
    {
     "name": "stdout",
     "output_type": "stream",
     "text": [
      "python\n",
      "python\n"
     ]
    },
    {
     "data": {
      "text/plain": [
       "2317663604528"
      ]
     },
     "execution_count": 148,
     "metadata": {},
     "output_type": "execute_result"
    }
   ],
   "source": [
    "a = b = 'python'\n",
    "print(a)\n",
    "print(b)\n",
    "type(a)\n",
    "type(b)\n",
    "id(a)\n"
   ]
  },
  {
   "cell_type": "code",
   "execution_count": 149,
   "id": "f5b06325",
   "metadata": {
    "ExecuteTime": {
     "end_time": "2023-11-27T02:40:50.265697Z",
     "start_time": "2023-11-27T02:40:50.259449Z"
    }
   },
   "outputs": [
    {
     "data": {
      "text/plain": [
       "2317663604528"
      ]
     },
     "execution_count": 149,
     "metadata": {},
     "output_type": "execute_result"
    }
   ],
   "source": [
    "id(b)"
   ]
  },
  {
   "cell_type": "code",
   "execution_count": 144,
   "id": "e8ee8726",
   "metadata": {
    "ExecuteTime": {
     "end_time": "2023-11-27T02:39:03.386662Z",
     "start_time": "2023-11-27T02:39:03.379840Z"
    }
   },
   "outputs": [
    {
     "data": {
      "text/plain": [
       "5"
      ]
     },
     "execution_count": 144,
     "metadata": {},
     "output_type": "execute_result"
    }
   ],
   "source": [
    "a = 3\n",
    "b = 5\n",
    "a, b = b, a\n",
    "a"
   ]
  },
  {
   "cell_type": "code",
   "execution_count": 145,
   "id": "ebae579b",
   "metadata": {
    "ExecuteTime": {
     "end_time": "2023-11-27T02:39:04.586390Z",
     "start_time": "2023-11-27T02:39:04.580100Z"
    }
   },
   "outputs": [
    {
     "data": {
      "text/plain": [
       "3"
      ]
     },
     "execution_count": 145,
     "metadata": {},
     "output_type": "execute_result"
    }
   ],
   "source": [
    "b"
   ]
  },
  {
   "cell_type": "code",
   "execution_count": null,
   "id": "4ca9a1aa",
   "metadata": {},
   "outputs": [],
   "source": []
  }
 ],
 "metadata": {
  "kernelspec": {
   "display_name": "Python 3 (ipykernel)",
   "language": "python",
   "name": "python3"
  },
  "language_info": {
   "codemirror_mode": {
    "name": "ipython",
    "version": 3
   },
   "file_extension": ".py",
   "mimetype": "text/x-python",
   "name": "python",
   "nbconvert_exporter": "python",
   "pygments_lexer": "ipython3",
   "version": "3.11.5"
  },
  "toc": {
   "base_numbering": 1,
   "nav_menu": {},
   "number_sections": true,
   "sideBar": true,
   "skip_h1_title": false,
   "title_cell": "Table of Contents",
   "title_sidebar": "Contents",
   "toc_cell": false,
   "toc_position": {},
   "toc_section_display": true,
   "toc_window_display": false
  }
 },
 "nbformat": 4,
 "nbformat_minor": 5
}
