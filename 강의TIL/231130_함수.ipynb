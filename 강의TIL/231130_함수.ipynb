{
 "cells": [
  {
   "cell_type": "markdown",
   "id": "0ccf8c92",
   "metadata": {},
   "source": [
    "# 함수"
   ]
  },
  {
   "cell_type": "code",
   "execution_count": 1,
   "id": "46dea31c",
   "metadata": {
    "ExecuteTime": {
     "end_time": "2023-11-30T01:21:30.895416Z",
     "start_time": "2023-11-30T01:21:30.890690Z"
    }
   },
   "outputs": [],
   "source": [
    "def add(a, b) :\n",
    "    return a + b"
   ]
  },
  {
   "cell_type": "code",
   "execution_count": 2,
   "id": "c52197bd",
   "metadata": {
    "ExecuteTime": {
     "end_time": "2023-11-30T01:21:45.404078Z",
     "start_time": "2023-11-30T01:21:45.399323Z"
    }
   },
   "outputs": [
    {
     "name": "stdout",
     "output_type": "stream",
     "text": [
      "7\n"
     ]
    }
   ],
   "source": [
    "a = 3\n",
    "b = 4\n",
    "c = add(a, b)\n",
    "print(c)"
   ]
  },
  {
   "cell_type": "markdown",
   "id": "864ba312",
   "metadata": {},
   "source": [
    "## 매개 변수와 인수"
   ]
  },
  {
   "cell_type": "code",
   "execution_count": 3,
   "id": "346eb2f5",
   "metadata": {
    "ExecuteTime": {
     "end_time": "2023-11-30T01:22:59.279396Z",
     "start_time": "2023-11-30T01:22:59.274187Z"
    }
   },
   "outputs": [
    {
     "name": "stdout",
     "output_type": "stream",
     "text": [
      "7\n"
     ]
    }
   ],
   "source": [
    "def add(a, b) : # a, b 는 매개변수\n",
    "    return a + b\n",
    "\n",
    "print(add(3, 4)) # 3, 4 는 인수"
   ]
  },
  {
   "cell_type": "markdown",
   "id": "96d71d17",
   "metadata": {
    "ExecuteTime": {
     "end_time": "2023-11-30T01:23:20.100979Z",
     "start_time": "2023-11-30T01:23:20.096885Z"
    }
   },
   "source": [
    "## 일반적인 함수"
   ]
  },
  {
   "cell_type": "code",
   "execution_count": 5,
   "id": "2fc6c617",
   "metadata": {
    "ExecuteTime": {
     "end_time": "2023-11-30T01:23:34.963645Z",
     "start_time": "2023-11-30T01:23:34.959505Z"
    }
   },
   "outputs": [],
   "source": [
    "def add(a, b) :\n",
    "    result = a + b\n",
    "    return result"
   ]
  },
  {
   "cell_type": "code",
   "execution_count": 6,
   "id": "add9c9d8",
   "metadata": {
    "ExecuteTime": {
     "end_time": "2023-11-30T01:23:51.836476Z",
     "start_time": "2023-11-30T01:23:51.831280Z"
    }
   },
   "outputs": [
    {
     "name": "stdout",
     "output_type": "stream",
     "text": [
      "7\n"
     ]
    }
   ],
   "source": [
    "a = add(3, 4)\n",
    "print(a)"
   ]
  },
  {
   "cell_type": "markdown",
   "id": "25ed93f5",
   "metadata": {},
   "source": [
    "## 입력값이 없는 함수"
   ]
  },
  {
   "cell_type": "code",
   "execution_count": 7,
   "id": "ddc6292c",
   "metadata": {
    "ExecuteTime": {
     "end_time": "2023-11-30T01:26:52.180853Z",
     "start_time": "2023-11-30T01:26:52.176340Z"
    }
   },
   "outputs": [],
   "source": [
    "def say() :\n",
    "    return 'Hi'"
   ]
  },
  {
   "cell_type": "code",
   "execution_count": 8,
   "id": "f720ba00",
   "metadata": {
    "ExecuteTime": {
     "end_time": "2023-11-30T01:26:57.508370Z",
     "start_time": "2023-11-30T01:26:57.504449Z"
    }
   },
   "outputs": [
    {
     "name": "stdout",
     "output_type": "stream",
     "text": [
      "Hi\n"
     ]
    }
   ],
   "source": [
    "a = say()\n",
    "print(a)"
   ]
  },
  {
   "cell_type": "markdown",
   "id": "0f1e5add",
   "metadata": {},
   "source": [
    "## 리턴값이 없는 함수"
   ]
  },
  {
   "cell_type": "code",
   "execution_count": 13,
   "id": "40dc1299",
   "metadata": {
    "ExecuteTime": {
     "end_time": "2023-11-30T01:28:26.179241Z",
     "start_time": "2023-11-30T01:28:26.175188Z"
    }
   },
   "outputs": [],
   "source": [
    "def add(a, b) :\n",
    "    print('%d, %d의 합은 %d입니다.' % (a, b, a + b))"
   ]
  },
  {
   "cell_type": "code",
   "execution_count": 14,
   "id": "ee33330d",
   "metadata": {
    "ExecuteTime": {
     "end_time": "2023-11-30T01:28:29.540477Z",
     "start_time": "2023-11-30T01:28:29.534799Z"
    }
   },
   "outputs": [
    {
     "name": "stdout",
     "output_type": "stream",
     "text": [
      "3, 4의 합은 7입니다.\n"
     ]
    }
   ],
   "source": [
    "add(3, 4)"
   ]
  },
  {
   "cell_type": "code",
   "execution_count": 16,
   "id": "9399e17e",
   "metadata": {
    "ExecuteTime": {
     "end_time": "2023-11-30T01:29:41.741808Z",
     "start_time": "2023-11-30T01:29:41.736981Z"
    }
   },
   "outputs": [
    {
     "name": "stdout",
     "output_type": "stream",
     "text": [
      "3, 4의 합은 7입니다.\n",
      "None\n"
     ]
    }
   ],
   "source": [
    "a = add(3, 4)\n",
    "print(a) # 값을 받아올때는 return 이 필요함"
   ]
  },
  {
   "cell_type": "markdown",
   "id": "4dd7e647",
   "metadata": {},
   "source": [
    "## 입력값도, 리턴값도 없는 함수"
   ]
  },
  {
   "cell_type": "code",
   "execution_count": 17,
   "id": "a5e31aa3",
   "metadata": {
    "ExecuteTime": {
     "end_time": "2023-11-30T01:29:56.106717Z",
     "start_time": "2023-11-30T01:29:56.102943Z"
    }
   },
   "outputs": [],
   "source": [
    "def say() :\n",
    "    print('Hi')"
   ]
  },
  {
   "cell_type": "code",
   "execution_count": 18,
   "id": "77e0456f",
   "metadata": {
    "ExecuteTime": {
     "end_time": "2023-11-30T01:29:58.179059Z",
     "start_time": "2023-11-30T01:29:58.174833Z"
    }
   },
   "outputs": [
    {
     "name": "stdout",
     "output_type": "stream",
     "text": [
      "Hi\n"
     ]
    }
   ],
   "source": [
    "say()"
   ]
  },
  {
   "cell_type": "markdown",
   "id": "afe7acad",
   "metadata": {
    "ExecuteTime": {
     "end_time": "2023-11-30T01:30:10.308753Z",
     "start_time": "2023-11-30T01:30:10.305295Z"
    }
   },
   "source": [
    "## 매개변수를 지정하여 호출하기"
   ]
  },
  {
   "cell_type": "code",
   "execution_count": 20,
   "id": "c70cb699",
   "metadata": {
    "ExecuteTime": {
     "end_time": "2023-11-30T01:30:22.154536Z",
     "start_time": "2023-11-30T01:30:22.150669Z"
    }
   },
   "outputs": [],
   "source": [
    "def sub(a, b) :\n",
    "    return a - b"
   ]
  },
  {
   "cell_type": "code",
   "execution_count": 21,
   "id": "549988f9",
   "metadata": {
    "ExecuteTime": {
     "end_time": "2023-11-30T01:31:26.484716Z",
     "start_time": "2023-11-30T01:31:26.479880Z"
    }
   },
   "outputs": [
    {
     "name": "stdout",
     "output_type": "stream",
     "text": [
      "4\n"
     ]
    }
   ],
   "source": [
    "result = sub(a = 7, b = 3) # a에 7, b에 3을 전달\n",
    "print(result)"
   ]
  },
  {
   "cell_type": "code",
   "execution_count": 24,
   "id": "6b97404d",
   "metadata": {
    "ExecuteTime": {
     "end_time": "2023-11-30T01:33:05.131912Z",
     "start_time": "2023-11-30T01:33:05.127406Z"
    }
   },
   "outputs": [
    {
     "name": "stdout",
     "output_type": "stream",
     "text": [
      "4\n"
     ]
    }
   ],
   "source": [
    "result = sub(7, 3) # 인자를 안넣으면 순서대로 \n",
    "print(result)"
   ]
  },
  {
   "cell_type": "markdown",
   "id": "62dbb8d9",
   "metadata": {
    "ExecuteTime": {
     "end_time": "2023-11-30T01:38:56.316113Z",
     "start_time": "2023-11-30T01:38:56.312079Z"
    }
   },
   "source": [
    "## 여러 개의 입력값을 받는 함수 만들기"
   ]
  },
  {
   "cell_type": "code",
   "execution_count": 39,
   "id": "2b3459bf",
   "metadata": {
    "ExecuteTime": {
     "end_time": "2023-11-30T01:44:57.379402Z",
     "start_time": "2023-11-30T01:44:57.374145Z"
    }
   },
   "outputs": [],
   "source": [
    "def add_many(*args) :\n",
    "    result = 0\n",
    "    print('함수안에서 실행', args)\n",
    "    for i in args :\n",
    "        result = result + i # * *args에 입력받은 모든 값을 더한다.\n",
    "    return result    "
   ]
  },
  {
   "cell_type": "code",
   "execution_count": 40,
   "id": "e21f4e00",
   "metadata": {
    "ExecuteTime": {
     "end_time": "2023-11-30T01:44:59.332241Z",
     "start_time": "2023-11-30T01:44:59.327122Z"
    }
   },
   "outputs": [
    {
     "name": "stdout",
     "output_type": "stream",
     "text": [
      "함수안에서 실행 (1, 2, 3)\n",
      "함수밖에서 실행 6\n"
     ]
    }
   ],
   "source": [
    "result = add_many(1, 2, 3)\n",
    "print('함수밖에서 실행', result)"
   ]
  },
  {
   "cell_type": "code",
   "execution_count": 41,
   "id": "d1a5ff77",
   "metadata": {
    "ExecuteTime": {
     "end_time": "2023-11-30T01:45:08.290769Z",
     "start_time": "2023-11-30T01:45:08.285672Z"
    }
   },
   "outputs": [
    {
     "name": "stdout",
     "output_type": "stream",
     "text": [
      "함수안에서 실행 (1, 2, 3, 4, 5, 6, 7, 8, 9, 10)\n",
      "함수밖에서 실행 55\n"
     ]
    }
   ],
   "source": [
    "result = add_many(1, 2, 3, 4, 5, 6, 7, 8, 9,10)\n",
    "print('함수밖에서 실행', result)"
   ]
  },
  {
   "cell_type": "code",
   "execution_count": 42,
   "id": "0b00d90b",
   "metadata": {
    "ExecuteTime": {
     "end_time": "2023-11-30T01:45:32.195369Z",
     "start_time": "2023-11-30T01:45:32.190394Z"
    }
   },
   "outputs": [
    {
     "name": "stdout",
     "output_type": "stream",
     "text": [
      "함수안에서 실행 (1, 2, 3, 4, 5, 6, 7, 8, 9, 10)\n",
      "함수밖에서 실행 55\n"
     ]
    }
   ],
   "source": [
    "result = add_many(*range(1, 11))\n",
    "print('함수밖에서 실행', result)"
   ]
  },
  {
   "cell_type": "code",
   "execution_count": 43,
   "id": "cae55a01",
   "metadata": {
    "ExecuteTime": {
     "end_time": "2023-11-30T01:47:10.132062Z",
     "start_time": "2023-11-30T01:47:10.126258Z"
    }
   },
   "outputs": [],
   "source": [
    "def add_mul(choice, *args) : # 고정 인수가 반드시 먼저 나와야 함\n",
    "    if choice == 'add' : # 매개변수 choice에 'add'를 입력 받았을 때\n",
    "        result = 0\n",
    "        for i in args :\n",
    "            result = result + i\n",
    "    elif choice == 'mul': # 매개변수 choice에 'mul'을 입력 받았을 때\n",
    "        result = 1\n",
    "        for i in args :\n",
    "            result = result * i\n",
    "    return result"
   ]
  },
  {
   "cell_type": "code",
   "execution_count": 44,
   "id": "a03e8535",
   "metadata": {
    "ExecuteTime": {
     "end_time": "2023-11-30T01:47:24.907689Z",
     "start_time": "2023-11-30T01:47:24.901825Z"
    }
   },
   "outputs": [
    {
     "name": "stdout",
     "output_type": "stream",
     "text": [
      "15\n"
     ]
    }
   ],
   "source": [
    "result = add_mul('add', 1, 2, 3, 4, 5)\n",
    "print(result)"
   ]
  },
  {
   "cell_type": "code",
   "execution_count": 45,
   "id": "21ef3de3",
   "metadata": {
    "ExecuteTime": {
     "end_time": "2023-11-30T01:47:41.860417Z",
     "start_time": "2023-11-30T01:47:41.854378Z"
    }
   },
   "outputs": [
    {
     "name": "stdout",
     "output_type": "stream",
     "text": [
      "120\n"
     ]
    }
   ],
   "source": [
    "result = add_mul('mul', 1, 2, 3, 4, 5)\n",
    "print(result)"
   ]
  },
  {
   "cell_type": "code",
   "execution_count": 46,
   "id": "645043e8",
   "metadata": {
    "ExecuteTime": {
     "end_time": "2023-11-30T01:47:56.827274Z",
     "start_time": "2023-11-30T01:47:56.782376Z"
    }
   },
   "outputs": [
    {
     "ename": "UnboundLocalError",
     "evalue": "cannot access local variable 'result' where it is not associated with a value",
     "output_type": "error",
     "traceback": [
      "\u001b[1;31m---------------------------------------------------------------------------\u001b[0m",
      "\u001b[1;31mUnboundLocalError\u001b[0m                         Traceback (most recent call last)",
      "Cell \u001b[1;32mIn[46], line 1\u001b[0m\n\u001b[1;32m----> 1\u001b[0m result \u001b[38;5;241m=\u001b[39m add_mul(\u001b[38;5;124m'\u001b[39m\u001b[38;5;124msub\u001b[39m\u001b[38;5;124m'\u001b[39m, \u001b[38;5;241m1\u001b[39m, \u001b[38;5;241m2\u001b[39m, \u001b[38;5;241m3\u001b[39m, \u001b[38;5;241m4\u001b[39m, \u001b[38;5;241m5\u001b[39m)\n\u001b[0;32m      2\u001b[0m \u001b[38;5;28mprint\u001b[39m(result)\n",
      "Cell \u001b[1;32mIn[43], line 10\u001b[0m, in \u001b[0;36madd_mul\u001b[1;34m(choice, *args)\u001b[0m\n\u001b[0;32m      8\u001b[0m     \u001b[38;5;28;01mfor\u001b[39;00m i \u001b[38;5;129;01min\u001b[39;00m args :\n\u001b[0;32m      9\u001b[0m         result \u001b[38;5;241m=\u001b[39m result \u001b[38;5;241m*\u001b[39m i\n\u001b[1;32m---> 10\u001b[0m \u001b[38;5;28;01mreturn\u001b[39;00m result\n",
      "\u001b[1;31mUnboundLocalError\u001b[0m: cannot access local variable 'result' where it is not associated with a value"
     ]
    }
   ],
   "source": [
    "result = add_mul('sub', 1, 2, 3, 4, 5)\n",
    "print(result)"
   ]
  },
  {
   "cell_type": "markdown",
   "id": "52b1bc2c",
   "metadata": {},
   "source": [
    "## 키워드 매개변수, kwargs"
   ]
  },
  {
   "cell_type": "code",
   "execution_count": 47,
   "id": "531eca49",
   "metadata": {
    "ExecuteTime": {
     "end_time": "2023-11-30T02:02:51.929537Z",
     "start_time": "2023-11-30T02:02:51.925111Z"
    }
   },
   "outputs": [],
   "source": [
    "def print_kwargs(**kwargs) : # 딕셔너리로 저장됨\n",
    "    print(kwargs)"
   ]
  },
  {
   "cell_type": "code",
   "execution_count": 48,
   "id": "bcb06c7f",
   "metadata": {
    "ExecuteTime": {
     "end_time": "2023-11-30T02:03:02.450658Z",
     "start_time": "2023-11-30T02:03:02.445563Z"
    }
   },
   "outputs": [
    {
     "name": "stdout",
     "output_type": "stream",
     "text": [
      "{'a': 1}\n"
     ]
    }
   ],
   "source": [
    "print_kwargs(a=1)"
   ]
  },
  {
   "cell_type": "code",
   "execution_count": 51,
   "id": "56f675fb",
   "metadata": {
    "ExecuteTime": {
     "end_time": "2023-11-30T02:03:28.121512Z",
     "start_time": "2023-11-30T02:03:28.115913Z"
    }
   },
   "outputs": [
    {
     "name": "stdout",
     "output_type": "stream",
     "text": [
      "{'name': 'foo', 'age': 3}\n"
     ]
    }
   ],
   "source": [
    "print_kwargs(name='foo', age = 3)"
   ]
  },
  {
   "cell_type": "markdown",
   "id": "45eb3b39",
   "metadata": {
    "ExecuteTime": {
     "end_time": "2023-11-30T02:04:47.907258Z",
     "start_time": "2023-11-30T02:04:47.904176Z"
    }
   },
   "source": [
    "## 함수의 리턴값은 언제나 하나이다"
   ]
  },
  {
   "cell_type": "code",
   "execution_count": 55,
   "id": "5fb9b56c",
   "metadata": {
    "ExecuteTime": {
     "end_time": "2023-11-30T02:05:46.737736Z",
     "start_time": "2023-11-30T02:05:46.732320Z"
    }
   },
   "outputs": [],
   "source": [
    "def add_and_mul(a, b) :\n",
    "    return a + b, a * b"
   ]
  },
  {
   "cell_type": "code",
   "execution_count": 58,
   "id": "36f368cd",
   "metadata": {
    "ExecuteTime": {
     "end_time": "2023-11-30T02:06:56.025157Z",
     "start_time": "2023-11-30T02:06:56.020834Z"
    }
   },
   "outputs": [
    {
     "name": "stdout",
     "output_type": "stream",
     "text": [
      "(7, 12)\n"
     ]
    }
   ],
   "source": [
    "result = add_and_mul(3, 4)\n",
    "print(result)"
   ]
  },
  {
   "cell_type": "code",
   "execution_count": 59,
   "id": "03a34a3d",
   "metadata": {
    "ExecuteTime": {
     "end_time": "2023-11-30T02:07:53.946356Z",
     "start_time": "2023-11-30T02:07:53.940602Z"
    }
   },
   "outputs": [
    {
     "name": "stdout",
     "output_type": "stream",
     "text": [
      "7\n",
      "12\n"
     ]
    }
   ],
   "source": [
    "result1, result2 = add_and_mul(3, 4)\n",
    "print(result1)\n",
    "print(result2)"
   ]
  },
  {
   "cell_type": "code",
   "execution_count": 60,
   "id": "e664854a",
   "metadata": {
    "ExecuteTime": {
     "end_time": "2023-11-30T02:08:42.257683Z",
     "start_time": "2023-11-30T02:08:42.253557Z"
    }
   },
   "outputs": [],
   "source": [
    "def add_and_mul(a, b) :\n",
    "    return a + b  # return을 만나는 순간 끝남\n",
    "    return a * b  # 여기까지 안옴"
   ]
  },
  {
   "cell_type": "code",
   "execution_count": 61,
   "id": "3a3bd02e",
   "metadata": {
    "ExecuteTime": {
     "end_time": "2023-11-30T02:09:07.554341Z",
     "start_time": "2023-11-30T02:09:07.549942Z"
    }
   },
   "outputs": [
    {
     "name": "stdout",
     "output_type": "stream",
     "text": [
      "5\n"
     ]
    }
   ],
   "source": [
    "result = add_and_mul(2, 3)\n",
    "print(result)"
   ]
  },
  {
   "cell_type": "markdown",
   "id": "7dd165eb",
   "metadata": {
    "ExecuteTime": {
     "end_time": "2023-11-30T02:11:22.283024Z",
     "start_time": "2023-11-30T02:11:22.279333Z"
    }
   },
   "source": [
    "### return의 또 다른 쓰임새"
   ]
  },
  {
   "cell_type": "code",
   "execution_count": 62,
   "id": "0375fd54",
   "metadata": {
    "ExecuteTime": {
     "end_time": "2023-11-30T02:09:40.865028Z",
     "start_time": "2023-11-30T02:09:40.860405Z"
    }
   },
   "outputs": [],
   "source": [
    "def say_nick(nick) :\n",
    "    if nick == '바보' :\n",
    "        return\n",
    "    print('나의 별명은 %s 입니다.' % nick)"
   ]
  },
  {
   "cell_type": "code",
   "execution_count": 63,
   "id": "2ccfef15",
   "metadata": {
    "ExecuteTime": {
     "end_time": "2023-11-30T02:09:48.249922Z",
     "start_time": "2023-11-30T02:09:48.244987Z"
    }
   },
   "outputs": [
    {
     "name": "stdout",
     "output_type": "stream",
     "text": [
      "나의 별명은 야호 입니다.\n"
     ]
    }
   ],
   "source": [
    "say_nick('야호')"
   ]
  },
  {
   "cell_type": "code",
   "execution_count": 65,
   "id": "5816ee30",
   "metadata": {
    "ExecuteTime": {
     "end_time": "2023-11-30T02:10:25.392931Z",
     "start_time": "2023-11-30T02:10:25.388788Z"
    }
   },
   "outputs": [],
   "source": [
    "say_nick('바보')"
   ]
  },
  {
   "cell_type": "markdown",
   "id": "00267323",
   "metadata": {
    "ExecuteTime": {
     "end_time": "2023-11-30T02:12:38.650408Z",
     "start_time": "2023-11-30T02:12:38.647032Z"
    }
   },
   "source": [
    "## 매개변수에 초깃값 미리 설정하기"
   ]
  },
  {
   "cell_type": "code",
   "execution_count": 68,
   "id": "579e2616",
   "metadata": {
    "ExecuteTime": {
     "end_time": "2023-11-30T02:13:36.729789Z",
     "start_time": "2023-11-30T02:13:36.723629Z"
    }
   },
   "outputs": [],
   "source": [
    "# default1.py\n",
    "def say_myself(name, age, man = True) :\n",
    "    print('나의 이름은 %s 입니다.' % name)\n",
    "    print('나이는 %d 살입니다.' % age)\n",
    "    if man :\n",
    "        print('남자입니다.')\n",
    "    else :\n",
    "        print('여자입니다.')"
   ]
  },
  {
   "cell_type": "code",
   "execution_count": 75,
   "id": "3668ee12",
   "metadata": {
    "ExecuteTime": {
     "end_time": "2023-11-30T02:14:59.996479Z",
     "start_time": "2023-11-30T02:14:59.991858Z"
    }
   },
   "outputs": [
    {
     "name": "stdout",
     "output_type": "stream",
     "text": [
      "나의 이름은 박응용 입니다.\n",
      "나이는 27 살입니다.\n",
      "남자입니다.\n"
     ]
    }
   ],
   "source": [
    "say_myself('박응용', 27) # man은 초기값 True를 가짐"
   ]
  },
  {
   "cell_type": "code",
   "execution_count": 70,
   "id": "a2e3502e",
   "metadata": {
    "ExecuteTime": {
     "end_time": "2023-11-30T02:13:58.457104Z",
     "start_time": "2023-11-30T02:13:58.452273Z"
    }
   },
   "outputs": [
    {
     "name": "stdout",
     "output_type": "stream",
     "text": [
      "나의 이름은 박응용 입니다.\n",
      "나이는 27 살입니다.\n",
      "남자입니다.\n"
     ]
    }
   ],
   "source": [
    "say_myself('박응용', 27, True)"
   ]
  },
  {
   "cell_type": "code",
   "execution_count": 71,
   "id": "00092596",
   "metadata": {
    "ExecuteTime": {
     "end_time": "2023-11-30T02:14:08.104920Z",
     "start_time": "2023-11-30T02:14:08.099835Z"
    }
   },
   "outputs": [
    {
     "name": "stdout",
     "output_type": "stream",
     "text": [
      "나의 이름은 박응용 입니다.\n",
      "나이는 27 살입니다.\n",
      "남자입니다.\n"
     ]
    }
   ],
   "source": [
    "say_myself('박응용', 27, 1)"
   ]
  },
  {
   "cell_type": "code",
   "execution_count": 73,
   "id": "09840d36",
   "metadata": {
    "ExecuteTime": {
     "end_time": "2023-11-30T02:14:25.577831Z",
     "start_time": "2023-11-30T02:14:25.572753Z"
    }
   },
   "outputs": [
    {
     "name": "stdout",
     "output_type": "stream",
     "text": [
      "나의 이름은 박응용 입니다.\n",
      "나이는 27 살입니다.\n",
      "여자입니다.\n"
     ]
    }
   ],
   "source": [
    "say_myself('박응용', 27, 0)"
   ]
  },
  {
   "cell_type": "code",
   "execution_count": 74,
   "id": "39b24ab9",
   "metadata": {
    "ExecuteTime": {
     "end_time": "2023-11-30T02:14:38.216975Z",
     "start_time": "2023-11-30T02:14:38.211322Z"
    }
   },
   "outputs": [
    {
     "name": "stdout",
     "output_type": "stream",
     "text": [
      "나의 이름은 박응용 입니다.\n",
      "나이는 27 살입니다.\n",
      "여자입니다.\n"
     ]
    }
   ],
   "source": [
    "say_myself('박응용', 27, False)"
   ]
  },
  {
   "cell_type": "code",
   "execution_count": 76,
   "id": "e604af75",
   "metadata": {
    "ExecuteTime": {
     "end_time": "2023-11-30T02:16:20.738905Z",
     "start_time": "2023-11-30T02:16:20.732161Z"
    }
   },
   "outputs": [
    {
     "ename": "SyntaxError",
     "evalue": "non-default argument follows default argument (111566920.py, line 2)",
     "output_type": "error",
     "traceback": [
      "\u001b[1;36m  Cell \u001b[1;32mIn[76], line 2\u001b[1;36m\u001b[0m\n\u001b[1;33m    def say_myself(name, man = True, age) :\u001b[0m\n\u001b[1;37m                                     ^\u001b[0m\n\u001b[1;31mSyntaxError\u001b[0m\u001b[1;31m:\u001b[0m non-default argument follows default argument\n"
     ]
    }
   ],
   "source": [
    "# default2.py\n",
    "def say_myself(name, man = True, age) :  # 초기값이 없는 매개변수(age)는 초기값이 있는 매개변수(man) 뒤에는 사용할 수 없다\n",
    "    print('나의 이름은 %s 입니다.' % name)\n",
    "    print('나이는 %d 살입니다.' % age)\n",
    "    if man :\n",
    "        print('남자입니다.')\n",
    "    else :\n",
    "        print('여자입니다.')"
   ]
  },
  {
   "cell_type": "markdown",
   "id": "35c5f957",
   "metadata": {
    "ExecuteTime": {
     "end_time": "2023-11-30T02:17:16.434181Z",
     "start_time": "2023-11-30T02:17:16.430989Z"
    }
   },
   "source": [
    "## 함수 안에서 선언한 변수의 효력 범위"
   ]
  },
  {
   "cell_type": "code",
   "execution_count": 83,
   "id": "839ec9c3",
   "metadata": {
    "ExecuteTime": {
     "end_time": "2023-11-30T02:19:02.215726Z",
     "start_time": "2023-11-30T02:19:02.209714Z"
    }
   },
   "outputs": [
    {
     "name": "stdout",
     "output_type": "stream",
     "text": [
      "None\n"
     ]
    }
   ],
   "source": [
    "# vartest.py\n",
    "a = 1\n",
    "def vartest(a) :\n",
    "    a = a + 1\n",
    "    # 선언만 했음\n",
    "    \n",
    "print(vartest(a)) # 2가 나올까?"
   ]
  },
  {
   "cell_type": "code",
   "execution_count": 80,
   "id": "ed3226af",
   "metadata": {
    "ExecuteTime": {
     "end_time": "2023-11-30T02:18:05.241376Z",
     "start_time": "2023-11-30T02:18:05.235934Z"
    }
   },
   "outputs": [
    {
     "name": "stdout",
     "output_type": "stream",
     "text": [
      "1\n"
     ]
    }
   ],
   "source": [
    "print(a)"
   ]
  },
  {
   "cell_type": "code",
   "execution_count": 84,
   "id": "28afc985",
   "metadata": {
    "ExecuteTime": {
     "end_time": "2023-11-30T02:20:17.305769Z",
     "start_time": "2023-11-30T02:20:17.300859Z"
    }
   },
   "outputs": [],
   "source": [
    "def vartest(hello) :\n",
    "    hello = hello + 1"
   ]
  },
  {
   "cell_type": "code",
   "execution_count": 87,
   "id": "c7874246",
   "metadata": {
    "ExecuteTime": {
     "end_time": "2023-11-30T02:20:55.114907Z",
     "start_time": "2023-11-30T02:20:55.109987Z"
    }
   },
   "outputs": [
    {
     "name": "stdout",
     "output_type": "stream",
     "text": [
      "None\n"
     ]
    }
   ],
   "source": [
    "# vartest_error.py\n",
    "def vartest(a) :\n",
    "    a = a + 1\n",
    "    \n",
    "print(vartest(3))"
   ]
  },
  {
   "cell_type": "code",
   "execution_count": 86,
   "id": "c52bc6bd",
   "metadata": {
    "ExecuteTime": {
     "end_time": "2023-11-30T02:20:47.728878Z",
     "start_time": "2023-11-30T02:20:47.723769Z"
    }
   },
   "outputs": [
    {
     "name": "stdout",
     "output_type": "stream",
     "text": [
      "1\n"
     ]
    }
   ],
   "source": [
    "print(a)"
   ]
  },
  {
   "cell_type": "markdown",
   "id": "6b6b3e06",
   "metadata": {
    "ExecuteTime": {
     "end_time": "2023-11-30T02:21:48.138423Z",
     "start_time": "2023-11-30T02:21:48.134852Z"
    }
   },
   "source": [
    "## 함수 안에서 함수 밖의 변수를 변경하는 방법"
   ]
  },
  {
   "cell_type": "markdown",
   "id": "235150db",
   "metadata": {
    "ExecuteTime": {
     "end_time": "2023-11-30T02:21:55.642375Z",
     "start_time": "2023-11-30T02:21:55.638325Z"
    }
   },
   "source": [
    "### return 사용하기"
   ]
  },
  {
   "cell_type": "code",
   "execution_count": 91,
   "id": "bde98703",
   "metadata": {
    "ExecuteTime": {
     "end_time": "2023-11-30T02:22:24.241756Z",
     "start_time": "2023-11-30T02:22:24.236268Z"
    }
   },
   "outputs": [
    {
     "name": "stdout",
     "output_type": "stream",
     "text": [
      "2\n"
     ]
    }
   ],
   "source": [
    "# vartest_return.py\n",
    "a = 1\n",
    "def vartest(a) :\n",
    "    a = a + 1\n",
    "    return a\n",
    "\n",
    "a = vartest(a) # a 전역변수에 함수 값이 리턴값이 대입된다.\n",
    "print(a)"
   ]
  },
  {
   "cell_type": "markdown",
   "id": "0d6edeeb",
   "metadata": {
    "ExecuteTime": {
     "end_time": "2023-11-30T02:22:35.825721Z",
     "start_time": "2023-11-30T02:22:35.821359Z"
    }
   },
   "source": [
    "### global 명령어 사용하기"
   ]
  },
  {
   "cell_type": "code",
   "execution_count": 96,
   "id": "c83974f3",
   "metadata": {
    "ExecuteTime": {
     "end_time": "2023-11-30T02:24:01.068021Z",
     "start_time": "2023-11-30T02:24:01.062301Z"
    }
   },
   "outputs": [
    {
     "name": "stdout",
     "output_type": "stream",
     "text": [
      "2\n"
     ]
    }
   ],
   "source": [
    "# vartest_global.py\n",
    "a = 1\n",
    "def vartest() :\n",
    "    global a # 함수 안에서 함수 밖에 a 변수를 직접 사용하겠다(전역변수 선언)\n",
    "    a = a + 1\n",
    "    \n",
    "vartest() # 입력도 없고, 출력도 없음\n",
    "print(a)"
   ]
  },
  {
   "cell_type": "markdown",
   "id": "3cc713d4",
   "metadata": {},
   "source": [
    "## lambda 예약어"
   ]
  },
  {
   "cell_type": "code",
   "execution_count": 100,
   "id": "8c65428a",
   "metadata": {
    "ExecuteTime": {
     "end_time": "2023-11-30T02:30:55.032121Z",
     "start_time": "2023-11-30T02:30:55.026931Z"
    }
   },
   "outputs": [
    {
     "name": "stdout",
     "output_type": "stream",
     "text": [
      "7\n"
     ]
    }
   ],
   "source": [
    "add = lambda a, b : a + b\n",
    "result = add(3, 4)\n",
    "print(result)"
   ]
  },
  {
   "cell_type": "code",
   "execution_count": 101,
   "id": "50755c04",
   "metadata": {
    "ExecuteTime": {
     "end_time": "2023-11-30T02:30:58.729313Z",
     "start_time": "2023-11-30T02:30:58.724062Z"
    }
   },
   "outputs": [
    {
     "name": "stdout",
     "output_type": "stream",
     "text": [
      "7\n"
     ]
    }
   ],
   "source": [
    "print(result)"
   ]
  },
  {
   "cell_type": "code",
   "execution_count": 98,
   "id": "fda22db6",
   "metadata": {
    "ExecuteTime": {
     "end_time": "2023-11-30T02:30:39.098549Z",
     "start_time": "2023-11-30T02:30:39.092933Z"
    }
   },
   "outputs": [
    {
     "name": "stdout",
     "output_type": "stream",
     "text": [
      "7\n"
     ]
    }
   ],
   "source": [
    "def add(a, b) :\n",
    "    return a + b\n",
    "\n",
    "result = add(3, 4)\n",
    "print(result)"
   ]
  },
  {
   "cell_type": "markdown",
   "id": "ce73b569",
   "metadata": {},
   "source": [
    "# 사용자 입출력"
   ]
  },
  {
   "cell_type": "markdown",
   "id": "c360d5e2",
   "metadata": {
    "ExecuteTime": {
     "end_time": "2023-11-30T02:37:40.185521Z",
     "start_time": "2023-11-30T02:37:40.181430Z"
    }
   },
   "source": [
    "## input 사용하기"
   ]
  },
  {
   "cell_type": "code",
   "execution_count": 103,
   "id": "04e988a1",
   "metadata": {
    "ExecuteTime": {
     "end_time": "2023-11-30T02:37:55.532041Z",
     "start_time": "2023-11-30T02:37:45.947379Z"
    }
   },
   "outputs": [
    {
     "name": "stdout",
     "output_type": "stream",
     "text": [
      "Life is too short, you need python\n"
     ]
    }
   ],
   "source": [
    "a = input()"
   ]
  },
  {
   "cell_type": "code",
   "execution_count": 104,
   "id": "b3a5f329",
   "metadata": {
    "ExecuteTime": {
     "end_time": "2023-11-30T02:37:58.680801Z",
     "start_time": "2023-11-30T02:37:58.675029Z"
    }
   },
   "outputs": [
    {
     "data": {
      "text/plain": [
       "'Life is too short, you need python'"
      ]
     },
     "execution_count": 104,
     "metadata": {},
     "output_type": "execute_result"
    }
   ],
   "source": [
    "a"
   ]
  },
  {
   "cell_type": "markdown",
   "id": "4ae04cc5",
   "metadata": {},
   "source": [
    "## 프롬프트를 띄워 사용자 입력받기"
   ]
  },
  {
   "cell_type": "code",
   "execution_count": 105,
   "id": "47df98f1",
   "metadata": {
    "ExecuteTime": {
     "end_time": "2023-11-30T02:38:26.773309Z",
     "start_time": "2023-11-30T02:38:25.203433Z"
    }
   },
   "outputs": [
    {
     "name": "stdout",
     "output_type": "stream",
     "text": [
      "안내_문구123\n"
     ]
    },
    {
     "data": {
      "text/plain": [
       "'123'"
      ]
     },
     "execution_count": 105,
     "metadata": {},
     "output_type": "execute_result"
    }
   ],
   "source": [
    "input('안내_문구')"
   ]
  },
  {
   "cell_type": "code",
   "execution_count": 106,
   "id": "3b16b11c",
   "metadata": {
    "ExecuteTime": {
     "end_time": "2023-11-30T02:38:46.843122Z",
     "start_time": "2023-11-30T02:38:45.299072Z"
    }
   },
   "outputs": [
    {
     "name": "stdout",
     "output_type": "stream",
     "text": [
      "숫자를 입력하세요 : 123\n"
     ]
    }
   ],
   "source": [
    "number = input('숫자를 입력하세요 : ')"
   ]
  },
  {
   "cell_type": "code",
   "execution_count": 107,
   "id": "b8aecbd7",
   "metadata": {
    "ExecuteTime": {
     "end_time": "2023-11-30T02:38:51.506957Z",
     "start_time": "2023-11-30T02:38:51.500270Z"
    }
   },
   "outputs": [
    {
     "data": {
      "text/plain": [
       "'123'"
      ]
     },
     "execution_count": 107,
     "metadata": {},
     "output_type": "execute_result"
    }
   ],
   "source": [
    "number"
   ]
  },
  {
   "cell_type": "code",
   "execution_count": 108,
   "id": "91911f5e",
   "metadata": {
    "ExecuteTime": {
     "end_time": "2023-11-30T02:39:04.017954Z",
     "start_time": "2023-11-30T02:39:04.012122Z"
    }
   },
   "outputs": [
    {
     "name": "stdout",
     "output_type": "stream",
     "text": [
      "123\n"
     ]
    }
   ],
   "source": [
    "print(number)"
   ]
  },
  {
   "cell_type": "code",
   "execution_count": 109,
   "id": "96b4b683",
   "metadata": {
    "ExecuteTime": {
     "end_time": "2023-11-30T02:39:09.746212Z",
     "start_time": "2023-11-30T02:39:09.739561Z"
    }
   },
   "outputs": [
    {
     "data": {
      "text/plain": [
       "str"
      ]
     },
     "execution_count": 109,
     "metadata": {},
     "output_type": "execute_result"
    }
   ],
   "source": [
    "type(number)"
   ]
  },
  {
   "cell_type": "markdown",
   "id": "153806d7",
   "metadata": {},
   "source": [
    "## 큰따옴표로 둘러싸인 문자열은 + 연산과 동일하다"
   ]
  },
  {
   "cell_type": "code",
   "execution_count": 110,
   "id": "0bee6fea",
   "metadata": {
    "ExecuteTime": {
     "end_time": "2023-11-30T02:39:58.024459Z",
     "start_time": "2023-11-30T02:39:58.019916Z"
    }
   },
   "outputs": [
    {
     "name": "stdout",
     "output_type": "stream",
     "text": [
      "lifeistoo short\n"
     ]
    }
   ],
   "source": [
    "print(\"life\" \"is\" \"too short\") # 1번\n"
   ]
  },
  {
   "cell_type": "code",
   "execution_count": 111,
   "id": "e71c7a60",
   "metadata": {
    "ExecuteTime": {
     "end_time": "2023-11-30T02:40:16.994683Z",
     "start_time": "2023-11-30T02:40:16.990256Z"
    }
   },
   "outputs": [
    {
     "name": "stdout",
     "output_type": "stream",
     "text": [
      "lifeistoo short\n"
     ]
    }
   ],
   "source": [
    "print(\"life\"+\"is\"+\"too short\") #2번"
   ]
  },
  {
   "cell_type": "code",
   "execution_count": 112,
   "id": "8d99a540",
   "metadata": {
    "ExecuteTime": {
     "end_time": "2023-11-30T02:40:32.529331Z",
     "start_time": "2023-11-30T02:40:32.524164Z"
    }
   },
   "outputs": [
    {
     "name": "stdout",
     "output_type": "stream",
     "text": [
      "lifeistoo short\n"
     ]
    }
   ],
   "source": [
    "print('life'+'is'+'too short')"
   ]
  },
  {
   "cell_type": "markdown",
   "id": "0c234507",
   "metadata": {},
   "source": [
    "## 문자열 띄어쓰기는 쉼표로 한다"
   ]
  },
  {
   "cell_type": "code",
   "execution_count": 113,
   "id": "3568a2ac",
   "metadata": {
    "ExecuteTime": {
     "end_time": "2023-11-30T02:40:45.192604Z",
     "start_time": "2023-11-30T02:40:45.187244Z"
    }
   },
   "outputs": [
    {
     "name": "stdout",
     "output_type": "stream",
     "text": [
      "life is too short)\n"
     ]
    }
   ],
   "source": [
    "print('life', 'is', 'too short)')"
   ]
  },
  {
   "cell_type": "markdown",
   "id": "0948e7b5",
   "metadata": {
    "ExecuteTime": {
     "end_time": "2023-11-30T02:41:10.769691Z",
     "start_time": "2023-11-30T02:41:10.766571Z"
    }
   },
   "source": [
    "## 한 줄에 결괏값 출력하기"
   ]
  },
  {
   "cell_type": "code",
   "execution_count": 115,
   "id": "7cb93fed",
   "metadata": {
    "ExecuteTime": {
     "end_time": "2023-11-30T02:41:25.089595Z",
     "start_time": "2023-11-30T02:41:25.082790Z"
    }
   },
   "outputs": [
    {
     "name": "stdout",
     "output_type": "stream",
     "text": [
      "0 1 2 3 4 5 6 7 8 9 "
     ]
    }
   ],
   "source": [
    "for i in range(10) :\n",
    "    print(i, end = ' ')"
   ]
  },
  {
   "cell_type": "code",
   "execution_count": 116,
   "id": "bcadc7b8",
   "metadata": {
    "ExecuteTime": {
     "end_time": "2023-11-30T02:41:35.177190Z",
     "start_time": "2023-11-30T02:41:35.171690Z"
    }
   },
   "outputs": [
    {
     "name": "stdout",
     "output_type": "stream",
     "text": [
      "0\n",
      "1\n",
      "2\n",
      "3\n",
      "4\n",
      "5\n",
      "6\n",
      "7\n",
      "8\n",
      "9\n"
     ]
    }
   ],
   "source": [
    "for i in range(10) :\n",
    "    print(i)"
   ]
  },
  {
   "cell_type": "code",
   "execution_count": null,
   "id": "7ffbef47",
   "metadata": {},
   "outputs": [],
   "source": []
  }
 ],
 "metadata": {
  "kernelspec": {
   "display_name": "Python 3 (ipykernel)",
   "language": "python",
   "name": "python3"
  },
  "language_info": {
   "codemirror_mode": {
    "name": "ipython",
    "version": 3
   },
   "file_extension": ".py",
   "mimetype": "text/x-python",
   "name": "python",
   "nbconvert_exporter": "python",
   "pygments_lexer": "ipython3",
   "version": "3.11.5"
  },
  "toc": {
   "base_numbering": 1,
   "nav_menu": {},
   "number_sections": true,
   "sideBar": true,
   "skip_h1_title": false,
   "title_cell": "Table of Contents",
   "title_sidebar": "Contents",
   "toc_cell": false,
   "toc_position": {},
   "toc_section_display": true,
   "toc_window_display": false
  }
 },
 "nbformat": 4,
 "nbformat_minor": 5
}
