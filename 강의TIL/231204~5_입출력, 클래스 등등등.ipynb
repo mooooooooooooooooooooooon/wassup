{
 "cells": [
  {
   "cell_type": "markdown",
   "id": "ea9d1eb1",
   "metadata": {},
   "source": [
    "# 파일 읽고 쓰기"
   ]
  },
  {
   "cell_type": "markdown",
   "id": "e270d31f",
   "metadata": {},
   "source": [
    "## 파일 생성하기"
   ]
  },
  {
   "cell_type": "code",
   "execution_count": 2,
   "id": "e31b029b",
   "metadata": {
    "ExecuteTime": {
     "end_time": "2023-12-04T04:45:57.274239Z",
     "start_time": "2023-12-04T04:45:57.267250Z"
    }
   },
   "outputs": [
    {
     "data": {
      "text/plain": [
       "<function TextIOWrapper.close()>"
      ]
     },
     "execution_count": 2,
     "metadata": {},
     "output_type": "execute_result"
    }
   ],
   "source": [
    "f = open('새파일.txt', 'w') # r: 읽기모드, w : 쓰기모드, a : 추가모드\n",
    "f.close"
   ]
  },
  {
   "cell_type": "code",
   "execution_count": 4,
   "id": "3202fde8",
   "metadata": {
    "ExecuteTime": {
     "end_time": "2023-12-04T04:46:57.144457Z",
     "start_time": "2023-12-04T04:46:57.139564Z"
    }
   },
   "outputs": [],
   "source": [
    "f = open('C:\\workspace\\python\\wassup\\새파일2.txt', 'w')\n",
    "f.close()"
   ]
  },
  {
   "cell_type": "markdown",
   "id": "1c503b82",
   "metadata": {},
   "source": [
    "## 파일을 쓰기 모드로 열어 내용 쓰기"
   ]
  },
  {
   "cell_type": "code",
   "execution_count": 28,
   "id": "bb1fdb7e",
   "metadata": {
    "ExecuteTime": {
     "end_time": "2023-12-04T05:08:18.096162Z",
     "start_time": "2023-12-04T05:08:18.089569Z"
    }
   },
   "outputs": [],
   "source": [
    "f = open('C:\\workspace\\python\\wassup\\새파일3.txt', 'w')\n",
    "\n",
    "for i in range(1, 11) :\n",
    "    data = '%d번째 줄입니다.\\n' % i\n",
    "    f.write(data)\n",
    "f.close()"
   ]
  },
  {
   "cell_type": "markdown",
   "id": "156f295a",
   "metadata": {
    "ExecuteTime": {
     "end_time": "2023-12-04T05:01:53.632245Z",
     "start_time": "2023-12-04T05:01:53.628328Z"
    }
   },
   "source": [
    "## 파일을 읽는 여러 가지 방법"
   ]
  },
  {
   "cell_type": "code",
   "execution_count": 15,
   "id": "73a8d7fb",
   "metadata": {
    "ExecuteTime": {
     "end_time": "2023-12-04T05:03:46.551860Z",
     "start_time": "2023-12-04T05:03:46.546274Z"
    }
   },
   "outputs": [
    {
     "name": "stdout",
     "output_type": "stream",
     "text": [
      "1번째 줄입니다.\n",
      "\n"
     ]
    }
   ],
   "source": [
    "f = open('C:\\workspace\\python\\wassup\\새파일3.txt', 'r')\n",
    "line = f.readline()\n",
    "print(line)\n",
    "f.close()"
   ]
  },
  {
   "cell_type": "code",
   "execution_count": 23,
   "id": "07363394",
   "metadata": {
    "ExecuteTime": {
     "end_time": "2023-12-04T05:06:15.769711Z",
     "start_time": "2023-12-04T05:06:15.761216Z"
    }
   },
   "outputs": [
    {
     "name": "stdout",
     "output_type": "stream",
     "text": [
      "1번째 줄입니다.\n",
      "\n",
      "2번째 줄입니다.\n",
      "\n",
      "3번째 줄입니다.\n",
      "\n",
      "4번째 줄입니다.\n",
      "\n",
      "5번째 줄입니다.\n",
      "\n",
      "6번째 줄입니다.\n",
      "\n",
      "7번째 줄입니다.\n",
      "\n",
      "8번째 줄입니다.\n",
      "\n",
      "9번째 줄입니다.\n",
      "\n",
      "10번째 줄입니다.\n",
      "\n"
     ]
    }
   ],
   "source": [
    "f = open('C:\\workspace\\python\\wassup\\새파일3.txt', 'r')\n",
    "while True :\n",
    "    line = f.readline()\n",
    "    if not line : break\n",
    "    print(line)\n",
    "f.close()"
   ]
  },
  {
   "cell_type": "code",
   "execution_count": 24,
   "id": "61797629",
   "metadata": {
    "ExecuteTime": {
     "end_time": "2023-12-04T05:06:45.106637Z",
     "start_time": "2023-12-04T05:06:32.705968Z"
    }
   },
   "outputs": [
    {
     "name": "stdout",
     "output_type": "stream",
     "text": [
      "1\n",
      "1\n",
      "4\n",
      "4\n",
      "\n"
     ]
    }
   ],
   "source": [
    "while True :\n",
    "    data = input()\n",
    "    if not data : break\n",
    "    print(data)"
   ]
  },
  {
   "cell_type": "markdown",
   "id": "22c8d2a0",
   "metadata": {},
   "source": [
    "## readlines 함수 사용하기"
   ]
  },
  {
   "cell_type": "code",
   "execution_count": 25,
   "id": "e3aff059",
   "metadata": {
    "ExecuteTime": {
     "end_time": "2023-12-04T05:07:27.024194Z",
     "start_time": "2023-12-04T05:07:27.017596Z"
    }
   },
   "outputs": [
    {
     "name": "stdout",
     "output_type": "stream",
     "text": [
      "1번째 줄입니다.\n",
      "\n",
      "2번째 줄입니다.\n",
      "\n",
      "3번째 줄입니다.\n",
      "\n",
      "4번째 줄입니다.\n",
      "\n",
      "5번째 줄입니다.\n",
      "\n",
      "6번째 줄입니다.\n",
      "\n",
      "7번째 줄입니다.\n",
      "\n",
      "8번째 줄입니다.\n",
      "\n",
      "9번째 줄입니다.\n",
      "\n",
      "10번째 줄입니다.\n",
      "\n"
     ]
    }
   ],
   "source": [
    "f = open('C:\\workspace\\python\\wassup\\새파일3.txt', 'r')\n",
    "lines = f.readlines()\n",
    "for line in lines :\n",
    "    print(line)\n",
    "f.close()"
   ]
  },
  {
   "cell_type": "markdown",
   "id": "b9ace758",
   "metadata": {},
   "source": [
    "## 줄 바꿈(\\n) 문자 제거하기"
   ]
  },
  {
   "cell_type": "code",
   "execution_count": 29,
   "id": "bba598ab",
   "metadata": {
    "ExecuteTime": {
     "end_time": "2023-12-04T05:08:20.768901Z",
     "start_time": "2023-12-04T05:08:20.761160Z"
    }
   },
   "outputs": [
    {
     "name": "stdout",
     "output_type": "stream",
     "text": [
      "1번째 줄입니다.\n",
      "2번째 줄입니다.\n",
      "3번째 줄입니다.\n",
      "4번째 줄입니다.\n",
      "5번째 줄입니다.\n",
      "6번째 줄입니다.\n",
      "7번째 줄입니다.\n",
      "8번째 줄입니다.\n",
      "9번째 줄입니다.\n",
      "10번째 줄입니다.\n"
     ]
    }
   ],
   "source": [
    "f = open('C:\\workspace\\python\\wassup\\새파일3.txt', 'r')\n",
    "lines = f.readlines()\n",
    "for line in lines :\n",
    "    line = line.strip()\n",
    "    print(line)\n",
    "f.close()"
   ]
  },
  {
   "cell_type": "code",
   "execution_count": 30,
   "id": "51ef5005",
   "metadata": {
    "ExecuteTime": {
     "end_time": "2023-12-04T05:08:48.606963Z",
     "start_time": "2023-12-04T05:08:48.600887Z"
    }
   },
   "outputs": [
    {
     "name": "stdout",
     "output_type": "stream",
     "text": [
      "1번째 줄입니다.\n",
      "2번째 줄입니다.\n",
      "3번째 줄입니다.\n",
      "4번째 줄입니다.\n",
      "5번째 줄입니다.\n",
      "6번째 줄입니다.\n",
      "7번째 줄입니다.\n",
      "8번째 줄입니다.\n",
      "9번째 줄입니다.\n",
      "10번째 줄입니다.\n",
      "\n"
     ]
    }
   ],
   "source": [
    "f = open('C:\\workspace\\python\\wassup\\새파일3.txt', 'r')\n",
    "data = f.read()\n",
    "print(data)\n",
    "f.close()"
   ]
  },
  {
   "cell_type": "code",
   "execution_count": 31,
   "id": "27d8ada4",
   "metadata": {
    "ExecuteTime": {
     "end_time": "2023-12-04T05:08:52.927298Z",
     "start_time": "2023-12-04T05:08:52.921156Z"
    }
   },
   "outputs": [
    {
     "data": {
      "text/plain": [
       "str"
      ]
     },
     "execution_count": 31,
     "metadata": {},
     "output_type": "execute_result"
    }
   ],
   "source": [
    "type(data)"
   ]
  },
  {
   "cell_type": "code",
   "execution_count": 32,
   "id": "4747006a",
   "metadata": {
    "ExecuteTime": {
     "end_time": "2023-12-04T05:09:08.071214Z",
     "start_time": "2023-12-04T05:09:08.064865Z"
    }
   },
   "outputs": [
    {
     "name": "stdout",
     "output_type": "stream",
     "text": [
      "1번째 줄입니다.\n",
      "\n",
      "2번째 줄입니다.\n",
      "\n",
      "3번째 줄입니다.\n",
      "\n",
      "4번째 줄입니다.\n",
      "\n",
      "5번째 줄입니다.\n",
      "\n",
      "6번째 줄입니다.\n",
      "\n",
      "7번째 줄입니다.\n",
      "\n",
      "8번째 줄입니다.\n",
      "\n",
      "9번째 줄입니다.\n",
      "\n",
      "10번째 줄입니다.\n",
      "\n"
     ]
    }
   ],
   "source": [
    "f = open('C:\\workspace\\python\\wassup\\새파일3.txt', 'r')\n",
    "for line in f :\n",
    "    print(line)\n",
    "f.close()"
   ]
  },
  {
   "cell_type": "markdown",
   "id": "70727e86",
   "metadata": {},
   "source": [
    "## 파일에 새로운 내용 추가하기"
   ]
  },
  {
   "cell_type": "code",
   "execution_count": 35,
   "id": "70b8a244",
   "metadata": {
    "ExecuteTime": {
     "end_time": "2023-12-04T05:14:54.031544Z",
     "start_time": "2023-12-04T05:14:54.024421Z"
    }
   },
   "outputs": [],
   "source": [
    "f = open('C:\\workspace\\python\\wassup\\새파일3.txt', 'a')\n",
    "for i in range(11, 20) : \n",
    "    data = '%d번째 줄입니다.\\n' % i\n",
    "    f.write(data)\n",
    "f.close()"
   ]
  },
  {
   "cell_type": "markdown",
   "id": "6154c30c",
   "metadata": {},
   "source": [
    "## with 문과 함께 사용하기"
   ]
  },
  {
   "cell_type": "code",
   "execution_count": 36,
   "id": "2164fcbd",
   "metadata": {
    "ExecuteTime": {
     "end_time": "2023-12-04T05:16:42.237205Z",
     "start_time": "2023-12-04T05:16:42.232680Z"
    }
   },
   "outputs": [],
   "source": [
    "with open('foo.txt', 'w') as f:\n",
    "    f.write('Life is too short, you need python')\n"
   ]
  },
  {
   "cell_type": "markdown",
   "id": "a100a7cb",
   "metadata": {},
   "source": [
    "# 클래스"
   ]
  },
  {
   "cell_type": "code",
   "execution_count": 37,
   "id": "7420c8ee",
   "metadata": {
    "ExecuteTime": {
     "end_time": "2023-12-04T05:47:08.913249Z",
     "start_time": "2023-12-04T05:47:08.906597Z"
    }
   },
   "outputs": [
    {
     "name": "stdout",
     "output_type": "stream",
     "text": [
      "3\n",
      "7\n"
     ]
    }
   ],
   "source": [
    "result = 0\n",
    "\n",
    "def add(num) :\n",
    "    global result\n",
    "    result += num\n",
    "    return result\n",
    "\n",
    "print(add(3))\n",
    "print(add(4))"
   ]
  },
  {
   "cell_type": "code",
   "execution_count": 38,
   "id": "0f20cc42",
   "metadata": {
    "ExecuteTime": {
     "end_time": "2023-12-04T06:01:26.038127Z",
     "start_time": "2023-12-04T06:01:26.031139Z"
    }
   },
   "outputs": [
    {
     "name": "stdout",
     "output_type": "stream",
     "text": [
      "3\n",
      "7\n",
      "3\n",
      "10\n"
     ]
    }
   ],
   "source": [
    "result1 = 0\n",
    "result2 = 0\n",
    "\n",
    "def add1(num) :\n",
    "    global result1\n",
    "    result1 += num\n",
    "    return result1\n",
    "\n",
    "def add2(num) :\n",
    "    global result2\n",
    "    result2 += num\n",
    "    return result2\n",
    "\n",
    "print(add1(3))\n",
    "print(add1(4))\n",
    "print(add2(3))\n",
    "print(add2(7))"
   ]
  },
  {
   "cell_type": "code",
   "execution_count": 39,
   "id": "cce3153d",
   "metadata": {
    "ExecuteTime": {
     "end_time": "2023-12-04T06:04:08.189701Z",
     "start_time": "2023-12-04T06:04:08.182577Z"
    }
   },
   "outputs": [
    {
     "name": "stdout",
     "output_type": "stream",
     "text": [
      "3\n",
      "7\n",
      "3\n",
      "10\n"
     ]
    }
   ],
   "source": [
    "class Calculator : # 만드시 첫문자열은 대문자로\n",
    "    def __init__(self) :\n",
    "        self.result = 0\n",
    "        \n",
    "    def add(self, num) :\n",
    "        self.result += num\n",
    "        return self.result\n",
    "    \n",
    "Cal1 = calculator()\n",
    "Cal2 = calculator()\n",
    "\n",
    "print(Cal1.add(3))\n",
    "print(Cal1.add(4))\n",
    "print(Cal2.add(3))\n",
    "print(Cal2.add(7))"
   ]
  },
  {
   "cell_type": "code",
   "execution_count": 42,
   "id": "e9b4bb96",
   "metadata": {
    "ExecuteTime": {
     "end_time": "2023-12-04T06:12:10.121231Z",
     "start_time": "2023-12-04T06:12:10.117547Z"
    }
   },
   "outputs": [],
   "source": [
    "class Cookie :\n",
    "    pass"
   ]
  },
  {
   "cell_type": "code",
   "execution_count": 43,
   "id": "dffdc69a",
   "metadata": {
    "ExecuteTime": {
     "end_time": "2023-12-04T06:12:10.784019Z",
     "start_time": "2023-12-04T06:12:10.779955Z"
    }
   },
   "outputs": [],
   "source": [
    "a = Cookie()\n",
    "b = Cookie()"
   ]
  },
  {
   "cell_type": "markdown",
   "id": "b33d1a0c",
   "metadata": {},
   "source": [
    "객체와 인스턴스의 차이\n",
    "\n",
    "클래스로 만든 객체를 ‘인스턴스’라고도 한다. 그렇다면 객체와 인스턴스의 차이는 무엇일까? 이렇게 생각해 보자. a = Cookie()로 만든 a는 객체이다. 그리고 a 객체는 Cookie의 인스턴스이다. 즉, 인스턴스라는 말은 특정 객체(a)가 어떤 클래스(Cookie)의 객체인지를 관계 위주로 설명할 때 사용한다. ‘a는 인스턴스’보다 ‘a는 객체’라는 표현이 어울리며 ‘a는 Cookie의 객체’보다 ‘a는 Cookie의 인스턴스’라는 표현이 훨씬 잘 어울린다."
   ]
  },
  {
   "cell_type": "code",
   "execution_count": 44,
   "id": "2e26fc90",
   "metadata": {
    "ExecuteTime": {
     "end_time": "2023-12-04T06:15:06.472849Z",
     "start_time": "2023-12-04T06:15:06.468925Z"
    }
   },
   "outputs": [],
   "source": [
    "class FourCal :\n",
    "    pass"
   ]
  },
  {
   "cell_type": "code",
   "execution_count": 45,
   "id": "c09207f3",
   "metadata": {
    "ExecuteTime": {
     "end_time": "2023-12-04T06:15:16.571133Z",
     "start_time": "2023-12-04T06:15:16.565365Z"
    }
   },
   "outputs": [
    {
     "data": {
      "text/plain": [
       "__main__.FourCal"
      ]
     },
     "execution_count": 45,
     "metadata": {},
     "output_type": "execute_result"
    }
   ],
   "source": [
    "a = FourCal()\n",
    "type(a)"
   ]
  },
  {
   "cell_type": "code",
   "execution_count": 47,
   "id": "efe36067",
   "metadata": {
    "ExecuteTime": {
     "end_time": "2023-12-04T06:18:04.003359Z",
     "start_time": "2023-12-04T06:18:03.998475Z"
    }
   },
   "outputs": [],
   "source": [
    "class FourCal :\n",
    "    def setdata(self, first, second) :  # 클래스 안에 구현된 함수는 메서트(method)라고 부른다\n",
    "        self.first = first\n",
    "        self.second = second"
   ]
  },
  {
   "cell_type": "code",
   "execution_count": 48,
   "id": "8d5e7c4f",
   "metadata": {
    "ExecuteTime": {
     "end_time": "2023-12-04T06:19:45.408998Z",
     "start_time": "2023-12-04T06:19:45.404376Z"
    }
   },
   "outputs": [],
   "source": [
    "a = FourCal()\n",
    "a.setdata(4, 2)"
   ]
  },
  {
   "cell_type": "code",
   "execution_count": 55,
   "id": "cac68b50",
   "metadata": {
    "ExecuteTime": {
     "end_time": "2023-12-04T06:26:11.552613Z",
     "start_time": "2023-12-04T06:26:11.547467Z"
    }
   },
   "outputs": [],
   "source": [
    "def setdata(self, first, second) :\n",
    "    self.first = first\n",
    "    self.second = second"
   ]
  },
  {
   "cell_type": "code",
   "execution_count": 56,
   "id": "991f6f82",
   "metadata": {
    "ExecuteTime": {
     "end_time": "2023-12-04T06:26:12.120968Z",
     "start_time": "2023-12-04T06:26:12.115392Z"
    }
   },
   "outputs": [],
   "source": [
    "a.setdata(4, 2)\n",
    "\n",
    "#self.first = 4\n",
    "#self.second = 2\n",
    "\n",
    "# a.first = 4\n",
    "# a.second = 2"
   ]
  },
  {
   "cell_type": "code",
   "execution_count": 57,
   "id": "83a41276",
   "metadata": {
    "ExecuteTime": {
     "end_time": "2023-12-04T06:26:12.578293Z",
     "start_time": "2023-12-04T06:26:12.572133Z"
    }
   },
   "outputs": [
    {
     "data": {
      "text/plain": [
       "4"
      ]
     },
     "execution_count": 57,
     "metadata": {},
     "output_type": "execute_result"
    }
   ],
   "source": [
    "a.first"
   ]
  },
  {
   "cell_type": "code",
   "execution_count": 58,
   "id": "21f6929e",
   "metadata": {
    "ExecuteTime": {
     "end_time": "2023-12-04T06:26:12.896540Z",
     "start_time": "2023-12-04T06:26:12.890842Z"
    }
   },
   "outputs": [
    {
     "data": {
      "text/plain": [
       "2"
      ]
     },
     "execution_count": 58,
     "metadata": {},
     "output_type": "execute_result"
    }
   ],
   "source": [
    "a.second"
   ]
  },
  {
   "cell_type": "code",
   "execution_count": 59,
   "id": "b0e77381",
   "metadata": {
    "ExecuteTime": {
     "end_time": "2023-12-04T06:26:30.465172Z",
     "start_time": "2023-12-04T06:26:30.460776Z"
    }
   },
   "outputs": [],
   "source": [
    "a = FourCal()\n",
    "b = FourCal()"
   ]
  },
  {
   "cell_type": "code",
   "execution_count": 60,
   "id": "482ad8ca",
   "metadata": {
    "ExecuteTime": {
     "end_time": "2023-12-04T06:26:36.585919Z",
     "start_time": "2023-12-04T06:26:36.579953Z"
    }
   },
   "outputs": [
    {
     "data": {
      "text/plain": [
       "4"
      ]
     },
     "execution_count": 60,
     "metadata": {},
     "output_type": "execute_result"
    }
   ],
   "source": [
    "a.setdata(4, 2)\n",
    "a.first"
   ]
  },
  {
   "cell_type": "code",
   "execution_count": 61,
   "id": "0a3d7cc4",
   "metadata": {
    "ExecuteTime": {
     "end_time": "2023-12-04T06:26:44.090126Z",
     "start_time": "2023-12-04T06:26:44.083265Z"
    }
   },
   "outputs": [
    {
     "data": {
      "text/plain": [
       "3"
      ]
     },
     "execution_count": 61,
     "metadata": {},
     "output_type": "execute_result"
    }
   ],
   "source": [
    "b.setdata(3, 7)\n",
    "b.first"
   ]
  },
  {
   "cell_type": "code",
   "execution_count": 62,
   "id": "27b62386",
   "metadata": {
    "ExecuteTime": {
     "end_time": "2023-12-04T06:26:48.946265Z",
     "start_time": "2023-12-04T06:26:48.939964Z"
    }
   },
   "outputs": [
    {
     "data": {
      "text/plain": [
       "4"
      ]
     },
     "execution_count": 62,
     "metadata": {},
     "output_type": "execute_result"
    }
   ],
   "source": [
    "a.first"
   ]
  },
  {
   "cell_type": "code",
   "execution_count": 64,
   "id": "73667b23",
   "metadata": {
    "ExecuteTime": {
     "end_time": "2023-12-04T06:27:22.057616Z",
     "start_time": "2023-12-04T06:27:22.052610Z"
    }
   },
   "outputs": [],
   "source": [
    "class FourCal :\n",
    "    def setdata(self, first, second) :\n",
    "        self.first = first\n",
    "        self.second = second"
   ]
  },
  {
   "cell_type": "code",
   "execution_count": 66,
   "id": "3aefb903",
   "metadata": {
    "ExecuteTime": {
     "end_time": "2023-12-04T06:31:57.217342Z",
     "start_time": "2023-12-04T06:31:57.211697Z"
    }
   },
   "outputs": [],
   "source": [
    "class FourCal :\n",
    "    def setdata(self, first, second) :\n",
    "        self.first = first\n",
    "        self.second = second\n",
    "    def add(self) :\n",
    "        result = self.first + self.second\n",
    "        return result"
   ]
  },
  {
   "cell_type": "code",
   "execution_count": 67,
   "id": "bfab5407",
   "metadata": {
    "ExecuteTime": {
     "end_time": "2023-12-04T06:32:10.290417Z",
     "start_time": "2023-12-04T06:32:10.283846Z"
    }
   },
   "outputs": [
    {
     "data": {
      "text/plain": [
       "6"
      ]
     },
     "execution_count": 67,
     "metadata": {},
     "output_type": "execute_result"
    }
   ],
   "source": [
    "a = FourCal()\n",
    "a.setdata(4, 2)\n",
    "a.add()"
   ]
  },
  {
   "cell_type": "code",
   "execution_count": 1,
   "id": "5a005d3c",
   "metadata": {
    "ExecuteTime": {
     "end_time": "2023-12-05T04:17:31.414577Z",
     "start_time": "2023-12-05T04:17:31.407149Z"
    }
   },
   "outputs": [],
   "source": [
    "class FourCal :\n",
    "    def __init__(self, first, second) :\n",
    "        self.first = first\n",
    "        self.second = second\n",
    "    def setdata(self, first, second) :\n",
    "        self.first = first\n",
    "        self.second = second\n",
    "    def add(self) :\n",
    "        result = self.first + self.second\n",
    "        return result\n",
    "    def sub(self) :\n",
    "        result = self.first - self.second\n",
    "        return result\n",
    "    def mul(self) :\n",
    "        result = self.first * self.second\n",
    "        return result\n",
    "    def div(self) :\n",
    "        result = self.first / self.second\n",
    "        return result\n",
    "    "
   ]
  },
  {
   "cell_type": "code",
   "execution_count": 73,
   "id": "f50ffd39",
   "metadata": {
    "ExecuteTime": {
     "end_time": "2023-12-04T06:43:03.182784Z",
     "start_time": "2023-12-04T06:43:03.178405Z"
    }
   },
   "outputs": [],
   "source": [
    "a = FourCal(4, 2)"
   ]
  },
  {
   "cell_type": "code",
   "execution_count": 74,
   "id": "a4003c3c",
   "metadata": {
    "ExecuteTime": {
     "end_time": "2023-12-04T06:43:05.113686Z",
     "start_time": "2023-12-04T06:43:05.107556Z"
    }
   },
   "outputs": [
    {
     "data": {
      "text/plain": [
       "<__main__.FourCal at 0x2961b6f4450>"
      ]
     },
     "execution_count": 74,
     "metadata": {},
     "output_type": "execute_result"
    }
   ],
   "source": [
    "a"
   ]
  },
  {
   "cell_type": "code",
   "execution_count": 75,
   "id": "c4f353d5",
   "metadata": {
    "ExecuteTime": {
     "end_time": "2023-12-04T06:45:30.632429Z",
     "start_time": "2023-12-04T06:45:30.627549Z"
    }
   },
   "outputs": [
    {
     "data": {
      "text/plain": [
       "6"
      ]
     },
     "execution_count": 75,
     "metadata": {},
     "output_type": "execute_result"
    }
   ],
   "source": [
    "a.add()"
   ]
  },
  {
   "cell_type": "code",
   "execution_count": 76,
   "id": "292dadb6",
   "metadata": {
    "ExecuteTime": {
     "end_time": "2023-12-04T06:45:32.937080Z",
     "start_time": "2023-12-04T06:45:32.930479Z"
    }
   },
   "outputs": [
    {
     "data": {
      "text/plain": [
       "2.0"
      ]
     },
     "execution_count": 76,
     "metadata": {},
     "output_type": "execute_result"
    }
   ],
   "source": [
    "a.div()"
   ]
  },
  {
   "cell_type": "markdown",
   "id": "d3967b61",
   "metadata": {},
   "source": [
    "예제) 은행 예금출금 클래스를 만들어보자\n",
    "input : 계좌번호, 계좌소유자명, 잔액\n",
    "기능1 : 입금\n",
    "기능2 : 출금\n",
    "기능3 : 조회"
   ]
  },
  {
   "cell_type": "code",
   "execution_count": 78,
   "id": "8036e55c",
   "metadata": {
    "ExecuteTime": {
     "end_time": "2023-12-04T06:49:31.346389Z",
     "start_time": "2023-12-04T06:49:31.338396Z"
    }
   },
   "outputs": [],
   "source": [
    "class Bank :\n",
    "    def __init__(self, first, second, third) :\n",
    "        self.first = first\n",
    "        self.second = second\n",
    "        self.third = 0\n",
    "    def setdata(self, first, second) :\n",
    "        self.first = first\n",
    "        self.second = second\n",
    "        self.third = third\n",
    "    def add(self) :\n",
    "        x = input('입금할 금액을 입력하세요.')\n",
    "        result = self.third + x\n",
    "        return result\n",
    "    def sub(self) :\n",
    "        x = input('출금할 금액을 입력하세요.')\n",
    "        result = self.third - x\n",
    "        return result\n",
    "    def check(self) :\n",
    "        result = print(self.first, self.second, self.third)\n",
    "        return result\n",
    "    "
   ]
  },
  {
   "cell_type": "code",
   "execution_count": 80,
   "id": "63d8ea6b",
   "metadata": {
    "ExecuteTime": {
     "end_time": "2023-12-04T06:50:21.631275Z",
     "start_time": "2023-12-04T06:50:21.627302Z"
    }
   },
   "outputs": [],
   "source": [
    "a = Bank(1234, 'moon', 0)"
   ]
  },
  {
   "cell_type": "code",
   "execution_count": 81,
   "id": "56ff7fa9",
   "metadata": {
    "ExecuteTime": {
     "end_time": "2023-12-04T06:50:42.078256Z",
     "start_time": "2023-12-04T06:50:42.058707Z"
    }
   },
   "outputs": [
    {
     "ename": "TypeError",
     "evalue": "Bank.add() takes 1 positional argument but 2 were given",
     "output_type": "error",
     "traceback": [
      "\u001b[1;31m---------------------------------------------------------------------------\u001b[0m",
      "\u001b[1;31mTypeError\u001b[0m                                 Traceback (most recent call last)",
      "Cell \u001b[1;32mIn[81], line 1\u001b[0m\n\u001b[1;32m----> 1\u001b[0m a\u001b[38;5;241m.\u001b[39madd(\u001b[38;5;241m1000\u001b[39m)\n",
      "\u001b[1;31mTypeError\u001b[0m: Bank.add() takes 1 positional argument but 2 were given"
     ]
    }
   ],
   "source": [
    "a.add(1000)"
   ]
  },
  {
   "cell_type": "code",
   "execution_count": 2,
   "id": "bbeda2ba",
   "metadata": {
    "ExecuteTime": {
     "end_time": "2023-12-05T04:18:20.463080Z",
     "start_time": "2023-12-05T04:18:20.459400Z"
    }
   },
   "outputs": [],
   "source": [
    "class MoreFourCal(FourCal) :\n",
    "    pass"
   ]
  },
  {
   "cell_type": "code",
   "execution_count": 3,
   "id": "67ff30a2",
   "metadata": {
    "ExecuteTime": {
     "end_time": "2023-12-05T04:18:37.260095Z",
     "start_time": "2023-12-05T04:18:37.250752Z"
    }
   },
   "outputs": [
    {
     "data": {
      "text/plain": [
       "6"
      ]
     },
     "execution_count": 3,
     "metadata": {},
     "output_type": "execute_result"
    }
   ],
   "source": [
    "a = MoreFourCal(4, 2)\n",
    "a.add()"
   ]
  },
  {
   "cell_type": "code",
   "execution_count": 4,
   "id": "b3d6f459",
   "metadata": {
    "ExecuteTime": {
     "end_time": "2023-12-05T04:18:40.409601Z",
     "start_time": "2023-12-05T04:18:40.403896Z"
    }
   },
   "outputs": [
    {
     "data": {
      "text/plain": [
       "8"
      ]
     },
     "execution_count": 4,
     "metadata": {},
     "output_type": "execute_result"
    }
   ],
   "source": [
    "a.mul()"
   ]
  },
  {
   "cell_type": "code",
   "execution_count": 5,
   "id": "441a9e8c",
   "metadata": {
    "ExecuteTime": {
     "end_time": "2023-12-05T04:18:44.048566Z",
     "start_time": "2023-12-05T04:18:44.043276Z"
    }
   },
   "outputs": [
    {
     "data": {
      "text/plain": [
       "2"
      ]
     },
     "execution_count": 5,
     "metadata": {},
     "output_type": "execute_result"
    }
   ],
   "source": [
    "a.sub()"
   ]
  },
  {
   "cell_type": "code",
   "execution_count": 6,
   "id": "62fcfda0",
   "metadata": {
    "ExecuteTime": {
     "end_time": "2023-12-05T04:18:54.337252Z",
     "start_time": "2023-12-05T04:18:54.330752Z"
    }
   },
   "outputs": [
    {
     "data": {
      "text/plain": [
       "2.0"
      ]
     },
     "execution_count": 6,
     "metadata": {},
     "output_type": "execute_result"
    }
   ],
   "source": [
    "a.div()"
   ]
  },
  {
   "cell_type": "markdown",
   "id": "88165bf2",
   "metadata": {},
   "source": [
    "## 클래스의 상속"
   ]
  },
  {
   "cell_type": "code",
   "execution_count": 7,
   "id": "d580f3e7",
   "metadata": {
    "ExecuteTime": {
     "end_time": "2023-12-05T04:20:55.166927Z",
     "start_time": "2023-12-05T04:20:55.162741Z"
    }
   },
   "outputs": [],
   "source": [
    "class MoreFourCal(FourCal) :\n",
    "    def pow(self) :\n",
    "        result = self.first ** self.second\n",
    "        return result"
   ]
  },
  {
   "cell_type": "code",
   "execution_count": 8,
   "id": "a33e7277",
   "metadata": {
    "ExecuteTime": {
     "end_time": "2023-12-05T04:21:03.258377Z",
     "start_time": "2023-12-05T04:21:03.252510Z"
    }
   },
   "outputs": [
    {
     "data": {
      "text/plain": [
       "16"
      ]
     },
     "execution_count": 8,
     "metadata": {},
     "output_type": "execute_result"
    }
   ],
   "source": [
    "a = MoreFourCal(4, 2)\n",
    "a.pow()"
   ]
  },
  {
   "cell_type": "code",
   "execution_count": 9,
   "id": "c818934b",
   "metadata": {
    "ExecuteTime": {
     "end_time": "2023-12-05T04:23:14.088887Z",
     "start_time": "2023-12-05T04:23:14.082988Z"
    }
   },
   "outputs": [
    {
     "data": {
      "text/plain": [
       "6"
      ]
     },
     "execution_count": 9,
     "metadata": {},
     "output_type": "execute_result"
    }
   ],
   "source": [
    "a.add()"
   ]
  },
  {
   "cell_type": "markdown",
   "id": "6fb95027",
   "metadata": {},
   "source": [
    "## 매서드 오버라이딩"
   ]
  },
  {
   "cell_type": "code",
   "execution_count": 10,
   "id": "2d3324fc",
   "metadata": {
    "ExecuteTime": {
     "end_time": "2023-12-05T04:25:34.370124Z",
     "start_time": "2023-12-05T04:25:33.538329Z"
    }
   },
   "outputs": [
    {
     "ename": "ZeroDivisionError",
     "evalue": "division by zero",
     "output_type": "error",
     "traceback": [
      "\u001b[1;31m---------------------------------------------------------------------------\u001b[0m",
      "\u001b[1;31mZeroDivisionError\u001b[0m                         Traceback (most recent call last)",
      "Cell \u001b[1;32mIn[10], line 2\u001b[0m\n\u001b[0;32m      1\u001b[0m a \u001b[38;5;241m=\u001b[39m FourCal(\u001b[38;5;241m4\u001b[39m, \u001b[38;5;241m0\u001b[39m)\n\u001b[1;32m----> 2\u001b[0m a\u001b[38;5;241m.\u001b[39mdiv()\n",
      "Cell \u001b[1;32mIn[1], line 18\u001b[0m, in \u001b[0;36mFourCal.div\u001b[1;34m(self)\u001b[0m\n\u001b[0;32m     17\u001b[0m \u001b[38;5;28;01mdef\u001b[39;00m \u001b[38;5;21mdiv\u001b[39m(\u001b[38;5;28mself\u001b[39m) :\n\u001b[1;32m---> 18\u001b[0m     result \u001b[38;5;241m=\u001b[39m \u001b[38;5;28mself\u001b[39m\u001b[38;5;241m.\u001b[39mfirst \u001b[38;5;241m/\u001b[39m \u001b[38;5;28mself\u001b[39m\u001b[38;5;241m.\u001b[39msecond\n\u001b[0;32m     19\u001b[0m     \u001b[38;5;28;01mreturn\u001b[39;00m result\n",
      "\u001b[1;31mZeroDivisionError\u001b[0m: division by zero"
     ]
    }
   ],
   "source": [
    "a = FourCal(4, 0)\n",
    "a.div()"
   ]
  },
  {
   "cell_type": "code",
   "execution_count": 14,
   "id": "5d086671",
   "metadata": {
    "ExecuteTime": {
     "end_time": "2023-12-05T04:34:59.462868Z",
     "start_time": "2023-12-05T04:34:59.457907Z"
    }
   },
   "outputs": [],
   "source": [
    "class SafeFourCal(FourCal) :\n",
    "    def div(self) :\n",
    "        if self.second == 0 :\n",
    "            return 0\n",
    "        else :\n",
    "            return self.first / self.second"
   ]
  },
  {
   "cell_type": "code",
   "execution_count": 15,
   "id": "00d46f97",
   "metadata": {
    "ExecuteTime": {
     "end_time": "2023-12-05T04:35:13.815537Z",
     "start_time": "2023-12-05T04:35:13.809980Z"
    }
   },
   "outputs": [
    {
     "data": {
      "text/plain": [
       "0"
      ]
     },
     "execution_count": 15,
     "metadata": {},
     "output_type": "execute_result"
    }
   ],
   "source": [
    "a = SafeFourCal(4, 0)\n",
    "a.div()"
   ]
  },
  {
   "cell_type": "markdown",
   "id": "ab97bd41",
   "metadata": {},
   "source": [
    "## 클래스 변수"
   ]
  },
  {
   "cell_type": "code",
   "execution_count": 16,
   "id": "fb9f9a6c",
   "metadata": {
    "ExecuteTime": {
     "end_time": "2023-12-05T04:35:27.718441Z",
     "start_time": "2023-12-05T04:35:27.714139Z"
    }
   },
   "outputs": [],
   "source": [
    "class Family :\n",
    "    lastname = '김'"
   ]
  },
  {
   "cell_type": "code",
   "execution_count": 17,
   "id": "187477dd",
   "metadata": {
    "ExecuteTime": {
     "end_time": "2023-12-05T04:35:35.616298Z",
     "start_time": "2023-12-05T04:35:35.609730Z"
    }
   },
   "outputs": [
    {
     "data": {
      "text/plain": [
       "'김'"
      ]
     },
     "execution_count": 17,
     "metadata": {},
     "output_type": "execute_result"
    }
   ],
   "source": [
    "Family.lastname"
   ]
  },
  {
   "cell_type": "code",
   "execution_count": 18,
   "id": "4cfb794c",
   "metadata": {
    "ExecuteTime": {
     "end_time": "2023-12-05T04:36:13.513639Z",
     "start_time": "2023-12-05T04:36:13.506322Z"
    }
   },
   "outputs": [
    {
     "data": {
      "text/plain": [
       "'김'"
      ]
     },
     "execution_count": 18,
     "metadata": {},
     "output_type": "execute_result"
    }
   ],
   "source": [
    "a = Family()\n",
    "b = Family()\n",
    "a.lastname"
   ]
  },
  {
   "cell_type": "code",
   "execution_count": 19,
   "id": "bdb981bd",
   "metadata": {
    "ExecuteTime": {
     "end_time": "2023-12-05T04:36:16.448885Z",
     "start_time": "2023-12-05T04:36:16.443173Z"
    }
   },
   "outputs": [
    {
     "data": {
      "text/plain": [
       "'김'"
      ]
     },
     "execution_count": 19,
     "metadata": {},
     "output_type": "execute_result"
    }
   ],
   "source": [
    "b.lastname"
   ]
  },
  {
   "cell_type": "code",
   "execution_count": 20,
   "id": "9ecb60c4",
   "metadata": {
    "ExecuteTime": {
     "end_time": "2023-12-05T04:36:27.528876Z",
     "start_time": "2023-12-05T04:36:27.522601Z"
    }
   },
   "outputs": [
    {
     "data": {
      "text/plain": [
       "'박'"
      ]
     },
     "execution_count": 20,
     "metadata": {},
     "output_type": "execute_result"
    }
   ],
   "source": [
    "Family.lastname = '박'\n",
    "a.lastname"
   ]
  },
  {
   "cell_type": "code",
   "execution_count": 21,
   "id": "5a5d4eb2",
   "metadata": {
    "ExecuteTime": {
     "end_time": "2023-12-05T04:36:29.975467Z",
     "start_time": "2023-12-05T04:36:29.970040Z"
    }
   },
   "outputs": [
    {
     "data": {
      "text/plain": [
       "'박'"
      ]
     },
     "execution_count": 21,
     "metadata": {},
     "output_type": "execute_result"
    }
   ],
   "source": [
    "b.lastname"
   ]
  },
  {
   "cell_type": "code",
   "execution_count": 22,
   "id": "158a323c",
   "metadata": {
    "ExecuteTime": {
     "end_time": "2023-12-05T04:37:07.135802Z",
     "start_time": "2023-12-05T04:37:07.129165Z"
    }
   },
   "outputs": [
    {
     "data": {
      "text/plain": [
       "'최'"
      ]
     },
     "execution_count": 22,
     "metadata": {},
     "output_type": "execute_result"
    }
   ],
   "source": [
    "a.lastname = '최'\n",
    "a.lastname"
   ]
  },
  {
   "cell_type": "code",
   "execution_count": 23,
   "id": "ca43b824",
   "metadata": {
    "ExecuteTime": {
     "end_time": "2023-12-05T04:37:13.559832Z",
     "start_time": "2023-12-05T04:37:13.553536Z"
    }
   },
   "outputs": [
    {
     "data": {
      "text/plain": [
       "'박'"
      ]
     },
     "execution_count": 23,
     "metadata": {},
     "output_type": "execute_result"
    }
   ],
   "source": [
    "Family.lastname"
   ]
  },
  {
   "cell_type": "code",
   "execution_count": 24,
   "id": "f2c92bd0",
   "metadata": {
    "ExecuteTime": {
     "end_time": "2023-12-05T04:37:16.287751Z",
     "start_time": "2023-12-05T04:37:16.281723Z"
    }
   },
   "outputs": [
    {
     "data": {
      "text/plain": [
       "'박'"
      ]
     },
     "execution_count": 24,
     "metadata": {},
     "output_type": "execute_result"
    }
   ],
   "source": [
    "b.lastname"
   ]
  },
  {
   "cell_type": "markdown",
   "id": "d98ce290",
   "metadata": {},
   "source": [
    "# 예외 처리"
   ]
  },
  {
   "cell_type": "markdown",
   "id": "ab121822",
   "metadata": {},
   "source": [
    "## 오류는 언제 발생하는가?"
   ]
  },
  {
   "cell_type": "code",
   "execution_count": 25,
   "id": "0714daed",
   "metadata": {
    "ExecuteTime": {
     "end_time": "2023-12-05T04:46:34.473620Z",
     "start_time": "2023-12-05T04:46:34.369675Z"
    }
   },
   "outputs": [
    {
     "ename": "FileNotFoundError",
     "evalue": "[Errno 2] No such file or directory: '나없는파일'",
     "output_type": "error",
     "traceback": [
      "\u001b[1;31m---------------------------------------------------------------------------\u001b[0m",
      "\u001b[1;31mFileNotFoundError\u001b[0m                         Traceback (most recent call last)",
      "Cell \u001b[1;32mIn[25], line 1\u001b[0m\n\u001b[1;32m----> 1\u001b[0m f \u001b[38;5;241m=\u001b[39m \u001b[38;5;28mopen\u001b[39m(\u001b[38;5;124m'\u001b[39m\u001b[38;5;124m나없는파일\u001b[39m\u001b[38;5;124m'\u001b[39m, \u001b[38;5;124m'\u001b[39m\u001b[38;5;124mr\u001b[39m\u001b[38;5;124m'\u001b[39m)\n",
      "File \u001b[1;32m~\\anaconda3\\Lib\\site-packages\\IPython\\core\\interactiveshell.py:286\u001b[0m, in \u001b[0;36m_modified_open\u001b[1;34m(file, *args, **kwargs)\u001b[0m\n\u001b[0;32m    279\u001b[0m \u001b[38;5;28;01mif\u001b[39;00m file \u001b[38;5;129;01min\u001b[39;00m {\u001b[38;5;241m0\u001b[39m, \u001b[38;5;241m1\u001b[39m, \u001b[38;5;241m2\u001b[39m}:\n\u001b[0;32m    280\u001b[0m     \u001b[38;5;28;01mraise\u001b[39;00m \u001b[38;5;167;01mValueError\u001b[39;00m(\n\u001b[0;32m    281\u001b[0m         \u001b[38;5;124mf\u001b[39m\u001b[38;5;124m\"\u001b[39m\u001b[38;5;124mIPython won\u001b[39m\u001b[38;5;124m'\u001b[39m\u001b[38;5;124mt let you open fd=\u001b[39m\u001b[38;5;132;01m{\u001b[39;00mfile\u001b[38;5;132;01m}\u001b[39;00m\u001b[38;5;124m by default \u001b[39m\u001b[38;5;124m\"\u001b[39m\n\u001b[0;32m    282\u001b[0m         \u001b[38;5;124m\"\u001b[39m\u001b[38;5;124mas it is likely to crash IPython. If you know what you are doing, \u001b[39m\u001b[38;5;124m\"\u001b[39m\n\u001b[0;32m    283\u001b[0m         \u001b[38;5;124m\"\u001b[39m\u001b[38;5;124myou can use builtins\u001b[39m\u001b[38;5;124m'\u001b[39m\u001b[38;5;124m open.\u001b[39m\u001b[38;5;124m\"\u001b[39m\n\u001b[0;32m    284\u001b[0m     )\n\u001b[1;32m--> 286\u001b[0m \u001b[38;5;28;01mreturn\u001b[39;00m io_open(file, \u001b[38;5;241m*\u001b[39margs, \u001b[38;5;241m*\u001b[39m\u001b[38;5;241m*\u001b[39mkwargs)\n",
      "\u001b[1;31mFileNotFoundError\u001b[0m: [Errno 2] No such file or directory: '나없는파일'"
     ]
    }
   ],
   "source": [
    "f = open('나없는파일', 'r')"
   ]
  },
  {
   "cell_type": "code",
   "execution_count": 26,
   "id": "404046ed",
   "metadata": {
    "ExecuteTime": {
     "end_time": "2023-12-05T04:46:47.719191Z",
     "start_time": "2023-12-05T04:46:47.698168Z"
    }
   },
   "outputs": [
    {
     "ename": "ZeroDivisionError",
     "evalue": "division by zero",
     "output_type": "error",
     "traceback": [
      "\u001b[1;31m---------------------------------------------------------------------------\u001b[0m",
      "\u001b[1;31mZeroDivisionError\u001b[0m                         Traceback (most recent call last)",
      "Cell \u001b[1;32mIn[26], line 1\u001b[0m\n\u001b[1;32m----> 1\u001b[0m \u001b[38;5;241m4\u001b[39m\u001b[38;5;241m/\u001b[39m\u001b[38;5;241m0\u001b[39m\n",
      "\u001b[1;31mZeroDivisionError\u001b[0m: division by zero"
     ]
    }
   ],
   "source": [
    "4/0"
   ]
  },
  {
   "cell_type": "code",
   "execution_count": 27,
   "id": "d70844ba",
   "metadata": {
    "ExecuteTime": {
     "end_time": "2023-12-05T04:46:58.007261Z",
     "start_time": "2023-12-05T04:46:57.985423Z"
    }
   },
   "outputs": [
    {
     "ename": "IndexError",
     "evalue": "list index out of range",
     "output_type": "error",
     "traceback": [
      "\u001b[1;31m---------------------------------------------------------------------------\u001b[0m",
      "\u001b[1;31mIndexError\u001b[0m                                Traceback (most recent call last)",
      "Cell \u001b[1;32mIn[27], line 2\u001b[0m\n\u001b[0;32m      1\u001b[0m a \u001b[38;5;241m=\u001b[39m [\u001b[38;5;241m1\u001b[39m, \u001b[38;5;241m2\u001b[39m, \u001b[38;5;241m3\u001b[39m]\n\u001b[1;32m----> 2\u001b[0m a[\u001b[38;5;241m3\u001b[39m]\n",
      "\u001b[1;31mIndexError\u001b[0m: list index out of range"
     ]
    }
   ],
   "source": [
    "a = [1, 2, 3]\n",
    "a[3]"
   ]
  },
  {
   "cell_type": "markdown",
   "id": "ee5df774",
   "metadata": {},
   "source": [
    "## 오류 예외 처리 기법"
   ]
  },
  {
   "cell_type": "markdown",
   "id": "de17e904",
   "metadata": {
    "ExecuteTime": {
     "end_time": "2023-12-05T04:47:17.591380Z",
     "start_time": "2023-12-05T04:47:17.588039Z"
    }
   },
   "source": [
    "### try-except 문"
   ]
  },
  {
   "cell_type": "code",
   "execution_count": 29,
   "id": "002512bb",
   "metadata": {
    "ExecuteTime": {
     "end_time": "2023-12-05T04:47:50.294846Z",
     "start_time": "2023-12-05T04:47:50.289691Z"
    }
   },
   "outputs": [
    {
     "name": "stdout",
     "output_type": "stream",
     "text": [
      "division by zero\n"
     ]
    }
   ],
   "source": [
    "try :\n",
    "    4 / 0\n",
    "except ZeroDivisionError as e :\n",
    "    print(e)"
   ]
  },
  {
   "cell_type": "code",
   "execution_count": 31,
   "id": "9dd6d5ad",
   "metadata": {
    "ExecuteTime": {
     "end_time": "2023-12-05T04:49:12.247024Z",
     "start_time": "2023-12-05T04:49:12.242056Z"
    }
   },
   "outputs": [
    {
     "name": "stdout",
     "output_type": "stream",
     "text": [
      "error\n"
     ]
    }
   ],
   "source": [
    "try :\n",
    "    4 / 0\n",
    "except :\n",
    "    print('error')"
   ]
  },
  {
   "cell_type": "markdown",
   "id": "c4bcd14f",
   "metadata": {},
   "source": [
    "## try-finally 문"
   ]
  },
  {
   "cell_type": "code",
   "execution_count": 32,
   "id": "849dcb67",
   "metadata": {
    "ExecuteTime": {
     "end_time": "2023-12-05T05:03:41.790627Z",
     "start_time": "2023-12-05T05:03:41.784852Z"
    }
   },
   "outputs": [],
   "source": [
    "try :\n",
    "    f = open('foo.txt', 'w')\n",
    "    # 무언가를 수행한다\n",
    "    \n",
    "    #(... 생략 ...)\n",
    "    \n",
    "finally :\n",
    "    f.close() # 중간에 오류가 발생하더라도 무조건 실행된다."
   ]
  },
  {
   "cell_type": "markdown",
   "id": "c6b0ab25",
   "metadata": {},
   "source": [
    "## 여러 개의 오류 처리하기"
   ]
  },
  {
   "cell_type": "code",
   "execution_count": 33,
   "id": "8b9c6781",
   "metadata": {
    "ExecuteTime": {
     "end_time": "2023-12-05T05:04:54.646662Z",
     "start_time": "2023-12-05T05:04:54.641271Z"
    }
   },
   "outputs": [
    {
     "name": "stdout",
     "output_type": "stream",
     "text": [
      "인덱싱 할 수 없습니다.\n"
     ]
    }
   ],
   "source": [
    "try :\n",
    "    a = [1, 2]\n",
    "    print(a[3])\n",
    "    4/0\n",
    "except ZeroDivisionError :\n",
    "    print('0으로 나눌 수 없습니다.')\n",
    "except IndexError :\n",
    "    print('인덱싱 할 수 없습니다.')"
   ]
  },
  {
   "cell_type": "code",
   "execution_count": 34,
   "id": "a6a61fae",
   "metadata": {
    "ExecuteTime": {
     "end_time": "2023-12-05T05:06:39.454714Z",
     "start_time": "2023-12-05T05:06:39.449188Z"
    }
   },
   "outputs": [
    {
     "name": "stdout",
     "output_type": "stream",
     "text": [
      "list index out of range\n"
     ]
    }
   ],
   "source": [
    "try :\n",
    "    a = [1, 2]\n",
    "    print(a[3])\n",
    "    4/0\n",
    "except (ZeroDivisionError, IndexError) as e :\n",
    "    print(e)"
   ]
  },
  {
   "cell_type": "code",
   "execution_count": 35,
   "id": "1d545c0d",
   "metadata": {
    "ExecuteTime": {
     "end_time": "2023-12-05T05:08:24.535774Z",
     "start_time": "2023-12-05T05:08:22.808055Z"
    }
   },
   "outputs": [
    {
     "name": "stdout",
     "output_type": "stream",
     "text": [
      "나이를 입력하세요 : 18\n",
      "미성년자는 출입금지입니다.\n"
     ]
    }
   ],
   "source": [
    "try : \n",
    "    age = int(input('나이를 입력하세요 : '))\n",
    "except :\n",
    "    print('입력이 정확하지 않습니다.')\n",
    "else :\n",
    "    if age <= 18 :\n",
    "        print('미성년자는 출입금지입니다.')\n",
    "    else : \n",
    "        print('환영합니다.')"
   ]
  },
  {
   "cell_type": "markdown",
   "id": "059bcb89",
   "metadata": {},
   "source": [
    "## 오류 회피하기"
   ]
  },
  {
   "cell_type": "code",
   "execution_count": 37,
   "id": "749a71e1",
   "metadata": {
    "ExecuteTime": {
     "end_time": "2023-12-05T05:09:39.860756Z",
     "start_time": "2023-12-05T05:09:39.855993Z"
    }
   },
   "outputs": [],
   "source": [
    "try : \n",
    "    f = open('나없는파일', 'r')\n",
    "except FileNotFoundError :\n",
    "    pass"
   ]
  },
  {
   "cell_type": "markdown",
   "id": "ccb857ae",
   "metadata": {},
   "source": [
    "# 내장 함수"
   ]
  },
  {
   "cell_type": "code",
   "execution_count": 38,
   "id": "979e2ea7",
   "metadata": {
    "ExecuteTime": {
     "end_time": "2023-12-05T05:18:46.189838Z",
     "start_time": "2023-12-05T05:18:46.184276Z"
    }
   },
   "outputs": [
    {
     "data": {
      "text/plain": [
       "3"
      ]
     },
     "execution_count": 38,
     "metadata": {},
     "output_type": "execute_result"
    }
   ],
   "source": [
    "abs(3)"
   ]
  },
  {
   "cell_type": "code",
   "execution_count": 39,
   "id": "04237c47",
   "metadata": {
    "ExecuteTime": {
     "end_time": "2023-12-05T05:18:48.628410Z",
     "start_time": "2023-12-05T05:18:48.622278Z"
    }
   },
   "outputs": [
    {
     "data": {
      "text/plain": [
       "3"
      ]
     },
     "execution_count": 39,
     "metadata": {},
     "output_type": "execute_result"
    }
   ],
   "source": [
    "abs(-3)"
   ]
  },
  {
   "cell_type": "code",
   "execution_count": 40,
   "id": "fb5f010d",
   "metadata": {
    "ExecuteTime": {
     "end_time": "2023-12-05T05:18:51.661036Z",
     "start_time": "2023-12-05T05:18:51.655177Z"
    }
   },
   "outputs": [
    {
     "data": {
      "text/plain": [
       "1.2"
      ]
     },
     "execution_count": 40,
     "metadata": {},
     "output_type": "execute_result"
    }
   ],
   "source": [
    "abs(-1.2)"
   ]
  },
  {
   "cell_type": "code",
   "execution_count": 41,
   "id": "00bcdebb",
   "metadata": {
    "ExecuteTime": {
     "end_time": "2023-12-05T05:19:02.173926Z",
     "start_time": "2023-12-05T05:19:02.168021Z"
    }
   },
   "outputs": [
    {
     "data": {
      "text/plain": [
       "True"
      ]
     },
     "execution_count": 41,
     "metadata": {},
     "output_type": "execute_result"
    }
   ],
   "source": [
    "all([1, 2, 3])"
   ]
  },
  {
   "cell_type": "code",
   "execution_count": 45,
   "id": "b1408a32",
   "metadata": {
    "ExecuteTime": {
     "end_time": "2023-12-05T05:19:28.405765Z",
     "start_time": "2023-12-05T05:19:28.399299Z"
    }
   },
   "outputs": [
    {
     "data": {
      "text/plain": [
       "False"
      ]
     },
     "execution_count": 45,
     "metadata": {},
     "output_type": "execute_result"
    }
   ],
   "source": [
    "all([1, 2, 0])"
   ]
  },
  {
   "cell_type": "code",
   "execution_count": 46,
   "id": "18ddb359",
   "metadata": {
    "ExecuteTime": {
     "end_time": "2023-12-05T05:19:39.965337Z",
     "start_time": "2023-12-05T05:19:39.958185Z"
    }
   },
   "outputs": [
    {
     "data": {
      "text/plain": [
       "True"
      ]
     },
     "execution_count": 46,
     "metadata": {},
     "output_type": "execute_result"
    }
   ],
   "source": [
    "all([])"
   ]
  },
  {
   "cell_type": "code",
   "execution_count": 47,
   "id": "e062df30",
   "metadata": {
    "ExecuteTime": {
     "end_time": "2023-12-05T05:20:13.502439Z",
     "start_time": "2023-12-05T05:20:13.496202Z"
    }
   },
   "outputs": [
    {
     "data": {
      "text/plain": [
       "True"
      ]
     },
     "execution_count": 47,
     "metadata": {},
     "output_type": "execute_result"
    }
   ],
   "source": [
    "any([1, 2, 3, 0])"
   ]
  },
  {
   "cell_type": "code",
   "execution_count": 48,
   "id": "064045bf",
   "metadata": {
    "ExecuteTime": {
     "end_time": "2023-12-05T05:20:24.925763Z",
     "start_time": "2023-12-05T05:20:24.919875Z"
    }
   },
   "outputs": [
    {
     "data": {
      "text/plain": [
       "False"
      ]
     },
     "execution_count": 48,
     "metadata": {},
     "output_type": "execute_result"
    }
   ],
   "source": [
    "any([0, \"\"])"
   ]
  },
  {
   "cell_type": "code",
   "execution_count": 49,
   "id": "99327c06",
   "metadata": {
    "ExecuteTime": {
     "end_time": "2023-12-05T05:20:31.606238Z",
     "start_time": "2023-12-05T05:20:31.600025Z"
    }
   },
   "outputs": [
    {
     "data": {
      "text/plain": [
       "False"
      ]
     },
     "execution_count": 49,
     "metadata": {},
     "output_type": "execute_result"
    }
   ],
   "source": [
    "any([])"
   ]
  },
  {
   "cell_type": "code",
   "execution_count": 50,
   "id": "703c6dbc",
   "metadata": {
    "ExecuteTime": {
     "end_time": "2023-12-05T05:20:47.598245Z",
     "start_time": "2023-12-05T05:20:47.590961Z"
    }
   },
   "outputs": [
    {
     "data": {
      "text/plain": [
       "'a'"
      ]
     },
     "execution_count": 50,
     "metadata": {},
     "output_type": "execute_result"
    }
   ],
   "source": [
    "chr(97)"
   ]
  },
  {
   "cell_type": "code",
   "execution_count": 51,
   "id": "deb68b24",
   "metadata": {
    "ExecuteTime": {
     "end_time": "2023-12-05T05:20:51.333602Z",
     "start_time": "2023-12-05T05:20:51.327151Z"
    }
   },
   "outputs": [
    {
     "data": {
      "text/plain": [
       "'가'"
      ]
     },
     "execution_count": 51,
     "metadata": {},
     "output_type": "execute_result"
    }
   ],
   "source": [
    "chr(44032)"
   ]
  },
  {
   "cell_type": "code",
   "execution_count": 52,
   "id": "8a71c542",
   "metadata": {
    "ExecuteTime": {
     "end_time": "2023-12-05T05:22:33.206532Z",
     "start_time": "2023-12-05T05:22:33.199462Z"
    }
   },
   "outputs": [
    {
     "data": {
      "text/plain": [
       "['__add__',\n",
       " '__class__',\n",
       " '__class_getitem__',\n",
       " '__contains__',\n",
       " '__delattr__',\n",
       " '__delitem__',\n",
       " '__dir__',\n",
       " '__doc__',\n",
       " '__eq__',\n",
       " '__format__',\n",
       " '__ge__',\n",
       " '__getattribute__',\n",
       " '__getitem__',\n",
       " '__getstate__',\n",
       " '__gt__',\n",
       " '__hash__',\n",
       " '__iadd__',\n",
       " '__imul__',\n",
       " '__init__',\n",
       " '__init_subclass__',\n",
       " '__iter__',\n",
       " '__le__',\n",
       " '__len__',\n",
       " '__lt__',\n",
       " '__mul__',\n",
       " '__ne__',\n",
       " '__new__',\n",
       " '__reduce__',\n",
       " '__reduce_ex__',\n",
       " '__repr__',\n",
       " '__reversed__',\n",
       " '__rmul__',\n",
       " '__setattr__',\n",
       " '__setitem__',\n",
       " '__sizeof__',\n",
       " '__str__',\n",
       " '__subclasshook__',\n",
       " 'append',\n",
       " 'clear',\n",
       " 'copy',\n",
       " 'count',\n",
       " 'extend',\n",
       " 'index',\n",
       " 'insert',\n",
       " 'pop',\n",
       " 'remove',\n",
       " 'reverse',\n",
       " 'sort']"
      ]
     },
     "execution_count": 52,
     "metadata": {},
     "output_type": "execute_result"
    }
   ],
   "source": [
    "dir([1, 2, 3])"
   ]
  },
  {
   "cell_type": "code",
   "execution_count": 53,
   "id": "5826829f",
   "metadata": {
    "ExecuteTime": {
     "end_time": "2023-12-05T05:23:04.935587Z",
     "start_time": "2023-12-05T05:23:04.927297Z"
    }
   },
   "outputs": [
    {
     "data": {
      "text/plain": [
       "['__class__',\n",
       " '__class_getitem__',\n",
       " '__contains__',\n",
       " '__delattr__',\n",
       " '__delitem__',\n",
       " '__dir__',\n",
       " '__doc__',\n",
       " '__eq__',\n",
       " '__format__',\n",
       " '__ge__',\n",
       " '__getattribute__',\n",
       " '__getitem__',\n",
       " '__getstate__',\n",
       " '__gt__',\n",
       " '__hash__',\n",
       " '__init__',\n",
       " '__init_subclass__',\n",
       " '__ior__',\n",
       " '__iter__',\n",
       " '__le__',\n",
       " '__len__',\n",
       " '__lt__',\n",
       " '__ne__',\n",
       " '__new__',\n",
       " '__or__',\n",
       " '__reduce__',\n",
       " '__reduce_ex__',\n",
       " '__repr__',\n",
       " '__reversed__',\n",
       " '__ror__',\n",
       " '__setattr__',\n",
       " '__setitem__',\n",
       " '__sizeof__',\n",
       " '__str__',\n",
       " '__subclasshook__',\n",
       " 'clear',\n",
       " 'copy',\n",
       " 'fromkeys',\n",
       " 'get',\n",
       " 'items',\n",
       " 'keys',\n",
       " 'pop',\n",
       " 'popitem',\n",
       " 'setdefault',\n",
       " 'update',\n",
       " 'values']"
      ]
     },
     "execution_count": 53,
     "metadata": {},
     "output_type": "execute_result"
    }
   ],
   "source": [
    "dir({'1':'a'})"
   ]
  },
  {
   "cell_type": "code",
   "execution_count": 54,
   "id": "c7d63c4b",
   "metadata": {
    "ExecuteTime": {
     "end_time": "2023-12-05T05:23:29.437040Z",
     "start_time": "2023-12-05T05:23:29.431244Z"
    }
   },
   "outputs": [
    {
     "data": {
      "text/plain": [
       "(2, 1)"
      ]
     },
     "execution_count": 54,
     "metadata": {},
     "output_type": "execute_result"
    }
   ],
   "source": [
    "divmod(7, 3)"
   ]
  },
  {
   "cell_type": "code",
   "execution_count": 55,
   "id": "c70b31a8",
   "metadata": {
    "ExecuteTime": {
     "end_time": "2023-12-05T05:25:12.404532Z",
     "start_time": "2023-12-05T05:25:12.399758Z"
    }
   },
   "outputs": [
    {
     "name": "stdout",
     "output_type": "stream",
     "text": [
      "0 body\n",
      "1 foo\n",
      "2 bar\n"
     ]
    }
   ],
   "source": [
    "for i , name in enumerate(['body', 'foo', 'bar']) :\n",
    "    print(i, name)"
   ]
  },
  {
   "cell_type": "code",
   "execution_count": 56,
   "id": "0abf9dce",
   "metadata": {
    "ExecuteTime": {
     "end_time": "2023-12-05T05:25:46.670116Z",
     "start_time": "2023-12-05T05:25:46.663760Z"
    }
   },
   "outputs": [
    {
     "data": {
      "text/plain": [
       "3"
      ]
     },
     "execution_count": 56,
     "metadata": {},
     "output_type": "execute_result"
    }
   ],
   "source": [
    "eval('1+2')"
   ]
  },
  {
   "cell_type": "code",
   "execution_count": 57,
   "id": "03c6126d",
   "metadata": {
    "ExecuteTime": {
     "end_time": "2023-12-05T05:25:56.525494Z",
     "start_time": "2023-12-05T05:25:56.519257Z"
    }
   },
   "outputs": [
    {
     "data": {
      "text/plain": [
       "'hia'"
      ]
     },
     "execution_count": 57,
     "metadata": {},
     "output_type": "execute_result"
    }
   ],
   "source": [
    "eval(\"'hi' + 'a'\")"
   ]
  },
  {
   "cell_type": "code",
   "execution_count": 58,
   "id": "d9eae815",
   "metadata": {
    "ExecuteTime": {
     "end_time": "2023-12-05T05:26:05.254394Z",
     "start_time": "2023-12-05T05:26:05.247932Z"
    }
   },
   "outputs": [
    {
     "data": {
      "text/plain": [
       "(1, 1)"
      ]
     },
     "execution_count": 58,
     "metadata": {},
     "output_type": "execute_result"
    }
   ],
   "source": [
    "eval('divmod(4, 3)')"
   ]
  },
  {
   "cell_type": "code",
   "execution_count": 60,
   "id": "5a338336",
   "metadata": {
    "ExecuteTime": {
     "end_time": "2023-12-05T05:27:35.678909Z",
     "start_time": "2023-12-05T05:27:35.672773Z"
    }
   },
   "outputs": [
    {
     "name": "stdout",
     "output_type": "stream",
     "text": [
      "[1, 2, 6]\n"
     ]
    }
   ],
   "source": [
    "def positive(l) :\n",
    "    result = []\n",
    "    for i in l :\n",
    "        if i > 0 :\n",
    "            result.append(i)\n",
    "    return result\n",
    "\n",
    "print(positive([1, -3, 2, 0, -5, 6]))"
   ]
  },
  {
   "cell_type": "code",
   "execution_count": 61,
   "id": "21100bce",
   "metadata": {
    "ExecuteTime": {
     "end_time": "2023-12-05T05:28:11.965334Z",
     "start_time": "2023-12-05T05:28:11.959940Z"
    }
   },
   "outputs": [
    {
     "name": "stdout",
     "output_type": "stream",
     "text": [
      "[1, 2, 6]\n"
     ]
    }
   ],
   "source": [
    "def positive(x) :\n",
    "    return x > 0\n",
    "\n",
    "print(list(filter(positive, [1, -3, 2, 0, -5, 6])))"
   ]
  },
  {
   "cell_type": "code",
   "execution_count": 62,
   "id": "99fee71f",
   "metadata": {
    "ExecuteTime": {
     "end_time": "2023-12-05T05:30:58.214945Z",
     "start_time": "2023-12-05T05:30:58.208040Z"
    }
   },
   "outputs": [
    {
     "data": {
      "text/plain": [
       "[1, 2, 6]"
      ]
     },
     "execution_count": 62,
     "metadata": {},
     "output_type": "execute_result"
    }
   ],
   "source": [
    "list(filter(lambda x : x>0, [1, -3, 2, 0, -5, 6]))"
   ]
  },
  {
   "cell_type": "code",
   "execution_count": 63,
   "id": "a98501a8",
   "metadata": {
    "ExecuteTime": {
     "end_time": "2023-12-05T05:32:46.644649Z",
     "start_time": "2023-12-05T05:32:46.639210Z"
    }
   },
   "outputs": [
    {
     "ename": "SyntaxError",
     "evalue": "invalid syntax (3711518014.py, line 1)",
     "output_type": "error",
     "traceback": [
      "\u001b[1;36m  Cell \u001b[1;32mIn[63], line 1\u001b[1;36m\u001b[0m\n\u001b[1;33m    x for x in [1, -3, 2, 0, -5, 6] if x > 0\u001b[0m\n\u001b[1;37m      ^\u001b[0m\n\u001b[1;31mSyntaxError\u001b[0m\u001b[1;31m:\u001b[0m invalid syntax\n"
     ]
    }
   ],
   "source": [
    "x for x in [1, -3, 2, 0, -5, 6] if x > 0"
   ]
  },
  {
   "cell_type": "code",
   "execution_count": 64,
   "id": "6d627044",
   "metadata": {
    "ExecuteTime": {
     "end_time": "2023-12-05T05:34:15.277559Z",
     "start_time": "2023-12-05T05:34:15.270484Z"
    }
   },
   "outputs": [
    {
     "data": {
      "text/plain": [
       "'0xea'"
      ]
     },
     "execution_count": 64,
     "metadata": {},
     "output_type": "execute_result"
    }
   ],
   "source": [
    "hex(234)"
   ]
  },
  {
   "cell_type": "code",
   "execution_count": 65,
   "id": "473bd06f",
   "metadata": {
    "ExecuteTime": {
     "end_time": "2023-12-05T05:34:16.813209Z",
     "start_time": "2023-12-05T05:34:16.806849Z"
    }
   },
   "outputs": [
    {
     "data": {
      "text/plain": [
       "'0x3'"
      ]
     },
     "execution_count": 65,
     "metadata": {},
     "output_type": "execute_result"
    }
   ],
   "source": [
    "hex(3)"
   ]
  },
  {
   "cell_type": "code",
   "execution_count": 66,
   "id": "cc379088",
   "metadata": {
    "ExecuteTime": {
     "end_time": "2023-12-05T05:34:26.525302Z",
     "start_time": "2023-12-05T05:34:26.518670Z"
    }
   },
   "outputs": [
    {
     "data": {
      "text/plain": [
       "140709793796968"
      ]
     },
     "execution_count": 66,
     "metadata": {},
     "output_type": "execute_result"
    }
   ],
   "source": [
    "a = 3\n",
    "id(3)"
   ]
  },
  {
   "cell_type": "code",
   "execution_count": 67,
   "id": "4db8a998",
   "metadata": {
    "ExecuteTime": {
     "end_time": "2023-12-05T05:34:29.557491Z",
     "start_time": "2023-12-05T05:34:29.551084Z"
    }
   },
   "outputs": [
    {
     "data": {
      "text/plain": [
       "140709793796968"
      ]
     },
     "execution_count": 67,
     "metadata": {},
     "output_type": "execute_result"
    }
   ],
   "source": [
    "id(a)"
   ]
  },
  {
   "cell_type": "code",
   "execution_count": 68,
   "id": "cb8fbfba",
   "metadata": {
    "ExecuteTime": {
     "end_time": "2023-12-05T05:34:34.477192Z",
     "start_time": "2023-12-05T05:34:34.471465Z"
    }
   },
   "outputs": [
    {
     "data": {
      "text/plain": [
       "140709793796968"
      ]
     },
     "execution_count": 68,
     "metadata": {},
     "output_type": "execute_result"
    }
   ],
   "source": [
    "b = a\n",
    "id(b)"
   ]
  },
  {
   "cell_type": "code",
   "execution_count": 69,
   "id": "e93ad943",
   "metadata": {
    "ExecuteTime": {
     "end_time": "2023-12-05T05:34:43.277690Z",
     "start_time": "2023-12-05T05:34:43.270724Z"
    }
   },
   "outputs": [
    {
     "data": {
      "text/plain": [
       "3"
      ]
     },
     "execution_count": 69,
     "metadata": {},
     "output_type": "execute_result"
    }
   ],
   "source": [
    "int('3')"
   ]
  },
  {
   "cell_type": "code",
   "execution_count": 70,
   "id": "bdc6d86c",
   "metadata": {
    "ExecuteTime": {
     "end_time": "2023-12-05T05:34:47.443106Z",
     "start_time": "2023-12-05T05:34:47.437524Z"
    }
   },
   "outputs": [
    {
     "data": {
      "text/plain": [
       "3"
      ]
     },
     "execution_count": 70,
     "metadata": {},
     "output_type": "execute_result"
    }
   ],
   "source": [
    "int(3.4)"
   ]
  },
  {
   "cell_type": "code",
   "execution_count": 71,
   "id": "42d1c2af",
   "metadata": {
    "ExecuteTime": {
     "end_time": "2023-12-05T05:35:48.148932Z",
     "start_time": "2023-12-05T05:35:48.142220Z"
    }
   },
   "outputs": [
    {
     "data": {
      "text/plain": [
       "3"
      ]
     },
     "execution_count": 71,
     "metadata": {},
     "output_type": "execute_result"
    }
   ],
   "source": [
    "int('11', 2)"
   ]
  },
  {
   "cell_type": "code",
   "execution_count": 72,
   "id": "11ef267f",
   "metadata": {
    "ExecuteTime": {
     "end_time": "2023-12-05T05:36:04.004593Z",
     "start_time": "2023-12-05T05:36:03.999165Z"
    }
   },
   "outputs": [
    {
     "data": {
      "text/plain": [
       "26"
      ]
     },
     "execution_count": 72,
     "metadata": {},
     "output_type": "execute_result"
    }
   ],
   "source": [
    "int('1a', 16)"
   ]
  },
  {
   "cell_type": "code",
   "execution_count": 73,
   "id": "1fa21faf",
   "metadata": {
    "ExecuteTime": {
     "end_time": "2023-12-05T05:37:14.613566Z",
     "start_time": "2023-12-05T05:37:14.607658Z"
    }
   },
   "outputs": [
    {
     "data": {
      "text/plain": [
       "True"
      ]
     },
     "execution_count": 73,
     "metadata": {},
     "output_type": "execute_result"
    }
   ],
   "source": [
    "class Person : pass\n",
    "\n",
    "a = Person()\n",
    "isinstance(a, Person)"
   ]
  },
  {
   "cell_type": "code",
   "execution_count": 74,
   "id": "fc56d2ae",
   "metadata": {
    "ExecuteTime": {
     "end_time": "2023-12-05T05:37:21.797041Z",
     "start_time": "2023-12-05T05:37:21.790181Z"
    }
   },
   "outputs": [
    {
     "data": {
      "text/plain": [
       "False"
      ]
     },
     "execution_count": 74,
     "metadata": {},
     "output_type": "execute_result"
    }
   ],
   "source": [
    "b = 3\n",
    "isinstance(b, Person)"
   ]
  },
  {
   "cell_type": "code",
   "execution_count": 75,
   "id": "c165c827",
   "metadata": {
    "ExecuteTime": {
     "end_time": "2023-12-05T05:37:26.117376Z",
     "start_time": "2023-12-05T05:37:26.110860Z"
    }
   },
   "outputs": [
    {
     "data": {
      "text/plain": [
       "6"
      ]
     },
     "execution_count": 75,
     "metadata": {},
     "output_type": "execute_result"
    }
   ],
   "source": [
    "len('python')"
   ]
  },
  {
   "cell_type": "code",
   "execution_count": 76,
   "id": "3ddc6c7f",
   "metadata": {
    "ExecuteTime": {
     "end_time": "2023-12-05T05:37:29.948828Z",
     "start_time": "2023-12-05T05:37:29.943314Z"
    }
   },
   "outputs": [
    {
     "data": {
      "text/plain": [
       "3"
      ]
     },
     "execution_count": 76,
     "metadata": {},
     "output_type": "execute_result"
    }
   ],
   "source": [
    "len([1, 2, 3])"
   ]
  },
  {
   "cell_type": "code",
   "execution_count": 77,
   "id": "7674b47e",
   "metadata": {
    "ExecuteTime": {
     "end_time": "2023-12-05T05:37:35.212408Z",
     "start_time": "2023-12-05T05:37:35.206075Z"
    }
   },
   "outputs": [
    {
     "data": {
      "text/plain": [
       "2"
      ]
     },
     "execution_count": 77,
     "metadata": {},
     "output_type": "execute_result"
    }
   ],
   "source": [
    "len((1, 'a'))"
   ]
  },
  {
   "cell_type": "code",
   "execution_count": 78,
   "id": "887b016f",
   "metadata": {
    "ExecuteTime": {
     "end_time": "2023-12-05T05:37:43.485366Z",
     "start_time": "2023-12-05T05:37:43.479885Z"
    }
   },
   "outputs": [
    {
     "data": {
      "text/plain": [
       "['p', 'y', 't', 'h', 'o', 'n']"
      ]
     },
     "execution_count": 78,
     "metadata": {},
     "output_type": "execute_result"
    }
   ],
   "source": [
    "list('python')"
   ]
  },
  {
   "cell_type": "code",
   "execution_count": 79,
   "id": "188a8f4d",
   "metadata": {
    "ExecuteTime": {
     "end_time": "2023-12-05T05:37:48.717725Z",
     "start_time": "2023-12-05T05:37:48.711395Z"
    }
   },
   "outputs": [
    {
     "data": {
      "text/plain": [
       "[1, 2, 3]"
      ]
     },
     "execution_count": 79,
     "metadata": {},
     "output_type": "execute_result"
    }
   ],
   "source": [
    "list((1, 2, 3))"
   ]
  },
  {
   "cell_type": "code",
   "execution_count": 81,
   "id": "7b7b97e5",
   "metadata": {
    "ExecuteTime": {
     "end_time": "2023-12-05T05:37:58.724270Z",
     "start_time": "2023-12-05T05:37:58.718768Z"
    }
   },
   "outputs": [
    {
     "data": {
      "text/plain": [
       "[1, 2, 3]"
      ]
     },
     "execution_count": 81,
     "metadata": {},
     "output_type": "execute_result"
    }
   ],
   "source": [
    "a = [1, 2, 3]\n",
    "b = list(a)\n",
    "b"
   ]
  },
  {
   "cell_type": "code",
   "execution_count": 82,
   "id": "5c768f81",
   "metadata": {
    "ExecuteTime": {
     "end_time": "2023-12-05T05:39:27.541405Z",
     "start_time": "2023-12-05T05:39:27.535230Z"
    }
   },
   "outputs": [
    {
     "name": "stdout",
     "output_type": "stream",
     "text": [
      "[2, 4, 6, 8]\n"
     ]
    }
   ],
   "source": [
    "def two_times(numberList) :\n",
    "    result = []\n",
    "    for number in numberList :\n",
    "        result.append(number * 2)\n",
    "    return result\n",
    "\n",
    "result = two_times([1, 2, 3, 4])\n",
    "print(result)"
   ]
  },
  {
   "cell_type": "code",
   "execution_count": 86,
   "id": "a3c57b22",
   "metadata": {
    "ExecuteTime": {
     "end_time": "2023-12-05T05:44:43.446038Z",
     "start_time": "2023-12-05T05:44:43.438897Z"
    }
   },
   "outputs": [
    {
     "data": {
      "text/plain": [
       "[2, 4, 6, 8]"
      ]
     },
     "execution_count": 86,
     "metadata": {},
     "output_type": "execute_result"
    }
   ],
   "source": [
    "def two_times(x) :\n",
    "    return x * 2\n",
    "\n",
    "list(map(two_times, [1, 2, 3, 4]))"
   ]
  },
  {
   "cell_type": "code",
   "execution_count": 87,
   "id": "e2e1ec1d",
   "metadata": {
    "ExecuteTime": {
     "end_time": "2023-12-05T05:44:57.455406Z",
     "start_time": "2023-12-05T05:44:57.447433Z"
    }
   },
   "outputs": [
    {
     "data": {
      "text/plain": [
       "[None, 4, None, 8]"
      ]
     },
     "execution_count": 87,
     "metadata": {},
     "output_type": "execute_result"
    }
   ],
   "source": [
    "def two_times(x) :\n",
    "    if x % 2 == 0 :\n",
    "        return x * 2\n",
    "\n",
    "list(map(two_times, [1, 2, 3, 4]))"
   ]
  },
  {
   "cell_type": "code",
   "execution_count": 89,
   "id": "08f7bde1",
   "metadata": {
    "ExecuteTime": {
     "end_time": "2023-12-05T05:46:03.310833Z",
     "start_time": "2023-12-05T05:46:03.303327Z"
    }
   },
   "outputs": [
    {
     "data": {
      "text/plain": [
       "[2, 4, 6, 8]"
      ]
     },
     "execution_count": 89,
     "metadata": {},
     "output_type": "execute_result"
    }
   ],
   "source": [
    "list(map(lambda x :x * 2, [1, 2, 3, 4]))"
   ]
  },
  {
   "cell_type": "code",
   "execution_count": 90,
   "id": "80bdfe4e",
   "metadata": {
    "ExecuteTime": {
     "end_time": "2023-12-05T05:46:22.525011Z",
     "start_time": "2023-12-05T05:46:22.518869Z"
    }
   },
   "outputs": [
    {
     "data": {
      "text/plain": [
       "1"
      ]
     },
     "execution_count": 90,
     "metadata": {},
     "output_type": "execute_result"
    }
   ],
   "source": [
    "min([1, 2, 3])"
   ]
  },
  {
   "cell_type": "code",
   "execution_count": 91,
   "id": "16a80113",
   "metadata": {
    "ExecuteTime": {
     "end_time": "2023-12-05T05:46:28.660860Z",
     "start_time": "2023-12-05T05:46:28.654964Z"
    }
   },
   "outputs": [
    {
     "data": {
      "text/plain": [
       "'h'"
      ]
     },
     "execution_count": 91,
     "metadata": {},
     "output_type": "execute_result"
    }
   ],
   "source": [
    "min('python')"
   ]
  },
  {
   "cell_type": "code",
   "execution_count": 92,
   "id": "2e31baac",
   "metadata": {
    "ExecuteTime": {
     "end_time": "2023-12-05T05:47:14.867760Z",
     "start_time": "2023-12-05T05:47:14.862386Z"
    }
   },
   "outputs": [
    {
     "data": {
      "text/plain": [
       "97"
      ]
     },
     "execution_count": 92,
     "metadata": {},
     "output_type": "execute_result"
    }
   ],
   "source": [
    "ord('a')\n"
   ]
  },
  {
   "cell_type": "code",
   "execution_count": 94,
   "id": "5a3d0f52",
   "metadata": {
    "ExecuteTime": {
     "end_time": "2023-12-05T05:47:20.564389Z",
     "start_time": "2023-12-05T05:47:20.558238Z"
    }
   },
   "outputs": [
    {
     "data": {
      "text/plain": [
       "44032"
      ]
     },
     "execution_count": 94,
     "metadata": {},
     "output_type": "execute_result"
    }
   ],
   "source": [
    "ord('가')"
   ]
  },
  {
   "cell_type": "code",
   "execution_count": 95,
   "id": "74966669",
   "metadata": {
    "ExecuteTime": {
     "end_time": "2023-12-05T05:47:29.980054Z",
     "start_time": "2023-12-05T05:47:29.974386Z"
    }
   },
   "outputs": [
    {
     "data": {
      "text/plain": [
       "16"
      ]
     },
     "execution_count": 95,
     "metadata": {},
     "output_type": "execute_result"
    }
   ],
   "source": [
    "pow(2, 4)"
   ]
  },
  {
   "cell_type": "code",
   "execution_count": 96,
   "id": "fc862883",
   "metadata": {
    "ExecuteTime": {
     "end_time": "2023-12-05T05:47:32.907802Z",
     "start_time": "2023-12-05T05:47:32.902044Z"
    }
   },
   "outputs": [
    {
     "data": {
      "text/plain": [
       "27"
      ]
     },
     "execution_count": 96,
     "metadata": {},
     "output_type": "execute_result"
    }
   ],
   "source": [
    "pow(3, 3)"
   ]
  },
  {
   "cell_type": "code",
   "execution_count": 97,
   "id": "ea49c8d1",
   "metadata": {
    "ExecuteTime": {
     "end_time": "2023-12-05T05:47:49.404942Z",
     "start_time": "2023-12-05T05:47:49.399171Z"
    }
   },
   "outputs": [
    {
     "data": {
      "text/plain": [
       "[0, 1, 2, 3, 4]"
      ]
     },
     "execution_count": 97,
     "metadata": {},
     "output_type": "execute_result"
    }
   ],
   "source": [
    "list(range(5))"
   ]
  },
  {
   "cell_type": "code",
   "execution_count": 98,
   "id": "6a849f76",
   "metadata": {
    "ExecuteTime": {
     "end_time": "2023-12-05T05:47:54.134639Z",
     "start_time": "2023-12-05T05:47:54.127618Z"
    }
   },
   "outputs": [
    {
     "data": {
      "text/plain": [
       "[5, 6, 7, 8, 9]"
      ]
     },
     "execution_count": 98,
     "metadata": {},
     "output_type": "execute_result"
    }
   ],
   "source": [
    "list(range(5, 10))"
   ]
  },
  {
   "cell_type": "code",
   "execution_count": 99,
   "id": "f441671c",
   "metadata": {
    "ExecuteTime": {
     "end_time": "2023-12-05T05:48:05.566170Z",
     "start_time": "2023-12-05T05:48:05.558825Z"
    }
   },
   "outputs": [
    {
     "data": {
      "text/plain": [
       "[1, 3, 5, 7, 9]"
      ]
     },
     "execution_count": 99,
     "metadata": {},
     "output_type": "execute_result"
    }
   ],
   "source": [
    "list(range(1, 10, 2))"
   ]
  },
  {
   "cell_type": "code",
   "execution_count": 101,
   "id": "6e6b512c",
   "metadata": {
    "ExecuteTime": {
     "end_time": "2023-12-05T05:48:19.533634Z",
     "start_time": "2023-12-05T05:48:19.527146Z"
    }
   },
   "outputs": [
    {
     "data": {
      "text/plain": [
       "[0, -1, -2, -3, -4, -5, -6, -7, -8, -9]"
      ]
     },
     "execution_count": 101,
     "metadata": {},
     "output_type": "execute_result"
    }
   ],
   "source": [
    "list(range(0, -10, -1))"
   ]
  },
  {
   "cell_type": "code",
   "execution_count": 103,
   "id": "f5941d5d",
   "metadata": {
    "ExecuteTime": {
     "end_time": "2023-12-05T05:50:07.580523Z",
     "start_time": "2023-12-05T05:50:07.574214Z"
    }
   },
   "outputs": [
    {
     "data": {
      "text/plain": [
       "5"
      ]
     },
     "execution_count": 103,
     "metadata": {},
     "output_type": "execute_result"
    }
   ],
   "source": [
    "round(4.6)"
   ]
  },
  {
   "cell_type": "code",
   "execution_count": 104,
   "id": "dafff780",
   "metadata": {
    "ExecuteTime": {
     "end_time": "2023-12-05T05:50:10.748214Z",
     "start_time": "2023-12-05T05:50:10.742536Z"
    }
   },
   "outputs": [
    {
     "data": {
      "text/plain": [
       "4"
      ]
     },
     "execution_count": 104,
     "metadata": {},
     "output_type": "execute_result"
    }
   ],
   "source": [
    "round(4.2)"
   ]
  },
  {
   "cell_type": "code",
   "execution_count": 105,
   "id": "5c8096ae",
   "metadata": {
    "ExecuteTime": {
     "end_time": "2023-12-05T05:50:15.611999Z",
     "start_time": "2023-12-05T05:50:15.605309Z"
    }
   },
   "outputs": [
    {
     "data": {
      "text/plain": [
       "5.68"
      ]
     },
     "execution_count": 105,
     "metadata": {},
     "output_type": "execute_result"
    }
   ],
   "source": [
    "round(5.678, 2)"
   ]
  },
  {
   "cell_type": "code",
   "execution_count": 106,
   "id": "a3bd049d",
   "metadata": {
    "ExecuteTime": {
     "end_time": "2023-12-05T06:06:25.245029Z",
     "start_time": "2023-12-05T06:06:25.237936Z"
    }
   },
   "outputs": [
    {
     "data": {
      "text/plain": [
       "[1, 2, 3]"
      ]
     },
     "execution_count": 106,
     "metadata": {},
     "output_type": "execute_result"
    }
   ],
   "source": [
    "sorted([3, 1, 2])"
   ]
  },
  {
   "cell_type": "code",
   "execution_count": 107,
   "id": "abb08fca",
   "metadata": {
    "ExecuteTime": {
     "end_time": "2023-12-05T06:06:41.339304Z",
     "start_time": "2023-12-05T06:06:41.332953Z"
    }
   },
   "outputs": [
    {
     "data": {
      "text/plain": [
       "['a', 'b', 'c']"
      ]
     },
     "execution_count": 107,
     "metadata": {},
     "output_type": "execute_result"
    }
   ],
   "source": [
    "sorted(['a', 'c', 'b'])"
   ]
  },
  {
   "cell_type": "code",
   "execution_count": 110,
   "id": "56b00097",
   "metadata": {
    "ExecuteTime": {
     "end_time": "2023-12-05T06:07:41.722975Z",
     "start_time": "2023-12-05T06:07:41.716740Z"
    }
   },
   "outputs": [
    {
     "name": "stdout",
     "output_type": "stream",
     "text": [
      "None\n"
     ]
    }
   ],
   "source": [
    "a = [1, 4, 3, 2]\n",
    "a.sort()\n",
    "print(a.sort())"
   ]
  },
  {
   "cell_type": "code",
   "execution_count": 111,
   "id": "2105e30a",
   "metadata": {
    "ExecuteTime": {
     "end_time": "2023-12-05T06:07:44.538606Z",
     "start_time": "2023-12-05T06:07:44.533144Z"
    }
   },
   "outputs": [
    {
     "data": {
      "text/plain": [
       "[1, 2, 3, 4]"
      ]
     },
     "execution_count": 111,
     "metadata": {},
     "output_type": "execute_result"
    }
   ],
   "source": [
    "a"
   ]
  },
  {
   "cell_type": "code",
   "execution_count": 112,
   "id": "38095cd0",
   "metadata": {
    "ExecuteTime": {
     "end_time": "2023-12-05T06:08:34.379678Z",
     "start_time": "2023-12-05T06:08:34.372665Z"
    }
   },
   "outputs": [
    {
     "data": {
      "text/plain": [
       "6"
      ]
     },
     "execution_count": 112,
     "metadata": {},
     "output_type": "execute_result"
    }
   ],
   "source": [
    "sum([1, 2, 3])"
   ]
  },
  {
   "cell_type": "code",
   "execution_count": 113,
   "id": "104a7fca",
   "metadata": {
    "ExecuteTime": {
     "end_time": "2023-12-05T06:08:37.939647Z",
     "start_time": "2023-12-05T06:08:37.933802Z"
    }
   },
   "outputs": [
    {
     "data": {
      "text/plain": [
       "15"
      ]
     },
     "execution_count": 113,
     "metadata": {},
     "output_type": "execute_result"
    }
   ],
   "source": [
    "sum((4, 5, 6))"
   ]
  },
  {
   "cell_type": "code",
   "execution_count": 114,
   "id": "c881c7f5",
   "metadata": {
    "ExecuteTime": {
     "end_time": "2023-12-05T06:08:42.284489Z",
     "start_time": "2023-12-05T06:08:42.278206Z"
    }
   },
   "outputs": [
    {
     "data": {
      "text/plain": [
       "('a', 'b', 'c')"
      ]
     },
     "execution_count": 114,
     "metadata": {},
     "output_type": "execute_result"
    }
   ],
   "source": [
    "tuple('abc')"
   ]
  },
  {
   "cell_type": "code",
   "execution_count": 117,
   "id": "c2c90442",
   "metadata": {
    "ExecuteTime": {
     "end_time": "2023-12-05T06:08:59.707808Z",
     "start_time": "2023-12-05T06:08:59.701544Z"
    }
   },
   "outputs": [
    {
     "data": {
      "text/plain": [
       "(1, 2, 3)"
      ]
     },
     "execution_count": 117,
     "metadata": {},
     "output_type": "execute_result"
    }
   ],
   "source": [
    "tuple([1, 2, 3])"
   ]
  },
  {
   "cell_type": "code",
   "execution_count": 116,
   "id": "daea8b73",
   "metadata": {
    "ExecuteTime": {
     "end_time": "2023-12-05T06:08:54.524556Z",
     "start_time": "2023-12-05T06:08:54.518563Z"
    }
   },
   "outputs": [
    {
     "data": {
      "text/plain": [
       "(1, 2, 3)"
      ]
     },
     "execution_count": 116,
     "metadata": {},
     "output_type": "execute_result"
    }
   ],
   "source": [
    "tuple((1, 2, 3))"
   ]
  },
  {
   "cell_type": "code",
   "execution_count": 118,
   "id": "2dc809f6",
   "metadata": {
    "ExecuteTime": {
     "end_time": "2023-12-05T06:13:15.619830Z",
     "start_time": "2023-12-05T06:13:15.613094Z"
    }
   },
   "outputs": [
    {
     "data": {
      "text/plain": [
       "[(1, 4), (2, 5), (3, 6)]"
      ]
     },
     "execution_count": 118,
     "metadata": {},
     "output_type": "execute_result"
    }
   ],
   "source": [
    "list(zip([1, 2, 3], [4, 5, 6]))"
   ]
  },
  {
   "cell_type": "code",
   "execution_count": 119,
   "id": "3e5fe2d8",
   "metadata": {
    "ExecuteTime": {
     "end_time": "2023-12-05T06:13:27.092619Z",
     "start_time": "2023-12-05T06:13:27.086192Z"
    }
   },
   "outputs": [
    {
     "data": {
      "text/plain": [
       "[(1, 4, 7), (2, 5, 8), (3, 6, 9)]"
      ]
     },
     "execution_count": 119,
     "metadata": {},
     "output_type": "execute_result"
    }
   ],
   "source": [
    "list(zip([1, 2, 3], [4, 5, 6], [7, 8, 9]))"
   ]
  },
  {
   "cell_type": "code",
   "execution_count": 120,
   "id": "03758e8b",
   "metadata": {
    "ExecuteTime": {
     "end_time": "2023-12-05T06:13:34.003881Z",
     "start_time": "2023-12-05T06:13:33.997733Z"
    }
   },
   "outputs": [
    {
     "data": {
      "text/plain": [
       "[('a', 'd'), ('b', 'e'), ('c', 'f')]"
      ]
     },
     "execution_count": 120,
     "metadata": {},
     "output_type": "execute_result"
    }
   ],
   "source": [
    "list(zip('abc', 'def'))"
   ]
  },
  {
   "cell_type": "markdown",
   "id": "902d9446",
   "metadata": {},
   "source": [
    "# 표준 라이브러리"
   ]
  },
  {
   "cell_type": "code",
   "execution_count": 121,
   "id": "b4c05b08",
   "metadata": {
    "ExecuteTime": {
     "end_time": "2023-12-05T06:14:27.049824Z",
     "start_time": "2023-12-05T06:14:27.045407Z"
    }
   },
   "outputs": [],
   "source": [
    "import datetime\n",
    "day1 = datetime.date(2021, 12, 14)\n",
    "day2 = datetime.date(2023, 12, 5)"
   ]
  },
  {
   "cell_type": "code",
   "execution_count": 122,
   "id": "6abb673b",
   "metadata": {
    "ExecuteTime": {
     "end_time": "2023-12-05T06:14:34.058913Z",
     "start_time": "2023-12-05T06:14:34.052980Z"
    }
   },
   "outputs": [
    {
     "data": {
      "text/plain": [
       "datetime.date(2021, 12, 14)"
      ]
     },
     "execution_count": 122,
     "metadata": {},
     "output_type": "execute_result"
    }
   ],
   "source": [
    "day1"
   ]
  },
  {
   "cell_type": "code",
   "execution_count": 123,
   "id": "faff85d7",
   "metadata": {
    "ExecuteTime": {
     "end_time": "2023-12-05T06:14:43.165270Z",
     "start_time": "2023-12-05T06:14:43.157504Z"
    }
   },
   "outputs": [
    {
     "data": {
      "text/plain": [
       "721"
      ]
     },
     "execution_count": 123,
     "metadata": {},
     "output_type": "execute_result"
    }
   ],
   "source": [
    "diff = day2 - day1\n",
    "diff.days"
   ]
  },
  {
   "cell_type": "code",
   "execution_count": 124,
   "id": "2c72fe3e",
   "metadata": {
    "ExecuteTime": {
     "end_time": "2023-12-05T06:15:46.267589Z",
     "start_time": "2023-12-05T06:15:46.260778Z"
    }
   },
   "outputs": [
    {
     "data": {
      "text/plain": [
       "1"
      ]
     },
     "execution_count": 124,
     "metadata": {},
     "output_type": "execute_result"
    }
   ],
   "source": [
    "day = datetime.date(2023, 12, 5)\n",
    "day.weekday() # 얘는 일요일부터 1"
   ]
  },
  {
   "cell_type": "code",
   "execution_count": 125,
   "id": "8be59393",
   "metadata": {
    "ExecuteTime": {
     "end_time": "2023-12-05T06:16:03.258136Z",
     "start_time": "2023-12-05T06:16:03.252826Z"
    }
   },
   "outputs": [
    {
     "name": "stdout",
     "output_type": "stream",
     "text": [
      "Object `weekday` not found.\n"
     ]
    }
   ],
   "source": [
    "weekday?"
   ]
  },
  {
   "cell_type": "code",
   "execution_count": 126,
   "id": "076b2108",
   "metadata": {
    "ExecuteTime": {
     "end_time": "2023-12-05T06:16:09.115408Z",
     "start_time": "2023-12-05T06:16:09.111143Z"
    }
   },
   "outputs": [],
   "source": [
    "day.weekday? "
   ]
  },
  {
   "cell_type": "code",
   "execution_count": 127,
   "id": "6275490b",
   "metadata": {
    "ExecuteTime": {
     "end_time": "2023-12-05T06:16:42.867395Z",
     "start_time": "2023-12-05T06:16:42.861120Z"
    }
   },
   "outputs": [
    {
     "data": {
      "text/plain": [
       "2"
      ]
     },
     "execution_count": 127,
     "metadata": {},
     "output_type": "execute_result"
    }
   ],
   "source": [
    "day.isoweekday() #얘는 월요일부터 1"
   ]
  },
  {
   "cell_type": "code",
   "execution_count": 128,
   "id": "09ee4e43",
   "metadata": {
    "ExecuteTime": {
     "end_time": "2023-12-05T06:17:17.244113Z",
     "start_time": "2023-12-05T06:17:17.237233Z"
    }
   },
   "outputs": [
    {
     "data": {
      "text/plain": [
       "1701757037.2402349"
      ]
     },
     "execution_count": 128,
     "metadata": {},
     "output_type": "execute_result"
    }
   ],
   "source": [
    "import time\n",
    "time.time()"
   ]
  },
  {
   "cell_type": "code",
   "execution_count": 129,
   "id": "63f79696",
   "metadata": {
    "ExecuteTime": {
     "end_time": "2023-12-05T06:18:26.187565Z",
     "start_time": "2023-12-05T06:18:26.181890Z"
    }
   },
   "outputs": [
    {
     "data": {
      "text/plain": [
       "time.struct_time(tm_year=2023, tm_mon=12, tm_mday=5, tm_hour=15, tm_min=18, tm_sec=26, tm_wday=1, tm_yday=339, tm_isdst=0)"
      ]
     },
     "execution_count": 129,
     "metadata": {},
     "output_type": "execute_result"
    }
   ],
   "source": [
    "time.localtime(time.time())"
   ]
  },
  {
   "cell_type": "code",
   "execution_count": 131,
   "id": "9815bdc9",
   "metadata": {
    "ExecuteTime": {
     "end_time": "2023-12-05T06:19:09.267317Z",
     "start_time": "2023-12-05T06:19:09.261018Z"
    }
   },
   "outputs": [
    {
     "data": {
      "text/plain": [
       "15"
      ]
     },
     "execution_count": 131,
     "metadata": {},
     "output_type": "execute_result"
    }
   ],
   "source": [
    "time.localtime(time.time()).tm_hour"
   ]
  },
  {
   "cell_type": "code",
   "execution_count": 133,
   "id": "b48ca0f8",
   "metadata": {
    "ExecuteTime": {
     "end_time": "2023-12-05T06:19:46.322775Z",
     "start_time": "2023-12-05T06:19:46.316988Z"
    }
   },
   "outputs": [
    {
     "data": {
      "text/plain": [
       "'Tue Dec  5 15:19:46 2023'"
      ]
     },
     "execution_count": 133,
     "metadata": {},
     "output_type": "execute_result"
    }
   ],
   "source": [
    "time.asctime(time.localtime(time.time()))"
   ]
  },
  {
   "cell_type": "code",
   "execution_count": 134,
   "id": "c0a10425",
   "metadata": {
    "ExecuteTime": {
     "end_time": "2023-12-05T06:19:57.482985Z",
     "start_time": "2023-12-05T06:19:57.476498Z"
    }
   },
   "outputs": [
    {
     "data": {
      "text/plain": [
       "'Tue Dec  5 15:19:57 2023'"
      ]
     },
     "execution_count": 134,
     "metadata": {},
     "output_type": "execute_result"
    }
   ],
   "source": [
    "time.ctime()"
   ]
  },
  {
   "cell_type": "code",
   "execution_count": 135,
   "id": "546e8cf9",
   "metadata": {
    "ExecuteTime": {
     "end_time": "2023-12-05T06:21:43.532254Z",
     "start_time": "2023-12-05T06:21:43.525908Z"
    }
   },
   "outputs": [
    {
     "data": {
      "text/plain": [
       "'출력할 형식 포맷 코드'"
      ]
     },
     "execution_count": 135,
     "metadata": {},
     "output_type": "execute_result"
    }
   ],
   "source": [
    "time.strftime('출력할 형식 포맷 코드', time.localtime(time.time()))"
   ]
  },
  {
   "cell_type": "code",
   "execution_count": 136,
   "id": "1a5569b0",
   "metadata": {
    "ExecuteTime": {
     "end_time": "2023-12-05T06:22:05.027783Z",
     "start_time": "2023-12-05T06:22:05.021061Z"
    }
   },
   "outputs": [
    {
     "data": {
      "text/plain": [
       "'12/05/23'"
      ]
     },
     "execution_count": 136,
     "metadata": {},
     "output_type": "execute_result"
    }
   ],
   "source": [
    "time.strftime('%x', time.localtime(time.time()))"
   ]
  },
  {
   "cell_type": "code",
   "execution_count": 137,
   "id": "76a31c81",
   "metadata": {
    "ExecuteTime": {
     "end_time": "2023-12-05T06:22:26.755242Z",
     "start_time": "2023-12-05T06:22:26.749723Z"
    }
   },
   "outputs": [
    {
     "data": {
      "text/plain": [
       "'Tue Dec  5 15:22:26 2023'"
      ]
     },
     "execution_count": 137,
     "metadata": {},
     "output_type": "execute_result"
    }
   ],
   "source": [
    "time.strftime('%c', time.localtime(time.time()))"
   ]
  },
  {
   "cell_type": "code",
   "execution_count": 1,
   "id": "32d4419d",
   "metadata": {
    "ExecuteTime": {
     "end_time": "2023-12-05T12:17:06.980635Z",
     "start_time": "2023-12-05T12:17:06.972738Z"
    }
   },
   "outputs": [
    {
     "name": "stdout",
     "output_type": "stream",
     "text": [
      "Object `time.strftime` not found.\n"
     ]
    }
   ],
   "source": [
    "time.strftime?"
   ]
  },
  {
   "cell_type": "code",
   "execution_count": 139,
   "id": "09e2f910",
   "metadata": {
    "ExecuteTime": {
     "end_time": "2023-12-05T06:24:37.101888Z",
     "start_time": "2023-12-05T06:24:27.093223Z"
    }
   },
   "outputs": [
    {
     "name": "stdout",
     "output_type": "stream",
     "text": [
      "0\n",
      "1\n",
      "2\n",
      "3\n",
      "4\n",
      "5\n",
      "6\n",
      "7\n",
      "8\n",
      "9\n"
     ]
    }
   ],
   "source": [
    "for i in range(10) :\n",
    "    print(i)\n",
    "    time.sleep(1)"
   ]
  },
  {
   "cell_type": "code",
   "execution_count": 140,
   "id": "a6f4541b",
   "metadata": {
    "ExecuteTime": {
     "end_time": "2023-12-05T06:25:28.258476Z",
     "start_time": "2023-12-05T06:25:28.252125Z"
    }
   },
   "outputs": [
    {
     "data": {
      "text/plain": [
       "time.struct_time(tm_year=2023, tm_mon=12, tm_mday=5, tm_hour=15, tm_min=25, tm_sec=28, tm_wday=1, tm_yday=339, tm_isdst=0)"
      ]
     },
     "execution_count": 140,
     "metadata": {},
     "output_type": "execute_result"
    }
   ],
   "source": [
    "time.localtime()"
   ]
  },
  {
   "cell_type": "code",
   "execution_count": 141,
   "id": "e72a30bc",
   "metadata": {
    "ExecuteTime": {
     "end_time": "2023-12-05T06:25:33.258277Z",
     "start_time": "2023-12-05T06:25:33.252812Z"
    }
   },
   "outputs": [
    {
     "data": {
      "text/plain": [
       "'Tue Dec  5 15:25:33 2023'"
      ]
     },
     "execution_count": 141,
     "metadata": {},
     "output_type": "execute_result"
    }
   ],
   "source": [
    "time.asctime()"
   ]
  },
  {
   "cell_type": "code",
   "execution_count": 142,
   "id": "d037da59",
   "metadata": {
    "ExecuteTime": {
     "end_time": "2023-12-05T06:25:37.426072Z",
     "start_time": "2023-12-05T06:25:37.419701Z"
    }
   },
   "outputs": [
    {
     "data": {
      "text/plain": [
       "'Tue Dec  5 15:25:37 2023'"
      ]
     },
     "execution_count": 142,
     "metadata": {},
     "output_type": "execute_result"
    }
   ],
   "source": [
    "time.strftime('%c')"
   ]
  },
  {
   "cell_type": "code",
   "execution_count": 143,
   "id": "58db43ba",
   "metadata": {
    "ExecuteTime": {
     "end_time": "2023-12-05T06:29:10.218467Z",
     "start_time": "2023-12-05T06:29:10.212822Z"
    }
   },
   "outputs": [
    {
     "data": {
      "text/plain": [
       "0.6636070955048123"
      ]
     },
     "execution_count": 143,
     "metadata": {},
     "output_type": "execute_result"
    }
   ],
   "source": [
    "import random\n",
    "random.random()"
   ]
  },
  {
   "cell_type": "code",
   "execution_count": 144,
   "id": "1fdb1c11",
   "metadata": {
    "ExecuteTime": {
     "end_time": "2023-12-05T06:29:17.971418Z",
     "start_time": "2023-12-05T06:29:17.964833Z"
    }
   },
   "outputs": [
    {
     "data": {
      "text/plain": [
       "47"
      ]
     },
     "execution_count": 144,
     "metadata": {},
     "output_type": "execute_result"
    }
   ],
   "source": [
    "random.randint(1, 55)"
   ]
  },
  {
   "cell_type": "code",
   "execution_count": 145,
   "id": "4950e076",
   "metadata": {
    "ExecuteTime": {
     "end_time": "2023-12-05T06:30:03.371525Z",
     "start_time": "2023-12-05T06:30:03.364077Z"
    }
   },
   "outputs": [
    {
     "name": "stdout",
     "output_type": "stream",
     "text": [
      "4\n",
      "3\n",
      "1\n",
      "2\n",
      "5\n"
     ]
    }
   ],
   "source": [
    "def random_pop(data) :\n",
    "    number = random.randint(0, len(data)-1)\n",
    "    return data.pop(number)\n",
    "\n",
    "if __name__ == '__main__' :  \n",
    "    data = [1, 2, 3, 4, 5]\n",
    "    while data :\n",
    "        print(random_pop(data))"
   ]
  },
  {
   "cell_type": "code",
   "execution_count": 146,
   "id": "e0e25017",
   "metadata": {
    "ExecuteTime": {
     "end_time": "2023-12-05T06:33:19.321418Z",
     "start_time": "2023-12-05T06:33:19.316846Z"
    }
   },
   "outputs": [],
   "source": [
    "def random_pop(data) :\n",
    "    number = random.choice(data)\n",
    "    data.remove(number)\n",
    "    return number"
   ]
  },
  {
   "cell_type": "code",
   "execution_count": 147,
   "id": "0938cd60",
   "metadata": {
    "ExecuteTime": {
     "end_time": "2023-12-05T06:33:47.419534Z",
     "start_time": "2023-12-05T06:33:47.412740Z"
    }
   },
   "outputs": [
    {
     "data": {
      "text/plain": [
       "[4, 2, 5, 3, 1]"
      ]
     },
     "execution_count": 147,
     "metadata": {},
     "output_type": "execute_result"
    }
   ],
   "source": [
    "data = [1, 2, 3, 4, 5]\n",
    "random.sample(data, len(data))"
   ]
  },
  {
   "cell_type": "code",
   "execution_count": 148,
   "id": "906014a4",
   "metadata": {
    "ExecuteTime": {
     "end_time": "2023-12-05T06:38:18.042461Z",
     "start_time": "2023-12-05T06:38:18.035505Z"
    }
   },
   "outputs": [
    {
     "data": {
      "text/plain": [
       "['C:\\\\workspace\\\\python\\\\wassup']"
      ]
     },
     "execution_count": 148,
     "metadata": {},
     "output_type": "execute_result"
    }
   ],
   "source": [
    "import glob\n",
    "glob.glob('C:\\workspace\\python\\wassup')"
   ]
  },
  {
   "cell_type": "code",
   "execution_count": 150,
   "id": "99f25fe1",
   "metadata": {
    "ExecuteTime": {
     "end_time": "2023-12-05T06:38:41.282434Z",
     "start_time": "2023-12-05T06:38:41.275892Z"
    }
   },
   "outputs": [
    {
     "data": {
      "text/plain": [
       "['C:\\\\workspace\\\\python\\\\wassup\\\\00_마크다운_실습용.ipynb',\n",
       " 'C:\\\\workspace\\\\python\\\\wassup\\\\01_자료형&변수_연습문제_실습용.ipynb',\n",
       " 'C:\\\\workspace\\\\python\\\\wassup\\\\01_자료형과 변수.ipynb',\n",
       " 'C:\\\\workspace\\\\python\\\\wassup\\\\02_제어문_연습문제_실습용.ipynb',\n",
       " 'C:\\\\workspace\\\\python\\\\wassup\\\\03_코딩연습_전화번호프로그램_실습용.ipynb',\n",
       " 'C:\\\\workspace\\\\python\\\\wassup\\\\04_함수&입출력_연습문제.ipynb',\n",
       " 'C:\\\\workspace\\\\python\\\\wassup\\\\231127_자료형과 변수.ipynb',\n",
       " 'C:\\\\workspace\\\\python\\\\wassup\\\\231128~29_제어문.ipynb',\n",
       " 'C:\\\\workspace\\\\python\\\\wassup\\\\231130_함수.ipynb',\n",
       " 'C:\\\\workspace\\\\python\\\\wassup\\\\231204_입출력, 클래스.ipynb',\n",
       " 'C:\\\\workspace\\\\python\\\\wassup\\\\99_초보자를 위한 파이썬 300제(~240제까지).ipynb',\n",
       " 'C:\\\\workspace\\\\python\\\\wassup\\\\coffee.py',\n",
       " 'C:\\\\workspace\\\\python\\\\wassup\\\\foo.txt',\n",
       " 'C:\\\\workspace\\\\python\\\\wassup\\\\phone.py',\n",
       " 'C:\\\\workspace\\\\python\\\\wassup\\\\README.md',\n",
       " 'C:\\\\workspace\\\\python\\\\wassup\\\\test.txt',\n",
       " 'C:\\\\workspace\\\\python\\\\wassup\\\\test1.txt',\n",
       " 'C:\\\\workspace\\\\python\\\\wassup\\\\새파일.txt',\n",
       " 'C:\\\\workspace\\\\python\\\\wassup\\\\새파일2.txt',\n",
       " 'C:\\\\workspace\\\\python\\\\wassup\\\\새파일3.txt',\n",
       " 'C:\\\\workspace\\\\python\\\\wassup\\\\프로그래머스']"
      ]
     },
     "execution_count": 150,
     "metadata": {},
     "output_type": "execute_result"
    }
   ],
   "source": [
    "glob.glob('C:\\workspace\\python\\wassup\\*')"
   ]
  },
  {
   "cell_type": "code",
   "execution_count": 153,
   "id": "db938d2b",
   "metadata": {
    "ExecuteTime": {
     "end_time": "2023-12-05T06:40:07.474943Z",
     "start_time": "2023-12-05T06:40:07.467570Z"
    }
   },
   "outputs": [
    {
     "data": {
      "text/plain": [
       "['C:\\\\workspace\\\\python\\\\wassup\\\\00_마크다운_실습용.ipynb',\n",
       " 'C:\\\\workspace\\\\python\\\\wassup\\\\01_자료형&변수_연습문제_실습용.ipynb',\n",
       " 'C:\\\\workspace\\\\python\\\\wassup\\\\01_자료형과 변수.ipynb',\n",
       " 'C:\\\\workspace\\\\python\\\\wassup\\\\02_제어문_연습문제_실습용.ipynb',\n",
       " 'C:\\\\workspace\\\\python\\\\wassup\\\\03_코딩연습_전화번호프로그램_실습용.ipynb',\n",
       " 'C:\\\\workspace\\\\python\\\\wassup\\\\04_함수&입출력_연습문제.ipynb',\n",
       " 'C:\\\\workspace\\\\python\\\\wassup\\\\231127_자료형과 변수.ipynb',\n",
       " 'C:\\\\workspace\\\\python\\\\wassup\\\\231128~29_제어문.ipynb',\n",
       " 'C:\\\\workspace\\\\python\\\\wassup\\\\231130_함수.ipynb',\n",
       " 'C:\\\\workspace\\\\python\\\\wassup\\\\231204_입출력, 클래스.ipynb',\n",
       " 'C:\\\\workspace\\\\python\\\\wassup\\\\99_초보자를 위한 파이썬 300제(~240제까지).ipynb']"
      ]
     },
     "execution_count": 153,
     "metadata": {},
     "output_type": "execute_result"
    }
   ],
   "source": [
    "a = glob.glob('C:\\workspace\\python\\wassup\\*.ipynb')\n",
    "a"
   ]
  },
  {
   "cell_type": "code",
   "execution_count": 154,
   "id": "a615b8ab",
   "metadata": {
    "ExecuteTime": {
     "end_time": "2023-12-05T06:40:14.897097Z",
     "start_time": "2023-12-05T06:40:14.891266Z"
    }
   },
   "outputs": [
    {
     "data": {
      "text/plain": [
       "'C:\\\\workspace\\\\python\\\\wassup\\\\00_마크다운_실습용.ipynb'"
      ]
     },
     "execution_count": 154,
     "metadata": {},
     "output_type": "execute_result"
    }
   ],
   "source": [
    "a[0]"
   ]
  },
  {
   "cell_type": "code",
   "execution_count": 157,
   "id": "f275d9ef",
   "metadata": {
    "ExecuteTime": {
     "end_time": "2023-12-05T06:41:16.609195Z",
     "start_time": "2023-12-05T06:41:16.603122Z"
    }
   },
   "outputs": [
    {
     "data": {
      "text/plain": [
       "['C:\\\\workspace\\\\python\\\\wassup\\\\00_마크다운_실습용', 'ipynb']"
      ]
     },
     "execution_count": 157,
     "metadata": {},
     "output_type": "execute_result"
    }
   ],
   "source": [
    "b = a[0].split('.')\n",
    "b"
   ]
  },
  {
   "cell_type": "code",
   "execution_count": 160,
   "id": "88056836",
   "metadata": {
    "ExecuteTime": {
     "end_time": "2023-12-05T06:41:58.626041Z",
     "start_time": "2023-12-05T06:41:58.619429Z"
    }
   },
   "outputs": [
    {
     "data": {
      "text/plain": [
       "['C:', 'workspace', 'python', 'wassup', '00_마크다운_실습용']"
      ]
     },
     "execution_count": 160,
     "metadata": {},
     "output_type": "execute_result"
    }
   ],
   "source": [
    "c = b[0].split('\\\\')\n",
    "c"
   ]
  },
  {
   "cell_type": "code",
   "execution_count": 161,
   "id": "fcfc7170",
   "metadata": {
    "ExecuteTime": {
     "end_time": "2023-12-05T06:42:02.057449Z",
     "start_time": "2023-12-05T06:42:02.051872Z"
    }
   },
   "outputs": [
    {
     "data": {
      "text/plain": [
       "'00_마크다운_실습용'"
      ]
     },
     "execution_count": 161,
     "metadata": {},
     "output_type": "execute_result"
    }
   ],
   "source": [
    "c[-1]"
   ]
  },
  {
   "cell_type": "code",
   "execution_count": 187,
   "id": "37312551",
   "metadata": {
    "ExecuteTime": {
     "end_time": "2023-12-05T07:03:50.538044Z",
     "start_time": "2023-12-05T07:03:50.532045Z"
    }
   },
   "outputs": [
    {
     "name": "stdout",
     "output_type": "stream",
     "text": [
      "00_마크다운_실습용\n",
      "01_자료형&변수_연습문제_실습용\n",
      "01_자료형과 변수\n",
      "02_제어문_연습문제_실습용\n",
      "03_코딩연습_전화번호프로그램_실습용\n",
      "04_함수&입출력_연습문제\n",
      "231127_자료형과 변수\n",
      "231128~29_제어문\n",
      "231130_함수\n",
      "231204_입출력, 클래스\n",
      "99_초보자를 위한 파이썬 300제(~240제까지)\n"
     ]
    }
   ],
   "source": [
    "a = glob.glob('C:\\workspace\\python\\wassup\\*.ipynb')\n",
    "\n",
    "for i in range(len(a)) :\n",
    "    b = a[i].split('.')\n",
    "    c = b[0].split('\\\\')\n",
    "    print(c[-1])"
   ]
  },
  {
   "cell_type": "code",
   "execution_count": 188,
   "id": "20a5090e",
   "metadata": {
    "ExecuteTime": {
     "end_time": "2023-12-05T07:03:56.429862Z",
     "start_time": "2023-12-05T07:03:56.425787Z"
    },
    "scrolled": true
   },
   "outputs": [],
   "source": [
    "#import os\n",
    "#os.environ"
   ]
  },
  {
   "cell_type": "code",
   "execution_count": 184,
   "id": "4abaadc4",
   "metadata": {
    "ExecuteTime": {
     "end_time": "2023-12-05T06:50:04.937686Z",
     "start_time": "2023-12-05T06:50:04.931756Z"
    }
   },
   "outputs": [
    {
     "data": {
      "text/plain": [
       "'C:\\\\workspace\\\\python\\\\wassup'"
      ]
     },
     "execution_count": 184,
     "metadata": {},
     "output_type": "execute_result"
    }
   ],
   "source": [
    "os.getcwd()"
   ]
  },
  {
   "cell_type": "code",
   "execution_count": null,
   "id": "dfe81ebc",
   "metadata": {},
   "outputs": [],
   "source": [
    "class Family :\n",
    "    lastname = '김'\n",
    "    \n",
    "father = Family()\n",
    "mother = Family()\n",
    "father.lastname = '피'\n",
    "Family.lastname = '박'\n",
    "print(father.lastname)"
   ]
  }
 ],
 "metadata": {
  "kernelspec": {
   "display_name": "Python 3 (ipykernel)",
   "language": "python",
   "name": "python3"
  },
  "language_info": {
   "codemirror_mode": {
    "name": "ipython",
    "version": 3
   },
   "file_extension": ".py",
   "mimetype": "text/x-python",
   "name": "python",
   "nbconvert_exporter": "python",
   "pygments_lexer": "ipython3",
   "version": "3.11.5"
  },
  "toc": {
   "base_numbering": 1,
   "nav_menu": {},
   "number_sections": true,
   "sideBar": true,
   "skip_h1_title": false,
   "title_cell": "Table of Contents",
   "title_sidebar": "Contents",
   "toc_cell": false,
   "toc_position": {},
   "toc_section_display": true,
   "toc_window_display": false
  }
 },
 "nbformat": 4,
 "nbformat_minor": 5
}
