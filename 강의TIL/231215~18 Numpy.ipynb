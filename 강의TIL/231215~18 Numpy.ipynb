{
 "cells": [
  {
   "cell_type": "code",
   "execution_count": 1,
   "id": "f9b46276",
   "metadata": {
    "ExecuteTime": {
     "end_time": "2023-12-14T06:09:44.973000Z",
     "start_time": "2023-12-14T06:09:44.962048Z"
    }
   },
   "outputs": [
    {
     "name": "stderr",
     "output_type": "stream",
     "text": [
      "C:\\Users\\USER\\AppData\\Local\\Temp\\ipykernel_10104\\2108606501.py:2: DeprecationWarning: Importing display from IPython.core.display is deprecated since IPython 7.14, please import from IPython display\n",
      "  from IPython.core.display import display, HTML\n"
     ]
    },
    {
     "data": {
      "text/html": [
       "<style>.container { width: 100% !important; }</style>"
      ],
      "text/plain": [
       "<IPython.core.display.HTML object>"
      ]
     },
     "metadata": {},
     "output_type": "display_data"
    }
   ],
   "source": [
    "# 주피터노트북 셀 스타일 조절\n",
    "from IPython.core.display import display, HTML\n",
    "# display(HTML(\"<style>.container { font-weight: bold !important; }</style>\"))\n",
    "display(HTML(\"<style>.container { width: 100% !important; }</style>\"))"
   ]
  },
  {
   "cell_type": "code",
   "execution_count": 2,
   "id": "ee372be5",
   "metadata": {
    "ExecuteTime": {
     "end_time": "2023-12-14T10:53:52.885065Z",
     "start_time": "2023-12-14T10:53:52.635628Z"
    }
   },
   "outputs": [
    {
     "data": {
      "text/plain": [
       "'1.24.3'"
      ]
     },
     "execution_count": 2,
     "metadata": {},
     "output_type": "execute_result"
    }
   ],
   "source": [
    "import numpy as np\n",
    "np.__version__"
   ]
  },
  {
   "cell_type": "code",
   "execution_count": 3,
   "id": "f383f8f3",
   "metadata": {
    "ExecuteTime": {
     "end_time": "2023-12-14T06:16:06.646074Z",
     "start_time": "2023-12-14T06:16:06.630483Z"
    },
    "collapsed": true
   },
   "outputs": [
    {
     "data": {
      "text/plain": [
       "['ALLOW_THREADS',\n",
       " 'AxisError',\n",
       " 'BUFSIZE',\n",
       " 'CLIP',\n",
       " 'ComplexWarning',\n",
       " 'DataSource',\n",
       " 'ERR_CALL',\n",
       " 'ERR_DEFAULT',\n",
       " 'ERR_IGNORE',\n",
       " 'ERR_LOG',\n",
       " 'ERR_PRINT',\n",
       " 'ERR_RAISE',\n",
       " 'ERR_WARN',\n",
       " 'FLOATING_POINT_SUPPORT',\n",
       " 'FPE_DIVIDEBYZERO',\n",
       " 'FPE_INVALID',\n",
       " 'FPE_OVERFLOW',\n",
       " 'FPE_UNDERFLOW',\n",
       " 'False_',\n",
       " 'Inf',\n",
       " 'Infinity',\n",
       " 'MAXDIMS',\n",
       " 'MAY_SHARE_BOUNDS',\n",
       " 'MAY_SHARE_EXACT',\n",
       " 'ModuleDeprecationWarning',\n",
       " 'NAN',\n",
       " 'NINF',\n",
       " 'NZERO',\n",
       " 'NaN',\n",
       " 'PINF',\n",
       " 'PZERO',\n",
       " 'RAISE',\n",
       " 'RankWarning',\n",
       " 'SHIFT_DIVIDEBYZERO',\n",
       " 'SHIFT_INVALID',\n",
       " 'SHIFT_OVERFLOW',\n",
       " 'SHIFT_UNDERFLOW',\n",
       " 'ScalarType',\n",
       " 'Tester',\n",
       " 'TooHardError',\n",
       " 'True_',\n",
       " 'UFUNC_BUFSIZE_DEFAULT',\n",
       " 'UFUNC_PYVALS_NAME',\n",
       " 'VisibleDeprecationWarning',\n",
       " 'WRAP',\n",
       " '_CopyMode',\n",
       " '_NoValue',\n",
       " '_UFUNC_API',\n",
       " '__NUMPY_SETUP__',\n",
       " '__all__',\n",
       " '__builtins__',\n",
       " '__cached__',\n",
       " '__config__',\n",
       " '__deprecated_attrs__',\n",
       " '__dir__',\n",
       " '__doc__',\n",
       " '__expired_functions__',\n",
       " '__file__',\n",
       " '__former_attrs__',\n",
       " '__future_scalars__',\n",
       " '__getattr__',\n",
       " '__git_version__',\n",
       " '__loader__',\n",
       " '__mkl_version__',\n",
       " '__name__',\n",
       " '__package__',\n",
       " '__path__',\n",
       " '__spec__',\n",
       " '__version__',\n",
       " '_add_newdoc_ufunc',\n",
       " '_builtins',\n",
       " '_distributor_init',\n",
       " '_financial_names',\n",
       " '_get_promotion_state',\n",
       " '_globals',\n",
       " '_int_extended_msg',\n",
       " '_mat',\n",
       " '_no_nep50_warning',\n",
       " '_pyinstaller_hooks_dir',\n",
       " '_pytesttester',\n",
       " '_set_promotion_state',\n",
       " '_specific_msg',\n",
       " '_version',\n",
       " 'abs',\n",
       " 'absolute',\n",
       " 'add',\n",
       " 'add_docstring',\n",
       " 'add_newdoc',\n",
       " 'add_newdoc_ufunc',\n",
       " 'all',\n",
       " 'allclose',\n",
       " 'alltrue',\n",
       " 'amax',\n",
       " 'amin',\n",
       " 'angle',\n",
       " 'any',\n",
       " 'append',\n",
       " 'apply_along_axis',\n",
       " 'apply_over_axes',\n",
       " 'arange',\n",
       " 'arccos',\n",
       " 'arccosh',\n",
       " 'arcsin',\n",
       " 'arcsinh',\n",
       " 'arctan',\n",
       " 'arctan2',\n",
       " 'arctanh',\n",
       " 'argmax',\n",
       " 'argmin',\n",
       " 'argpartition',\n",
       " 'argsort',\n",
       " 'argwhere',\n",
       " 'around',\n",
       " 'array',\n",
       " 'array2string',\n",
       " 'array_equal',\n",
       " 'array_equiv',\n",
       " 'array_repr',\n",
       " 'array_split',\n",
       " 'array_str',\n",
       " 'asanyarray',\n",
       " 'asarray',\n",
       " 'asarray_chkfinite',\n",
       " 'ascontiguousarray',\n",
       " 'asfarray',\n",
       " 'asfortranarray',\n",
       " 'asmatrix',\n",
       " 'atleast_1d',\n",
       " 'atleast_2d',\n",
       " 'atleast_3d',\n",
       " 'average',\n",
       " 'bartlett',\n",
       " 'base_repr',\n",
       " 'binary_repr',\n",
       " 'bincount',\n",
       " 'bitwise_and',\n",
       " 'bitwise_not',\n",
       " 'bitwise_or',\n",
       " 'bitwise_xor',\n",
       " 'blackman',\n",
       " 'block',\n",
       " 'bmat',\n",
       " 'bool_',\n",
       " 'broadcast',\n",
       " 'broadcast_arrays',\n",
       " 'broadcast_shapes',\n",
       " 'broadcast_to',\n",
       " 'busday_count',\n",
       " 'busday_offset',\n",
       " 'busdaycalendar',\n",
       " 'byte',\n",
       " 'byte_bounds',\n",
       " 'bytes_',\n",
       " 'c_',\n",
       " 'can_cast',\n",
       " 'cast',\n",
       " 'cbrt',\n",
       " 'cdouble',\n",
       " 'ceil',\n",
       " 'cfloat',\n",
       " 'char',\n",
       " 'character',\n",
       " 'chararray',\n",
       " 'choose',\n",
       " 'clip',\n",
       " 'clongdouble',\n",
       " 'clongfloat',\n",
       " 'column_stack',\n",
       " 'common_type',\n",
       " 'compare_chararrays',\n",
       " 'compat',\n",
       " 'complex128',\n",
       " 'complex64',\n",
       " 'complex_',\n",
       " 'complexfloating',\n",
       " 'compress',\n",
       " 'concatenate',\n",
       " 'conj',\n",
       " 'conjugate',\n",
       " 'convolve',\n",
       " 'copy',\n",
       " 'copysign',\n",
       " 'copyto',\n",
       " 'corrcoef',\n",
       " 'correlate',\n",
       " 'cos',\n",
       " 'cosh',\n",
       " 'count_nonzero',\n",
       " 'cov',\n",
       " 'cross',\n",
       " 'csingle',\n",
       " 'ctypeslib',\n",
       " 'cumprod',\n",
       " 'cumproduct',\n",
       " 'cumsum',\n",
       " 'datetime64',\n",
       " 'datetime_as_string',\n",
       " 'datetime_data',\n",
       " 'deg2rad',\n",
       " 'degrees',\n",
       " 'delete',\n",
       " 'deprecate',\n",
       " 'deprecate_with_doc',\n",
       " 'diag',\n",
       " 'diag_indices',\n",
       " 'diag_indices_from',\n",
       " 'diagflat',\n",
       " 'diagonal',\n",
       " 'diff',\n",
       " 'digitize',\n",
       " 'disp',\n",
       " 'divide',\n",
       " 'divmod',\n",
       " 'dot',\n",
       " 'double',\n",
       " 'dsplit',\n",
       " 'dstack',\n",
       " 'dtype',\n",
       " 'e',\n",
       " 'ediff1d',\n",
       " 'einsum',\n",
       " 'einsum_path',\n",
       " 'emath',\n",
       " 'empty',\n",
       " 'empty_like',\n",
       " 'equal',\n",
       " 'errstate',\n",
       " 'euler_gamma',\n",
       " 'exp',\n",
       " 'exp2',\n",
       " 'expand_dims',\n",
       " 'expm1',\n",
       " 'extract',\n",
       " 'eye',\n",
       " 'fabs',\n",
       " 'fastCopyAndTranspose',\n",
       " 'fft',\n",
       " 'fill_diagonal',\n",
       " 'find_common_type',\n",
       " 'finfo',\n",
       " 'fix',\n",
       " 'flatiter',\n",
       " 'flatnonzero',\n",
       " 'flexible',\n",
       " 'flip',\n",
       " 'fliplr',\n",
       " 'flipud',\n",
       " 'float16',\n",
       " 'float32',\n",
       " 'float64',\n",
       " 'float_',\n",
       " 'float_power',\n",
       " 'floating',\n",
       " 'floor',\n",
       " 'floor_divide',\n",
       " 'fmax',\n",
       " 'fmin',\n",
       " 'fmod',\n",
       " 'format_float_positional',\n",
       " 'format_float_scientific',\n",
       " 'format_parser',\n",
       " 'frexp',\n",
       " 'from_dlpack',\n",
       " 'frombuffer',\n",
       " 'fromfile',\n",
       " 'fromfunction',\n",
       " 'fromiter',\n",
       " 'frompyfunc',\n",
       " 'fromregex',\n",
       " 'fromstring',\n",
       " 'full',\n",
       " 'full_like',\n",
       " 'gcd',\n",
       " 'generic',\n",
       " 'genfromtxt',\n",
       " 'geomspace',\n",
       " 'get_array_wrap',\n",
       " 'get_include',\n",
       " 'get_printoptions',\n",
       " 'getbufsize',\n",
       " 'geterr',\n",
       " 'geterrcall',\n",
       " 'geterrobj',\n",
       " 'gradient',\n",
       " 'greater',\n",
       " 'greater_equal',\n",
       " 'half',\n",
       " 'hamming',\n",
       " 'hanning',\n",
       " 'heaviside',\n",
       " 'histogram',\n",
       " 'histogram2d',\n",
       " 'histogram_bin_edges',\n",
       " 'histogramdd',\n",
       " 'hsplit',\n",
       " 'hstack',\n",
       " 'hypot',\n",
       " 'i0',\n",
       " 'identity',\n",
       " 'iinfo',\n",
       " 'imag',\n",
       " 'in1d',\n",
       " 'index_exp',\n",
       " 'indices',\n",
       " 'inexact',\n",
       " 'inf',\n",
       " 'info',\n",
       " 'infty',\n",
       " 'inner',\n",
       " 'insert',\n",
       " 'int16',\n",
       " 'int32',\n",
       " 'int64',\n",
       " 'int8',\n",
       " 'int_',\n",
       " 'intc',\n",
       " 'integer',\n",
       " 'interp',\n",
       " 'intersect1d',\n",
       " 'intp',\n",
       " 'invert',\n",
       " 'is_busday',\n",
       " 'isclose',\n",
       " 'iscomplex',\n",
       " 'iscomplexobj',\n",
       " 'isfinite',\n",
       " 'isfortran',\n",
       " 'isin',\n",
       " 'isinf',\n",
       " 'isnan',\n",
       " 'isnat',\n",
       " 'isneginf',\n",
       " 'isposinf',\n",
       " 'isreal',\n",
       " 'isrealobj',\n",
       " 'isscalar',\n",
       " 'issctype',\n",
       " 'issubclass_',\n",
       " 'issubdtype',\n",
       " 'issubsctype',\n",
       " 'iterable',\n",
       " 'ix_',\n",
       " 'kaiser',\n",
       " 'kron',\n",
       " 'lcm',\n",
       " 'ldexp',\n",
       " 'left_shift',\n",
       " 'less',\n",
       " 'less_equal',\n",
       " 'lexsort',\n",
       " 'lib',\n",
       " 'linalg',\n",
       " 'linspace',\n",
       " 'little_endian',\n",
       " 'load',\n",
       " 'loadtxt',\n",
       " 'log',\n",
       " 'log10',\n",
       " 'log1p',\n",
       " 'log2',\n",
       " 'logaddexp',\n",
       " 'logaddexp2',\n",
       " 'logical_and',\n",
       " 'logical_not',\n",
       " 'logical_or',\n",
       " 'logical_xor',\n",
       " 'logspace',\n",
       " 'longcomplex',\n",
       " 'longdouble',\n",
       " 'longfloat',\n",
       " 'longlong',\n",
       " 'lookfor',\n",
       " 'ma',\n",
       " 'mask_indices',\n",
       " 'mat',\n",
       " 'math',\n",
       " 'matmul',\n",
       " 'matrix',\n",
       " 'max',\n",
       " 'maximum',\n",
       " 'maximum_sctype',\n",
       " 'may_share_memory',\n",
       " 'mean',\n",
       " 'median',\n",
       " 'memmap',\n",
       " 'meshgrid',\n",
       " 'mgrid',\n",
       " 'min',\n",
       " 'min_scalar_type',\n",
       " 'minimum',\n",
       " 'mintypecode',\n",
       " 'mkl',\n",
       " 'mod',\n",
       " 'modf',\n",
       " 'moveaxis',\n",
       " 'msort',\n",
       " 'multiply',\n",
       " 'nan',\n",
       " 'nan_to_num',\n",
       " 'nanargmax',\n",
       " 'nanargmin',\n",
       " 'nancumprod',\n",
       " 'nancumsum',\n",
       " 'nanmax',\n",
       " 'nanmean',\n",
       " 'nanmedian',\n",
       " 'nanmin',\n",
       " 'nanpercentile',\n",
       " 'nanprod',\n",
       " 'nanquantile',\n",
       " 'nanstd',\n",
       " 'nansum',\n",
       " 'nanvar',\n",
       " 'nbytes',\n",
       " 'ndarray',\n",
       " 'ndenumerate',\n",
       " 'ndim',\n",
       " 'ndindex',\n",
       " 'nditer',\n",
       " 'negative',\n",
       " 'nested_iters',\n",
       " 'newaxis',\n",
       " 'nextafter',\n",
       " 'nonzero',\n",
       " 'not_equal',\n",
       " 'numarray',\n",
       " 'number',\n",
       " 'obj2sctype',\n",
       " 'object_',\n",
       " 'ogrid',\n",
       " 'oldnumeric',\n",
       " 'ones',\n",
       " 'ones_like',\n",
       " 'outer',\n",
       " 'packbits',\n",
       " 'pad',\n",
       " 'partition',\n",
       " 'percentile',\n",
       " 'pi',\n",
       " 'piecewise',\n",
       " 'place',\n",
       " 'poly',\n",
       " 'poly1d',\n",
       " 'polyadd',\n",
       " 'polyder',\n",
       " 'polydiv',\n",
       " 'polyfit',\n",
       " 'polyint',\n",
       " 'polymul',\n",
       " 'polynomial',\n",
       " 'polysub',\n",
       " 'polyval',\n",
       " 'positive',\n",
       " 'power',\n",
       " 'printoptions',\n",
       " 'prod',\n",
       " 'product',\n",
       " 'promote_types',\n",
       " 'ptp',\n",
       " 'put',\n",
       " 'put_along_axis',\n",
       " 'putmask',\n",
       " 'quantile',\n",
       " 'r_',\n",
       " 'rad2deg',\n",
       " 'radians',\n",
       " 'random',\n",
       " 'ravel',\n",
       " 'ravel_multi_index',\n",
       " 'real',\n",
       " 'real_if_close',\n",
       " 'rec',\n",
       " 'recarray',\n",
       " 'recfromcsv',\n",
       " 'recfromtxt',\n",
       " 'reciprocal',\n",
       " 'record',\n",
       " 'remainder',\n",
       " 'repeat',\n",
       " 'require',\n",
       " 'reshape',\n",
       " 'resize',\n",
       " 'result_type',\n",
       " 'right_shift',\n",
       " 'rint',\n",
       " 'roll',\n",
       " 'rollaxis',\n",
       " 'roots',\n",
       " 'rot90',\n",
       " 'round',\n",
       " 'round_',\n",
       " 'row_stack',\n",
       " 's_',\n",
       " 'safe_eval',\n",
       " 'save',\n",
       " 'savetxt',\n",
       " 'savez',\n",
       " 'savez_compressed',\n",
       " 'sctype2char',\n",
       " 'sctypeDict',\n",
       " 'sctypes',\n",
       " 'searchsorted',\n",
       " 'select',\n",
       " 'set_numeric_ops',\n",
       " 'set_printoptions',\n",
       " 'set_string_function',\n",
       " 'setbufsize',\n",
       " 'setdiff1d',\n",
       " 'seterr',\n",
       " 'seterrcall',\n",
       " 'seterrobj',\n",
       " 'setxor1d',\n",
       " 'shape',\n",
       " 'shares_memory',\n",
       " 'short',\n",
       " 'show_config',\n",
       " 'show_runtime',\n",
       " 'sign',\n",
       " 'signbit',\n",
       " 'signedinteger',\n",
       " 'sin',\n",
       " 'sinc',\n",
       " 'single',\n",
       " 'singlecomplex',\n",
       " 'sinh',\n",
       " 'size',\n",
       " 'sometrue',\n",
       " 'sort',\n",
       " 'sort_complex',\n",
       " 'source',\n",
       " 'spacing',\n",
       " 'split',\n",
       " 'sqrt',\n",
       " 'square',\n",
       " 'squeeze',\n",
       " 'stack',\n",
       " 'std',\n",
       " 'str_',\n",
       " 'string_',\n",
       " 'subtract',\n",
       " 'sum',\n",
       " 'swapaxes',\n",
       " 'take',\n",
       " 'take_along_axis',\n",
       " 'tan',\n",
       " 'tanh',\n",
       " 'tensordot',\n",
       " 'test',\n",
       " 'testing',\n",
       " 'tile',\n",
       " 'timedelta64',\n",
       " 'trace',\n",
       " 'tracemalloc_domain',\n",
       " 'transpose',\n",
       " 'trapz',\n",
       " 'tri',\n",
       " 'tril',\n",
       " 'tril_indices',\n",
       " 'tril_indices_from',\n",
       " 'trim_zeros',\n",
       " 'triu',\n",
       " 'triu_indices',\n",
       " 'triu_indices_from',\n",
       " 'true_divide',\n",
       " 'trunc',\n",
       " 'typecodes',\n",
       " 'typename',\n",
       " 'ubyte',\n",
       " 'ufunc',\n",
       " 'uint',\n",
       " 'uint16',\n",
       " 'uint32',\n",
       " 'uint64',\n",
       " 'uint8',\n",
       " 'uintc',\n",
       " 'uintp',\n",
       " 'ulonglong',\n",
       " 'unicode_',\n",
       " 'union1d',\n",
       " 'unique',\n",
       " 'unpackbits',\n",
       " 'unravel_index',\n",
       " 'unsignedinteger',\n",
       " 'unwrap',\n",
       " 'use_hugepage',\n",
       " 'ushort',\n",
       " 'vander',\n",
       " 'var',\n",
       " 'vdot',\n",
       " 'vectorize',\n",
       " 'version',\n",
       " 'void',\n",
       " 'vsplit',\n",
       " 'vstack',\n",
       " 'where',\n",
       " 'who',\n",
       " 'zeros',\n",
       " 'zeros_like']"
      ]
     },
     "execution_count": 3,
     "metadata": {},
     "output_type": "execute_result"
    }
   ],
   "source": [
    "# 메소드와 속성\n",
    "dir(np)"
   ]
  },
  {
   "cell_type": "markdown",
   "id": "2c556aca",
   "metadata": {},
   "source": [
    "# ndim(dimention, rank)"
   ]
  },
  {
   "cell_type": "code",
   "execution_count": 5,
   "id": "64df3cb5",
   "metadata": {
    "ExecuteTime": {
     "end_time": "2023-12-14T06:17:47.986574Z",
     "start_time": "2023-12-14T06:17:47.983252Z"
    }
   },
   "outputs": [],
   "source": [
    "a = np.array(0)"
   ]
  },
  {
   "cell_type": "code",
   "execution_count": 6,
   "id": "9ac00499",
   "metadata": {
    "ExecuteTime": {
     "end_time": "2023-12-14T06:17:48.876566Z",
     "start_time": "2023-12-14T06:17:48.870374Z"
    }
   },
   "outputs": [
    {
     "data": {
      "text/plain": [
       "(array(0), 0, numpy.ndarray)"
      ]
     },
     "execution_count": 6,
     "metadata": {},
     "output_type": "execute_result"
    }
   ],
   "source": [
    "a, a.ndim, type(a)"
   ]
  },
  {
   "cell_type": "code",
   "execution_count": 7,
   "id": "0f4e8190",
   "metadata": {
    "ExecuteTime": {
     "end_time": "2023-12-14T06:19:21.948771Z",
     "start_time": "2023-12-14T06:19:21.941950Z"
    }
   },
   "outputs": [
    {
     "data": {
      "text/plain": [
       "(array([2, 4, 6]), 1, numpy.ndarray)"
      ]
     },
     "execution_count": 7,
     "metadata": {},
     "output_type": "execute_result"
    }
   ],
   "source": [
    "a = np.array([2, 4, 6])\n",
    "a, a.ndim, type(a)"
   ]
  },
  {
   "cell_type": "code",
   "execution_count": 9,
   "id": "db79e539",
   "metadata": {
    "ExecuteTime": {
     "end_time": "2023-12-14T06:20:12.507795Z",
     "start_time": "2023-12-14T06:20:12.501772Z"
    }
   },
   "outputs": [
    {
     "data": {
      "text/plain": [
       "(array([[2, 4, 6],\n",
       "        [1, 3, 5]]),\n",
       " 2,\n",
       " numpy.ndarray)"
      ]
     },
     "execution_count": 9,
     "metadata": {},
     "output_type": "execute_result"
    }
   ],
   "source": [
    "a = np.array([[2, 4, 6], [1, 3, 5]])\n",
    "a, a.ndim, type(a)"
   ]
  },
  {
   "cell_type": "code",
   "execution_count": 11,
   "id": "79388c33",
   "metadata": {
    "ExecuteTime": {
     "end_time": "2023-12-14T06:21:58.700507Z",
     "start_time": "2023-12-14T06:21:58.693327Z"
    }
   },
   "outputs": [
    {
     "data": {
      "text/plain": [
       "(array([[[1, 2, 3],\n",
       "         [4, 5, 6]],\n",
       " \n",
       "        [[1, 2, 3],\n",
       "         [4, 5, 6]]]),\n",
       " 3,\n",
       " numpy.ndarray)"
      ]
     },
     "execution_count": 11,
     "metadata": {},
     "output_type": "execute_result"
    }
   ],
   "source": [
    "a = np.array( [ [[1,2,3], [4,5,6]], [[1,2,3], [4,5,6]] ] )\n",
    "a, a.ndim, type(a)"
   ]
  },
  {
   "cell_type": "markdown",
   "id": "f079566d",
   "metadata": {},
   "source": [
    "# shape"
   ]
  },
  {
   "cell_type": "code",
   "execution_count": 12,
   "id": "46905bb4",
   "metadata": {
    "ExecuteTime": {
     "end_time": "2023-12-14T06:22:18.315322Z",
     "start_time": "2023-12-14T06:22:18.308929Z"
    },
    "scrolled": true
   },
   "outputs": [
    {
     "data": {
      "text/plain": [
       "(2, 2, 3)"
      ]
     },
     "execution_count": 12,
     "metadata": {},
     "output_type": "execute_result"
    }
   ],
   "source": [
    "a.shape"
   ]
  },
  {
   "cell_type": "code",
   "execution_count": 13,
   "id": "1c664012",
   "metadata": {
    "ExecuteTime": {
     "end_time": "2023-12-14T06:25:16.204942Z",
     "start_time": "2023-12-14T06:25:16.197765Z"
    }
   },
   "outputs": [
    {
     "data": {
      "text/plain": [
       "(array(3), ())"
      ]
     },
     "execution_count": 13,
     "metadata": {},
     "output_type": "execute_result"
    }
   ],
   "source": [
    "a = np.array(3)\n",
    "a, a.shape"
   ]
  },
  {
   "cell_type": "code",
   "execution_count": 14,
   "id": "a7f9543b",
   "metadata": {
    "ExecuteTime": {
     "end_time": "2023-12-14T06:25:28.973318Z",
     "start_time": "2023-12-14T06:25:28.965260Z"
    }
   },
   "outputs": [
    {
     "data": {
      "text/plain": [
       "(array([1, 3, 5, 7, 9]), (5,))"
      ]
     },
     "execution_count": 14,
     "metadata": {},
     "output_type": "execute_result"
    }
   ],
   "source": [
    "a = np.array([1, 3, 5, 7, 9])\n",
    "a, a.shape"
   ]
  },
  {
   "cell_type": "code",
   "execution_count": 15,
   "id": "a0e5f1a3",
   "metadata": {
    "ExecuteTime": {
     "end_time": "2023-12-14T06:25:45.612181Z",
     "start_time": "2023-12-14T06:25:45.605332Z"
    }
   },
   "outputs": [
    {
     "data": {
      "text/plain": [
       "(array([[1, 2, 3],\n",
       "        [4, 5, 6]]),\n",
       " (2, 3))"
      ]
     },
     "execution_count": 15,
     "metadata": {},
     "output_type": "execute_result"
    }
   ],
   "source": [
    "a = np.array([[1, 2, 3], [4, 5, 6]])\n",
    "a, a.shape"
   ]
  },
  {
   "cell_type": "code",
   "execution_count": 16,
   "id": "8003e5ae",
   "metadata": {
    "ExecuteTime": {
     "end_time": "2023-12-14T06:25:55.732862Z",
     "start_time": "2023-12-14T06:25:55.725196Z"
    }
   },
   "outputs": [
    {
     "data": {
      "text/plain": [
       "(array([[[0, 0, 0, 0],\n",
       "         [0, 0, 0, 0],\n",
       "         [0, 0, 0, 0]],\n",
       " \n",
       "        [[0, 0, 0, 0],\n",
       "         [0, 0, 0, 0],\n",
       "         [0, 0, 0, 0]]]),\n",
       " (2, 3, 4))"
      ]
     },
     "execution_count": 16,
     "metadata": {},
     "output_type": "execute_result"
    }
   ],
   "source": [
    "a = np.array([[[0, 0, 0, 0], [0, 0, 0, 0], [0, 0, 0, 0]], [[0, 0, 0, 0], [0, 0, 0, 0], [0, 0, 0, 0]]])\n",
    "a, a.shape"
   ]
  },
  {
   "cell_type": "code",
   "execution_count": 18,
   "id": "ad55e720",
   "metadata": {
    "ExecuteTime": {
     "end_time": "2023-12-14T06:26:57.949542Z",
     "start_time": "2023-12-14T06:26:57.941731Z"
    }
   },
   "outputs": [
    {
     "data": {
      "text/plain": [
       "(array([[[1, 2, 3],\n",
       "         [4, 5, 6],\n",
       "         [7, 8, 9]]]),\n",
       " (1, 3, 3),\n",
       " 3,\n",
       " numpy.ndarray)"
      ]
     },
     "execution_count": 18,
     "metadata": {},
     "output_type": "execute_result"
    }
   ],
   "source": [
    "a = np.array([[[1, 2, 3], [4, 5, 6], [7, 8, 9]]])\n",
    "a, a.shape, a.ndim, type(a)"
   ]
  },
  {
   "cell_type": "markdown",
   "id": "6abad2c9",
   "metadata": {},
   "source": [
    "# size\n",
    "요소의 수"
   ]
  },
  {
   "cell_type": "code",
   "execution_count": 19,
   "id": "76197494",
   "metadata": {
    "ExecuteTime": {
     "end_time": "2023-12-14T06:31:42.404006Z",
     "start_time": "2023-12-14T06:31:42.397832Z"
    }
   },
   "outputs": [
    {
     "data": {
      "text/plain": [
       "5"
      ]
     },
     "execution_count": 19,
     "metadata": {},
     "output_type": "execute_result"
    }
   ],
   "source": [
    "a= np.array([1, 3, 5, 7, 9])\n",
    "a.size"
   ]
  },
  {
   "cell_type": "code",
   "execution_count": 20,
   "id": "e506cff8",
   "metadata": {
    "ExecuteTime": {
     "end_time": "2023-12-14T06:31:45.724563Z",
     "start_time": "2023-12-14T06:31:45.717812Z"
    }
   },
   "outputs": [
    {
     "data": {
      "text/plain": [
       "6"
      ]
     },
     "execution_count": 20,
     "metadata": {},
     "output_type": "execute_result"
    }
   ],
   "source": [
    "a = np.array([[1,2,3], [4,5,6]])\n",
    "a.size"
   ]
  },
  {
   "cell_type": "markdown",
   "id": "ff2b6aab",
   "metadata": {},
   "source": [
    "# 넘파이 배열"
   ]
  },
  {
   "cell_type": "code",
   "execution_count": 21,
   "id": "a02cad15",
   "metadata": {
    "ExecuteTime": {
     "end_time": "2023-12-14T06:32:08.170746Z",
     "start_time": "2023-12-14T06:32:08.165314Z"
    }
   },
   "outputs": [
    {
     "name": "stdout",
     "output_type": "stream",
     "text": [
      "[10, 56, 77, 23, 44] <class 'list'> 5\n"
     ]
    }
   ],
   "source": [
    "# 1차원 리스트 객체(이터러블)\n",
    "myList = [10, 56, 77, 23, 44]\n",
    "print(myList, type(myList), len(myList))"
   ]
  },
  {
   "cell_type": "code",
   "execution_count": 26,
   "id": "f1eba4d2",
   "metadata": {
    "ExecuteTime": {
     "end_time": "2023-12-14T06:34:20.718301Z",
     "start_time": "2023-12-14T06:34:20.711071Z"
    }
   },
   "outputs": [
    {
     "name": "stdout",
     "output_type": "stream",
     "text": [
      "[10 56 77 23 44] <class 'numpy.ndarray'> 5\n",
      "차원=1, 구조=(5,) 구조타입=<class 'tuple'>, size=5 길이=5\n"
     ]
    }
   ],
   "source": [
    "myArr = np.array(myList)\n",
    "print(myArr, type(myArr), len(myArr))\n",
    "print(f'차원={myArr.ndim}, 구조={myArr.shape} 구조타입={type(myArr.shape)}, size={myArr.size} 길이={(len(myArr))}')"
   ]
  },
  {
   "cell_type": "code",
   "execution_count": 27,
   "id": "cbb2a00d",
   "metadata": {
    "ExecuteTime": {
     "end_time": "2023-12-14T06:35:41.340500Z",
     "start_time": "2023-12-14T06:35:41.333473Z"
    }
   },
   "outputs": [
    {
     "data": {
      "text/plain": [
       "([[1, 2, 3], [10, 20, 30], [100, 200, 300]], 3)"
      ]
     },
     "execution_count": 27,
     "metadata": {},
     "output_type": "execute_result"
    }
   ],
   "source": [
    "mylist2 = [[1, 2, 3], [10, 20, 30], [100, 200, 300]]\n",
    "mylist2, len(mylist2)"
   ]
  },
  {
   "cell_type": "code",
   "execution_count": 28,
   "id": "8645e0ab",
   "metadata": {
    "ExecuteTime": {
     "end_time": "2023-12-14T06:36:15.883492Z",
     "start_time": "2023-12-14T06:36:15.877641Z"
    }
   },
   "outputs": [
    {
     "name": "stdout",
     "output_type": "stream",
     "text": [
      "[[  1   2   3]\n",
      " [ 10  20  30]\n",
      " [100 200 300]] <class 'numpy.ndarray'> 3\n",
      "차원=2, 구조=(3, 3) 구조타입=<class 'tuple'>, size=9 길이=3\n"
     ]
    }
   ],
   "source": [
    "myArr = np.array(mylist2)\n",
    "print(myArr, type(myArr), len(myArr))\n",
    "print(f'차원={myArr.ndim}, 구조={myArr.shape} 구조타입={type(myArr.shape)}, size={myArr.size} 길이={(len(myArr))}')"
   ]
  },
  {
   "cell_type": "markdown",
   "id": "f0f4c6db",
   "metadata": {},
   "source": [
    "# 넘파이 배열과 리스트와의 차이점"
   ]
  },
  {
   "cell_type": "code",
   "execution_count": 30,
   "id": "51197579",
   "metadata": {
    "ExecuteTime": {
     "end_time": "2023-12-14T06:39:26.669387Z",
     "start_time": "2023-12-14T06:39:26.637059Z"
    }
   },
   "outputs": [
    {
     "name": "stdout",
     "output_type": "stream",
     "text": [
      "[10, 30, 50, 1, 2, 3]\n"
     ]
    },
    {
     "ename": "TypeError",
     "evalue": "can only concatenate list (not \"int\") to list",
     "output_type": "error",
     "traceback": [
      "\u001b[1;31m---------------------------------------------------------------------------\u001b[0m",
      "\u001b[1;31mTypeError\u001b[0m                                 Traceback (most recent call last)",
      "Cell \u001b[1;32mIn[30], line 5\u001b[0m\n\u001b[0;32m      2\u001b[0m listB \u001b[38;5;241m=\u001b[39m [\u001b[38;5;241m1\u001b[39m, \u001b[38;5;241m2\u001b[39m, \u001b[38;5;241m3\u001b[39m]\n\u001b[0;32m      4\u001b[0m \u001b[38;5;28mprint\u001b[39m(listA \u001b[38;5;241m+\u001b[39m listB)\n\u001b[1;32m----> 5\u001b[0m \u001b[38;5;28mprint\u001b[39m(listA \u001b[38;5;241m+\u001b[39m \u001b[38;5;241m2\u001b[39m)\n",
      "\u001b[1;31mTypeError\u001b[0m: can only concatenate list (not \"int\") to list"
     ]
    }
   ],
   "source": [
    "listA = [10, 30, 50]\n",
    "listB = [1, 2, 3]\n",
    "\n",
    "print(listA + listB)\n",
    "print(listA + 2)"
   ]
  },
  {
   "cell_type": "code",
   "execution_count": 31,
   "id": "f8e4d7de",
   "metadata": {
    "ExecuteTime": {
     "end_time": "2023-12-14T06:40:19.411649Z",
     "start_time": "2023-12-14T06:40:19.406010Z"
    }
   },
   "outputs": [
    {
     "name": "stdout",
     "output_type": "stream",
     "text": [
      "[3 4 5]\n",
      "[2 4 6]\n"
     ]
    }
   ],
   "source": [
    "arrA = np.array([1, 2, 3])\n",
    "print(arrA + 2)\n",
    "print(arrA * 2)"
   ]
  },
  {
   "cell_type": "code",
   "execution_count": 32,
   "id": "a89a03fc",
   "metadata": {
    "ExecuteTime": {
     "end_time": "2023-12-14T06:44:43.202532Z",
     "start_time": "2023-12-14T06:44:43.196158Z"
    }
   },
   "outputs": [
    {
     "name": "stdout",
     "output_type": "stream",
     "text": [
      "[5 7 9]\n",
      "[ 4 10 18]\n",
      "[0.25 0.4  0.5 ]\n",
      "[0 0 0]\n",
      "[1 2 3]\n"
     ]
    }
   ],
   "source": [
    "arrB = np.array([4, 5, 6])\n",
    "print(arrA + arrB)\n",
    "print(arrA * arrB)\n",
    "print(arrA / arrB)\n",
    "print(arrA // arrB) # 몫\n",
    "print(arrA % arrB) # 나머지"
   ]
  },
  {
   "cell_type": "code",
   "execution_count": 9,
   "id": "79a37e84",
   "metadata": {
    "ExecuteTime": {
     "end_time": "2023-12-14T10:55:00.133967Z",
     "start_time": "2023-12-14T10:55:00.124048Z"
    }
   },
   "outputs": [
    {
     "data": {
      "text/plain": [
       "numpy.ndarray"
      ]
     },
     "execution_count": 9,
     "metadata": {},
     "output_type": "execute_result"
    }
   ],
   "source": [
    "arrB = np.array([4, 5, 'data'])\n",
    "#print(arrA + arrB)\n",
    "#print(arrA * arrB)\n",
    "#print(arrA / arrB)\n",
    "#print(arrA // arrB) # 몫\n",
    "#print(arrA % arrB) # 나머지\n",
    "\n",
    "type(arrB)"
   ]
  },
  {
   "cell_type": "code",
   "execution_count": 10,
   "id": "64dd67c1",
   "metadata": {
    "ExecuteTime": {
     "end_time": "2023-12-14T10:58:05.788541Z",
     "start_time": "2023-12-14T10:58:05.779191Z"
    }
   },
   "outputs": [
    {
     "data": {
      "text/plain": [
       "array(['4', '5', 'data'], dtype='<U11')"
      ]
     },
     "execution_count": 10,
     "metadata": {},
     "output_type": "execute_result"
    }
   ],
   "source": [
    "arrB"
   ]
  },
  {
   "cell_type": "markdown",
   "id": "79b0afb2",
   "metadata": {},
   "source": [
    "# dtype"
   ]
  },
  {
   "cell_type": "code",
   "execution_count": 3,
   "id": "859e04bb",
   "metadata": {
    "ExecuteTime": {
     "end_time": "2023-12-15T04:29:35.138560Z",
     "start_time": "2023-12-15T04:29:34.992737Z"
    }
   },
   "outputs": [
    {
     "name": "stdout",
     "output_type": "stream",
     "text": [
      "['안녕', 100, 3.14, True, False]\n"
     ]
    }
   ],
   "source": [
    "import numpy as np\n",
    "\n",
    "myList_c = ['안녕', 100, 3.14, True, False]\n",
    "print(myList_c)"
   ]
  },
  {
   "cell_type": "code",
   "execution_count": 4,
   "id": "e204e0e1",
   "metadata": {
    "ExecuteTime": {
     "end_time": "2023-12-15T04:29:35.572857Z",
     "start_time": "2023-12-15T04:29:35.568345Z"
    }
   },
   "outputs": [
    {
     "name": "stdout",
     "output_type": "stream",
     "text": [
      "['안녕' '100' '3.14' 'True' 'False'] <class 'numpy.ndarray'> <U32\n"
     ]
    }
   ],
   "source": [
    "myArr_c = np.array(myList_c)\n",
    "print(myArr_c, type(myArr_c), myArr_c.dtype)"
   ]
  },
  {
   "cell_type": "code",
   "execution_count": 6,
   "id": "a2aee7d4",
   "metadata": {
    "ExecuteTime": {
     "end_time": "2023-12-15T04:30:27.223197Z",
     "start_time": "2023-12-15T04:30:27.216787Z"
    }
   },
   "outputs": [
    {
     "name": "stdout",
     "output_type": "stream",
     "text": [
      "[100.     3.14  23.5    0.  ] <class 'numpy.ndarray'> float64\n"
     ]
    }
   ],
   "source": [
    "myArr_d = np.array([100, 3.14, 23.5, 0])\n",
    "print(myArr_d, type(myArr_d), myArr_d.dtype)"
   ]
  },
  {
   "cell_type": "markdown",
   "id": "2bf94551",
   "metadata": {},
   "source": [
    "# Inf와 NaN\n",
    "넘파이에서는 무한대를 표현하기 위한 np.inf(infinity)와 정의할 수 없는 숫자를 나타내는 np.nan(not a number)을 사용할 수 있다.\n",
    "다음 예와 같이 1을 0으로 나누려고 하거나 0에 대한 로그 값을 계산하면 무한대인 np.inf이 나온다.\n",
    "0을 0으로 나누려고 시도하면 np.nan이 나온다."
   ]
  },
  {
   "cell_type": "code",
   "execution_count": 7,
   "id": "5ca22f2b",
   "metadata": {
    "ExecuteTime": {
     "end_time": "2023-12-15T04:32:07.364422Z",
     "start_time": "2023-12-15T04:32:07.353409Z"
    }
   },
   "outputs": [
    {
     "name": "stderr",
     "output_type": "stream",
     "text": [
      "C:\\Users\\USER\\AppData\\Local\\Temp\\ipykernel_3280\\2068585620.py:1: RuntimeWarning: divide by zero encountered in divide\n",
      "  np.array([0, 1, -1, 0]) / np.array([1, 0, 0, 0])\n",
      "C:\\Users\\USER\\AppData\\Local\\Temp\\ipykernel_3280\\2068585620.py:1: RuntimeWarning: invalid value encountered in divide\n",
      "  np.array([0, 1, -1, 0]) / np.array([1, 0, 0, 0])\n"
     ]
    },
    {
     "data": {
      "text/plain": [
       "array([  0.,  inf, -inf,  nan])"
      ]
     },
     "execution_count": 7,
     "metadata": {},
     "output_type": "execute_result"
    }
   ],
   "source": [
    "np.array([0, 1, -1, 0]) / np.array([1, 0, 0, 0])"
   ]
  },
  {
   "cell_type": "code",
   "execution_count": 9,
   "id": "75da78ee",
   "metadata": {
    "ExecuteTime": {
     "end_time": "2023-12-15T04:32:33.183851Z",
     "start_time": "2023-12-15T04:32:33.177429Z"
    }
   },
   "outputs": [
    {
     "name": "stderr",
     "output_type": "stream",
     "text": [
      "C:\\Users\\USER\\AppData\\Local\\Temp\\ipykernel_3280\\2933082444.py:1: RuntimeWarning: divide by zero encountered in log\n",
      "  np.log(0)\n"
     ]
    },
    {
     "data": {
      "text/plain": [
       "-inf"
      ]
     },
     "execution_count": 9,
     "metadata": {},
     "output_type": "execute_result"
    }
   ],
   "source": [
    "np.log(0)"
   ]
  },
  {
   "cell_type": "code",
   "execution_count": 10,
   "id": "a6d5f700",
   "metadata": {
    "ExecuteTime": {
     "end_time": "2023-12-15T04:32:40.383864Z",
     "start_time": "2023-12-15T04:32:40.376360Z"
    }
   },
   "outputs": [
    {
     "data": {
      "text/plain": [
       "0.0"
      ]
     },
     "execution_count": 10,
     "metadata": {},
     "output_type": "execute_result"
    }
   ],
   "source": [
    "np.exp(-np.inf)"
   ]
  },
  {
   "cell_type": "markdown",
   "id": "efa4af53",
   "metadata": {},
   "source": [
    "# 기술통계"
   ]
  },
  {
   "cell_type": "code",
   "execution_count": 11,
   "id": "362bfc05",
   "metadata": {
    "ExecuteTime": {
     "end_time": "2023-12-15T04:34:36.125537Z",
     "start_time": "2023-12-15T04:34:36.120544Z"
    }
   },
   "outputs": [],
   "source": [
    "x = np.array([18,   5,  10,  23,  19,  -8,  10,   0,   0,   5,   2,  15,   8,\n",
    "              2,   5,   4,  15,  -1,   4,  -7, -24,   7,   9,  -6,  23, -13])"
   ]
  },
  {
   "cell_type": "code",
   "execution_count": 12,
   "id": "400b475e",
   "metadata": {
    "ExecuteTime": {
     "end_time": "2023-12-15T04:34:51.350614Z",
     "start_time": "2023-12-15T04:34:51.344414Z"
    }
   },
   "outputs": [
    {
     "data": {
      "text/plain": [
       "4.8076923076923075"
      ]
     },
     "execution_count": 12,
     "metadata": {},
     "output_type": "execute_result"
    }
   ],
   "source": [
    "np.mean(x) # 평균"
   ]
  },
  {
   "cell_type": "code",
   "execution_count": 13,
   "id": "c02d0e5c",
   "metadata": {
    "ExecuteTime": {
     "end_time": "2023-12-15T04:34:55.415016Z",
     "start_time": "2023-12-15T04:34:55.409232Z"
    }
   },
   "outputs": [
    {
     "data": {
      "text/plain": [
       "115.23224852071006"
      ]
     },
     "execution_count": 13,
     "metadata": {},
     "output_type": "execute_result"
    }
   ],
   "source": [
    "np.var(x) # 분산"
   ]
  },
  {
   "cell_type": "code",
   "execution_count": 14,
   "id": "b6b2351a",
   "metadata": {
    "ExecuteTime": {
     "end_time": "2023-12-15T04:35:11.479778Z",
     "start_time": "2023-12-15T04:35:11.473996Z"
    }
   },
   "outputs": [
    {
     "data": {
      "text/plain": [
       "10.734628476137871"
      ]
     },
     "execution_count": 14,
     "metadata": {},
     "output_type": "execute_result"
    }
   ],
   "source": [
    "np.std(x) # 표준 편차"
   ]
  },
  {
   "cell_type": "code",
   "execution_count": 15,
   "id": "9831ab2e",
   "metadata": {
    "ExecuteTime": {
     "end_time": "2023-12-15T04:35:16.020697Z",
     "start_time": "2023-12-15T04:35:16.015157Z"
    }
   },
   "outputs": [
    {
     "data": {
      "text/plain": [
       "23"
      ]
     },
     "execution_count": 15,
     "metadata": {},
     "output_type": "execute_result"
    }
   ],
   "source": [
    "np.max(x)"
   ]
  },
  {
   "cell_type": "code",
   "execution_count": 16,
   "id": "76a93adf",
   "metadata": {
    "ExecuteTime": {
     "end_time": "2023-12-15T04:35:21.317768Z",
     "start_time": "2023-12-15T04:35:21.312391Z"
    }
   },
   "outputs": [
    {
     "data": {
      "text/plain": [
       "-24"
      ]
     },
     "execution_count": 16,
     "metadata": {},
     "output_type": "execute_result"
    }
   ],
   "source": [
    "np.min(x)"
   ]
  },
  {
   "cell_type": "code",
   "execution_count": 17,
   "id": "6df57712",
   "metadata": {
    "ExecuteTime": {
     "end_time": "2023-12-15T04:35:27.190367Z",
     "start_time": "2023-12-15T04:35:27.184225Z"
    }
   },
   "outputs": [
    {
     "data": {
      "text/plain": [
       "5.0"
      ]
     },
     "execution_count": 17,
     "metadata": {},
     "output_type": "execute_result"
    }
   ],
   "source": [
    "np.median(x) # 중앙값"
   ]
  },
  {
   "cell_type": "markdown",
   "id": "2d017d67",
   "metadata": {},
   "source": [
    "# 사분위수\n",
    "사분위수(quartile)는 데이터를 가장 작은 수부터 가장 큰 수까지 크기가 커지는 순서대로 정렬하였을 때 1/4, 2/4, 3/4 위치에 있는 수를 말한다.\n",
    "각각 1사분위수, 2사분위수, 3사분위수라고 한다.\n",
    "1/4의 위치란 전체 데이터의 수가 만약 100개이면 25번째 순서, 즉 하위 25%를 말한다. 따라서 2사분위수는 중앙값과 같다.\n",
    "\n",
    "때로는 위치를 1/100 단위로 나눈 백분위수(percentile)을 사용하기도 한다. 1사분위수는 25% 백분위수와 같다."
   ]
  },
  {
   "cell_type": "code",
   "execution_count": 18,
   "id": "01febf8b",
   "metadata": {
    "ExecuteTime": {
     "end_time": "2023-12-15T04:36:05.913992Z",
     "start_time": "2023-12-15T04:36:05.907264Z"
    }
   },
   "outputs": [
    {
     "data": {
      "text/plain": [
       "-24.0"
      ]
     },
     "execution_count": 18,
     "metadata": {},
     "output_type": "execute_result"
    }
   ],
   "source": [
    "np.percentile(x, 0) # 최소값"
   ]
  },
  {
   "cell_type": "code",
   "execution_count": 19,
   "id": "35956a36",
   "metadata": {
    "ExecuteTime": {
     "end_time": "2023-12-15T04:36:22.055117Z",
     "start_time": "2023-12-15T04:36:22.048998Z"
    }
   },
   "outputs": [
    {
     "data": {
      "text/plain": [
       "0.0"
      ]
     },
     "execution_count": 19,
     "metadata": {},
     "output_type": "execute_result"
    }
   ],
   "source": [
    "np.percentile(x, 25) # 1사분위 수"
   ]
  },
  {
   "cell_type": "code",
   "execution_count": 20,
   "id": "e909bd01",
   "metadata": {
    "ExecuteTime": {
     "end_time": "2023-12-15T04:36:28.824498Z",
     "start_time": "2023-12-15T04:36:28.817443Z"
    }
   },
   "outputs": [
    {
     "data": {
      "text/plain": [
       "5.0"
      ]
     },
     "execution_count": 20,
     "metadata": {},
     "output_type": "execute_result"
    }
   ],
   "source": [
    "np.percentile(x, 50) # 2사분위 수"
   ]
  },
  {
   "cell_type": "code",
   "execution_count": 21,
   "id": "0be0058d",
   "metadata": {
    "ExecuteTime": {
     "end_time": "2023-12-15T04:36:33.622803Z",
     "start_time": "2023-12-15T04:36:33.615942Z"
    }
   },
   "outputs": [
    {
     "data": {
      "text/plain": [
       "10.0"
      ]
     },
     "execution_count": 21,
     "metadata": {},
     "output_type": "execute_result"
    }
   ],
   "source": [
    "np.percentile(x, 75) # 3사분위 수"
   ]
  },
  {
   "cell_type": "code",
   "execution_count": 22,
   "id": "2ee3ba75",
   "metadata": {
    "ExecuteTime": {
     "end_time": "2023-12-15T04:36:40.729706Z",
     "start_time": "2023-12-15T04:36:40.723312Z"
    }
   },
   "outputs": [
    {
     "data": {
      "text/plain": [
       "23.0"
      ]
     },
     "execution_count": 22,
     "metadata": {},
     "output_type": "execute_result"
    }
   ],
   "source": [
    "np.percentile(x, 100) # 최대값"
   ]
  },
  {
   "cell_type": "markdown",
   "id": "c25ba128",
   "metadata": {},
   "source": [
    "# 넘파이 함수로 배열 만들기\n",
    "np.ones(n) , np.ones((x, y))\n",
    "np.zeros(n) , np.zeros((x, y))\n",
    "np.empty(n) , np.empty((x, y))\n",
    "np.aranges(start, end step)\n",
    "\n",
    "reshape(x, y) # 차원 확대\n",
    "flatten(x, y) # 차원 축소"
   ]
  },
  {
   "cell_type": "code",
   "execution_count": 26,
   "id": "8135ccbb",
   "metadata": {
    "ExecuteTime": {
     "end_time": "2023-12-15T04:42:08.188876Z",
     "start_time": "2023-12-15T04:42:08.183616Z"
    }
   },
   "outputs": [
    {
     "name": "stdout",
     "output_type": "stream",
     "text": [
      "[1. 1. 1. 1. 1. 1. 1. 1. 1. 1.] float64\n"
     ]
    }
   ],
   "source": [
    "print(np.ones(10), np.ones(10).dtype)"
   ]
  },
  {
   "cell_type": "code",
   "execution_count": 27,
   "id": "a39d407b",
   "metadata": {
    "ExecuteTime": {
     "end_time": "2023-12-15T04:43:46.453286Z",
     "start_time": "2023-12-15T04:43:46.448158Z"
    }
   },
   "outputs": [
    {
     "name": "stdout",
     "output_type": "stream",
     "text": [
      "[[1. 1. 1. 1.]\n",
      " [1. 1. 1. 1.]] float64\n"
     ]
    }
   ],
   "source": [
    "print(np.ones((2, 4)), np.ones((2, 4)).dtype)"
   ]
  },
  {
   "cell_type": "code",
   "execution_count": 28,
   "id": "117eafe1",
   "metadata": {
    "ExecuteTime": {
     "end_time": "2023-12-15T04:44:07.070377Z",
     "start_time": "2023-12-15T04:44:07.064845Z"
    }
   },
   "outputs": [
    {
     "name": "stdout",
     "output_type": "stream",
     "text": [
      "[1 1 1 1 1 1 1 1 1 1] int32\n"
     ]
    }
   ],
   "source": [
    "print(np.ones(10, dtype = int), np.ones(10, dtype = int).dtype)"
   ]
  },
  {
   "cell_type": "code",
   "execution_count": 29,
   "id": "69318979",
   "metadata": {
    "ExecuteTime": {
     "end_time": "2023-12-15T04:44:50.109385Z",
     "start_time": "2023-12-15T04:44:50.103704Z"
    }
   },
   "outputs": [
    {
     "name": "stdout",
     "output_type": "stream",
     "text": [
      "[0. 0. 0. 0. 0. 0. 0. 0. 0. 0.] float64\n"
     ]
    }
   ],
   "source": [
    "print(np.zeros(10), np.zeros(10).dtype)"
   ]
  },
  {
   "cell_type": "code",
   "execution_count": 30,
   "id": "ef341721",
   "metadata": {
    "ExecuteTime": {
     "end_time": "2023-12-15T04:45:02.557861Z",
     "start_time": "2023-12-15T04:45:02.552366Z"
    }
   },
   "outputs": [
    {
     "name": "stdout",
     "output_type": "stream",
     "text": [
      "[[0. 0. 0.]\n",
      " [0. 0. 0.]\n",
      " [0. 0. 0.]] float64\n"
     ]
    }
   ],
   "source": [
    "print(np.zeros((3, 3)), np.zeros((3, 3)).dtype)"
   ]
  },
  {
   "cell_type": "code",
   "execution_count": 32,
   "id": "052f9c0d",
   "metadata": {
    "ExecuteTime": {
     "end_time": "2023-12-15T04:47:33.840394Z",
     "start_time": "2023-12-15T04:47:33.833653Z"
    }
   },
   "outputs": [
    {
     "name": "stdout",
     "output_type": "stream",
     "text": [
      "[0. 0. 0. 0. 0. 0. 0. 0. 0. 0.] float64\n",
      "[[0. 0. 0.]\n",
      " [0. 0. 0.]\n",
      " [0. 0. 0.]] float64\n",
      "[[0. 0. 0.]\n",
      " [0. 0. 0.]\n",
      " [0. 0. 0.]]\n",
      "[[    4128860     6029375     3801155]\n",
      " [    5570652     6619251     7536754]\n",
      " [-1129250816         669           0]]\n"
     ]
    }
   ],
   "source": [
    "# 메모리가 비어있음\n",
    "print(np.empty(10), np.empty(10).dtype)\n",
    "print(np.empty((3, 3)), np.empty((3, 3)).dtype)\n",
    "print(np.empty((3, 3)))\n",
    "print(np.empty((3, 3), dtype = int)) # 기존 메모리에 있던 값을 출력한다.(정확히 알 수 없음)"
   ]
  },
  {
   "cell_type": "code",
   "execution_count": 33,
   "id": "eb5b5413",
   "metadata": {
    "ExecuteTime": {
     "end_time": "2023-12-15T04:50:06.069663Z",
     "start_time": "2023-12-15T04:50:06.064734Z"
    }
   },
   "outputs": [
    {
     "name": "stdout",
     "output_type": "stream",
     "text": [
      "[1, 2, 3, 4, 5, 6, 7, 8, 9, 10, 11, 12, 13, 14, 15, 16, 17, 18, 19, 20] <class 'list'>\n"
     ]
    }
   ],
   "source": [
    "# 리스트 + 레인지\n",
    "print(list(range(1, 21)), type(list(range(1, 21))))"
   ]
  },
  {
   "cell_type": "code",
   "execution_count": 35,
   "id": "3caa2d50",
   "metadata": {
    "ExecuteTime": {
     "end_time": "2023-12-15T05:03:10.318740Z",
     "start_time": "2023-12-15T05:03:10.311764Z"
    }
   },
   "outputs": [
    {
     "name": "stdout",
     "output_type": "stream",
     "text": [
      "[ 0  1  2  3  4  5  6  7  8  9 10 11 12 13 14 15 16 17 18 19] <class 'numpy.ndarray'>\n",
      "[ 1  2  3  4  5  6  7  8  9 10 11 12 13 14 15 16 17 18 19] <class 'numpy.ndarray'>\n",
      "[ 1  3  5  7  9 11 13 15 17 19] <class 'numpy.ndarray'>\n"
     ]
    }
   ],
   "source": [
    "print(np.arange(20), type(np.arange(20)))\n",
    "print(np.arange(1, 20), type(np.arange(1, 20)))\n",
    "print(np.arange(1, 20, 2), type(np.arange(1, 20, 2)))"
   ]
  },
  {
   "cell_type": "code",
   "execution_count": 39,
   "id": "c7520600",
   "metadata": {
    "ExecuteTime": {
     "end_time": "2023-12-15T05:03:50.436065Z",
     "start_time": "2023-12-15T05:03:50.431416Z"
    }
   },
   "outputs": [
    {
     "name": "stdout",
     "output_type": "stream",
     "text": [
      "[ 0  1  2  3  4  5  6  7  8  9 10 11 12 13 14 15 16 17 18 19 20 21 22 23\n",
      " 24 25 26 27 28 29 30 31 32 33 34 35 36 37 38 39 40 41 42 43 44 45 46 47\n",
      " 48 49] 50 50\n"
     ]
    }
   ],
   "source": [
    "arr = np.arange(50)\n",
    "print(arr, len(arr), arr.size)"
   ]
  },
  {
   "cell_type": "code",
   "execution_count": 40,
   "id": "317d7ff5",
   "metadata": {
    "ExecuteTime": {
     "end_time": "2023-12-15T05:04:28.566203Z",
     "start_time": "2023-12-15T05:04:28.559376Z"
    }
   },
   "outputs": [
    {
     "data": {
      "text/plain": [
       "array([  0.,  25.,  50.,  75., 100.])"
      ]
     },
     "execution_count": 40,
     "metadata": {},
     "output_type": "execute_result"
    }
   ],
   "source": [
    "# linspace 명령이나 logspace 명령은 선형 구간 혹은 로그 구간을 지정한 구간의 수만큼 분할한다.\n",
    "np.linspace(0, 100, 5) #시작, 끝(포함), 갯수"
   ]
  },
  {
   "cell_type": "code",
   "execution_count": 42,
   "id": "ac98e123",
   "metadata": {
    "ExecuteTime": {
     "end_time": "2023-12-15T05:04:45.926139Z",
     "start_time": "2023-12-15T05:04:45.919299Z"
    }
   },
   "outputs": [
    {
     "data": {
      "text/plain": [
       "array([ 1.25892541,  1.58489319,  1.99526231,  2.51188643,  3.16227766,\n",
       "        3.98107171,  5.01187234,  6.30957344,  7.94328235, 10.        ])"
      ]
     },
     "execution_count": 42,
     "metadata": {},
     "output_type": "execute_result"
    }
   ],
   "source": [
    "np.logspace(0.1, 1, 10)"
   ]
  },
  {
   "cell_type": "markdown",
   "id": "e4088303",
   "metadata": {},
   "source": [
    "reshape 구조의 재배열\n",
    "reshape함수는 np.reshape(변경할 배열, 차원) 또는 배열.reshape(차원)으로 사용 할 수 있으며,\n",
    "현재의 배열의 차원(1차원,2차원,3차원)을 변경하여 행렬을 반환하거나 하는 경우에 많이 이용되는 함수이다."
   ]
  },
  {
   "cell_type": "code",
   "execution_count": 43,
   "id": "691a3ae6",
   "metadata": {
    "ExecuteTime": {
     "end_time": "2023-12-15T05:06:46.133478Z",
     "start_time": "2023-12-15T05:06:46.127358Z"
    }
   },
   "outputs": [
    {
     "data": {
      "text/plain": [
       "(array([ 0,  1,  2,  3,  4,  5,  6,  7,  8,  9, 10, 11, 12, 13, 14, 15, 16,\n",
       "        17, 18, 19, 20, 21, 22, 23, 24, 25, 26, 27, 28, 29, 30, 31, 32, 33,\n",
       "        34, 35, 36, 37, 38, 39, 40, 41, 42, 43, 44, 45, 46, 47, 48, 49]),\n",
       " 1,\n",
       " (50,))"
      ]
     },
     "execution_count": 43,
     "metadata": {},
     "output_type": "execute_result"
    }
   ],
   "source": [
    "arr, arr.ndim, arr.shape"
   ]
  },
  {
   "cell_type": "code",
   "execution_count": 44,
   "id": "18ba0cd4",
   "metadata": {
    "ExecuteTime": {
     "end_time": "2023-12-15T05:07:10.821951Z",
     "start_time": "2023-12-15T05:07:10.815402Z"
    }
   },
   "outputs": [
    {
     "data": {
      "text/plain": [
       "(array([[ 0,  1,  2,  3,  4],\n",
       "        [ 5,  6,  7,  8,  9],\n",
       "        [10, 11, 12, 13, 14],\n",
       "        [15, 16, 17, 18, 19],\n",
       "        [20, 21, 22, 23, 24],\n",
       "        [25, 26, 27, 28, 29],\n",
       "        [30, 31, 32, 33, 34],\n",
       "        [35, 36, 37, 38, 39],\n",
       "        [40, 41, 42, 43, 44],\n",
       "        [45, 46, 47, 48, 49]]),\n",
       " 2,\n",
       " (10, 5))"
      ]
     },
     "execution_count": 44,
     "metadata": {},
     "output_type": "execute_result"
    }
   ],
   "source": [
    "arr = arr.reshape(10, 5)\n",
    "arr, arr.ndim, arr.shape"
   ]
  },
  {
   "cell_type": "code",
   "execution_count": 45,
   "id": "a20222b3",
   "metadata": {
    "ExecuteTime": {
     "end_time": "2023-12-15T05:09:28.157966Z",
     "start_time": "2023-12-15T05:09:28.150989Z"
    }
   },
   "outputs": [
    {
     "data": {
      "text/plain": [
       "(array([[ 0,  1,  2,  3,  4,  5,  6,  7,  8,  9],\n",
       "        [10, 11, 12, 13, 14, 15, 16, 17, 18, 19],\n",
       "        [20, 21, 22, 23, 24, 25, 26, 27, 28, 29],\n",
       "        [30, 31, 32, 33, 34, 35, 36, 37, 38, 39],\n",
       "        [40, 41, 42, 43, 44, 45, 46, 47, 48, 49]]),\n",
       " 2,\n",
       " (5, 10))"
      ]
     },
     "execution_count": 45,
     "metadata": {},
     "output_type": "execute_result"
    }
   ],
   "source": [
    "arr2 = arr.reshape(5, 10)\n",
    "arr2, arr2.ndim, arr2.shape"
   ]
  },
  {
   "cell_type": "code",
   "execution_count": 46,
   "id": "f9167411",
   "metadata": {
    "ExecuteTime": {
     "end_time": "2023-12-15T05:11:04.718343Z",
     "start_time": "2023-12-15T05:11:04.711488Z"
    }
   },
   "outputs": [
    {
     "data": {
      "text/plain": [
       "(array([ 0,  1,  2,  3,  4,  5,  6,  7,  8,  9, 10, 11, 12, 13, 14, 15, 16,\n",
       "        17, 18, 19, 20, 21, 22, 23, 24, 25, 26, 27, 28, 29, 30, 31, 32, 33,\n",
       "        34, 35, 36, 37, 38, 39, 40, 41, 42, 43, 44, 45, 46, 47, 48, 49]),\n",
       " (50,),\n",
       " 1)"
      ]
     },
     "execution_count": 46,
     "metadata": {},
     "output_type": "execute_result"
    }
   ],
   "source": [
    "# 2차원 -> 1ckdnjs\n",
    "# 넘파이배열.flatten()\n",
    "\n",
    "arr3 = arr2.flatten()\n",
    "arr3, arr3.shape, arr3.ndim"
   ]
  },
  {
   "cell_type": "code",
   "execution_count": 51,
   "id": "a44bd9a2",
   "metadata": {
    "ExecuteTime": {
     "end_time": "2023-12-15T05:11:44.453015Z",
     "start_time": "2023-12-15T05:11:44.447060Z"
    }
   },
   "outputs": [
    {
     "data": {
      "text/plain": [
       "array([  2,   4,   6,   8,  10,  12,  14,  16,  18,  20,  22,  24,  26,\n",
       "        28,  30,  32,  34,  36,  38,  40,  42,  44,  46,  48,  50,  52,\n",
       "        54,  56,  58,  60,  62,  64,  66,  68,  70,  72,  74,  76,  78,\n",
       "        80,  82,  84,  86,  88,  90,  92,  94,  96,  98, 100])"
      ]
     },
     "execution_count": 51,
     "metadata": {},
     "output_type": "execute_result"
    }
   ],
   "source": [
    "# 1 ~ 100 사이에 짝수로 된 넘파이 배열 생성\n",
    "a = np.arange(2, 101, 2)\n",
    "a"
   ]
  },
  {
   "cell_type": "code",
   "execution_count": 53,
   "id": "918855a4",
   "metadata": {
    "ExecuteTime": {
     "end_time": "2023-12-15T05:12:05.965035Z",
     "start_time": "2023-12-15T05:12:05.958731Z"
    }
   },
   "outputs": [
    {
     "data": {
      "text/plain": [
       "array([[  2,   4,   6,   8,  10,  12,  14,  16,  18,  20],\n",
       "       [ 22,  24,  26,  28,  30,  32,  34,  36,  38,  40],\n",
       "       [ 42,  44,  46,  48,  50,  52,  54,  56,  58,  60],\n",
       "       [ 62,  64,  66,  68,  70,  72,  74,  76,  78,  80],\n",
       "       [ 82,  84,  86,  88,  90,  92,  94,  96,  98, 100]])"
      ]
     },
     "execution_count": 53,
     "metadata": {},
     "output_type": "execute_result"
    }
   ],
   "source": [
    "a.reshape(5, 10)"
   ]
  },
  {
   "cell_type": "code",
   "execution_count": 54,
   "id": "705c2fb5",
   "metadata": {
    "ExecuteTime": {
     "end_time": "2023-12-15T05:15:20.230258Z",
     "start_time": "2023-12-15T05:15:20.223131Z"
    }
   },
   "outputs": [
    {
     "data": {
      "text/plain": [
       "(array([[ 1],\n",
       "        [ 2],\n",
       "        [ 3],\n",
       "        [ 4],\n",
       "        [ 5],\n",
       "        [ 6],\n",
       "        [ 7],\n",
       "        [ 8],\n",
       "        [ 9],\n",
       "        [10],\n",
       "        [11],\n",
       "        [12],\n",
       "        [13],\n",
       "        [14],\n",
       "        [15],\n",
       "        [16],\n",
       "        [17],\n",
       "        [18],\n",
       "        [19],\n",
       "        [20],\n",
       "        [21],\n",
       "        [22],\n",
       "        [23],\n",
       "        [24],\n",
       "        [25],\n",
       "        [26],\n",
       "        [27],\n",
       "        [28],\n",
       "        [29],\n",
       "        [30]]),\n",
       " 2,\n",
       " (30, 1))"
      ]
     },
     "execution_count": 54,
     "metadata": {},
     "output_type": "execute_result"
    }
   ],
   "source": [
    "# 2차원인데 1개 칼럼의 모형을 만들어보자\n",
    "# reshape(-1, n) : 2차원 n개의 컬럼으로 구성, -1을 넣으면 자동으로 사이즈를 맞춰준다.\n",
    "\n",
    "arr4 = np.arange(1, 31).reshape(-1, 1)\n",
    "arr4, arr4.ndim, arr4.shape"
   ]
  },
  {
   "cell_type": "code",
   "execution_count": 59,
   "id": "04f4e487",
   "metadata": {
    "ExecuteTime": {
     "end_time": "2023-12-15T05:18:21.125215Z",
     "start_time": "2023-12-15T05:18:21.118899Z"
    }
   },
   "outputs": [
    {
     "data": {
      "text/plain": [
       "array([[ 1,  2,  3,  4],\n",
       "       [ 5,  6,  7,  8],\n",
       "       [ 9, 10, 11, 12],\n",
       "       [13, 14, 15, 16],\n",
       "       [17, 18, 19, 20]])"
      ]
     },
     "execution_count": 59,
     "metadata": {},
     "output_type": "execute_result"
    }
   ],
   "source": [
    "# 4개 칼럼으로 배열 모형을 만들자\n",
    "\n",
    "a = np.arange(1, 21).reshape(5, 4)\n",
    "a"
   ]
  },
  {
   "cell_type": "code",
   "execution_count": 58,
   "id": "c7f2f1b3",
   "metadata": {
    "ExecuteTime": {
     "end_time": "2023-12-15T05:18:14.524158Z",
     "start_time": "2023-12-15T05:18:14.518619Z"
    }
   },
   "outputs": [
    {
     "data": {
      "text/plain": [
       "array([[ 1,  2,  3,  4,  5],\n",
       "       [ 6,  7,  8,  9, 10],\n",
       "       [11, 12, 13, 14, 15],\n",
       "       [16, 17, 18, 19, 20]])"
      ]
     },
     "execution_count": 58,
     "metadata": {},
     "output_type": "execute_result"
    }
   ],
   "source": [
    "a.reshape(-1, 5)"
   ]
  },
  {
   "cell_type": "code",
   "execution_count": null,
   "id": "c0fa5d03",
   "metadata": {},
   "outputs": [],
   "source": [
    "# 사이즈가 맞아야 한다.\n",
    "# np.arange(1, 21).reshape(-1, 7)"
   ]
  },
  {
   "cell_type": "code",
   "execution_count": 60,
   "id": "700810ed",
   "metadata": {
    "ExecuteTime": {
     "end_time": "2023-12-15T05:19:14.620206Z",
     "start_time": "2023-12-15T05:19:14.614666Z"
    }
   },
   "outputs": [
    {
     "data": {
      "text/plain": [
       "(array([ 0,  1,  2,  3,  4,  5,  6,  7,  8,  9, 10, 11]), (12,))"
      ]
     },
     "execution_count": 60,
     "metadata": {},
     "output_type": "execute_result"
    }
   ],
   "source": [
    "a = np.arange(12)\n",
    "a, a.shape"
   ]
  },
  {
   "cell_type": "code",
   "execution_count": 61,
   "id": "4b6f94d3",
   "metadata": {
    "ExecuteTime": {
     "end_time": "2023-12-15T05:21:18.245793Z",
     "start_time": "2023-12-15T05:21:18.239303Z"
    }
   },
   "outputs": [
    {
     "data": {
      "text/plain": [
       "(array([[ 0,  1,  2,  3,  4,  5],\n",
       "        [ 6,  7,  8,  9, 10, 11]]),\n",
       " (2, 6))"
      ]
     },
     "execution_count": 61,
     "metadata": {},
     "output_type": "execute_result"
    }
   ],
   "source": [
    "# 원본 값이 바뀜\n",
    "a.shape = 2, -1\n",
    "a, a.shape"
   ]
  },
  {
   "cell_type": "code",
   "execution_count": 62,
   "id": "7cbe3f21",
   "metadata": {
    "ExecuteTime": {
     "end_time": "2023-12-15T05:21:26.804754Z",
     "start_time": "2023-12-15T05:21:26.798882Z"
    }
   },
   "outputs": [
    {
     "data": {
      "text/plain": [
       "(array([[ 0,  1,  2,  3],\n",
       "        [ 4,  5,  6,  7],\n",
       "        [ 8,  9, 10, 11]]),\n",
       " (3, 4))"
      ]
     },
     "execution_count": 62,
     "metadata": {},
     "output_type": "execute_result"
    }
   ],
   "source": [
    "a.shape = 3, -1\n",
    "a, a.shape"
   ]
  },
  {
   "cell_type": "code",
   "execution_count": 63,
   "id": "31a9e72e",
   "metadata": {
    "ExecuteTime": {
     "end_time": "2023-12-15T05:21:43.533726Z",
     "start_time": "2023-12-15T05:21:43.527585Z"
    }
   },
   "outputs": [
    {
     "data": {
      "text/plain": [
       "(array([[ 0],\n",
       "        [ 1],\n",
       "        [ 2],\n",
       "        [ 3],\n",
       "        [ 4],\n",
       "        [ 5],\n",
       "        [ 6],\n",
       "        [ 7],\n",
       "        [ 8],\n",
       "        [ 9],\n",
       "        [10],\n",
       "        [11]]),\n",
       " (12, 1))"
      ]
     },
     "execution_count": 63,
     "metadata": {},
     "output_type": "execute_result"
    }
   ],
   "source": [
    "a.shape = -1, 1\n",
    "a, a.shape"
   ]
  },
  {
   "cell_type": "code",
   "execution_count": 64,
   "id": "d3a8cf7a",
   "metadata": {
    "ExecuteTime": {
     "end_time": "2023-12-15T05:21:54.110116Z",
     "start_time": "2023-12-15T05:21:54.103520Z"
    }
   },
   "outputs": [
    {
     "data": {
      "text/plain": [
       "(array([[ 0,  1],\n",
       "        [ 2,  3],\n",
       "        [ 4,  5],\n",
       "        [ 6,  7],\n",
       "        [ 8,  9],\n",
       "        [10, 11]]),\n",
       " (6, 2))"
      ]
     },
     "execution_count": 64,
     "metadata": {},
     "output_type": "execute_result"
    }
   ],
   "source": [
    "a.shape = -1, 2\n",
    "a, a.shape"
   ]
  },
  {
   "cell_type": "code",
   "execution_count": 65,
   "id": "fa1c5bc1",
   "metadata": {
    "ExecuteTime": {
     "end_time": "2023-12-15T05:22:03.260516Z",
     "start_time": "2023-12-15T05:22:03.254744Z"
    }
   },
   "outputs": [
    {
     "data": {
      "text/plain": [
       "(array([[ 0,  1,  2],\n",
       "        [ 3,  4,  5],\n",
       "        [ 6,  7,  8],\n",
       "        [ 9, 10, 11]]),\n",
       " (4, 3))"
      ]
     },
     "execution_count": 65,
     "metadata": {},
     "output_type": "execute_result"
    }
   ],
   "source": [
    "a.shape = -1, 3\n",
    "a, a.shape"
   ]
  },
  {
   "cell_type": "code",
   "execution_count": 66,
   "id": "7f2c6668",
   "metadata": {
    "ExecuteTime": {
     "end_time": "2023-12-15T05:22:18.685276Z",
     "start_time": "2023-12-15T05:22:18.679557Z"
    }
   },
   "outputs": [
    {
     "data": {
      "text/plain": [
       "(array([ 0,  1,  2,  3,  4,  5,  6,  7,  8,  9, 10, 11]), (12,))"
      ]
     },
     "execution_count": 66,
     "metadata": {},
     "output_type": "execute_result"
    }
   ],
   "source": [
    "# flatten\n",
    "a.shape = -1\n",
    "a, a.shape"
   ]
  },
  {
   "cell_type": "markdown",
   "id": "83800e17",
   "metadata": {},
   "source": [
    "# 넘파이배열의 자료형 형변환\n",
    "\n",
    "배열명2 = 배열명1.astype(자료형)\n",
    "\n",
    "자료형 = np.float64, np.int32"
   ]
  },
  {
   "cell_type": "code",
   "execution_count": 67,
   "id": "879f36a6",
   "metadata": {
    "ExecuteTime": {
     "end_time": "2023-12-15T05:23:01.613743Z",
     "start_time": "2023-12-15T05:23:01.607157Z"
    }
   },
   "outputs": [
    {
     "data": {
      "text/plain": [
       "(array([1, 2, 3, 4, 5, 6, 7, 8, 9]), dtype('int32'))"
      ]
     },
     "execution_count": 67,
     "metadata": {},
     "output_type": "execute_result"
    }
   ],
   "source": [
    "matrix1 = np.arange(1, 10)\n",
    "matrix1, matrix1.dtype"
   ]
  },
  {
   "cell_type": "code",
   "execution_count": 69,
   "id": "b758336d",
   "metadata": {
    "ExecuteTime": {
     "end_time": "2023-12-15T05:23:54.725727Z",
     "start_time": "2023-12-15T05:23:54.719014Z"
    }
   },
   "outputs": [
    {
     "data": {
      "text/plain": [
       "(array([[1, 2, 3],\n",
       "        [4, 5, 6],\n",
       "        [7, 8, 9]]),\n",
       " dtype('int32'))"
      ]
     },
     "execution_count": 69,
     "metadata": {},
     "output_type": "execute_result"
    }
   ],
   "source": [
    "matrix2 = matrix1.reshape(3, 3)\n",
    "matrix2, matrix2.dtype"
   ]
  },
  {
   "cell_type": "code",
   "execution_count": 71,
   "id": "5697339b",
   "metadata": {
    "ExecuteTime": {
     "end_time": "2023-12-15T05:24:38.262177Z",
     "start_time": "2023-12-15T05:24:38.255399Z"
    }
   },
   "outputs": [
    {
     "data": {
      "text/plain": [
       "(array([[1., 2., 3.],\n",
       "        [4., 5., 6.],\n",
       "        [7., 8., 9.]]),\n",
       " dtype('float64'))"
      ]
     },
     "execution_count": 71,
     "metadata": {},
     "output_type": "execute_result"
    }
   ],
   "source": [
    "matrix = np.arange(1, 10, dtype=float).reshape(3, 3)\n",
    "matrix, matrix.dtype"
   ]
  },
  {
   "cell_type": "code",
   "execution_count": 72,
   "id": "7c1232d2",
   "metadata": {
    "ExecuteTime": {
     "end_time": "2023-12-15T05:25:09.421452Z",
     "start_time": "2023-12-15T05:25:09.398948Z"
    }
   },
   "outputs": [
    {
     "ename": "TypeError",
     "evalue": "arange() not supported for inputs with DType <class 'numpy.dtype[str_]'>.",
     "output_type": "error",
     "traceback": [
      "\u001b[1;31m---------------------------------------------------------------------------\u001b[0m",
      "\u001b[1;31mTypeError\u001b[0m                                 Traceback (most recent call last)",
      "Cell \u001b[1;32mIn[72], line 1\u001b[0m\n\u001b[1;32m----> 1\u001b[0m matrix \u001b[38;5;241m=\u001b[39m np\u001b[38;5;241m.\u001b[39marange(\u001b[38;5;241m1\u001b[39m, \u001b[38;5;241m10\u001b[39m, dtype\u001b[38;5;241m=\u001b[39m\u001b[38;5;124m'\u001b[39m\u001b[38;5;124mstr\u001b[39m\u001b[38;5;124m'\u001b[39m)\u001b[38;5;241m.\u001b[39mreshape(\u001b[38;5;241m3\u001b[39m, \u001b[38;5;241m3\u001b[39m)\n\u001b[0;32m      2\u001b[0m matrix, matrix\u001b[38;5;241m.\u001b[39mdtype\n",
      "\u001b[1;31mTypeError\u001b[0m: arange() not supported for inputs with DType <class 'numpy.dtype[str_]'>."
     ]
    }
   ],
   "source": [
    "matrix = np.arange(1, 10, dtype='str').reshape(3, 3)\n",
    "matrix, matrix.dtype"
   ]
  },
  {
   "cell_type": "code",
   "execution_count": 73,
   "id": "e35d9984",
   "metadata": {
    "ExecuteTime": {
     "end_time": "2023-12-15T05:25:27.603988Z",
     "start_time": "2023-12-15T05:25:27.598548Z"
    }
   },
   "outputs": [
    {
     "data": {
      "text/plain": [
       "array([['1.0', '2.0', '3.0'],\n",
       "       ['4.0', '5.0', '6.0'],\n",
       "       ['7.0', '8.0', '9.0']], dtype='<U5')"
      ]
     },
     "execution_count": 73,
     "metadata": {},
     "output_type": "execute_result"
    }
   ],
   "source": [
    "# 정수형 -> 문자열\n",
    "matrix.astype('<U5')"
   ]
  },
  {
   "cell_type": "code",
   "execution_count": 74,
   "id": "6d67132a",
   "metadata": {
    "ExecuteTime": {
     "end_time": "2023-12-15T05:25:56.544108Z",
     "start_time": "2023-12-15T05:25:56.536491Z"
    }
   },
   "outputs": [
    {
     "data": {
      "text/plain": [
       "(array([ True, False,  True,  True]), dtype('bool'))"
      ]
     },
     "execution_count": 74,
     "metadata": {},
     "output_type": "execute_result"
    }
   ],
   "source": [
    "# 논리형으로 구성된 넘파이 배열 생성\n",
    "matrix2 = np.array([True, False, True, True])\n",
    "matrix2, matrix2.dtype"
   ]
  },
  {
   "cell_type": "code",
   "execution_count": 75,
   "id": "8757e6d2",
   "metadata": {
    "ExecuteTime": {
     "end_time": "2023-12-15T05:26:10.708928Z",
     "start_time": "2023-12-15T05:26:10.703246Z"
    }
   },
   "outputs": [
    {
     "data": {
      "text/plain": [
       "array([1, 0, 1, 1])"
      ]
     },
     "execution_count": 75,
     "metadata": {},
     "output_type": "execute_result"
    }
   ],
   "source": [
    "# 불린 -> 정수\n",
    "matrix2.astype(int)"
   ]
  },
  {
   "cell_type": "code",
   "execution_count": 76,
   "id": "4a2cd72e",
   "metadata": {
    "ExecuteTime": {
     "end_time": "2023-12-15T05:26:28.373030Z",
     "start_time": "2023-12-15T05:26:28.367066Z"
    }
   },
   "outputs": [
    {
     "data": {
      "text/plain": [
       "array(['True', 'False', 'True', 'True'], dtype='<U5')"
      ]
     },
     "execution_count": 76,
     "metadata": {},
     "output_type": "execute_result"
    }
   ],
   "source": [
    "# 불린형 -> 문자열\n",
    "matrix2.astype('<U5')"
   ]
  },
  {
   "cell_type": "code",
   "execution_count": 77,
   "id": "bbf08092",
   "metadata": {
    "ExecuteTime": {
     "end_time": "2023-12-15T05:27:11.526250Z",
     "start_time": "2023-12-15T05:27:11.519458Z"
    }
   },
   "outputs": [
    {
     "data": {
      "text/plain": [
       "(array(['3.14', '5.5', '0.78'], dtype='<U4'), dtype('<U4'))"
      ]
     },
     "execution_count": 77,
     "metadata": {},
     "output_type": "execute_result"
    }
   ],
   "source": [
    "# 문자열 숫자 -> 정수, 실수\n",
    "matrix3 = np.array(['3.14', '5.5', '0.78'])\n",
    "matrix3, matrix3.dtype"
   ]
  },
  {
   "cell_type": "code",
   "execution_count": 78,
   "id": "2520a71f",
   "metadata": {
    "ExecuteTime": {
     "end_time": "2023-12-15T05:27:36.104237Z",
     "start_time": "2023-12-15T05:27:36.081592Z"
    }
   },
   "outputs": [
    {
     "name": "stdout",
     "output_type": "stream",
     "text": [
      "[3.14 5.5  0.78]\n"
     ]
    },
    {
     "ename": "ValueError",
     "evalue": "invalid literal for int() with base 10: '3.14'",
     "output_type": "error",
     "traceback": [
      "\u001b[1;31m---------------------------------------------------------------------------\u001b[0m",
      "\u001b[1;31mValueError\u001b[0m                                Traceback (most recent call last)",
      "Cell \u001b[1;32mIn[78], line 3\u001b[0m\n\u001b[0;32m      1\u001b[0m \u001b[38;5;28mprint\u001b[39m(matrix3\u001b[38;5;241m.\u001b[39mastype(\u001b[38;5;28mfloat\u001b[39m))\n\u001b[1;32m----> 3\u001b[0m \u001b[38;5;28mprint\u001b[39m(matrix3\u001b[38;5;241m.\u001b[39mastype(\u001b[38;5;28mint\u001b[39m)) \u001b[38;5;66;03m# 불가\u001b[39;00m\n\u001b[0;32m      4\u001b[0m \u001b[38;5;28mprint\u001b[39m(matrix3\u001b[38;5;241m.\u001b[39mastype(\u001b[38;5;28mbool\u001b[39m))\n",
      "\u001b[1;31mValueError\u001b[0m: invalid literal for int() with base 10: '3.14'"
     ]
    }
   ],
   "source": [
    "print(matrix3.astype(float))\n",
    "\n",
    "print(matrix3.astype(int)) # 불가\n",
    "print(matrix3.astype(bool)) # 불가"
   ]
  },
  {
   "cell_type": "markdown",
   "id": "74a316f5",
   "metadata": {},
   "source": [
    "# 넘파이 배열의 인덱싱\n",
    "넘파이배열[index] 넘파이배열[i, j], 넘파일배열[i][j] : i행 j열"
   ]
  },
  {
   "cell_type": "markdown",
   "id": "6879b248",
   "metadata": {
    "ExecuteTime": {
     "end_time": "2023-12-15T05:29:37.913260Z",
     "start_time": "2023-12-15T05:29:37.909761Z"
    }
   },
   "source": [
    "## 1D array"
   ]
  },
  {
   "cell_type": "code",
   "execution_count": 80,
   "id": "7e9737e4",
   "metadata": {
    "ExecuteTime": {
     "end_time": "2023-12-15T05:29:54.876833Z",
     "start_time": "2023-12-15T05:29:54.870778Z"
    }
   },
   "outputs": [
    {
     "data": {
      "text/plain": [
       "(array([1, 3, 5, 7, 9]), 1, (5,), 5)"
      ]
     },
     "execution_count": 80,
     "metadata": {},
     "output_type": "execute_result"
    }
   ],
   "source": [
    "a = np.array([1, 3, 5, 7, 9])\n",
    "a, a.ndim, a.shape, a.size"
   ]
  },
  {
   "cell_type": "code",
   "execution_count": 81,
   "id": "9f11b2fd",
   "metadata": {
    "ExecuteTime": {
     "end_time": "2023-12-15T05:30:02.325148Z",
     "start_time": "2023-12-15T05:30:02.319325Z"
    }
   },
   "outputs": [
    {
     "data": {
      "text/plain": [
       "1"
      ]
     },
     "execution_count": 81,
     "metadata": {},
     "output_type": "execute_result"
    }
   ],
   "source": [
    "a[0]"
   ]
  },
  {
   "cell_type": "code",
   "execution_count": 82,
   "id": "ea6924e0",
   "metadata": {
    "ExecuteTime": {
     "end_time": "2023-12-15T05:30:03.581793Z",
     "start_time": "2023-12-15T05:30:03.575966Z"
    }
   },
   "outputs": [
    {
     "data": {
      "text/plain": [
       "5"
      ]
     },
     "execution_count": 82,
     "metadata": {},
     "output_type": "execute_result"
    }
   ],
   "source": [
    "a[2]"
   ]
  },
  {
   "cell_type": "code",
   "execution_count": 83,
   "id": "94c59a3f",
   "metadata": {
    "ExecuteTime": {
     "end_time": "2023-12-15T05:30:05.140891Z",
     "start_time": "2023-12-15T05:30:05.134230Z"
    }
   },
   "outputs": [
    {
     "data": {
      "text/plain": [
       "9"
      ]
     },
     "execution_count": 83,
     "metadata": {},
     "output_type": "execute_result"
    }
   ],
   "source": [
    "a[4]"
   ]
  },
  {
   "cell_type": "code",
   "execution_count": 84,
   "id": "951fa61c",
   "metadata": {
    "ExecuteTime": {
     "end_time": "2023-12-15T05:30:06.477241Z",
     "start_time": "2023-12-15T05:30:06.470763Z"
    }
   },
   "outputs": [
    {
     "data": {
      "text/plain": [
       "9"
      ]
     },
     "execution_count": 84,
     "metadata": {},
     "output_type": "execute_result"
    }
   ],
   "source": [
    "a[-1]"
   ]
  },
  {
   "cell_type": "code",
   "execution_count": 85,
   "id": "ca410f81",
   "metadata": {
    "ExecuteTime": {
     "end_time": "2023-12-15T05:30:08.892770Z",
     "start_time": "2023-12-15T05:30:08.887124Z"
    }
   },
   "outputs": [
    {
     "data": {
      "text/plain": [
       "5"
      ]
     },
     "execution_count": 85,
     "metadata": {},
     "output_type": "execute_result"
    }
   ],
   "source": [
    "a[-3]"
   ]
  },
  {
   "cell_type": "code",
   "execution_count": 86,
   "id": "a284d70f",
   "metadata": {
    "ExecuteTime": {
     "end_time": "2023-12-15T05:30:10.733336Z",
     "start_time": "2023-12-15T05:30:10.728075Z"
    }
   },
   "outputs": [
    {
     "data": {
      "text/plain": [
       "1"
      ]
     },
     "execution_count": 86,
     "metadata": {},
     "output_type": "execute_result"
    }
   ],
   "source": [
    "a[-5]"
   ]
  },
  {
   "cell_type": "code",
   "execution_count": 89,
   "id": "69741b03",
   "metadata": {
    "ExecuteTime": {
     "end_time": "2023-12-15T05:30:22.427115Z",
     "start_time": "2023-12-15T05:30:22.421713Z"
    }
   },
   "outputs": [
    {
     "data": {
      "text/plain": [
       "array([1, 5, 9])"
      ]
     },
     "execution_count": 89,
     "metadata": {},
     "output_type": "execute_result"
    }
   ],
   "source": [
    "a[[0, 2, 4]]"
   ]
  },
  {
   "cell_type": "code",
   "execution_count": 90,
   "id": "2d004ac1",
   "metadata": {
    "ExecuteTime": {
     "end_time": "2023-12-15T05:30:23.452669Z",
     "start_time": "2023-12-15T05:30:23.447067Z"
    }
   },
   "outputs": [
    {
     "data": {
      "text/plain": [
       "array([1, 3, 5, 7, 9])"
      ]
     },
     "execution_count": 90,
     "metadata": {},
     "output_type": "execute_result"
    }
   ],
   "source": [
    "a"
   ]
  },
  {
   "cell_type": "code",
   "execution_count": 92,
   "id": "1ffa7f39",
   "metadata": {
    "ExecuteTime": {
     "end_time": "2023-12-15T05:31:36.349621Z",
     "start_time": "2023-12-15T05:31:36.343722Z"
    }
   },
   "outputs": [
    {
     "data": {
      "text/plain": [
       "array([[1, 3],\n",
       "       [4, 2]])"
      ]
     },
     "execution_count": 92,
     "metadata": {},
     "output_type": "execute_result"
    }
   ],
   "source": [
    "# 행렬 구조로 인덱싱도 가능하다\n",
    "b = np.array([[1, 3], [4, 2]])\n",
    "b"
   ]
  },
  {
   "cell_type": "code",
   "execution_count": 93,
   "id": "dda87b2b",
   "metadata": {
    "ExecuteTime": {
     "end_time": "2023-12-15T05:31:45.461106Z",
     "start_time": "2023-12-15T05:31:45.454892Z"
    }
   },
   "outputs": [
    {
     "data": {
      "text/plain": [
       "array([[3, 7],\n",
       "       [9, 5]])"
      ]
     },
     "execution_count": 93,
     "metadata": {},
     "output_type": "execute_result"
    }
   ],
   "source": [
    "# 넘파이배열1을 넘파이배열2로 인덱싱하는 경우, 넘파이배열2는 인덱스 번호로 인식\n",
    "a[b]"
   ]
  },
  {
   "cell_type": "code",
   "execution_count": 95,
   "id": "0fd47a56",
   "metadata": {
    "ExecuteTime": {
     "end_time": "2023-12-15T05:34:21.619491Z",
     "start_time": "2023-12-15T05:34:21.613734Z"
    }
   },
   "outputs": [
    {
     "data": {
      "text/plain": [
       "array([1, 3, 0, 7, 9])"
      ]
     },
     "execution_count": 95,
     "metadata": {},
     "output_type": "execute_result"
    }
   ],
   "source": [
    "a[2] = 0\n",
    "a"
   ]
  },
  {
   "cell_type": "code",
   "execution_count": 96,
   "id": "bc02178c",
   "metadata": {
    "ExecuteTime": {
     "end_time": "2023-12-15T05:34:26.550134Z",
     "start_time": "2023-12-15T05:34:26.543533Z"
    }
   },
   "outputs": [
    {
     "data": {
      "text/plain": [
       "array([1, 5, 0, 7, 9])"
      ]
     },
     "execution_count": 96,
     "metadata": {},
     "output_type": "execute_result"
    }
   ],
   "source": [
    "a[1] += 2\n",
    "a"
   ]
  },
  {
   "cell_type": "code",
   "execution_count": 97,
   "id": "bdcd6332",
   "metadata": {
    "ExecuteTime": {
     "end_time": "2023-12-15T05:34:33.485434Z",
     "start_time": "2023-12-15T05:34:33.479500Z"
    }
   },
   "outputs": [
    {
     "data": {
      "text/plain": [
       "array([6, 5, 0, 7, 9])"
      ]
     },
     "execution_count": 97,
     "metadata": {},
     "output_type": "execute_result"
    }
   ],
   "source": [
    "a[0] *= 6\n",
    "a"
   ]
  },
  {
   "cell_type": "markdown",
   "id": "3707b38b",
   "metadata": {},
   "source": [
    "## 2D array"
   ]
  },
  {
   "cell_type": "code",
   "execution_count": 98,
   "id": "f149920b",
   "metadata": {
    "ExecuteTime": {
     "end_time": "2023-12-15T05:35:02.899870Z",
     "start_time": "2023-12-15T05:35:02.894919Z"
    }
   },
   "outputs": [
    {
     "data": {
      "text/plain": [
       "(array([[ 0,  1,  2,  3,  4],\n",
       "        [ 5,  6,  7,  8,  9],\n",
       "        [10, 11, 12, 13, 14]]),\n",
       " 2,\n",
       " (3, 5),\n",
       " 15)"
      ]
     },
     "execution_count": 98,
     "metadata": {},
     "output_type": "execute_result"
    }
   ],
   "source": [
    "a = np.arange(15).reshape(3, 5)\n",
    "a, a.ndim, a.shape, a.size"
   ]
  },
  {
   "cell_type": "code",
   "execution_count": 100,
   "id": "76669293",
   "metadata": {
    "ExecuteTime": {
     "end_time": "2023-12-15T05:38:39.461230Z",
     "start_time": "2023-12-15T05:38:39.454727Z"
    }
   },
   "outputs": [
    {
     "data": {
      "text/plain": [
       "array([0, 1, 2, 3, 4])"
      ]
     },
     "execution_count": 100,
     "metadata": {},
     "output_type": "execute_result"
    }
   ],
   "source": [
    "# 2차원 인덱싱할 때,값을 하나만 넣으면 행인덱싱\n",
    "a[0]"
   ]
  },
  {
   "cell_type": "code",
   "execution_count": 101,
   "id": "693a02f9",
   "metadata": {
    "ExecuteTime": {
     "end_time": "2023-12-15T05:38:49.693840Z",
     "start_time": "2023-12-15T05:38:49.687631Z"
    }
   },
   "outputs": [
    {
     "data": {
      "text/plain": [
       "array([5, 6, 7, 8, 9])"
      ]
     },
     "execution_count": 101,
     "metadata": {},
     "output_type": "execute_result"
    }
   ],
   "source": [
    "a[1]"
   ]
  },
  {
   "cell_type": "code",
   "execution_count": 105,
   "id": "66cc9e9b",
   "metadata": {
    "ExecuteTime": {
     "end_time": "2023-12-15T05:39:35.133458Z",
     "start_time": "2023-12-15T05:39:35.126780Z"
    }
   },
   "outputs": [
    {
     "data": {
      "text/plain": [
       "array([10, 11, 12, 13, 14])"
      ]
     },
     "execution_count": 105,
     "metadata": {},
     "output_type": "execute_result"
    }
   ],
   "source": [
    "a[2]"
   ]
  },
  {
   "cell_type": "code",
   "execution_count": 106,
   "id": "f8e1be59",
   "metadata": {
    "ExecuteTime": {
     "end_time": "2023-12-15T05:39:38.030091Z",
     "start_time": "2023-12-15T05:39:38.024194Z"
    }
   },
   "outputs": [
    {
     "data": {
      "text/plain": [
       "array([10, 11, 12, 13, 14])"
      ]
     },
     "execution_count": 106,
     "metadata": {},
     "output_type": "execute_result"
    }
   ],
   "source": [
    "a[-1]"
   ]
  },
  {
   "cell_type": "code",
   "execution_count": 107,
   "id": "6c495512",
   "metadata": {
    "ExecuteTime": {
     "end_time": "2023-12-15T05:39:41.061500Z",
     "start_time": "2023-12-15T05:39:41.055203Z"
    }
   },
   "outputs": [
    {
     "data": {
      "text/plain": [
       "array([5, 6, 7, 8, 9])"
      ]
     },
     "execution_count": 107,
     "metadata": {},
     "output_type": "execute_result"
    }
   ],
   "source": [
    "a[-2]"
   ]
  },
  {
   "cell_type": "code",
   "execution_count": 108,
   "id": "ee7ac5a8",
   "metadata": {
    "ExecuteTime": {
     "end_time": "2023-12-15T05:39:47.486154Z",
     "start_time": "2023-12-15T05:39:47.479167Z"
    }
   },
   "outputs": [
    {
     "data": {
      "text/plain": [
       "array([0, 1, 2, 3, 4])"
      ]
     },
     "execution_count": 108,
     "metadata": {},
     "output_type": "execute_result"
    }
   ],
   "source": [
    "a[-3]"
   ]
  },
  {
   "cell_type": "code",
   "execution_count": 109,
   "id": "68862228",
   "metadata": {
    "ExecuteTime": {
     "end_time": "2023-12-15T05:39:49.284390Z",
     "start_time": "2023-12-15T05:39:49.278498Z"
    }
   },
   "outputs": [
    {
     "data": {
      "text/plain": [
       "array([[ 0,  1,  2,  3,  4],\n",
       "       [ 5,  6,  7,  8,  9],\n",
       "       [10, 11, 12, 13, 14]])"
      ]
     },
     "execution_count": 109,
     "metadata": {},
     "output_type": "execute_result"
    }
   ],
   "source": [
    "a"
   ]
  },
  {
   "cell_type": "code",
   "execution_count": 110,
   "id": "40de5dc0",
   "metadata": {
    "ExecuteTime": {
     "end_time": "2023-12-15T05:40:05.108859Z",
     "start_time": "2023-12-15T05:40:05.102679Z"
    }
   },
   "outputs": [
    {
     "data": {
      "text/plain": [
       "0"
      ]
     },
     "execution_count": 110,
     "metadata": {},
     "output_type": "execute_result"
    }
   ],
   "source": [
    "a[0, 0]"
   ]
  },
  {
   "cell_type": "code",
   "execution_count": 111,
   "id": "b83fafc2",
   "metadata": {
    "ExecuteTime": {
     "end_time": "2023-12-15T05:40:08.245852Z",
     "start_time": "2023-12-15T05:40:08.239539Z"
    }
   },
   "outputs": [
    {
     "data": {
      "text/plain": [
       "1"
      ]
     },
     "execution_count": 111,
     "metadata": {},
     "output_type": "execute_result"
    }
   ],
   "source": [
    "a[0, 1]"
   ]
  },
  {
   "cell_type": "code",
   "execution_count": 112,
   "id": "55657a57",
   "metadata": {
    "ExecuteTime": {
     "end_time": "2023-12-15T05:40:12.860432Z",
     "start_time": "2023-12-15T05:40:12.854156Z"
    }
   },
   "outputs": [
    {
     "data": {
      "text/plain": [
       "2"
      ]
     },
     "execution_count": 112,
     "metadata": {},
     "output_type": "execute_result"
    }
   ],
   "source": [
    "a[0, 2]"
   ]
  },
  {
   "cell_type": "code",
   "execution_count": 113,
   "id": "0863c292",
   "metadata": {
    "ExecuteTime": {
     "end_time": "2023-12-15T05:40:18.469447Z",
     "start_time": "2023-12-15T05:40:18.463517Z"
    }
   },
   "outputs": [
    {
     "data": {
      "text/plain": [
       "5"
      ]
     },
     "execution_count": 113,
     "metadata": {},
     "output_type": "execute_result"
    }
   ],
   "source": [
    "a[1, 0]"
   ]
  },
  {
   "cell_type": "code",
   "execution_count": 114,
   "id": "7c2edfdd",
   "metadata": {
    "ExecuteTime": {
     "end_time": "2023-12-15T05:40:20.556850Z",
     "start_time": "2023-12-15T05:40:20.551463Z"
    }
   },
   "outputs": [
    {
     "data": {
      "text/plain": [
       "6"
      ]
     },
     "execution_count": 114,
     "metadata": {},
     "output_type": "execute_result"
    }
   ],
   "source": [
    "a[1, 1]"
   ]
  },
  {
   "cell_type": "code",
   "execution_count": 115,
   "id": "4ca2db2d",
   "metadata": {
    "ExecuteTime": {
     "end_time": "2023-12-15T05:40:47.172386Z",
     "start_time": "2023-12-15T05:40:47.166212Z"
    }
   },
   "outputs": [
    {
     "data": {
      "text/plain": [
       "7"
      ]
     },
     "execution_count": 115,
     "metadata": {},
     "output_type": "execute_result"
    }
   ],
   "source": [
    "a[1, 2]"
   ]
  },
  {
   "cell_type": "code",
   "execution_count": 116,
   "id": "b2b37a3b",
   "metadata": {
    "ExecuteTime": {
     "end_time": "2023-12-15T05:40:50.711836Z",
     "start_time": "2023-12-15T05:40:50.706532Z"
    }
   },
   "outputs": [
    {
     "data": {
      "text/plain": [
       "10"
      ]
     },
     "execution_count": 116,
     "metadata": {},
     "output_type": "execute_result"
    }
   ],
   "source": [
    "a[2, 0]"
   ]
  },
  {
   "cell_type": "code",
   "execution_count": 117,
   "id": "14031891",
   "metadata": {
    "ExecuteTime": {
     "end_time": "2023-12-15T05:40:54.517669Z",
     "start_time": "2023-12-15T05:40:54.511579Z"
    }
   },
   "outputs": [
    {
     "data": {
      "text/plain": [
       "12"
      ]
     },
     "execution_count": 117,
     "metadata": {},
     "output_type": "execute_result"
    }
   ],
   "source": [
    "a[2, 2]"
   ]
  },
  {
   "cell_type": "code",
   "execution_count": 118,
   "id": "d92b2345",
   "metadata": {
    "ExecuteTime": {
     "end_time": "2023-12-15T05:40:58.020803Z",
     "start_time": "2023-12-15T05:40:58.015087Z"
    }
   },
   "outputs": [
    {
     "data": {
      "text/plain": [
       "10"
      ]
     },
     "execution_count": 118,
     "metadata": {},
     "output_type": "execute_result"
    }
   ],
   "source": [
    "a[-1, 0]"
   ]
  },
  {
   "cell_type": "code",
   "execution_count": 119,
   "id": "a626ee16",
   "metadata": {
    "ExecuteTime": {
     "end_time": "2023-12-15T05:41:02.779930Z",
     "start_time": "2023-12-15T05:41:02.774093Z"
    }
   },
   "outputs": [
    {
     "data": {
      "text/plain": [
       "11"
      ]
     },
     "execution_count": 119,
     "metadata": {},
     "output_type": "execute_result"
    }
   ],
   "source": [
    "a[-1, 1]"
   ]
  },
  {
   "cell_type": "code",
   "execution_count": 120,
   "id": "4834a253",
   "metadata": {
    "ExecuteTime": {
     "end_time": "2023-12-15T05:41:11.357001Z",
     "start_time": "2023-12-15T05:41:11.351064Z"
    }
   },
   "outputs": [
    {
     "data": {
      "text/plain": [
       "12"
      ]
     },
     "execution_count": 120,
     "metadata": {},
     "output_type": "execute_result"
    }
   ],
   "source": [
    "a[-1, 2]"
   ]
  },
  {
   "cell_type": "code",
   "execution_count": 140,
   "id": "4f8fc4c2",
   "metadata": {
    "ExecuteTime": {
     "end_time": "2023-12-15T05:46:16.036384Z",
     "start_time": "2023-12-15T05:46:16.029669Z"
    }
   },
   "outputs": [
    {
     "data": {
      "text/plain": [
       "array([[ 0,  1,  2,  3,  4],\n",
       "       [ 5,  6,  7,  8,  9],\n",
       "       [10, 11, 12, 13, 14]])"
      ]
     },
     "execution_count": 140,
     "metadata": {},
     "output_type": "execute_result"
    }
   ],
   "source": [
    "a = np.arange(15).reshape(3, -1)\n",
    "a"
   ]
  },
  {
   "cell_type": "code",
   "execution_count": 141,
   "id": "b3f982ba",
   "metadata": {
    "ExecuteTime": {
     "end_time": "2023-12-15T05:46:16.275696Z",
     "start_time": "2023-12-15T05:46:16.269768Z"
    }
   },
   "outputs": [
    {
     "data": {
      "text/plain": [
       "array([[ 0,  1,  2,  3,  4],\n",
       "       [ 1,  3,  5,  7,  9],\n",
       "       [10, 11, 12, 13, 14]])"
      ]
     },
     "execution_count": 141,
     "metadata": {},
     "output_type": "execute_result"
    }
   ],
   "source": [
    "a[1] = [1, 3, 5, 7, 9]\n",
    "a"
   ]
  },
  {
   "cell_type": "code",
   "execution_count": 142,
   "id": "1bed95d6",
   "metadata": {
    "ExecuteTime": {
     "end_time": "2023-12-15T05:46:16.460637Z",
     "start_time": "2023-12-15T05:46:16.453771Z"
    }
   },
   "outputs": [
    {
     "data": {
      "text/plain": [
       "array([[ 0,  1,  2,  3,  4],\n",
       "       [ 1,  3,  5,  7,  9],\n",
       "       [10, 10, 10, 10, 10]])"
      ]
     },
     "execution_count": 142,
     "metadata": {},
     "output_type": "execute_result"
    }
   ],
   "source": [
    "a[-1] = 10\n",
    "a"
   ]
  },
  {
   "cell_type": "code",
   "execution_count": 143,
   "id": "3043c6e6",
   "metadata": {
    "ExecuteTime": {
     "end_time": "2023-12-15T05:46:16.653524Z",
     "start_time": "2023-12-15T05:46:16.646852Z"
    }
   },
   "outputs": [
    {
     "data": {
      "text/plain": [
       "array([[ 1,  3,  5,  7,  9],\n",
       "       [ 1,  3,  5,  7,  9],\n",
       "       [10, 10, 10, 10, 10]])"
      ]
     },
     "execution_count": 143,
     "metadata": {},
     "output_type": "execute_result"
    }
   ],
   "source": [
    "a[0] += [1, 2, 3, 4, 5]\n",
    "a"
   ]
  },
  {
   "cell_type": "code",
   "execution_count": 144,
   "id": "ff16079f",
   "metadata": {
    "ExecuteTime": {
     "end_time": "2023-12-15T05:47:03.950712Z",
     "start_time": "2023-12-15T05:47:03.943214Z"
    }
   },
   "outputs": [
    {
     "data": {
      "text/plain": [
       "(array([0, 1, 2, 3, 4, 5, 6, 7, 8, 9]),\n",
       " array([[ 0,  1,  2,  3],\n",
       "        [ 4,  5,  6,  7],\n",
       "        [ 8,  9, 10, 11]]))"
      ]
     },
     "execution_count": 144,
     "metadata": {},
     "output_type": "execute_result"
    }
   ],
   "source": [
    "matrix_a = np.arange(10)\n",
    "matrix_b = np.arange(12).reshape(3, 4)\n",
    "\n",
    "matrix_a, matrix_b"
   ]
  },
  {
   "cell_type": "code",
   "execution_count": 145,
   "id": "3e31e254",
   "metadata": {
    "ExecuteTime": {
     "end_time": "2023-12-15T05:47:20.556971Z",
     "start_time": "2023-12-15T05:47:20.549926Z"
    }
   },
   "outputs": [
    {
     "data": {
      "text/plain": [
       "(0, 9)"
      ]
     },
     "execution_count": 145,
     "metadata": {},
     "output_type": "execute_result"
    }
   ],
   "source": [
    "# 1차원에서 첫 요소와 마지막 요소\n",
    "matrix_a[0], matrix_a[-1]"
   ]
  },
  {
   "cell_type": "code",
   "execution_count": 146,
   "id": "a2971067",
   "metadata": {
    "ExecuteTime": {
     "end_time": "2023-12-15T05:47:39.228779Z",
     "start_time": "2023-12-15T05:47:39.222714Z"
    }
   },
   "outputs": [
    {
     "data": {
      "text/plain": [
       "0"
      ]
     },
     "execution_count": 146,
     "metadata": {},
     "output_type": "execute_result"
    }
   ],
   "source": [
    "# 2차원에서 1번째 행 1번째 열\n",
    "matrix_b[0, 0]"
   ]
  },
  {
   "cell_type": "code",
   "execution_count": 148,
   "id": "1fa44347",
   "metadata": {
    "ExecuteTime": {
     "end_time": "2023-12-15T05:48:14.389241Z",
     "start_time": "2023-12-15T05:48:14.382667Z"
    }
   },
   "outputs": [
    {
     "data": {
      "text/plain": [
       "array([[ 0,  1,  2,  3],\n",
       "       [ 4,  5,  6,  7],\n",
       "       [ 8,  9, 10, 11]])"
      ]
     },
     "execution_count": 148,
     "metadata": {},
     "output_type": "execute_result"
    }
   ],
   "source": [
    "matrix_b"
   ]
  },
  {
   "cell_type": "code",
   "execution_count": 149,
   "id": "16e3b49e",
   "metadata": {
    "ExecuteTime": {
     "end_time": "2023-12-15T05:48:26.299998Z",
     "start_time": "2023-12-15T05:48:26.294943Z"
    }
   },
   "outputs": [
    {
     "data": {
      "text/plain": [
       "11"
      ]
     },
     "execution_count": 149,
     "metadata": {},
     "output_type": "execute_result"
    }
   ],
   "source": [
    "matrix_b[-1, -1]"
   ]
  },
  {
   "cell_type": "code",
   "execution_count": 150,
   "id": "061f9c68",
   "metadata": {
    "ExecuteTime": {
     "end_time": "2023-12-15T05:48:37.229257Z",
     "start_time": "2023-12-15T05:48:37.222802Z"
    }
   },
   "outputs": [
    {
     "data": {
      "text/plain": [
       "array([[  0,   1,   2,   3],\n",
       "       [  4,   5,   6,   7],\n",
       "       [100,   9,  10,  11]])"
      ]
     },
     "execution_count": 150,
     "metadata": {},
     "output_type": "execute_result"
    }
   ],
   "source": [
    "matrix_b[2, 0] = 100\n",
    "matrix_b"
   ]
  },
  {
   "cell_type": "markdown",
   "id": "46c4322a",
   "metadata": {},
   "source": [
    "# 넘파이배열 슬라이싱\n",
    "1차원\n",
    "- 넘파이배열[:end]\n",
    "- 넘파이배열[start:]\n",
    "- 넘파이배열[start:end]\n",
    "- 넘파이배열[start:end:step]\n",
    "\n",
    "\n",
    "2차원\n",
    "- 넘파이배열[행, 열] = [start:end:step, start2:end2:step2]"
   ]
  },
  {
   "cell_type": "markdown",
   "id": "d0f187c4",
   "metadata": {},
   "source": [
    "## 1D array"
   ]
  },
  {
   "cell_type": "code",
   "execution_count": 151,
   "id": "8c94aae3",
   "metadata": {
    "ExecuteTime": {
     "end_time": "2023-12-15T05:49:51.128533Z",
     "start_time": "2023-12-15T05:49:51.120902Z"
    }
   },
   "outputs": [
    {
     "data": {
      "text/plain": [
       "(array([1, 3, 5, 7, 9]), 1, (5,), 5)"
      ]
     },
     "execution_count": 151,
     "metadata": {},
     "output_type": "execute_result"
    }
   ],
   "source": [
    "a = np.array([1, 3, 5, 7, 9])\n",
    "a, a.ndim, a.shape, a.size"
   ]
  },
  {
   "cell_type": "code",
   "execution_count": 152,
   "id": "977ac776",
   "metadata": {
    "ExecuteTime": {
     "end_time": "2023-12-15T05:49:54.118438Z",
     "start_time": "2023-12-15T05:49:54.111882Z"
    }
   },
   "outputs": [
    {
     "data": {
      "text/plain": [
       "array([1, 3, 5, 7, 9])"
      ]
     },
     "execution_count": 152,
     "metadata": {},
     "output_type": "execute_result"
    }
   ],
   "source": [
    "a[:]"
   ]
  },
  {
   "cell_type": "code",
   "execution_count": 153,
   "id": "54c3cdae",
   "metadata": {
    "ExecuteTime": {
     "end_time": "2023-12-15T05:50:11.749247Z",
     "start_time": "2023-12-15T05:50:11.742879Z"
    }
   },
   "outputs": [
    {
     "data": {
      "text/plain": [
       "array([3, 5, 7, 9])"
      ]
     },
     "execution_count": 153,
     "metadata": {},
     "output_type": "execute_result"
    }
   ],
   "source": [
    "a[1:]"
   ]
  },
  {
   "cell_type": "code",
   "execution_count": 154,
   "id": "79beebc9",
   "metadata": {
    "ExecuteTime": {
     "end_time": "2023-12-15T05:50:15.718805Z",
     "start_time": "2023-12-15T05:50:15.712451Z"
    }
   },
   "outputs": [
    {
     "data": {
      "text/plain": [
       "array([9])"
      ]
     },
     "execution_count": 154,
     "metadata": {},
     "output_type": "execute_result"
    }
   ],
   "source": [
    "a[-1:]"
   ]
  },
  {
   "cell_type": "code",
   "execution_count": 155,
   "id": "901ec1c8",
   "metadata": {
    "ExecuteTime": {
     "end_time": "2023-12-15T05:50:18.613605Z",
     "start_time": "2023-12-15T05:50:18.606834Z"
    }
   },
   "outputs": [
    {
     "data": {
      "text/plain": [
       "array([1, 3, 5])"
      ]
     },
     "execution_count": 155,
     "metadata": {},
     "output_type": "execute_result"
    }
   ],
   "source": [
    "a[:3]"
   ]
  },
  {
   "cell_type": "code",
   "execution_count": 156,
   "id": "a8d5fc5d",
   "metadata": {
    "ExecuteTime": {
     "end_time": "2023-12-15T05:50:23.237296Z",
     "start_time": "2023-12-15T05:50:23.230928Z"
    }
   },
   "outputs": [
    {
     "data": {
      "text/plain": [
       "array([1, 3, 5, 7])"
      ]
     },
     "execution_count": 156,
     "metadata": {},
     "output_type": "execute_result"
    }
   ],
   "source": [
    "a[:-1]"
   ]
  },
  {
   "cell_type": "code",
   "execution_count": 157,
   "id": "82f871b2",
   "metadata": {
    "ExecuteTime": {
     "end_time": "2023-12-15T05:50:25.254039Z",
     "start_time": "2023-12-15T05:50:25.247842Z"
    }
   },
   "outputs": [
    {
     "data": {
      "text/plain": [
       "array([3, 5, 7])"
      ]
     },
     "execution_count": 157,
     "metadata": {},
     "output_type": "execute_result"
    }
   ],
   "source": [
    "a[1:4]"
   ]
  },
  {
   "cell_type": "code",
   "execution_count": 158,
   "id": "792a7166",
   "metadata": {
    "ExecuteTime": {
     "end_time": "2023-12-15T06:02:44.820630Z",
     "start_time": "2023-12-15T06:02:44.815075Z"
    }
   },
   "outputs": [
    {
     "data": {
      "text/plain": [
       "array([3, 5, 7])"
      ]
     },
     "execution_count": 158,
     "metadata": {},
     "output_type": "execute_result"
    }
   ],
   "source": [
    "a[1:-1]"
   ]
  },
  {
   "cell_type": "code",
   "execution_count": 159,
   "id": "04a37285",
   "metadata": {
    "ExecuteTime": {
     "end_time": "2023-12-15T06:02:54.733129Z",
     "start_time": "2023-12-15T06:02:54.727197Z"
    }
   },
   "outputs": [
    {
     "data": {
      "text/plain": [
       "array([], dtype=int32)"
      ]
     },
     "execution_count": 159,
     "metadata": {},
     "output_type": "execute_result"
    }
   ],
   "source": [
    "a[-1:1]"
   ]
  },
  {
   "cell_type": "code",
   "execution_count": 160,
   "id": "793d24a7",
   "metadata": {
    "ExecuteTime": {
     "end_time": "2023-12-15T06:03:45.397344Z",
     "start_time": "2023-12-15T06:03:45.391093Z"
    }
   },
   "outputs": [
    {
     "data": {
      "text/plain": [
       "array([0, 1, 2, 3, 4, 5, 6, 7, 8, 9])"
      ]
     },
     "execution_count": 160,
     "metadata": {},
     "output_type": "execute_result"
    }
   ],
   "source": [
    "a = np.arange(10)\n",
    "a"
   ]
  },
  {
   "cell_type": "code",
   "execution_count": 161,
   "id": "1f6fbb42",
   "metadata": {
    "ExecuteTime": {
     "end_time": "2023-12-15T06:03:50.132694Z",
     "start_time": "2023-12-15T06:03:50.126212Z"
    }
   },
   "outputs": [
    {
     "data": {
      "text/plain": [
       "array([0, 2, 4, 6, 8])"
      ]
     },
     "execution_count": 161,
     "metadata": {},
     "output_type": "execute_result"
    }
   ],
   "source": [
    "a[::2]"
   ]
  },
  {
   "cell_type": "code",
   "execution_count": 162,
   "id": "2088f15c",
   "metadata": {
    "ExecuteTime": {
     "end_time": "2023-12-15T06:04:26.045050Z",
     "start_time": "2023-12-15T06:04:26.038811Z"
    }
   },
   "outputs": [
    {
     "data": {
      "text/plain": [
       "array([0, 5])"
      ]
     },
     "execution_count": 162,
     "metadata": {},
     "output_type": "execute_result"
    }
   ],
   "source": [
    "a[::5]"
   ]
  },
  {
   "cell_type": "code",
   "execution_count": 163,
   "id": "2472d076",
   "metadata": {
    "ExecuteTime": {
     "end_time": "2023-12-15T06:04:34.780519Z",
     "start_time": "2023-12-15T06:04:34.774980Z"
    }
   },
   "outputs": [
    {
     "data": {
      "text/plain": [
       "array([9, 8, 7, 6, 5, 4, 3, 2, 1, 0])"
      ]
     },
     "execution_count": 163,
     "metadata": {},
     "output_type": "execute_result"
    }
   ],
   "source": [
    "a[::-1]"
   ]
  },
  {
   "cell_type": "code",
   "execution_count": 164,
   "id": "6dc9f709",
   "metadata": {
    "ExecuteTime": {
     "end_time": "2023-12-15T06:04:55.356501Z",
     "start_time": "2023-12-15T06:04:55.350824Z"
    }
   },
   "outputs": [
    {
     "data": {
      "text/plain": [
       "array([1, 3, 5, 7, 9])"
      ]
     },
     "execution_count": 164,
     "metadata": {},
     "output_type": "execute_result"
    }
   ],
   "source": [
    "a[1::2]"
   ]
  },
  {
   "cell_type": "code",
   "execution_count": 165,
   "id": "48f2c66f",
   "metadata": {
    "ExecuteTime": {
     "end_time": "2023-12-15T06:05:27.741720Z",
     "start_time": "2023-12-15T06:05:27.735436Z"
    }
   },
   "outputs": [
    {
     "data": {
      "text/plain": [
       "array([0, 2, 4, 6])"
      ]
     },
     "execution_count": 165,
     "metadata": {},
     "output_type": "execute_result"
    }
   ],
   "source": [
    "a[:-2:2]"
   ]
  },
  {
   "cell_type": "markdown",
   "id": "6a53c246",
   "metadata": {},
   "source": [
    "# 2D array"
   ]
  },
  {
   "cell_type": "code",
   "execution_count": 166,
   "id": "7833300d",
   "metadata": {
    "ExecuteTime": {
     "end_time": "2023-12-15T06:06:39.877571Z",
     "start_time": "2023-12-15T06:06:39.871098Z"
    }
   },
   "outputs": [
    {
     "data": {
      "text/plain": [
       "(array([[10, 11, 12, 13, 14],\n",
       "        [15, 16, 17, 18, 19],\n",
       "        [20, 21, 22, 23, 24]]),\n",
       " 2,\n",
       " (3, 5),\n",
       " 15)"
      ]
     },
     "execution_count": 166,
     "metadata": {},
     "output_type": "execute_result"
    }
   ],
   "source": [
    "a = np.arange(10, 25).reshape(3, 5)\n",
    "a, a.ndim, a.shape, a.size"
   ]
  },
  {
   "cell_type": "code",
   "execution_count": 167,
   "id": "cf4a862d",
   "metadata": {
    "ExecuteTime": {
     "end_time": "2023-12-15T06:06:47.203183Z",
     "start_time": "2023-12-15T06:06:47.197552Z"
    }
   },
   "outputs": [
    {
     "data": {
      "text/plain": [
       "array([[10, 11, 12, 13, 14],\n",
       "       [15, 16, 17, 18, 19],\n",
       "       [20, 21, 22, 23, 24]])"
      ]
     },
     "execution_count": 167,
     "metadata": {},
     "output_type": "execute_result"
    }
   ],
   "source": [
    "a[:]"
   ]
  },
  {
   "cell_type": "code",
   "execution_count": 168,
   "id": "b88b7dd7",
   "metadata": {
    "ExecuteTime": {
     "end_time": "2023-12-15T06:06:57.292672Z",
     "start_time": "2023-12-15T06:06:57.285686Z"
    }
   },
   "outputs": [
    {
     "data": {
      "text/plain": [
       "array([[15, 16, 17, 18, 19],\n",
       "       [20, 21, 22, 23, 24]])"
      ]
     },
     "execution_count": 168,
     "metadata": {},
     "output_type": "execute_result"
    }
   ],
   "source": [
    "a[1:]"
   ]
  },
  {
   "cell_type": "code",
   "execution_count": 169,
   "id": "82c8dcd4",
   "metadata": {
    "ExecuteTime": {
     "end_time": "2023-12-15T06:07:01.628969Z",
     "start_time": "2023-12-15T06:07:01.622792Z"
    }
   },
   "outputs": [
    {
     "data": {
      "text/plain": [
       "array([], shape=(0, 5), dtype=int32)"
      ]
     },
     "execution_count": 169,
     "metadata": {},
     "output_type": "execute_result"
    }
   ],
   "source": [
    "a[3:]"
   ]
  },
  {
   "cell_type": "code",
   "execution_count": 170,
   "id": "19e026ec",
   "metadata": {
    "ExecuteTime": {
     "end_time": "2023-12-15T06:07:30.828441Z",
     "start_time": "2023-12-15T06:07:30.821612Z"
    }
   },
   "outputs": [
    {
     "data": {
      "text/plain": [
       "array([[20, 21, 22, 23, 24]])"
      ]
     },
     "execution_count": 170,
     "metadata": {},
     "output_type": "execute_result"
    }
   ],
   "source": [
    "a[-1:]"
   ]
  },
  {
   "cell_type": "code",
   "execution_count": 171,
   "id": "82eb9cb4",
   "metadata": {
    "ExecuteTime": {
     "end_time": "2023-12-15T06:07:38.317497Z",
     "start_time": "2023-12-15T06:07:38.311611Z"
    }
   },
   "outputs": [
    {
     "data": {
      "text/plain": [
       "array([[10, 11, 12, 13, 14],\n",
       "       [15, 16, 17, 18, 19],\n",
       "       [20, 21, 22, 23, 24]])"
      ]
     },
     "execution_count": 171,
     "metadata": {},
     "output_type": "execute_result"
    }
   ],
   "source": [
    "a[-3:]"
   ]
  },
  {
   "cell_type": "code",
   "execution_count": 172,
   "id": "bbc19e74",
   "metadata": {
    "ExecuteTime": {
     "end_time": "2023-12-15T06:08:44.597120Z",
     "start_time": "2023-12-15T06:08:44.591256Z"
    }
   },
   "outputs": [
    {
     "data": {
      "text/plain": [
       "array([], shape=(0, 5), dtype=int32)"
      ]
     },
     "execution_count": 172,
     "metadata": {},
     "output_type": "execute_result"
    }
   ],
   "source": [
    "a[:0]"
   ]
  },
  {
   "cell_type": "code",
   "execution_count": 173,
   "id": "db7456f4",
   "metadata": {
    "ExecuteTime": {
     "end_time": "2023-12-15T06:09:34.412619Z",
     "start_time": "2023-12-15T06:09:34.406498Z"
    }
   },
   "outputs": [
    {
     "data": {
      "text/plain": [
       "array([[15, 16, 17, 18, 19]])"
      ]
     },
     "execution_count": 173,
     "metadata": {},
     "output_type": "execute_result"
    }
   ],
   "source": [
    "a[1:-1]"
   ]
  },
  {
   "cell_type": "code",
   "execution_count": 174,
   "id": "e160ebc2",
   "metadata": {
    "ExecuteTime": {
     "end_time": "2023-12-15T06:10:04.076588Z",
     "start_time": "2023-12-15T06:10:04.070690Z"
    }
   },
   "outputs": [
    {
     "data": {
      "text/plain": [
       "array([[10],\n",
       "       [15],\n",
       "       [20]])"
      ]
     },
     "execution_count": 174,
     "metadata": {},
     "output_type": "execute_result"
    }
   ],
   "source": [
    "a[:, 0:1]"
   ]
  },
  {
   "cell_type": "code",
   "execution_count": 175,
   "id": "c3b33e81",
   "metadata": {
    "ExecuteTime": {
     "end_time": "2023-12-15T06:10:16.204369Z",
     "start_time": "2023-12-15T06:10:16.198662Z"
    }
   },
   "outputs": [
    {
     "data": {
      "text/plain": [
       "array([[11, 12, 13],\n",
       "       [16, 17, 18],\n",
       "       [21, 22, 23]])"
      ]
     },
     "execution_count": 175,
     "metadata": {},
     "output_type": "execute_result"
    }
   ],
   "source": [
    "a[:, 1:-1]"
   ]
  },
  {
   "cell_type": "code",
   "execution_count": 176,
   "id": "4081fd6a",
   "metadata": {
    "ExecuteTime": {
     "end_time": "2023-12-15T06:10:25.716981Z",
     "start_time": "2023-12-15T06:10:25.710346Z"
    }
   },
   "outputs": [
    {
     "data": {
      "text/plain": [
       "array([[11, 12, 13, 14],\n",
       "       [16, 17, 18, 19],\n",
       "       [21, 22, 23, 24]])"
      ]
     },
     "execution_count": 176,
     "metadata": {},
     "output_type": "execute_result"
    }
   ],
   "source": [
    "a[:, 1:]"
   ]
  },
  {
   "cell_type": "code",
   "execution_count": 178,
   "id": "6bfedae0",
   "metadata": {
    "ExecuteTime": {
     "end_time": "2023-12-15T06:10:42.655502Z",
     "start_time": "2023-12-15T06:10:42.648696Z"
    }
   },
   "outputs": [
    {
     "data": {
      "text/plain": [
       "array([[10, 11, 12, 13, 14, 15, 16, 17, 18, 19],\n",
       "       [20, 21, 22, 23, 24, 25, 26, 27, 28, 29],\n",
       "       [30, 31, 32, 33, 34, 35, 36, 37, 38, 39],\n",
       "       [40, 41, 42, 43, 44, 45, 46, 47, 48, 49],\n",
       "       [50, 51, 52, 53, 54, 55, 56, 57, 58, 59],\n",
       "       [60, 61, 62, 63, 64, 65, 66, 67, 68, 69],\n",
       "       [70, 71, 72, 73, 74, 75, 76, 77, 78, 79],\n",
       "       [80, 81, 82, 83, 84, 85, 86, 87, 88, 89],\n",
       "       [90, 91, 92, 93, 94, 95, 96, 97, 98, 99]])"
      ]
     },
     "execution_count": 178,
     "metadata": {},
     "output_type": "execute_result"
    }
   ],
   "source": [
    "a = np.arange(10, 100).reshape(9, 10)\n",
    "a"
   ]
  },
  {
   "cell_type": "code",
   "execution_count": 179,
   "id": "9c891fa5",
   "metadata": {
    "ExecuteTime": {
     "end_time": "2023-12-15T06:12:17.797416Z",
     "start_time": "2023-12-15T06:12:17.790598Z"
    }
   },
   "outputs": [
    {
     "data": {
      "text/plain": [
       "array([[22]])"
      ]
     },
     "execution_count": 179,
     "metadata": {},
     "output_type": "execute_result"
    }
   ],
   "source": [
    "a[1:2, 2:3]"
   ]
  },
  {
   "cell_type": "code",
   "execution_count": 180,
   "id": "87f6d719",
   "metadata": {
    "ExecuteTime": {
     "end_time": "2023-12-15T06:14:08.620631Z",
     "start_time": "2023-12-15T06:14:08.614134Z"
    }
   },
   "outputs": [
    {
     "data": {
      "text/plain": [
       "array([[10, 11, 12, 13, 14, 15, 16, 17, 18, 19],\n",
       "       [20, 21, 22, 23, 24, 25, 26, 27, 28, 29],\n",
       "       [30, 31, 32, 33, 34, 35, 36, 37, 38, 39],\n",
       "       [40, 41, 42, 43, 44, 45, 46, 47, 48, 49],\n",
       "       [50, 51, 52, 53, 54, 55, 56, 57, 58, 59],\n",
       "       [60, 61, 62, 63, 64, 65, 66, 67, 68, 69],\n",
       "       [70, 71, 72, 73, 74, 75, 76, 77, 78, 79],\n",
       "       [80, 81, 82, 83, 84, 85, 86, 87, 88, 89],\n",
       "       [90, 91, 92, 93, 94, 95, 96, 97, 98, 99]])"
      ]
     },
     "execution_count": 180,
     "metadata": {},
     "output_type": "execute_result"
    }
   ],
   "source": [
    "a[:, :]"
   ]
  },
  {
   "cell_type": "code",
   "execution_count": 181,
   "id": "e45da4f6",
   "metadata": {
    "ExecuteTime": {
     "end_time": "2023-12-15T06:14:14.748973Z",
     "start_time": "2023-12-15T06:14:14.742106Z"
    }
   },
   "outputs": [
    {
     "data": {
      "text/plain": [
       "array([[11, 12, 13, 14, 15, 16, 17, 18, 19],\n",
       "       [21, 22, 23, 24, 25, 26, 27, 28, 29],\n",
       "       [31, 32, 33, 34, 35, 36, 37, 38, 39],\n",
       "       [41, 42, 43, 44, 45, 46, 47, 48, 49],\n",
       "       [51, 52, 53, 54, 55, 56, 57, 58, 59],\n",
       "       [61, 62, 63, 64, 65, 66, 67, 68, 69],\n",
       "       [71, 72, 73, 74, 75, 76, 77, 78, 79],\n",
       "       [81, 82, 83, 84, 85, 86, 87, 88, 89],\n",
       "       [91, 92, 93, 94, 95, 96, 97, 98, 99]])"
      ]
     },
     "execution_count": 181,
     "metadata": {},
     "output_type": "execute_result"
    }
   ],
   "source": [
    "a[:, 1:]"
   ]
  },
  {
   "cell_type": "code",
   "execution_count": 182,
   "id": "7e2a3311",
   "metadata": {
    "ExecuteTime": {
     "end_time": "2023-12-15T06:14:37.716096Z",
     "start_time": "2023-12-15T06:14:37.710558Z"
    }
   },
   "outputs": [
    {
     "data": {
      "text/plain": [
       "array([[13, 14, 15, 16, 17, 18, 19],\n",
       "       [23, 24, 25, 26, 27, 28, 29],\n",
       "       [33, 34, 35, 36, 37, 38, 39],\n",
       "       [43, 44, 45, 46, 47, 48, 49],\n",
       "       [53, 54, 55, 56, 57, 58, 59],\n",
       "       [63, 64, 65, 66, 67, 68, 69],\n",
       "       [73, 74, 75, 76, 77, 78, 79],\n",
       "       [83, 84, 85, 86, 87, 88, 89],\n",
       "       [93, 94, 95, 96, 97, 98, 99]])"
      ]
     },
     "execution_count": 182,
     "metadata": {},
     "output_type": "execute_result"
    }
   ],
   "source": [
    "a[:, 3:]"
   ]
  },
  {
   "cell_type": "code",
   "execution_count": 183,
   "id": "670ef9b5",
   "metadata": {
    "ExecuteTime": {
     "end_time": "2023-12-15T06:18:12.197245Z",
     "start_time": "2023-12-15T06:18:12.190917Z"
    }
   },
   "outputs": [
    {
     "data": {
      "text/plain": [
       "array([[19],\n",
       "       [29],\n",
       "       [39],\n",
       "       [49],\n",
       "       [59],\n",
       "       [69],\n",
       "       [79],\n",
       "       [89],\n",
       "       [99]])"
      ]
     },
     "execution_count": 183,
     "metadata": {},
     "output_type": "execute_result"
    }
   ],
   "source": [
    "a[:, -1:]"
   ]
  },
  {
   "cell_type": "code",
   "execution_count": 184,
   "id": "4b4fb213",
   "metadata": {
    "ExecuteTime": {
     "end_time": "2023-12-15T06:18:17.164511Z",
     "start_time": "2023-12-15T06:18:17.159259Z"
    }
   },
   "outputs": [
    {
     "data": {
      "text/plain": [
       "array([[30, 31, 32, 33, 34, 35, 36, 37, 38, 39],\n",
       "       [40, 41, 42, 43, 44, 45, 46, 47, 48, 49],\n",
       "       [50, 51, 52, 53, 54, 55, 56, 57, 58, 59]])"
      ]
     },
     "execution_count": 184,
     "metadata": {},
     "output_type": "execute_result"
    }
   ],
   "source": [
    "a[2:5, :]"
   ]
  },
  {
   "cell_type": "code",
   "execution_count": 187,
   "id": "d9cf5dee",
   "metadata": {
    "ExecuteTime": {
     "end_time": "2023-12-15T06:22:56.508978Z",
     "start_time": "2023-12-15T06:22:56.502692Z"
    }
   },
   "outputs": [
    {
     "data": {
      "text/plain": [
       "array([[99, 98, 97, 96, 95, 94, 93, 92, 91, 90],\n",
       "       [89, 88, 87, 86, 85, 84, 83, 82, 81, 80],\n",
       "       [79, 78, 77, 76, 75, 74, 73, 72, 71, 70],\n",
       "       [69, 68, 67, 66, 65, 64, 63, 62, 61, 60],\n",
       "       [59, 58, 57, 56, 55, 54, 53, 52, 51, 50],\n",
       "       [49, 48, 47, 46, 45, 44, 43, 42, 41, 40],\n",
       "       [39, 38, 37, 36, 35, 34, 33, 32, 31, 30],\n",
       "       [29, 28, 27, 26, 25, 24, 23, 22, 21, 20],\n",
       "       [19, 18, 17, 16, 15, 14, 13, 12, 11, 10]])"
      ]
     },
     "execution_count": 187,
     "metadata": {},
     "output_type": "execute_result"
    }
   ],
   "source": [
    "a[::-1, ::-1]"
   ]
  },
  {
   "cell_type": "markdown",
   "id": "e5368ccc",
   "metadata": {},
   "source": [
    "# 전치행렬"
   ]
  },
  {
   "cell_type": "code",
   "execution_count": 188,
   "id": "d39da327",
   "metadata": {
    "ExecuteTime": {
     "end_time": "2023-12-15T06:24:16.076907Z",
     "start_time": "2023-12-15T06:24:16.070884Z"
    }
   },
   "outputs": [
    {
     "data": {
      "text/plain": [
       "array([[1, 2],\n",
       "       [3, 4],\n",
       "       [5, 6]])"
      ]
     },
     "execution_count": 188,
     "metadata": {},
     "output_type": "execute_result"
    }
   ],
   "source": [
    "matrix_d = np.arange(1,7).reshape(3, 2)\n",
    "matrix_d"
   ]
  },
  {
   "cell_type": "code",
   "execution_count": 190,
   "id": "c58cf9d7",
   "metadata": {
    "ExecuteTime": {
     "end_time": "2023-12-15T06:24:26.873789Z",
     "start_time": "2023-12-15T06:24:26.869562Z"
    }
   },
   "outputs": [
    {
     "name": "stdout",
     "output_type": "stream",
     "text": [
      "[[1 3 5]\n",
      " [2 4 6]]\n"
     ]
    }
   ],
   "source": [
    "print(matrix_d.T)"
   ]
  },
  {
   "cell_type": "code",
   "execution_count": 191,
   "id": "c288c539",
   "metadata": {
    "ExecuteTime": {
     "end_time": "2023-12-15T06:26:10.241475Z",
     "start_time": "2023-12-15T06:26:10.236399Z"
    }
   },
   "outputs": [
    {
     "name": "stdout",
     "output_type": "stream",
     "text": [
      "[[1 2 3]\n",
      " [4 5 6]]\n"
     ]
    }
   ],
   "source": [
    "print(matrix_d.reshape(2, 3))"
   ]
  },
  {
   "cell_type": "markdown",
   "id": "07fcb2a3",
   "metadata": {},
   "source": [
    "# 난수로 구성된 넘파이 배열\n",
    "np.random.randint(start, end, n) : 정수 난수\n",
    "\n",
    "np.random.randint(start, end, (i, j))"
   ]
  },
  {
   "cell_type": "code",
   "execution_count": null,
   "id": "f43856e6",
   "metadata": {},
   "outputs": [],
   "source": [
    "np.random?"
   ]
  },
  {
   "cell_type": "code",
   "execution_count": 192,
   "id": "5f52a315",
   "metadata": {
    "ExecuteTime": {
     "end_time": "2023-12-15T06:27:38.357853Z",
     "start_time": "2023-12-15T06:27:38.350580Z"
    }
   },
   "outputs": [
    {
     "data": {
      "text/plain": [
       "array([9, 2, 8, 8, 5, 9, 3, 9, 3, 8])"
      ]
     },
     "execution_count": 192,
     "metadata": {},
     "output_type": "execute_result"
    }
   ],
   "source": [
    "# 1~10 사이의 숫자중에서 10개 출력\n",
    "np.random.randint(1, 10, 10)"
   ]
  },
  {
   "cell_type": "code",
   "execution_count": 193,
   "id": "6168db9c",
   "metadata": {
    "ExecuteTime": {
     "end_time": "2023-12-15T06:27:51.756844Z",
     "start_time": "2023-12-15T06:27:51.749782Z"
    }
   },
   "outputs": [
    {
     "data": {
      "text/plain": [
       "array([[7, 6, 4, 6, 5],\n",
       "       [9, 6, 9, 2, 1]])"
      ]
     },
     "execution_count": 193,
     "metadata": {},
     "output_type": "execute_result"
    }
   ],
   "source": [
    "# 2행 5열로 출력\n",
    "np.random.randint(1, 10, (2, 5))"
   ]
  },
  {
   "cell_type": "markdown",
   "id": "f66fff27",
   "metadata": {},
   "source": [
    "# 섞기\n",
    "np.random.shuffle(넘파이배열) 원본에 바로 적용"
   ]
  },
  {
   "cell_type": "code",
   "execution_count": 194,
   "id": "20633b10",
   "metadata": {
    "ExecuteTime": {
     "end_time": "2023-12-15T06:28:28.587243Z",
     "start_time": "2023-12-15T06:28:28.581329Z"
    }
   },
   "outputs": [
    {
     "data": {
      "text/plain": [
       "<function RandomState.shuffle>"
      ]
     },
     "execution_count": 194,
     "metadata": {},
     "output_type": "execute_result"
    }
   ],
   "source": [
    "np.random.shuffle"
   ]
  },
  {
   "cell_type": "code",
   "execution_count": 195,
   "id": "c3d3d2a8",
   "metadata": {
    "ExecuteTime": {
     "end_time": "2023-12-15T06:28:47.092099Z",
     "start_time": "2023-12-15T06:28:47.085736Z"
    }
   },
   "outputs": [
    {
     "data": {
      "text/plain": [
       "array([ 1,  2,  3,  4,  5,  6,  7,  8,  9, 10])"
      ]
     },
     "execution_count": 195,
     "metadata": {},
     "output_type": "execute_result"
    }
   ],
   "source": [
    "# 10개 무작위 값 만들기\n",
    "matrix_e = np.arange(1, 11)\n",
    "matrix_e"
   ]
  },
  {
   "cell_type": "code",
   "execution_count": 196,
   "id": "cea9398f",
   "metadata": {
    "ExecuteTime": {
     "end_time": "2023-12-15T06:29:02.644856Z",
     "start_time": "2023-12-15T06:29:02.638641Z"
    }
   },
   "outputs": [
    {
     "data": {
      "text/plain": [
       "array([10,  4,  6,  3,  9,  7,  1,  2,  5,  8])"
      ]
     },
     "execution_count": 196,
     "metadata": {},
     "output_type": "execute_result"
    }
   ],
   "source": [
    "np.random.shuffle(matrix_e)\n",
    "matrix_e"
   ]
  },
  {
   "cell_type": "code",
   "execution_count": 208,
   "id": "fe61f36c",
   "metadata": {
    "ExecuteTime": {
     "end_time": "2023-12-15T06:31:29.410231Z",
     "start_time": "2023-12-15T06:31:29.405418Z"
    }
   },
   "outputs": [],
   "source": [
    "num = np.arange(1, 46)\n",
    "lotto = np.random.shuffle(num)\n",
    "lotto"
   ]
  },
  {
   "cell_type": "code",
   "execution_count": 210,
   "id": "5652f584",
   "metadata": {
    "ExecuteTime": {
     "end_time": "2023-12-15T06:31:31.931310Z",
     "start_time": "2023-12-15T06:31:31.924473Z"
    }
   },
   "outputs": [
    {
     "data": {
      "text/plain": [
       "array([ 4, 29, 34, 40, 26, 28])"
      ]
     },
     "execution_count": 210,
     "metadata": {},
     "output_type": "execute_result"
    }
   ],
   "source": [
    "lotto = np.random.randint(1, 46, 6)\n",
    "lotto"
   ]
  },
  {
   "cell_type": "markdown",
   "id": "2af4f8c0",
   "metadata": {},
   "source": [
    "# 실수 난수\n",
    "\n",
    "np.random.randn(n) np.random.randn(i, j)\n",
    "\n"
   ]
  },
  {
   "cell_type": "code",
   "execution_count": 211,
   "id": "03867eda",
   "metadata": {
    "ExecuteTime": {
     "end_time": "2023-12-15T06:32:12.676701Z",
     "start_time": "2023-12-15T06:32:12.670071Z"
    }
   },
   "outputs": [
    {
     "data": {
      "text/plain": [
       "<function RandomState.randn>"
      ]
     },
     "execution_count": 211,
     "metadata": {},
     "output_type": "execute_result"
    }
   ],
   "source": [
    "np.random.randn"
   ]
  },
  {
   "cell_type": "code",
   "execution_count": 213,
   "id": "adc91e17",
   "metadata": {
    "ExecuteTime": {
     "end_time": "2023-12-15T06:32:36.828294Z",
     "start_time": "2023-12-15T06:32:36.822059Z"
    }
   },
   "outputs": [
    {
     "data": {
      "text/plain": [
       "array([ 0.89689417,  2.20030782,  0.16443315,  1.00689992, -1.20217541,\n",
       "        0.2464724 ,  0.64728539,  0.24303971,  1.49472759,  0.21706112])"
      ]
     },
     "execution_count": 213,
     "metadata": {},
     "output_type": "execute_result"
    }
   ],
   "source": [
    "matrix1 = np.random.randn(10) # 표준정규분포 0 ~ 분산 1\n",
    "matrix1"
   ]
  },
  {
   "cell_type": "code",
   "execution_count": 214,
   "id": "d4eaed41",
   "metadata": {
    "ExecuteTime": {
     "end_time": "2023-12-15T06:32:57.748229Z",
     "start_time": "2023-12-15T06:32:57.741439Z"
    }
   },
   "outputs": [
    {
     "data": {
      "text/plain": [
       "array([[-0.44134707,  1.00822309, -1.06273817, -0.24374958],\n",
       "       [-0.57174175,  0.4628562 ,  0.05966913, -1.30079688],\n",
       "       [-0.64018633,  0.45539074,  0.75654626,  1.41684055],\n",
       "       [-0.54029661, -0.22891325, -0.19061512, -0.40461078]])"
      ]
     },
     "execution_count": 214,
     "metadata": {},
     "output_type": "execute_result"
    }
   ],
   "source": [
    "matrix2 = np.random.randn(4, 4)\n",
    "matrix2"
   ]
  },
  {
   "cell_type": "code",
   "execution_count": 216,
   "id": "5cecb84b",
   "metadata": {
    "ExecuteTime": {
     "end_time": "2023-12-15T06:33:40.076775Z",
     "start_time": "2023-12-15T06:33:40.070501Z"
    }
   },
   "outputs": [
    {
     "data": {
      "text/plain": [
       "(2.2003078216662826, -1.2021754060250343)"
      ]
     },
     "execution_count": 216,
     "metadata": {},
     "output_type": "execute_result"
    }
   ],
   "source": [
    "matrix1.max(), matrix1.min()"
   ]
  },
  {
   "cell_type": "markdown",
   "id": "46dbe814",
   "metadata": {},
   "source": [
    "# 집계함수에서의 축\n",
    "- 2차원에서의 집계합수(sum, mean)\n",
    "- axis = 0, 1\n",
    "- np.sum(넘파이배열, axis=0/1)\n",
    "- np.mean(넘파이배열, axis=0/1)\n",
    "- np.sort(넘파이배열, axis=0/1)"
   ]
  },
  {
   "cell_type": "code",
   "execution_count": 217,
   "id": "5f536de9",
   "metadata": {
    "ExecuteTime": {
     "end_time": "2023-12-15T06:35:30.412729Z",
     "start_time": "2023-12-15T06:35:30.405816Z"
    }
   },
   "outputs": [
    {
     "data": {
      "text/plain": [
       "array([[19, 26, 48, 42, 16],\n",
       "       [22, 11, 13, 35, 44],\n",
       "       [44,  4, 42, 49,  4],\n",
       "       [11,  6, 37, 13, 45],\n",
       "       [16,  9, 24, 47,  6]])"
      ]
     },
     "execution_count": 217,
     "metadata": {},
     "output_type": "execute_result"
    }
   ],
   "source": [
    "m1 = np.random.randint(1, 50, (5, 5))\n",
    "m1"
   ]
  },
  {
   "cell_type": "code",
   "execution_count": 218,
   "id": "da6fb994",
   "metadata": {
    "ExecuteTime": {
     "end_time": "2023-12-15T06:36:48.062224Z",
     "start_time": "2023-12-15T06:36:48.056625Z"
    }
   },
   "outputs": [
    {
     "data": {
      "text/plain": [
       "array([112,  56, 164, 186, 115])"
      ]
     },
     "execution_count": 218,
     "metadata": {},
     "output_type": "execute_result"
    }
   ],
   "source": [
    "np.sum(m1, axis=0) # (x)행 합계"
   ]
  },
  {
   "cell_type": "code",
   "execution_count": 220,
   "id": "4f789bdf",
   "metadata": {
    "ExecuteTime": {
     "end_time": "2023-12-15T06:37:45.085038Z",
     "start_time": "2023-12-15T06:37:45.079048Z"
    }
   },
   "outputs": [
    {
     "data": {
      "text/plain": [
       "125"
      ]
     },
     "execution_count": 220,
     "metadata": {},
     "output_type": "execute_result"
    }
   ],
   "source": [
    "np.sum(m1[1], axis=0)"
   ]
  },
  {
   "cell_type": "code",
   "execution_count": 222,
   "id": "d196b28b",
   "metadata": {
    "ExecuteTime": {
     "end_time": "2023-12-15T06:39:45.155539Z",
     "start_time": "2023-12-15T06:39:45.148999Z"
    }
   },
   "outputs": [
    {
     "data": {
      "text/plain": [
       "151"
      ]
     },
     "execution_count": 222,
     "metadata": {},
     "output_type": "execute_result"
    }
   ],
   "source": [
    "# 1번째 행의 합계\n",
    "np.sum(m1[0,:], axis=0)"
   ]
  },
  {
   "cell_type": "code",
   "execution_count": 223,
   "id": "80888d58",
   "metadata": {
    "ExecuteTime": {
     "end_time": "2023-12-15T06:40:05.869757Z",
     "start_time": "2023-12-15T06:40:05.863534Z"
    }
   },
   "outputs": [
    {
     "data": {
      "text/plain": [
       "array([151, 125, 143, 112, 102])"
      ]
     },
     "execution_count": 223,
     "metadata": {},
     "output_type": "execute_result"
    }
   ],
   "source": [
    "np.sum(m1, axis=1) # 열(y) 합계"
   ]
  },
  {
   "cell_type": "markdown",
   "id": "21f5154d",
   "metadata": {},
   "source": [
    "# np.sort()"
   ]
  },
  {
   "cell_type": "code",
   "execution_count": 224,
   "id": "b5ee2571",
   "metadata": {
    "ExecuteTime": {
     "end_time": "2023-12-15T06:40:37.852951Z",
     "start_time": "2023-12-15T06:40:37.845910Z"
    }
   },
   "outputs": [
    {
     "data": {
      "text/plain": [
       "array([[11, 18, 22],\n",
       "       [ 8,  5, 42],\n",
       "       [23, 44, 38],\n",
       "       [43, 47,  5]])"
      ]
     },
     "execution_count": 224,
     "metadata": {},
     "output_type": "execute_result"
    }
   ],
   "source": [
    "# 정수 난수로 구성된 4x3\n",
    "m2 = np.random.randint(1, 50, (4, 3))\n",
    "m2"
   ]
  },
  {
   "cell_type": "code",
   "execution_count": 226,
   "id": "e239fbb9",
   "metadata": {
    "ExecuteTime": {
     "end_time": "2023-12-15T06:41:48.620265Z",
     "start_time": "2023-12-15T06:41:48.613502Z"
    }
   },
   "outputs": [
    {
     "data": {
      "text/plain": [
       "array([[11, 18, 22],\n",
       "       [ 5,  8, 42],\n",
       "       [23, 38, 44],\n",
       "       [ 5, 43, 47]])"
      ]
     },
     "execution_count": 226,
     "metadata": {},
     "output_type": "execute_result"
    }
   ],
   "source": [
    "np.sort(m2)"
   ]
  },
  {
   "cell_type": "code",
   "execution_count": 228,
   "id": "c2e58048",
   "metadata": {
    "ExecuteTime": {
     "end_time": "2023-12-15T06:42:45.084368Z",
     "start_time": "2023-12-15T06:42:45.077806Z"
    }
   },
   "outputs": [
    {
     "data": {
      "text/plain": [
       "array([[ 8,  5,  5],\n",
       "       [11, 18, 22],\n",
       "       [23, 44, 38],\n",
       "       [43, 47, 42]])"
      ]
     },
     "execution_count": 228,
     "metadata": {},
     "output_type": "execute_result"
    }
   ],
   "source": [
    "np.sort(m2, axis = 0) # 행방향 오름차순(요소별로)"
   ]
  },
  {
   "cell_type": "code",
   "execution_count": 229,
   "id": "1398bca3",
   "metadata": {
    "ExecuteTime": {
     "end_time": "2023-12-15T06:43:25.166201Z",
     "start_time": "2023-12-15T06:43:25.160369Z"
    }
   },
   "outputs": [
    {
     "data": {
      "text/plain": [
       "array([[43, 47,  5],\n",
       "       [23, 44, 38],\n",
       "       [ 8,  5, 42],\n",
       "       [11, 18, 22]])"
      ]
     },
     "execution_count": 229,
     "metadata": {},
     "output_type": "execute_result"
    }
   ],
   "source": [
    "m2[::-1, ::]"
   ]
  },
  {
   "cell_type": "code",
   "execution_count": 230,
   "id": "d48f4fc5",
   "metadata": {
    "ExecuteTime": {
     "end_time": "2023-12-15T06:45:00.460034Z",
     "start_time": "2023-12-15T06:45:00.453290Z"
    }
   },
   "outputs": [
    {
     "data": {
      "text/plain": [
       "array([[11, 18, 22],\n",
       "       [ 5,  8, 42],\n",
       "       [23, 38, 44],\n",
       "       [ 5, 43, 47]])"
      ]
     },
     "execution_count": 230,
     "metadata": {},
     "output_type": "execute_result"
    }
   ],
   "source": [
    "np.sort(m2, axis = 1)"
   ]
  },
  {
   "cell_type": "markdown",
   "id": "7fd4511f",
   "metadata": {},
   "source": [
    "# 인덱스 소팅\n",
    "np.argsort(넘파이배열, axis=0,1)\n",
    "\n",
    "정렬값을 인덱스로 반환 (np.sort()를 인덱스로)"
   ]
  },
  {
   "cell_type": "code",
   "execution_count": 238,
   "id": "8283fb55",
   "metadata": {
    "ExecuteTime": {
     "end_time": "2023-12-15T06:49:49.123431Z",
     "start_time": "2023-12-15T06:49:49.117011Z"
    }
   },
   "outputs": [
    {
     "data": {
      "text/plain": [
       "array([ 9, 10,  4])"
      ]
     },
     "execution_count": 238,
     "metadata": {},
     "output_type": "execute_result"
    }
   ],
   "source": [
    "x = np.array([9, 10, 4])\n",
    "x"
   ]
  },
  {
   "cell_type": "code",
   "execution_count": 241,
   "id": "56165cd3",
   "metadata": {
    "ExecuteTime": {
     "end_time": "2023-12-15T06:50:13.942594Z",
     "start_time": "2023-12-15T06:50:13.937106Z"
    }
   },
   "outputs": [
    {
     "data": {
      "text/plain": [
       "array([2, 0, 1], dtype=int64)"
      ]
     },
     "execution_count": 241,
     "metadata": {},
     "output_type": "execute_result"
    }
   ],
   "source": [
    "np.argsort(x) # 오름차순 정렬 4, 9, 10 의 인덱스 값"
   ]
  },
  {
   "cell_type": "code",
   "execution_count": 240,
   "id": "1ec34ddc",
   "metadata": {
    "ExecuteTime": {
     "end_time": "2023-12-15T06:49:59.907333Z",
     "start_time": "2023-12-15T06:49:59.901305Z"
    }
   },
   "outputs": [
    {
     "data": {
      "text/plain": [
       "array([ 4,  9, 10])"
      ]
     },
     "execution_count": 240,
     "metadata": {},
     "output_type": "execute_result"
    }
   ],
   "source": [
    "x[np.argsort(x)] # 인덱스값으로 실제 값 출력"
   ]
  },
  {
   "cell_type": "markdown",
   "id": "bbc3d59d",
   "metadata": {
    "ExecuteTime": {
     "end_time": "2023-12-18T04:20:56.080825Z",
     "start_time": "2023-12-18T04:20:56.077155Z"
    }
   },
   "source": [
    "# 넘파이 배열 요소 추가와 삭제"
   ]
  },
  {
   "cell_type": "code",
   "execution_count": 2,
   "id": "ff247f50",
   "metadata": {
    "ExecuteTime": {
     "end_time": "2023-12-18T04:21:09.962781Z",
     "start_time": "2023-12-18T04:21:09.789909Z"
    }
   },
   "outputs": [],
   "source": [
    "import numpy as np"
   ]
  },
  {
   "cell_type": "code",
   "execution_count": 3,
   "id": "d5579c51",
   "metadata": {
    "ExecuteTime": {
     "end_time": "2023-12-18T04:21:18.786895Z",
     "start_time": "2023-12-18T04:21:18.776656Z"
    }
   },
   "outputs": [
    {
     "data": {
      "text/plain": [
       "array([ 1,  2,  3,  4,  5,  6,  7,  8,  9, 10])"
      ]
     },
     "execution_count": 3,
     "metadata": {},
     "output_type": "execute_result"
    }
   ],
   "source": [
    "m3 = np.arange(1, 11)\n",
    "m3"
   ]
  },
  {
   "cell_type": "code",
   "execution_count": 4,
   "id": "fbbbb265",
   "metadata": {
    "ExecuteTime": {
     "end_time": "2023-12-18T04:21:31.116718Z",
     "start_time": "2023-12-18T04:21:31.109978Z"
    }
   },
   "outputs": [
    {
     "data": {
      "text/plain": [
       "array([100,   1,   2,   3,   4,   5,   6,   7,   8,   9,  10])"
      ]
     },
     "execution_count": 4,
     "metadata": {},
     "output_type": "execute_result"
    }
   ],
   "source": [
    "np.insert(m3, 0, 100)"
   ]
  },
  {
   "cell_type": "code",
   "execution_count": 5,
   "id": "4ddfd7fd",
   "metadata": {
    "ExecuteTime": {
     "end_time": "2023-12-18T04:21:41.028126Z",
     "start_time": "2023-12-18T04:21:41.022229Z"
    }
   },
   "outputs": [
    {
     "data": {
      "text/plain": [
       "10"
      ]
     },
     "execution_count": 5,
     "metadata": {},
     "output_type": "execute_result"
    }
   ],
   "source": [
    "m3[-1]"
   ]
  },
  {
   "cell_type": "code",
   "execution_count": 6,
   "id": "5d5cc4f7",
   "metadata": {
    "ExecuteTime": {
     "end_time": "2023-12-18T04:21:52.335259Z",
     "start_time": "2023-12-18T04:21:52.328981Z"
    }
   },
   "outputs": [
    {
     "data": {
      "text/plain": [
       "array([  1,   2,   3,   4,   5,   6,   7,   8,   9, 500,  10])"
      ]
     },
     "execution_count": 6,
     "metadata": {},
     "output_type": "execute_result"
    }
   ],
   "source": [
    "np.insert(m3, -1, 500)"
   ]
  },
  {
   "cell_type": "code",
   "execution_count": 7,
   "id": "db6f29f3",
   "metadata": {
    "ExecuteTime": {
     "end_time": "2023-12-18T04:22:23.748180Z",
     "start_time": "2023-12-18T04:22:23.741466Z"
    }
   },
   "outputs": [
    {
     "data": {
      "text/plain": [
       "array([  1,   2,   3,   4,   5,   6,   7,   8,   9,  10, 500])"
      ]
     },
     "execution_count": 7,
     "metadata": {},
     "output_type": "execute_result"
    }
   ],
   "source": [
    "np.insert(m3, len(m3), 500)"
   ]
  },
  {
   "cell_type": "code",
   "execution_count": 8,
   "id": "be3ffbf7",
   "metadata": {
    "ExecuteTime": {
     "end_time": "2023-12-18T04:22:43.876614Z",
     "start_time": "2023-12-18T04:22:43.870029Z"
    }
   },
   "outputs": [
    {
     "data": {
      "text/plain": [
       "array([[1, 2, 3],\n",
       "       [4, 5, 6],\n",
       "       [7, 8, 9]])"
      ]
     },
     "execution_count": 8,
     "metadata": {},
     "output_type": "execute_result"
    }
   ],
   "source": [
    "m4 = np.arange(1, 10).reshape(3, 3)\n",
    "m4"
   ]
  },
  {
   "cell_type": "code",
   "execution_count": 9,
   "id": "00530ee4",
   "metadata": {
    "ExecuteTime": {
     "end_time": "2023-12-18T04:25:08.296430Z",
     "start_time": "2023-12-18T04:25:08.290215Z"
    }
   },
   "outputs": [
    {
     "data": {
      "text/plain": [
       "array([100,   1,   2,   3,   4,   5,   6,   7,   8,   9])"
      ]
     },
     "execution_count": 9,
     "metadata": {},
     "output_type": "execute_result"
    }
   ],
   "source": [
    "np.insert(m4, 0, 100) # 2차원 배열의 경우 axis 미설정시 1차원으로 변경되어 삽입"
   ]
  },
  {
   "cell_type": "code",
   "execution_count": 10,
   "id": "9e4b3632",
   "metadata": {
    "ExecuteTime": {
     "end_time": "2023-12-18T04:25:19.707479Z",
     "start_time": "2023-12-18T04:25:19.701492Z"
    }
   },
   "outputs": [
    {
     "data": {
      "text/plain": [
       "array([[100,   1,   2,   3],\n",
       "       [100,   4,   5,   6],\n",
       "       [100,   7,   8,   9]])"
      ]
     },
     "execution_count": 10,
     "metadata": {},
     "output_type": "execute_result"
    }
   ],
   "source": [
    "np.insert(m4, 0, 100, axis = 1)"
   ]
  },
  {
   "cell_type": "code",
   "execution_count": 11,
   "id": "e115c829",
   "metadata": {
    "ExecuteTime": {
     "end_time": "2023-12-18T04:26:08.830138Z",
     "start_time": "2023-12-18T04:26:08.822999Z"
    }
   },
   "outputs": [
    {
     "data": {
      "text/plain": [
       "array([[  1,   2,   3, 100],\n",
       "       [  4,   5,   6, 200],\n",
       "       [  7,   8,   9, 300]])"
      ]
     },
     "execution_count": 11,
     "metadata": {},
     "output_type": "execute_result"
    }
   ],
   "source": [
    "# 마지막 컬럼으로 삽입\n",
    "# 배열명.shape[1] 칼럼 길이\n",
    "np.insert(m4, m4.shape[1], [100, 200, 300], axis = 1)"
   ]
  },
  {
   "cell_type": "code",
   "execution_count": 12,
   "id": "e6bd0fbb",
   "metadata": {
    "ExecuteTime": {
     "end_time": "2023-12-18T04:26:55.765511Z",
     "start_time": "2023-12-18T04:26:55.758515Z"
    }
   },
   "outputs": [
    {
     "data": {
      "text/plain": [
       "array([[  1,   2,   3],\n",
       "       [  4,   5,   6],\n",
       "       [  7,   8,   9],\n",
       "       [100, 200, 300]])"
      ]
     },
     "execution_count": 12,
     "metadata": {},
     "output_type": "execute_result"
    }
   ],
   "source": [
    "# 마지막 행에 삽입\n",
    "np.insert(m4, m4.shape[0], [100, 200, 300], axis = 0)"
   ]
  },
  {
   "cell_type": "code",
   "execution_count": 13,
   "id": "7fd3982a",
   "metadata": {
    "ExecuteTime": {
     "end_time": "2023-12-18T04:27:00.675674Z",
     "start_time": "2023-12-18T04:27:00.669515Z"
    }
   },
   "outputs": [
    {
     "data": {
      "text/plain": [
       "array([[1, 2, 3],\n",
       "       [4, 5, 6],\n",
       "       [7, 8, 9]])"
      ]
     },
     "execution_count": 13,
     "metadata": {},
     "output_type": "execute_result"
    }
   ],
   "source": [
    "m4"
   ]
  },
  {
   "cell_type": "code",
   "execution_count": 14,
   "id": "8a97a93a",
   "metadata": {
    "ExecuteTime": {
     "end_time": "2023-12-18T04:27:11.163615Z",
     "start_time": "2023-12-18T04:27:11.157705Z"
    }
   },
   "outputs": [
    {
     "data": {
      "text/plain": [
       "array([[4, 5, 6],\n",
       "       [7, 8, 9]])"
      ]
     },
     "execution_count": 14,
     "metadata": {},
     "output_type": "execute_result"
    }
   ],
   "source": [
    "np.delete(m4, 0, axis = 0)"
   ]
  },
  {
   "cell_type": "code",
   "execution_count": 15,
   "id": "adc79290",
   "metadata": {
    "ExecuteTime": {
     "end_time": "2023-12-18T04:27:14.267834Z",
     "start_time": "2023-12-18T04:27:14.262516Z"
    }
   },
   "outputs": [
    {
     "data": {
      "text/plain": [
       "array([[1, 2, 3],\n",
       "       [4, 5, 6],\n",
       "       [7, 8, 9]])"
      ]
     },
     "execution_count": 15,
     "metadata": {},
     "output_type": "execute_result"
    }
   ],
   "source": [
    "m4"
   ]
  },
  {
   "cell_type": "markdown",
   "id": "509db8a6",
   "metadata": {},
   "source": [
    "# 배열 합치기\n",
    "\n",
    "np.vstack((배열1,배열2....)) : 세로 합치기\n",
    "\n",
    "np.hstack((배열1,배열2....)) : 가로 합치기\n",
    "\n",
    "np.concatenate((배열1, 배열2), axis=0/1 ) 2차원만 가능"
   ]
  },
  {
   "cell_type": "code",
   "execution_count": 16,
   "id": "158601c0",
   "metadata": {
    "ExecuteTime": {
     "end_time": "2023-12-18T04:27:53.668800Z",
     "start_time": "2023-12-18T04:27:53.662698Z"
    }
   },
   "outputs": [
    {
     "data": {
      "text/plain": [
       "array([[1, 2, 3],\n",
       "       [4, 5, 6]])"
      ]
     },
     "execution_count": 16,
     "metadata": {},
     "output_type": "execute_result"
    }
   ],
   "source": [
    "a = np.array([1, 2, 3])\n",
    "b = np.array([4, 5, 6])\n",
    "np.vstack((a, b))"
   ]
  },
  {
   "cell_type": "code",
   "execution_count": 17,
   "id": "c674bae7",
   "metadata": {
    "ExecuteTime": {
     "end_time": "2023-12-18T04:28:00.940036Z",
     "start_time": "2023-12-18T04:28:00.933667Z"
    }
   },
   "outputs": [
    {
     "data": {
      "text/plain": [
       "array([1, 2, 3, 4, 5, 6])"
      ]
     },
     "execution_count": 17,
     "metadata": {},
     "output_type": "execute_result"
    }
   ],
   "source": [
    "np.hstack((a, b))"
   ]
  },
  {
   "cell_type": "code",
   "execution_count": 19,
   "id": "30891577",
   "metadata": {
    "ExecuteTime": {
     "end_time": "2023-12-18T04:28:28.053433Z",
     "start_time": "2023-12-18T04:28:28.046924Z"
    }
   },
   "outputs": [
    {
     "data": {
      "text/plain": [
       "(array([[1, 2, 3]]), 2, (1, 3))"
      ]
     },
     "execution_count": 19,
     "metadata": {},
     "output_type": "execute_result"
    }
   ],
   "source": [
    "c = np.array([[1, 2, 3]])\n",
    "c, c.ndim, c.shape"
   ]
  },
  {
   "cell_type": "code",
   "execution_count": 20,
   "id": "905e6f55",
   "metadata": {
    "ExecuteTime": {
     "end_time": "2023-12-18T04:28:51.044524Z",
     "start_time": "2023-12-18T04:28:51.037701Z"
    }
   },
   "outputs": [
    {
     "data": {
      "text/plain": [
       "(array([[4, 5, 6]]), 2, (1, 3))"
      ]
     },
     "execution_count": 20,
     "metadata": {},
     "output_type": "execute_result"
    }
   ],
   "source": [
    "d = np.array([[4, 5, 6]])\n",
    "d, d.ndim, d.shape"
   ]
  },
  {
   "cell_type": "code",
   "execution_count": 21,
   "id": "04958f5e",
   "metadata": {
    "ExecuteTime": {
     "end_time": "2023-12-18T04:29:11.989493Z",
     "start_time": "2023-12-18T04:29:11.982829Z"
    }
   },
   "outputs": [
    {
     "data": {
      "text/plain": [
       "(array([[1, 2, 3],\n",
       "        [4, 5, 6]]),\n",
       " 2,\n",
       " (2, 3))"
      ]
     },
     "execution_count": 21,
     "metadata": {},
     "output_type": "execute_result"
    }
   ],
   "source": [
    "f = np.concatenate((c, d), axis = 0)\n",
    "f, f.ndim, f.shape"
   ]
  },
  {
   "cell_type": "code",
   "execution_count": 22,
   "id": "2d760a96",
   "metadata": {
    "ExecuteTime": {
     "end_time": "2023-12-18T04:29:40.956175Z",
     "start_time": "2023-12-18T04:29:40.950385Z"
    }
   },
   "outputs": [
    {
     "data": {
      "text/plain": [
       "(array([[1, 2, 3, 4, 5, 6]]), 2, (1, 6))"
      ]
     },
     "execution_count": 22,
     "metadata": {},
     "output_type": "execute_result"
    }
   ],
   "source": [
    "f = np.concatenate((c, d), axis = 1)\n",
    "f, f.ndim, f.shape"
   ]
  },
  {
   "cell_type": "markdown",
   "id": "64d9fcea",
   "metadata": {},
   "source": [
    "# boolean indexing, mask\n",
    "조건절의 결과는 True, False로 반환\n",
    "\n",
    "True인 결과의 데이터 반환\n",
    "\n",
    "넘파이배열[조건절] : ==, !=, <=, >=, &, |, ~"
   ]
  },
  {
   "cell_type": "code",
   "execution_count": 23,
   "id": "c707e41d",
   "metadata": {
    "ExecuteTime": {
     "end_time": "2023-12-18T04:32:35.036552Z",
     "start_time": "2023-12-18T04:32:35.030227Z"
    }
   },
   "outputs": [
    {
     "data": {
      "text/plain": [
       "array([ 1,  2,  3,  4,  5,  6,  7,  8,  9, 10, 11, 12, 13, 14, 15, 16, 17,\n",
       "       18, 19, 20])"
      ]
     },
     "execution_count": 23,
     "metadata": {},
     "output_type": "execute_result"
    }
   ],
   "source": [
    "matrix = np.arange(1, 21)\n",
    "matrix"
   ]
  },
  {
   "cell_type": "code",
   "execution_count": 24,
   "id": "0b7f1b96",
   "metadata": {
    "ExecuteTime": {
     "end_time": "2023-12-18T04:32:38.948046Z",
     "start_time": "2023-12-18T04:32:38.941309Z"
    }
   },
   "outputs": [
    {
     "data": {
      "text/plain": [
       "array([False, False, False, False, False, False, False, False, False,\n",
       "       False,  True,  True,  True,  True,  True,  True,  True,  True,\n",
       "        True,  True])"
      ]
     },
     "execution_count": 24,
     "metadata": {},
     "output_type": "execute_result"
    }
   ],
   "source": [
    "matrix > 10"
   ]
  },
  {
   "cell_type": "code",
   "execution_count": 25,
   "id": "576c911d",
   "metadata": {
    "ExecuteTime": {
     "end_time": "2023-12-18T04:33:17.306834Z",
     "start_time": "2023-12-18T04:33:17.301209Z"
    }
   },
   "outputs": [
    {
     "data": {
      "text/plain": [
       "array([11, 12, 13, 14, 15, 16, 17, 18, 19, 20])"
      ]
     },
     "execution_count": 25,
     "metadata": {},
     "output_type": "execute_result"
    }
   ],
   "source": [
    "matrix[matrix > 10]"
   ]
  },
  {
   "cell_type": "code",
   "execution_count": 26,
   "id": "bb728dcd",
   "metadata": {
    "ExecuteTime": {
     "end_time": "2023-12-18T04:34:02.117520Z",
     "start_time": "2023-12-18T04:34:02.111267Z"
    }
   },
   "outputs": [
    {
     "data": {
      "text/plain": [
       "10"
      ]
     },
     "execution_count": 26,
     "metadata": {},
     "output_type": "execute_result"
    }
   ],
   "source": [
    "(matrix > 10).sum()"
   ]
  },
  {
   "cell_type": "code",
   "execution_count": 27,
   "id": "4567ff48",
   "metadata": {
    "ExecuteTime": {
     "end_time": "2023-12-18T04:34:57.778553Z",
     "start_time": "2023-12-18T04:34:57.771440Z"
    }
   },
   "outputs": [
    {
     "data": {
      "text/plain": [
       "array([59, 42, 48, 24, 78, 22, 69, 76, 66, 18, 33, 46, 95, 92, 11, 18, 71,\n",
       "       14, 10, 36, 21, 15, 83, 83, 44, 46, 74, 81, 27, 21])"
      ]
     },
     "execution_count": 27,
     "metadata": {},
     "output_type": "execute_result"
    }
   ],
   "source": [
    "a = np.random.randint(1, 100, 30)\n",
    "a"
   ]
  },
  {
   "cell_type": "code",
   "execution_count": 38,
   "id": "8595c073",
   "metadata": {
    "ExecuteTime": {
     "end_time": "2023-12-18T04:36:57.555780Z",
     "start_time": "2023-12-18T04:36:57.549924Z"
    }
   },
   "outputs": [
    {
     "data": {
      "text/plain": [
       "array([59, 42, 48, 69, 66, 33, 46, 36, 44, 46])"
      ]
     },
     "execution_count": 38,
     "metadata": {},
     "output_type": "execute_result"
    }
   ],
   "source": [
    "a[(a > 30) & (a < 70)]"
   ]
  },
  {
   "cell_type": "code",
   "execution_count": 40,
   "id": "a0fafbd1",
   "metadata": {
    "ExecuteTime": {
     "end_time": "2023-12-18T04:42:25.652521Z",
     "start_time": "2023-12-18T04:42:25.646083Z"
    }
   },
   "outputs": [
    {
     "data": {
      "text/plain": [
       "array([24, 22, 18, 11, 18, 14, 10, 21, 15, 27, 21])"
      ]
     },
     "execution_count": 40,
     "metadata": {},
     "output_type": "execute_result"
    }
   ],
   "source": [
    "# ~ 은 reverse 를 의미\n",
    "a[~(a > 30) & (a < 70)]"
   ]
  },
  {
   "cell_type": "code",
   "execution_count": 41,
   "id": "3ae4c3a9",
   "metadata": {
    "ExecuteTime": {
     "end_time": "2023-12-18T04:42:51.947227Z",
     "start_time": "2023-12-18T04:42:51.940831Z"
    }
   },
   "outputs": [
    {
     "data": {
      "text/plain": [
       "array([95, 92])"
      ]
     },
     "execution_count": 41,
     "metadata": {},
     "output_type": "execute_result"
    }
   ],
   "source": [
    "# 10보다 작거나 90보다 큰 수\n",
    "a[(a < 10) | (a > 90)]"
   ]
  },
  {
   "cell_type": "markdown",
   "id": "cda78743",
   "metadata": {},
   "source": [
    "# fancy indexing(filtering)\n",
    "넘파이 배열에 배열로 인덱싱하면 인덱스 번호로 인식한다.\n",
    "\n",
    "넘파이배열1[넘파이배열2]\n",
    "\n",
    "넘파이배열2 : 인덱스 역할 (only 정수형)"
   ]
  },
  {
   "cell_type": "code",
   "execution_count": 42,
   "id": "8ac7c777",
   "metadata": {
    "ExecuteTime": {
     "end_time": "2023-12-18T04:43:34.044941Z",
     "start_time": "2023-12-18T04:43:34.038625Z"
    }
   },
   "outputs": [
    {
     "data": {
      "text/plain": [
       "(array([26,  5, 54, 61, 66, 53, 90, 34, 87, 57, 67, 57,  4, 29, 30, 12, 35,\n",
       "        75, 60, 37, 87, 27, 45, 77, 90, 20, 74, 80, 44, 19]),\n",
       " array([26, 54, 61, 67, 87]))"
      ]
     },
     "execution_count": 42,
     "metadata": {},
     "output_type": "execute_result"
    }
   ],
   "source": [
    "n = np.random.randint(1, 100, 30)\n",
    "i = np.array([0, 2, 3, 10, 20])\n",
    "n, n[i]"
   ]
  },
  {
   "cell_type": "markdown",
   "id": "f7d9ba0f",
   "metadata": {},
   "source": [
    "# np.where()를 이용한 필터링\n",
    "np.where(조건식) : 조건식 만족하는 인덱스 반환\n",
    "\n",
    "np.where(조건식, T, F) : 조건식 만족하면 T값, 아니면F값\n",
    "\n",
    "배열[np.where(조건식)] : 조건식 만족하는 실제 배열값"
   ]
  },
  {
   "cell_type": "code",
   "execution_count": 43,
   "id": "01062c9d",
   "metadata": {
    "ExecuteTime": {
     "end_time": "2023-12-18T04:44:04.258639Z",
     "start_time": "2023-12-18T04:44:04.253544Z"
    }
   },
   "outputs": [],
   "source": [
    "np.where?"
   ]
  },
  {
   "cell_type": "code",
   "execution_count": 44,
   "id": "0af1ec39",
   "metadata": {
    "ExecuteTime": {
     "end_time": "2023-12-18T04:44:24.956861Z",
     "start_time": "2023-12-18T04:44:24.950481Z"
    }
   },
   "outputs": [
    {
     "data": {
      "text/plain": [
       "(array([0, 1, 2, 3, 4, 5, 6, 7, 8, 9]),\n",
       " array([ 0,  1,  2,  3,  4, 50, 60, 70, 80, 90]))"
      ]
     },
     "execution_count": 44,
     "metadata": {},
     "output_type": "execute_result"
    }
   ],
   "source": [
    "a = np.arange(10)\n",
    "a, np.where(a < 5, a, 10 * a)\n",
    "# a 가 5보다 작으면 a를, 아니면 10을 곱하여 출력"
   ]
  },
  {
   "cell_type": "code",
   "execution_count": 46,
   "id": "73b17750",
   "metadata": {
    "ExecuteTime": {
     "end_time": "2023-12-18T04:45:35.084110Z",
     "start_time": "2023-12-18T04:45:35.077779Z"
    }
   },
   "outputs": [
    {
     "data": {
      "text/plain": [
       "(array([20, 21, 22, 23, 24, 25, 26, 27, 28, 29, 30]),\n",
       " (array([0, 1, 2, 3, 4], dtype=int64),))"
      ]
     },
     "execution_count": 46,
     "metadata": {},
     "output_type": "execute_result"
    }
   ],
   "source": [
    "b = np.arange(20, 31)\n",
    "b, np.where(b < 25)\n",
    "# 조건을 하나만 주면 인덱스를 반환함"
   ]
  },
  {
   "cell_type": "code",
   "execution_count": null,
   "id": "ccdfd122",
   "metadata": {},
   "outputs": [],
   "source": []
  }
 ],
 "metadata": {
  "kernelspec": {
   "display_name": "Python 3 (ipykernel)",
   "language": "python",
   "name": "python3"
  },
  "language_info": {
   "codemirror_mode": {
    "name": "ipython",
    "version": 3
   },
   "file_extension": ".py",
   "mimetype": "text/x-python",
   "name": "python",
   "nbconvert_exporter": "python",
   "pygments_lexer": "ipython3",
   "version": "3.11.5"
  },
  "toc": {
   "base_numbering": 1,
   "nav_menu": {},
   "number_sections": true,
   "sideBar": true,
   "skip_h1_title": false,
   "title_cell": "Table of Contents",
   "title_sidebar": "Contents",
   "toc_cell": false,
   "toc_position": {},
   "toc_section_display": true,
   "toc_window_display": false
  }
 },
 "nbformat": 4,
 "nbformat_minor": 5
}
