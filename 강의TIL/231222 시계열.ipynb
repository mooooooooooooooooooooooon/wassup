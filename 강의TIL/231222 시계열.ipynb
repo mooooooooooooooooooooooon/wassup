{
 "cells": [
  {
   "cell_type": "markdown",
   "id": "2b5bf104",
   "metadata": {},
   "source": [
    "# 4.8 시계열 자료 다루기\n",
    "{margin}\n",
    "`DatetimeIndex`"
   ]
  },
  {
   "cell_type": "code",
   "execution_count": 1,
   "id": "9b95caf4",
   "metadata": {
    "ExecuteTime": {
     "end_time": "2023-12-22T06:08:22.142143Z",
     "start_time": "2023-12-22T06:08:22.138123Z"
    }
   },
   "outputs": [],
   "source": [
    "from datetime import datetime"
   ]
  },
  {
   "cell_type": "code",
   "execution_count": 2,
   "id": "c86d80a3",
   "metadata": {
    "ExecuteTime": {
     "end_time": "2023-12-22T06:08:35.711310Z",
     "start_time": "2023-12-22T06:08:35.702112Z"
    }
   },
   "outputs": [
    {
     "data": {
      "text/plain": [
       "datetime.datetime(2023, 11, 22, 15, 30, 45)"
      ]
     },
     "execution_count": 2,
     "metadata": {},
     "output_type": "execute_result"
    }
   ],
   "source": [
    "dt = datetime(2023, 11, 22, 15, 30, 45)\n",
    "dt"
   ]
  },
  {
   "cell_type": "code",
   "execution_count": 3,
   "id": "2f37343c",
   "metadata": {
    "ExecuteTime": {
     "end_time": "2023-12-22T06:08:51.434834Z",
     "start_time": "2023-12-22T06:08:51.430761Z"
    }
   },
   "outputs": [
    {
     "name": "stdout",
     "output_type": "stream",
     "text": [
      "2023 11 22 15 30 45\n"
     ]
    }
   ],
   "source": [
    "print(dt.year, dt.month, dt.day, dt.hour, dt.minute, dt.second)\n"
   ]
  },
  {
   "cell_type": "code",
   "execution_count": 4,
   "id": "b3ebc430",
   "metadata": {
    "ExecuteTime": {
     "end_time": "2023-12-22T06:09:20.525066Z",
     "start_time": "2023-12-22T06:09:20.518372Z"
    }
   },
   "outputs": [
    {
     "data": {
      "text/plain": [
       "datetime.datetime(2023, 12, 22, 15, 9, 20, 521373)"
      ]
     },
     "execution_count": 4,
     "metadata": {},
     "output_type": "execute_result"
    }
   ],
   "source": [
    "cur = datetime.now()\n",
    "cur"
   ]
  },
  {
   "cell_type": "markdown",
   "id": "15e8ba4d",
   "metadata": {},
   "source": [
    "## DatetimeIndex 인덱스\n",
    "시계열 자료는 인덱스가 날짜 혹은 시간인 데이터를 말한다.\n",
    "판다스에서 시계열 자료를 생성하려면 인덱스를 DatetimeIndex 자료형으로 만들어야 한다.\n",
    "DatetimeIndex는 특정한 순간에 기록된 타임스탬프(timestamp) 형식의 시계열 자료를 다루기 위한 인덱스이다.\n",
    "타임스탬프 인덱스의 라벨값이 반드시 일정한 간격일 필요는 없다.\n",
    "\n",
    "DatetimeIndex 인덱스는 다음과 같은 보조 함수를 사용하여 생성한다.\n",
    "\n",
    "pd.to_datetime 함수\n",
    "pd.date_range 함수\n",
    "{margin}\n",
    "to_datetime\n",
    "pd.to_datetime 함수를 쓰면 날짜/시간을 나타내는 문자열을 자동으로 datetime 자료형으로 바꾼 후 DatetimeIndex 자료형 인덱스를 생성한다. https://docs.python.org/3/library/datetime.html#strftime-and-strptime-behavior"
   ]
  },
  {
   "cell_type": "code",
   "execution_count": 8,
   "id": "73b7300d",
   "metadata": {
    "ExecuteTime": {
     "end_time": "2023-12-22T06:12:27.539433Z",
     "start_time": "2023-12-22T06:12:27.535217Z"
    }
   },
   "outputs": [],
   "source": [
    "import pandas as pd\n",
    "import numpy as np\n",
    "import random"
   ]
  },
  {
   "cell_type": "code",
   "execution_count": 6,
   "id": "6dd4fba1",
   "metadata": {
    "ExecuteTime": {
     "end_time": "2023-12-22T06:11:22.722613Z",
     "start_time": "2023-12-22T06:11:22.710177Z"
    }
   },
   "outputs": [
    {
     "data": {
      "text/plain": [
       "DatetimeIndex(['2023-01-01', '2023-01-04', '2023-01-05', '2023-01-06'], dtype='datetime64[ns]', freq=None)"
      ]
     },
     "execution_count": 6,
     "metadata": {},
     "output_type": "execute_result"
    }
   ],
   "source": [
    "# format 생략해도 자동으로 잡히긴하지만 포맷을 지정하는게 좋음\n",
    "date_str = [\"2023, 1, 1\", \"2023, 1, 4\", \"2023, 1, 5\", \"2023, 1, 6\"]\n",
    "idx = pd.to_datetime(date_str) \n",
    "idx"
   ]
  },
  {
   "cell_type": "code",
   "execution_count": 9,
   "id": "4cf223b0",
   "metadata": {
    "ExecuteTime": {
     "end_time": "2023-12-22T06:12:30.440175Z",
     "start_time": "2023-12-22T06:12:30.430385Z"
    }
   },
   "outputs": [
    {
     "data": {
      "text/plain": [
       "2023-01-01    1.764052\n",
       "2023-01-04    0.400157\n",
       "2023-01-05    0.978738\n",
       "2023-01-06    2.240893\n",
       "dtype: float64"
      ]
     },
     "execution_count": 9,
     "metadata": {},
     "output_type": "execute_result"
    }
   ],
   "source": [
    "np.random.seed(0)\n",
    "s = pd.Series(np.random.randn(4), index=idx)\n",
    "s"
   ]
  },
  {
   "cell_type": "code",
   "execution_count": 10,
   "id": "935d07cc",
   "metadata": {
    "ExecuteTime": {
     "end_time": "2023-12-22T06:13:37.337017Z",
     "start_time": "2023-12-22T06:13:37.326241Z"
    }
   },
   "outputs": [
    {
     "name": "stdout",
     "output_type": "stream",
     "text": [
      "<class 'pandas.core.series.Series'>\n",
      "DatetimeIndex: 4 entries, 2023-01-01 to 2023-01-06\n",
      "Series name: None\n",
      "Non-Null Count  Dtype  \n",
      "--------------  -----  \n",
      "4 non-null      float64\n",
      "dtypes: float64(1)\n",
      "memory usage: 64.0 bytes\n"
     ]
    }
   ],
   "source": [
    "s.info()\n"
   ]
  },
  {
   "cell_type": "code",
   "execution_count": 18,
   "id": "15a23a73",
   "metadata": {
    "ExecuteTime": {
     "end_time": "2023-12-22T06:16:35.450655Z",
     "start_time": "2023-12-22T06:16:35.445703Z"
    }
   },
   "outputs": [],
   "source": [
    "data ={'2023년11월19일':[10,20,30],\n",
    "       '2023년11월20일':[40,50,60],\n",
    "       '2023년11월21일':[70,80,90],\n",
    "       '2023년11월22일':[100,120,130]}"
   ]
  },
  {
   "cell_type": "code",
   "execution_count": 19,
   "id": "befcfb44",
   "metadata": {
    "ExecuteTime": {
     "end_time": "2023-12-22T06:16:35.968439Z",
     "start_time": "2023-12-22T06:16:35.958660Z"
    }
   },
   "outputs": [
    {
     "data": {
      "text/html": [
       "<div>\n",
       "<style scoped>\n",
       "    .dataframe tbody tr th:only-of-type {\n",
       "        vertical-align: middle;\n",
       "    }\n",
       "\n",
       "    .dataframe tbody tr th {\n",
       "        vertical-align: top;\n",
       "    }\n",
       "\n",
       "    .dataframe thead th {\n",
       "        text-align: right;\n",
       "    }\n",
       "</style>\n",
       "<table border=\"1\" class=\"dataframe\">\n",
       "  <thead>\n",
       "    <tr style=\"text-align: right;\">\n",
       "      <th></th>\n",
       "      <th>2023년11월19일</th>\n",
       "      <th>2023년11월20일</th>\n",
       "      <th>2023년11월21일</th>\n",
       "      <th>2023년11월22일</th>\n",
       "    </tr>\n",
       "  </thead>\n",
       "  <tbody>\n",
       "    <tr>\n",
       "      <th>0</th>\n",
       "      <td>10</td>\n",
       "      <td>40</td>\n",
       "      <td>70</td>\n",
       "      <td>100</td>\n",
       "    </tr>\n",
       "    <tr>\n",
       "      <th>1</th>\n",
       "      <td>20</td>\n",
       "      <td>50</td>\n",
       "      <td>80</td>\n",
       "      <td>120</td>\n",
       "    </tr>\n",
       "    <tr>\n",
       "      <th>2</th>\n",
       "      <td>30</td>\n",
       "      <td>60</td>\n",
       "      <td>90</td>\n",
       "      <td>130</td>\n",
       "    </tr>\n",
       "  </tbody>\n",
       "</table>\n",
       "</div>"
      ],
      "text/plain": [
       "   2023년11월19일  2023년11월20일  2023년11월21일  2023년11월22일\n",
       "0           10           40           70          100\n",
       "1           20           50           80          120\n",
       "2           30           60           90          130"
      ]
     },
     "execution_count": 19,
     "metadata": {},
     "output_type": "execute_result"
    }
   ],
   "source": [
    "df = pd.DataFrame(data)\n",
    "df"
   ]
  },
  {
   "cell_type": "code",
   "execution_count": 22,
   "id": "73a6d545",
   "metadata": {
    "ExecuteTime": {
     "end_time": "2023-12-22T06:16:42.375266Z",
     "start_time": "2023-12-22T06:16:42.366135Z"
    }
   },
   "outputs": [
    {
     "data": {
      "text/html": [
       "<div>\n",
       "<style scoped>\n",
       "    .dataframe tbody tr th:only-of-type {\n",
       "        vertical-align: middle;\n",
       "    }\n",
       "\n",
       "    .dataframe tbody tr th {\n",
       "        vertical-align: top;\n",
       "    }\n",
       "\n",
       "    .dataframe thead th {\n",
       "        text-align: right;\n",
       "    }\n",
       "</style>\n",
       "<table border=\"1\" class=\"dataframe\">\n",
       "  <thead>\n",
       "    <tr style=\"text-align: right;\">\n",
       "      <th></th>\n",
       "      <th>0</th>\n",
       "      <th>1</th>\n",
       "      <th>2</th>\n",
       "    </tr>\n",
       "  </thead>\n",
       "  <tbody>\n",
       "    <tr>\n",
       "      <th>2023년11월19일</th>\n",
       "      <td>10</td>\n",
       "      <td>20</td>\n",
       "      <td>30</td>\n",
       "    </tr>\n",
       "    <tr>\n",
       "      <th>2023년11월20일</th>\n",
       "      <td>40</td>\n",
       "      <td>50</td>\n",
       "      <td>60</td>\n",
       "    </tr>\n",
       "    <tr>\n",
       "      <th>2023년11월21일</th>\n",
       "      <td>70</td>\n",
       "      <td>80</td>\n",
       "      <td>90</td>\n",
       "    </tr>\n",
       "    <tr>\n",
       "      <th>2023년11월22일</th>\n",
       "      <td>100</td>\n",
       "      <td>120</td>\n",
       "      <td>130</td>\n",
       "    </tr>\n",
       "  </tbody>\n",
       "</table>\n",
       "</div>"
      ],
      "text/plain": [
       "               0    1    2\n",
       "2023년11월19일   10   20   30\n",
       "2023년11월20일   40   50   60\n",
       "2023년11월21일   70   80   90\n",
       "2023년11월22일  100  120  130"
      ]
     },
     "execution_count": 22,
     "metadata": {},
     "output_type": "execute_result"
    }
   ],
   "source": [
    "df = df.T\n",
    "df"
   ]
  },
  {
   "cell_type": "code",
   "execution_count": 23,
   "id": "6063d912",
   "metadata": {
    "ExecuteTime": {
     "end_time": "2023-12-22T06:16:43.668646Z",
     "start_time": "2023-12-22T06:16:43.661861Z"
    }
   },
   "outputs": [
    {
     "data": {
      "text/plain": [
       "(Index(['2023년11월19일', '2023년11월20일', '2023년11월21일', '2023년11월22일'], dtype='object'),\n",
       " str)"
      ]
     },
     "execution_count": 23,
     "metadata": {},
     "output_type": "execute_result"
    }
   ],
   "source": [
    "# object형은 시계열 데이터 아님\n",
    "\n",
    "df.index, type(df.index[0])"
   ]
  },
  {
   "cell_type": "code",
   "execution_count": 16,
   "id": "d6ff9a41",
   "metadata": {
    "ExecuteTime": {
     "end_time": "2023-12-22T06:15:26.262528Z",
     "start_time": "2023-12-22T06:15:26.254343Z"
    }
   },
   "outputs": [
    {
     "data": {
      "text/plain": [
       "DatetimeIndex(['2023-11-19', '2023-11-20', '2023-11-21', '2023-11-22'], dtype='datetime64[ns]', freq=None)"
      ]
     },
     "execution_count": 16,
     "metadata": {},
     "output_type": "execute_result"
    }
   ],
   "source": [
    "# 인덱스만 date타입으로 변경 \n",
    "df.index  = pd.to_datetime(df.index, format='%Y년%m월%d일')  \n",
    "# df.index  = pd.to_datetime(df.index, format='mixed') # 가능하긴 한데 권장안함\n",
    "df.index"
   ]
  },
  {
   "cell_type": "code",
   "execution_count": 17,
   "id": "33b3c3ea",
   "metadata": {
    "ExecuteTime": {
     "end_time": "2023-12-22T06:15:47.272494Z",
     "start_time": "2023-12-22T06:15:47.263523Z"
    }
   },
   "outputs": [
    {
     "data": {
      "text/html": [
       "<div>\n",
       "<style scoped>\n",
       "    .dataframe tbody tr th:only-of-type {\n",
       "        vertical-align: middle;\n",
       "    }\n",
       "\n",
       "    .dataframe tbody tr th {\n",
       "        vertical-align: top;\n",
       "    }\n",
       "\n",
       "    .dataframe thead th {\n",
       "        text-align: right;\n",
       "    }\n",
       "</style>\n",
       "<table border=\"1\" class=\"dataframe\">\n",
       "  <thead>\n",
       "    <tr style=\"text-align: right;\">\n",
       "      <th></th>\n",
       "      <th>0</th>\n",
       "      <th>1</th>\n",
       "      <th>2</th>\n",
       "    </tr>\n",
       "  </thead>\n",
       "  <tbody>\n",
       "    <tr>\n",
       "      <th>2023-11-19</th>\n",
       "      <td>10</td>\n",
       "      <td>20</td>\n",
       "      <td>30</td>\n",
       "    </tr>\n",
       "    <tr>\n",
       "      <th>2023-11-20</th>\n",
       "      <td>40</td>\n",
       "      <td>50</td>\n",
       "      <td>60</td>\n",
       "    </tr>\n",
       "    <tr>\n",
       "      <th>2023-11-21</th>\n",
       "      <td>70</td>\n",
       "      <td>80</td>\n",
       "      <td>90</td>\n",
       "    </tr>\n",
       "    <tr>\n",
       "      <th>2023-11-22</th>\n",
       "      <td>100</td>\n",
       "      <td>120</td>\n",
       "      <td>130</td>\n",
       "    </tr>\n",
       "  </tbody>\n",
       "</table>\n",
       "</div>"
      ],
      "text/plain": [
       "              0    1    2\n",
       "2023-11-19   10   20   30\n",
       "2023-11-20   40   50   60\n",
       "2023-11-21   70   80   90\n",
       "2023-11-22  100  120  130"
      ]
     },
     "execution_count": 17,
     "metadata": {},
     "output_type": "execute_result"
    }
   ],
   "source": [
    "df"
   ]
  },
  {
   "cell_type": "code",
   "execution_count": 24,
   "id": "38e54e35",
   "metadata": {
    "ExecuteTime": {
     "end_time": "2023-12-22T06:16:59.744299Z",
     "start_time": "2023-12-22T06:16:59.221813Z"
    },
    "collapsed": true
   },
   "outputs": [
    {
     "ename": "DateParseError",
     "evalue": "Unknown datetime string format, unable to parse: 2023년11월19일, at position 0",
     "output_type": "error",
     "traceback": [
      "\u001b[1;31m---------------------------------------------------------------------------\u001b[0m",
      "\u001b[1;31mDateParseError\u001b[0m                            Traceback (most recent call last)",
      "Cell \u001b[1;32mIn[24], line 1\u001b[0m\n\u001b[1;32m----> 1\u001b[0m df\u001b[38;5;241m.\u001b[39mindex  \u001b[38;5;241m=\u001b[39m pd\u001b[38;5;241m.\u001b[39mto_datetime(df\u001b[38;5;241m.\u001b[39mindex, \u001b[38;5;28mformat\u001b[39m\u001b[38;5;241m=\u001b[39m\u001b[38;5;124m'\u001b[39m\u001b[38;5;124mmixed\u001b[39m\u001b[38;5;124m'\u001b[39m)  \n\u001b[0;32m      2\u001b[0m df\u001b[38;5;241m.\u001b[39mindex\n",
      "File \u001b[1;32m~\\anaconda3\\Lib\\site-packages\\pandas\\core\\tools\\datetimes.py:1059\u001b[0m, in \u001b[0;36mto_datetime\u001b[1;34m(arg, errors, dayfirst, yearfirst, utc, format, exact, unit, infer_datetime_format, origin, cache)\u001b[0m\n\u001b[0;32m   1057\u001b[0m         result \u001b[38;5;241m=\u001b[39m _convert_and_box_cache(arg, cache_array, name\u001b[38;5;241m=\u001b[39marg\u001b[38;5;241m.\u001b[39mname)\n\u001b[0;32m   1058\u001b[0m     \u001b[38;5;28;01melse\u001b[39;00m:\n\u001b[1;32m-> 1059\u001b[0m         result \u001b[38;5;241m=\u001b[39m convert_listlike(arg, \u001b[38;5;28mformat\u001b[39m, name\u001b[38;5;241m=\u001b[39marg\u001b[38;5;241m.\u001b[39mname)\n\u001b[0;32m   1060\u001b[0m \u001b[38;5;28;01melif\u001b[39;00m is_list_like(arg):\n\u001b[0;32m   1061\u001b[0m     \u001b[38;5;28;01mtry\u001b[39;00m:\n\u001b[0;32m   1062\u001b[0m         \u001b[38;5;66;03m# error: Argument 1 to \"_maybe_cache\" has incompatible type\u001b[39;00m\n\u001b[0;32m   1063\u001b[0m         \u001b[38;5;66;03m# \"Union[float, str, datetime, List[Any], Tuple[Any, ...], ExtensionArray,\u001b[39;00m\n\u001b[0;32m   1064\u001b[0m         \u001b[38;5;66;03m# ndarray[Any, Any], Series]\"; expected \"Union[List[Any], Tuple[Any, ...],\u001b[39;00m\n\u001b[0;32m   1065\u001b[0m         \u001b[38;5;66;03m# Union[Union[ExtensionArray, ndarray[Any, Any]], Index, Series], Series]\"\u001b[39;00m\n",
      "File \u001b[1;32m~\\anaconda3\\Lib\\site-packages\\pandas\\core\\tools\\datetimes.py:455\u001b[0m, in \u001b[0;36m_convert_listlike_datetimes\u001b[1;34m(arg, format, name, utc, unit, errors, dayfirst, yearfirst, exact)\u001b[0m\n\u001b[0;32m    452\u001b[0m \u001b[38;5;28;01mif\u001b[39;00m \u001b[38;5;28mformat\u001b[39m \u001b[38;5;129;01mis\u001b[39;00m \u001b[38;5;129;01mnot\u001b[39;00m \u001b[38;5;28;01mNone\u001b[39;00m \u001b[38;5;129;01mand\u001b[39;00m \u001b[38;5;28mformat\u001b[39m \u001b[38;5;241m!=\u001b[39m \u001b[38;5;124m\"\u001b[39m\u001b[38;5;124mmixed\u001b[39m\u001b[38;5;124m\"\u001b[39m:\n\u001b[0;32m    453\u001b[0m     \u001b[38;5;28;01mreturn\u001b[39;00m _array_strptime_with_fallback(arg, name, utc, \u001b[38;5;28mformat\u001b[39m, exact, errors)\n\u001b[1;32m--> 455\u001b[0m result, tz_parsed \u001b[38;5;241m=\u001b[39m objects_to_datetime64ns(\n\u001b[0;32m    456\u001b[0m     arg,\n\u001b[0;32m    457\u001b[0m     dayfirst\u001b[38;5;241m=\u001b[39mdayfirst,\n\u001b[0;32m    458\u001b[0m     yearfirst\u001b[38;5;241m=\u001b[39myearfirst,\n\u001b[0;32m    459\u001b[0m     utc\u001b[38;5;241m=\u001b[39mutc,\n\u001b[0;32m    460\u001b[0m     errors\u001b[38;5;241m=\u001b[39merrors,\n\u001b[0;32m    461\u001b[0m     allow_object\u001b[38;5;241m=\u001b[39m\u001b[38;5;28;01mTrue\u001b[39;00m,\n\u001b[0;32m    462\u001b[0m )\n\u001b[0;32m    464\u001b[0m \u001b[38;5;28;01mif\u001b[39;00m tz_parsed \u001b[38;5;129;01mis\u001b[39;00m \u001b[38;5;129;01mnot\u001b[39;00m \u001b[38;5;28;01mNone\u001b[39;00m:\n\u001b[0;32m    465\u001b[0m     \u001b[38;5;66;03m# We can take a shortcut since the datetime64 numpy array\u001b[39;00m\n\u001b[0;32m    466\u001b[0m     \u001b[38;5;66;03m# is in UTC\u001b[39;00m\n\u001b[0;32m    467\u001b[0m     dta \u001b[38;5;241m=\u001b[39m DatetimeArray(result, dtype\u001b[38;5;241m=\u001b[39mtz_to_dtype(tz_parsed))\n",
      "File \u001b[1;32m~\\anaconda3\\Lib\\site-packages\\pandas\\core\\arrays\\datetimes.py:2177\u001b[0m, in \u001b[0;36mobjects_to_datetime64ns\u001b[1;34m(data, dayfirst, yearfirst, utc, errors, allow_object)\u001b[0m\n\u001b[0;32m   2174\u001b[0m \u001b[38;5;66;03m# if str-dtype, convert\u001b[39;00m\n\u001b[0;32m   2175\u001b[0m data \u001b[38;5;241m=\u001b[39m np\u001b[38;5;241m.\u001b[39marray(data, copy\u001b[38;5;241m=\u001b[39m\u001b[38;5;28;01mFalse\u001b[39;00m, dtype\u001b[38;5;241m=\u001b[39mnp\u001b[38;5;241m.\u001b[39mobject_)\n\u001b[1;32m-> 2177\u001b[0m result, tz_parsed \u001b[38;5;241m=\u001b[39m tslib\u001b[38;5;241m.\u001b[39marray_to_datetime(\n\u001b[0;32m   2178\u001b[0m     data,\n\u001b[0;32m   2179\u001b[0m     errors\u001b[38;5;241m=\u001b[39merrors,\n\u001b[0;32m   2180\u001b[0m     utc\u001b[38;5;241m=\u001b[39mutc,\n\u001b[0;32m   2181\u001b[0m     dayfirst\u001b[38;5;241m=\u001b[39mdayfirst,\n\u001b[0;32m   2182\u001b[0m     yearfirst\u001b[38;5;241m=\u001b[39myearfirst,\n\u001b[0;32m   2183\u001b[0m )\n\u001b[0;32m   2185\u001b[0m \u001b[38;5;28;01mif\u001b[39;00m tz_parsed \u001b[38;5;129;01mis\u001b[39;00m \u001b[38;5;129;01mnot\u001b[39;00m \u001b[38;5;28;01mNone\u001b[39;00m:\n\u001b[0;32m   2186\u001b[0m     \u001b[38;5;66;03m# We can take a shortcut since the datetime64 numpy array\u001b[39;00m\n\u001b[0;32m   2187\u001b[0m     \u001b[38;5;66;03m#  is in UTC\u001b[39;00m\n\u001b[0;32m   2188\u001b[0m     \u001b[38;5;66;03m# Return i8 values to denote unix timestamps\u001b[39;00m\n\u001b[0;32m   2189\u001b[0m     \u001b[38;5;28;01mreturn\u001b[39;00m result\u001b[38;5;241m.\u001b[39mview(\u001b[38;5;124m\"\u001b[39m\u001b[38;5;124mi8\u001b[39m\u001b[38;5;124m\"\u001b[39m), tz_parsed\n",
      "File \u001b[1;32m~\\anaconda3\\Lib\\site-packages\\pandas\\_libs\\tslib.pyx:402\u001b[0m, in \u001b[0;36mpandas._libs.tslib.array_to_datetime\u001b[1;34m()\u001b[0m\n",
      "File \u001b[1;32m~\\anaconda3\\Lib\\site-packages\\pandas\\_libs\\tslib.pyx:551\u001b[0m, in \u001b[0;36mpandas._libs.tslib.array_to_datetime\u001b[1;34m()\u001b[0m\n",
      "File \u001b[1;32m~\\anaconda3\\Lib\\site-packages\\pandas\\_libs\\tslib.pyx:516\u001b[0m, in \u001b[0;36mpandas._libs.tslib.array_to_datetime\u001b[1;34m()\u001b[0m\n",
      "File \u001b[1;32m~\\anaconda3\\Lib\\site-packages\\pandas\\_libs\\tslibs\\conversion.pyx:557\u001b[0m, in \u001b[0;36mpandas._libs.tslibs.conversion.convert_str_to_tsobject\u001b[1;34m()\u001b[0m\n",
      "File \u001b[1;32m~\\anaconda3\\Lib\\site-packages\\pandas\\_libs\\tslibs\\parsing.pyx:329\u001b[0m, in \u001b[0;36mpandas._libs.tslibs.parsing.parse_datetime_string\u001b[1;34m()\u001b[0m\n",
      "File \u001b[1;32m~\\anaconda3\\Lib\\site-packages\\pandas\\_libs\\tslibs\\parsing.pyx:658\u001b[0m, in \u001b[0;36mpandas._libs.tslibs.parsing.dateutil_parse\u001b[1;34m()\u001b[0m\n",
      "\u001b[1;31mDateParseError\u001b[0m: Unknown datetime string format, unable to parse: 2023년11월19일, at position 0"
     ]
    }
   ],
   "source": [
    "df.index  = pd.to_datetime(df.index, format='mixed')  \n",
    "df.index"
   ]
  },
  {
   "cell_type": "code",
   "execution_count": 26,
   "id": "cc60ce1b",
   "metadata": {
    "ExecuteTime": {
     "end_time": "2023-12-22T06:19:02.831210Z",
     "start_time": "2023-12-22T06:19:02.821851Z"
    }
   },
   "outputs": [
    {
     "data": {
      "text/plain": [
       "DatetimeIndex(['2023-11-01', '2023-11-02', '2023-11-03', '2023-11-04',\n",
       "               '2023-11-05', '2023-11-06', '2023-11-07', '2023-11-08',\n",
       "               '2023-11-09', '2023-11-10', '2023-11-11', '2023-11-12',\n",
       "               '2023-11-13', '2023-11-14', '2023-11-15', '2023-11-16',\n",
       "               '2023-11-17', '2023-11-18', '2023-11-19', '2023-11-20',\n",
       "               '2023-11-21', '2023-11-22', '2023-11-23', '2023-11-24',\n",
       "               '2023-11-25', '2023-11-26', '2023-11-27', '2023-11-28',\n",
       "               '2023-11-29', '2023-11-30'],\n",
       "              dtype='datetime64[ns]', freq='D')"
      ]
     },
     "execution_count": 26,
     "metadata": {},
     "output_type": "execute_result"
    }
   ],
   "source": [
    "# pd.date_range 함수를 쓰면 모든 날짜/시간을 일일히 입력할 필요없이 시작일과 종료일 또는 시작일과 기간을 입력하면 범위 내의 인덱스를 생성해 준다.\n",
    "\n",
    "pd.date_range(\"2023-11-1\", \"2023-11-30\")"
   ]
  },
  {
   "cell_type": "code",
   "execution_count": 27,
   "id": "74eb13c0",
   "metadata": {
    "ExecuteTime": {
     "end_time": "2023-12-22T06:19:07.487131Z",
     "start_time": "2023-12-22T06:19:07.478646Z"
    }
   },
   "outputs": [
    {
     "data": {
      "text/plain": [
       "DatetimeIndex(['2023-11-01', '2023-11-02', '2023-11-03', '2023-11-04',\n",
       "               '2023-11-05', '2023-11-06', '2023-11-07', '2023-11-08',\n",
       "               '2023-11-09', '2023-11-10'],\n",
       "              dtype='datetime64[ns]', freq='D')"
      ]
     },
     "execution_count": 27,
     "metadata": {},
     "output_type": "execute_result"
    }
   ],
   "source": [
    "pd.date_range(start=\"2023-11-1\", periods=10)\n"
   ]
  },
  {
   "cell_type": "code",
   "execution_count": 28,
   "id": "5a2e2f04",
   "metadata": {
    "ExecuteTime": {
     "end_time": "2023-12-22T06:19:11.750161Z",
     "start_time": "2023-12-22T06:19:11.742456Z"
    }
   },
   "outputs": [
    {
     "data": {
      "text/plain": [
       "DatetimeIndex(['2023-11-01', '2023-11-02', '2023-11-03', '2023-11-04',\n",
       "               '2023-11-05', '2023-11-06', '2023-11-07', '2023-11-08',\n",
       "               '2023-11-09', '2023-11-10', '2023-11-11', '2023-11-12',\n",
       "               '2023-11-13', '2023-11-14', '2023-11-15', '2023-11-16',\n",
       "               '2023-11-17', '2023-11-18', '2023-11-19', '2023-11-20',\n",
       "               '2023-11-21', '2023-11-22', '2023-11-23', '2023-11-24',\n",
       "               '2023-11-25', '2023-11-26', '2023-11-27', '2023-11-28',\n",
       "               '2023-11-29', '2023-11-30', '2023-12-01', '2023-12-02',\n",
       "               '2023-12-03', '2023-12-04', '2023-12-05', '2023-12-06',\n",
       "               '2023-12-07', '2023-12-08', '2023-12-09', '2023-12-10'],\n",
       "              dtype='datetime64[ns]', freq='D')"
      ]
     },
     "execution_count": 28,
     "metadata": {},
     "output_type": "execute_result"
    }
   ],
   "source": [
    "pd.date_range(start=\"2023-11-1\", periods=40)\n"
   ]
  },
  {
   "cell_type": "code",
   "execution_count": 30,
   "id": "4a6f900d",
   "metadata": {
    "ExecuteTime": {
     "end_time": "2023-12-22T06:20:04.653798Z",
     "start_time": "2023-12-22T06:20:04.646813Z"
    }
   },
   "outputs": [
    {
     "data": {
      "text/plain": [
       "DatetimeIndex(['2023-11-01', '2023-11-02', '2023-11-03', '2023-11-04',\n",
       "               '2023-11-05', '2023-11-06', '2023-11-07', '2023-11-08',\n",
       "               '2023-11-09', '2023-11-10', '2023-11-11', '2023-11-12',\n",
       "               '2023-11-13', '2023-11-14', '2023-11-15', '2023-11-16',\n",
       "               '2023-11-17', '2023-11-18', '2023-11-19', '2023-11-20',\n",
       "               '2023-11-21', '2023-11-22', '2023-11-23', '2023-11-24',\n",
       "               '2023-11-25', '2023-11-26', '2023-11-27', '2023-11-28',\n",
       "               '2023-11-29', '2023-11-30', '2023-12-01', '2023-12-02',\n",
       "               '2023-12-03', '2023-12-04', '2023-12-05', '2023-12-06',\n",
       "               '2023-12-07', '2023-12-08', '2023-12-09', '2023-12-10',\n",
       "               '2023-12-11', '2023-12-12', '2023-12-13', '2023-12-14',\n",
       "               '2023-12-15', '2023-12-16', '2023-12-17', '2023-12-18',\n",
       "               '2023-12-19', '2023-12-20', '2023-12-21', '2023-12-22',\n",
       "               '2023-12-23', '2023-12-24', '2023-12-25', '2023-12-26',\n",
       "               '2023-12-27', '2023-12-28', '2023-12-29', '2023-12-30',\n",
       "               '2023-12-31', '2024-01-01'],\n",
       "              dtype='datetime64[ns]', freq='D')"
      ]
     },
     "execution_count": 30,
     "metadata": {},
     "output_type": "execute_result"
    }
   ],
   "source": [
    "pd.date_range(\"2023-11-1\", \"2024-01-01\")"
   ]
  },
  {
   "cell_type": "markdown",
   "id": "b49df227",
   "metadata": {},
   "source": [
    "freq 인수로 특정한 날짜만 생성되도록 할 수도 있다. 많이 사용되는 freq 인수값은 다음과 같다.\n",
    "\n",
    "s: 초\n",
    "T: 분\n",
    "H: 시간\n",
    "D: 일(day)\n",
    "B: 주말이 아닌 평일\n",
    "W: 주(일요일)\n",
    "W-MON: 주(월요일)\n",
    "M: 각 달(month)의 마지막 날\n",
    "MS: 각 달의 첫날\n",
    "BM: 주말이 아닌 평일 중에서 각 달의 마지막 날\n",
    "BMS: 주말이 아닌 평일 중에서 각 달의 첫날\n",
    "WOM-2THU: 각 달의 두번째 목요일\n",
    "Q-JAN: 각 분기의 첫달의 마지막 날\n",
    "Q-DEC: 각 분기의 마지막 달의 마지막 날\n",
    "보다 자세한 내용은 다음 웹사이트를 참조한다.\n",
    "\n",
    "https://pandas.pydata.org/pandas-docs/stable/user_guide/timeseries.html#dateoffset-objects"
   ]
  },
  {
   "cell_type": "code",
   "execution_count": 31,
   "id": "8cc946b6",
   "metadata": {
    "ExecuteTime": {
     "end_time": "2023-12-22T06:23:23.406322Z",
     "start_time": "2023-12-22T06:23:23.398285Z"
    }
   },
   "outputs": [
    {
     "data": {
      "text/plain": [
       "DatetimeIndex(['2023-11-01', '2023-11-02', '2023-11-03', '2023-11-06',\n",
       "               '2023-11-07', '2023-11-08', '2023-11-09', '2023-11-10',\n",
       "               '2023-11-13', '2023-11-14', '2023-11-15', '2023-11-16',\n",
       "               '2023-11-17', '2023-11-20', '2023-11-21', '2023-11-22',\n",
       "               '2023-11-23', '2023-11-24', '2023-11-27', '2023-11-28',\n",
       "               '2023-11-29', '2023-11-30'],\n",
       "              dtype='datetime64[ns]', freq='B')"
      ]
     },
     "execution_count": 31,
     "metadata": {},
     "output_type": "execute_result"
    }
   ],
   "source": [
    "pd.date_range(\"2023-11-1\", \"2023-11-30\", freq=\"B\")\n"
   ]
  },
  {
   "cell_type": "code",
   "execution_count": 32,
   "id": "24f41b76",
   "metadata": {
    "ExecuteTime": {
     "end_time": "2023-12-22T06:24:38.324884Z",
     "start_time": "2023-12-22T06:24:38.317260Z"
    }
   },
   "outputs": [
    {
     "data": {
      "text/plain": [
       "DatetimeIndex(['2023-11-01', '2023-11-02', '2023-11-03', '2023-11-06',\n",
       "               '2023-11-07', '2023-11-08', '2023-11-09', '2023-11-10',\n",
       "               '2023-11-13', '2023-11-14', '2023-11-15', '2023-11-16',\n",
       "               '2023-11-17', '2023-11-20', '2023-11-21', '2023-11-22',\n",
       "               '2023-11-23', '2023-11-24', '2023-11-27', '2023-11-28',\n",
       "               '2023-11-29', '2023-11-30'],\n",
       "              dtype='datetime64[ns]', freq='B')"
      ]
     },
     "execution_count": 32,
     "metadata": {},
     "output_type": "execute_result"
    }
   ],
   "source": [
    "pd.date_range(\"2023-11-1\", \"2023-11-30\", freq=\"B\")"
   ]
  },
  {
   "cell_type": "code",
   "execution_count": 33,
   "id": "a1970075",
   "metadata": {
    "ExecuteTime": {
     "end_time": "2023-12-22T06:24:45.174902Z",
     "start_time": "2023-12-22T06:24:45.166784Z"
    }
   },
   "outputs": [
    {
     "data": {
      "text/plain": [
       "DatetimeIndex(['2023-11-05', '2023-11-12', '2023-11-19', '2023-11-26'], dtype='datetime64[ns]', freq='W-SUN')"
      ]
     },
     "execution_count": 33,
     "metadata": {},
     "output_type": "execute_result"
    }
   ],
   "source": [
    "pd.date_range(\"2023-11-1\", \"2023-11-30\", freq=\"W\")"
   ]
  },
  {
   "cell_type": "code",
   "execution_count": 34,
   "id": "a29e1917",
   "metadata": {
    "ExecuteTime": {
     "end_time": "2023-12-22T06:24:57.630080Z",
     "start_time": "2023-12-22T06:24:57.622825Z"
    }
   },
   "outputs": [
    {
     "data": {
      "text/plain": [
       "DatetimeIndex(['2023-11-06', '2023-11-13', '2023-11-20', '2023-11-27'], dtype='datetime64[ns]', freq='W-MON')"
      ]
     },
     "execution_count": 34,
     "metadata": {},
     "output_type": "execute_result"
    }
   ],
   "source": [
    "pd.date_range(\"2023-11-1\", \"2023-11-30\", freq=\"W-MON\")"
   ]
  },
  {
   "cell_type": "code",
   "execution_count": 35,
   "id": "16250c6a",
   "metadata": {
    "ExecuteTime": {
     "end_time": "2023-12-22T06:25:16.630315Z",
     "start_time": "2023-12-22T06:25:16.622472Z"
    }
   },
   "outputs": [
    {
     "data": {
      "text/plain": [
       "DatetimeIndex(['2023-11-01'], dtype='datetime64[ns]', freq='MS')"
      ]
     },
     "execution_count": 35,
     "metadata": {},
     "output_type": "execute_result"
    }
   ],
   "source": [
    "pd.date_range(\"2023-11-1\", \"2023-11-30\", freq=\"MS\")"
   ]
  },
  {
   "cell_type": "code",
   "execution_count": 36,
   "id": "e96bb832",
   "metadata": {
    "ExecuteTime": {
     "end_time": "2023-12-22T06:25:22.156416Z",
     "start_time": "2023-12-22T06:25:22.149103Z"
    }
   },
   "outputs": [
    {
     "data": {
      "text/plain": [
       "DatetimeIndex(['2023-11-30'], dtype='datetime64[ns]', freq='M')"
      ]
     },
     "execution_count": 36,
     "metadata": {},
     "output_type": "execute_result"
    }
   ],
   "source": [
    "pd.date_range(\"2023-11-1\", \"2023-11-30\", freq=\"M\")"
   ]
  },
  {
   "cell_type": "code",
   "execution_count": 37,
   "id": "68ddde4d",
   "metadata": {
    "ExecuteTime": {
     "end_time": "2023-12-22T06:25:28.988578Z",
     "start_time": "2023-12-22T06:25:28.981682Z"
    }
   },
   "outputs": [
    {
     "data": {
      "text/plain": [
       "DatetimeIndex(['2023-11-01'], dtype='datetime64[ns]', freq='BMS')"
      ]
     },
     "execution_count": 37,
     "metadata": {},
     "output_type": "execute_result"
    }
   ],
   "source": [
    "pd.date_range(\"2023-11-1\", \"2023-11-30\", freq=\"BMS\")"
   ]
  },
  {
   "cell_type": "code",
   "execution_count": 38,
   "id": "d73cd02f",
   "metadata": {
    "ExecuteTime": {
     "end_time": "2023-12-22T06:25:33.013763Z",
     "start_time": "2023-12-22T06:25:33.006464Z"
    }
   },
   "outputs": [
    {
     "data": {
      "text/plain": [
       "DatetimeIndex(['2023-11-30'], dtype='datetime64[ns]', freq='BM')"
      ]
     },
     "execution_count": 38,
     "metadata": {},
     "output_type": "execute_result"
    }
   ],
   "source": [
    "pd.date_range(\"2023-11-1\", \"2023-11-30\", freq=\"BM\")"
   ]
  },
  {
   "cell_type": "code",
   "execution_count": 39,
   "id": "ade2981d",
   "metadata": {
    "ExecuteTime": {
     "end_time": "2023-12-22T06:25:36.189903Z",
     "start_time": "2023-12-22T06:25:36.182356Z"
    }
   },
   "outputs": [
    {
     "data": {
      "text/plain": [
       "DatetimeIndex(['2023-11-09'], dtype='datetime64[ns]', freq='WOM-2THU')"
      ]
     },
     "execution_count": 39,
     "metadata": {},
     "output_type": "execute_result"
    }
   ],
   "source": [
    "pd.date_range(\"2023-11-1\", \"2023-11-30\", freq=\"WOM-2THU\")"
   ]
  },
  {
   "cell_type": "code",
   "execution_count": 40,
   "id": "f36309d1",
   "metadata": {
    "ExecuteTime": {
     "end_time": "2023-12-22T06:25:39.428934Z",
     "start_time": "2023-12-22T06:25:39.422394Z"
    }
   },
   "outputs": [
    {
     "data": {
      "text/plain": [
       "DatetimeIndex(['2023-01-31', '2023-04-30', '2023-07-31', '2023-10-31'], dtype='datetime64[ns]', freq='Q-JAN')"
      ]
     },
     "execution_count": 40,
     "metadata": {},
     "output_type": "execute_result"
    }
   ],
   "source": [
    "pd.date_range(\"2023-01-1\", \"2023-11-30\", freq=\"Q-JAN\")"
   ]
  },
  {
   "cell_type": "code",
   "execution_count": 41,
   "id": "616a4574",
   "metadata": {
    "ExecuteTime": {
     "end_time": "2023-12-22T06:25:43.651604Z",
     "start_time": "2023-12-22T06:25:43.645792Z"
    }
   },
   "outputs": [
    {
     "data": {
      "text/plain": [
       "DatetimeIndex(['2023-03-31', '2023-06-30', '2023-09-30'], dtype='datetime64[ns]', freq='Q-DEC')"
      ]
     },
     "execution_count": 41,
     "metadata": {},
     "output_type": "execute_result"
    }
   ],
   "source": [
    "pd.date_range(\"2023-01-1\", \"2023-11-30\", freq=\"Q-DEC\")"
   ]
  },
  {
   "cell_type": "markdown",
   "id": "2a2092aa",
   "metadata": {},
   "source": [
    "## shift 연산\n",
    "시계열 데이터의 인덱스는 시간이나 날짜를 나타내기 때문에 날짜 이동 등의 다양한 연산이 가능하다.\n",
    "예를 들어 shift 연산을 사용하면 인덱스는 그대로 두고 데이터만 이동할 수도 있다."
   ]
  },
  {
   "cell_type": "code",
   "execution_count": 42,
   "id": "083f828a",
   "metadata": {
    "ExecuteTime": {
     "end_time": "2023-12-22T06:26:16.631859Z",
     "start_time": "2023-12-22T06:26:16.622780Z"
    }
   },
   "outputs": [
    {
     "data": {
      "text/plain": [
       "2018-01-31    1.764052\n",
       "2018-02-28    0.400157\n",
       "2018-03-31    0.978738\n",
       "2018-04-30    2.240893\n",
       "Freq: M, dtype: float64"
      ]
     },
     "execution_count": 42,
     "metadata": {},
     "output_type": "execute_result"
    }
   ],
   "source": [
    "np.random.seed(0)\n",
    "ts = pd.Series(np.random.randn(4), index=pd.date_range(\n",
    "    \"2018-1-1\", periods=4, freq=\"M\"))\n",
    "ts"
   ]
  },
  {
   "cell_type": "code",
   "execution_count": 47,
   "id": "e4341556",
   "metadata": {
    "ExecuteTime": {
     "end_time": "2023-12-22T06:27:04.205661Z",
     "start_time": "2023-12-22T06:27:04.198368Z"
    }
   },
   "outputs": [
    {
     "data": {
      "text/plain": [
       "2018-01-31         NaN\n",
       "2018-02-28    1.764052\n",
       "2018-03-31    0.400157\n",
       "2018-04-30    0.978738\n",
       "Freq: M, dtype: float64"
      ]
     },
     "execution_count": 47,
     "metadata": {},
     "output_type": "execute_result"
    }
   ],
   "source": [
    "ts.shift(1)\n"
   ]
  },
  {
   "cell_type": "code",
   "execution_count": 48,
   "id": "744090a8",
   "metadata": {
    "ExecuteTime": {
     "end_time": "2023-12-22T06:27:05.028923Z",
     "start_time": "2023-12-22T06:27:05.021966Z"
    }
   },
   "outputs": [
    {
     "data": {
      "text/plain": [
       "2018-01-31    0.400157\n",
       "2018-02-28    0.978738\n",
       "2018-03-31    2.240893\n",
       "2018-04-30         NaN\n",
       "Freq: M, dtype: float64"
      ]
     },
     "execution_count": 48,
     "metadata": {},
     "output_type": "execute_result"
    }
   ],
   "source": [
    "ts.shift(-1)\n"
   ]
  },
  {
   "cell_type": "code",
   "execution_count": 49,
   "id": "f9eb509f",
   "metadata": {
    "ExecuteTime": {
     "end_time": "2023-12-22T06:27:13.613866Z",
     "start_time": "2023-12-22T06:27:13.606321Z"
    }
   },
   "outputs": [
    {
     "data": {
      "text/plain": [
       "2018-02-28    1.764052\n",
       "2018-03-31    0.400157\n",
       "2018-04-30    0.978738\n",
       "2018-05-31    2.240893\n",
       "Freq: M, dtype: float64"
      ]
     },
     "execution_count": 49,
     "metadata": {},
     "output_type": "execute_result"
    }
   ],
   "source": [
    "ts.shift(1, freq='M')"
   ]
  },
  {
   "cell_type": "code",
   "execution_count": 50,
   "id": "60c3edff",
   "metadata": {
    "ExecuteTime": {
     "end_time": "2023-12-22T06:27:29.991018Z",
     "start_time": "2023-12-22T06:27:29.983325Z"
    }
   },
   "outputs": [
    {
     "data": {
      "text/plain": [
       "2018-02-04    1.764052\n",
       "2018-03-04    0.400157\n",
       "2018-04-01    0.978738\n",
       "2018-05-06    2.240893\n",
       "dtype: float64"
      ]
     },
     "execution_count": 50,
     "metadata": {},
     "output_type": "execute_result"
    }
   ],
   "source": [
    "ts.shift(1, freq='W')"
   ]
  },
  {
   "cell_type": "markdown",
   "id": "76a8beb8",
   "metadata": {},
   "source": [
    "## resample 연산\n",
    "resample 연산을 쓰면 시간 간격을 재조정하는 리샘플링(resampling)이 가능하다.\n",
    "이 때 시간 구간이 작아지면 데이터 양이 증가한다고 해서 업-샘플링(up-sampling)이라 하고\n",
    "시간 구간이 커지면 데이터 양이 감소한다고 해서 다운-샘플링(down-sampling)이라 부른다."
   ]
  },
  {
   "cell_type": "code",
   "execution_count": 51,
   "id": "f3dcbd38",
   "metadata": {
    "ExecuteTime": {
     "end_time": "2023-12-22T06:30:29.495610Z",
     "start_time": "2023-12-22T06:30:29.485915Z"
    }
   },
   "outputs": [
    {
     "data": {
      "text/plain": [
       "2018-03-22    1.488252\n",
       "2018-03-23    1.895889\n",
       "2018-03-24    1.178780\n",
       "2018-03-25   -0.179925\n",
       "2018-03-26   -1.070753\n",
       "2018-03-27    1.054452\n",
       "2018-03-28   -0.403177\n",
       "2018-03-29    1.222445\n",
       "2018-03-30    0.208275\n",
       "2018-03-31    0.976639\n",
       "2018-04-01    0.356366\n",
       "2018-04-02    0.706573\n",
       "2018-04-03    0.010500\n",
       "2018-04-04    1.785870\n",
       "2018-04-05    0.126912\n",
       "2018-04-06    0.401989\n",
       "2018-04-07    1.883151\n",
       "2018-04-08   -1.347759\n",
       "2018-04-09   -1.270485\n",
       "2018-04-10    0.969397\n",
       "Freq: D, dtype: float64"
      ]
     },
     "execution_count": 51,
     "metadata": {},
     "output_type": "execute_result"
    }
   ],
   "source": [
    "ts = pd.Series(np.random.randn(100), index=pd.date_range(\"2018-1-1\", periods=100, freq=\"D\"))\n",
    "ts.tail(20)"
   ]
  },
  {
   "cell_type": "code",
   "execution_count": 52,
   "id": "b180acf6",
   "metadata": {
    "ExecuteTime": {
     "end_time": "2023-12-22T06:31:54.724959Z",
     "start_time": "2023-12-22T06:31:54.709703Z"
    }
   },
   "outputs": [
    {
     "data": {
      "text/plain": [
       "2018-01-07    0.305776\n",
       "2018-01-14    0.629064\n",
       "2018-01-21   -0.006910\n",
       "2018-01-28    0.277065\n",
       "2018-02-04   -0.144972\n",
       "2018-02-11   -0.496299\n",
       "2018-02-18   -0.474473\n",
       "2018-02-25   -0.201222\n",
       "2018-03-04   -0.775142\n",
       "2018-03-11    0.052868\n",
       "2018-03-18   -0.450379\n",
       "2018-03-25    0.601892\n",
       "2018-04-01    0.334893\n",
       "2018-04-08    0.509605\n",
       "2018-04-15   -0.150544\n",
       "Freq: W-SUN, dtype: float64"
      ]
     },
     "execution_count": 52,
     "metadata": {},
     "output_type": "execute_result"
    }
   ],
   "source": [
    "ts.resample('W').mean()\n"
   ]
  },
  {
   "cell_type": "code",
   "execution_count": 53,
   "id": "63446772",
   "metadata": {
    "ExecuteTime": {
     "end_time": "2023-12-22T06:32:01.800423Z",
     "start_time": "2023-12-22T06:32:01.790314Z"
    }
   },
   "outputs": [
    {
     "data": {
      "text/plain": [
       "2018-01-31    1.867558\n",
       "2018-02-28    0.156349\n",
       "2018-03-31   -1.726283\n",
       "2018-04-30    0.356366\n",
       "Freq: M, dtype: float64"
      ]
     },
     "execution_count": 53,
     "metadata": {},
     "output_type": "execute_result"
    }
   ],
   "source": [
    "ts.resample('M').first()\n"
   ]
  },
  {
   "cell_type": "code",
   "execution_count": 55,
   "id": "4ea15597",
   "metadata": {
    "ExecuteTime": {
     "end_time": "2023-12-22T06:35:10.544308Z",
     "start_time": "2023-12-22T06:35:10.535113Z"
    }
   },
   "outputs": [
    {
     "data": {
      "text/plain": [
       "2018-01-01 00:00:00   -1.173123\n",
       "2018-01-01 00:01:00    1.943621\n",
       "2018-01-01 00:02:00   -0.413619\n",
       "2018-01-01 00:03:00   -0.747455\n",
       "2018-01-01 00:04:00    1.922942\n",
       "2018-01-01 00:05:00    1.480515\n",
       "2018-01-01 00:06:00    1.867559\n",
       "2018-01-01 00:07:00    0.906045\n",
       "2018-01-01 00:08:00   -0.861226\n",
       "2018-01-01 00:09:00    1.910065\n",
       "2018-01-01 00:10:00   -0.268003\n",
       "2018-01-01 00:11:00    0.802456\n",
       "2018-01-01 00:12:00    0.947252\n",
       "2018-01-01 00:13:00   -0.155010\n",
       "2018-01-01 00:14:00    0.614079\n",
       "2018-01-01 00:15:00    0.922207\n",
       "2018-01-01 00:16:00    0.376426\n",
       "2018-01-01 00:17:00   -1.099401\n",
       "2018-01-01 00:18:00    0.298238\n",
       "2018-01-01 00:19:00    1.326386\n",
       "Freq: T, dtype: float64"
      ]
     },
     "execution_count": 55,
     "metadata": {},
     "output_type": "execute_result"
    }
   ],
   "source": [
    "'''\n",
    "날짜가 아닌 시/분 단위에서는 구간위 왼쪽 한계값(가장 빠른 값)은 포함하고\n",
    "오른쪽 한계값(가장 늦은 값)은 포함하지 않는다.\n",
    "즉, 가장 늦은 값은 다음 구간에 포함된다. 예를 들어 10분 간격으로 구간을 만들면 10의 배수가 되는 시각은 구간의 시작점이 된다.\n",
    "'''\n",
    "\n",
    "ts = pd.Series(np.random.randn(60), index=pd.date_range(\n",
    "    \"2018-1-1\", periods=60, freq=\"T\"))\n",
    "ts.head(20)"
   ]
  },
  {
   "cell_type": "code",
   "execution_count": 56,
   "id": "22dd8f62",
   "metadata": {
    "ExecuteTime": {
     "end_time": "2023-12-22T06:35:47.503217Z",
     "start_time": "2023-12-22T06:35:47.494859Z"
    }
   },
   "outputs": [
    {
     "data": {
      "text/plain": [
       "2018-01-01 00:00:00    6.835324\n",
       "2018-01-01 00:10:00    3.764630\n",
       "2018-01-01 00:20:00    0.776495\n",
       "2018-01-01 00:30:00   -0.538336\n",
       "2018-01-01 00:40:00    1.828234\n",
       "2018-01-01 00:50:00    0.167957\n",
       "Freq: 10T, dtype: float64"
      ]
     },
     "execution_count": 56,
     "metadata": {},
     "output_type": "execute_result"
    }
   ],
   "source": [
    "ts.resample('10T').sum()"
   ]
  },
  {
   "cell_type": "code",
   "execution_count": 57,
   "id": "f99f354f",
   "metadata": {
    "ExecuteTime": {
     "end_time": "2023-12-22T06:36:59.038656Z",
     "start_time": "2023-12-22T06:36:59.030340Z"
    }
   },
   "outputs": [
    {
     "data": {
      "text/plain": [
       "2017-12-31 23:50:00   -1.173123\n",
       "2018-01-01 00:00:00    7.740444\n",
       "2018-01-01 00:10:00    3.338065\n",
       "2018-01-01 00:20:00    0.835217\n",
       "2018-01-01 00:30:00    2.480654\n",
       "2018-01-01 00:40:00   -0.653363\n",
       "2018-01-01 00:50:00    0.266409\n",
       "Freq: 10T, dtype: float64"
      ]
     },
     "execution_count": 57,
     "metadata": {},
     "output_type": "execute_result"
    }
   ],
   "source": [
    "ts.resample('10T', closed=\"right\").sum()"
   ]
  },
  {
   "cell_type": "code",
   "execution_count": 58,
   "id": "48a0df52",
   "metadata": {
    "ExecuteTime": {
     "end_time": "2023-12-22T06:40:21.204489Z",
     "start_time": "2023-12-22T06:40:21.189321Z"
    }
   },
   "outputs": [
    {
     "data": {
      "text/html": [
       "<div>\n",
       "<style scoped>\n",
       "    .dataframe tbody tr th:only-of-type {\n",
       "        vertical-align: middle;\n",
       "    }\n",
       "\n",
       "    .dataframe tbody tr th {\n",
       "        vertical-align: top;\n",
       "    }\n",
       "\n",
       "    .dataframe thead th {\n",
       "        text-align: right;\n",
       "    }\n",
       "</style>\n",
       "<table border=\"1\" class=\"dataframe\">\n",
       "  <thead>\n",
       "    <tr style=\"text-align: right;\">\n",
       "      <th></th>\n",
       "      <th>open</th>\n",
       "      <th>high</th>\n",
       "      <th>low</th>\n",
       "      <th>close</th>\n",
       "    </tr>\n",
       "  </thead>\n",
       "  <tbody>\n",
       "    <tr>\n",
       "      <th>2018-01-01 00:00:00</th>\n",
       "      <td>-1.173123</td>\n",
       "      <td>1.943621</td>\n",
       "      <td>-1.173123</td>\n",
       "      <td>1.922942</td>\n",
       "    </tr>\n",
       "    <tr>\n",
       "      <th>2018-01-01 00:05:00</th>\n",
       "      <td>1.480515</td>\n",
       "      <td>1.910065</td>\n",
       "      <td>-0.861226</td>\n",
       "      <td>1.910065</td>\n",
       "    </tr>\n",
       "    <tr>\n",
       "      <th>2018-01-01 00:10:00</th>\n",
       "      <td>-0.268003</td>\n",
       "      <td>0.947252</td>\n",
       "      <td>-0.268003</td>\n",
       "      <td>0.614079</td>\n",
       "    </tr>\n",
       "    <tr>\n",
       "      <th>2018-01-01 00:15:00</th>\n",
       "      <td>0.922207</td>\n",
       "      <td>1.326386</td>\n",
       "      <td>-1.099401</td>\n",
       "      <td>1.326386</td>\n",
       "    </tr>\n",
       "    <tr>\n",
       "      <th>2018-01-01 00:20:00</th>\n",
       "      <td>-0.694568</td>\n",
       "      <td>1.849264</td>\n",
       "      <td>-0.694568</td>\n",
       "      <td>0.672295</td>\n",
       "    </tr>\n",
       "    <tr>\n",
       "      <th>2018-01-01 00:25:00</th>\n",
       "      <td>0.407462</td>\n",
       "      <td>0.539249</td>\n",
       "      <td>-0.769916</td>\n",
       "      <td>0.031831</td>\n",
       "    </tr>\n",
       "    <tr>\n",
       "      <th>2018-01-01 00:30:00</th>\n",
       "      <td>-0.635846</td>\n",
       "      <td>0.676433</td>\n",
       "      <td>-0.635846</td>\n",
       "      <td>0.396007</td>\n",
       "    </tr>\n",
       "    <tr>\n",
       "      <th>2018-01-01 00:35:00</th>\n",
       "      <td>-1.093062</td>\n",
       "      <td>0.635031</td>\n",
       "      <td>-1.491258</td>\n",
       "      <td>0.635031</td>\n",
       "    </tr>\n",
       "    <tr>\n",
       "      <th>2018-01-01 00:40:00</th>\n",
       "      <td>2.383145</td>\n",
       "      <td>2.383145</td>\n",
       "      <td>-1.315907</td>\n",
       "      <td>-1.315907</td>\n",
       "    </tr>\n",
       "    <tr>\n",
       "      <th>2018-01-01 00:45:00</th>\n",
       "      <td>-0.461585</td>\n",
       "      <td>1.713343</td>\n",
       "      <td>-0.826439</td>\n",
       "      <td>-0.826439</td>\n",
       "    </tr>\n",
       "    <tr>\n",
       "      <th>2018-01-01 00:50:00</th>\n",
       "      <td>-0.098453</td>\n",
       "      <td>1.126636</td>\n",
       "      <td>-1.147469</td>\n",
       "      <td>-1.147469</td>\n",
       "    </tr>\n",
       "    <tr>\n",
       "      <th>2018-01-01 00:55:00</th>\n",
       "      <td>-0.437820</td>\n",
       "      <td>1.929532</td>\n",
       "      <td>-0.498032</td>\n",
       "      <td>0.087551</td>\n",
       "    </tr>\n",
       "  </tbody>\n",
       "</table>\n",
       "</div>"
      ],
      "text/plain": [
       "                         open      high       low     close\n",
       "2018-01-01 00:00:00 -1.173123  1.943621 -1.173123  1.922942\n",
       "2018-01-01 00:05:00  1.480515  1.910065 -0.861226  1.910065\n",
       "2018-01-01 00:10:00 -0.268003  0.947252 -0.268003  0.614079\n",
       "2018-01-01 00:15:00  0.922207  1.326386 -1.099401  1.326386\n",
       "2018-01-01 00:20:00 -0.694568  1.849264 -0.694568  0.672295\n",
       "2018-01-01 00:25:00  0.407462  0.539249 -0.769916  0.031831\n",
       "2018-01-01 00:30:00 -0.635846  0.676433 -0.635846  0.396007\n",
       "2018-01-01 00:35:00 -1.093062  0.635031 -1.491258  0.635031\n",
       "2018-01-01 00:40:00  2.383145  2.383145 -1.315907 -1.315907\n",
       "2018-01-01 00:45:00 -0.461585  1.713343 -0.826439 -0.826439\n",
       "2018-01-01 00:50:00 -0.098453  1.126636 -1.147469 -1.147469\n",
       "2018-01-01 00:55:00 -0.437820  1.929532 -0.498032  0.087551"
      ]
     },
     "execution_count": 58,
     "metadata": {},
     "output_type": "execute_result"
    }
   ],
   "source": [
    "ts.resample('5T').ohlc()"
   ]
  },
  {
   "cell_type": "code",
   "execution_count": 59,
   "id": "b33f2da5",
   "metadata": {
    "ExecuteTime": {
     "end_time": "2023-12-22T06:40:38.419282Z",
     "start_time": "2023-12-22T06:40:38.406545Z"
    }
   },
   "outputs": [
    {
     "data": {
      "text/html": [
       "<div>\n",
       "<style scoped>\n",
       "    .dataframe tbody tr th:only-of-type {\n",
       "        vertical-align: middle;\n",
       "    }\n",
       "\n",
       "    .dataframe tbody tr th {\n",
       "        vertical-align: top;\n",
       "    }\n",
       "\n",
       "    .dataframe thead th {\n",
       "        text-align: right;\n",
       "    }\n",
       "</style>\n",
       "<table border=\"1\" class=\"dataframe\">\n",
       "  <thead>\n",
       "    <tr style=\"text-align: right;\">\n",
       "      <th></th>\n",
       "      <th>open</th>\n",
       "      <th>high</th>\n",
       "      <th>low</th>\n",
       "      <th>close</th>\n",
       "    </tr>\n",
       "  </thead>\n",
       "  <tbody>\n",
       "    <tr>\n",
       "      <th>2017-12-31 23:55:00</th>\n",
       "      <td>-1.173123</td>\n",
       "      <td>-1.173123</td>\n",
       "      <td>-1.173123</td>\n",
       "      <td>-1.173123</td>\n",
       "    </tr>\n",
       "    <tr>\n",
       "      <th>2018-01-01 00:00:00</th>\n",
       "      <td>1.943621</td>\n",
       "      <td>1.943621</td>\n",
       "      <td>-0.747455</td>\n",
       "      <td>1.480515</td>\n",
       "    </tr>\n",
       "    <tr>\n",
       "      <th>2018-01-01 00:05:00</th>\n",
       "      <td>1.867559</td>\n",
       "      <td>1.910065</td>\n",
       "      <td>-0.861226</td>\n",
       "      <td>-0.268003</td>\n",
       "    </tr>\n",
       "    <tr>\n",
       "      <th>2018-01-01 00:10:00</th>\n",
       "      <td>0.802456</td>\n",
       "      <td>0.947252</td>\n",
       "      <td>-0.155010</td>\n",
       "      <td>0.922207</td>\n",
       "    </tr>\n",
       "    <tr>\n",
       "      <th>2018-01-01 00:15:00</th>\n",
       "      <td>0.376426</td>\n",
       "      <td>1.326386</td>\n",
       "      <td>-1.099401</td>\n",
       "      <td>-0.694568</td>\n",
       "    </tr>\n",
       "    <tr>\n",
       "      <th>2018-01-01 00:20:00</th>\n",
       "      <td>-0.149635</td>\n",
       "      <td>1.849264</td>\n",
       "      <td>-0.435154</td>\n",
       "      <td>0.407462</td>\n",
       "    </tr>\n",
       "    <tr>\n",
       "      <th>2018-01-01 00:25:00</th>\n",
       "      <td>-0.769916</td>\n",
       "      <td>0.539249</td>\n",
       "      <td>-0.769916</td>\n",
       "      <td>-0.635846</td>\n",
       "    </tr>\n",
       "    <tr>\n",
       "      <th>2018-01-01 00:30:00</th>\n",
       "      <td>0.676433</td>\n",
       "      <td>0.676433</td>\n",
       "      <td>-1.093062</td>\n",
       "      <td>-1.093062</td>\n",
       "    </tr>\n",
       "    <tr>\n",
       "      <th>2018-01-01 00:35:00</th>\n",
       "      <td>-1.491258</td>\n",
       "      <td>2.383145</td>\n",
       "      <td>-1.491258</td>\n",
       "      <td>2.383145</td>\n",
       "    </tr>\n",
       "    <tr>\n",
       "      <th>2018-01-01 00:40:00</th>\n",
       "      <td>0.944479</td>\n",
       "      <td>1.117016</td>\n",
       "      <td>-1.315907</td>\n",
       "      <td>-0.461585</td>\n",
       "    </tr>\n",
       "    <tr>\n",
       "      <th>2018-01-01 00:45:00</th>\n",
       "      <td>-0.068242</td>\n",
       "      <td>1.713343</td>\n",
       "      <td>-0.826439</td>\n",
       "      <td>-0.098453</td>\n",
       "    </tr>\n",
       "    <tr>\n",
       "      <th>2018-01-01 00:50:00</th>\n",
       "      <td>-0.663478</td>\n",
       "      <td>1.126636</td>\n",
       "      <td>-1.147469</td>\n",
       "      <td>-0.437820</td>\n",
       "    </tr>\n",
       "    <tr>\n",
       "      <th>2018-01-01 00:55:00</th>\n",
       "      <td>-0.498032</td>\n",
       "      <td>1.929532</td>\n",
       "      <td>-0.498032</td>\n",
       "      <td>0.087551</td>\n",
       "    </tr>\n",
       "  </tbody>\n",
       "</table>\n",
       "</div>"
      ],
      "text/plain": [
       "                         open      high       low     close\n",
       "2017-12-31 23:55:00 -1.173123 -1.173123 -1.173123 -1.173123\n",
       "2018-01-01 00:00:00  1.943621  1.943621 -0.747455  1.480515\n",
       "2018-01-01 00:05:00  1.867559  1.910065 -0.861226 -0.268003\n",
       "2018-01-01 00:10:00  0.802456  0.947252 -0.155010  0.922207\n",
       "2018-01-01 00:15:00  0.376426  1.326386 -1.099401 -0.694568\n",
       "2018-01-01 00:20:00 -0.149635  1.849264 -0.435154  0.407462\n",
       "2018-01-01 00:25:00 -0.769916  0.539249 -0.769916 -0.635846\n",
       "2018-01-01 00:30:00  0.676433  0.676433 -1.093062 -1.093062\n",
       "2018-01-01 00:35:00 -1.491258  2.383145 -1.491258  2.383145\n",
       "2018-01-01 00:40:00  0.944479  1.117016 -1.315907 -0.461585\n",
       "2018-01-01 00:45:00 -0.068242  1.713343 -0.826439 -0.098453\n",
       "2018-01-01 00:50:00 -0.663478  1.126636 -1.147469 -0.437820\n",
       "2018-01-01 00:55:00 -0.498032  1.929532 -0.498032  0.087551"
      ]
     },
     "execution_count": 59,
     "metadata": {},
     "output_type": "execute_result"
    }
   ],
   "source": [
    "ts.resample('5T', closed='right').ohlc()\n"
   ]
  },
  {
   "cell_type": "code",
   "execution_count": 60,
   "id": "1d57de18",
   "metadata": {
    "ExecuteTime": {
     "end_time": "2023-12-22T06:41:01.546629Z",
     "start_time": "2023-12-22T06:41:01.535178Z"
    }
   },
   "outputs": [
    {
     "data": {
      "text/plain": [
       "2018-01-01 00:00:00   -1.173123\n",
       "2018-01-01 00:00:30   -1.173123\n",
       "2018-01-01 00:01:00    1.943621\n",
       "2018-01-01 00:01:30    1.943621\n",
       "2018-01-01 00:02:00   -0.413619\n",
       "2018-01-01 00:02:30   -0.413619\n",
       "2018-01-01 00:03:00   -0.747455\n",
       "2018-01-01 00:03:30   -0.747455\n",
       "2018-01-01 00:04:00    1.922942\n",
       "2018-01-01 00:04:30    1.922942\n",
       "2018-01-01 00:05:00    1.480515\n",
       "2018-01-01 00:05:30    1.480515\n",
       "2018-01-01 00:06:00    1.867559\n",
       "2018-01-01 00:06:30    1.867559\n",
       "2018-01-01 00:07:00    0.906045\n",
       "2018-01-01 00:07:30    0.906045\n",
       "2018-01-01 00:08:00   -0.861226\n",
       "2018-01-01 00:08:30   -0.861226\n",
       "2018-01-01 00:09:00    1.910065\n",
       "2018-01-01 00:09:30    1.910065\n",
       "Freq: 30S, dtype: float64"
      ]
     },
     "execution_count": 60,
     "metadata": {},
     "output_type": "execute_result"
    }
   ],
   "source": [
    "'''\n",
    "업-샘플링의 경우에는 실제로 존재하지 않는 데이터를 만들어야 한다.\n",
    "이 때는 앞에서 나온 데이터를 뒤에서 그대로 쓰는 forward filling 방식과\n",
    "뒤에서 나올 데이터를 앞에서 미리 쓰는 backward filling 방식을 사용할 수 있다.\n",
    "각각 ffill, bfill 메서드를 이용한다.\n",
    "'''\n",
    "\n",
    "ts.resample('30s').ffill().head(20)"
   ]
  },
  {
   "cell_type": "code",
   "execution_count": 67,
   "id": "e21da36d",
   "metadata": {
    "ExecuteTime": {
     "end_time": "2023-12-22T06:42:05.278090Z",
     "start_time": "2023-12-22T06:42:05.268864Z"
    }
   },
   "outputs": [
    {
     "data": {
      "text/plain": [
       "2018-01-01 00:00:00   -1.173123\n",
       "2018-01-01 00:00:30    1.943621\n",
       "2018-01-01 00:01:00    1.943621\n",
       "2018-01-01 00:01:30   -0.413619\n",
       "2018-01-01 00:02:00   -0.413619\n",
       "2018-01-01 00:02:30   -0.747455\n",
       "2018-01-01 00:03:00   -0.747455\n",
       "2018-01-01 00:03:30    1.922942\n",
       "2018-01-01 00:04:00    1.922942\n",
       "2018-01-01 00:04:30    1.480515\n",
       "2018-01-01 00:05:00    1.480515\n",
       "2018-01-01 00:05:30    1.867559\n",
       "2018-01-01 00:06:00    1.867559\n",
       "2018-01-01 00:06:30    0.906045\n",
       "2018-01-01 00:07:00    0.906045\n",
       "2018-01-01 00:07:30   -0.861226\n",
       "2018-01-01 00:08:00   -0.861226\n",
       "2018-01-01 00:08:30    1.910065\n",
       "2018-01-01 00:09:00    1.910065\n",
       "2018-01-01 00:09:30   -0.268003\n",
       "Freq: 30S, dtype: float64"
      ]
     },
     "execution_count": 67,
     "metadata": {},
     "output_type": "execute_result"
    }
   ],
   "source": [
    "ts.resample('30s').bfill().head(20)\n"
   ]
  },
  {
   "cell_type": "markdown",
   "id": "7c1c4d91",
   "metadata": {
    "ExecuteTime": {
     "end_time": "2023-12-22T06:44:38.700959Z",
     "start_time": "2023-12-22T06:44:38.694372Z"
    }
   },
   "source": [
    "## dt 접근자\n",
    "datetime 자료형 시리즈에는 dt 접근자가 있어 datetime 자료형이 가진 몇가지 유용한 속성과 메서드를 사용할 수 있다."
   ]
  },
  {
   "cell_type": "code",
   "execution_count": 70,
   "id": "64875971",
   "metadata": {
    "ExecuteTime": {
     "end_time": "2023-12-22T06:44:58.285153Z",
     "start_time": "2023-12-22T06:44:58.276916Z"
    }
   },
   "outputs": [
    {
     "data": {
      "text/plain": [
       "0    2020-12-25\n",
       "1    2020-12-26\n",
       "2    2020-12-27\n",
       "3    2020-12-28\n",
       "4    2020-12-29\n",
       "        ...    \n",
       "95   2021-03-30\n",
       "96   2021-03-31\n",
       "97   2021-04-01\n",
       "98   2021-04-02\n",
       "99   2021-04-03\n",
       "Length: 100, dtype: datetime64[ns]"
      ]
     },
     "execution_count": 70,
     "metadata": {},
     "output_type": "execute_result"
    }
   ],
   "source": [
    "s = pd.Series(pd.date_range(\"2020-12-25\", periods=100, freq=\"D\"))\n",
    "s"
   ]
  },
  {
   "cell_type": "code",
   "execution_count": 71,
   "id": "1dcfbd62",
   "metadata": {
    "ExecuteTime": {
     "end_time": "2023-12-22T06:45:40.877310Z",
     "start_time": "2023-12-22T06:45:40.868909Z"
    }
   },
   "outputs": [
    {
     "data": {
      "text/plain": [
       "0     2020\n",
       "1     2020\n",
       "2     2020\n",
       "3     2020\n",
       "4     2020\n",
       "      ... \n",
       "95    2021\n",
       "96    2021\n",
       "97    2021\n",
       "98    2021\n",
       "99    2021\n",
       "Length: 100, dtype: int32"
      ]
     },
     "execution_count": 71,
     "metadata": {},
     "output_type": "execute_result"
    }
   ],
   "source": [
    "# 예를 들어 year, month, day, weekday 등의 속성을 이용하면 년, 월, 일, 요일 정보를 빼낼 수 있다.\n",
    "\n",
    "s.dt.year"
   ]
  },
  {
   "cell_type": "code",
   "execution_count": 72,
   "id": "b0537891",
   "metadata": {
    "ExecuteTime": {
     "end_time": "2023-12-22T06:45:45.485454Z",
     "start_time": "2023-12-22T06:45:45.478272Z"
    }
   },
   "outputs": [
    {
     "data": {
      "text/plain": [
       "0     4\n",
       "1     5\n",
       "2     6\n",
       "3     0\n",
       "4     1\n",
       "     ..\n",
       "95    1\n",
       "96    2\n",
       "97    3\n",
       "98    4\n",
       "99    5\n",
       "Length: 100, dtype: int32"
      ]
     },
     "execution_count": 72,
     "metadata": {},
     "output_type": "execute_result"
    }
   ],
   "source": [
    "s.dt.weekday\n"
   ]
  },
  {
   "cell_type": "code",
   "execution_count": 74,
   "id": "4639358d",
   "metadata": {
    "ExecuteTime": {
     "end_time": "2023-12-22T06:45:54.903562Z",
     "start_time": "2023-12-22T06:45:54.894166Z"
    }
   },
   "outputs": [
    {
     "data": {
      "text/plain": [
       "0     2020년 12월 25일\n",
       "1     2020년 12월 26일\n",
       "2     2020년 12월 27일\n",
       "3     2020년 12월 28일\n",
       "4     2020년 12월 29일\n",
       "          ...      \n",
       "95    2021년 03월 30일\n",
       "96    2021년 03월 31일\n",
       "97    2021년 04월 01일\n",
       "98    2021년 04월 02일\n",
       "99    2021년 04월 03일\n",
       "Length: 100, dtype: object"
      ]
     },
     "execution_count": 74,
     "metadata": {},
     "output_type": "execute_result"
    }
   ],
   "source": [
    "# strftime 메서드를 이용하여 문자열을 만드는 것도 가능하다.\n",
    "\n",
    "s.dt.strftime(\"%Y년 %m월 %d일\")"
   ]
  },
  {
   "cell_type": "markdown",
   "id": "2f716de6",
   "metadata": {},
   "source": [
    "연습문제\n",
    "\n",
    "다음 명령으로 만들어진 데이터프레임에 대해 월별 value의 합계를 구하라.\n",
    "(힌트: `groupby` 메서드와 `dt` 접근자를 사용하라)\n",
    "\n",
    "```\n",
    "np.random.seed(0)\n",
    "df = pd.DataFrame({\n",
    "    \"date\": pd.date_range(\"2020-12-25\", periods=100, freq=\"D\"), \n",
    "    \"value\": np.random.randint(100, size=(100,))\n",
    "})\n",
    "```\n"
   ]
  },
  {
   "cell_type": "code",
   "execution_count": 76,
   "id": "7ecb1c7b",
   "metadata": {
    "ExecuteTime": {
     "end_time": "2023-12-22T06:47:10.514439Z",
     "start_time": "2023-12-22T06:47:10.501805Z"
    }
   },
   "outputs": [
    {
     "data": {
      "text/html": [
       "<div>\n",
       "<style scoped>\n",
       "    .dataframe tbody tr th:only-of-type {\n",
       "        vertical-align: middle;\n",
       "    }\n",
       "\n",
       "    .dataframe tbody tr th {\n",
       "        vertical-align: top;\n",
       "    }\n",
       "\n",
       "    .dataframe thead th {\n",
       "        text-align: right;\n",
       "    }\n",
       "</style>\n",
       "<table border=\"1\" class=\"dataframe\">\n",
       "  <thead>\n",
       "    <tr style=\"text-align: right;\">\n",
       "      <th></th>\n",
       "      <th>date</th>\n",
       "      <th>value</th>\n",
       "    </tr>\n",
       "  </thead>\n",
       "  <tbody>\n",
       "    <tr>\n",
       "      <th>0</th>\n",
       "      <td>2020-12-25</td>\n",
       "      <td>44</td>\n",
       "    </tr>\n",
       "    <tr>\n",
       "      <th>1</th>\n",
       "      <td>2020-12-26</td>\n",
       "      <td>47</td>\n",
       "    </tr>\n",
       "    <tr>\n",
       "      <th>2</th>\n",
       "      <td>2020-12-27</td>\n",
       "      <td>64</td>\n",
       "    </tr>\n",
       "    <tr>\n",
       "      <th>3</th>\n",
       "      <td>2020-12-28</td>\n",
       "      <td>67</td>\n",
       "    </tr>\n",
       "    <tr>\n",
       "      <th>4</th>\n",
       "      <td>2020-12-29</td>\n",
       "      <td>67</td>\n",
       "    </tr>\n",
       "    <tr>\n",
       "      <th>...</th>\n",
       "      <td>...</td>\n",
       "      <td>...</td>\n",
       "    </tr>\n",
       "    <tr>\n",
       "      <th>95</th>\n",
       "      <td>2021-03-30</td>\n",
       "      <td>23</td>\n",
       "    </tr>\n",
       "    <tr>\n",
       "      <th>96</th>\n",
       "      <td>2021-03-31</td>\n",
       "      <td>79</td>\n",
       "    </tr>\n",
       "    <tr>\n",
       "      <th>97</th>\n",
       "      <td>2021-04-01</td>\n",
       "      <td>13</td>\n",
       "    </tr>\n",
       "    <tr>\n",
       "      <th>98</th>\n",
       "      <td>2021-04-02</td>\n",
       "      <td>85</td>\n",
       "    </tr>\n",
       "    <tr>\n",
       "      <th>99</th>\n",
       "      <td>2021-04-03</td>\n",
       "      <td>48</td>\n",
       "    </tr>\n",
       "  </tbody>\n",
       "</table>\n",
       "<p>100 rows × 2 columns</p>\n",
       "</div>"
      ],
      "text/plain": [
       "         date  value\n",
       "0  2020-12-25     44\n",
       "1  2020-12-26     47\n",
       "2  2020-12-27     64\n",
       "3  2020-12-28     67\n",
       "4  2020-12-29     67\n",
       "..        ...    ...\n",
       "95 2021-03-30     23\n",
       "96 2021-03-31     79\n",
       "97 2021-04-01     13\n",
       "98 2021-04-02     85\n",
       "99 2021-04-03     48\n",
       "\n",
       "[100 rows x 2 columns]"
      ]
     },
     "execution_count": 76,
     "metadata": {},
     "output_type": "execute_result"
    }
   ],
   "source": [
    "np.random.seed(0)\n",
    "df = pd.DataFrame({\n",
    "    \"date\": pd.date_range(\"2020-12-25\", periods=100, freq=\"D\"), \n",
    "    \"value\": np.random.randint(100, size=(100,))\n",
    "})\n",
    "\n",
    "df"
   ]
  },
  {
   "cell_type": "code",
   "execution_count": 80,
   "id": "d3f4abe9",
   "metadata": {
    "ExecuteTime": {
     "end_time": "2023-12-22T06:49:00.958879Z",
     "start_time": "2023-12-22T06:49:00.950018Z"
    }
   },
   "outputs": [
    {
     "data": {
      "text/plain": [
       "0    2020-12-25\n",
       "1    2020-12-26\n",
       "2    2020-12-27\n",
       "3    2020-12-28\n",
       "4    2020-12-29\n",
       "        ...    \n",
       "95   2021-03-30\n",
       "96   2021-03-31\n",
       "97   2021-04-01\n",
       "98   2021-04-02\n",
       "99   2021-04-03\n",
       "Name: date, Length: 100, dtype: datetime64[ns]"
      ]
     },
     "execution_count": 80,
     "metadata": {},
     "output_type": "execute_result"
    }
   ],
   "source": [
    "pd.to_datetime(df['date'])"
   ]
  },
  {
   "cell_type": "code",
   "execution_count": 85,
   "id": "7a436d4a",
   "metadata": {
    "ExecuteTime": {
     "end_time": "2023-12-22T06:50:03.362680Z",
     "start_time": "2023-12-22T06:50:03.349626Z"
    }
   },
   "outputs": [
    {
     "data": {
      "text/html": [
       "<div>\n",
       "<style scoped>\n",
       "    .dataframe tbody tr th:only-of-type {\n",
       "        vertical-align: middle;\n",
       "    }\n",
       "\n",
       "    .dataframe tbody tr th {\n",
       "        vertical-align: top;\n",
       "    }\n",
       "\n",
       "    .dataframe thead th {\n",
       "        text-align: right;\n",
       "    }\n",
       "</style>\n",
       "<table border=\"1\" class=\"dataframe\">\n",
       "  <thead>\n",
       "    <tr style=\"text-align: right;\">\n",
       "      <th></th>\n",
       "      <th>date</th>\n",
       "      <th>value</th>\n",
       "      <th>month</th>\n",
       "    </tr>\n",
       "  </thead>\n",
       "  <tbody>\n",
       "    <tr>\n",
       "      <th>0</th>\n",
       "      <td>2020-12-25</td>\n",
       "      <td>44</td>\n",
       "      <td>12</td>\n",
       "    </tr>\n",
       "    <tr>\n",
       "      <th>1</th>\n",
       "      <td>2020-12-26</td>\n",
       "      <td>47</td>\n",
       "      <td>12</td>\n",
       "    </tr>\n",
       "    <tr>\n",
       "      <th>2</th>\n",
       "      <td>2020-12-27</td>\n",
       "      <td>64</td>\n",
       "      <td>12</td>\n",
       "    </tr>\n",
       "    <tr>\n",
       "      <th>3</th>\n",
       "      <td>2020-12-28</td>\n",
       "      <td>67</td>\n",
       "      <td>12</td>\n",
       "    </tr>\n",
       "    <tr>\n",
       "      <th>4</th>\n",
       "      <td>2020-12-29</td>\n",
       "      <td>67</td>\n",
       "      <td>12</td>\n",
       "    </tr>\n",
       "    <tr>\n",
       "      <th>...</th>\n",
       "      <td>...</td>\n",
       "      <td>...</td>\n",
       "      <td>...</td>\n",
       "    </tr>\n",
       "    <tr>\n",
       "      <th>95</th>\n",
       "      <td>2021-03-30</td>\n",
       "      <td>23</td>\n",
       "      <td>3</td>\n",
       "    </tr>\n",
       "    <tr>\n",
       "      <th>96</th>\n",
       "      <td>2021-03-31</td>\n",
       "      <td>79</td>\n",
       "      <td>3</td>\n",
       "    </tr>\n",
       "    <tr>\n",
       "      <th>97</th>\n",
       "      <td>2021-04-01</td>\n",
       "      <td>13</td>\n",
       "      <td>4</td>\n",
       "    </tr>\n",
       "    <tr>\n",
       "      <th>98</th>\n",
       "      <td>2021-04-02</td>\n",
       "      <td>85</td>\n",
       "      <td>4</td>\n",
       "    </tr>\n",
       "    <tr>\n",
       "      <th>99</th>\n",
       "      <td>2021-04-03</td>\n",
       "      <td>48</td>\n",
       "      <td>4</td>\n",
       "    </tr>\n",
       "  </tbody>\n",
       "</table>\n",
       "<p>100 rows × 3 columns</p>\n",
       "</div>"
      ],
      "text/plain": [
       "         date  value  month\n",
       "0  2020-12-25     44     12\n",
       "1  2020-12-26     47     12\n",
       "2  2020-12-27     64     12\n",
       "3  2020-12-28     67     12\n",
       "4  2020-12-29     67     12\n",
       "..        ...    ...    ...\n",
       "95 2021-03-30     23      3\n",
       "96 2021-03-31     79      3\n",
       "97 2021-04-01     13      4\n",
       "98 2021-04-02     85      4\n",
       "99 2021-04-03     48      4\n",
       "\n",
       "[100 rows x 3 columns]"
      ]
     },
     "execution_count": 85,
     "metadata": {},
     "output_type": "execute_result"
    }
   ],
   "source": [
    "df['month'] = df['date'].dt.month\n",
    "df"
   ]
  },
  {
   "cell_type": "code",
   "execution_count": 86,
   "id": "50a84882",
   "metadata": {
    "ExecuteTime": {
     "end_time": "2023-12-22T06:50:17.229489Z",
     "start_time": "2023-12-22T06:50:17.220753Z"
    }
   },
   "outputs": [
    {
     "data": {
      "text/plain": [
       "month\n",
       "1     1811\n",
       "2      985\n",
       "3     1500\n",
       "4      146\n",
       "12     381\n",
       "Name: value, dtype: int32"
      ]
     },
     "execution_count": 86,
     "metadata": {},
     "output_type": "execute_result"
    }
   ],
   "source": [
    "df.groupby('month')['value'].sum()"
   ]
  },
  {
   "cell_type": "code",
   "execution_count": 87,
   "id": "f9401a6e",
   "metadata": {
    "ExecuteTime": {
     "end_time": "2023-12-22T07:01:19.923451Z",
     "start_time": "2023-12-22T07:01:19.908437Z"
    }
   },
   "outputs": [
    {
     "data": {
      "text/html": [
       "<div>\n",
       "<style scoped>\n",
       "    .dataframe tbody tr th:only-of-type {\n",
       "        vertical-align: middle;\n",
       "    }\n",
       "\n",
       "    .dataframe tbody tr th {\n",
       "        vertical-align: top;\n",
       "    }\n",
       "\n",
       "    .dataframe thead th {\n",
       "        text-align: right;\n",
       "    }\n",
       "</style>\n",
       "<table border=\"1\" class=\"dataframe\">\n",
       "  <thead>\n",
       "    <tr style=\"text-align: right;\">\n",
       "      <th></th>\n",
       "      <th>value</th>\n",
       "    </tr>\n",
       "    <tr>\n",
       "      <th>date</th>\n",
       "      <th></th>\n",
       "    </tr>\n",
       "  </thead>\n",
       "  <tbody>\n",
       "    <tr>\n",
       "      <th>2020-12-31</th>\n",
       "      <td>381</td>\n",
       "    </tr>\n",
       "    <tr>\n",
       "      <th>2021-01-31</th>\n",
       "      <td>1811</td>\n",
       "    </tr>\n",
       "    <tr>\n",
       "      <th>2021-02-28</th>\n",
       "      <td>985</td>\n",
       "    </tr>\n",
       "    <tr>\n",
       "      <th>2021-03-31</th>\n",
       "      <td>1500</td>\n",
       "    </tr>\n",
       "    <tr>\n",
       "      <th>2021-04-30</th>\n",
       "      <td>146</td>\n",
       "    </tr>\n",
       "  </tbody>\n",
       "</table>\n",
       "</div>"
      ],
      "text/plain": [
       "            value\n",
       "date             \n",
       "2020-12-31    381\n",
       "2021-01-31   1811\n",
       "2021-02-28    985\n",
       "2021-03-31   1500\n",
       "2021-04-30    146"
      ]
     },
     "execution_count": 87,
     "metadata": {},
     "output_type": "execute_result"
    }
   ],
   "source": [
    "np.random.seed(0)\n",
    "df = pd.DataFrame({\n",
    "    \"date\": pd.date_range(\"2020-12-25\", periods=100, freq=\"D\"), \n",
    "    \"value\": np.random.randint(100, size=(100,))})\n",
    "df = df.set_index('date')\n",
    "df.resample('M').sum()"
   ]
  },
  {
   "cell_type": "markdown",
   "id": "8c240c7c",
   "metadata": {},
   "source": [
    "## 주식 데이터로 연습하기\n",
    "!pip install pandas_datareader\n",
    "!pip install yfinance\n",
    "각종 금융정보를 dataframe으로 제공하는 라이브러리"
   ]
  },
  {
   "cell_type": "code",
   "execution_count": 96,
   "id": "1130a1a1",
   "metadata": {
    "ExecuteTime": {
     "end_time": "2023-12-22T07:10:20.158182Z",
     "start_time": "2023-12-22T07:10:20.148719Z"
    }
   },
   "outputs": [],
   "source": [
    "import matplotlib.pyplot as plt\n",
    "plt.style.use(\"ggplot\")\n",
    "\n",
    "# 한글 및 특정 문자 깨짐 문제 해결\n",
    "# import koreanize_matplotlib # 시본의 한글 깨짐은 해결못하지만, - 깨짐 해결\n",
    "from matplotlib import font_manager, rc # 폰트 세팅을 위한 모듈 추가\n",
    "font_path = \"C:/Windows/Fonts/malgun.ttf\" # 사용할 폰트명 경로 삽입\n",
    "font = font_manager.FontProperties(fname = font_path).get_name()\n",
    "rc('font', family = font)"
   ]
  },
  {
   "cell_type": "code",
   "execution_count": 89,
   "id": "8699e1af",
   "metadata": {
    "ExecuteTime": {
     "end_time": "2023-12-22T07:03:05.310797Z",
     "start_time": "2023-12-22T07:02:26.757112Z"
    }
   },
   "outputs": [
    {
     "name": "stdout",
     "output_type": "stream",
     "text": [
      "Requirement already satisfied: pandas_datareader in c:\\users\\user\\anaconda3\\lib\\site-packages (0.10.0)\n",
      "Requirement already satisfied: lxml in c:\\users\\user\\anaconda3\\lib\\site-packages (from pandas_datareader) (4.9.3)\n",
      "Requirement already satisfied: pandas>=0.23 in c:\\users\\user\\anaconda3\\lib\\site-packages (from pandas_datareader) (2.0.3)\n",
      "Requirement already satisfied: requests>=2.19.0 in c:\\users\\user\\anaconda3\\lib\\site-packages (from pandas_datareader) (2.31.0)\n",
      "Requirement already satisfied: python-dateutil>=2.8.2 in c:\\users\\user\\anaconda3\\lib\\site-packages (from pandas>=0.23->pandas_datareader) (2.8.2)\n",
      "Requirement already satisfied: pytz>=2020.1 in c:\\users\\user\\anaconda3\\lib\\site-packages (from pandas>=0.23->pandas_datareader) (2023.3.post1)\n",
      "Requirement already satisfied: tzdata>=2022.1 in c:\\users\\user\\anaconda3\\lib\\site-packages (from pandas>=0.23->pandas_datareader) (2023.3)\n",
      "Requirement already satisfied: numpy>=1.21.0 in c:\\users\\user\\anaconda3\\lib\\site-packages (from pandas>=0.23->pandas_datareader) (1.24.3)\n",
      "Requirement already satisfied: charset-normalizer<4,>=2 in c:\\users\\user\\anaconda3\\lib\\site-packages (from requests>=2.19.0->pandas_datareader) (2.0.4)\n",
      "Requirement already satisfied: idna<4,>=2.5 in c:\\users\\user\\anaconda3\\lib\\site-packages (from requests>=2.19.0->pandas_datareader) (3.4)\n",
      "Requirement already satisfied: urllib3<3,>=1.21.1 in c:\\users\\user\\anaconda3\\lib\\site-packages (from requests>=2.19.0->pandas_datareader) (1.26.16)\n",
      "Requirement already satisfied: certifi>=2017.4.17 in c:\\users\\user\\anaconda3\\lib\\site-packages (from requests>=2.19.0->pandas_datareader) (2023.7.22)\n",
      "Requirement already satisfied: six>=1.5 in c:\\users\\user\\anaconda3\\lib\\site-packages (from python-dateutil>=2.8.2->pandas>=0.23->pandas_datareader) (1.16.0)\n"
     ]
    },
    {
     "name": "stderr",
     "output_type": "stream",
     "text": [
      "WARNING: There was an error checking the latest version of pip.\n"
     ]
    },
    {
     "name": "stdout",
     "output_type": "stream",
     "text": [
      "Collecting yfinance\n",
      "  Obtaining dependency information for yfinance from https://files.pythonhosted.org/packages/09/82/5a5eee685095a6c1f8968db75bba8536baa8046c970be25e1ac91a843839/yfinance-0.2.33-py2.py3-none-any.whl.metadata\n",
      "  Downloading yfinance-0.2.33-py2.py3-none-any.whl.metadata (11 kB)\n",
      "Requirement already satisfied: pandas>=1.3.0 in c:\\users\\user\\anaconda3\\lib\\site-packages (from yfinance) (2.0.3)\n",
      "Requirement already satisfied: numpy>=1.16.5 in c:\\users\\user\\anaconda3\\lib\\site-packages (from yfinance) (1.24.3)\n",
      "Requirement already satisfied: requests>=2.31 in c:\\users\\user\\anaconda3\\lib\\site-packages (from yfinance) (2.31.0)\n",
      "Collecting multitasking>=0.0.7 (from yfinance)\n",
      "  Downloading multitasking-0.0.11-py3-none-any.whl (8.5 kB)\n",
      "Requirement already satisfied: lxml>=4.9.1 in c:\\users\\user\\anaconda3\\lib\\site-packages (from yfinance) (4.9.3)\n",
      "Requirement already satisfied: appdirs>=1.4.4 in c:\\users\\user\\anaconda3\\lib\\site-packages (from yfinance) (1.4.4)\n",
      "Requirement already satisfied: pytz>=2022.5 in c:\\users\\user\\anaconda3\\lib\\site-packages (from yfinance) (2023.3.post1)\n",
      "Collecting frozendict>=2.3.4 (from yfinance)\n",
      "  Obtaining dependency information for frozendict>=2.3.4 from https://files.pythonhosted.org/packages/b6/2c/e391d6d57bbd837d383a6b69b54ecb4768d75b31d8bc7a380b4b4afe4cb2/frozendict-2.3.10-py3-none-any.whl.metadata\n",
      "  Downloading frozendict-2.3.10-py3-none-any.whl.metadata (20 kB)\n",
      "Collecting peewee>=3.16.2 (from yfinance)\n",
      "  Downloading peewee-3.17.0.tar.gz (2.9 MB)\n",
      "     ---------------------------------------- 0.0/2.9 MB ? eta -:--:--\n",
      "     -- ------------------------------------- 0.2/2.9 MB 4.5 MB/s eta 0:00:01\n",
      "     ------- -------------------------------- 0.6/2.9 MB 7.1 MB/s eta 0:00:01\n",
      "     -------------- ------------------------- 1.1/2.9 MB 8.6 MB/s eta 0:00:01\n",
      "     --------------------- ------------------ 1.6/2.9 MB 9.3 MB/s eta 0:00:01\n",
      "     ----------------------------- ---------- 2.2/2.9 MB 9.9 MB/s eta 0:00:01\n",
      "     ------------------------------------- -- 2.7/2.9 MB 10.2 MB/s eta 0:00:01\n",
      "     ---------------------------------------- 2.9/2.9 MB 9.9 MB/s eta 0:00:00\n",
      "  Installing build dependencies: started\n",
      "  Installing build dependencies: finished with status 'done'\n",
      "  Getting requirements to build wheel: started\n",
      "  Getting requirements to build wheel: finished with status 'done'\n",
      "  Preparing metadata (pyproject.toml): started\n",
      "  Preparing metadata (pyproject.toml): finished with status 'done'\n",
      "Requirement already satisfied: beautifulsoup4>=4.11.1 in c:\\users\\user\\anaconda3\\lib\\site-packages (from yfinance) (4.12.2)\n",
      "Collecting html5lib>=1.1 (from yfinance)\n",
      "  Downloading html5lib-1.1-py2.py3-none-any.whl (112 kB)\n",
      "     ---------------------------------------- 0.0/112.2 kB ? eta -:--:--\n",
      "     -------------------------------------- 112.2/112.2 kB 6.4 MB/s eta 0:00:00\n",
      "Requirement already satisfied: soupsieve>1.2 in c:\\users\\user\\anaconda3\\lib\\site-packages (from beautifulsoup4>=4.11.1->yfinance) (2.4)\n",
      "Requirement already satisfied: six>=1.9 in c:\\users\\user\\anaconda3\\lib\\site-packages (from html5lib>=1.1->yfinance) (1.16.0)\n",
      "Requirement already satisfied: webencodings in c:\\users\\user\\anaconda3\\lib\\site-packages (from html5lib>=1.1->yfinance) (0.5.1)\n",
      "Requirement already satisfied: python-dateutil>=2.8.2 in c:\\users\\user\\anaconda3\\lib\\site-packages (from pandas>=1.3.0->yfinance) (2.8.2)\n",
      "Requirement already satisfied: tzdata>=2022.1 in c:\\users\\user\\anaconda3\\lib\\site-packages (from pandas>=1.3.0->yfinance) (2023.3)\n",
      "Requirement already satisfied: charset-normalizer<4,>=2 in c:\\users\\user\\anaconda3\\lib\\site-packages (from requests>=2.31->yfinance) (2.0.4)\n",
      "Requirement already satisfied: idna<4,>=2.5 in c:\\users\\user\\anaconda3\\lib\\site-packages (from requests>=2.31->yfinance) (3.4)\n",
      "Requirement already satisfied: urllib3<3,>=1.21.1 in c:\\users\\user\\anaconda3\\lib\\site-packages (from requests>=2.31->yfinance) (1.26.16)\n",
      "Requirement already satisfied: certifi>=2017.4.17 in c:\\users\\user\\anaconda3\\lib\\site-packages (from requests>=2.31->yfinance) (2023.7.22)\n",
      "Downloading yfinance-0.2.33-py2.py3-none-any.whl (69 kB)\n",
      "   ---------------------------------------- 0.0/69.0 kB ? eta -:--:--\n",
      "   ---------------------------------------- 69.0/69.0 kB ? eta 0:00:00\n",
      "Downloading frozendict-2.3.10-py3-none-any.whl (14 kB)\n",
      "Building wheels for collected packages: peewee\n",
      "  Building wheel for peewee (pyproject.toml): started\n",
      "  Building wheel for peewee (pyproject.toml): finished with status 'done'\n",
      "  Created wheel for peewee: filename=peewee-3.17.0-py3-none-any.whl size=135766 sha256=910449686dea5cc1d6b1d3da75fa3e616e0b3102cbfeee6fadf1904891b01874\n",
      "  Stored in directory: c:\\users\\user\\appdata\\local\\pip\\cache\\wheels\\02\\20\\23\\74a10d0cd31f5d41c19b92ddf4c138ceff01b9f4675f19dbf5\n",
      "Successfully built peewee\n",
      "Installing collected packages: peewee, multitasking, html5lib, frozendict, yfinance\n",
      "Successfully installed frozendict-2.3.10 html5lib-1.1 multitasking-0.0.11 peewee-3.17.0 yfinance-0.2.33\n"
     ]
    },
    {
     "name": "stderr",
     "output_type": "stream",
     "text": [
      "WARNING: There was an error checking the latest version of pip.\n"
     ]
    }
   ],
   "source": [
    "!pip install pandas_datareader\n",
    "!pip install yfinance\n",
    "\n"
   ]
  },
  {
   "cell_type": "code",
   "execution_count": 90,
   "id": "50bf5131",
   "metadata": {
    "ExecuteTime": {
     "end_time": "2023-12-22T07:07:22.153925Z",
     "start_time": "2023-12-22T07:07:22.149778Z"
    }
   },
   "outputs": [],
   "source": [
    "from pandas_datareader import data\n",
    "import yfinance as yfin\n",
    "yfin.pdr_override()"
   ]
  },
  {
   "cell_type": "code",
   "execution_count": 91,
   "id": "02dfd7b5",
   "metadata": {
    "ExecuteTime": {
     "end_time": "2023-12-22T07:07:28.994350Z",
     "start_time": "2023-12-22T07:07:28.987593Z"
    }
   },
   "outputs": [],
   "source": [
    "data.get_data_yahoo?"
   ]
  },
  {
   "cell_type": "code",
   "execution_count": 92,
   "id": "f03d9da2",
   "metadata": {
    "ExecuteTime": {
     "end_time": "2023-12-22T07:08:07.105108Z",
     "start_time": "2023-12-22T07:07:47.604855Z"
    },
    "scrolled": true
   },
   "outputs": [
    {
     "name": "stdout",
     "output_type": "stream",
     "text": [
      "[*********************100%%**********************]  1 of 1 completed\n"
     ]
    },
    {
     "data": {
      "text/html": [
       "<div>\n",
       "<style scoped>\n",
       "    .dataframe tbody tr th:only-of-type {\n",
       "        vertical-align: middle;\n",
       "    }\n",
       "\n",
       "    .dataframe tbody tr th {\n",
       "        vertical-align: top;\n",
       "    }\n",
       "\n",
       "    .dataframe thead th {\n",
       "        text-align: right;\n",
       "    }\n",
       "</style>\n",
       "<table border=\"1\" class=\"dataframe\">\n",
       "  <thead>\n",
       "    <tr style=\"text-align: right;\">\n",
       "      <th></th>\n",
       "      <th>Open</th>\n",
       "      <th>High</th>\n",
       "      <th>Low</th>\n",
       "      <th>Close</th>\n",
       "      <th>Adj Close</th>\n",
       "      <th>Volume</th>\n",
       "    </tr>\n",
       "    <tr>\n",
       "      <th>Date</th>\n",
       "      <th></th>\n",
       "      <th></th>\n",
       "      <th></th>\n",
       "      <th></th>\n",
       "      <th></th>\n",
       "      <th></th>\n",
       "    </tr>\n",
       "  </thead>\n",
       "  <tbody>\n",
       "    <tr>\n",
       "      <th>2000-01-04</th>\n",
       "      <td>6000.0</td>\n",
       "      <td>6110.0</td>\n",
       "      <td>5660.0</td>\n",
       "      <td>6110.0</td>\n",
       "      <td>4514.579590</td>\n",
       "      <td>74195000</td>\n",
       "    </tr>\n",
       "    <tr>\n",
       "      <th>2000-01-05</th>\n",
       "      <td>5800.0</td>\n",
       "      <td>6060.0</td>\n",
       "      <td>5520.0</td>\n",
       "      <td>5580.0</td>\n",
       "      <td>4122.972656</td>\n",
       "      <td>74680000</td>\n",
       "    </tr>\n",
       "    <tr>\n",
       "      <th>2000-01-06</th>\n",
       "      <td>5750.0</td>\n",
       "      <td>5780.0</td>\n",
       "      <td>5580.0</td>\n",
       "      <td>5620.0</td>\n",
       "      <td>4152.526367</td>\n",
       "      <td>54390000</td>\n",
       "    </tr>\n",
       "    <tr>\n",
       "      <th>2000-01-07</th>\n",
       "      <td>5560.0</td>\n",
       "      <td>5670.0</td>\n",
       "      <td>5360.0</td>\n",
       "      <td>5540.0</td>\n",
       "      <td>4093.417480</td>\n",
       "      <td>40305000</td>\n",
       "    </tr>\n",
       "    <tr>\n",
       "      <th>2000-01-10</th>\n",
       "      <td>5600.0</td>\n",
       "      <td>5770.0</td>\n",
       "      <td>5580.0</td>\n",
       "      <td>5770.0</td>\n",
       "      <td>4263.359375</td>\n",
       "      <td>46880000</td>\n",
       "    </tr>\n",
       "    <tr>\n",
       "      <th>...</th>\n",
       "      <td>...</td>\n",
       "      <td>...</td>\n",
       "      <td>...</td>\n",
       "      <td>...</td>\n",
       "      <td>...</td>\n",
       "      <td>...</td>\n",
       "    </tr>\n",
       "    <tr>\n",
       "      <th>2023-12-18</th>\n",
       "      <td>73300.0</td>\n",
       "      <td>73400.0</td>\n",
       "      <td>72800.0</td>\n",
       "      <td>72900.0</td>\n",
       "      <td>72900.000000</td>\n",
       "      <td>9690551</td>\n",
       "    </tr>\n",
       "    <tr>\n",
       "      <th>2023-12-19</th>\n",
       "      <td>73000.0</td>\n",
       "      <td>73400.0</td>\n",
       "      <td>72800.0</td>\n",
       "      <td>73400.0</td>\n",
       "      <td>73400.000000</td>\n",
       "      <td>8907632</td>\n",
       "    </tr>\n",
       "    <tr>\n",
       "      <th>2023-12-20</th>\n",
       "      <td>74200.0</td>\n",
       "      <td>74900.0</td>\n",
       "      <td>73800.0</td>\n",
       "      <td>74800.0</td>\n",
       "      <td>74800.000000</td>\n",
       "      <td>16870156</td>\n",
       "    </tr>\n",
       "    <tr>\n",
       "      <th>2023-12-21</th>\n",
       "      <td>74600.0</td>\n",
       "      <td>75000.0</td>\n",
       "      <td>74300.0</td>\n",
       "      <td>75000.0</td>\n",
       "      <td>75000.000000</td>\n",
       "      <td>13478766</td>\n",
       "    </tr>\n",
       "    <tr>\n",
       "      <th>2023-12-22</th>\n",
       "      <td>75800.0</td>\n",
       "      <td>76300.0</td>\n",
       "      <td>75400.0</td>\n",
       "      <td>75900.0</td>\n",
       "      <td>75900.000000</td>\n",
       "      <td>15124451</td>\n",
       "    </tr>\n",
       "  </tbody>\n",
       "</table>\n",
       "<p>6014 rows × 6 columns</p>\n",
       "</div>"
      ],
      "text/plain": [
       "               Open     High      Low    Close     Adj Close    Volume\n",
       "Date                                                                  \n",
       "2000-01-04   6000.0   6110.0   5660.0   6110.0   4514.579590  74195000\n",
       "2000-01-05   5800.0   6060.0   5520.0   5580.0   4122.972656  74680000\n",
       "2000-01-06   5750.0   5780.0   5580.0   5620.0   4152.526367  54390000\n",
       "2000-01-07   5560.0   5670.0   5360.0   5540.0   4093.417480  40305000\n",
       "2000-01-10   5600.0   5770.0   5580.0   5770.0   4263.359375  46880000\n",
       "...             ...      ...      ...      ...           ...       ...\n",
       "2023-12-18  73300.0  73400.0  72800.0  72900.0  72900.000000   9690551\n",
       "2023-12-19  73000.0  73400.0  72800.0  73400.0  73400.000000   8907632\n",
       "2023-12-20  74200.0  74900.0  73800.0  74800.0  74800.000000  16870156\n",
       "2023-12-21  74600.0  75000.0  74300.0  75000.0  75000.000000  13478766\n",
       "2023-12-22  75800.0  76300.0  75400.0  75900.0  75900.000000  15124451\n",
       "\n",
       "[6014 rows x 6 columns]"
      ]
     },
     "execution_count": 92,
     "metadata": {},
     "output_type": "execute_result"
    }
   ],
   "source": [
    "# 삼성전자 주가 읽어오기(종목코드, start, end)\n",
    "sdf = data.get_data_yahoo('005930.KS') # 삼성전자 KOSPI 지수, 끝을 생략하는 오늘까지 가져옴\n",
    "sdf"
   ]
  },
  {
   "cell_type": "code",
   "execution_count": 93,
   "id": "95c7ac6e",
   "metadata": {
    "ExecuteTime": {
     "end_time": "2023-12-22T07:09:09.596575Z",
     "start_time": "2023-12-22T07:09:09.589780Z"
    }
   },
   "outputs": [
    {
     "data": {
      "text/plain": [
       "DatetimeIndex(['2000-01-04', '2000-01-05', '2000-01-06', '2000-01-07',\n",
       "               '2000-01-10', '2000-01-11', '2000-01-12', '2000-01-13',\n",
       "               '2000-01-14', '2000-01-17',\n",
       "               ...\n",
       "               '2023-12-11', '2023-12-12', '2023-12-13', '2023-12-14',\n",
       "               '2023-12-15', '2023-12-18', '2023-12-19', '2023-12-20',\n",
       "               '2023-12-21', '2023-12-22'],\n",
       "              dtype='datetime64[ns]', name='Date', length=6014, freq=None)"
      ]
     },
     "execution_count": 93,
     "metadata": {},
     "output_type": "execute_result"
    }
   ],
   "source": [
    "sdf.index"
   ]
  },
  {
   "cell_type": "code",
   "execution_count": 97,
   "id": "54f58cfa",
   "metadata": {
    "ExecuteTime": {
     "end_time": "2023-12-22T07:10:25.738082Z",
     "start_time": "2023-12-22T07:10:25.492909Z"
    }
   },
   "outputs": [
    {
     "data": {
      "image/png": "[encoded data removed]",
      "text/plain": [
       "<Figure size 640x480 with 1 Axes>"
      ]
     },
     "metadata": {},
     "output_type": "display_data"
    }
   ],
   "source": [
    "plt.plot(sdf['Close'])\n",
    "plt.show()"
   ]
  },
  {
   "cell_type": "markdown",
   "id": "3bb643c2",
   "metadata": {},
   "source": [
    "## 이동 평균(Move Average)\n",
    "기간별 추세 확인시 사용"
   ]
  },
  {
   "cell_type": "code",
   "execution_count": 98,
   "id": "5185e1c9",
   "metadata": {
    "ExecuteTime": {
     "end_time": "2023-12-22T07:11:29.153140Z",
     "start_time": "2023-12-22T07:11:29.140644Z"
    }
   },
   "outputs": [
    {
     "data": {
      "text/html": [
       "<div>\n",
       "<style scoped>\n",
       "    .dataframe tbody tr th:only-of-type {\n",
       "        vertical-align: middle;\n",
       "    }\n",
       "\n",
       "    .dataframe tbody tr th {\n",
       "        vertical-align: top;\n",
       "    }\n",
       "\n",
       "    .dataframe thead th {\n",
       "        text-align: right;\n",
       "    }\n",
       "</style>\n",
       "<table border=\"1\" class=\"dataframe\">\n",
       "  <thead>\n",
       "    <tr style=\"text-align: right;\">\n",
       "      <th></th>\n",
       "      <th>A</th>\n",
       "      <th>B</th>\n",
       "    </tr>\n",
       "  </thead>\n",
       "  <tbody>\n",
       "    <tr>\n",
       "      <th>2023-01-01</th>\n",
       "      <td>1</td>\n",
       "      <td>2</td>\n",
       "    </tr>\n",
       "    <tr>\n",
       "      <th>2023-02-01</th>\n",
       "      <td>3</td>\n",
       "      <td>4</td>\n",
       "    </tr>\n",
       "    <tr>\n",
       "      <th>2023-03-01</th>\n",
       "      <td>5</td>\n",
       "      <td>8</td>\n",
       "    </tr>\n",
       "    <tr>\n",
       "      <th>2023-04-01</th>\n",
       "      <td>7</td>\n",
       "      <td>6</td>\n",
       "    </tr>\n",
       "    <tr>\n",
       "      <th>2023-05-01</th>\n",
       "      <td>9</td>\n",
       "      <td>12</td>\n",
       "    </tr>\n",
       "    <tr>\n",
       "      <th>2023-06-01</th>\n",
       "      <td>11</td>\n",
       "      <td>10</td>\n",
       "    </tr>\n",
       "    <tr>\n",
       "      <th>2023-07-01</th>\n",
       "      <td>13</td>\n",
       "      <td>16</td>\n",
       "    </tr>\n",
       "    <tr>\n",
       "      <th>2023-08-01</th>\n",
       "      <td>15</td>\n",
       "      <td>20</td>\n",
       "    </tr>\n",
       "  </tbody>\n",
       "</table>\n",
       "</div>"
      ],
      "text/plain": [
       "             A   B\n",
       "2023-01-01   1   2\n",
       "2023-02-01   3   4\n",
       "2023-03-01   5   8\n",
       "2023-04-01   7   6\n",
       "2023-05-01   9  12\n",
       "2023-06-01  11  10\n",
       "2023-07-01  13  16\n",
       "2023-08-01  15  20"
      ]
     },
     "execution_count": 98,
     "metadata": {},
     "output_type": "execute_result"
    }
   ],
   "source": [
    "data1 = [[1,2],[3,4],[5,8],[7,6],[9,12],[11,10],[13,16],[15,20]]\n",
    "df = pd.DataFrame( data1, columns=['A', 'B'] )\n",
    "\n",
    "df.index=['2023-01-01','2023-02-01','2023-03-01','2023-04-01',\n",
    "          '2023-05-01','2023-06-01','2023-07-01','2023-08-01']\n",
    "df"
   ]
  },
  {
   "cell_type": "code",
   "execution_count": 99,
   "id": "29f61263",
   "metadata": {
    "ExecuteTime": {
     "end_time": "2023-12-22T07:12:07.280580Z",
     "start_time": "2023-12-22T07:12:07.265349Z"
    }
   },
   "outputs": [
    {
     "data": {
      "text/html": [
       "<div>\n",
       "<style scoped>\n",
       "    .dataframe tbody tr th:only-of-type {\n",
       "        vertical-align: middle;\n",
       "    }\n",
       "\n",
       "    .dataframe tbody tr th {\n",
       "        vertical-align: top;\n",
       "    }\n",
       "\n",
       "    .dataframe thead th {\n",
       "        text-align: right;\n",
       "    }\n",
       "</style>\n",
       "<table border=\"1\" class=\"dataframe\">\n",
       "  <thead>\n",
       "    <tr style=\"text-align: right;\">\n",
       "      <th></th>\n",
       "      <th>A</th>\n",
       "      <th>B</th>\n",
       "    </tr>\n",
       "  </thead>\n",
       "  <tbody>\n",
       "    <tr>\n",
       "      <th>2023-01-01</th>\n",
       "      <td>NaN</td>\n",
       "      <td>NaN</td>\n",
       "    </tr>\n",
       "    <tr>\n",
       "      <th>2023-02-01</th>\n",
       "      <td>2.0</td>\n",
       "      <td>3.0</td>\n",
       "    </tr>\n",
       "    <tr>\n",
       "      <th>2023-03-01</th>\n",
       "      <td>4.0</td>\n",
       "      <td>6.0</td>\n",
       "    </tr>\n",
       "    <tr>\n",
       "      <th>2023-04-01</th>\n",
       "      <td>6.0</td>\n",
       "      <td>7.0</td>\n",
       "    </tr>\n",
       "    <tr>\n",
       "      <th>2023-05-01</th>\n",
       "      <td>8.0</td>\n",
       "      <td>9.0</td>\n",
       "    </tr>\n",
       "    <tr>\n",
       "      <th>2023-06-01</th>\n",
       "      <td>10.0</td>\n",
       "      <td>11.0</td>\n",
       "    </tr>\n",
       "    <tr>\n",
       "      <th>2023-07-01</th>\n",
       "      <td>12.0</td>\n",
       "      <td>13.0</td>\n",
       "    </tr>\n",
       "    <tr>\n",
       "      <th>2023-08-01</th>\n",
       "      <td>14.0</td>\n",
       "      <td>18.0</td>\n",
       "    </tr>\n",
       "  </tbody>\n",
       "</table>\n",
       "</div>"
      ],
      "text/plain": [
       "               A     B\n",
       "2023-01-01   NaN   NaN\n",
       "2023-02-01   2.0   3.0\n",
       "2023-03-01   4.0   6.0\n",
       "2023-04-01   6.0   7.0\n",
       "2023-05-01   8.0   9.0\n",
       "2023-06-01  10.0  11.0\n",
       "2023-07-01  12.0  13.0\n",
       "2023-08-01  14.0  18.0"
      ]
     },
     "execution_count": 99,
     "metadata": {},
     "output_type": "execute_result"
    }
   ],
   "source": [
    "#rolling 객체의 멤버함수 mean, sum, max, min\n",
    "df.rolling(window=2).mean() \n",
    "# 1행값 nan, 2행값 = 2행 - 1행 ..."
   ]
  },
  {
   "cell_type": "code",
   "execution_count": 100,
   "id": "a6ff5ac6",
   "metadata": {
    "ExecuteTime": {
     "end_time": "2023-12-22T07:14:30.391216Z",
     "start_time": "2023-12-22T07:14:30.380639Z"
    }
   },
   "outputs": [
    {
     "data": {
      "text/html": [
       "<div>\n",
       "<style scoped>\n",
       "    .dataframe tbody tr th:only-of-type {\n",
       "        vertical-align: middle;\n",
       "    }\n",
       "\n",
       "    .dataframe tbody tr th {\n",
       "        vertical-align: top;\n",
       "    }\n",
       "\n",
       "    .dataframe thead th {\n",
       "        text-align: right;\n",
       "    }\n",
       "</style>\n",
       "<table border=\"1\" class=\"dataframe\">\n",
       "  <thead>\n",
       "    <tr style=\"text-align: right;\">\n",
       "      <th></th>\n",
       "      <th>A</th>\n",
       "      <th>B</th>\n",
       "    </tr>\n",
       "  </thead>\n",
       "  <tbody>\n",
       "    <tr>\n",
       "      <th>2023-01-01</th>\n",
       "      <td>NaN</td>\n",
       "      <td>NaN</td>\n",
       "    </tr>\n",
       "    <tr>\n",
       "      <th>2023-02-01</th>\n",
       "      <td>NaN</td>\n",
       "      <td>NaN</td>\n",
       "    </tr>\n",
       "    <tr>\n",
       "      <th>2023-03-01</th>\n",
       "      <td>3.0</td>\n",
       "      <td>4.666667</td>\n",
       "    </tr>\n",
       "    <tr>\n",
       "      <th>2023-04-01</th>\n",
       "      <td>5.0</td>\n",
       "      <td>6.000000</td>\n",
       "    </tr>\n",
       "    <tr>\n",
       "      <th>2023-05-01</th>\n",
       "      <td>7.0</td>\n",
       "      <td>8.666667</td>\n",
       "    </tr>\n",
       "    <tr>\n",
       "      <th>2023-06-01</th>\n",
       "      <td>9.0</td>\n",
       "      <td>9.333333</td>\n",
       "    </tr>\n",
       "    <tr>\n",
       "      <th>2023-07-01</th>\n",
       "      <td>11.0</td>\n",
       "      <td>12.666667</td>\n",
       "    </tr>\n",
       "    <tr>\n",
       "      <th>2023-08-01</th>\n",
       "      <td>13.0</td>\n",
       "      <td>15.333333</td>\n",
       "    </tr>\n",
       "  </tbody>\n",
       "</table>\n",
       "</div>"
      ],
      "text/plain": [
       "               A          B\n",
       "2023-01-01   NaN        NaN\n",
       "2023-02-01   NaN        NaN\n",
       "2023-03-01   3.0   4.666667\n",
       "2023-04-01   5.0   6.000000\n",
       "2023-05-01   7.0   8.666667\n",
       "2023-06-01   9.0   9.333333\n",
       "2023-07-01  11.0  12.666667\n",
       "2023-08-01  13.0  15.333333"
      ]
     },
     "execution_count": 100,
     "metadata": {},
     "output_type": "execute_result"
    }
   ],
   "source": [
    "df.rolling(window=3).mean()"
   ]
  },
  {
   "cell_type": "code",
   "execution_count": 102,
   "id": "9eb9c538",
   "metadata": {
    "ExecuteTime": {
     "end_time": "2023-12-22T07:18:14.568686Z",
     "start_time": "2023-12-22T07:18:14.412369Z"
    }
   },
   "outputs": [
    {
     "data": {
      "image/png": "[encoded data removed]",
      "text/plain": [
       "<Figure size 640x480 with 1 Axes>"
      ]
     },
     "metadata": {},
     "output_type": "display_data"
    }
   ],
   "source": [
    "plt.xticks(rotation=45)\n",
    "plt.plot(df.index, df['B'])\n",
    "plt.plot(df.index, df['B'].rolling(window=2).mean())\n",
    "plt.show()\n",
    "\n",
    "# 노이즈 제거?"
   ]
  },
  {
   "cell_type": "code",
   "execution_count": 103,
   "id": "a63c54c5",
   "metadata": {
    "ExecuteTime": {
     "end_time": "2023-12-22T07:18:22.581475Z",
     "start_time": "2023-12-22T07:18:22.571936Z"
    }
   },
   "outputs": [
    {
     "data": {
      "text/plain": [
       "Date\n",
       "2000-01-04             NaN\n",
       "2000-01-05             NaN\n",
       "2000-01-06             NaN\n",
       "2000-01-07             NaN\n",
       "2000-01-10             NaN\n",
       "                  ...     \n",
       "2023-12-18    70120.000000\n",
       "2023-12-19    70128.333333\n",
       "2023-12-20    70146.666667\n",
       "2023-12-21    70165.833333\n",
       "2023-12-22    70195.000000\n",
       "Name: Close, Length: 6014, dtype: float64"
      ]
     },
     "execution_count": 103,
     "metadata": {},
     "output_type": "execute_result"
    }
   ],
   "source": [
    "sdf['Close'].rolling(window=120).mean()"
   ]
  },
  {
   "cell_type": "code",
   "execution_count": 104,
   "id": "31d9641b",
   "metadata": {
    "ExecuteTime": {
     "end_time": "2023-12-22T07:18:31.342755Z",
     "start_time": "2023-12-22T07:18:31.100385Z"
    }
   },
   "outputs": [
    {
     "data": {
      "text/plain": [
       "[<matplotlib.lines.Line2D at 0x20923283a10>]"
      ]
     },
     "execution_count": 104,
     "metadata": {},
     "output_type": "execute_result"
    },
    {
     "data": {
      "image/png": "[encoded data removed]",
      "text/plain": [
       "<Figure size 640x480 with 1 Axes>"
      ]
     },
     "metadata": {},
     "output_type": "display_data"
    }
   ],
   "source": [
    "plt.xticks(rotation=45)\n",
    "plt.plot(sdf.index, sdf['Close'])\n",
    "plt.plot(sdf.index, sdf['Close'].rolling(window=120).mean(), 'b--')"
   ]
  },
  {
   "cell_type": "code",
   "execution_count": 105,
   "id": "95728b04",
   "metadata": {
    "ExecuteTime": {
     "end_time": "2023-12-22T07:19:51.442841Z",
     "start_time": "2023-12-22T07:19:51.437335Z"
    }
   },
   "outputs": [
    {
     "ename": "SyntaxError",
     "evalue": "invalid syntax (148317141.py, line 2)",
     "output_type": "error",
     "traceback": [
      "\u001b[1;36m  Cell \u001b[1;32mIn[105], line 2\u001b[1;36m\u001b[0m\n\u001b[1;33m    인덱스가 datetime형일 경우, 인덱스로 슬라이싱이 가능하다(object는 불가)\u001b[0m\n\u001b[1;37m         ^\u001b[0m\n\u001b[1;31mSyntaxError\u001b[0m\u001b[1;31m:\u001b[0m invalid syntax\n"
     ]
    }
   ],
   "source": [
    "## 시계열데이터 인덱싱 슬라이싱\n",
    "인덱스가 datetime형일 경우, 인덱스로 슬라이싱이 가능하다(object는 불가)"
   ]
  },
  {
   "cell_type": "code",
   "execution_count": 106,
   "id": "9bc8cc3b",
   "metadata": {
    "ExecuteTime": {
     "end_time": "2023-12-22T07:19:56.699161Z",
     "start_time": "2023-12-22T07:19:56.692544Z"
    }
   },
   "outputs": [
    {
     "data": {
      "text/plain": [
       "DatetimeIndex(['2000-01-04', '2000-01-05', '2000-01-06', '2000-01-07',\n",
       "               '2000-01-10', '2000-01-11', '2000-01-12', '2000-01-13',\n",
       "               '2000-01-14', '2000-01-17',\n",
       "               ...\n",
       "               '2023-12-11', '2023-12-12', '2023-12-13', '2023-12-14',\n",
       "               '2023-12-15', '2023-12-18', '2023-12-19', '2023-12-20',\n",
       "               '2023-12-21', '2023-12-22'],\n",
       "              dtype='datetime64[ns]', name='Date', length=6014, freq=None)"
      ]
     },
     "execution_count": 106,
     "metadata": {},
     "output_type": "execute_result"
    }
   ],
   "source": [
    "sdf.index\n"
   ]
  },
  {
   "cell_type": "code",
   "execution_count": 107,
   "id": "1238a80b",
   "metadata": {
    "ExecuteTime": {
     "end_time": "2023-12-22T07:20:02.199810Z",
     "start_time": "2023-12-22T07:20:02.180670Z"
    }
   },
   "outputs": [
    {
     "data": {
      "text/html": [
       "<div>\n",
       "<style scoped>\n",
       "    .dataframe tbody tr th:only-of-type {\n",
       "        vertical-align: middle;\n",
       "    }\n",
       "\n",
       "    .dataframe tbody tr th {\n",
       "        vertical-align: top;\n",
       "    }\n",
       "\n",
       "    .dataframe thead th {\n",
       "        text-align: right;\n",
       "    }\n",
       "</style>\n",
       "<table border=\"1\" class=\"dataframe\">\n",
       "  <thead>\n",
       "    <tr style=\"text-align: right;\">\n",
       "      <th></th>\n",
       "      <th>Open</th>\n",
       "      <th>High</th>\n",
       "      <th>Low</th>\n",
       "      <th>Close</th>\n",
       "      <th>Adj Close</th>\n",
       "      <th>Volume</th>\n",
       "    </tr>\n",
       "    <tr>\n",
       "      <th>Date</th>\n",
       "      <th></th>\n",
       "      <th></th>\n",
       "      <th></th>\n",
       "      <th></th>\n",
       "      <th></th>\n",
       "      <th></th>\n",
       "    </tr>\n",
       "  </thead>\n",
       "  <tbody>\n",
       "    <tr>\n",
       "      <th>2023-01-02</th>\n",
       "      <td>55500.0</td>\n",
       "      <td>56100.0</td>\n",
       "      <td>55200.0</td>\n",
       "      <td>55500.0</td>\n",
       "      <td>54906.453125</td>\n",
       "      <td>10031448</td>\n",
       "    </tr>\n",
       "    <tr>\n",
       "      <th>2023-01-03</th>\n",
       "      <td>55400.0</td>\n",
       "      <td>56000.0</td>\n",
       "      <td>54500.0</td>\n",
       "      <td>55400.0</td>\n",
       "      <td>54807.519531</td>\n",
       "      <td>13547030</td>\n",
       "    </tr>\n",
       "    <tr>\n",
       "      <th>2023-01-04</th>\n",
       "      <td>55700.0</td>\n",
       "      <td>58000.0</td>\n",
       "      <td>55600.0</td>\n",
       "      <td>57800.0</td>\n",
       "      <td>57181.851562</td>\n",
       "      <td>20188071</td>\n",
       "    </tr>\n",
       "    <tr>\n",
       "      <th>2023-01-05</th>\n",
       "      <td>58200.0</td>\n",
       "      <td>58800.0</td>\n",
       "      <td>57600.0</td>\n",
       "      <td>58200.0</td>\n",
       "      <td>57577.574219</td>\n",
       "      <td>15682826</td>\n",
       "    </tr>\n",
       "    <tr>\n",
       "      <th>2023-01-06</th>\n",
       "      <td>58300.0</td>\n",
       "      <td>59400.0</td>\n",
       "      <td>57900.0</td>\n",
       "      <td>59000.0</td>\n",
       "      <td>58369.019531</td>\n",
       "      <td>17334989</td>\n",
       "    </tr>\n",
       "    <tr>\n",
       "      <th>...</th>\n",
       "      <td>...</td>\n",
       "      <td>...</td>\n",
       "      <td>...</td>\n",
       "      <td>...</td>\n",
       "      <td>...</td>\n",
       "      <td>...</td>\n",
       "    </tr>\n",
       "    <tr>\n",
       "      <th>2023-12-18</th>\n",
       "      <td>73300.0</td>\n",
       "      <td>73400.0</td>\n",
       "      <td>72800.0</td>\n",
       "      <td>72900.0</td>\n",
       "      <td>72900.000000</td>\n",
       "      <td>9690551</td>\n",
       "    </tr>\n",
       "    <tr>\n",
       "      <th>2023-12-19</th>\n",
       "      <td>73000.0</td>\n",
       "      <td>73400.0</td>\n",
       "      <td>72800.0</td>\n",
       "      <td>73400.0</td>\n",
       "      <td>73400.000000</td>\n",
       "      <td>8907632</td>\n",
       "    </tr>\n",
       "    <tr>\n",
       "      <th>2023-12-20</th>\n",
       "      <td>74200.0</td>\n",
       "      <td>74900.0</td>\n",
       "      <td>73800.0</td>\n",
       "      <td>74800.0</td>\n",
       "      <td>74800.000000</td>\n",
       "      <td>16870156</td>\n",
       "    </tr>\n",
       "    <tr>\n",
       "      <th>2023-12-21</th>\n",
       "      <td>74600.0</td>\n",
       "      <td>75000.0</td>\n",
       "      <td>74300.0</td>\n",
       "      <td>75000.0</td>\n",
       "      <td>75000.000000</td>\n",
       "      <td>13478766</td>\n",
       "    </tr>\n",
       "    <tr>\n",
       "      <th>2023-12-22</th>\n",
       "      <td>75800.0</td>\n",
       "      <td>76300.0</td>\n",
       "      <td>75400.0</td>\n",
       "      <td>75900.0</td>\n",
       "      <td>75900.000000</td>\n",
       "      <td>15124451</td>\n",
       "    </tr>\n",
       "  </tbody>\n",
       "</table>\n",
       "<p>242 rows × 6 columns</p>\n",
       "</div>"
      ],
      "text/plain": [
       "               Open     High      Low    Close     Adj Close    Volume\n",
       "Date                                                                  \n",
       "2023-01-02  55500.0  56100.0  55200.0  55500.0  54906.453125  10031448\n",
       "2023-01-03  55400.0  56000.0  54500.0  55400.0  54807.519531  13547030\n",
       "2023-01-04  55700.0  58000.0  55600.0  57800.0  57181.851562  20188071\n",
       "2023-01-05  58200.0  58800.0  57600.0  58200.0  57577.574219  15682826\n",
       "2023-01-06  58300.0  59400.0  57900.0  59000.0  58369.019531  17334989\n",
       "...             ...      ...      ...      ...           ...       ...\n",
       "2023-12-18  73300.0  73400.0  72800.0  72900.0  72900.000000   9690551\n",
       "2023-12-19  73000.0  73400.0  72800.0  73400.0  73400.000000   8907632\n",
       "2023-12-20  74200.0  74900.0  73800.0  74800.0  74800.000000  16870156\n",
       "2023-12-21  74600.0  75000.0  74300.0  75000.0  75000.000000  13478766\n",
       "2023-12-22  75800.0  76300.0  75400.0  75900.0  75900.000000  15124451\n",
       "\n",
       "[242 rows x 6 columns]"
      ]
     },
     "execution_count": 107,
     "metadata": {},
     "output_type": "execute_result"
    }
   ],
   "source": [
    "# 2023년 조회하기 # sdf['2023'] 에러남, 칼럼 조회와 헷갈리니 가능하면 loc을 쓰자\n",
    "sdf.loc['2023']"
   ]
  },
  {
   "cell_type": "code",
   "execution_count": 108,
   "id": "b5d4cd2d",
   "metadata": {
    "ExecuteTime": {
     "end_time": "2023-12-22T07:20:37.859474Z",
     "start_time": "2023-12-22T07:20:37.837131Z"
    }
   },
   "outputs": [
    {
     "data": {
      "text/html": [
       "<div>\n",
       "<style scoped>\n",
       "    .dataframe tbody tr th:only-of-type {\n",
       "        vertical-align: middle;\n",
       "    }\n",
       "\n",
       "    .dataframe tbody tr th {\n",
       "        vertical-align: top;\n",
       "    }\n",
       "\n",
       "    .dataframe thead th {\n",
       "        text-align: right;\n",
       "    }\n",
       "</style>\n",
       "<table border=\"1\" class=\"dataframe\">\n",
       "  <thead>\n",
       "    <tr style=\"text-align: right;\">\n",
       "      <th></th>\n",
       "      <th>Open</th>\n",
       "      <th>High</th>\n",
       "      <th>Low</th>\n",
       "      <th>Close</th>\n",
       "      <th>Adj Close</th>\n",
       "      <th>Volume</th>\n",
       "    </tr>\n",
       "    <tr>\n",
       "      <th>Date</th>\n",
       "      <th></th>\n",
       "      <th></th>\n",
       "      <th></th>\n",
       "      <th></th>\n",
       "      <th></th>\n",
       "      <th></th>\n",
       "    </tr>\n",
       "  </thead>\n",
       "  <tbody>\n",
       "    <tr>\n",
       "      <th>2023-11-01</th>\n",
       "      <td>67500.0</td>\n",
       "      <td>68900.0</td>\n",
       "      <td>67300.0</td>\n",
       "      <td>68600.0</td>\n",
       "      <td>68600.0</td>\n",
       "      <td>13775256</td>\n",
       "    </tr>\n",
       "    <tr>\n",
       "      <th>2023-11-02</th>\n",
       "      <td>70000.0</td>\n",
       "      <td>70000.0</td>\n",
       "      <td>69400.0</td>\n",
       "      <td>69700.0</td>\n",
       "      <td>69700.0</td>\n",
       "      <td>16350031</td>\n",
       "    </tr>\n",
       "    <tr>\n",
       "      <th>2023-11-03</th>\n",
       "      <td>69700.0</td>\n",
       "      <td>70200.0</td>\n",
       "      <td>69500.0</td>\n",
       "      <td>69600.0</td>\n",
       "      <td>69600.0</td>\n",
       "      <td>10322234</td>\n",
       "    </tr>\n",
       "    <tr>\n",
       "      <th>2023-11-06</th>\n",
       "      <td>69800.0</td>\n",
       "      <td>70900.0</td>\n",
       "      <td>69300.0</td>\n",
       "      <td>70900.0</td>\n",
       "      <td>70900.0</td>\n",
       "      <td>22228489</td>\n",
       "    </tr>\n",
       "    <tr>\n",
       "      <th>2023-11-07</th>\n",
       "      <td>70600.0</td>\n",
       "      <td>70900.0</td>\n",
       "      <td>70000.0</td>\n",
       "      <td>70900.0</td>\n",
       "      <td>70900.0</td>\n",
       "      <td>17228731</td>\n",
       "    </tr>\n",
       "    <tr>\n",
       "      <th>2023-11-08</th>\n",
       "      <td>71300.0</td>\n",
       "      <td>71400.0</td>\n",
       "      <td>69700.0</td>\n",
       "      <td>69900.0</td>\n",
       "      <td>69900.0</td>\n",
       "      <td>12901310</td>\n",
       "    </tr>\n",
       "    <tr>\n",
       "      <th>2023-11-09</th>\n",
       "      <td>69900.0</td>\n",
       "      <td>70800.0</td>\n",
       "      <td>69600.0</td>\n",
       "      <td>70300.0</td>\n",
       "      <td>70300.0</td>\n",
       "      <td>12301373</td>\n",
       "    </tr>\n",
       "    <tr>\n",
       "      <th>2023-11-10</th>\n",
       "      <td>70000.0</td>\n",
       "      <td>70500.0</td>\n",
       "      <td>69500.0</td>\n",
       "      <td>70500.0</td>\n",
       "      <td>70500.0</td>\n",
       "      <td>9684347</td>\n",
       "    </tr>\n",
       "    <tr>\n",
       "      <th>2023-11-13</th>\n",
       "      <td>71300.0</td>\n",
       "      <td>71300.0</td>\n",
       "      <td>70300.0</td>\n",
       "      <td>70400.0</td>\n",
       "      <td>70400.0</td>\n",
       "      <td>9246919</td>\n",
       "    </tr>\n",
       "    <tr>\n",
       "      <th>2023-11-14</th>\n",
       "      <td>71000.0</td>\n",
       "      <td>71100.0</td>\n",
       "      <td>70600.0</td>\n",
       "      <td>70800.0</td>\n",
       "      <td>70800.0</td>\n",
       "      <td>9567984</td>\n",
       "    </tr>\n",
       "    <tr>\n",
       "      <th>2023-11-15</th>\n",
       "      <td>71600.0</td>\n",
       "      <td>72200.0</td>\n",
       "      <td>71500.0</td>\n",
       "      <td>72200.0</td>\n",
       "      <td>72200.0</td>\n",
       "      <td>20148677</td>\n",
       "    </tr>\n",
       "    <tr>\n",
       "      <th>2023-11-16</th>\n",
       "      <td>72500.0</td>\n",
       "      <td>73000.0</td>\n",
       "      <td>72300.0</td>\n",
       "      <td>72800.0</td>\n",
       "      <td>72800.0</td>\n",
       "      <td>15860451</td>\n",
       "    </tr>\n",
       "    <tr>\n",
       "      <th>2023-11-17</th>\n",
       "      <td>72300.0</td>\n",
       "      <td>73000.0</td>\n",
       "      <td>72300.0</td>\n",
       "      <td>72500.0</td>\n",
       "      <td>72500.0</td>\n",
       "      <td>11494644</td>\n",
       "    </tr>\n",
       "    <tr>\n",
       "      <th>2023-11-20</th>\n",
       "      <td>72100.0</td>\n",
       "      <td>73000.0</td>\n",
       "      <td>72100.0</td>\n",
       "      <td>72700.0</td>\n",
       "      <td>72700.0</td>\n",
       "      <td>10610157</td>\n",
       "    </tr>\n",
       "    <tr>\n",
       "      <th>2023-11-21</th>\n",
       "      <td>73100.0</td>\n",
       "      <td>73400.0</td>\n",
       "      <td>72700.0</td>\n",
       "      <td>72800.0</td>\n",
       "      <td>72800.0</td>\n",
       "      <td>9712881</td>\n",
       "    </tr>\n",
       "    <tr>\n",
       "      <th>2023-11-22</th>\n",
       "      <td>72200.0</td>\n",
       "      <td>73000.0</td>\n",
       "      <td>71900.0</td>\n",
       "      <td>72800.0</td>\n",
       "      <td>72800.0</td>\n",
       "      <td>11105143</td>\n",
       "    </tr>\n",
       "    <tr>\n",
       "      <th>2023-11-23</th>\n",
       "      <td>73000.0</td>\n",
       "      <td>73200.0</td>\n",
       "      <td>72200.0</td>\n",
       "      <td>72400.0</td>\n",
       "      <td>72400.0</td>\n",
       "      <td>6775614</td>\n",
       "    </tr>\n",
       "    <tr>\n",
       "      <th>2023-11-24</th>\n",
       "      <td>72400.0</td>\n",
       "      <td>72600.0</td>\n",
       "      <td>71700.0</td>\n",
       "      <td>71700.0</td>\n",
       "      <td>71700.0</td>\n",
       "      <td>6676685</td>\n",
       "    </tr>\n",
       "    <tr>\n",
       "      <th>2023-11-27</th>\n",
       "      <td>71500.0</td>\n",
       "      <td>72100.0</td>\n",
       "      <td>71100.0</td>\n",
       "      <td>71300.0</td>\n",
       "      <td>71300.0</td>\n",
       "      <td>9113857</td>\n",
       "    </tr>\n",
       "    <tr>\n",
       "      <th>2023-11-28</th>\n",
       "      <td>71400.0</td>\n",
       "      <td>72700.0</td>\n",
       "      <td>71300.0</td>\n",
       "      <td>72700.0</td>\n",
       "      <td>72700.0</td>\n",
       "      <td>13283081</td>\n",
       "    </tr>\n",
       "    <tr>\n",
       "      <th>2023-11-29</th>\n",
       "      <td>72400.0</td>\n",
       "      <td>72800.0</td>\n",
       "      <td>72200.0</td>\n",
       "      <td>72700.0</td>\n",
       "      <td>72700.0</td>\n",
       "      <td>9283933</td>\n",
       "    </tr>\n",
       "    <tr>\n",
       "      <th>2023-11-30</th>\n",
       "      <td>72700.0</td>\n",
       "      <td>72800.0</td>\n",
       "      <td>72200.0</td>\n",
       "      <td>72800.0</td>\n",
       "      <td>72800.0</td>\n",
       "      <td>15783714</td>\n",
       "    </tr>\n",
       "  </tbody>\n",
       "</table>\n",
       "</div>"
      ],
      "text/plain": [
       "               Open     High      Low    Close  Adj Close    Volume\n",
       "Date                                                               \n",
       "2023-11-01  67500.0  68900.0  67300.0  68600.0    68600.0  13775256\n",
       "2023-11-02  70000.0  70000.0  69400.0  69700.0    69700.0  16350031\n",
       "2023-11-03  69700.0  70200.0  69500.0  69600.0    69600.0  10322234\n",
       "2023-11-06  69800.0  70900.0  69300.0  70900.0    70900.0  22228489\n",
       "2023-11-07  70600.0  70900.0  70000.0  70900.0    70900.0  17228731\n",
       "2023-11-08  71300.0  71400.0  69700.0  69900.0    69900.0  12901310\n",
       "2023-11-09  69900.0  70800.0  69600.0  70300.0    70300.0  12301373\n",
       "2023-11-10  70000.0  70500.0  69500.0  70500.0    70500.0   9684347\n",
       "2023-11-13  71300.0  71300.0  70300.0  70400.0    70400.0   9246919\n",
       "2023-11-14  71000.0  71100.0  70600.0  70800.0    70800.0   9567984\n",
       "2023-11-15  71600.0  72200.0  71500.0  72200.0    72200.0  20148677\n",
       "2023-11-16  72500.0  73000.0  72300.0  72800.0    72800.0  15860451\n",
       "2023-11-17  72300.0  73000.0  72300.0  72500.0    72500.0  11494644\n",
       "2023-11-20  72100.0  73000.0  72100.0  72700.0    72700.0  10610157\n",
       "2023-11-21  73100.0  73400.0  72700.0  72800.0    72800.0   9712881\n",
       "2023-11-22  72200.0  73000.0  71900.0  72800.0    72800.0  11105143\n",
       "2023-11-23  73000.0  73200.0  72200.0  72400.0    72400.0   6775614\n",
       "2023-11-24  72400.0  72600.0  71700.0  71700.0    71700.0   6676685\n",
       "2023-11-27  71500.0  72100.0  71100.0  71300.0    71300.0   9113857\n",
       "2023-11-28  71400.0  72700.0  71300.0  72700.0    72700.0  13283081\n",
       "2023-11-29  72400.0  72800.0  72200.0  72700.0    72700.0   9283933\n",
       "2023-11-30  72700.0  72800.0  72200.0  72800.0    72800.0  15783714"
      ]
     },
     "execution_count": 108,
     "metadata": {},
     "output_type": "execute_result"
    }
   ],
   "source": [
    "sdf.loc['2023-11']"
   ]
  },
  {
   "cell_type": "code",
   "execution_count": 110,
   "id": "98ea0e13",
   "metadata": {
    "ExecuteTime": {
     "end_time": "2023-12-22T07:20:54.783452Z",
     "start_time": "2023-12-22T07:20:54.766336Z"
    }
   },
   "outputs": [
    {
     "data": {
      "text/html": [
       "<div>\n",
       "<style scoped>\n",
       "    .dataframe tbody tr th:only-of-type {\n",
       "        vertical-align: middle;\n",
       "    }\n",
       "\n",
       "    .dataframe tbody tr th {\n",
       "        vertical-align: top;\n",
       "    }\n",
       "\n",
       "    .dataframe thead th {\n",
       "        text-align: right;\n",
       "    }\n",
       "</style>\n",
       "<table border=\"1\" class=\"dataframe\">\n",
       "  <thead>\n",
       "    <tr style=\"text-align: right;\">\n",
       "      <th></th>\n",
       "      <th>Open</th>\n",
       "      <th>High</th>\n",
       "      <th>Low</th>\n",
       "      <th>Close</th>\n",
       "      <th>Adj Close</th>\n",
       "      <th>Volume</th>\n",
       "    </tr>\n",
       "    <tr>\n",
       "      <th>Date</th>\n",
       "      <th></th>\n",
       "      <th></th>\n",
       "      <th></th>\n",
       "      <th></th>\n",
       "      <th></th>\n",
       "      <th></th>\n",
       "    </tr>\n",
       "  </thead>\n",
       "  <tbody>\n",
       "    <tr>\n",
       "      <th>2022-01-04</th>\n",
       "      <td>78800.0</td>\n",
       "      <td>79200.0</td>\n",
       "      <td>78300.0</td>\n",
       "      <td>78700.0</td>\n",
       "      <td>75986.742188</td>\n",
       "      <td>12427416</td>\n",
       "    </tr>\n",
       "    <tr>\n",
       "      <th>2022-01-05</th>\n",
       "      <td>78800.0</td>\n",
       "      <td>79000.0</td>\n",
       "      <td>76400.0</td>\n",
       "      <td>77400.0</td>\n",
       "      <td>74731.562500</td>\n",
       "      <td>25470640</td>\n",
       "    </tr>\n",
       "    <tr>\n",
       "      <th>2022-01-06</th>\n",
       "      <td>76700.0</td>\n",
       "      <td>77600.0</td>\n",
       "      <td>76600.0</td>\n",
       "      <td>76900.0</td>\n",
       "      <td>74248.789062</td>\n",
       "      <td>12931954</td>\n",
       "    </tr>\n",
       "    <tr>\n",
       "      <th>2022-01-07</th>\n",
       "      <td>78100.0</td>\n",
       "      <td>78400.0</td>\n",
       "      <td>77400.0</td>\n",
       "      <td>78300.0</td>\n",
       "      <td>75600.531250</td>\n",
       "      <td>15163757</td>\n",
       "    </tr>\n",
       "    <tr>\n",
       "      <th>2022-01-10</th>\n",
       "      <td>78100.0</td>\n",
       "      <td>78100.0</td>\n",
       "      <td>77100.0</td>\n",
       "      <td>78000.0</td>\n",
       "      <td>75310.875000</td>\n",
       "      <td>9947422</td>\n",
       "    </tr>\n",
       "    <tr>\n",
       "      <th>...</th>\n",
       "      <td>...</td>\n",
       "      <td>...</td>\n",
       "      <td>...</td>\n",
       "      <td>...</td>\n",
       "      <td>...</td>\n",
       "      <td>...</td>\n",
       "    </tr>\n",
       "    <tr>\n",
       "      <th>2023-12-18</th>\n",
       "      <td>73300.0</td>\n",
       "      <td>73400.0</td>\n",
       "      <td>72800.0</td>\n",
       "      <td>72900.0</td>\n",
       "      <td>72900.000000</td>\n",
       "      <td>9690551</td>\n",
       "    </tr>\n",
       "    <tr>\n",
       "      <th>2023-12-19</th>\n",
       "      <td>73000.0</td>\n",
       "      <td>73400.0</td>\n",
       "      <td>72800.0</td>\n",
       "      <td>73400.0</td>\n",
       "      <td>73400.000000</td>\n",
       "      <td>8907632</td>\n",
       "    </tr>\n",
       "    <tr>\n",
       "      <th>2023-12-20</th>\n",
       "      <td>74200.0</td>\n",
       "      <td>74900.0</td>\n",
       "      <td>73800.0</td>\n",
       "      <td>74800.0</td>\n",
       "      <td>74800.000000</td>\n",
       "      <td>16870156</td>\n",
       "    </tr>\n",
       "    <tr>\n",
       "      <th>2023-12-21</th>\n",
       "      <td>74600.0</td>\n",
       "      <td>75000.0</td>\n",
       "      <td>74300.0</td>\n",
       "      <td>75000.0</td>\n",
       "      <td>75000.000000</td>\n",
       "      <td>13478766</td>\n",
       "    </tr>\n",
       "    <tr>\n",
       "      <th>2023-12-22</th>\n",
       "      <td>75800.0</td>\n",
       "      <td>76300.0</td>\n",
       "      <td>75400.0</td>\n",
       "      <td>75900.0</td>\n",
       "      <td>75900.000000</td>\n",
       "      <td>15124451</td>\n",
       "    </tr>\n",
       "  </tbody>\n",
       "</table>\n",
       "<p>486 rows × 6 columns</p>\n",
       "</div>"
      ],
      "text/plain": [
       "               Open     High      Low    Close     Adj Close    Volume\n",
       "Date                                                                  \n",
       "2022-01-04  78800.0  79200.0  78300.0  78700.0  75986.742188  12427416\n",
       "2022-01-05  78800.0  79000.0  76400.0  77400.0  74731.562500  25470640\n",
       "2022-01-06  76700.0  77600.0  76600.0  76900.0  74248.789062  12931954\n",
       "2022-01-07  78100.0  78400.0  77400.0  78300.0  75600.531250  15163757\n",
       "2022-01-10  78100.0  78100.0  77100.0  78000.0  75310.875000   9947422\n",
       "...             ...      ...      ...      ...           ...       ...\n",
       "2023-12-18  73300.0  73400.0  72800.0  72900.0  72900.000000   9690551\n",
       "2023-12-19  73000.0  73400.0  72800.0  73400.0  73400.000000   8907632\n",
       "2023-12-20  74200.0  74900.0  73800.0  74800.0  74800.000000  16870156\n",
       "2023-12-21  74600.0  75000.0  74300.0  75000.0  75000.000000  13478766\n",
       "2023-12-22  75800.0  76300.0  75400.0  75900.0  75900.000000  15124451\n",
       "\n",
       "[486 rows x 6 columns]"
      ]
     },
     "execution_count": 110,
     "metadata": {},
     "output_type": "execute_result"
    }
   ],
   "source": [
    "sdf.loc['2022':'2023']"
   ]
  },
  {
   "cell_type": "code",
   "execution_count": 111,
   "id": "0ab8f816",
   "metadata": {
    "ExecuteTime": {
     "end_time": "2023-12-22T07:21:11.232311Z",
     "start_time": "2023-12-22T07:21:11.212000Z"
    }
   },
   "outputs": [
    {
     "data": {
      "text/html": [
       "<div>\n",
       "<style scoped>\n",
       "    .dataframe tbody tr th:only-of-type {\n",
       "        vertical-align: middle;\n",
       "    }\n",
       "\n",
       "    .dataframe tbody tr th {\n",
       "        vertical-align: top;\n",
       "    }\n",
       "\n",
       "    .dataframe thead th {\n",
       "        text-align: right;\n",
       "    }\n",
       "</style>\n",
       "<table border=\"1\" class=\"dataframe\">\n",
       "  <thead>\n",
       "    <tr style=\"text-align: right;\">\n",
       "      <th></th>\n",
       "      <th>Open</th>\n",
       "      <th>High</th>\n",
       "      <th>Low</th>\n",
       "      <th>Close</th>\n",
       "      <th>Adj Close</th>\n",
       "      <th>Volume</th>\n",
       "    </tr>\n",
       "    <tr>\n",
       "      <th>Date</th>\n",
       "      <th></th>\n",
       "      <th></th>\n",
       "      <th></th>\n",
       "      <th></th>\n",
       "      <th></th>\n",
       "      <th></th>\n",
       "    </tr>\n",
       "  </thead>\n",
       "  <tbody>\n",
       "    <tr>\n",
       "      <th>2020-01-02</th>\n",
       "      <td>55500.0</td>\n",
       "      <td>56000.0</td>\n",
       "      <td>55000.0</td>\n",
       "      <td>55200.0</td>\n",
       "      <td>50037.410156</td>\n",
       "      <td>12993228</td>\n",
       "    </tr>\n",
       "    <tr>\n",
       "      <th>2020-01-03</th>\n",
       "      <td>56000.0</td>\n",
       "      <td>56600.0</td>\n",
       "      <td>54900.0</td>\n",
       "      <td>55500.0</td>\n",
       "      <td>50309.351562</td>\n",
       "      <td>15422255</td>\n",
       "    </tr>\n",
       "    <tr>\n",
       "      <th>2020-01-06</th>\n",
       "      <td>54900.0</td>\n",
       "      <td>55600.0</td>\n",
       "      <td>54600.0</td>\n",
       "      <td>55500.0</td>\n",
       "      <td>50309.351562</td>\n",
       "      <td>10278951</td>\n",
       "    </tr>\n",
       "    <tr>\n",
       "      <th>2020-01-07</th>\n",
       "      <td>55700.0</td>\n",
       "      <td>56400.0</td>\n",
       "      <td>55600.0</td>\n",
       "      <td>55800.0</td>\n",
       "      <td>50581.300781</td>\n",
       "      <td>10009778</td>\n",
       "    </tr>\n",
       "    <tr>\n",
       "      <th>2020-01-08</th>\n",
       "      <td>56200.0</td>\n",
       "      <td>57400.0</td>\n",
       "      <td>55900.0</td>\n",
       "      <td>56800.0</td>\n",
       "      <td>51487.769531</td>\n",
       "      <td>23501171</td>\n",
       "    </tr>\n",
       "    <tr>\n",
       "      <th>...</th>\n",
       "      <td>...</td>\n",
       "      <td>...</td>\n",
       "      <td>...</td>\n",
       "      <td>...</td>\n",
       "      <td>...</td>\n",
       "      <td>...</td>\n",
       "    </tr>\n",
       "    <tr>\n",
       "      <th>2022-12-23</th>\n",
       "      <td>58200.0</td>\n",
       "      <td>58400.0</td>\n",
       "      <td>57700.0</td>\n",
       "      <td>58100.0</td>\n",
       "      <td>57121.503906</td>\n",
       "      <td>9829407</td>\n",
       "    </tr>\n",
       "    <tr>\n",
       "      <th>2022-12-26</th>\n",
       "      <td>58000.0</td>\n",
       "      <td>58100.0</td>\n",
       "      <td>57700.0</td>\n",
       "      <td>57900.0</td>\n",
       "      <td>56924.875000</td>\n",
       "      <td>6756411</td>\n",
       "    </tr>\n",
       "    <tr>\n",
       "      <th>2022-12-27</th>\n",
       "      <td>58000.0</td>\n",
       "      <td>58400.0</td>\n",
       "      <td>57900.0</td>\n",
       "      <td>58100.0</td>\n",
       "      <td>57121.503906</td>\n",
       "      <td>10667027</td>\n",
       "    </tr>\n",
       "    <tr>\n",
       "      <th>2022-12-28</th>\n",
       "      <td>57600.0</td>\n",
       "      <td>57600.0</td>\n",
       "      <td>56400.0</td>\n",
       "      <td>56600.0</td>\n",
       "      <td>55994.683594</td>\n",
       "      <td>14665410</td>\n",
       "    </tr>\n",
       "    <tr>\n",
       "      <th>2022-12-29</th>\n",
       "      <td>56000.0</td>\n",
       "      <td>56200.0</td>\n",
       "      <td>55300.0</td>\n",
       "      <td>55300.0</td>\n",
       "      <td>54708.589844</td>\n",
       "      <td>11295935</td>\n",
       "    </tr>\n",
       "  </tbody>\n",
       "</table>\n",
       "<p>740 rows × 6 columns</p>\n",
       "</div>"
      ],
      "text/plain": [
       "               Open     High      Low    Close     Adj Close    Volume\n",
       "Date                                                                  \n",
       "2020-01-02  55500.0  56000.0  55000.0  55200.0  50037.410156  12993228\n",
       "2020-01-03  56000.0  56600.0  54900.0  55500.0  50309.351562  15422255\n",
       "2020-01-06  54900.0  55600.0  54600.0  55500.0  50309.351562  10278951\n",
       "2020-01-07  55700.0  56400.0  55600.0  55800.0  50581.300781  10009778\n",
       "2020-01-08  56200.0  57400.0  55900.0  56800.0  51487.769531  23501171\n",
       "...             ...      ...      ...      ...           ...       ...\n",
       "2022-12-23  58200.0  58400.0  57700.0  58100.0  57121.503906   9829407\n",
       "2022-12-26  58000.0  58100.0  57700.0  57900.0  56924.875000   6756411\n",
       "2022-12-27  58000.0  58400.0  57900.0  58100.0  57121.503906  10667027\n",
       "2022-12-28  57600.0  57600.0  56400.0  56600.0  55994.683594  14665410\n",
       "2022-12-29  56000.0  56200.0  55300.0  55300.0  54708.589844  11295935\n",
       "\n",
       "[740 rows x 6 columns]"
      ]
     },
     "execution_count": 111,
     "metadata": {},
     "output_type": "execute_result"
    }
   ],
   "source": [
    "sdf.loc['2020-01-01':'2022-12-31']"
   ]
  },
  {
   "cell_type": "code",
   "execution_count": 112,
   "id": "9d6cfd62",
   "metadata": {
    "ExecuteTime": {
     "end_time": "2023-12-22T07:22:30.444794Z",
     "start_time": "2023-12-22T07:22:30.436941Z"
    }
   },
   "outputs": [
    {
     "data": {
      "text/plain": [
       "Open         9.030000e+04\n",
       "High         9.680000e+04\n",
       "Low          8.950000e+04\n",
       "Close        9.100000e+04\n",
       "Adj Close    8.628672e+04\n",
       "Volume       1.642150e+08\n",
       "dtype: float64"
      ]
     },
     "execution_count": 112,
     "metadata": {},
     "output_type": "execute_result"
    }
   ],
   "source": [
    "sdf.max()"
   ]
  },
  {
   "cell_type": "markdown",
   "id": "f3b8add7",
   "metadata": {
    "ExecuteTime": {
     "end_time": "2023-12-22T07:23:54.422091Z",
     "start_time": "2023-12-22T07:23:52.572618Z"
    }
   },
   "source": [
    "## 시계열 데이터의 통계(집계)"
   ]
  },
  {
   "cell_type": "code",
   "execution_count": 116,
   "id": "aa3eca13",
   "metadata": {
    "ExecuteTime": {
     "end_time": "2023-12-22T07:24:44.316807Z",
     "start_time": "2023-12-22T07:24:44.236951Z"
    }
   },
   "outputs": [
    {
     "ename": "KeyError",
     "evalue": "'year'",
     "output_type": "error",
     "traceback": [
      "\u001b[1;31m---------------------------------------------------------------------------\u001b[0m",
      "\u001b[1;31mKeyError\u001b[0m                                  Traceback (most recent call last)",
      "Cell \u001b[1;32mIn[116], line 2\u001b[0m\n\u001b[0;32m      1\u001b[0m \u001b[38;5;66;03m# 년도별 평균(수치데이터 칼럼 전체 적용 ), 년도 칼럼 활용\u001b[39;00m\n\u001b[1;32m----> 2\u001b[0m \u001b[38;5;28mround\u001b[39m(sdf\u001b[38;5;241m.\u001b[39mgroupby(\u001b[38;5;124m'\u001b[39m\u001b[38;5;124myear\u001b[39m\u001b[38;5;124m'\u001b[39m)\u001b[38;5;241m.\u001b[39mmean())\n",
      "File \u001b[1;32m~\\anaconda3\\Lib\\site-packages\\pandas\\core\\frame.py:8252\u001b[0m, in \u001b[0;36mDataFrame.groupby\u001b[1;34m(self, by, axis, level, as_index, sort, group_keys, observed, dropna)\u001b[0m\n\u001b[0;32m   8249\u001b[0m     \u001b[38;5;28;01mraise\u001b[39;00m \u001b[38;5;167;01mTypeError\u001b[39;00m(\u001b[38;5;124m\"\u001b[39m\u001b[38;5;124mYou have to supply one of \u001b[39m\u001b[38;5;124m'\u001b[39m\u001b[38;5;124mby\u001b[39m\u001b[38;5;124m'\u001b[39m\u001b[38;5;124m and \u001b[39m\u001b[38;5;124m'\u001b[39m\u001b[38;5;124mlevel\u001b[39m\u001b[38;5;124m'\u001b[39m\u001b[38;5;124m\"\u001b[39m)\n\u001b[0;32m   8250\u001b[0m axis \u001b[38;5;241m=\u001b[39m \u001b[38;5;28mself\u001b[39m\u001b[38;5;241m.\u001b[39m_get_axis_number(axis)\n\u001b[1;32m-> 8252\u001b[0m \u001b[38;5;28;01mreturn\u001b[39;00m DataFrameGroupBy(\n\u001b[0;32m   8253\u001b[0m     obj\u001b[38;5;241m=\u001b[39m\u001b[38;5;28mself\u001b[39m,\n\u001b[0;32m   8254\u001b[0m     keys\u001b[38;5;241m=\u001b[39mby,\n\u001b[0;32m   8255\u001b[0m     axis\u001b[38;5;241m=\u001b[39maxis,\n\u001b[0;32m   8256\u001b[0m     level\u001b[38;5;241m=\u001b[39mlevel,\n\u001b[0;32m   8257\u001b[0m     as_index\u001b[38;5;241m=\u001b[39mas_index,\n\u001b[0;32m   8258\u001b[0m     sort\u001b[38;5;241m=\u001b[39msort,\n\u001b[0;32m   8259\u001b[0m     group_keys\u001b[38;5;241m=\u001b[39mgroup_keys,\n\u001b[0;32m   8260\u001b[0m     observed\u001b[38;5;241m=\u001b[39mobserved,\n\u001b[0;32m   8261\u001b[0m     dropna\u001b[38;5;241m=\u001b[39mdropna,\n\u001b[0;32m   8262\u001b[0m )\n",
      "File \u001b[1;32m~\\anaconda3\\Lib\\site-packages\\pandas\\core\\groupby\\groupby.py:931\u001b[0m, in \u001b[0;36mGroupBy.__init__\u001b[1;34m(self, obj, keys, axis, level, grouper, exclusions, selection, as_index, sort, group_keys, observed, dropna)\u001b[0m\n\u001b[0;32m    928\u001b[0m \u001b[38;5;28mself\u001b[39m\u001b[38;5;241m.\u001b[39mdropna \u001b[38;5;241m=\u001b[39m dropna\n\u001b[0;32m    930\u001b[0m \u001b[38;5;28;01mif\u001b[39;00m grouper \u001b[38;5;129;01mis\u001b[39;00m \u001b[38;5;28;01mNone\u001b[39;00m:\n\u001b[1;32m--> 931\u001b[0m     grouper, exclusions, obj \u001b[38;5;241m=\u001b[39m get_grouper(\n\u001b[0;32m    932\u001b[0m         obj,\n\u001b[0;32m    933\u001b[0m         keys,\n\u001b[0;32m    934\u001b[0m         axis\u001b[38;5;241m=\u001b[39maxis,\n\u001b[0;32m    935\u001b[0m         level\u001b[38;5;241m=\u001b[39mlevel,\n\u001b[0;32m    936\u001b[0m         sort\u001b[38;5;241m=\u001b[39msort,\n\u001b[0;32m    937\u001b[0m         observed\u001b[38;5;241m=\u001b[39mobserved,\n\u001b[0;32m    938\u001b[0m         dropna\u001b[38;5;241m=\u001b[39m\u001b[38;5;28mself\u001b[39m\u001b[38;5;241m.\u001b[39mdropna,\n\u001b[0;32m    939\u001b[0m     )\n\u001b[0;32m    941\u001b[0m \u001b[38;5;28mself\u001b[39m\u001b[38;5;241m.\u001b[39mobj \u001b[38;5;241m=\u001b[39m obj\n\u001b[0;32m    942\u001b[0m \u001b[38;5;28mself\u001b[39m\u001b[38;5;241m.\u001b[39maxis \u001b[38;5;241m=\u001b[39m obj\u001b[38;5;241m.\u001b[39m_get_axis_number(axis)\n",
      "File \u001b[1;32m~\\anaconda3\\Lib\\site-packages\\pandas\\core\\groupby\\grouper.py:985\u001b[0m, in \u001b[0;36mget_grouper\u001b[1;34m(obj, key, axis, level, sort, observed, validate, dropna)\u001b[0m\n\u001b[0;32m    983\u001b[0m         in_axis, level, gpr \u001b[38;5;241m=\u001b[39m \u001b[38;5;28;01mFalse\u001b[39;00m, gpr, \u001b[38;5;28;01mNone\u001b[39;00m\n\u001b[0;32m    984\u001b[0m     \u001b[38;5;28;01melse\u001b[39;00m:\n\u001b[1;32m--> 985\u001b[0m         \u001b[38;5;28;01mraise\u001b[39;00m \u001b[38;5;167;01mKeyError\u001b[39;00m(gpr)\n\u001b[0;32m    986\u001b[0m \u001b[38;5;28;01melif\u001b[39;00m \u001b[38;5;28misinstance\u001b[39m(gpr, Grouper) \u001b[38;5;129;01mand\u001b[39;00m gpr\u001b[38;5;241m.\u001b[39mkey \u001b[38;5;129;01mis\u001b[39;00m \u001b[38;5;129;01mnot\u001b[39;00m \u001b[38;5;28;01mNone\u001b[39;00m:\n\u001b[0;32m    987\u001b[0m     \u001b[38;5;66;03m# Add key to exclusions\u001b[39;00m\n\u001b[0;32m    988\u001b[0m     exclusions\u001b[38;5;241m.\u001b[39madd(gpr\u001b[38;5;241m.\u001b[39mkey)\n",
      "\u001b[1;31mKeyError\u001b[0m: 'year'"
     ]
    }
   ],
   "source": [
    "# 년도별 평균(수치데이터 칼럼 전체 적용 ), 년도 칼럼 활용\n",
    "round(sdf.groupby('year').mean()) # groupby객체 멤버함수 sum mean max min agg"
   ]
  },
  {
   "cell_type": "code",
   "execution_count": 117,
   "id": "b9ed7ab5",
   "metadata": {
    "ExecuteTime": {
     "end_time": "2023-12-22T07:24:53.047891Z",
     "start_time": "2023-12-22T07:24:53.021730Z"
    }
   },
   "outputs": [
    {
     "data": {
      "text/html": [
       "<div>\n",
       "<style scoped>\n",
       "    .dataframe tbody tr th:only-of-type {\n",
       "        vertical-align: middle;\n",
       "    }\n",
       "\n",
       "    .dataframe tbody tr th {\n",
       "        vertical-align: top;\n",
       "    }\n",
       "\n",
       "    .dataframe thead th {\n",
       "        text-align: right;\n",
       "    }\n",
       "</style>\n",
       "<table border=\"1\" class=\"dataframe\">\n",
       "  <thead>\n",
       "    <tr style=\"text-align: right;\">\n",
       "      <th></th>\n",
       "      <th>Open</th>\n",
       "      <th>High</th>\n",
       "      <th>Low</th>\n",
       "      <th>Close</th>\n",
       "      <th>Adj Close</th>\n",
       "      <th>Volume</th>\n",
       "    </tr>\n",
       "    <tr>\n",
       "      <th>Date</th>\n",
       "      <th></th>\n",
       "      <th></th>\n",
       "      <th></th>\n",
       "      <th></th>\n",
       "      <th></th>\n",
       "      <th></th>\n",
       "    </tr>\n",
       "  </thead>\n",
       "  <tbody>\n",
       "    <tr>\n",
       "      <th>2000</th>\n",
       "      <td>5370.0</td>\n",
       "      <td>5494.0</td>\n",
       "      <td>5248.0</td>\n",
       "      <td>5362.0</td>\n",
       "      <td>3962.0</td>\n",
       "      <td>50783205.0</td>\n",
       "    </tr>\n",
       "    <tr>\n",
       "      <th>2001</th>\n",
       "      <td>3989.0</td>\n",
       "      <td>4062.0</td>\n",
       "      <td>3928.0</td>\n",
       "      <td>3999.0</td>\n",
       "      <td>2955.0</td>\n",
       "      <td>33614195.0</td>\n",
       "    </tr>\n",
       "    <tr>\n",
       "      <th>2002</th>\n",
       "      <td>6850.0</td>\n",
       "      <td>6955.0</td>\n",
       "      <td>6752.0</td>\n",
       "      <td>6857.0</td>\n",
       "      <td>5066.0</td>\n",
       "      <td>39264176.0</td>\n",
       "    </tr>\n",
       "    <tr>\n",
       "      <th>2003</th>\n",
       "      <td>7461.0</td>\n",
       "      <td>7554.0</td>\n",
       "      <td>7372.0</td>\n",
       "      <td>7468.0</td>\n",
       "      <td>5518.0</td>\n",
       "      <td>29283123.0</td>\n",
       "    </tr>\n",
       "    <tr>\n",
       "      <th>2004</th>\n",
       "      <td>9675.0</td>\n",
       "      <td>9787.0</td>\n",
       "      <td>9557.0</td>\n",
       "      <td>9675.0</td>\n",
       "      <td>7148.0</td>\n",
       "      <td>27187061.0</td>\n",
       "    </tr>\n",
       "    <tr>\n",
       "      <th>2005</th>\n",
       "      <td>10723.0</td>\n",
       "      <td>10825.0</td>\n",
       "      <td>10632.0</td>\n",
       "      <td>10733.0</td>\n",
       "      <td>7931.0</td>\n",
       "      <td>20577988.0</td>\n",
       "    </tr>\n",
       "    <tr>\n",
       "      <th>2006</th>\n",
       "      <td>12768.0</td>\n",
       "      <td>12893.0</td>\n",
       "      <td>12638.0</td>\n",
       "      <td>12762.0</td>\n",
       "      <td>9435.0</td>\n",
       "      <td>19283371.0</td>\n",
       "    </tr>\n",
       "    <tr>\n",
       "      <th>2007</th>\n",
       "      <td>11556.0</td>\n",
       "      <td>11681.0</td>\n",
       "      <td>11418.0</td>\n",
       "      <td>11546.0</td>\n",
       "      <td>8614.0</td>\n",
       "      <td>27934642.0</td>\n",
       "    </tr>\n",
       "    <tr>\n",
       "      <th>2008</th>\n",
       "      <td>11486.0</td>\n",
       "      <td>11670.0</td>\n",
       "      <td>11315.0</td>\n",
       "      <td>11494.0</td>\n",
       "      <td>8696.0</td>\n",
       "      <td>27783142.0</td>\n",
       "    </tr>\n",
       "    <tr>\n",
       "      <th>2009</th>\n",
       "      <td>12835.0</td>\n",
       "      <td>13003.0</td>\n",
       "      <td>12665.0</td>\n",
       "      <td>12840.0</td>\n",
       "      <td>9830.0</td>\n",
       "      <td>24055224.0</td>\n",
       "    </tr>\n",
       "    <tr>\n",
       "      <th>2010</th>\n",
       "      <td>16081.0</td>\n",
       "      <td>16223.0</td>\n",
       "      <td>15914.0</td>\n",
       "      <td>16071.0</td>\n",
       "      <td>12466.0</td>\n",
       "      <td>17372052.0</td>\n",
       "    </tr>\n",
       "    <tr>\n",
       "      <th>2011</th>\n",
       "      <td>17932.0</td>\n",
       "      <td>18148.0</td>\n",
       "      <td>17705.0</td>\n",
       "      <td>17926.0</td>\n",
       "      <td>14026.0</td>\n",
       "      <td>19757473.0</td>\n",
       "    </tr>\n",
       "    <tr>\n",
       "      <th>2012</th>\n",
       "      <td>25183.0</td>\n",
       "      <td>25454.0</td>\n",
       "      <td>24928.0</td>\n",
       "      <td>25215.0</td>\n",
       "      <td>19832.0</td>\n",
       "      <td>16173437.0</td>\n",
       "    </tr>\n",
       "    <tr>\n",
       "      <th>2013</th>\n",
       "      <td>28617.0</td>\n",
       "      <td>28848.0</td>\n",
       "      <td>28320.0</td>\n",
       "      <td>28579.0</td>\n",
       "      <td>22603.0</td>\n",
       "      <td>12883379.0</td>\n",
       "    </tr>\n",
       "    <tr>\n",
       "      <th>2014</th>\n",
       "      <td>25873.0</td>\n",
       "      <td>26082.0</td>\n",
       "      <td>25613.0</td>\n",
       "      <td>25836.0</td>\n",
       "      <td>20645.0</td>\n",
       "      <td>12487455.0</td>\n",
       "    </tr>\n",
       "    <tr>\n",
       "      <th>2015</th>\n",
       "      <td>25986.0</td>\n",
       "      <td>26246.0</td>\n",
       "      <td>25711.0</td>\n",
       "      <td>25971.0</td>\n",
       "      <td>21069.0</td>\n",
       "      <td>11929520.0</td>\n",
       "    </tr>\n",
       "    <tr>\n",
       "      <th>2016</th>\n",
       "      <td>28734.0</td>\n",
       "      <td>29054.0</td>\n",
       "      <td>28489.0</td>\n",
       "      <td>28800.0</td>\n",
       "      <td>23759.0</td>\n",
       "      <td>12082143.0</td>\n",
       "    </tr>\n",
       "    <tr>\n",
       "      <th>2017</th>\n",
       "      <td>46363.0</td>\n",
       "      <td>46790.0</td>\n",
       "      <td>45965.0</td>\n",
       "      <td>46377.0</td>\n",
       "      <td>39058.0</td>\n",
       "      <td>11449286.0</td>\n",
       "    </tr>\n",
       "    <tr>\n",
       "      <th>2018</th>\n",
       "      <td>46868.0</td>\n",
       "      <td>47351.0</td>\n",
       "      <td>46342.0</td>\n",
       "      <td>46830.0</td>\n",
       "      <td>40388.0</td>\n",
       "      <td>12553307.0</td>\n",
       "    </tr>\n",
       "    <tr>\n",
       "      <th>2019</th>\n",
       "      <td>46563.0</td>\n",
       "      <td>46989.0</td>\n",
       "      <td>46122.0</td>\n",
       "      <td>46583.0</td>\n",
       "      <td>41526.0</td>\n",
       "      <td>10896526.0</td>\n",
       "    </tr>\n",
       "    <tr>\n",
       "      <th>2020</th>\n",
       "      <td>57145.0</td>\n",
       "      <td>57828.0</td>\n",
       "      <td>56499.0</td>\n",
       "      <td>57168.0</td>\n",
       "      <td>52412.0</td>\n",
       "      <td>21747329.0</td>\n",
       "    </tr>\n",
       "    <tr>\n",
       "      <th>2021</th>\n",
       "      <td>79258.0</td>\n",
       "      <td>79912.0</td>\n",
       "      <td>78568.0</td>\n",
       "      <td>79156.0</td>\n",
       "      <td>75560.0</td>\n",
       "      <td>18784212.0</td>\n",
       "    </tr>\n",
       "    <tr>\n",
       "      <th>2022</th>\n",
       "      <td>63925.0</td>\n",
       "      <td>64401.0</td>\n",
       "      <td>63414.0</td>\n",
       "      <td>63867.0</td>\n",
       "      <td>62188.0</td>\n",
       "      <td>13895826.0</td>\n",
       "    </tr>\n",
       "    <tr>\n",
       "      <th>2023</th>\n",
       "      <td>67390.0</td>\n",
       "      <td>67861.0</td>\n",
       "      <td>66817.0</td>\n",
       "      <td>67329.0</td>\n",
       "      <td>67082.0</td>\n",
       "      <td>12162027.0</td>\n",
       "    </tr>\n",
       "  </tbody>\n",
       "</table>\n",
       "</div>"
      ],
      "text/plain": [
       "         Open     High      Low    Close  Adj Close      Volume\n",
       "Date                                                           \n",
       "2000   5370.0   5494.0   5248.0   5362.0     3962.0  50783205.0\n",
       "2001   3989.0   4062.0   3928.0   3999.0     2955.0  33614195.0\n",
       "2002   6850.0   6955.0   6752.0   6857.0     5066.0  39264176.0\n",
       "2003   7461.0   7554.0   7372.0   7468.0     5518.0  29283123.0\n",
       "2004   9675.0   9787.0   9557.0   9675.0     7148.0  27187061.0\n",
       "2005  10723.0  10825.0  10632.0  10733.0     7931.0  20577988.0\n",
       "2006  12768.0  12893.0  12638.0  12762.0     9435.0  19283371.0\n",
       "2007  11556.0  11681.0  11418.0  11546.0     8614.0  27934642.0\n",
       "2008  11486.0  11670.0  11315.0  11494.0     8696.0  27783142.0\n",
       "2009  12835.0  13003.0  12665.0  12840.0     9830.0  24055224.0\n",
       "2010  16081.0  16223.0  15914.0  16071.0    12466.0  17372052.0\n",
       "2011  17932.0  18148.0  17705.0  17926.0    14026.0  19757473.0\n",
       "2012  25183.0  25454.0  24928.0  25215.0    19832.0  16173437.0\n",
       "2013  28617.0  28848.0  28320.0  28579.0    22603.0  12883379.0\n",
       "2014  25873.0  26082.0  25613.0  25836.0    20645.0  12487455.0\n",
       "2015  25986.0  26246.0  25711.0  25971.0    21069.0  11929520.0\n",
       "2016  28734.0  29054.0  28489.0  28800.0    23759.0  12082143.0\n",
       "2017  46363.0  46790.0  45965.0  46377.0    39058.0  11449286.0\n",
       "2018  46868.0  47351.0  46342.0  46830.0    40388.0  12553307.0\n",
       "2019  46563.0  46989.0  46122.0  46583.0    41526.0  10896526.0\n",
       "2020  57145.0  57828.0  56499.0  57168.0    52412.0  21747329.0\n",
       "2021  79258.0  79912.0  78568.0  79156.0    75560.0  18784212.0\n",
       "2022  63925.0  64401.0  63414.0  63867.0    62188.0  13895826.0\n",
       "2023  67390.0  67861.0  66817.0  67329.0    67082.0  12162027.0"
      ]
     },
     "execution_count": 117,
     "metadata": {},
     "output_type": "execute_result"
    }
   ],
   "source": [
    "# 인덱스의 연도만 추출해서 그루핑\n",
    "round(sdf.groupby(sdf.index.year).mean())"
   ]
  },
  {
   "cell_type": "code",
   "execution_count": 118,
   "id": "8a2749f9",
   "metadata": {
    "ExecuteTime": {
     "end_time": "2023-12-22T07:25:06.313725Z",
     "start_time": "2023-12-22T07:25:06.292173Z"
    }
   },
   "outputs": [
    {
     "data": {
      "text/html": [
       "<div>\n",
       "<style scoped>\n",
       "    .dataframe tbody tr th:only-of-type {\n",
       "        vertical-align: middle;\n",
       "    }\n",
       "\n",
       "    .dataframe tbody tr th {\n",
       "        vertical-align: top;\n",
       "    }\n",
       "\n",
       "    .dataframe thead th {\n",
       "        text-align: right;\n",
       "    }\n",
       "</style>\n",
       "<table border=\"1\" class=\"dataframe\">\n",
       "  <thead>\n",
       "    <tr style=\"text-align: right;\">\n",
       "      <th></th>\n",
       "      <th></th>\n",
       "      <th>Open</th>\n",
       "      <th>High</th>\n",
       "      <th>Low</th>\n",
       "      <th>Close</th>\n",
       "      <th>Adj Close</th>\n",
       "      <th>Volume</th>\n",
       "    </tr>\n",
       "    <tr>\n",
       "      <th>Date</th>\n",
       "      <th>Date</th>\n",
       "      <th></th>\n",
       "      <th></th>\n",
       "      <th></th>\n",
       "      <th></th>\n",
       "      <th></th>\n",
       "      <th></th>\n",
       "    </tr>\n",
       "  </thead>\n",
       "  <tbody>\n",
       "    <tr>\n",
       "      <th rowspan=\"5\" valign=\"top\">2000</th>\n",
       "      <th>1</th>\n",
       "      <td>5750.500000</td>\n",
       "      <td>5877.000000</td>\n",
       "      <td>5647.500000</td>\n",
       "      <td>5763.500000</td>\n",
       "      <td>4258.557361</td>\n",
       "      <td>4.512675e+07</td>\n",
       "    </tr>\n",
       "    <tr>\n",
       "      <th>2</th>\n",
       "      <td>5278.571429</td>\n",
       "      <td>5398.095238</td>\n",
       "      <td>5129.523810</td>\n",
       "      <td>5241.904762</td>\n",
       "      <td>3873.159482</td>\n",
       "      <td>5.201405e+07</td>\n",
       "    </tr>\n",
       "    <tr>\n",
       "      <th>3</th>\n",
       "      <td>6009.565217</td>\n",
       "      <td>6188.260870</td>\n",
       "      <td>5827.826087</td>\n",
       "      <td>5999.565217</td>\n",
       "      <td>4432.982443</td>\n",
       "      <td>5.558217e+07</td>\n",
       "    </tr>\n",
       "    <tr>\n",
       "      <th>4</th>\n",
       "      <td>6399.000000</td>\n",
       "      <td>6559.500000</td>\n",
       "      <td>6232.500000</td>\n",
       "      <td>6356.500000</td>\n",
       "      <td>4696.715820</td>\n",
       "      <td>4.375625e+07</td>\n",
       "    </tr>\n",
       "    <tr>\n",
       "      <th>5</th>\n",
       "      <td>6282.608696</td>\n",
       "      <td>6436.521739</td>\n",
       "      <td>6181.739130</td>\n",
       "      <td>6286.521739</td>\n",
       "      <td>4645.009851</td>\n",
       "      <td>4.119413e+07</td>\n",
       "    </tr>\n",
       "    <tr>\n",
       "      <th>...</th>\n",
       "      <th>...</th>\n",
       "      <td>...</td>\n",
       "      <td>...</td>\n",
       "      <td>...</td>\n",
       "      <td>...</td>\n",
       "      <td>...</td>\n",
       "      <td>...</td>\n",
       "    </tr>\n",
       "    <tr>\n",
       "      <th rowspan=\"5\" valign=\"top\">2023</th>\n",
       "      <th>8</th>\n",
       "      <td>67790.909091</td>\n",
       "      <td>68286.363636</td>\n",
       "      <td>67277.272727</td>\n",
       "      <td>67686.363636</td>\n",
       "      <td>67686.363636</td>\n",
       "      <td>1.174840e+07</td>\n",
       "    </tr>\n",
       "    <tr>\n",
       "      <th>9</th>\n",
       "      <td>70157.894737</td>\n",
       "      <td>70784.210526</td>\n",
       "      <td>69521.052632</td>\n",
       "      <td>70168.421053</td>\n",
       "      <td>70168.421053</td>\n",
       "      <td>1.492286e+07</td>\n",
       "    </tr>\n",
       "    <tr>\n",
       "      <th>10</th>\n",
       "      <td>67947.368421</td>\n",
       "      <td>68615.789474</td>\n",
       "      <td>67405.263158</td>\n",
       "      <td>67910.526316</td>\n",
       "      <td>67910.526316</td>\n",
       "      <td>1.526738e+07</td>\n",
       "    </tr>\n",
       "    <tr>\n",
       "      <th>11</th>\n",
       "      <td>71286.363636</td>\n",
       "      <td>71809.090909</td>\n",
       "      <td>70850.000000</td>\n",
       "      <td>71409.090909</td>\n",
       "      <td>71409.090909</td>\n",
       "      <td>1.242980e+07</td>\n",
       "    </tr>\n",
       "    <tr>\n",
       "      <th>12</th>\n",
       "      <td>73212.500000</td>\n",
       "      <td>73493.750000</td>\n",
       "      <td>72675.000000</td>\n",
       "      <td>73081.250000</td>\n",
       "      <td>73081.250000</td>\n",
       "      <td>1.274195e+07</td>\n",
       "    </tr>\n",
       "  </tbody>\n",
       "</table>\n",
       "<p>288 rows × 6 columns</p>\n",
       "</div>"
      ],
      "text/plain": [
       "                   Open          High           Low         Close  \\\n",
       "Date Date                                                           \n",
       "2000 1      5750.500000   5877.000000   5647.500000   5763.500000   \n",
       "     2      5278.571429   5398.095238   5129.523810   5241.904762   \n",
       "     3      6009.565217   6188.260870   5827.826087   5999.565217   \n",
       "     4      6399.000000   6559.500000   6232.500000   6356.500000   \n",
       "     5      6282.608696   6436.521739   6181.739130   6286.521739   \n",
       "...                 ...           ...           ...           ...   \n",
       "2023 8     67790.909091  68286.363636  67277.272727  67686.363636   \n",
       "     9     70157.894737  70784.210526  69521.052632  70168.421053   \n",
       "     10    67947.368421  68615.789474  67405.263158  67910.526316   \n",
       "     11    71286.363636  71809.090909  70850.000000  71409.090909   \n",
       "     12    73212.500000  73493.750000  72675.000000  73081.250000   \n",
       "\n",
       "              Adj Close        Volume  \n",
       "Date Date                              \n",
       "2000 1      4258.557361  4.512675e+07  \n",
       "     2      3873.159482  5.201405e+07  \n",
       "     3      4432.982443  5.558217e+07  \n",
       "     4      4696.715820  4.375625e+07  \n",
       "     5      4645.009851  4.119413e+07  \n",
       "...                 ...           ...  \n",
       "2023 8     67686.363636  1.174840e+07  \n",
       "     9     70168.421053  1.492286e+07  \n",
       "     10    67910.526316  1.526738e+07  \n",
       "     11    71409.090909  1.242980e+07  \n",
       "     12    73081.250000  1.274195e+07  \n",
       "\n",
       "[288 rows x 6 columns]"
      ]
     },
     "execution_count": 118,
     "metadata": {},
     "output_type": "execute_result"
    }
   ],
   "source": [
    "# 연도 및 월별\n",
    "sdf.groupby([sdf.index.year, sdf.index.month]).mean()"
   ]
  },
  {
   "cell_type": "markdown",
   "id": "6d811308",
   "metadata": {
    "ExecuteTime": {
     "end_time": "2023-12-22T07:25:32.715027Z",
     "start_time": "2023-12-22T07:25:32.709430Z"
    }
   },
   "source": [
    "## resample : 시계열데이터 전용 집계함수\n",
    "resample rule http://pandas.pydata.org/pandas-docs/stable/user_guide/timeseries.html"
   ]
  },
  {
   "cell_type": "code",
   "execution_count": 120,
   "id": "9fa702c1",
   "metadata": {
    "ExecuteTime": {
     "end_time": "2023-12-22T07:25:38.362755Z",
     "start_time": "2023-12-22T07:25:38.348854Z"
    }
   },
   "outputs": [],
   "source": [
    "sdf.resample?"
   ]
  },
  {
   "cell_type": "code",
   "execution_count": 121,
   "id": "ca2bf883",
   "metadata": {
    "ExecuteTime": {
     "end_time": "2023-12-22T07:25:59.841679Z",
     "start_time": "2023-12-22T07:25:59.821126Z"
    }
   },
   "outputs": [
    {
     "data": {
      "text/html": [
       "<div>\n",
       "<style scoped>\n",
       "    .dataframe tbody tr th:only-of-type {\n",
       "        vertical-align: middle;\n",
       "    }\n",
       "\n",
       "    .dataframe tbody tr th {\n",
       "        vertical-align: top;\n",
       "    }\n",
       "\n",
       "    .dataframe thead th {\n",
       "        text-align: right;\n",
       "    }\n",
       "</style>\n",
       "<table border=\"1\" class=\"dataframe\">\n",
       "  <thead>\n",
       "    <tr style=\"text-align: right;\">\n",
       "      <th></th>\n",
       "      <th>Open</th>\n",
       "      <th>High</th>\n",
       "      <th>Low</th>\n",
       "      <th>Close</th>\n",
       "      <th>Adj Close</th>\n",
       "      <th>Volume</th>\n",
       "    </tr>\n",
       "    <tr>\n",
       "      <th>Date</th>\n",
       "      <th></th>\n",
       "      <th></th>\n",
       "      <th></th>\n",
       "      <th></th>\n",
       "      <th></th>\n",
       "      <th></th>\n",
       "    </tr>\n",
       "  </thead>\n",
       "  <tbody>\n",
       "    <tr>\n",
       "      <th>2000-12-31</th>\n",
       "      <td>5370.115830</td>\n",
       "      <td>5493.513514</td>\n",
       "      <td>5248.108108</td>\n",
       "      <td>5361.583012</td>\n",
       "      <td>3961.587634</td>\n",
       "      <td>5.078320e+07</td>\n",
       "    </tr>\n",
       "    <tr>\n",
       "      <th>2001-12-31</th>\n",
       "      <td>3989.233716</td>\n",
       "      <td>4061.570881</td>\n",
       "      <td>3928.352490</td>\n",
       "      <td>3998.735632</td>\n",
       "      <td>2954.601612</td>\n",
       "      <td>3.361420e+07</td>\n",
       "    </tr>\n",
       "    <tr>\n",
       "      <th>2002-12-31</th>\n",
       "      <td>6850.344828</td>\n",
       "      <td>6955.172414</td>\n",
       "      <td>6752.183908</td>\n",
       "      <td>6856.896552</td>\n",
       "      <td>5066.450837</td>\n",
       "      <td>3.926418e+07</td>\n",
       "    </tr>\n",
       "    <tr>\n",
       "      <th>2003-12-31</th>\n",
       "      <td>7460.689655</td>\n",
       "      <td>7554.022989</td>\n",
       "      <td>7371.609195</td>\n",
       "      <td>7468.237548</td>\n",
       "      <td>5518.160907</td>\n",
       "      <td>2.928312e+07</td>\n",
       "    </tr>\n",
       "    <tr>\n",
       "      <th>2004-12-31</th>\n",
       "      <td>9675.000000</td>\n",
       "      <td>9787.251908</td>\n",
       "      <td>9556.946565</td>\n",
       "      <td>9674.694656</td>\n",
       "      <td>7148.476587</td>\n",
       "      <td>2.718706e+07</td>\n",
       "    </tr>\n",
       "    <tr>\n",
       "      <th>2005-12-31</th>\n",
       "      <td>10722.934363</td>\n",
       "      <td>10825.366795</td>\n",
       "      <td>10631.814672</td>\n",
       "      <td>10733.359073</td>\n",
       "      <td>7930.706649</td>\n",
       "      <td>2.057799e+07</td>\n",
       "    </tr>\n",
       "    <tr>\n",
       "      <th>2006-12-31</th>\n",
       "      <td>12768.467742</td>\n",
       "      <td>12892.822581</td>\n",
       "      <td>12637.580645</td>\n",
       "      <td>12762.419355</td>\n",
       "      <td>9434.595280</td>\n",
       "      <td>1.928337e+07</td>\n",
       "    </tr>\n",
       "    <tr>\n",
       "      <th>2007-12-31</th>\n",
       "      <td>11555.609756</td>\n",
       "      <td>11681.463415</td>\n",
       "      <td>11418.455285</td>\n",
       "      <td>11546.422764</td>\n",
       "      <td>8614.364903</td>\n",
       "      <td>2.793464e+07</td>\n",
       "    </tr>\n",
       "    <tr>\n",
       "      <th>2008-12-31</th>\n",
       "      <td>11485.758755</td>\n",
       "      <td>11669.883268</td>\n",
       "      <td>11314.747082</td>\n",
       "      <td>11494.435798</td>\n",
       "      <td>8695.527798</td>\n",
       "      <td>2.778314e+07</td>\n",
       "    </tr>\n",
       "    <tr>\n",
       "      <th>2009-12-31</th>\n",
       "      <td>12834.664032</td>\n",
       "      <td>13002.964427</td>\n",
       "      <td>12665.217391</td>\n",
       "      <td>12840.355731</td>\n",
       "      <td>9830.116470</td>\n",
       "      <td>2.405522e+07</td>\n",
       "    </tr>\n",
       "    <tr>\n",
       "      <th>2010-12-31</th>\n",
       "      <td>16081.434263</td>\n",
       "      <td>16222.549801</td>\n",
       "      <td>15914.103586</td>\n",
       "      <td>16070.996016</td>\n",
       "      <td>12466.197028</td>\n",
       "      <td>1.737205e+07</td>\n",
       "    </tr>\n",
       "    <tr>\n",
       "      <th>2011-12-31</th>\n",
       "      <td>17931.612903</td>\n",
       "      <td>18147.822581</td>\n",
       "      <td>17704.516129</td>\n",
       "      <td>17926.209677</td>\n",
       "      <td>14026.381600</td>\n",
       "      <td>1.975747e+07</td>\n",
       "    </tr>\n",
       "    <tr>\n",
       "      <th>2012-12-31</th>\n",
       "      <td>25182.741935</td>\n",
       "      <td>25454.112903</td>\n",
       "      <td>24927.500000</td>\n",
       "      <td>25214.596774</td>\n",
       "      <td>19832.023056</td>\n",
       "      <td>1.617344e+07</td>\n",
       "    </tr>\n",
       "    <tr>\n",
       "      <th>2013-12-31</th>\n",
       "      <td>28617.327935</td>\n",
       "      <td>28847.611336</td>\n",
       "      <td>28320.242915</td>\n",
       "      <td>28578.542510</td>\n",
       "      <td>22602.702912</td>\n",
       "      <td>1.288338e+07</td>\n",
       "    </tr>\n",
       "    <tr>\n",
       "      <th>2014-12-31</th>\n",
       "      <td>25872.653061</td>\n",
       "      <td>26082.285714</td>\n",
       "      <td>25613.469388</td>\n",
       "      <td>25835.918367</td>\n",
       "      <td>20644.772178</td>\n",
       "      <td>1.248746e+07</td>\n",
       "    </tr>\n",
       "    <tr>\n",
       "      <th>2015-12-31</th>\n",
       "      <td>25985.702811</td>\n",
       "      <td>26245.943775</td>\n",
       "      <td>25710.682731</td>\n",
       "      <td>25971.405622</td>\n",
       "      <td>21068.867133</td>\n",
       "      <td>1.192952e+07</td>\n",
       "    </tr>\n",
       "    <tr>\n",
       "      <th>2016-12-31</th>\n",
       "      <td>28733.739837</td>\n",
       "      <td>29054.146341</td>\n",
       "      <td>28488.861789</td>\n",
       "      <td>28800.081301</td>\n",
       "      <td>23758.673820</td>\n",
       "      <td>1.208214e+07</td>\n",
       "    </tr>\n",
       "    <tr>\n",
       "      <th>2017-12-31</th>\n",
       "      <td>46363.485477</td>\n",
       "      <td>46790.207469</td>\n",
       "      <td>45965.311203</td>\n",
       "      <td>46377.178423</td>\n",
       "      <td>39057.599212</td>\n",
       "      <td>1.144929e+07</td>\n",
       "    </tr>\n",
       "    <tr>\n",
       "      <th>2018-12-31</th>\n",
       "      <td>46867.786885</td>\n",
       "      <td>47351.270492</td>\n",
       "      <td>46341.762295</td>\n",
       "      <td>46830.122951</td>\n",
       "      <td>40387.965244</td>\n",
       "      <td>1.255331e+07</td>\n",
       "    </tr>\n",
       "    <tr>\n",
       "      <th>2019-12-31</th>\n",
       "      <td>46563.414634</td>\n",
       "      <td>46989.024390</td>\n",
       "      <td>46122.154472</td>\n",
       "      <td>46583.333333</td>\n",
       "      <td>41525.923892</td>\n",
       "      <td>1.089653e+07</td>\n",
       "    </tr>\n",
       "    <tr>\n",
       "      <th>2020-12-31</th>\n",
       "      <td>57144.758065</td>\n",
       "      <td>57828.225806</td>\n",
       "      <td>56498.588710</td>\n",
       "      <td>57167.741935</td>\n",
       "      <td>52412.399918</td>\n",
       "      <td>2.174733e+07</td>\n",
       "    </tr>\n",
       "    <tr>\n",
       "      <th>2021-12-31</th>\n",
       "      <td>79257.661290</td>\n",
       "      <td>79912.500000</td>\n",
       "      <td>78567.741935</td>\n",
       "      <td>79155.645161</td>\n",
       "      <td>75560.239730</td>\n",
       "      <td>1.878421e+07</td>\n",
       "    </tr>\n",
       "    <tr>\n",
       "      <th>2022-12-31</th>\n",
       "      <td>63924.590164</td>\n",
       "      <td>64400.819672</td>\n",
       "      <td>63413.934426</td>\n",
       "      <td>63867.213115</td>\n",
       "      <td>62187.845655</td>\n",
       "      <td>1.389583e+07</td>\n",
       "    </tr>\n",
       "    <tr>\n",
       "      <th>2023-12-31</th>\n",
       "      <td>67390.082645</td>\n",
       "      <td>67860.743802</td>\n",
       "      <td>66817.355372</td>\n",
       "      <td>67328.512397</td>\n",
       "      <td>67081.516109</td>\n",
       "      <td>1.216203e+07</td>\n",
       "    </tr>\n",
       "  </tbody>\n",
       "</table>\n",
       "</div>"
      ],
      "text/plain": [
       "                    Open          High           Low         Close  \\\n",
       "Date                                                                 \n",
       "2000-12-31   5370.115830   5493.513514   5248.108108   5361.583012   \n",
       "2001-12-31   3989.233716   4061.570881   3928.352490   3998.735632   \n",
       "2002-12-31   6850.344828   6955.172414   6752.183908   6856.896552   \n",
       "2003-12-31   7460.689655   7554.022989   7371.609195   7468.237548   \n",
       "2004-12-31   9675.000000   9787.251908   9556.946565   9674.694656   \n",
       "2005-12-31  10722.934363  10825.366795  10631.814672  10733.359073   \n",
       "2006-12-31  12768.467742  12892.822581  12637.580645  12762.419355   \n",
       "2007-12-31  11555.609756  11681.463415  11418.455285  11546.422764   \n",
       "2008-12-31  11485.758755  11669.883268  11314.747082  11494.435798   \n",
       "2009-12-31  12834.664032  13002.964427  12665.217391  12840.355731   \n",
       "2010-12-31  16081.434263  16222.549801  15914.103586  16070.996016   \n",
       "2011-12-31  17931.612903  18147.822581  17704.516129  17926.209677   \n",
       "2012-12-31  25182.741935  25454.112903  24927.500000  25214.596774   \n",
       "2013-12-31  28617.327935  28847.611336  28320.242915  28578.542510   \n",
       "2014-12-31  25872.653061  26082.285714  25613.469388  25835.918367   \n",
       "2015-12-31  25985.702811  26245.943775  25710.682731  25971.405622   \n",
       "2016-12-31  28733.739837  29054.146341  28488.861789  28800.081301   \n",
       "2017-12-31  46363.485477  46790.207469  45965.311203  46377.178423   \n",
       "2018-12-31  46867.786885  47351.270492  46341.762295  46830.122951   \n",
       "2019-12-31  46563.414634  46989.024390  46122.154472  46583.333333   \n",
       "2020-12-31  57144.758065  57828.225806  56498.588710  57167.741935   \n",
       "2021-12-31  79257.661290  79912.500000  78567.741935  79155.645161   \n",
       "2022-12-31  63924.590164  64400.819672  63413.934426  63867.213115   \n",
       "2023-12-31  67390.082645  67860.743802  66817.355372  67328.512397   \n",
       "\n",
       "               Adj Close        Volume  \n",
       "Date                                    \n",
       "2000-12-31   3961.587634  5.078320e+07  \n",
       "2001-12-31   2954.601612  3.361420e+07  \n",
       "2002-12-31   5066.450837  3.926418e+07  \n",
       "2003-12-31   5518.160907  2.928312e+07  \n",
       "2004-12-31   7148.476587  2.718706e+07  \n",
       "2005-12-31   7930.706649  2.057799e+07  \n",
       "2006-12-31   9434.595280  1.928337e+07  \n",
       "2007-12-31   8614.364903  2.793464e+07  \n",
       "2008-12-31   8695.527798  2.778314e+07  \n",
       "2009-12-31   9830.116470  2.405522e+07  \n",
       "2010-12-31  12466.197028  1.737205e+07  \n",
       "2011-12-31  14026.381600  1.975747e+07  \n",
       "2012-12-31  19832.023056  1.617344e+07  \n",
       "2013-12-31  22602.702912  1.288338e+07  \n",
       "2014-12-31  20644.772178  1.248746e+07  \n",
       "2015-12-31  21068.867133  1.192952e+07  \n",
       "2016-12-31  23758.673820  1.208214e+07  \n",
       "2017-12-31  39057.599212  1.144929e+07  \n",
       "2018-12-31  40387.965244  1.255331e+07  \n",
       "2019-12-31  41525.923892  1.089653e+07  \n",
       "2020-12-31  52412.399918  2.174733e+07  \n",
       "2021-12-31  75560.239730  1.878421e+07  \n",
       "2022-12-31  62187.845655  1.389583e+07  \n",
       "2023-12-31  67081.516109  1.216203e+07  "
      ]
     },
     "execution_count": 121,
     "metadata": {},
     "output_type": "execute_result"
    }
   ],
   "source": [
    "# DatetimeIndexResample : sum, mean, max, min\n",
    "sdf.resample(rule='Y').mean()"
   ]
  },
  {
   "cell_type": "code",
   "execution_count": 122,
   "id": "48a9cda0",
   "metadata": {
    "ExecuteTime": {
     "end_time": "2023-12-22T07:26:17.232100Z",
     "start_time": "2023-12-22T07:26:17.212755Z"
    }
   },
   "outputs": [
    {
     "data": {
      "text/html": [
       "<div>\n",
       "<style scoped>\n",
       "    .dataframe tbody tr th:only-of-type {\n",
       "        vertical-align: middle;\n",
       "    }\n",
       "\n",
       "    .dataframe tbody tr th {\n",
       "        vertical-align: top;\n",
       "    }\n",
       "\n",
       "    .dataframe thead th {\n",
       "        text-align: right;\n",
       "    }\n",
       "</style>\n",
       "<table border=\"1\" class=\"dataframe\">\n",
       "  <thead>\n",
       "    <tr style=\"text-align: right;\">\n",
       "      <th></th>\n",
       "      <th>Open</th>\n",
       "      <th>High</th>\n",
       "      <th>Low</th>\n",
       "      <th>Close</th>\n",
       "      <th>Adj Close</th>\n",
       "      <th>Volume</th>\n",
       "    </tr>\n",
       "    <tr>\n",
       "      <th>Date</th>\n",
       "      <th></th>\n",
       "      <th></th>\n",
       "      <th></th>\n",
       "      <th></th>\n",
       "      <th></th>\n",
       "      <th></th>\n",
       "    </tr>\n",
       "  </thead>\n",
       "  <tbody>\n",
       "    <tr>\n",
       "      <th>2000-03-31</th>\n",
       "      <td>5688.750000</td>\n",
       "      <td>5831.718750</td>\n",
       "      <td>5542.343750</td>\n",
       "      <td>5677.187500</td>\n",
       "      <td>4194.782696</td>\n",
       "      <td>5.114406e+07</td>\n",
       "    </tr>\n",
       "    <tr>\n",
       "      <th>2000-06-30</th>\n",
       "      <td>6562.769231</td>\n",
       "      <td>6726.000000</td>\n",
       "      <td>6422.923077</td>\n",
       "      <td>6553.384615</td>\n",
       "      <td>4842.190715</td>\n",
       "      <td>4.471792e+07</td>\n",
       "    </tr>\n",
       "    <tr>\n",
       "      <th>2000-09-30</th>\n",
       "      <td>5934.000000</td>\n",
       "      <td>6033.692308</td>\n",
       "      <td>5807.692308</td>\n",
       "      <td>5910.923077</td>\n",
       "      <td>4367.486095</td>\n",
       "      <td>4.556308e+07</td>\n",
       "    </tr>\n",
       "    <tr>\n",
       "      <th>2000-12-31</th>\n",
       "      <td>3299.846154</td>\n",
       "      <td>3387.846154</td>\n",
       "      <td>3224.000000</td>\n",
       "      <td>3309.692308</td>\n",
       "      <td>2445.478647</td>\n",
       "      <td>6.171331e+07</td>\n",
       "    </tr>\n",
       "    <tr>\n",
       "      <th>2001-03-31</th>\n",
       "      <td>3975.538462</td>\n",
       "      <td>4055.538462</td>\n",
       "      <td>3912.615385</td>\n",
       "      <td>3990.000000</td>\n",
       "      <td>2948.147014</td>\n",
       "      <td>3.713292e+07</td>\n",
       "    </tr>\n",
       "    <tr>\n",
       "      <th>...</th>\n",
       "      <td>...</td>\n",
       "      <td>...</td>\n",
       "      <td>...</td>\n",
       "      <td>...</td>\n",
       "      <td>...</td>\n",
       "      <td>...</td>\n",
       "    </tr>\n",
       "    <tr>\n",
       "      <th>2022-12-31</th>\n",
       "      <td>59040.322581</td>\n",
       "      <td>59601.612903</td>\n",
       "      <td>58514.516129</td>\n",
       "      <td>59067.741935</td>\n",
       "      <td>58084.043410</td>\n",
       "      <td>1.373811e+07</td>\n",
       "    </tr>\n",
       "    <tr>\n",
       "      <th>2023-03-31</th>\n",
       "      <td>61414.516129</td>\n",
       "      <td>61846.774194</td>\n",
       "      <td>60827.419355</td>\n",
       "      <td>61322.580645</td>\n",
       "      <td>60678.515310</td>\n",
       "      <td>8.145096e+06</td>\n",
       "    </tr>\n",
       "    <tr>\n",
       "      <th>2023-06-30</th>\n",
       "      <td>67936.065574</td>\n",
       "      <td>68337.704918</td>\n",
       "      <td>67354.098361</td>\n",
       "      <td>67873.770492</td>\n",
       "      <td>67548.507364</td>\n",
       "      <td>1.353320e+07</td>\n",
       "    </tr>\n",
       "    <tr>\n",
       "      <th>2023-09-30</th>\n",
       "      <td>69772.580645</td>\n",
       "      <td>70319.354839</td>\n",
       "      <td>69156.451613</td>\n",
       "      <td>69687.096774</td>\n",
       "      <td>69687.096774</td>\n",
       "      <td>1.363359e+07</td>\n",
       "    </tr>\n",
       "    <tr>\n",
       "      <th>2023-12-31</th>\n",
       "      <td>70714.035088</td>\n",
       "      <td>71217.543860</td>\n",
       "      <td>70214.035088</td>\n",
       "      <td>70712.280702</td>\n",
       "      <td>70712.280702</td>\n",
       "      <td>1.346328e+07</td>\n",
       "    </tr>\n",
       "  </tbody>\n",
       "</table>\n",
       "<p>96 rows × 6 columns</p>\n",
       "</div>"
      ],
      "text/plain": [
       "                    Open          High           Low         Close  \\\n",
       "Date                                                                 \n",
       "2000-03-31   5688.750000   5831.718750   5542.343750   5677.187500   \n",
       "2000-06-30   6562.769231   6726.000000   6422.923077   6553.384615   \n",
       "2000-09-30   5934.000000   6033.692308   5807.692308   5910.923077   \n",
       "2000-12-31   3299.846154   3387.846154   3224.000000   3309.692308   \n",
       "2001-03-31   3975.538462   4055.538462   3912.615385   3990.000000   \n",
       "...                  ...           ...           ...           ...   \n",
       "2022-12-31  59040.322581  59601.612903  58514.516129  59067.741935   \n",
       "2023-03-31  61414.516129  61846.774194  60827.419355  61322.580645   \n",
       "2023-06-30  67936.065574  68337.704918  67354.098361  67873.770492   \n",
       "2023-09-30  69772.580645  70319.354839  69156.451613  69687.096774   \n",
       "2023-12-31  70714.035088  71217.543860  70214.035088  70712.280702   \n",
       "\n",
       "               Adj Close        Volume  \n",
       "Date                                    \n",
       "2000-03-31   4194.782696  5.114406e+07  \n",
       "2000-06-30   4842.190715  4.471792e+07  \n",
       "2000-09-30   4367.486095  4.556308e+07  \n",
       "2000-12-31   2445.478647  6.171331e+07  \n",
       "2001-03-31   2948.147014  3.713292e+07  \n",
       "...                  ...           ...  \n",
       "2022-12-31  58084.043410  1.373811e+07  \n",
       "2023-03-31  60678.515310  8.145096e+06  \n",
       "2023-06-30  67548.507364  1.353320e+07  \n",
       "2023-09-30  69687.096774  1.363359e+07  \n",
       "2023-12-31  70712.280702  1.346328e+07  \n",
       "\n",
       "[96 rows x 6 columns]"
      ]
     },
     "execution_count": 122,
     "metadata": {},
     "output_type": "execute_result"
    }
   ],
   "source": [
    "sdf.resample(rule='Q').mean()\n"
   ]
  },
  {
   "cell_type": "code",
   "execution_count": 123,
   "id": "60cce1a4",
   "metadata": {
    "ExecuteTime": {
     "end_time": "2023-12-22T07:26:21.354207Z",
     "start_time": "2023-12-22T07:26:21.333067Z"
    }
   },
   "outputs": [
    {
     "data": {
      "text/html": [
       "<div>\n",
       "<style scoped>\n",
       "    .dataframe tbody tr th:only-of-type {\n",
       "        vertical-align: middle;\n",
       "    }\n",
       "\n",
       "    .dataframe tbody tr th {\n",
       "        vertical-align: top;\n",
       "    }\n",
       "\n",
       "    .dataframe thead th {\n",
       "        text-align: right;\n",
       "    }\n",
       "</style>\n",
       "<table border=\"1\" class=\"dataframe\">\n",
       "  <thead>\n",
       "    <tr style=\"text-align: right;\">\n",
       "      <th></th>\n",
       "      <th>Open</th>\n",
       "      <th>High</th>\n",
       "      <th>Low</th>\n",
       "      <th>Close</th>\n",
       "      <th>Adj Close</th>\n",
       "      <th>Volume</th>\n",
       "    </tr>\n",
       "    <tr>\n",
       "      <th>Date</th>\n",
       "      <th></th>\n",
       "      <th></th>\n",
       "      <th></th>\n",
       "      <th></th>\n",
       "      <th></th>\n",
       "      <th></th>\n",
       "    </tr>\n",
       "  </thead>\n",
       "  <tbody>\n",
       "    <tr>\n",
       "      <th>2000-01-31</th>\n",
       "      <td>5750.500000</td>\n",
       "      <td>5877.000000</td>\n",
       "      <td>5647.500000</td>\n",
       "      <td>5763.500000</td>\n",
       "      <td>4258.557361</td>\n",
       "      <td>4.512675e+07</td>\n",
       "    </tr>\n",
       "    <tr>\n",
       "      <th>2000-02-29</th>\n",
       "      <td>5278.571429</td>\n",
       "      <td>5398.095238</td>\n",
       "      <td>5129.523810</td>\n",
       "      <td>5241.904762</td>\n",
       "      <td>3873.159482</td>\n",
       "      <td>5.201405e+07</td>\n",
       "    </tr>\n",
       "    <tr>\n",
       "      <th>2000-03-31</th>\n",
       "      <td>6009.565217</td>\n",
       "      <td>6188.260870</td>\n",
       "      <td>5827.826087</td>\n",
       "      <td>5999.565217</td>\n",
       "      <td>4432.982443</td>\n",
       "      <td>5.558217e+07</td>\n",
       "    </tr>\n",
       "    <tr>\n",
       "      <th>2000-04-30</th>\n",
       "      <td>6399.000000</td>\n",
       "      <td>6559.500000</td>\n",
       "      <td>6232.500000</td>\n",
       "      <td>6356.500000</td>\n",
       "      <td>4696.715820</td>\n",
       "      <td>4.375625e+07</td>\n",
       "    </tr>\n",
       "    <tr>\n",
       "      <th>2000-05-31</th>\n",
       "      <td>6282.608696</td>\n",
       "      <td>6436.521739</td>\n",
       "      <td>6181.739130</td>\n",
       "      <td>6286.521739</td>\n",
       "      <td>4645.009851</td>\n",
       "      <td>4.119413e+07</td>\n",
       "    </tr>\n",
       "    <tr>\n",
       "      <th>...</th>\n",
       "      <td>...</td>\n",
       "      <td>...</td>\n",
       "      <td>...</td>\n",
       "      <td>...</td>\n",
       "      <td>...</td>\n",
       "      <td>...</td>\n",
       "    </tr>\n",
       "    <tr>\n",
       "      <th>2023-08-31</th>\n",
       "      <td>67790.909091</td>\n",
       "      <td>68286.363636</td>\n",
       "      <td>67277.272727</td>\n",
       "      <td>67686.363636</td>\n",
       "      <td>67686.363636</td>\n",
       "      <td>1.174840e+07</td>\n",
       "    </tr>\n",
       "    <tr>\n",
       "      <th>2023-09-30</th>\n",
       "      <td>70157.894737</td>\n",
       "      <td>70784.210526</td>\n",
       "      <td>69521.052632</td>\n",
       "      <td>70168.421053</td>\n",
       "      <td>70168.421053</td>\n",
       "      <td>1.492286e+07</td>\n",
       "    </tr>\n",
       "    <tr>\n",
       "      <th>2023-10-31</th>\n",
       "      <td>67947.368421</td>\n",
       "      <td>68615.789474</td>\n",
       "      <td>67405.263158</td>\n",
       "      <td>67910.526316</td>\n",
       "      <td>67910.526316</td>\n",
       "      <td>1.526738e+07</td>\n",
       "    </tr>\n",
       "    <tr>\n",
       "      <th>2023-11-30</th>\n",
       "      <td>71286.363636</td>\n",
       "      <td>71809.090909</td>\n",
       "      <td>70850.000000</td>\n",
       "      <td>71409.090909</td>\n",
       "      <td>71409.090909</td>\n",
       "      <td>1.242980e+07</td>\n",
       "    </tr>\n",
       "    <tr>\n",
       "      <th>2023-12-31</th>\n",
       "      <td>73212.500000</td>\n",
       "      <td>73493.750000</td>\n",
       "      <td>72675.000000</td>\n",
       "      <td>73081.250000</td>\n",
       "      <td>73081.250000</td>\n",
       "      <td>1.274195e+07</td>\n",
       "    </tr>\n",
       "  </tbody>\n",
       "</table>\n",
       "<p>288 rows × 6 columns</p>\n",
       "</div>"
      ],
      "text/plain": [
       "                    Open          High           Low         Close  \\\n",
       "Date                                                                 \n",
       "2000-01-31   5750.500000   5877.000000   5647.500000   5763.500000   \n",
       "2000-02-29   5278.571429   5398.095238   5129.523810   5241.904762   \n",
       "2000-03-31   6009.565217   6188.260870   5827.826087   5999.565217   \n",
       "2000-04-30   6399.000000   6559.500000   6232.500000   6356.500000   \n",
       "2000-05-31   6282.608696   6436.521739   6181.739130   6286.521739   \n",
       "...                  ...           ...           ...           ...   \n",
       "2023-08-31  67790.909091  68286.363636  67277.272727  67686.363636   \n",
       "2023-09-30  70157.894737  70784.210526  69521.052632  70168.421053   \n",
       "2023-10-31  67947.368421  68615.789474  67405.263158  67910.526316   \n",
       "2023-11-30  71286.363636  71809.090909  70850.000000  71409.090909   \n",
       "2023-12-31  73212.500000  73493.750000  72675.000000  73081.250000   \n",
       "\n",
       "               Adj Close        Volume  \n",
       "Date                                    \n",
       "2000-01-31   4258.557361  4.512675e+07  \n",
       "2000-02-29   3873.159482  5.201405e+07  \n",
       "2000-03-31   4432.982443  5.558217e+07  \n",
       "2000-04-30   4696.715820  4.375625e+07  \n",
       "2000-05-31   4645.009851  4.119413e+07  \n",
       "...                  ...           ...  \n",
       "2023-08-31  67686.363636  1.174840e+07  \n",
       "2023-09-30  70168.421053  1.492286e+07  \n",
       "2023-10-31  67910.526316  1.526738e+07  \n",
       "2023-11-30  71409.090909  1.242980e+07  \n",
       "2023-12-31  73081.250000  1.274195e+07  \n",
       "\n",
       "[288 rows x 6 columns]"
      ]
     },
     "execution_count": 123,
     "metadata": {},
     "output_type": "execute_result"
    }
   ],
   "source": [
    "sdf.resample(rule='M').mean()\n"
   ]
  },
  {
   "cell_type": "code",
   "execution_count": 124,
   "id": "f2dd64fa",
   "metadata": {
    "ExecuteTime": {
     "end_time": "2023-12-22T07:26:26.817381Z",
     "start_time": "2023-12-22T07:26:26.773343Z"
    }
   },
   "outputs": [
    {
     "data": {
      "text/html": [
       "<div>\n",
       "<style scoped>\n",
       "    .dataframe tbody tr th:only-of-type {\n",
       "        vertical-align: middle;\n",
       "    }\n",
       "\n",
       "    .dataframe tbody tr th {\n",
       "        vertical-align: top;\n",
       "    }\n",
       "\n",
       "    .dataframe thead th {\n",
       "        text-align: right;\n",
       "    }\n",
       "</style>\n",
       "<table border=\"1\" class=\"dataframe\">\n",
       "  <thead>\n",
       "    <tr style=\"text-align: right;\">\n",
       "      <th></th>\n",
       "      <th>Open</th>\n",
       "      <th>High</th>\n",
       "      <th>Low</th>\n",
       "      <th>Close</th>\n",
       "      <th>Adj Close</th>\n",
       "      <th>Volume</th>\n",
       "    </tr>\n",
       "    <tr>\n",
       "      <th>Date</th>\n",
       "      <th></th>\n",
       "      <th></th>\n",
       "      <th></th>\n",
       "      <th></th>\n",
       "      <th></th>\n",
       "      <th></th>\n",
       "    </tr>\n",
       "  </thead>\n",
       "  <tbody>\n",
       "    <tr>\n",
       "      <th>2000-01-09</th>\n",
       "      <td>5777.5</td>\n",
       "      <td>5905.0</td>\n",
       "      <td>5530.0</td>\n",
       "      <td>5712.5</td>\n",
       "      <td>4220.874023</td>\n",
       "      <td>60892500.0</td>\n",
       "    </tr>\n",
       "    <tr>\n",
       "      <th>2000-01-16</th>\n",
       "      <td>5670.0</td>\n",
       "      <td>5846.0</td>\n",
       "      <td>5638.0</td>\n",
       "      <td>5760.0</td>\n",
       "      <td>4255.970508</td>\n",
       "      <td>45282000.0</td>\n",
       "    </tr>\n",
       "    <tr>\n",
       "      <th>2000-01-23</th>\n",
       "      <td>5994.0</td>\n",
       "      <td>6080.0</td>\n",
       "      <td>5912.0</td>\n",
       "      <td>6016.0</td>\n",
       "      <td>4445.126270</td>\n",
       "      <td>43764000.0</td>\n",
       "    </tr>\n",
       "    <tr>\n",
       "      <th>2000-01-30</th>\n",
       "      <td>5588.0</td>\n",
       "      <td>5712.0</td>\n",
       "      <td>5504.0</td>\n",
       "      <td>5592.0</td>\n",
       "      <td>4131.838916</td>\n",
       "      <td>34821000.0</td>\n",
       "    </tr>\n",
       "    <tr>\n",
       "      <th>2000-02-06</th>\n",
       "      <td>5368.0</td>\n",
       "      <td>5474.0</td>\n",
       "      <td>5206.0</td>\n",
       "      <td>5282.0</td>\n",
       "      <td>3902.785645</td>\n",
       "      <td>63594000.0</td>\n",
       "    </tr>\n",
       "    <tr>\n",
       "      <th>...</th>\n",
       "      <td>...</td>\n",
       "      <td>...</td>\n",
       "      <td>...</td>\n",
       "      <td>...</td>\n",
       "      <td>...</td>\n",
       "      <td>...</td>\n",
       "    </tr>\n",
       "    <tr>\n",
       "      <th>2023-11-26</th>\n",
       "      <td>72560.0</td>\n",
       "      <td>73040.0</td>\n",
       "      <td>72120.0</td>\n",
       "      <td>72480.0</td>\n",
       "      <td>72480.000000</td>\n",
       "      <td>8976096.0</td>\n",
       "    </tr>\n",
       "    <tr>\n",
       "      <th>2023-12-03</th>\n",
       "      <td>72080.0</td>\n",
       "      <td>72580.0</td>\n",
       "      <td>71700.0</td>\n",
       "      <td>72300.0</td>\n",
       "      <td>72300.000000</td>\n",
       "      <td>11467173.8</td>\n",
       "    </tr>\n",
       "    <tr>\n",
       "      <th>2023-12-10</th>\n",
       "      <td>72160.0</td>\n",
       "      <td>72420.0</td>\n",
       "      <td>71640.0</td>\n",
       "      <td>71920.0</td>\n",
       "      <td>71920.000000</td>\n",
       "      <td>10040703.2</td>\n",
       "    </tr>\n",
       "    <tr>\n",
       "      <th>2023-12-17</th>\n",
       "      <td>73460.0</td>\n",
       "      <td>73660.0</td>\n",
       "      <td>72760.0</td>\n",
       "      <td>73140.0</td>\n",
       "      <td>73140.000000</td>\n",
       "      <td>15944956.0</td>\n",
       "    </tr>\n",
       "    <tr>\n",
       "      <th>2023-12-24</th>\n",
       "      <td>74180.0</td>\n",
       "      <td>74600.0</td>\n",
       "      <td>73820.0</td>\n",
       "      <td>74400.0</td>\n",
       "      <td>74400.000000</td>\n",
       "      <td>12814311.2</td>\n",
       "    </tr>\n",
       "  </tbody>\n",
       "</table>\n",
       "<p>1251 rows × 6 columns</p>\n",
       "</div>"
      ],
      "text/plain": [
       "               Open     High      Low    Close     Adj Close      Volume\n",
       "Date                                                                    \n",
       "2000-01-09   5777.5   5905.0   5530.0   5712.5   4220.874023  60892500.0\n",
       "2000-01-16   5670.0   5846.0   5638.0   5760.0   4255.970508  45282000.0\n",
       "2000-01-23   5994.0   6080.0   5912.0   6016.0   4445.126270  43764000.0\n",
       "2000-01-30   5588.0   5712.0   5504.0   5592.0   4131.838916  34821000.0\n",
       "2000-02-06   5368.0   5474.0   5206.0   5282.0   3902.785645  63594000.0\n",
       "...             ...      ...      ...      ...           ...         ...\n",
       "2023-11-26  72560.0  73040.0  72120.0  72480.0  72480.000000   8976096.0\n",
       "2023-12-03  72080.0  72580.0  71700.0  72300.0  72300.000000  11467173.8\n",
       "2023-12-10  72160.0  72420.0  71640.0  71920.0  71920.000000  10040703.2\n",
       "2023-12-17  73460.0  73660.0  72760.0  73140.0  73140.000000  15944956.0\n",
       "2023-12-24  74180.0  74600.0  73820.0  74400.0  74400.000000  12814311.2\n",
       "\n",
       "[1251 rows x 6 columns]"
      ]
     },
     "execution_count": 124,
     "metadata": {},
     "output_type": "execute_result"
    }
   ],
   "source": [
    "# 주별, default 월-일, 요일구간을 정할 수 있다\n",
    "sdf.resample(rule='W').mean()"
   ]
  },
  {
   "cell_type": "code",
   "execution_count": 125,
   "id": "4d2aeac6",
   "metadata": {
    "ExecuteTime": {
     "end_time": "2023-12-22T07:26:32.570579Z",
     "start_time": "2023-12-22T07:26:32.549814Z"
    }
   },
   "outputs": [
    {
     "data": {
      "text/html": [
       "<div>\n",
       "<style scoped>\n",
       "    .dataframe tbody tr th:only-of-type {\n",
       "        vertical-align: middle;\n",
       "    }\n",
       "\n",
       "    .dataframe tbody tr th {\n",
       "        vertical-align: top;\n",
       "    }\n",
       "\n",
       "    .dataframe thead th {\n",
       "        text-align: right;\n",
       "    }\n",
       "</style>\n",
       "<table border=\"1\" class=\"dataframe\">\n",
       "  <thead>\n",
       "    <tr style=\"text-align: right;\">\n",
       "      <th></th>\n",
       "      <th>Open</th>\n",
       "      <th>High</th>\n",
       "      <th>Low</th>\n",
       "      <th>Close</th>\n",
       "      <th>Adj Close</th>\n",
       "      <th>Volume</th>\n",
       "    </tr>\n",
       "    <tr>\n",
       "      <th>Date</th>\n",
       "      <th></th>\n",
       "      <th></th>\n",
       "      <th></th>\n",
       "      <th></th>\n",
       "      <th></th>\n",
       "      <th></th>\n",
       "    </tr>\n",
       "  </thead>\n",
       "  <tbody>\n",
       "    <tr>\n",
       "      <th>2000-01-04</th>\n",
       "      <td>6000.0</td>\n",
       "      <td>6110.0</td>\n",
       "      <td>5660.0</td>\n",
       "      <td>6110.0</td>\n",
       "      <td>4514.579590</td>\n",
       "      <td>74195000.0</td>\n",
       "    </tr>\n",
       "    <tr>\n",
       "      <th>2000-01-05</th>\n",
       "      <td>5800.0</td>\n",
       "      <td>6060.0</td>\n",
       "      <td>5520.0</td>\n",
       "      <td>5580.0</td>\n",
       "      <td>4122.972656</td>\n",
       "      <td>74680000.0</td>\n",
       "    </tr>\n",
       "    <tr>\n",
       "      <th>2000-01-06</th>\n",
       "      <td>5750.0</td>\n",
       "      <td>5780.0</td>\n",
       "      <td>5580.0</td>\n",
       "      <td>5620.0</td>\n",
       "      <td>4152.526367</td>\n",
       "      <td>54390000.0</td>\n",
       "    </tr>\n",
       "    <tr>\n",
       "      <th>2000-01-07</th>\n",
       "      <td>5560.0</td>\n",
       "      <td>5670.0</td>\n",
       "      <td>5360.0</td>\n",
       "      <td>5540.0</td>\n",
       "      <td>4093.417480</td>\n",
       "      <td>40305000.0</td>\n",
       "    </tr>\n",
       "    <tr>\n",
       "      <th>2000-01-08</th>\n",
       "      <td>NaN</td>\n",
       "      <td>NaN</td>\n",
       "      <td>NaN</td>\n",
       "      <td>NaN</td>\n",
       "      <td>NaN</td>\n",
       "      <td>NaN</td>\n",
       "    </tr>\n",
       "    <tr>\n",
       "      <th>...</th>\n",
       "      <td>...</td>\n",
       "      <td>...</td>\n",
       "      <td>...</td>\n",
       "      <td>...</td>\n",
       "      <td>...</td>\n",
       "      <td>...</td>\n",
       "    </tr>\n",
       "    <tr>\n",
       "      <th>2023-12-18</th>\n",
       "      <td>73300.0</td>\n",
       "      <td>73400.0</td>\n",
       "      <td>72800.0</td>\n",
       "      <td>72900.0</td>\n",
       "      <td>72900.000000</td>\n",
       "      <td>9690551.0</td>\n",
       "    </tr>\n",
       "    <tr>\n",
       "      <th>2023-12-19</th>\n",
       "      <td>73000.0</td>\n",
       "      <td>73400.0</td>\n",
       "      <td>72800.0</td>\n",
       "      <td>73400.0</td>\n",
       "      <td>73400.000000</td>\n",
       "      <td>8907632.0</td>\n",
       "    </tr>\n",
       "    <tr>\n",
       "      <th>2023-12-20</th>\n",
       "      <td>74200.0</td>\n",
       "      <td>74900.0</td>\n",
       "      <td>73800.0</td>\n",
       "      <td>74800.0</td>\n",
       "      <td>74800.000000</td>\n",
       "      <td>16870156.0</td>\n",
       "    </tr>\n",
       "    <tr>\n",
       "      <th>2023-12-21</th>\n",
       "      <td>74600.0</td>\n",
       "      <td>75000.0</td>\n",
       "      <td>74300.0</td>\n",
       "      <td>75000.0</td>\n",
       "      <td>75000.000000</td>\n",
       "      <td>13478766.0</td>\n",
       "    </tr>\n",
       "    <tr>\n",
       "      <th>2023-12-22</th>\n",
       "      <td>75800.0</td>\n",
       "      <td>76300.0</td>\n",
       "      <td>75400.0</td>\n",
       "      <td>75900.0</td>\n",
       "      <td>75900.000000</td>\n",
       "      <td>15124451.0</td>\n",
       "    </tr>\n",
       "  </tbody>\n",
       "</table>\n",
       "<p>8754 rows × 6 columns</p>\n",
       "</div>"
      ],
      "text/plain": [
       "               Open     High      Low    Close     Adj Close      Volume\n",
       "Date                                                                    \n",
       "2000-01-04   6000.0   6110.0   5660.0   6110.0   4514.579590  74195000.0\n",
       "2000-01-05   5800.0   6060.0   5520.0   5580.0   4122.972656  74680000.0\n",
       "2000-01-06   5750.0   5780.0   5580.0   5620.0   4152.526367  54390000.0\n",
       "2000-01-07   5560.0   5670.0   5360.0   5540.0   4093.417480  40305000.0\n",
       "2000-01-08      NaN      NaN      NaN      NaN           NaN         NaN\n",
       "...             ...      ...      ...      ...           ...         ...\n",
       "2023-12-18  73300.0  73400.0  72800.0  72900.0  72900.000000   9690551.0\n",
       "2023-12-19  73000.0  73400.0  72800.0  73400.0  73400.000000   8907632.0\n",
       "2023-12-20  74200.0  74900.0  73800.0  74800.0  74800.000000  16870156.0\n",
       "2023-12-21  74600.0  75000.0  74300.0  75000.0  75000.000000  13478766.0\n",
       "2023-12-22  75800.0  76300.0  75400.0  75900.0  75900.000000  15124451.0\n",
       "\n",
       "[8754 rows x 6 columns]"
      ]
     },
     "execution_count": 125,
     "metadata": {},
     "output_type": "execute_result"
    }
   ],
   "source": [
    "sdf.resample(rule='D').mean()\n"
   ]
  },
  {
   "cell_type": "code",
   "execution_count": 126,
   "id": "6efa916f",
   "metadata": {
    "ExecuteTime": {
     "end_time": "2023-12-22T07:26:41.737653Z",
     "start_time": "2023-12-22T07:26:41.716202Z"
    }
   },
   "outputs": [
    {
     "data": {
      "text/html": [
       "<div>\n",
       "<style scoped>\n",
       "    .dataframe tbody tr th:only-of-type {\n",
       "        vertical-align: middle;\n",
       "    }\n",
       "\n",
       "    .dataframe tbody tr th {\n",
       "        vertical-align: top;\n",
       "    }\n",
       "\n",
       "    .dataframe thead th {\n",
       "        text-align: right;\n",
       "    }\n",
       "</style>\n",
       "<table border=\"1\" class=\"dataframe\">\n",
       "  <thead>\n",
       "    <tr style=\"text-align: right;\">\n",
       "      <th></th>\n",
       "      <th>Open</th>\n",
       "      <th>High</th>\n",
       "      <th>Low</th>\n",
       "      <th>Close</th>\n",
       "      <th>Adj Close</th>\n",
       "      <th>Volume</th>\n",
       "    </tr>\n",
       "    <tr>\n",
       "      <th>Date</th>\n",
       "      <th></th>\n",
       "      <th></th>\n",
       "      <th></th>\n",
       "      <th></th>\n",
       "      <th></th>\n",
       "      <th></th>\n",
       "    </tr>\n",
       "  </thead>\n",
       "  <tbody>\n",
       "    <tr>\n",
       "      <th>2023-11-01 00:00:00</th>\n",
       "      <td>67500.0</td>\n",
       "      <td>68900.0</td>\n",
       "      <td>67300.0</td>\n",
       "      <td>68600.0</td>\n",
       "      <td>68600.0</td>\n",
       "      <td>13775256.0</td>\n",
       "    </tr>\n",
       "    <tr>\n",
       "      <th>2023-11-01 01:00:00</th>\n",
       "      <td>NaN</td>\n",
       "      <td>NaN</td>\n",
       "      <td>NaN</td>\n",
       "      <td>NaN</td>\n",
       "      <td>NaN</td>\n",
       "      <td>NaN</td>\n",
       "    </tr>\n",
       "    <tr>\n",
       "      <th>2023-11-01 02:00:00</th>\n",
       "      <td>NaN</td>\n",
       "      <td>NaN</td>\n",
       "      <td>NaN</td>\n",
       "      <td>NaN</td>\n",
       "      <td>NaN</td>\n",
       "      <td>NaN</td>\n",
       "    </tr>\n",
       "    <tr>\n",
       "      <th>2023-11-01 03:00:00</th>\n",
       "      <td>NaN</td>\n",
       "      <td>NaN</td>\n",
       "      <td>NaN</td>\n",
       "      <td>NaN</td>\n",
       "      <td>NaN</td>\n",
       "      <td>NaN</td>\n",
       "    </tr>\n",
       "    <tr>\n",
       "      <th>2023-11-01 04:00:00</th>\n",
       "      <td>NaN</td>\n",
       "      <td>NaN</td>\n",
       "      <td>NaN</td>\n",
       "      <td>NaN</td>\n",
       "      <td>NaN</td>\n",
       "      <td>NaN</td>\n",
       "    </tr>\n",
       "    <tr>\n",
       "      <th>...</th>\n",
       "      <td>...</td>\n",
       "      <td>...</td>\n",
       "      <td>...</td>\n",
       "      <td>...</td>\n",
       "      <td>...</td>\n",
       "      <td>...</td>\n",
       "    </tr>\n",
       "    <tr>\n",
       "      <th>2023-11-29 20:00:00</th>\n",
       "      <td>NaN</td>\n",
       "      <td>NaN</td>\n",
       "      <td>NaN</td>\n",
       "      <td>NaN</td>\n",
       "      <td>NaN</td>\n",
       "      <td>NaN</td>\n",
       "    </tr>\n",
       "    <tr>\n",
       "      <th>2023-11-29 21:00:00</th>\n",
       "      <td>NaN</td>\n",
       "      <td>NaN</td>\n",
       "      <td>NaN</td>\n",
       "      <td>NaN</td>\n",
       "      <td>NaN</td>\n",
       "      <td>NaN</td>\n",
       "    </tr>\n",
       "    <tr>\n",
       "      <th>2023-11-29 22:00:00</th>\n",
       "      <td>NaN</td>\n",
       "      <td>NaN</td>\n",
       "      <td>NaN</td>\n",
       "      <td>NaN</td>\n",
       "      <td>NaN</td>\n",
       "      <td>NaN</td>\n",
       "    </tr>\n",
       "    <tr>\n",
       "      <th>2023-11-29 23:00:00</th>\n",
       "      <td>NaN</td>\n",
       "      <td>NaN</td>\n",
       "      <td>NaN</td>\n",
       "      <td>NaN</td>\n",
       "      <td>NaN</td>\n",
       "      <td>NaN</td>\n",
       "    </tr>\n",
       "    <tr>\n",
       "      <th>2023-11-30 00:00:00</th>\n",
       "      <td>72700.0</td>\n",
       "      <td>72800.0</td>\n",
       "      <td>72200.0</td>\n",
       "      <td>72800.0</td>\n",
       "      <td>72800.0</td>\n",
       "      <td>15783714.0</td>\n",
       "    </tr>\n",
       "  </tbody>\n",
       "</table>\n",
       "<p>697 rows × 6 columns</p>\n",
       "</div>"
      ],
      "text/plain": [
       "                        Open     High      Low    Close  Adj Close      Volume\n",
       "Date                                                                          \n",
       "2023-11-01 00:00:00  67500.0  68900.0  67300.0  68600.0    68600.0  13775256.0\n",
       "2023-11-01 01:00:00      NaN      NaN      NaN      NaN        NaN         NaN\n",
       "2023-11-01 02:00:00      NaN      NaN      NaN      NaN        NaN         NaN\n",
       "2023-11-01 03:00:00      NaN      NaN      NaN      NaN        NaN         NaN\n",
       "2023-11-01 04:00:00      NaN      NaN      NaN      NaN        NaN         NaN\n",
       "...                      ...      ...      ...      ...        ...         ...\n",
       "2023-11-29 20:00:00      NaN      NaN      NaN      NaN        NaN         NaN\n",
       "2023-11-29 21:00:00      NaN      NaN      NaN      NaN        NaN         NaN\n",
       "2023-11-29 22:00:00      NaN      NaN      NaN      NaN        NaN         NaN\n",
       "2023-11-29 23:00:00      NaN      NaN      NaN      NaN        NaN         NaN\n",
       "2023-11-30 00:00:00  72700.0  72800.0  72200.0  72800.0    72800.0  15783714.0\n",
       "\n",
       "[697 rows x 6 columns]"
      ]
     },
     "execution_count": 126,
     "metadata": {},
     "output_type": "execute_result"
    }
   ],
   "source": [
    "sdf.loc['2023-11'].resample(rule='H').mean()\n"
   ]
  },
  {
   "cell_type": "code",
   "execution_count": 127,
   "id": "cd7ee02c",
   "metadata": {
    "ExecuteTime": {
     "end_time": "2023-12-22T07:26:54.987007Z",
     "start_time": "2023-12-22T07:26:54.963306Z"
    }
   },
   "outputs": [
    {
     "data": {
      "text/html": [
       "<div>\n",
       "<style scoped>\n",
       "    .dataframe tbody tr th:only-of-type {\n",
       "        vertical-align: middle;\n",
       "    }\n",
       "\n",
       "    .dataframe tbody tr th {\n",
       "        vertical-align: top;\n",
       "    }\n",
       "\n",
       "    .dataframe thead th {\n",
       "        text-align: right;\n",
       "    }\n",
       "</style>\n",
       "<table border=\"1\" class=\"dataframe\">\n",
       "  <thead>\n",
       "    <tr style=\"text-align: right;\">\n",
       "      <th></th>\n",
       "      <th>Open</th>\n",
       "      <th>High</th>\n",
       "      <th>Low</th>\n",
       "      <th>Close</th>\n",
       "      <th>Adj Close</th>\n",
       "      <th>Volume</th>\n",
       "    </tr>\n",
       "    <tr>\n",
       "      <th>Date</th>\n",
       "      <th></th>\n",
       "      <th></th>\n",
       "      <th></th>\n",
       "      <th></th>\n",
       "      <th></th>\n",
       "      <th></th>\n",
       "    </tr>\n",
       "  </thead>\n",
       "  <tbody>\n",
       "    <tr>\n",
       "      <th>2023-11-01 00:00:00</th>\n",
       "      <td>67500.0</td>\n",
       "      <td>68900.0</td>\n",
       "      <td>67300.0</td>\n",
       "      <td>68600.0</td>\n",
       "      <td>68600.0</td>\n",
       "      <td>13775256.0</td>\n",
       "    </tr>\n",
       "    <tr>\n",
       "      <th>2023-11-01 00:01:00</th>\n",
       "      <td>NaN</td>\n",
       "      <td>NaN</td>\n",
       "      <td>NaN</td>\n",
       "      <td>NaN</td>\n",
       "      <td>NaN</td>\n",
       "      <td>NaN</td>\n",
       "    </tr>\n",
       "    <tr>\n",
       "      <th>2023-11-01 00:02:00</th>\n",
       "      <td>NaN</td>\n",
       "      <td>NaN</td>\n",
       "      <td>NaN</td>\n",
       "      <td>NaN</td>\n",
       "      <td>NaN</td>\n",
       "      <td>NaN</td>\n",
       "    </tr>\n",
       "    <tr>\n",
       "      <th>2023-11-01 00:03:00</th>\n",
       "      <td>NaN</td>\n",
       "      <td>NaN</td>\n",
       "      <td>NaN</td>\n",
       "      <td>NaN</td>\n",
       "      <td>NaN</td>\n",
       "      <td>NaN</td>\n",
       "    </tr>\n",
       "    <tr>\n",
       "      <th>2023-11-01 00:04:00</th>\n",
       "      <td>NaN</td>\n",
       "      <td>NaN</td>\n",
       "      <td>NaN</td>\n",
       "      <td>NaN</td>\n",
       "      <td>NaN</td>\n",
       "      <td>NaN</td>\n",
       "    </tr>\n",
       "    <tr>\n",
       "      <th>...</th>\n",
       "      <td>...</td>\n",
       "      <td>...</td>\n",
       "      <td>...</td>\n",
       "      <td>...</td>\n",
       "      <td>...</td>\n",
       "      <td>...</td>\n",
       "    </tr>\n",
       "    <tr>\n",
       "      <th>2023-11-29 23:56:00</th>\n",
       "      <td>NaN</td>\n",
       "      <td>NaN</td>\n",
       "      <td>NaN</td>\n",
       "      <td>NaN</td>\n",
       "      <td>NaN</td>\n",
       "      <td>NaN</td>\n",
       "    </tr>\n",
       "    <tr>\n",
       "      <th>2023-11-29 23:57:00</th>\n",
       "      <td>NaN</td>\n",
       "      <td>NaN</td>\n",
       "      <td>NaN</td>\n",
       "      <td>NaN</td>\n",
       "      <td>NaN</td>\n",
       "      <td>NaN</td>\n",
       "    </tr>\n",
       "    <tr>\n",
       "      <th>2023-11-29 23:58:00</th>\n",
       "      <td>NaN</td>\n",
       "      <td>NaN</td>\n",
       "      <td>NaN</td>\n",
       "      <td>NaN</td>\n",
       "      <td>NaN</td>\n",
       "      <td>NaN</td>\n",
       "    </tr>\n",
       "    <tr>\n",
       "      <th>2023-11-29 23:59:00</th>\n",
       "      <td>NaN</td>\n",
       "      <td>NaN</td>\n",
       "      <td>NaN</td>\n",
       "      <td>NaN</td>\n",
       "      <td>NaN</td>\n",
       "      <td>NaN</td>\n",
       "    </tr>\n",
       "    <tr>\n",
       "      <th>2023-11-30 00:00:00</th>\n",
       "      <td>72700.0</td>\n",
       "      <td>72800.0</td>\n",
       "      <td>72200.0</td>\n",
       "      <td>72800.0</td>\n",
       "      <td>72800.0</td>\n",
       "      <td>15783714.0</td>\n",
       "    </tr>\n",
       "  </tbody>\n",
       "</table>\n",
       "<p>41761 rows × 6 columns</p>\n",
       "</div>"
      ],
      "text/plain": [
       "                        Open     High      Low    Close  Adj Close      Volume\n",
       "Date                                                                          \n",
       "2023-11-01 00:00:00  67500.0  68900.0  67300.0  68600.0    68600.0  13775256.0\n",
       "2023-11-01 00:01:00      NaN      NaN      NaN      NaN        NaN         NaN\n",
       "2023-11-01 00:02:00      NaN      NaN      NaN      NaN        NaN         NaN\n",
       "2023-11-01 00:03:00      NaN      NaN      NaN      NaN        NaN         NaN\n",
       "2023-11-01 00:04:00      NaN      NaN      NaN      NaN        NaN         NaN\n",
       "...                      ...      ...      ...      ...        ...         ...\n",
       "2023-11-29 23:56:00      NaN      NaN      NaN      NaN        NaN         NaN\n",
       "2023-11-29 23:57:00      NaN      NaN      NaN      NaN        NaN         NaN\n",
       "2023-11-29 23:58:00      NaN      NaN      NaN      NaN        NaN         NaN\n",
       "2023-11-29 23:59:00      NaN      NaN      NaN      NaN        NaN         NaN\n",
       "2023-11-30 00:00:00  72700.0  72800.0  72200.0  72800.0    72800.0  15783714.0\n",
       "\n",
       "[41761 rows x 6 columns]"
      ]
     },
     "execution_count": 127,
     "metadata": {},
     "output_type": "execute_result"
    }
   ],
   "source": [
    "sdf.loc['2023-11'].resample(rule='T').mean()\n"
   ]
  },
  {
   "cell_type": "code",
   "execution_count": 128,
   "id": "8f5ab36c",
   "metadata": {
    "ExecuteTime": {
     "end_time": "2023-12-22T07:26:59.288846Z",
     "start_time": "2023-12-22T07:26:59.140674Z"
    }
   },
   "outputs": [
    {
     "data": {
      "text/html": [
       "<div>\n",
       "<style scoped>\n",
       "    .dataframe tbody tr th:only-of-type {\n",
       "        vertical-align: middle;\n",
       "    }\n",
       "\n",
       "    .dataframe tbody tr th {\n",
       "        vertical-align: top;\n",
       "    }\n",
       "\n",
       "    .dataframe thead th {\n",
       "        text-align: right;\n",
       "    }\n",
       "</style>\n",
       "<table border=\"1\" class=\"dataframe\">\n",
       "  <thead>\n",
       "    <tr style=\"text-align: right;\">\n",
       "      <th></th>\n",
       "      <th>Open</th>\n",
       "      <th>High</th>\n",
       "      <th>Low</th>\n",
       "      <th>Close</th>\n",
       "      <th>Adj Close</th>\n",
       "      <th>Volume</th>\n",
       "    </tr>\n",
       "    <tr>\n",
       "      <th>Date</th>\n",
       "      <th></th>\n",
       "      <th></th>\n",
       "      <th></th>\n",
       "      <th></th>\n",
       "      <th></th>\n",
       "      <th></th>\n",
       "    </tr>\n",
       "  </thead>\n",
       "  <tbody>\n",
       "    <tr>\n",
       "      <th>2023-11-01 00:00:00</th>\n",
       "      <td>67500.0</td>\n",
       "      <td>68900.0</td>\n",
       "      <td>67300.0</td>\n",
       "      <td>68600.0</td>\n",
       "      <td>68600.0</td>\n",
       "      <td>13775256.0</td>\n",
       "    </tr>\n",
       "    <tr>\n",
       "      <th>2023-11-01 00:00:01</th>\n",
       "      <td>NaN</td>\n",
       "      <td>NaN</td>\n",
       "      <td>NaN</td>\n",
       "      <td>NaN</td>\n",
       "      <td>NaN</td>\n",
       "      <td>NaN</td>\n",
       "    </tr>\n",
       "    <tr>\n",
       "      <th>2023-11-01 00:00:02</th>\n",
       "      <td>NaN</td>\n",
       "      <td>NaN</td>\n",
       "      <td>NaN</td>\n",
       "      <td>NaN</td>\n",
       "      <td>NaN</td>\n",
       "      <td>NaN</td>\n",
       "    </tr>\n",
       "    <tr>\n",
       "      <th>2023-11-01 00:00:03</th>\n",
       "      <td>NaN</td>\n",
       "      <td>NaN</td>\n",
       "      <td>NaN</td>\n",
       "      <td>NaN</td>\n",
       "      <td>NaN</td>\n",
       "      <td>NaN</td>\n",
       "    </tr>\n",
       "    <tr>\n",
       "      <th>2023-11-01 00:00:04</th>\n",
       "      <td>NaN</td>\n",
       "      <td>NaN</td>\n",
       "      <td>NaN</td>\n",
       "      <td>NaN</td>\n",
       "      <td>NaN</td>\n",
       "      <td>NaN</td>\n",
       "    </tr>\n",
       "    <tr>\n",
       "      <th>...</th>\n",
       "      <td>...</td>\n",
       "      <td>...</td>\n",
       "      <td>...</td>\n",
       "      <td>...</td>\n",
       "      <td>...</td>\n",
       "      <td>...</td>\n",
       "    </tr>\n",
       "    <tr>\n",
       "      <th>2023-11-29 23:59:56</th>\n",
       "      <td>NaN</td>\n",
       "      <td>NaN</td>\n",
       "      <td>NaN</td>\n",
       "      <td>NaN</td>\n",
       "      <td>NaN</td>\n",
       "      <td>NaN</td>\n",
       "    </tr>\n",
       "    <tr>\n",
       "      <th>2023-11-29 23:59:57</th>\n",
       "      <td>NaN</td>\n",
       "      <td>NaN</td>\n",
       "      <td>NaN</td>\n",
       "      <td>NaN</td>\n",
       "      <td>NaN</td>\n",
       "      <td>NaN</td>\n",
       "    </tr>\n",
       "    <tr>\n",
       "      <th>2023-11-29 23:59:58</th>\n",
       "      <td>NaN</td>\n",
       "      <td>NaN</td>\n",
       "      <td>NaN</td>\n",
       "      <td>NaN</td>\n",
       "      <td>NaN</td>\n",
       "      <td>NaN</td>\n",
       "    </tr>\n",
       "    <tr>\n",
       "      <th>2023-11-29 23:59:59</th>\n",
       "      <td>NaN</td>\n",
       "      <td>NaN</td>\n",
       "      <td>NaN</td>\n",
       "      <td>NaN</td>\n",
       "      <td>NaN</td>\n",
       "      <td>NaN</td>\n",
       "    </tr>\n",
       "    <tr>\n",
       "      <th>2023-11-30 00:00:00</th>\n",
       "      <td>72700.0</td>\n",
       "      <td>72800.0</td>\n",
       "      <td>72200.0</td>\n",
       "      <td>72800.0</td>\n",
       "      <td>72800.0</td>\n",
       "      <td>15783714.0</td>\n",
       "    </tr>\n",
       "  </tbody>\n",
       "</table>\n",
       "<p>2505601 rows × 6 columns</p>\n",
       "</div>"
      ],
      "text/plain": [
       "                        Open     High      Low    Close  Adj Close      Volume\n",
       "Date                                                                          \n",
       "2023-11-01 00:00:00  67500.0  68900.0  67300.0  68600.0    68600.0  13775256.0\n",
       "2023-11-01 00:00:01      NaN      NaN      NaN      NaN        NaN         NaN\n",
       "2023-11-01 00:00:02      NaN      NaN      NaN      NaN        NaN         NaN\n",
       "2023-11-01 00:00:03      NaN      NaN      NaN      NaN        NaN         NaN\n",
       "2023-11-01 00:00:04      NaN      NaN      NaN      NaN        NaN         NaN\n",
       "...                      ...      ...      ...      ...        ...         ...\n",
       "2023-11-29 23:59:56      NaN      NaN      NaN      NaN        NaN         NaN\n",
       "2023-11-29 23:59:57      NaN      NaN      NaN      NaN        NaN         NaN\n",
       "2023-11-29 23:59:58      NaN      NaN      NaN      NaN        NaN         NaN\n",
       "2023-11-29 23:59:59      NaN      NaN      NaN      NaN        NaN         NaN\n",
       "2023-11-30 00:00:00  72700.0  72800.0  72200.0  72800.0    72800.0  15783714.0\n",
       "\n",
       "[2505601 rows x 6 columns]"
      ]
     },
     "execution_count": 128,
     "metadata": {},
     "output_type": "execute_result"
    }
   ],
   "source": [
    "sdf.loc['2023-11'].resample(rule='S').mean()\n"
   ]
  },
  {
   "cell_type": "markdown",
   "id": "5e97b626",
   "metadata": {},
   "source": [
    "연습문제 : 교통사고 데이터 분석\n",
    "3개의 데이터를 병합하시오.\n",
    "====이후문제는 병합한 데이터프레임을 이용 ===========\n",
    "\n",
    "인덱스를 datetime 으로 만드시오.\n",
    "\n",
    "년도 및 월별, 분기별, 평균 사망자를 보여주시오.\n",
    "\n",
    "2016년 사고대비 사망율을 구하시오.\n",
    "\n",
    "2014년도 월별 사망, 부상 데이터를 그래프로 보여주시오.\n",
    "\n",
    "2015년 대비 사망이 가장 많이 증가한 2016년 도 월을 구하시오."
   ]
  },
  {
   "cell_type": "code",
   "execution_count": 184,
   "id": "570e5e9c",
   "metadata": {
    "ExecuteTime": {
     "end_time": "2023-12-22T07:46:28.923756Z",
     "start_time": "2023-12-22T07:46:28.908241Z"
    }
   },
   "outputs": [
    {
     "data": {
      "text/html": [
       "<div>\n",
       "<style scoped>\n",
       "    .dataframe tbody tr th:only-of-type {\n",
       "        vertical-align: middle;\n",
       "    }\n",
       "\n",
       "    .dataframe tbody tr th {\n",
       "        vertical-align: top;\n",
       "    }\n",
       "\n",
       "    .dataframe thead th {\n",
       "        text-align: right;\n",
       "    }\n",
       "</style>\n",
       "<table border=\"1\" class=\"dataframe\">\n",
       "  <thead>\n",
       "    <tr style=\"text-align: right;\">\n",
       "      <th></th>\n",
       "      <th>사고(건)</th>\n",
       "      <th>사망(명)</th>\n",
       "      <th>부상(명)</th>\n",
       "    </tr>\n",
       "    <tr>\n",
       "      <th>구분</th>\n",
       "      <th></th>\n",
       "      <th></th>\n",
       "      <th></th>\n",
       "    </tr>\n",
       "  </thead>\n",
       "  <tbody>\n",
       "    <tr>\n",
       "      <th>2014년1월</th>\n",
       "      <td>169</td>\n",
       "      <td>7</td>\n",
       "      <td>347</td>\n",
       "    </tr>\n",
       "    <tr>\n",
       "      <th>2014년2월</th>\n",
       "      <td>145</td>\n",
       "      <td>3</td>\n",
       "      <td>268</td>\n",
       "    </tr>\n",
       "    <tr>\n",
       "      <th>2014년3월</th>\n",
       "      <td>206</td>\n",
       "      <td>12</td>\n",
       "      <td>358</td>\n",
       "    </tr>\n",
       "    <tr>\n",
       "      <th>2014년4월</th>\n",
       "      <td>182</td>\n",
       "      <td>4</td>\n",
       "      <td>360</td>\n",
       "    </tr>\n",
       "    <tr>\n",
       "      <th>2014년5월</th>\n",
       "      <td>218</td>\n",
       "      <td>17</td>\n",
       "      <td>474</td>\n",
       "    </tr>\n",
       "  </tbody>\n",
       "</table>\n",
       "</div>"
      ],
      "text/plain": [
       "         사고(건)  사망(명)  부상(명)\n",
       "구분                          \n",
       "2014년1월    169      7    347\n",
       "2014년2월    145      3    268\n",
       "2014년3월    206     12    358\n",
       "2014년4월    182      4    360\n",
       "2014년5월    218     17    474"
      ]
     },
     "execution_count": 184,
     "metadata": {},
     "output_type": "execute_result"
    }
   ],
   "source": [
    "# 1. 3개 데이터 병합\n",
    "data_2014 = pd.read_csv('C:\\workspace\\python\\wassup\\data\\\\2014년 졸음운전 교통사고.csv', encoding='cp949', index_col='구분')\n",
    "data_2015 = pd.read_csv('C:\\workspace\\python\\wassup\\data\\\\2015년 졸음운전 교통사고.csv', encoding='cp949', index_col='구분')\n",
    "data_2016 = pd.read_csv('C:\\workspace\\python\\wassup\\data\\\\2016년 졸음운전 교통사고.csv', encoding='cp949', index_col='구분')\n",
    "data_2014.head()"
   ]
  },
  {
   "cell_type": "code",
   "execution_count": 136,
   "id": "e138c625",
   "metadata": {
    "ExecuteTime": {
     "end_time": "2023-12-22T07:32:22.095439Z",
     "start_time": "2023-12-22T07:32:22.085513Z"
    }
   },
   "outputs": [
    {
     "name": "stdout",
     "output_type": "stream",
     "text": [
      "<class 'pandas.core.frame.DataFrame'>\n",
      "Index: 12 entries, 2015년1월 to 2015년12월\n",
      "Data columns (total 3 columns):\n",
      " #   Column  Non-Null Count  Dtype\n",
      "---  ------  --------------  -----\n",
      " 0   사고(건)   12 non-null     int64\n",
      " 1   사망(명)   12 non-null     int64\n",
      " 2   부상(명)   12 non-null     int64\n",
      "dtypes: int64(3)\n",
      "memory usage: 384.0+ bytes\n"
     ]
    }
   ],
   "source": [
    "data_2015.info()"
   ]
  },
  {
   "cell_type": "code",
   "execution_count": 152,
   "id": "65d76a61",
   "metadata": {
    "ExecuteTime": {
     "end_time": "2023-12-22T07:36:11.745447Z",
     "start_time": "2023-12-22T07:36:11.733469Z"
    }
   },
   "outputs": [
    {
     "data": {
      "text/html": [
       "<div>\n",
       "<style scoped>\n",
       "    .dataframe tbody tr th:only-of-type {\n",
       "        vertical-align: middle;\n",
       "    }\n",
       "\n",
       "    .dataframe tbody tr th {\n",
       "        vertical-align: top;\n",
       "    }\n",
       "\n",
       "    .dataframe thead th {\n",
       "        text-align: right;\n",
       "    }\n",
       "</style>\n",
       "<table border=\"1\" class=\"dataframe\">\n",
       "  <thead>\n",
       "    <tr style=\"text-align: right;\">\n",
       "      <th></th>\n",
       "      <th>사고(건)</th>\n",
       "      <th>사망(명)</th>\n",
       "      <th>부상(명)</th>\n",
       "    </tr>\n",
       "    <tr>\n",
       "      <th>구분</th>\n",
       "      <th></th>\n",
       "      <th></th>\n",
       "      <th></th>\n",
       "    </tr>\n",
       "  </thead>\n",
       "  <tbody>\n",
       "    <tr>\n",
       "      <th>2014년1월</th>\n",
       "      <td>169</td>\n",
       "      <td>7</td>\n",
       "      <td>347</td>\n",
       "    </tr>\n",
       "    <tr>\n",
       "      <th>2014년2월</th>\n",
       "      <td>145</td>\n",
       "      <td>3</td>\n",
       "      <td>268</td>\n",
       "    </tr>\n",
       "    <tr>\n",
       "      <th>2014년3월</th>\n",
       "      <td>206</td>\n",
       "      <td>12</td>\n",
       "      <td>358</td>\n",
       "    </tr>\n",
       "    <tr>\n",
       "      <th>2014년4월</th>\n",
       "      <td>182</td>\n",
       "      <td>4</td>\n",
       "      <td>360</td>\n",
       "    </tr>\n",
       "    <tr>\n",
       "      <th>2014년5월</th>\n",
       "      <td>218</td>\n",
       "      <td>17</td>\n",
       "      <td>474</td>\n",
       "    </tr>\n",
       "    <tr>\n",
       "      <th>2014년6월</th>\n",
       "      <td>233</td>\n",
       "      <td>13</td>\n",
       "      <td>457</td>\n",
       "    </tr>\n",
       "    <tr>\n",
       "      <th>2014년7월</th>\n",
       "      <td>229</td>\n",
       "      <td>14</td>\n",
       "      <td>431</td>\n",
       "    </tr>\n",
       "    <tr>\n",
       "      <th>2014년8월</th>\n",
       "      <td>222</td>\n",
       "      <td>9</td>\n",
       "      <td>447</td>\n",
       "    </tr>\n",
       "    <tr>\n",
       "      <th>2014년9월</th>\n",
       "      <td>225</td>\n",
       "      <td>15</td>\n",
       "      <td>430</td>\n",
       "    </tr>\n",
       "    <tr>\n",
       "      <th>2014년10월</th>\n",
       "      <td>210</td>\n",
       "      <td>14</td>\n",
       "      <td>392</td>\n",
       "    </tr>\n",
       "    <tr>\n",
       "      <th>2014년11월</th>\n",
       "      <td>209</td>\n",
       "      <td>10</td>\n",
       "      <td>386</td>\n",
       "    </tr>\n",
       "    <tr>\n",
       "      <th>2014년12월</th>\n",
       "      <td>178</td>\n",
       "      <td>12</td>\n",
       "      <td>329</td>\n",
       "    </tr>\n",
       "    <tr>\n",
       "      <th>2015년1월</th>\n",
       "      <td>205</td>\n",
       "      <td>8</td>\n",
       "      <td>375</td>\n",
       "    </tr>\n",
       "    <tr>\n",
       "      <th>2015년2월</th>\n",
       "      <td>175</td>\n",
       "      <td>8</td>\n",
       "      <td>375</td>\n",
       "    </tr>\n",
       "    <tr>\n",
       "      <th>2015년3월</th>\n",
       "      <td>237</td>\n",
       "      <td>4</td>\n",
       "      <td>492</td>\n",
       "    </tr>\n",
       "    <tr>\n",
       "      <th>2015년4월</th>\n",
       "      <td>227</td>\n",
       "      <td>10</td>\n",
       "      <td>486</td>\n",
       "    </tr>\n",
       "    <tr>\n",
       "      <th>2015년5월</th>\n",
       "      <td>231</td>\n",
       "      <td>9</td>\n",
       "      <td>504</td>\n",
       "    </tr>\n",
       "    <tr>\n",
       "      <th>2015년6월</th>\n",
       "      <td>207</td>\n",
       "      <td>8</td>\n",
       "      <td>401</td>\n",
       "    </tr>\n",
       "    <tr>\n",
       "      <th>2015년7월</th>\n",
       "      <td>273</td>\n",
       "      <td>7</td>\n",
       "      <td>556</td>\n",
       "    </tr>\n",
       "    <tr>\n",
       "      <th>2015년8월</th>\n",
       "      <td>268</td>\n",
       "      <td>19</td>\n",
       "      <td>534</td>\n",
       "    </tr>\n",
       "    <tr>\n",
       "      <th>2015년9월</th>\n",
       "      <td>252</td>\n",
       "      <td>10</td>\n",
       "      <td>501</td>\n",
       "    </tr>\n",
       "    <tr>\n",
       "      <th>2015년10월</th>\n",
       "      <td>214</td>\n",
       "      <td>14</td>\n",
       "      <td>475</td>\n",
       "    </tr>\n",
       "    <tr>\n",
       "      <th>2015년11월</th>\n",
       "      <td>199</td>\n",
       "      <td>3</td>\n",
       "      <td>398</td>\n",
       "    </tr>\n",
       "    <tr>\n",
       "      <th>2015년12월</th>\n",
       "      <td>213</td>\n",
       "      <td>8</td>\n",
       "      <td>428</td>\n",
       "    </tr>\n",
       "    <tr>\n",
       "      <th>2016년1월</th>\n",
       "      <td>192</td>\n",
       "      <td>5</td>\n",
       "      <td>387</td>\n",
       "    </tr>\n",
       "    <tr>\n",
       "      <th>2016년2월</th>\n",
       "      <td>174</td>\n",
       "      <td>6</td>\n",
       "      <td>328</td>\n",
       "    </tr>\n",
       "    <tr>\n",
       "      <th>2016년3월</th>\n",
       "      <td>217</td>\n",
       "      <td>7</td>\n",
       "      <td>435</td>\n",
       "    </tr>\n",
       "    <tr>\n",
       "      <th>2016년4월</th>\n",
       "      <td>216</td>\n",
       "      <td>7</td>\n",
       "      <td>419</td>\n",
       "    </tr>\n",
       "    <tr>\n",
       "      <th>2016년5월</th>\n",
       "      <td>239</td>\n",
       "      <td>13</td>\n",
       "      <td>522</td>\n",
       "    </tr>\n",
       "    <tr>\n",
       "      <th>2016년6월</th>\n",
       "      <td>200</td>\n",
       "      <td>12</td>\n",
       "      <td>362</td>\n",
       "    </tr>\n",
       "    <tr>\n",
       "      <th>2016년7월</th>\n",
       "      <td>227</td>\n",
       "      <td>9</td>\n",
       "      <td>460</td>\n",
       "    </tr>\n",
       "    <tr>\n",
       "      <th>2016년8월</th>\n",
       "      <td>230</td>\n",
       "      <td>7</td>\n",
       "      <td>490</td>\n",
       "    </tr>\n",
       "    <tr>\n",
       "      <th>2016년9월</th>\n",
       "      <td>187</td>\n",
       "      <td>13</td>\n",
       "      <td>347</td>\n",
       "    </tr>\n",
       "    <tr>\n",
       "      <th>2016년10월</th>\n",
       "      <td>183</td>\n",
       "      <td>10</td>\n",
       "      <td>367</td>\n",
       "    </tr>\n",
       "    <tr>\n",
       "      <th>2016년11월</th>\n",
       "      <td>200</td>\n",
       "      <td>5</td>\n",
       "      <td>418</td>\n",
       "    </tr>\n",
       "    <tr>\n",
       "      <th>2016년12월</th>\n",
       "      <td>168</td>\n",
       "      <td>4</td>\n",
       "      <td>364</td>\n",
       "    </tr>\n",
       "  </tbody>\n",
       "</table>\n",
       "</div>"
      ],
      "text/plain": [
       "          사고(건)  사망(명)  부상(명)\n",
       "구분                           \n",
       "2014년1월     169      7    347\n",
       "2014년2월     145      3    268\n",
       "2014년3월     206     12    358\n",
       "2014년4월     182      4    360\n",
       "2014년5월     218     17    474\n",
       "2014년6월     233     13    457\n",
       "2014년7월     229     14    431\n",
       "2014년8월     222      9    447\n",
       "2014년9월     225     15    430\n",
       "2014년10월    210     14    392\n",
       "2014년11월    209     10    386\n",
       "2014년12월    178     12    329\n",
       "2015년1월     205      8    375\n",
       "2015년2월     175      8    375\n",
       "2015년3월     237      4    492\n",
       "2015년4월     227     10    486\n",
       "2015년5월     231      9    504\n",
       "2015년6월     207      8    401\n",
       "2015년7월     273      7    556\n",
       "2015년8월     268     19    534\n",
       "2015년9월     252     10    501\n",
       "2015년10월    214     14    475\n",
       "2015년11월    199      3    398\n",
       "2015년12월    213      8    428\n",
       "2016년1월     192      5    387\n",
       "2016년2월     174      6    328\n",
       "2016년3월     217      7    435\n",
       "2016년4월     216      7    419\n",
       "2016년5월     239     13    522\n",
       "2016년6월     200     12    362\n",
       "2016년7월     227      9    460\n",
       "2016년8월     230      7    490\n",
       "2016년9월     187     13    347\n",
       "2016년10월    183     10    367\n",
       "2016년11월    200      5    418\n",
       "2016년12월    168      4    364"
      ]
     },
     "execution_count": 152,
     "metadata": {},
     "output_type": "execute_result"
    }
   ],
   "source": [
    "a = pd.concat((data_2014, data_2015, data_2016))\n",
    "df = pd.DataFrame(a)\n",
    "df"
   ]
  },
  {
   "cell_type": "code",
   "execution_count": 158,
   "id": "b28abeb5",
   "metadata": {
    "ExecuteTime": {
     "end_time": "2023-12-22T07:37:23.280205Z",
     "start_time": "2023-12-22T07:37:23.267622Z"
    }
   },
   "outputs": [
    {
     "data": {
      "text/html": [
       "<div>\n",
       "<style scoped>\n",
       "    .dataframe tbody tr th:only-of-type {\n",
       "        vertical-align: middle;\n",
       "    }\n",
       "\n",
       "    .dataframe tbody tr th {\n",
       "        vertical-align: top;\n",
       "    }\n",
       "\n",
       "    .dataframe thead th {\n",
       "        text-align: right;\n",
       "    }\n",
       "</style>\n",
       "<table border=\"1\" class=\"dataframe\">\n",
       "  <thead>\n",
       "    <tr style=\"text-align: right;\">\n",
       "      <th></th>\n",
       "      <th>사고(건)</th>\n",
       "      <th>사망(명)</th>\n",
       "      <th>부상(명)</th>\n",
       "    </tr>\n",
       "    <tr>\n",
       "      <th>구분</th>\n",
       "      <th></th>\n",
       "      <th></th>\n",
       "      <th></th>\n",
       "    </tr>\n",
       "  </thead>\n",
       "  <tbody>\n",
       "    <tr>\n",
       "      <th>2014-01-01</th>\n",
       "      <td>169</td>\n",
       "      <td>7</td>\n",
       "      <td>347</td>\n",
       "    </tr>\n",
       "    <tr>\n",
       "      <th>2014-02-01</th>\n",
       "      <td>145</td>\n",
       "      <td>3</td>\n",
       "      <td>268</td>\n",
       "    </tr>\n",
       "    <tr>\n",
       "      <th>2014-03-01</th>\n",
       "      <td>206</td>\n",
       "      <td>12</td>\n",
       "      <td>358</td>\n",
       "    </tr>\n",
       "    <tr>\n",
       "      <th>2014-04-01</th>\n",
       "      <td>182</td>\n",
       "      <td>4</td>\n",
       "      <td>360</td>\n",
       "    </tr>\n",
       "    <tr>\n",
       "      <th>2014-05-01</th>\n",
       "      <td>218</td>\n",
       "      <td>17</td>\n",
       "      <td>474</td>\n",
       "    </tr>\n",
       "    <tr>\n",
       "      <th>2014-06-01</th>\n",
       "      <td>233</td>\n",
       "      <td>13</td>\n",
       "      <td>457</td>\n",
       "    </tr>\n",
       "    <tr>\n",
       "      <th>2014-07-01</th>\n",
       "      <td>229</td>\n",
       "      <td>14</td>\n",
       "      <td>431</td>\n",
       "    </tr>\n",
       "    <tr>\n",
       "      <th>2014-08-01</th>\n",
       "      <td>222</td>\n",
       "      <td>9</td>\n",
       "      <td>447</td>\n",
       "    </tr>\n",
       "    <tr>\n",
       "      <th>2014-09-01</th>\n",
       "      <td>225</td>\n",
       "      <td>15</td>\n",
       "      <td>430</td>\n",
       "    </tr>\n",
       "    <tr>\n",
       "      <th>2014-10-01</th>\n",
       "      <td>210</td>\n",
       "      <td>14</td>\n",
       "      <td>392</td>\n",
       "    </tr>\n",
       "    <tr>\n",
       "      <th>2014-11-01</th>\n",
       "      <td>209</td>\n",
       "      <td>10</td>\n",
       "      <td>386</td>\n",
       "    </tr>\n",
       "    <tr>\n",
       "      <th>2014-12-01</th>\n",
       "      <td>178</td>\n",
       "      <td>12</td>\n",
       "      <td>329</td>\n",
       "    </tr>\n",
       "    <tr>\n",
       "      <th>2015-01-01</th>\n",
       "      <td>205</td>\n",
       "      <td>8</td>\n",
       "      <td>375</td>\n",
       "    </tr>\n",
       "    <tr>\n",
       "      <th>2015-02-01</th>\n",
       "      <td>175</td>\n",
       "      <td>8</td>\n",
       "      <td>375</td>\n",
       "    </tr>\n",
       "    <tr>\n",
       "      <th>2015-03-01</th>\n",
       "      <td>237</td>\n",
       "      <td>4</td>\n",
       "      <td>492</td>\n",
       "    </tr>\n",
       "    <tr>\n",
       "      <th>2015-04-01</th>\n",
       "      <td>227</td>\n",
       "      <td>10</td>\n",
       "      <td>486</td>\n",
       "    </tr>\n",
       "    <tr>\n",
       "      <th>2015-05-01</th>\n",
       "      <td>231</td>\n",
       "      <td>9</td>\n",
       "      <td>504</td>\n",
       "    </tr>\n",
       "    <tr>\n",
       "      <th>2015-06-01</th>\n",
       "      <td>207</td>\n",
       "      <td>8</td>\n",
       "      <td>401</td>\n",
       "    </tr>\n",
       "    <tr>\n",
       "      <th>2015-07-01</th>\n",
       "      <td>273</td>\n",
       "      <td>7</td>\n",
       "      <td>556</td>\n",
       "    </tr>\n",
       "    <tr>\n",
       "      <th>2015-08-01</th>\n",
       "      <td>268</td>\n",
       "      <td>19</td>\n",
       "      <td>534</td>\n",
       "    </tr>\n",
       "    <tr>\n",
       "      <th>2015-09-01</th>\n",
       "      <td>252</td>\n",
       "      <td>10</td>\n",
       "      <td>501</td>\n",
       "    </tr>\n",
       "    <tr>\n",
       "      <th>2015-10-01</th>\n",
       "      <td>214</td>\n",
       "      <td>14</td>\n",
       "      <td>475</td>\n",
       "    </tr>\n",
       "    <tr>\n",
       "      <th>2015-11-01</th>\n",
       "      <td>199</td>\n",
       "      <td>3</td>\n",
       "      <td>398</td>\n",
       "    </tr>\n",
       "    <tr>\n",
       "      <th>2015-12-01</th>\n",
       "      <td>213</td>\n",
       "      <td>8</td>\n",
       "      <td>428</td>\n",
       "    </tr>\n",
       "    <tr>\n",
       "      <th>2016-01-01</th>\n",
       "      <td>192</td>\n",
       "      <td>5</td>\n",
       "      <td>387</td>\n",
       "    </tr>\n",
       "    <tr>\n",
       "      <th>2016-02-01</th>\n",
       "      <td>174</td>\n",
       "      <td>6</td>\n",
       "      <td>328</td>\n",
       "    </tr>\n",
       "    <tr>\n",
       "      <th>2016-03-01</th>\n",
       "      <td>217</td>\n",
       "      <td>7</td>\n",
       "      <td>435</td>\n",
       "    </tr>\n",
       "    <tr>\n",
       "      <th>2016-04-01</th>\n",
       "      <td>216</td>\n",
       "      <td>7</td>\n",
       "      <td>419</td>\n",
       "    </tr>\n",
       "    <tr>\n",
       "      <th>2016-05-01</th>\n",
       "      <td>239</td>\n",
       "      <td>13</td>\n",
       "      <td>522</td>\n",
       "    </tr>\n",
       "    <tr>\n",
       "      <th>2016-06-01</th>\n",
       "      <td>200</td>\n",
       "      <td>12</td>\n",
       "      <td>362</td>\n",
       "    </tr>\n",
       "    <tr>\n",
       "      <th>2016-07-01</th>\n",
       "      <td>227</td>\n",
       "      <td>9</td>\n",
       "      <td>460</td>\n",
       "    </tr>\n",
       "    <tr>\n",
       "      <th>2016-08-01</th>\n",
       "      <td>230</td>\n",
       "      <td>7</td>\n",
       "      <td>490</td>\n",
       "    </tr>\n",
       "    <tr>\n",
       "      <th>2016-09-01</th>\n",
       "      <td>187</td>\n",
       "      <td>13</td>\n",
       "      <td>347</td>\n",
       "    </tr>\n",
       "    <tr>\n",
       "      <th>2016-10-01</th>\n",
       "      <td>183</td>\n",
       "      <td>10</td>\n",
       "      <td>367</td>\n",
       "    </tr>\n",
       "    <tr>\n",
       "      <th>2016-11-01</th>\n",
       "      <td>200</td>\n",
       "      <td>5</td>\n",
       "      <td>418</td>\n",
       "    </tr>\n",
       "    <tr>\n",
       "      <th>2016-12-01</th>\n",
       "      <td>168</td>\n",
       "      <td>4</td>\n",
       "      <td>364</td>\n",
       "    </tr>\n",
       "  </tbody>\n",
       "</table>\n",
       "</div>"
      ],
      "text/plain": [
       "            사고(건)  사망(명)  부상(명)\n",
       "구분                             \n",
       "2014-01-01    169      7    347\n",
       "2014-02-01    145      3    268\n",
       "2014-03-01    206     12    358\n",
       "2014-04-01    182      4    360\n",
       "2014-05-01    218     17    474\n",
       "2014-06-01    233     13    457\n",
       "2014-07-01    229     14    431\n",
       "2014-08-01    222      9    447\n",
       "2014-09-01    225     15    430\n",
       "2014-10-01    210     14    392\n",
       "2014-11-01    209     10    386\n",
       "2014-12-01    178     12    329\n",
       "2015-01-01    205      8    375\n",
       "2015-02-01    175      8    375\n",
       "2015-03-01    237      4    492\n",
       "2015-04-01    227     10    486\n",
       "2015-05-01    231      9    504\n",
       "2015-06-01    207      8    401\n",
       "2015-07-01    273      7    556\n",
       "2015-08-01    268     19    534\n",
       "2015-09-01    252     10    501\n",
       "2015-10-01    214     14    475\n",
       "2015-11-01    199      3    398\n",
       "2015-12-01    213      8    428\n",
       "2016-01-01    192      5    387\n",
       "2016-02-01    174      6    328\n",
       "2016-03-01    217      7    435\n",
       "2016-04-01    216      7    419\n",
       "2016-05-01    239     13    522\n",
       "2016-06-01    200     12    362\n",
       "2016-07-01    227      9    460\n",
       "2016-08-01    230      7    490\n",
       "2016-09-01    187     13    347\n",
       "2016-10-01    183     10    367\n",
       "2016-11-01    200      5    418\n",
       "2016-12-01    168      4    364"
      ]
     },
     "execution_count": 158,
     "metadata": {},
     "output_type": "execute_result"
    }
   ],
   "source": [
    "df.index = pd.to_datetime(df.index, format = '%Y년%m월')\n",
    "df"
   ]
  },
  {
   "cell_type": "code",
   "execution_count": 160,
   "id": "2e595240",
   "metadata": {
    "ExecuteTime": {
     "end_time": "2023-12-22T07:38:05.065705Z",
     "start_time": "2023-12-22T07:38:05.051742Z"
    }
   },
   "outputs": [
    {
     "data": {
      "text/html": [
       "<div>\n",
       "<style scoped>\n",
       "    .dataframe tbody tr th:only-of-type {\n",
       "        vertical-align: middle;\n",
       "    }\n",
       "\n",
       "    .dataframe tbody tr th {\n",
       "        vertical-align: top;\n",
       "    }\n",
       "\n",
       "    .dataframe thead th {\n",
       "        text-align: right;\n",
       "    }\n",
       "</style>\n",
       "<table border=\"1\" class=\"dataframe\">\n",
       "  <thead>\n",
       "    <tr style=\"text-align: right;\">\n",
       "      <th></th>\n",
       "      <th>사고(건)</th>\n",
       "      <th>사망(명)</th>\n",
       "      <th>부상(명)</th>\n",
       "    </tr>\n",
       "    <tr>\n",
       "      <th>구분</th>\n",
       "      <th></th>\n",
       "      <th></th>\n",
       "      <th></th>\n",
       "    </tr>\n",
       "  </thead>\n",
       "  <tbody>\n",
       "    <tr>\n",
       "      <th>2014-12-31</th>\n",
       "      <td>202.166667</td>\n",
       "      <td>10.833333</td>\n",
       "      <td>389.916667</td>\n",
       "    </tr>\n",
       "    <tr>\n",
       "      <th>2015-12-31</th>\n",
       "      <td>225.083333</td>\n",
       "      <td>9.000000</td>\n",
       "      <td>460.416667</td>\n",
       "    </tr>\n",
       "    <tr>\n",
       "      <th>2016-12-31</th>\n",
       "      <td>202.750000</td>\n",
       "      <td>8.166667</td>\n",
       "      <td>408.250000</td>\n",
       "    </tr>\n",
       "  </tbody>\n",
       "</table>\n",
       "</div>"
      ],
      "text/plain": [
       "                 사고(건)      사망(명)       부상(명)\n",
       "구분                                           \n",
       "2014-12-31  202.166667  10.833333  389.916667\n",
       "2015-12-31  225.083333   9.000000  460.416667\n",
       "2016-12-31  202.750000   8.166667  408.250000"
      ]
     },
     "execution_count": 160,
     "metadata": {},
     "output_type": "execute_result"
    }
   ],
   "source": [
    "df.resample(rule = 'Y').mean()"
   ]
  },
  {
   "cell_type": "code",
   "execution_count": 162,
   "id": "240e08a5",
   "metadata": {
    "ExecuteTime": {
     "end_time": "2023-12-22T07:38:28.722060Z",
     "start_time": "2023-12-22T07:38:28.708325Z"
    }
   },
   "outputs": [
    {
     "data": {
      "text/html": [
       "<div>\n",
       "<style scoped>\n",
       "    .dataframe tbody tr th:only-of-type {\n",
       "        vertical-align: middle;\n",
       "    }\n",
       "\n",
       "    .dataframe tbody tr th {\n",
       "        vertical-align: top;\n",
       "    }\n",
       "\n",
       "    .dataframe thead th {\n",
       "        text-align: right;\n",
       "    }\n",
       "</style>\n",
       "<table border=\"1\" class=\"dataframe\">\n",
       "  <thead>\n",
       "    <tr style=\"text-align: right;\">\n",
       "      <th></th>\n",
       "      <th>사고(건)</th>\n",
       "      <th>사망(명)</th>\n",
       "      <th>부상(명)</th>\n",
       "    </tr>\n",
       "    <tr>\n",
       "      <th>구분</th>\n",
       "      <th></th>\n",
       "      <th></th>\n",
       "      <th></th>\n",
       "    </tr>\n",
       "  </thead>\n",
       "  <tbody>\n",
       "    <tr>\n",
       "      <th>2014-01-31</th>\n",
       "      <td>169.0</td>\n",
       "      <td>7.0</td>\n",
       "      <td>347.0</td>\n",
       "    </tr>\n",
       "    <tr>\n",
       "      <th>2014-02-28</th>\n",
       "      <td>145.0</td>\n",
       "      <td>3.0</td>\n",
       "      <td>268.0</td>\n",
       "    </tr>\n",
       "    <tr>\n",
       "      <th>2014-03-31</th>\n",
       "      <td>206.0</td>\n",
       "      <td>12.0</td>\n",
       "      <td>358.0</td>\n",
       "    </tr>\n",
       "    <tr>\n",
       "      <th>2014-04-30</th>\n",
       "      <td>182.0</td>\n",
       "      <td>4.0</td>\n",
       "      <td>360.0</td>\n",
       "    </tr>\n",
       "    <tr>\n",
       "      <th>2014-05-31</th>\n",
       "      <td>218.0</td>\n",
       "      <td>17.0</td>\n",
       "      <td>474.0</td>\n",
       "    </tr>\n",
       "  </tbody>\n",
       "</table>\n",
       "</div>"
      ],
      "text/plain": [
       "            사고(건)  사망(명)  부상(명)\n",
       "구분                             \n",
       "2014-01-31  169.0    7.0  347.0\n",
       "2014-02-28  145.0    3.0  268.0\n",
       "2014-03-31  206.0   12.0  358.0\n",
       "2014-04-30  182.0    4.0  360.0\n",
       "2014-05-31  218.0   17.0  474.0"
      ]
     },
     "execution_count": 162,
     "metadata": {},
     "output_type": "execute_result"
    }
   ],
   "source": [
    "df.resample(rule = 'M').mean().head()"
   ]
  },
  {
   "cell_type": "code",
   "execution_count": 163,
   "id": "41152781",
   "metadata": {
    "ExecuteTime": {
     "end_time": "2023-12-22T07:38:41.552400Z",
     "start_time": "2023-12-22T07:38:41.539705Z"
    }
   },
   "outputs": [
    {
     "data": {
      "text/html": [
       "<div>\n",
       "<style scoped>\n",
       "    .dataframe tbody tr th:only-of-type {\n",
       "        vertical-align: middle;\n",
       "    }\n",
       "\n",
       "    .dataframe tbody tr th {\n",
       "        vertical-align: top;\n",
       "    }\n",
       "\n",
       "    .dataframe thead th {\n",
       "        text-align: right;\n",
       "    }\n",
       "</style>\n",
       "<table border=\"1\" class=\"dataframe\">\n",
       "  <thead>\n",
       "    <tr style=\"text-align: right;\">\n",
       "      <th></th>\n",
       "      <th>사고(건)</th>\n",
       "      <th>사망(명)</th>\n",
       "      <th>부상(명)</th>\n",
       "    </tr>\n",
       "    <tr>\n",
       "      <th>구분</th>\n",
       "      <th></th>\n",
       "      <th></th>\n",
       "      <th></th>\n",
       "    </tr>\n",
       "  </thead>\n",
       "  <tbody>\n",
       "    <tr>\n",
       "      <th>2014-03-31</th>\n",
       "      <td>173.333333</td>\n",
       "      <td>7.333333</td>\n",
       "      <td>324.333333</td>\n",
       "    </tr>\n",
       "    <tr>\n",
       "      <th>2014-06-30</th>\n",
       "      <td>211.000000</td>\n",
       "      <td>11.333333</td>\n",
       "      <td>430.333333</td>\n",
       "    </tr>\n",
       "    <tr>\n",
       "      <th>2014-09-30</th>\n",
       "      <td>225.333333</td>\n",
       "      <td>12.666667</td>\n",
       "      <td>436.000000</td>\n",
       "    </tr>\n",
       "    <tr>\n",
       "      <th>2014-12-31</th>\n",
       "      <td>199.000000</td>\n",
       "      <td>12.000000</td>\n",
       "      <td>369.000000</td>\n",
       "    </tr>\n",
       "    <tr>\n",
       "      <th>2015-03-31</th>\n",
       "      <td>205.666667</td>\n",
       "      <td>6.666667</td>\n",
       "      <td>414.000000</td>\n",
       "    </tr>\n",
       "  </tbody>\n",
       "</table>\n",
       "</div>"
      ],
      "text/plain": [
       "                 사고(건)      사망(명)       부상(명)\n",
       "구분                                           \n",
       "2014-03-31  173.333333   7.333333  324.333333\n",
       "2014-06-30  211.000000  11.333333  430.333333\n",
       "2014-09-30  225.333333  12.666667  436.000000\n",
       "2014-12-31  199.000000  12.000000  369.000000\n",
       "2015-03-31  205.666667   6.666667  414.000000"
      ]
     },
     "execution_count": 163,
     "metadata": {},
     "output_type": "execute_result"
    }
   ],
   "source": [
    "df.resample(rule = 'Q').mean().head()"
   ]
  },
  {
   "cell_type": "code",
   "execution_count": 168,
   "id": "a5e32935",
   "metadata": {
    "ExecuteTime": {
     "end_time": "2023-12-22T07:40:34.753576Z",
     "start_time": "2023-12-22T07:40:34.741518Z"
    }
   },
   "outputs": [
    {
     "data": {
      "text/html": [
       "<div>\n",
       "<style scoped>\n",
       "    .dataframe tbody tr th:only-of-type {\n",
       "        vertical-align: middle;\n",
       "    }\n",
       "\n",
       "    .dataframe tbody tr th {\n",
       "        vertical-align: top;\n",
       "    }\n",
       "\n",
       "    .dataframe thead th {\n",
       "        text-align: right;\n",
       "    }\n",
       "</style>\n",
       "<table border=\"1\" class=\"dataframe\">\n",
       "  <thead>\n",
       "    <tr style=\"text-align: right;\">\n",
       "      <th></th>\n",
       "      <th>사고(건)</th>\n",
       "      <th>사망(명)</th>\n",
       "      <th>부상(명)</th>\n",
       "    </tr>\n",
       "    <tr>\n",
       "      <th>구분</th>\n",
       "      <th></th>\n",
       "      <th></th>\n",
       "      <th></th>\n",
       "    </tr>\n",
       "  </thead>\n",
       "  <tbody>\n",
       "    <tr>\n",
       "      <th>2016-12-31</th>\n",
       "      <td>202.75</td>\n",
       "      <td>8.166667</td>\n",
       "      <td>408.25</td>\n",
       "    </tr>\n",
       "  </tbody>\n",
       "</table>\n",
       "</div>"
      ],
      "text/plain": [
       "             사고(건)     사망(명)   부상(명)\n",
       "구분                                  \n",
       "2016-12-31  202.75  8.166667  408.25"
      ]
     },
     "execution_count": 168,
     "metadata": {},
     "output_type": "execute_result"
    }
   ],
   "source": [
    "a = df.loc['2016'].resample(rule = 'Y').mean()\n",
    "a"
   ]
  },
  {
   "cell_type": "code",
   "execution_count": 174,
   "id": "5c22f83b",
   "metadata": {
    "ExecuteTime": {
     "end_time": "2023-12-22T07:42:45.851352Z",
     "start_time": "2023-12-22T07:42:45.844939Z"
    }
   },
   "outputs": [
    {
     "data": {
      "text/plain": [
       "0.04"
      ]
     },
     "execution_count": 174,
     "metadata": {},
     "output_type": "execute_result"
    }
   ],
   "source": [
    "ratio = (a.iloc[0, 1] / a.iloc[0, 0]).round(2)\n",
    "ratio"
   ]
  },
  {
   "cell_type": "code",
   "execution_count": 172,
   "id": "0ede4840",
   "metadata": {
    "ExecuteTime": {
     "end_time": "2023-12-22T07:42:24.739414Z",
     "start_time": "2023-12-22T07:42:24.732528Z"
    }
   },
   "outputs": [
    {
     "data": {
      "text/plain": [
       "408.25"
      ]
     },
     "execution_count": 172,
     "metadata": {},
     "output_type": "execute_result"
    }
   ],
   "source": [
    "a.iloc[0, 2]"
   ]
  },
  {
   "cell_type": "code",
   "execution_count": 177,
   "id": "b8003d12",
   "metadata": {
    "ExecuteTime": {
     "end_time": "2023-12-22T07:43:35.366127Z",
     "start_time": "2023-12-22T07:43:35.348812Z"
    }
   },
   "outputs": [
    {
     "data": {
      "text/html": [
       "<div>\n",
       "<style scoped>\n",
       "    .dataframe tbody tr th:only-of-type {\n",
       "        vertical-align: middle;\n",
       "    }\n",
       "\n",
       "    .dataframe tbody tr th {\n",
       "        vertical-align: top;\n",
       "    }\n",
       "\n",
       "    .dataframe thead th {\n",
       "        text-align: right;\n",
       "    }\n",
       "</style>\n",
       "<table border=\"1\" class=\"dataframe\">\n",
       "  <thead>\n",
       "    <tr style=\"text-align: right;\">\n",
       "      <th></th>\n",
       "      <th>사고(건)</th>\n",
       "      <th>사망(명)</th>\n",
       "      <th>부상(명)</th>\n",
       "    </tr>\n",
       "    <tr>\n",
       "      <th>구분</th>\n",
       "      <th></th>\n",
       "      <th></th>\n",
       "      <th></th>\n",
       "    </tr>\n",
       "  </thead>\n",
       "  <tbody>\n",
       "    <tr>\n",
       "      <th>2014-01-31</th>\n",
       "      <td>169.0</td>\n",
       "      <td>7.0</td>\n",
       "      <td>347.0</td>\n",
       "    </tr>\n",
       "    <tr>\n",
       "      <th>2014-02-28</th>\n",
       "      <td>145.0</td>\n",
       "      <td>3.0</td>\n",
       "      <td>268.0</td>\n",
       "    </tr>\n",
       "    <tr>\n",
       "      <th>2014-03-31</th>\n",
       "      <td>206.0</td>\n",
       "      <td>12.0</td>\n",
       "      <td>358.0</td>\n",
       "    </tr>\n",
       "    <tr>\n",
       "      <th>2014-04-30</th>\n",
       "      <td>182.0</td>\n",
       "      <td>4.0</td>\n",
       "      <td>360.0</td>\n",
       "    </tr>\n",
       "    <tr>\n",
       "      <th>2014-05-31</th>\n",
       "      <td>218.0</td>\n",
       "      <td>17.0</td>\n",
       "      <td>474.0</td>\n",
       "    </tr>\n",
       "    <tr>\n",
       "      <th>2014-06-30</th>\n",
       "      <td>233.0</td>\n",
       "      <td>13.0</td>\n",
       "      <td>457.0</td>\n",
       "    </tr>\n",
       "    <tr>\n",
       "      <th>2014-07-31</th>\n",
       "      <td>229.0</td>\n",
       "      <td>14.0</td>\n",
       "      <td>431.0</td>\n",
       "    </tr>\n",
       "    <tr>\n",
       "      <th>2014-08-31</th>\n",
       "      <td>222.0</td>\n",
       "      <td>9.0</td>\n",
       "      <td>447.0</td>\n",
       "    </tr>\n",
       "    <tr>\n",
       "      <th>2014-09-30</th>\n",
       "      <td>225.0</td>\n",
       "      <td>15.0</td>\n",
       "      <td>430.0</td>\n",
       "    </tr>\n",
       "    <tr>\n",
       "      <th>2014-10-31</th>\n",
       "      <td>210.0</td>\n",
       "      <td>14.0</td>\n",
       "      <td>392.0</td>\n",
       "    </tr>\n",
       "    <tr>\n",
       "      <th>2014-11-30</th>\n",
       "      <td>209.0</td>\n",
       "      <td>10.0</td>\n",
       "      <td>386.0</td>\n",
       "    </tr>\n",
       "    <tr>\n",
       "      <th>2014-12-31</th>\n",
       "      <td>178.0</td>\n",
       "      <td>12.0</td>\n",
       "      <td>329.0</td>\n",
       "    </tr>\n",
       "  </tbody>\n",
       "</table>\n",
       "</div>"
      ],
      "text/plain": [
       "            사고(건)  사망(명)  부상(명)\n",
       "구분                             \n",
       "2014-01-31  169.0    7.0  347.0\n",
       "2014-02-28  145.0    3.0  268.0\n",
       "2014-03-31  206.0   12.0  358.0\n",
       "2014-04-30  182.0    4.0  360.0\n",
       "2014-05-31  218.0   17.0  474.0\n",
       "2014-06-30  233.0   13.0  457.0\n",
       "2014-07-31  229.0   14.0  431.0\n",
       "2014-08-31  222.0    9.0  447.0\n",
       "2014-09-30  225.0   15.0  430.0\n",
       "2014-10-31  210.0   14.0  392.0\n",
       "2014-11-30  209.0   10.0  386.0\n",
       "2014-12-31  178.0   12.0  329.0"
      ]
     },
     "execution_count": 177,
     "metadata": {},
     "output_type": "execute_result"
    }
   ],
   "source": [
    "df.loc['2014'].resample(rule='M').mean()"
   ]
  },
  {
   "cell_type": "code",
   "execution_count": 189,
   "id": "6d9c1d1c",
   "metadata": {
    "ExecuteTime": {
     "end_time": "2023-12-22T07:52:39.980870Z",
     "start_time": "2023-12-22T07:52:39.811610Z"
    }
   },
   "outputs": [
    {
     "data": {
      "image/png": "[encoded data removed]",
      "text/plain": [
       "<Figure size 640x480 with 1 Axes>"
      ]
     },
     "metadata": {},
     "output_type": "display_data"
    }
   ],
   "source": [
    "plt.plot(df.loc['2014'][['사망(명)', '부상(명)']].resample(rule = 'M').mean())\n",
    "plt.show()"
   ]
  },
  {
   "cell_type": "code",
   "execution_count": 203,
   "id": "a7008cb8",
   "metadata": {
    "ExecuteTime": {
     "end_time": "2023-12-22T08:32:24.889377Z",
     "start_time": "2023-12-22T08:32:24.880862Z"
    }
   },
   "outputs": [
    {
     "data": {
      "text/plain": [
       "array([ 8,  8,  4, 10,  9,  8,  7, 19, 10, 14,  3,  8], dtype=int64)"
      ]
     },
     "execution_count": 203,
     "metadata": {},
     "output_type": "execute_result"
    }
   ],
   "source": [
    "a = df.loc['2015']['사망(명)'].values\n",
    "a"
   ]
  },
  {
   "cell_type": "code",
   "execution_count": 204,
   "id": "5a551128",
   "metadata": {
    "ExecuteTime": {
     "end_time": "2023-12-22T08:32:28.738582Z",
     "start_time": "2023-12-22T08:32:28.730307Z"
    }
   },
   "outputs": [
    {
     "data": {
      "text/plain": [
       "array([ 5,  6,  7,  7, 13, 12,  9,  7, 13, 10,  5,  4], dtype=int64)"
      ]
     },
     "execution_count": 204,
     "metadata": {},
     "output_type": "execute_result"
    }
   ],
   "source": [
    "b = df.loc['2016']['사망(명)'].values\n",
    "b"
   ]
  },
  {
   "cell_type": "code",
   "execution_count": 205,
   "id": "27597e2a",
   "metadata": {
    "ExecuteTime": {
     "end_time": "2023-12-22T08:32:30.730305Z",
     "start_time": "2023-12-22T08:32:30.723133Z"
    }
   },
   "outputs": [
    {
     "data": {
      "text/plain": [
       "array([ -3,  -2,   3,  -3,   4,   4,   2, -12,   3,  -4,   2,  -4],\n",
       "      dtype=int64)"
      ]
     },
     "execution_count": 205,
     "metadata": {},
     "output_type": "execute_result"
    }
   ],
   "source": [
    "c = b-a\n",
    "c"
   ]
  },
  {
   "cell_type": "code",
   "execution_count": 209,
   "id": "4ca0c0b7",
   "metadata": {
    "ExecuteTime": {
     "end_time": "2023-12-22T08:33:43.674451Z",
     "start_time": "2023-12-22T08:33:43.666233Z"
    }
   },
   "outputs": [
    {
     "data": {
      "text/html": [
       "<div>\n",
       "<style scoped>\n",
       "    .dataframe tbody tr th:only-of-type {\n",
       "        vertical-align: middle;\n",
       "    }\n",
       "\n",
       "    .dataframe tbody tr th {\n",
       "        vertical-align: top;\n",
       "    }\n",
       "\n",
       "    .dataframe thead th {\n",
       "        text-align: right;\n",
       "    }\n",
       "</style>\n",
       "<table border=\"1\" class=\"dataframe\">\n",
       "  <thead>\n",
       "    <tr style=\"text-align: right;\">\n",
       "      <th></th>\n",
       "      <th>0</th>\n",
       "    </tr>\n",
       "  </thead>\n",
       "  <tbody>\n",
       "    <tr>\n",
       "      <th>1</th>\n",
       "      <td>-3</td>\n",
       "    </tr>\n",
       "    <tr>\n",
       "      <th>2</th>\n",
       "      <td>-2</td>\n",
       "    </tr>\n",
       "    <tr>\n",
       "      <th>3</th>\n",
       "      <td>3</td>\n",
       "    </tr>\n",
       "    <tr>\n",
       "      <th>4</th>\n",
       "      <td>-3</td>\n",
       "    </tr>\n",
       "    <tr>\n",
       "      <th>5</th>\n",
       "      <td>4</td>\n",
       "    </tr>\n",
       "    <tr>\n",
       "      <th>6</th>\n",
       "      <td>4</td>\n",
       "    </tr>\n",
       "    <tr>\n",
       "      <th>7</th>\n",
       "      <td>2</td>\n",
       "    </tr>\n",
       "    <tr>\n",
       "      <th>8</th>\n",
       "      <td>-12</td>\n",
       "    </tr>\n",
       "    <tr>\n",
       "      <th>9</th>\n",
       "      <td>3</td>\n",
       "    </tr>\n",
       "    <tr>\n",
       "      <th>10</th>\n",
       "      <td>-4</td>\n",
       "    </tr>\n",
       "    <tr>\n",
       "      <th>11</th>\n",
       "      <td>2</td>\n",
       "    </tr>\n",
       "    <tr>\n",
       "      <th>12</th>\n",
       "      <td>-4</td>\n",
       "    </tr>\n",
       "  </tbody>\n",
       "</table>\n",
       "</div>"
      ],
      "text/plain": [
       "     0\n",
       "1   -3\n",
       "2   -2\n",
       "3    3\n",
       "4   -3\n",
       "5    4\n",
       "6    4\n",
       "7    2\n",
       "8  -12\n",
       "9    3\n",
       "10  -4\n",
       "11   2\n",
       "12  -4"
      ]
     },
     "execution_count": 209,
     "metadata": {},
     "output_type": "execute_result"
    }
   ],
   "source": [
    "d = pd.DataFrame(c, index = range(1, 13))\n",
    "d"
   ]
  },
  {
   "cell_type": "code",
   "execution_count": 229,
   "id": "d4709ef5",
   "metadata": {
    "ExecuteTime": {
     "end_time": "2023-12-22T08:38:01.336153Z",
     "start_time": "2023-12-22T08:38:01.329632Z"
    }
   },
   "outputs": [
    {
     "data": {
      "text/plain": [
       "4"
      ]
     },
     "execution_count": 229,
     "metadata": {},
     "output_type": "execute_result"
    }
   ],
   "source": [
    "c.argmax() # 가장 높은 값의 인덱스를 반환"
   ]
  },
  {
   "cell_type": "code",
   "execution_count": 231,
   "id": "5af8f807",
   "metadata": {
    "ExecuteTime": {
     "end_time": "2023-12-22T08:38:18.737206Z",
     "start_time": "2023-12-22T08:38:18.728107Z"
    }
   },
   "outputs": [
    {
     "data": {
      "text/plain": [
       "array([ -3,  -2,   3,  -3,   4,   4,   2, -12,   3,  -4,   2,  -4],\n",
       "      dtype=int64)"
      ]
     },
     "execution_count": 231,
     "metadata": {},
     "output_type": "execute_result"
    }
   ],
   "source": [
    "result = (df.loc['2016', '사망(명)'].values \n",
    "                     - df.loc['2015', '사망(명)'].values)\n",
    "result"
   ]
  },
  {
   "cell_type": "code",
   "execution_count": null,
   "id": "294a1485",
   "metadata": {},
   "outputs": [],
   "source": []
  }
 ],
 "metadata": {
  "kernelspec": {
   "display_name": "Python 3 (ipykernel)",
   "language": "python",
   "name": "python3"
  },
  "language_info": {
   "codemirror_mode": {
    "name": "ipython",
    "version": 3
   },
   "file_extension": ".py",
   "mimetype": "text/x-python",
   "name": "python",
   "nbconvert_exporter": "python",
   "pygments_lexer": "ipython3",
   "version": "3.11.5"
  },
  "toc": {
   "base_numbering": 1,
   "nav_menu": {},
   "number_sections": true,
   "sideBar": true,
   "skip_h1_title": false,
   "title_cell": "Table of Contents",
   "title_sidebar": "Contents",
   "toc_cell": false,
   "toc_position": {},
   "toc_section_display": true,
   "toc_window_display": false
  }
 },
 "nbformat": 4,
 "nbformat_minor": 5
}
