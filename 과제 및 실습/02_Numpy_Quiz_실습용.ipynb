{
 "cells": [
  {
   "cell_type": "markdown",
   "id": "6f17d151",
   "metadata": {},
   "source": [
    "### Quiz"
   ]
  },
  {
   "cell_type": "markdown",
   "id": "822f98fc",
   "metadata": {},
   "source": [
    "#### Q1. 다음과 같은 리스트를 이용하여 넘파이 배열을 만들고\n",
    "전체 갯수, 차원, 데이터형, 구조를 출력하여라\n",
    "```\n",
    "\n",
    "['강아지', '원숭이', '꽃', '45', '100']\n",
    "\n",
    "array(['강아지', '원숭이', '꽃', '45', '100'], dtype='<U3')\n",
    "차원 ? 1\n",
    "전체 갯수 ? 5\n",
    "데이터형 ? <U3\n",
    "전체 구조  ? (5,)\n",
    "```"
   ]
  },
  {
   "cell_type": "code",
   "execution_count": 2,
   "id": "57a5c6c5-660c-4f82-99a1-a578a300f8cd",
   "metadata": {
    "ExecuteTime": {
     "end_time": "2023-12-18T04:49:03.339875Z",
     "start_time": "2023-12-18T04:49:03.191368Z"
    }
   },
   "outputs": [
    {
     "name": "stdout",
     "output_type": "stream",
     "text": [
      "차원 ? 1\n",
      "전체 갯수 ? 5\n",
      "데이터형 ? <U3\n",
      "전체 구조 ? (5,)\n"
     ]
    }
   ],
   "source": [
    "import numpy as np\n",
    "\n",
    "a = np.array(['강아지', '원숭이', '꽃', '45', '100'])\n",
    "\n",
    "\n",
    "print('차원 ?', a.ndim)\n",
    "print('전체 갯수 ?', len(a))\n",
    "print('데이터형 ?', a.dtype)\n",
    "print('전체 구조 ?', a.shape)"
   ]
  },
  {
   "cell_type": "markdown",
   "id": "e1cef698",
   "metadata": {},
   "source": [
    "#### Q2. np.ones()를 이용하여\n",
    "2행 3열의 넘파이 배열을 생성하여라\n",
    "\n",
    "array([[1., 1., 1.],\n",
    "       [1., 1., 1.]])"
   ]
  },
  {
   "cell_type": "code",
   "execution_count": 25,
   "id": "fc428147-8468-487e-96e3-21141f9dfe88",
   "metadata": {
    "ExecuteTime": {
     "end_time": "2023-12-17T06:11:02.201179Z",
     "start_time": "2023-12-17T06:11:02.194026Z"
    }
   },
   "outputs": [
    {
     "data": {
      "text/plain": [
       "array([[1., 1., 1.],\n",
       "       [1., 1., 1.]])"
      ]
     },
     "execution_count": 25,
     "metadata": {},
     "output_type": "execute_result"
    }
   ],
   "source": [
    "np.ones((2, 3))"
   ]
  },
  {
   "cell_type": "markdown",
   "id": "42c9b79e",
   "metadata": {},
   "source": [
    "#### Q3. np.arange(), np.reshape()를 이용하여\n",
    "다음과 같은 넘파이 배열을 생성하여라\n",
    "```\n",
    "array([[51, 52, 53, 54, 55],\n",
    "       [56, 57, 58, 59, 60],\n",
    "       [61, 62, 63, 64, 65],\n",
    "       [66, 67, 68, 69, 70],\n",
    "       [71, 72, 73, 74, 75],\n",
    "       [76, 77, 78, 79, 80]])\n",
    "```"
   ]
  },
  {
   "cell_type": "code",
   "execution_count": 34,
   "id": "f36d1318-abab-4e6a-8ba3-87e71b36d100",
   "metadata": {
    "ExecuteTime": {
     "end_time": "2023-12-17T06:13:11.800585Z",
     "start_time": "2023-12-17T06:13:11.793902Z"
    }
   },
   "outputs": [
    {
     "data": {
      "text/plain": [
       "array([[51, 52, 53, 54, 55],\n",
       "       [56, 57, 58, 59, 60],\n",
       "       [61, 62, 63, 64, 65],\n",
       "       [66, 67, 68, 69, 70],\n",
       "       [71, 72, 73, 74, 75],\n",
       "       [76, 77, 78, 79, 80]])"
      ]
     },
     "execution_count": 34,
     "metadata": {},
     "output_type": "execute_result"
    }
   ],
   "source": [
    "np.arange(51, 81).reshape(6, 5)"
   ]
  },
  {
   "cell_type": "markdown",
   "id": "6b0dd4b5",
   "metadata": {},
   "source": [
    "#### Q4. Q3의 넘파이 배열의 자료형을\n",
    "float로 변경하고 데이터형을 출력하여라\n",
    "```\n",
    "array([[51., 52., 53., 54., 55.],\n",
    "       [56., 57., 58., 59., 60.],\n",
    "       [61., 62., 63., 64., 65.],\n",
    "       [66., 67., 68., 69., 70.],\n",
    "       [71., 72., 73., 74., 75.],\n",
    "       [76., 77., 78., 79., 80.]])\n",
    "```\n",
    "-------------------------------------  \n",
    "\n",
    "dtype('float64')"
   ]
  },
  {
   "cell_type": "code",
   "execution_count": 5,
   "id": "200dc541-ca25-4797-a0e8-cec3aae25b4c",
   "metadata": {
    "ExecuteTime": {
     "end_time": "2023-12-18T05:22:46.305385Z",
     "start_time": "2023-12-18T05:22:46.294084Z"
    }
   },
   "outputs": [
    {
     "name": "stdout",
     "output_type": "stream",
     "text": [
      "[[51. 52. 53. 54. 55.]\n",
      " [56. 57. 58. 59. 60.]\n",
      " [61. 62. 63. 64. 65.]\n",
      " [66. 67. 68. 69. 70.]\n",
      " [71. 72. 73. 74. 75.]\n",
      " [76. 77. 78. 79. 80.]]\n",
      "float64\n"
     ]
    },
    {
     "data": {
      "text/plain": [
       "'\\narr = arr.astype(float)\\narr.dtype'"
      ]
     },
     "execution_count": 5,
     "metadata": {},
     "output_type": "execute_result"
    }
   ],
   "source": [
    "b = np.arange(51, 81, dtype = float).reshape(6, 5)\n",
    "print(b)\n",
    "print(b.dtype)\n",
    "'''\n",
    "arr = arr.astype(float)\n",
    "arr.dtype\n",
    "'''"
   ]
  },
  {
   "cell_type": "markdown",
   "id": "906cf1f4",
   "metadata": {},
   "source": [
    "#### Q5. 다음과 같이 넘파이 배열을 생성한 후 1차원 배열로 변경하고 슬라이싱하여라 \n",
    "\n",
    "```\n",
    "array([[ 1,  4,  5,  6],\n",
    "       [56, 23, 45, 67],\n",
    "       [ 8,  4,  6, 10]])\n",
    "       \n",
    "array([ 1,  4,  5,  6, 56, 23, 45, 67,  8,  4,  6, 10])\n",
    "\n",
    "\n",
    "array([23, 45, 67,  8,  4,  6])\n",
    "```       "
   ]
  },
  {
   "cell_type": "code",
   "execution_count": 51,
   "id": "90724111-e79d-4da8-a30f-bfa15e788f7e",
   "metadata": {
    "ExecuteTime": {
     "end_time": "2023-12-17T06:20:02.000640Z",
     "start_time": "2023-12-17T06:20:01.993463Z"
    }
   },
   "outputs": [
    {
     "data": {
      "text/plain": [
       "array([23, 45, 67,  8,  4,  6])"
      ]
     },
     "execution_count": 51,
     "metadata": {},
     "output_type": "execute_result"
    }
   ],
   "source": [
    "c = np.array([[1, 4, 5, 6], [56, 23, 45, 67], [8, 4, 6, 10]])\n",
    "c.shape = -1\n",
    "c[5:11]"
   ]
  },
  {
   "cell_type": "markdown",
   "id": "46e67feb",
   "metadata": {},
   "source": [
    "#### Q6. 다음과 같은 넘파이 배열을 생성한 후 아이템을 교체하여라 \n",
    "\n",
    "```\n",
    "array([ 1,  2,  3,  4,  5,  6,  7,  8,  9, 10])\n",
    "\n",
    "array([10,  2,  3,  4,  5,  6,  7,  0,  0,  0])\n",
    "\n",
    "```"
   ]
  },
  {
   "cell_type": "code",
   "execution_count": 56,
   "id": "c7cd6fbe-380b-4e29-98f8-902b110a7207",
   "metadata": {
    "ExecuteTime": {
     "end_time": "2023-12-17T06:22:38.495465Z",
     "start_time": "2023-12-17T06:22:38.489495Z"
    }
   },
   "outputs": [
    {
     "data": {
      "text/plain": [
       "array([10,  2,  3,  4,  5,  6,  7,  0,  0,  0])"
      ]
     },
     "execution_count": 56,
     "metadata": {},
     "output_type": "execute_result"
    }
   ],
   "source": [
    "d = np.arange(1, 11)\n",
    "d[0] = 10\n",
    "d\n",
    "d[7:] = 0\n",
    "d"
   ]
  },
  {
   "cell_type": "markdown",
   "id": "cf265b90",
   "metadata": {},
   "source": [
    "#### Q7. 2자리의 숫자로 구성된 넘파이 배열(5행5열)을 만들어라. 숫자는 난수를 이용한다. \n",
    "\n",
    "```\n",
    "[[63 85 71 67 15]\n",
    " [31 81 69 17 97]\n",
    " [25 41 33 23 39]\n",
    " [39 43 59 33 43]\n",
    " [23 51 65 91 23]]\n",
    "\n",
    "```"
   ]
  },
  {
   "cell_type": "code",
   "execution_count": 57,
   "id": "0520d5ad-2e3a-4aca-acc5-3f08a08845aa",
   "metadata": {
    "ExecuteTime": {
     "end_time": "2023-12-17T06:23:48.143530Z",
     "start_time": "2023-12-17T06:23:48.137698Z"
    }
   },
   "outputs": [
    {
     "data": {
      "text/plain": [
       "array([[68, 35, 12, 12, 17],\n",
       "       [97, 67, 46, 14, 11],\n",
       "       [22, 39, 82, 76, 63],\n",
       "       [32, 30, 57, 47, 23],\n",
       "       [49, 24, 58, 36, 75]])"
      ]
     },
     "execution_count": 57,
     "metadata": {},
     "output_type": "execute_result"
    }
   ],
   "source": [
    "e = np.random.randint(10, 100, (5, 5))\n",
    "e"
   ]
  },
  {
   "cell_type": "markdown",
   "id": "5c5ccecf",
   "metadata": {},
   "source": [
    "#### Q8. 1~100 사이의 정수중 7개의 숫자를 무작위로 추출한 후 가장 큰값과 가장 작은 값을 출력하여라.\n",
    "[91, 65, 14, 66, 65, 98, 34]\n",
    "\n",
    "max = 98\n",
    "min = 14"
   ]
  },
  {
   "cell_type": "code",
   "execution_count": 61,
   "id": "54209548-9daf-4b72-aec9-c6c8c60c7c13",
   "metadata": {
    "ExecuteTime": {
     "end_time": "2023-12-17T06:25:47.190272Z",
     "start_time": "2023-12-17T06:25:47.185176Z"
    }
   },
   "outputs": [
    {
     "name": "stdout",
     "output_type": "stream",
     "text": [
      "[74 17 60 12  2 32  6]\n",
      "max = 74\n",
      "min = 2\n"
     ]
    }
   ],
   "source": [
    "f = np.random.randint(1, 100, 7)\n",
    "print(f)\n",
    "print('max =', f.max())\n",
    "print('min =', f.min())"
   ]
  },
  {
   "cell_type": "markdown",
   "id": "24dcaa28",
   "metadata": {},
   "source": [
    "#### Q9. 다음과 같은 3개의 넘파이 배열을 생성한 후 다음과 같이 합쳐라\n",
    "```\n",
    "[[1, 2, 3],\n",
    " [4, 5, 6],\n",
    " [7, 8, 9]]\n",
    "\n",
    "\n",
    "[[11, 12, 13],\n",
    " [14, 15, 16],\n",
    " [17, 18, 19]]\n",
    "\n",
    "\n",
    "[[21, 22, 23],\n",
    " [24, 25, 26],\n",
    " [27, 28, 29]]\n",
    "```\n",
    " ----------\n",
    "  Result1 \n",
    "```\n",
    " [[ 1,  2,  3, 11, 12, 13, 21, 22, 23],\n",
    "  [ 4,  5,  6, 14, 15, 16, 24, 25, 26],\n",
    "  [ 7,  8,  9, 17, 18, 19, 27, 28, 29]] \n",
    "```\n",
    "\n",
    "  ----------\n",
    "  Result2\n",
    "```\n",
    " [[ 1,  2,  3],\n",
    "  [ 4,  5,  6],\n",
    "  [ 7,  8,  9],\n",
    "  [11, 12, 13],\n",
    "  [14, 15, 16],\n",
    "  [17, 18, 19],\n",
    "  [21, 22, 23],\n",
    "  [24, 25, 26],\n",
    "  [27, 28, 29]]\n",
    "```"
   ]
  },
  {
   "cell_type": "code",
   "execution_count": 80,
   "id": "a0442d46-bff4-4b28-b7ff-65ddffd05292",
   "metadata": {
    "ExecuteTime": {
     "end_time": "2023-12-17T06:35:51.897362Z",
     "start_time": "2023-12-17T06:35:51.888867Z"
    }
   },
   "outputs": [
    {
     "name": "stdout",
     "output_type": "stream",
     "text": [
      "Result1 [[ 1  2  3 11 12 13 21 22 23]\n",
      " [ 4  5  6 14 15 16 24 25 26]\n",
      " [ 7  8  9 17 18 19 27 28 29]]\n",
      "Result2 [[ 1  2  3]\n",
      " [ 4  5  6]\n",
      " [ 7  8  9]\n",
      " [11 12 13]\n",
      " [14 15 16]\n",
      " [17 18 19]\n",
      " [21 22 23]\n",
      " [24 25 26]\n",
      " [27 28 29]]\n"
     ]
    }
   ],
   "source": [
    "a1 = np.arange(1, 10).reshape(3, 3)\n",
    "a2 = np.arange(11, 20).reshape(3, 3)\n",
    "a3 = np.arange(21, 30).reshape(3, 3)\n",
    "\n",
    "result1 = np.hstack((a1, a2, a3))\n",
    "print('Result1', result1)\n",
    "result2 = np.vstack((a1, a2, a3))\n",
    "print('Result2', result2)"
   ]
  },
  {
   "cell_type": "markdown",
   "id": "2d8638be",
   "metadata": {},
   "source": [
    "#### Q10. 아래와 같이 넘파이 배열을 생성한 후 50보다 큰 숫자만 필터링하여라. \n",
    "\n",
    "```\n",
    "arr = np.random.choice(100, 40, replace=False)\n",
    "\n",
    "Before => \n",
    "\n",
    "[40, 63,  8,  2, 35, 84, 72, 48, 78, 86, 87, 58,  0, 49, 14, 55, 11,\n",
    "       73, 39, 26, 75, 27, 99, 46, 25, 22, 34, 83, 24, 47, 31, 57, 62, 19,\n",
    "       36, 15, 17, 10, 98, 90]\n",
    "\n",
    "After =>\n",
    "\n",
    "[63, 84, 72, 78, 86, 87, 58, 55, 73, 75, 99, 83, 57, 62, 98, 90]\n",
    "\n",
    "```"
   ]
  },
  {
   "cell_type": "code",
   "execution_count": 82,
   "id": "03c22039-7e21-48fd-9cba-bec220da6ee2",
   "metadata": {
    "ExecuteTime": {
     "end_time": "2023-12-17T06:42:27.806289Z",
     "start_time": "2023-12-17T06:42:27.801283Z"
    }
   },
   "outputs": [
    {
     "name": "stdout",
     "output_type": "stream",
     "text": [
      "[89 76 56 99 97 79 94 52 54 96 59 61 67 66 83 85 92 68 77 62 80]\n"
     ]
    }
   ],
   "source": [
    "# 중복 없이, 100까지 숫자 중 40개를 추출 가능, randint는 중복 생김\n",
    "arr = np.random.choice(100, 40, replace = False)\n",
    "after_arr= arr[arr > 50]\n",
    "print(after_arr)"
   ]
  },
  {
   "cell_type": "markdown",
   "id": "249ef810",
   "metadata": {},
   "source": [
    "#### Quiz 11\n",
    "```\n",
    "kor = np.array( [60,55,70,30,20,90])\n",
    "1. 국어점수가 가장큰값을 구하여라\n",
    "2. 국어점수가 80점이상인 값을 구하여라\n",
    "3. 국어 점수가 50점이상 80점 이하인 값을 구하여라\n",
    "4. 국어점수의 평균을 구하여라\n",
    "5. 국어점수의 총합을 구하여라.\n",
    "6. 국어점수가 40점이하인 데이터를 삭제하여라\n",
    "7. 국어점수가 50점이상인 데이터에 가산점 10%를 부여하여라\n",
    "8. 국어점수 top 3를 구하여라\n",
    "9. 국어점수가 70점이상이면 '합격' , 아니면 '불합격으로' 아래와 같이 출력하시요\n",
    "\n",
    "60 '불합격'\n",
    "55 '불합격'\n",
    "```"
   ]
  },
  {
   "cell_type": "code",
   "execution_count": 6,
   "id": "306a7066-dc57-4935-bfcb-56c3c1bf3080",
   "metadata": {
    "ExecuteTime": {
     "end_time": "2023-12-18T05:32:25.821337Z",
     "start_time": "2023-12-18T05:32:25.812899Z"
    }
   },
   "outputs": [
    {
     "name": "stdout",
     "output_type": "stream",
     "text": [
      "90\n",
      "[90]\n",
      "[60 55 70]\n",
      "54.166666666666664\n",
      "325\n",
      "[60 55 70 90]\n",
      "[66.  60.5 77.  99. ]\n",
      "[66.  60.5 77.  30.  20.  99. ]\n",
      "[60 70 90]\n"
     ]
    }
   ],
   "source": [
    "kor = np.array([60, 55, 70, 30, 20, 90])\n",
    "print(kor.max())\n",
    "print(kor[kor >= 80])\n",
    "print(kor[(kor >= 50) & (kor <= 80)])\n",
    "print(np.mean(kor))\n",
    "print(np.sum(kor))\n",
    "print(kor[kor > 40])\n",
    "print(kor[kor >= 50] * 1.1)\n",
    "print(np.where(kor >=50, kor * 1.1, kor))\n",
    "print(np.sort(kor)[-3:])"
   ]
  },
  {
   "cell_type": "code",
   "execution_count": 98,
   "id": "e7e54c01",
   "metadata": {
    "ExecuteTime": {
     "end_time": "2023-12-17T06:55:12.718120Z",
     "start_time": "2023-12-17T06:55:12.713107Z"
    }
   },
   "outputs": [
    {
     "name": "stdout",
     "output_type": "stream",
     "text": [
      "60\n",
      "불합격\n",
      "55\n",
      "불합격\n",
      "70\n",
      "합격\n",
      "30\n",
      "불합격\n",
      "20\n",
      "불합격\n",
      "90\n",
      "합격\n"
     ]
    }
   ],
   "source": [
    "for i in kor :\n",
    "    print(i)\n",
    "    if i >= 70 :\n",
    "        print('합격')\n",
    "    else : \n",
    "        print('불합격')"
   ]
  },
  {
   "cell_type": "code",
   "execution_count": 8,
   "id": "ddbb4615",
   "metadata": {
    "ExecuteTime": {
     "end_time": "2023-12-18T05:34:10.075245Z",
     "start_time": "2023-12-18T05:34:10.069902Z"
    }
   },
   "outputs": [
    {
     "name": "stdout",
     "output_type": "stream",
     "text": [
      "['불합격' '불합격' '합격' '불합격' '불합격' '합격']\n"
     ]
    }
   ],
   "source": [
    "print(np.where(kor >= 70, '합격', '불합격'))"
   ]
  },
  {
   "cell_type": "code",
   "execution_count": null,
   "id": "507049b5",
   "metadata": {},
   "outputs": [],
   "source": []
  }
 ],
 "metadata": {
  "kernelspec": {
   "display_name": "Python 3 (ipykernel)",
   "language": "python",
   "name": "python3"
  },
  "language_info": {
   "codemirror_mode": {
    "name": "ipython",
    "version": 3
   },
   "file_extension": ".py",
   "mimetype": "text/x-python",
   "name": "python",
   "nbconvert_exporter": "python",
   "pygments_lexer": "ipython3",
   "version": "3.11.5"
  },
  "toc": {
   "base_numbering": 1,
   "nav_menu": {},
   "number_sections": true,
   "sideBar": true,
   "skip_h1_title": false,
   "title_cell": "Table of Contents",
   "title_sidebar": "Contents",
   "toc_cell": false,
   "toc_position": {
    "height": "calc(100% - 180px)",
    "left": "10px",
    "top": "150px",
    "width": "232px"
   },
   "toc_section_display": true,
   "toc_window_display": true
  },
  "varInspector": {
   "cols": {
    "lenName": 16,
    "lenType": 16,
    "lenVar": 40
   },
   "kernels_config": {
    "python": {
     "delete_cmd_postfix": "",
     "delete_cmd_prefix": "del ",
     "library": "var_list.py",
     "varRefreshCmd": "print(var_dic_list())"
    },
    "r": {
     "delete_cmd_postfix": ") ",
     "delete_cmd_prefix": "rm(",
     "library": "var_list.r",
     "varRefreshCmd": "cat(var_dic_list()) "
    }
   },
   "types_to_exclude": [
    "module",
    "function",
    "builtin_function_or_method",
    "instance",
    "_Feature"
   ],
   "window_display": false
  }
 },
 "nbformat": 4,
 "nbformat_minor": 5
}
