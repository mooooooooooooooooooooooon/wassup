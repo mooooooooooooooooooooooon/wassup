{
 "cells": [
  {
   "cell_type": "markdown",
   "metadata": {
    "id": "--4OkJRjoPgo"
   },
   "source": [
    "# 전화번호 프로그램 만들기\n",
    "\n",
    "* 홍길동 010-123-4567\n",
    "* 기능1 : 연락처 추가\n",
    "* 기능2 : 연락처 전체 보기\n",
    "* 기능3 : 검색, 이름을 입력받아서 전화번호 조회\n",
    "* 기능4 : 수정, 이름을 입력받아서 전화번호 입력수정\n",
    "* 기능5 : 삭제, 이름 입력받아서 삭제\n",
    "* 기능6 : 프로그램 종료"
   ]
  },
  {
   "cell_type": "code",
   "execution_count": 58,
   "metadata": {
    "ExecuteTime": {
     "end_time": "2023-11-29T02:09:16.484867Z",
     "start_time": "2023-11-29T02:08:15.933121Z"
    },
    "id": "bNves5CLoPgs"
   },
   "outputs": [
    {
     "name": "stdout",
     "output_type": "stream",
     "text": [
      "\n",
      "1. 연락처 추가\n",
      "2. 연락처 전체보기\n",
      "3. 검색\n",
      "4. 수정\n",
      "5. 삭제\n",
      "6. 종료\n",
      "\n",
      "Enter number : \n",
      "1\n",
      "이름을 입력해주세요\n",
      "문석민\n",
      "연락처를 입력해주세요\n",
      "1111\n",
      "요청하신 문석민의 연락처를 1111로 추가하였습니다.\n",
      "\n",
      "1. 연락처 추가\n",
      "2. 연락처 전체보기\n",
      "3. 검색\n",
      "4. 수정\n",
      "5. 삭제\n",
      "6. 종료\n",
      "\n",
      "Enter number : \n",
      "2\n",
      "전체 연락처:\n",
      "문석민: 1111\n",
      "\n",
      "1. 연락처 추가\n",
      "2. 연락처 전체보기\n",
      "3. 검색\n",
      "4. 수정\n",
      "5. 삭제\n",
      "6. 종료\n",
      "\n",
      "Enter number : \n",
      "3\n",
      "검색할 연락처의 이름을 입력해주세요\n",
      "문석민\n",
      "검색하신 이름의 연락처는 1111 입니다.\n",
      "\n",
      "1. 연락처 추가\n",
      "2. 연락처 전체보기\n",
      "3. 검색\n",
      "4. 수정\n",
      "5. 삭제\n",
      "6. 종료\n",
      "\n",
      "Enter number : \n",
      "4\n",
      "수정할 연락처의 이름을 입력해주세요\n",
      "문석민\n",
      "수정할 전화번호를 입력해주세요\n",
      "2222\n",
      "요청하신 문석민의 연락처를 2222로 수정하였습니다.\n",
      "\n",
      "1. 연락처 추가\n",
      "2. 연락처 전체보기\n",
      "3. 검색\n",
      "4. 수정\n",
      "5. 삭제\n",
      "6. 종료\n",
      "\n",
      "Enter number : \n",
      "5\n",
      "삭제할 연락처의 이름을 입력해주세요\n",
      "문석민\n",
      "요청하신 문석민의 연락처를 삭제하였습니다.\n",
      "\n",
      "1. 연락처 추가\n",
      "2. 연락처 전체보기\n",
      "3. 검색\n",
      "4. 수정\n",
      "5. 삭제\n",
      "6. 종료\n",
      "\n",
      "Enter number : \n",
      "2\n",
      "전체 연락처:\n",
      "\n",
      "1. 연락처 추가\n",
      "2. 연락처 전체보기\n",
      "3. 검색\n",
      "4. 수정\n",
      "5. 삭제\n",
      "6. 종료\n",
      "\n",
      "Enter number : \n",
      "1\n",
      "이름을 입력해주세요\n",
      "문석민\n",
      "연락처를 입력해주세요\n",
      "1111\n",
      "요청하신 문석민의 연락처를 1111로 추가하였습니다.\n",
      "\n",
      "1. 연락처 추가\n",
      "2. 연락처 전체보기\n",
      "3. 검색\n",
      "4. 수정\n",
      "5. 삭제\n",
      "6. 종료\n",
      "\n",
      "Enter number : \n",
      "1\n",
      "이름을 입력해주세요\n",
      "가나다\n",
      "연락처를 입력해주세요\n",
      "2222\n",
      "요청하신 가나다의 연락처를 2222로 추가하였습니다.\n",
      "\n",
      "1. 연락처 추가\n",
      "2. 연락처 전체보기\n",
      "3. 검색\n",
      "4. 수정\n",
      "5. 삭제\n",
      "6. 종료\n",
      "\n",
      "Enter number : \n",
      "2\n",
      "전체 연락처:\n",
      "문석민: 1111\n",
      "가나다: 2222\n",
      "\n",
      "1. 연락처 추가\n",
      "2. 연락처 전체보기\n",
      "3. 검색\n",
      "4. 수정\n",
      "5. 삭제\n",
      "6. 종료\n",
      "\n",
      "Enter number : \n",
      "6\n",
      "시스템을 종료합니다.\n"
     ]
    }
   ],
   "source": [
    "전화번호부 = {} ## 전화번호부 리셋\n",
    "\n",
    "prompt = \"\"\"\n",
    "1. 연락처 추가\n",
    "2. 연락처 전체보기\n",
    "3. 검색\n",
    "4. 수정\n",
    "5. 삭제\n",
    "6. 종료\n",
    "\n",
    "Enter number : \"\"\"\n",
    "\n",
    "prompt\n",
    "\n",
    "number = 0\n",
    "while number != 6 :\n",
    "    print(prompt)\n",
    "    number = int(input())\n",
    "    if number == 1 :\n",
    "        print('이름을 입력해주세요')\n",
    "        이름 = input()\n",
    "        print('연락처를 입력해주세요')\n",
    "        연락처 = input()\n",
    "        전화번호부[이름]=연락처\n",
    "        # = contact.setdefault(이름, 연락처)\n",
    "        print(f'요청하신 {이름}의 연락처를 {연락처}로 추가하였습니다.')\n",
    "\n",
    "        ### 기능 1 : 연락처 추가\n",
    "    \n",
    "    elif number == 2 :\n",
    "        print(\"전체 연락처:\")\n",
    "        for 이름, 연락처 in 전화번호부.items():\n",
    "            print(f'{이름}: {연락처}')\n",
    "        \n",
    "        ### 기능 2 : 연락처 전체 보기\n",
    "    \n",
    "    elif number == 3 :\n",
    "        print('검색할 연락처의 이름을 입력해주세요')\n",
    "        검색어 = input()\n",
    "        if 검색어 in 전화번호부 :\n",
    "            print(f'검색하신 이름의 연락처는 {전화번호부[검색어]} 입니다.')\n",
    "        else : \n",
    "            print('연락처가 등록되지 않았습니다.')\n",
    "            \n",
    "        ### 기능 3 : 전화번호 조회\n",
    "    \n",
    "    elif number == 4 :\n",
    "        print('수정할 연락처의 이름을 입력해주세요')\n",
    "        검색어 = input()\n",
    "        print('수정할 전화번호를 입력해주세요')\n",
    "        전화번호 = input()\n",
    "        if 검색어 in 전화번호부 :\n",
    "            전화번호부[검색어] = 전화번호\n",
    "            print(f'요청하신 {검색어}의 연락처를 {전화번호}로 수정하였습니다.')\n",
    "        else :\n",
    "            print('연락처가 등록되지 않았습니다.')\n",
    "            \n",
    "        ### 기능 4 : 전화번호 수정\n",
    "        \n",
    "    elif number == 5 :\n",
    "        print('삭제할 연락처의 이름을 입력해주세요')\n",
    "        검색어 = input()\n",
    "        if 검색어 in 전화번호부 :\n",
    "            del 전화번호부[검색어]\n",
    "            print(f'요청하신 {검색어}의 연락처를 삭제하였습니다.')\n",
    "        else :\n",
    "            print('연락처가 등록되지 않았습니다.')\n",
    "            \n",
    "        ### 기능 5 : 전화번호 삭제\n",
    "    else :\n",
    "        print('시스템을 종료합니다.')"
   ]
  },
  {
   "cell_type": "code",
   "execution_count": 55,
   "metadata": {
    "ExecuteTime": {
     "end_time": "2023-11-29T02:04:11.042973Z",
     "start_time": "2023-11-29T02:04:11.036730Z"
    }
   },
   "outputs": [
    {
     "data": {
      "text/plain": [
       "{'문석민': '1111'}"
      ]
     },
     "execution_count": 55,
     "metadata": {},
     "output_type": "execute_result"
    }
   ],
   "source": [
    "전화번호부"
   ]
  },
  {
   "cell_type": "code",
   "execution_count": 24,
   "metadata": {
    "ExecuteTime": {
     "end_time": "2023-11-29T01:19:01.365531Z",
     "start_time": "2023-11-29T01:18:54.306376Z"
    },
    "id": "J3B08XTroX4b"
   },
   "outputs": [
    {
     "name": "stdout",
     "output_type": "stream",
     "text": [
      "이름을 입력해주세요\n",
      "가나다\n",
      "연락처를 입력해주세요\n",
      "010-3533-3535\n"
     ]
    },
    {
     "data": {
      "text/plain": [
       "{'이름': '010-2222-3333', '문석민': '010-1111-1111', '가나다': '010-3533-3535'}"
      ]
     },
     "execution_count": 24,
     "metadata": {},
     "output_type": "execute_result"
    }
   ],
   "source": [
    "print('이름을 입력해주세요')\n",
    "이름 = input()\n",
    "print('연락처를 입력해주세요')\n",
    "연락처 = input()\n",
    "전화번호부[이름]=연락처\n",
    "\n",
    "### 기능 1 : 연락처 추가\n",
    "\n",
    "전화번호부\n",
    "\n",
    "### 기능 2 : 연락처 전체 보기"
   ]
  },
  {
   "cell_type": "code",
   "execution_count": 30,
   "metadata": {
    "ExecuteTime": {
     "end_time": "2023-11-29T01:45:09.122463Z",
     "start_time": "2023-11-29T01:45:06.912009Z"
    }
   },
   "outputs": [
    {
     "name": "stdout",
     "output_type": "stream",
     "text": [
      "검색할 연락처의 이름을 입력해주세요\n",
      "이름\n",
      "검색하신 이름의 연락처는 010-2222-3333 입니다.\n"
     ]
    }
   ],
   "source": [
    "print('검색할 연락처의 이름을 입력해주세요')\n",
    "검색어 = input()\n",
    "if 검색어 in 전화번호부 :\n",
    "    print(f'검색하신 이름의 연락처는 {전화번호부[검색어]} 입니다.')\n",
    "    \n",
    "### 기능 3 : 전화번호 조회"
   ]
  },
  {
   "cell_type": "code",
   "execution_count": 31,
   "metadata": {
    "ExecuteTime": {
     "end_time": "2023-11-29T01:47:28.089063Z",
     "start_time": "2023-11-29T01:47:20.454815Z"
    }
   },
   "outputs": [
    {
     "name": "stdout",
     "output_type": "stream",
     "text": [
      "수정할 연락처의 이름을 입력해주세요\n",
      "이름\n",
      "수정할 전화번호를 입력해주세요\n",
      "010-1111-3333\n",
      "요청하신 이름의 연락처를 010-1111-3333로 수정하였습니다.\n"
     ]
    }
   ],
   "source": [
    "print('수정할 연락처의 이름을 입력해주세요')\n",
    "검색어 = input()\n",
    "print('수정할 전화번호를 입력해주세요')\n",
    "전화번호 = input()\n",
    "if 검색어 in 전화번호부 :\n",
    "    전화번호부[검색어] = 전화번호\n",
    "    print(f'요청하신 {검색어}의 연락처를 {전화번호}로 수정하였습니다.')\n",
    "    \n",
    "### 기능 4 : 전화번호 수정"
   ]
  },
  {
   "cell_type": "code",
   "execution_count": 32,
   "metadata": {
    "ExecuteTime": {
     "end_time": "2023-11-29T01:47:36.229990Z",
     "start_time": "2023-11-29T01:47:36.223748Z"
    }
   },
   "outputs": [
    {
     "data": {
      "text/plain": [
       "{'이름': '010-1111-3333', '문석민': '010-1111-1111', '가나다': '010-3533-3535'}"
      ]
     },
     "execution_count": 32,
     "metadata": {},
     "output_type": "execute_result"
    }
   ],
   "source": [
    "전화번호부"
   ]
  },
  {
   "cell_type": "code",
   "execution_count": 33,
   "metadata": {
    "ExecuteTime": {
     "end_time": "2023-11-29T01:48:30.704492Z",
     "start_time": "2023-11-29T01:48:26.511684Z"
    }
   },
   "outputs": [
    {
     "name": "stdout",
     "output_type": "stream",
     "text": [
      "삭제할 연락처의 이름을 입력해주세요\n",
      "이름\n"
     ]
    }
   ],
   "source": [
    "print('삭제할 연락처의 이름을 입력해주세요')\n",
    "검색어 = input()\n",
    "if 검색어 in 전화번호부 :\n",
    "    del 전화번호부[검색어]\n",
    "    print(f'요청하신 {검색어}의 연락처를 삭제하였습니다.')\n",
    "    \n",
    "### 기능 5 : 전화번호 삭제"
   ]
  },
  {
   "cell_type": "code",
   "execution_count": 34,
   "metadata": {
    "ExecuteTime": {
     "end_time": "2023-11-29T01:48:36.668779Z",
     "start_time": "2023-11-29T01:48:36.663141Z"
    }
   },
   "outputs": [
    {
     "data": {
      "text/plain": [
       "{'문석민': '010-1111-1111', '가나다': '010-3533-3535'}"
      ]
     },
     "execution_count": 34,
     "metadata": {},
     "output_type": "execute_result"
    }
   ],
   "source": [
    "전화번호부"
   ]
  },
  {
   "cell_type": "code",
   "execution_count": null,
   "metadata": {},
   "outputs": [],
   "source": []
  }
 ],
 "metadata": {
  "colab": {
   "provenance": []
  },
  "kernelspec": {
   "display_name": "Python 3 (ipykernel)",
   "language": "python",
   "name": "python3"
  },
  "language_info": {
   "codemirror_mode": {
    "name": "ipython",
    "version": 3
   },
   "file_extension": ".py",
   "mimetype": "text/x-python",
   "name": "python",
   "nbconvert_exporter": "python",
   "pygments_lexer": "ipython3",
   "version": "3.11.5"
  },
  "toc": {
   "base_numbering": 1,
   "nav_menu": {},
   "number_sections": true,
   "sideBar": true,
   "skip_h1_title": false,
   "title_cell": "Table of Contents",
   "title_sidebar": "Contents",
   "toc_cell": false,
   "toc_position": {},
   "toc_section_display": true,
   "toc_window_display": false
  },
  "varInspector": {
   "cols": {
    "lenName": 16,
    "lenType": 16,
    "lenVar": 40
   },
   "kernels_config": {
    "python": {
     "delete_cmd_postfix": "",
     "delete_cmd_prefix": "del ",
     "library": "var_list.py",
     "varRefreshCmd": "print(var_dic_list())"
    },
    "r": {
     "delete_cmd_postfix": ") ",
     "delete_cmd_prefix": "rm(",
     "library": "var_list.r",
     "varRefreshCmd": "cat(var_dic_list()) "
    }
   },
   "types_to_exclude": [
    "module",
    "function",
    "builtin_function_or_method",
    "instance",
    "_Feature"
   ],
   "window_display": false
  }
 },
 "nbformat": 4,
 "nbformat_minor": 1
}
